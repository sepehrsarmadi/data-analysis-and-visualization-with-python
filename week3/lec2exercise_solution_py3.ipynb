{
 "cells": [
  {
   "cell_type": "markdown",
   "metadata": {
    "internals": {
     "slide_helper": "subslide_end",
     "slide_type": "subslide"
    },
    "slide_helper": "slide_end",
    "slideshow": {
     "slide_type": "slide"
    }
   },
   "source": [
    "# Part1: Class"
   ]
  },
  {
   "cell_type": "markdown",
   "metadata": {
    "internals": {
     "slide_type": "subslide"
    },
    "slideshow": {
     "slide_type": "slide"
    }
   },
   "source": [
    "(1) Define a new class named **Coordinate**, which is used to represent a  2D coordinate system. Initialize two attributes *x* and *y* when create a object."
   ]
  },
  {
   "cell_type": "code",
   "execution_count": null,
   "metadata": {
    "collapsed": false,
    "internals": {},
    "slideshow": {
     "slide_type": "-"
    }
   },
   "outputs": [],
   "source": [
    "class Coordinate():\n",
    "    \n",
    "    def __init__(self,x,y):\n",
    "        self.x=x\n",
    "        self.y=y"
   ]
  },
  {
   "cell_type": "markdown",
   "metadata": {
    "internals": {},
    "slideshow": {
     "slide_type": "-"
    }
   },
   "source": [
    "Here are some tests:"
   ]
  },
  {
   "cell_type": "code",
   "execution_count": null,
   "metadata": {
    "collapsed": false,
    "internals": {},
    "slideshow": {
     "slide_type": "-"
    }
   },
   "outputs": [],
   "source": [
    "coor1 = Coordinate(2, 3)\n",
    "print (coor1.x) # 2\n",
    "print (coor1.y) # 3"
   ]
  },
  {
   "cell_type": "code",
   "execution_count": null,
   "metadata": {
    "collapsed": false,
    "internals": {
     "slide_helper": "subslide_end"
    },
    "slide_helper": "slide_end",
    "slideshow": {
     "slide_type": "-"
    }
   },
   "outputs": [],
   "source": [
    "coor1 = Coordinate(-5, 15)\n",
    "print (coor1.x) # -5\n",
    "print (coor1.y) # 15"
   ]
  },
  {
   "cell_type": "markdown",
   "metadata": {
    "internals": {
     "slide_type": "subslide"
    },
    "slideshow": {
     "slide_type": "slide"
    }
   },
   "source": [
    "(2) Add two methods for the class **Coordinate**:\n",
    "    - getX(): return the attribute x\n",
    "    - getY(): return the attribute y."
   ]
  },
  {
   "cell_type": "code",
   "execution_count": null,
   "metadata": {
    "collapsed": false,
    "internals": {},
    "slideshow": {
     "slide_type": "-"
    }
   },
   "outputs": [],
   "source": [
    "class Coordinate():\n",
    "    \n",
    "    def __init__(self,x,y):\n",
    "        self.x=x\n",
    "        self.y=y\n",
    "        \n",
    "    def getX(self):\n",
    "        return self.x\n",
    "    \n",
    "    def getY(self):\n",
    "        return self.y"
   ]
  },
  {
   "cell_type": "markdown",
   "metadata": {
    "internals": {},
    "slideshow": {
     "slide_type": "-"
    }
   },
   "source": [
    "Here are some tests:"
   ]
  },
  {
   "cell_type": "code",
   "execution_count": null,
   "metadata": {
    "collapsed": false,
    "internals": {},
    "slideshow": {
     "slide_type": "-"
    }
   },
   "outputs": [],
   "source": [
    "coor1 = Coordinate(2, 3)\n",
    "print coor1.getX() # 2\n",
    "print coor1.getY() # 3"
   ]
  },
  {
   "cell_type": "code",
   "execution_count": null,
   "metadata": {
    "collapsed": false,
    "internals": {
     "slide_helper": "subslide_end"
    },
    "slide_helper": "slide_end",
    "slideshow": {
     "slide_type": "-"
    }
   },
   "outputs": [],
   "source": [
    "coor1 = Coordinate(-5, 15)\n",
    "print coor1.getX() # -5\n",
    "print coor1.getY() # 15"
   ]
  },
  {
   "cell_type": "markdown",
   "metadata": {
    "internals": {
     "slide_type": "subslide"
    },
    "slideshow": {
     "slide_type": "slide"
    }
   },
   "source": [
    "(3) Add a `__str__` method for class **Coordinate**, so that when print a Coordinate object return its x value and y value."
   ]
  },
  {
   "cell_type": "code",
   "execution_count": null,
   "metadata": {
    "collapsed": false,
    "internals": {},
    "slideshow": {
     "slide_type": "-"
    }
   },
   "outputs": [],
   "source": [
    "class Coordinate():\n",
    "    \n",
    "    def __init__(self,x,y):\n",
    "        self.x=x\n",
    "        self.y=y\n",
    "        \n",
    "    def getX(self):\n",
    "        return self.x\n",
    "    \n",
    "    def getY(self):\n",
    "        return self.y\n",
    "    \n",
    "    def __str__(self):\n",
    "        return \"x=\"+str(self.x)+\" y=\"+str(self.y)"
   ]
  },
  {
   "cell_type": "markdown",
   "metadata": {
    "internals": {},
    "slideshow": {
     "slide_type": "-"
    }
   },
   "source": [
    "Here are some tests:"
   ]
  },
  {
   "cell_type": "code",
   "execution_count": null,
   "metadata": {
    "collapsed": false,
    "internals": {},
    "slideshow": {
     "slide_type": "-"
    }
   },
   "outputs": [],
   "source": [
    "coor1 = Coordinate(2, 3)\n",
    "print (coor1) # <2,3>"
   ]
  },
  {
   "cell_type": "code",
   "execution_count": null,
   "metadata": {
    "collapsed": false,
    "internals": {
     "slide_helper": "subslide_end"
    },
    "slide_helper": "slide_end",
    "slideshow": {
     "slide_type": "-"
    }
   },
   "outputs": [],
   "source": [
    "coor2 = Coordinate(-5, 15)\n",
    "print( coor2) # <-5,15>"
   ]
  },
  {
   "cell_type": "markdown",
   "metadata": {
    "internals": {
     "slide_type": "subslide"
    },
    "slideshow": {
     "slide_type": "slide"
    }
   },
   "source": [
    "(4) Add a `__eq__` method for class Coordinate. Given two Coordinate object, return `True` if their x and y are all equal, otherwise return `False`."
   ]
  },
  {
   "cell_type": "code",
   "execution_count": null,
   "metadata": {
    "collapsed": false,
    "internals": {},
    "slideshow": {
     "slide_type": "-"
    }
   },
   "outputs": [],
   "source": [
    "class Coordinate():\n",
    "    \n",
    "    def __init__(self,x,y):\n",
    "        self.x=x\n",
    "        self.y=y\n",
    "        \n",
    "    def getX(self):\n",
    "        return self.x\n",
    "    \n",
    "    def getY(self):\n",
    "        return self.y\n",
    "    \n",
    "    def __str__(self):\n",
    "        return \"x=\"+str(self.x)+\" y=\"+str(self.y)\n",
    "    \n",
    "    def __eq__(self,other):\n",
    "        return self.x==other.x and self.y==other.y"
   ]
  },
  {
   "cell_type": "markdown",
   "metadata": {
    "internals": {},
    "slideshow": {
     "slide_type": "-"
    }
   },
   "source": [
    "Here are some tests:"
   ]
  },
  {
   "cell_type": "code",
   "execution_count": null,
   "metadata": {
    "collapsed": false,
    "internals": {},
    "slideshow": {
     "slide_type": "-"
    }
   },
   "outputs": [],
   "source": [
    "coor1 = Coordinate(2, 3)\n",
    "coor2 = Coordinate(-5, 15)\n",
    "coor3 = Coordinate(2.0, 3)\n",
    "coor4 = Coordinate(-5, 15.0)\n",
    "print (coor1.__eq__(coor2)) # False\n",
    "print (coor1.__eq__(coor3)) # True\n",
    "print (coor2.__eq__(coor3)) # False\n",
    "print (coor2.__eq__(coor4)) # True\n",
    "print (coor1.__eq__(coor4)) # False"
   ]
  },
  {
   "cell_type": "markdown",
   "metadata": {
    "internals": {},
    "slideshow": {
     "slide_type": "-"
    }
   },
   "source": [
    "Given two Coordinate objects `obj1` and `obj2`, `obj1.__eq__(obj2)` is equivalent to `obj1 == obj2`. \n",
    "\n",
    "When print an object, the `__str__` method is called, when `==` is used to compare two objects, the `__eq__` method is called.\n",
    "\n",
    "So the following codes return exactly the same results."
   ]
  },
  {
   "cell_type": "code",
   "execution_count": null,
   "metadata": {
    "collapsed": false,
    "internals": {
     "slide_helper": "subslide_end"
    },
    "slide_helper": "slide_end",
    "slideshow": {
     "slide_type": "-"
    }
   },
   "outputs": [],
   "source": [
    "print (coor1 == coor2) # False\n",
    "print (coor1 == coor3) # True\n",
    "print (coor2 == coor3) # False\n",
    "print (coor2 == coor4) # True\n",
    "print (coor1 == coor4) # False"
   ]
  },
  {
   "cell_type": "markdown",
   "metadata": {
    "internals": {
     "slide_type": "subslide"
    },
    "slideshow": {
     "slide_type": "slide"
    }
   },
   "source": [
    "(5) Add a `__add__` method for class Coordinate. Given two Coordinate object obj1 and obj2, `obj1.__add__(obj2)` return a new Coordinate object whose x is the sum of `obj1.x` and `obj2.x`, and y is the sum of `obj1.y` and `obj2.y`."
   ]
  },
  {
   "cell_type": "code",
   "execution_count": null,
   "metadata": {
    "collapsed": false,
    "internals": {},
    "slideshow": {
     "slide_type": "-"
    }
   },
   "outputs": [],
   "source": [
    "class Coordinate():\n",
    "    \n",
    "    def __init__(self,x,y):\n",
    "        self.x=x\n",
    "        self.y=y\n",
    "        \n",
    "    def getX(self):\n",
    "        return self.x\n",
    "    \n",
    "    def getY(self):\n",
    "        return self.y\n",
    "    \n",
    "    def __str__(self):\n",
    "        return \"x=\"+str(self.x)+\" y=\"+str(self.y)\n",
    "    \n",
    "    def __eq__(self,other):\n",
    "        return self.x==other.x and self.y==other.y\n",
    "    \n",
    "    def __add__(self,other):\n",
    "        return Coordinate(self.x+other.x,self.y+other.y)"
   ]
  },
  {
   "cell_type": "markdown",
   "metadata": {
    "internals": {},
    "slideshow": {
     "slide_type": "-"
    }
   },
   "source": [
    "Here are some tests:"
   ]
  },
  {
   "cell_type": "code",
   "execution_count": null,
   "metadata": {
    "collapsed": false,
    "internals": {},
    "slideshow": {
     "slide_type": "-"
    }
   },
   "outputs": [],
   "source": [
    "coor1 = Coordinate(2, 3)\n",
    "coor2 = Coordinate(-5, 15)\n",
    "coor3 = coor1.__add__(coor2)\n",
    "print (type(coor3)) # Coordinate\n",
    "print (isinstance(coor3, Coordinate)) # True\n",
    "print (coor3.x) # -3\n",
    "print (coor3.y) # 18\n",
    "print (coor3)   # <-3,18>"
   ]
  },
  {
   "cell_type": "markdown",
   "metadata": {
    "internals": {},
    "slideshow": {
     "slide_type": "-"
    }
   },
   "source": [
    "When `+` is used between two objects, the `__add__` method is called. So `coor3 = coor1 + coor2` is equivalent to `coor3 = coor1.__add__(coor2)`"
   ]
  },
  {
   "cell_type": "code",
   "execution_count": null,
   "metadata": {
    "collapsed": false,
    "internals": {
     "slide_helper": "subslide_end"
    },
    "slide_helper": "slide_end",
    "slideshow": {
     "slide_type": "-"
    }
   },
   "outputs": [],
   "source": [
    "coor3 = coor1 + coor2\n",
    "print (type(coor3)) # Coordinate\n",
    "print (isinstance(coor3, Coordinate)) # True\n",
    "print (coor3.x) # -3\n",
    "print (coor3.y) # 18\n",
    "print (coor3)   # <-3,18>"
   ]
  },
  {
   "cell_type": "markdown",
   "metadata": {
    "internals": {
     "slide_helper": "subslide_end",
     "slide_type": "subslide"
    },
    "slide_helper": "slide_end",
    "slideshow": {
     "slide_type": "slide"
    }
   },
   "source": [
    "# Part2: File & Script"
   ]
  },
  {
   "cell_type": "markdown",
   "metadata": {
    "internals": {
     "slide_type": "subslide"
    },
    "slideshow": {
     "slide_type": "slide"
    }
   },
   "source": [
    "(1) Write the following codes into a file named 'add.py' by using the function **open**."
   ]
  },
  {
   "cell_type": "code",
   "execution_count": null,
   "metadata": {
    "collapsed": false,
    "internals": {},
    "slideshow": {
     "slide_type": "-"
    }
   },
   "outputs": [],
   "source": [
    "from sys import argv\n",
    "script, num1, num2 = argv\n",
    "print (float(num1) + float(num2))"
   ]
  },
  {
   "cell_type": "code",
   "execution_count": null,
   "metadata": {
    "collapsed": false,
    "internals": {},
    "slideshow": {
     "slide_type": "-"
    }
   },
   "outputs": [],
   "source": [
    "f=open('add.py','w')\n",
    "f.write('from sys import argv\\n')\n",
    "f.write('script, num1, num2 = argv\\n')\n",
    "f.write('print (float(num1) + float(num2))\\n')\n",
    "f.close()"
   ]
  },
  {
   "cell_type": "markdown",
   "metadata": {
    "internals": {},
    "slideshow": {
     "slide_type": "-"
    }
   },
   "source": [
    "After writing your codes, you could run the following command and get the corresponding results."
   ]
  },
  {
   "cell_type": "code",
   "execution_count": null,
   "metadata": {
    "collapsed": false,
    "internals": {
     "slide_helper": "subslide_end"
    },
    "slide_helper": "slide_end",
    "slideshow": {
     "slide_type": "-"
    }
   },
   "outputs": [],
   "source": [
    "!python add.py 1 2 # 3.0\n",
    "!python add.py 10 20 # 30.0\n",
    "!python add.py 15 22 # 37.0\n",
    "!python add.py 22 15 # 37.0\n",
    "!python add.py 20 10 # 30.0\n",
    "!python add.py 2 1 # 3.0"
   ]
  },
  {
   "cell_type": "markdown",
   "metadata": {
    "internals": {
     "slide_type": "subslide"
    },
    "slideshow": {
     "slide_type": "slide"
    }
   },
   "source": [
    "(2) Write a script named 'calculator.py' which has two arguments.\n",
    "    - The second argument is an expression like '1+1'. \n",
    "    - The expression consist of two numbers and an operator(+, -, *, /) between the numbers.\n",
    "    - This script should return the result of the expression.\n"
   ]
  },
  {
   "cell_type": "code",
   "execution_count": null,
   "metadata": {
    "collapsed": false,
    "internals": {},
    "slideshow": {
     "slide_type": "-"
    }
   },
   "outputs": [],
   "source": [
    "f=open('calculator.py','w')\n",
    "f.write('from sys import argv\\n')\n",
    "f.write('script, exprn = argv\\n')\n",
    "f.write('print (eval(exprn))\\n')\n",
    "f.close()"
   ]
  },
  {
   "cell_type": "markdown",
   "metadata": {
    "internals": {},
    "slideshow": {
     "slide_type": "-"
    }
   },
   "source": [
    "Here are some tests:"
   ]
  },
  {
   "cell_type": "code",
   "execution_count": null,
   "metadata": {
    "collapsed": false,
    "internals": {
     "slide_helper": "subslide_end"
    },
    "slide_helper": "slide_end",
    "slideshow": {
     "slide_type": "-"
    }
   },
   "outputs": [],
   "source": [
    "!python calculator.py 1+2 # 3.0\n",
    "!python calculator.py 10+20 # 30.0\n",
    "!python calculator.py 15-22 # -7.0\n",
    "!python calculator.py 22-15 # 7.0\n",
    "!python calculator.py 20/10 # 2.0\n",
    "!python calculator.py 2*1   # 2.0"
   ]
  },
  {
   "cell_type": "markdown",
   "metadata": {
    "internals": {
     "slide_helper": "subslide_end",
     "slide_type": "subslide"
    },
    "slide_helper": "slide_end",
    "slideshow": {
     "slide_type": "slide"
    }
   },
   "source": [
    "# Part3: Regular Expression"
   ]
  },
  {
   "cell_type": "markdown",
   "metadata": {
    "internals": {
     "slide_type": "subslide"
    },
    "slideshow": {
     "slide_type": "slide"
    }
   },
   "source": [
    "(1) Write a function **matchAll(pattern, list)**, return True if the pattern matches all the strings in the list."
   ]
  },
  {
   "cell_type": "code",
   "execution_count": null,
   "metadata": {
    "collapsed": false,
    "internals": {},
    "slideshow": {
     "slide_type": "-"
    }
   },
   "outputs": [],
   "source": [
    "import re\n",
    "\n",
    "def matchAll(pattern,lst):\n",
    "    outlist=[(re.search(pattern, i) != None) for i in lst]\n",
    "    out = True\n",
    "    for i in outlist:\n",
    "        out= i and out\n",
    "    return out\n",
    "    "
   ]
  },
  {
   "cell_type": "markdown",
   "metadata": {
    "internals": {},
    "slideshow": {
     "slide_type": "-"
    }
   },
   "source": [
    "Here are some tests:"
   ]
  },
  {
   "cell_type": "code",
   "execution_count": null,
   "metadata": {
    "collapsed": false,
    "internals": {
     "slide_helper": "subslide_end"
    },
    "slide_helper": "slide_end",
    "slideshow": {
     "slide_type": "-"
    }
   },
   "outputs": [],
   "source": [
    "print (matchAll('a', ['a', 'ab', 'abc'])) # True\n",
    "print (matchAll('a', ['a', 'ab', 'bc']))  # False\n",
    "print (matchAll('(ab)?', ['a', 'ab', 'abc']))  # True\n",
    "print (matchAll('.', ['a', 'ab', 'abc']))      # True\n",
    "print (matchAll('.{2,3}', ['a', 'ab', 'abc'])) # False"
   ]
  },
  {
   "cell_type": "markdown",
   "metadata": {
    "internals": {
     "slide_type": "subslide"
    },
    "slideshow": {
     "slide_type": "slide"
    }
   },
   "source": [
    "(2) Write a function matchNone(pattern, list), return True if the pattern does not match any one of the strings in the list."
   ]
  },
  {
   "cell_type": "code",
   "execution_count": null,
   "metadata": {
    "collapsed": false,
    "internals": {},
    "slideshow": {
     "slide_type": "-"
    }
   },
   "outputs": [],
   "source": [
    "import re\n",
    "\n",
    "def matchNone(pattern,lst):\n",
    "    outlist=[(re.search(pattern, i) == None) for i in lst]\n",
    "    out = True\n",
    "    for i in outlist:\n",
    "        out= i and out\n",
    "    return out"
   ]
  },
  {
   "cell_type": "code",
   "execution_count": null,
   "metadata": {
    "collapsed": false,
    "internals": {},
    "slideshow": {
     "slide_type": "-"
    }
   },
   "outputs": [],
   "source": [
    "Here are some tests:"
   ]
  },
  {
   "cell_type": "code",
   "execution_count": null,
   "metadata": {
    "collapsed": false,
    "internals": {
     "slide_helper": "subslide_end"
    },
    "slide_helper": "slide_end",
    "slideshow": {
     "slide_type": "-"
    }
   },
   "outputs": [],
   "source": [
    "print (matchNone('a', ['b', 'bb', 'bbb']))      # True\n",
    "print (matchNone('a', ['b', 'ba', 'bab']))      # False\n",
    "print (matchNone('(ab)?', ['a', 'ab', 'ac']))   # False\n",
    "print (matchNone('a{2,}', ['a', 'aa', 'abc']))  # False\n",
    "print (matchNone('a{2,3}', ['a', 'ab', 'abc'])) # True"
   ]
  },
  {
   "cell_type": "markdown",
   "metadata": {
    "internals": {
     "slide_type": "subslide"
    },
    "slideshow": {
     "slide_type": "slide"
    }
   },
   "source": [
    "(3) Write a pattern to match the following words:\n",
    "\n",
    "        a, an, absh, apple, adsorb, apple99"
   ]
  },
  {
   "cell_type": "code",
   "execution_count": null,
   "metadata": {
    "collapsed": false,
    "internals": {
     "slide_helper": "subslide_end"
    },
    "slide_helper": "slide_end",
    "slideshow": {
     "slide_type": "-"
    }
   },
   "outputs": [],
   "source": [
    "wordPattern = r'^a.*$'## write the pattern here'\n",
    "matchAll(wordPattern, ['a', 'an', 'absh', 'appale', 'adsorb', 'apple99']) # True"
   ]
  },
  {
   "cell_type": "markdown",
   "metadata": {
    "internals": {
     "slide_type": "subslide"
    },
    "slideshow": {
     "slide_type": "slide"
    }
   },
   "source": [
    "(4) Write a pattern that does not math the following words:\n",
    "        \n",
    "        can, fan, dan, ran, pan"
   ]
  },
  {
   "cell_type": "code",
   "execution_count": null,
   "metadata": {
    "collapsed": false,
    "internals": {
     "slide_helper": "subslide_end"
    },
    "slide_helper": "slide_end",
    "slideshow": {
     "slide_type": "-"
    }
   },
   "outputs": [],
   "source": [
    "wordPattern = r'^\\w[^a]\\w$'\n",
    "matchNone(wordPattern, ['can', 'fan', 'dan', 'ran', 'pan']) # True"
   ]
  },
  {
   "cell_type": "markdown",
   "metadata": {
    "internals": {
     "slide_type": "subslide"
    },
    "slideshow": {
     "slide_type": "slide"
    }
   },
   "source": [
    "(5) Write a regular expression that matches these three words: \n",
    "\n",
    "        - can, fan, dan\n",
    "and does not match these three words: \n",
    "\n",
    "        - man, ran, pan"
   ]
  },
  {
   "cell_type": "code",
   "execution_count": null,
   "metadata": {
    "collapsed": false,
    "internals": {
     "slide_helper": "subslide_end"
    },
    "slide_helper": "slide_end",
    "slideshow": {
     "slide_type": "-"
    }
   },
   "outputs": [],
   "source": [
    "wordPattern = r'^[cfd]an$'\n",
    "print (matchAll(wordPattern, ['can', 'fan', 'dan'])) # True\n",
    "print (matchNone(wordPattern, ['man', 'ran', 'pan'])) # True"
   ]
  },
  {
   "cell_type": "markdown",
   "metadata": {
    "internals": {
     "slide_type": "subslide"
    },
    "slideshow": {
     "slide_type": "slide"
    }
   },
   "source": [
    "(6) Write a regular expression that matches these five words:\n",
    "        - pit, spot, spate, slap two, respite\n",
    "    \n",
    "and does not match these four words:\n",
    "\n",
    "        - pt, Pot, peat, part\n"
   ]
  },
  {
   "cell_type": "code",
   "execution_count": null,
   "metadata": {
    "collapsed": false,
    "internals": {
     "slide_helper": "subslide_end"
    },
    "slide_helper": "slide_end",
    "slideshow": {
     "slide_type": "-"
    }
   },
   "outputs": [],
   "source": [
    "wordPattern = r'^.*p.t'\n",
    "print (matchAll(wordPattern, ['pit', 'spot', 'spate', 'slap two', 'respite'])) # True\n",
    "print (matchNone(wordPattern, ['pt', 'Pot', 'peat', 'part'])) # True"
   ]
  },
  {
   "cell_type": "markdown",
   "metadata": {
    "internals": {
     "slide_type": "subslide"
    },
    "slideshow": {
     "slide_type": "slide"
    }
   },
   "source": [
    "(7)**[optinal]**\n",
    "Write a regular expression that matches these five words:\n",
    "    - rap them, tapeth, apth, wrap/try, sap tray, 87ap9th, apothecary\n",
    "\n",
    "and does not match these four words:\n",
    "    - aleht, happy them, tarpth, Apt, peth, tarreth, ddapdg, apples, shape the"
   ]
  },
  {
   "cell_type": "code",
   "execution_count": null,
   "metadata": {
    "collapsed": false,
    "internals": {
     "slide_helper": "subslide_end"
    },
    "slide_helper": "slide_end",
    "slideshow": {
     "slide_type": "-"
    }
   },
   "outputs": [],
   "source": [
    "wordPattern = r'^.*ap.?t'\n",
    "print (matchAll(wordPattern, ['rap them', 'tapeth', 'apth', 'wrap/try', \\\n",
    "                             'sap tray', '87ap9th', 'apothecary'])) # True\n",
    "print (matchNone(wordPattern, ['aleht', 'happy them', 'tarpth', 'Apt', 'peth', \\\n",
    "                              'tarreth', 'ddapdg', 'apples', 'shape the'])) # True"
   ]
  },
  {
   "cell_type": "markdown",
   "metadata": {
    "internals": {
     "slide_type": "subslide"
    },
    "slideshow": {
     "slide_type": "slide"
    }
   },
   "source": [
    "(8)**[optinal]** In this exercise, you need to handle a file 'record.txt', which is filled with chat records.\n",
    "\n",
    "The first 10 lines looks like this:"
   ]
  },
  {
   "cell_type": "code",
   "execution_count": 2,
   "metadata": {
    "collapsed": false,
    "internals": {},
    "slideshow": {
     "slide_type": "-"
    }
   },
   "outputs": [
    {
     "name": "stdout",
     "output_type": "stream",
     "text": [
      "Jack 17:26:46\r\n",
      "The slogan duplicates a bliss after the plastic accent.\r\n",
      "Michael 17:26:47\r\n",
      "A tidied successor enlightens the advertised contract.\r\n",
      "William 17:26:48\r\n",
      "The secondary freedom matures beneath your suitable tip.\r\n",
      "John 17:26:50\r\n",
      "A wonderful newcomer expires on top of a cryptic entrance.\r\n",
      "William 17:26:51\r\n",
      "A bastard degenerates before the chorus!\r\n"
     ]
    }
   ],
   "source": [
    "!head record.txt"
   ]
  },
  {
   "cell_type": "code",
   "execution_count": 3,
   "metadata": {
    "collapsed": true
   },
   "outputs": [],
   "source": [
    "\n",
    "f=open('record.txt', 'r') \n",
    "dct={}\n",
    "num=1\n",
    "for i in f:\n",
    "    if num%2 != 0:\n",
    "        space_index = i.find(' ')\n",
    "        name = i[:space_index]\n",
    "        if name not in dct:\n",
    "            dct[name] = 1\n",
    "        else:\n",
    "            dct[name] = dct[name] +1\n",
    "    num = num+1\n",
    "        "
   ]
  },
  {
   "cell_type": "code",
   "execution_count": 4,
   "metadata": {
    "collapsed": false
   },
   "outputs": [
    {
     "name": "stdout",
     "output_type": "stream",
     "text": [
      "number of unique people in this chat record is: 10\n"
     ]
    }
   ],
   "source": [
    "print('number of unique people in this chat record is: %i' %len(dct))"
   ]
  },
  {
   "cell_type": "code",
   "execution_count": 7,
   "metadata": {
    "collapsed": false
   },
   "outputs": [
    {
     "name": "stdout",
     "output_type": "stream",
     "text": [
      "Emily sent 122 messages\n",
      "John sent 99 messages\n",
      "Michael sent 98 messages\n",
      "William sent 91 messages\n",
      "Jack sent 90 messages\n",
      "Elizabeth sent 89 messages\n",
      "Emma sent 87 messages\n",
      "Mary sent 86 messages\n",
      "Jayden sent 83 messages\n",
      "Daniel sent 77 messages\n"
     ]
    }
   ],
   "source": [
    "lis = list(dct.items())\n",
    "lis.sort(key = lambda x: x[1], reverse = True)\n",
    "for i in lis:\n",
    "    print('%s sent %i messages' %(i[0],i[1]))"
   ]
  },
  {
   "cell_type": "markdown",
   "metadata": {
    "internals": {
     "slide_helper": "subslide_end"
    },
    "slide_helper": "slide_end",
    "slideshow": {
     "slide_type": "-"
    }
   },
   "source": [
    "Each line is either a sentence or a people's name followed with the time. Your task is finding out :\n",
    "\n",
    "    - how many peoples appear in this chat record.\n",
    "    - how many messages each people sent, sorted them in descending order."
   ]
  },
  {
   "cell_type": "code",
   "execution_count": 95,
   "metadata": {
    "collapsed": false
   },
   "outputs": [
    {
     "name": "stdout",
     "output_type": "stream",
     "text": [
      "[('Jack', 'the slogan duplicates a bliss after the plastic accent'), ('Michael', 'a tidied successor enlightens the advertised contract'), ('William', 'the secondary freedom matures beneath your suitable tip'), ('John', 'a wonderful newcomer expires on top of a cryptic entrance'), ('William', 'a bastard degenerates before the chorus')]\n",
      "Jack [('across', 5), ('inside', 5), ('to', 4), ('near', 4), ('outside', 4), ('can', 4)]\n",
      "Michael [('does', 8), ('how', 7), ('to', 5), ('why', 5), ('will', 5), ('can', 5)]\n",
      "Emma [('does', 6), ('how', 6), ('why', 5), ('can', 5), ('in', 5), (\"won't\", 4)]\n",
      "John [('before', 6), ('how', 5), ('past', 5), ('will', 4), ('does', 4), ('above', 4)]\n",
      "Elizabeth [('will', 10), ('how', 9), ('near', 5), ('every', 5), ('under', 4), ('within', 3)]\n",
      "Emily [('under', 6), ('can', 6), ('how', 5), ('why', 5), ('his', 5), ('does', 5)]\n",
      "Daniel [('will', 6), ('opposite', 5), ('before', 4), ('against', 4), ('our', 4), ('how', 4)]\n",
      "William [('does', 9), ('your', 6), ('can', 6), ('how', 5), ('behind', 5), ('below', 4)]\n",
      "Mary [('why', 7), ('can', 7), ('after', 5), ('every', 5), ('this', 3), ('across', 3)]\n",
      "Jayden [('how', 8), ('does', 7), ('why', 5), ('beside', 4), ('whatever', 4), ('will', 4)]\n",
      "{'Jack': 437, 'Jayden': 417, 'Daniel': 381, 'Mary': 428, 'John': 459, 'Emily': 591, 'Elizabeth': 439, 'Emma': 426, 'Michael': 514, 'William': 463}\n",
      "Jack\n",
      "Jayden\n",
      "Daniel\n",
      "Mary\n",
      "John\n",
      "Emily\n",
      "Elizabeth\n",
      "William\n",
      "Michael\n",
      "Emma\n"
     ]
    }
   ],
   "source": [
    "lines=open(\"record.txt\",'r').readlines()\n",
    "times=[lines[i] for i in range(len(lines)) if i%2==0  ]\n",
    "says=[lines[i].replace('\\n','') for i in range(len(lines)) if i%2!=0  ]\n",
    "names=[lines[i].split()[0] for i in range(len(lines)) if i%2==0  ]\n",
    "\n",
    "Symbols='.,?!@#$%^&*'\n",
    "\n",
    "def removeSet(symbols,a,rep=''):\n",
    "    for i , elem in enumerate(a):\n",
    "        for s in symbols: \n",
    "            a[i]=a[i].replace(str(s),rep)\n",
    "\n",
    "def lowerSet(a):\n",
    "    for i , elem in enumerate(a):\n",
    "        a[i]=a[i].lower()\n",
    "\n",
    "lowerSet(says)        \n",
    "removeSet(Symbols,says)\n",
    "\n",
    "\n",
    "chats=list(zip(names,says))\n",
    "histo={}\n",
    "for i in names:\n",
    "    if i in histo:\n",
    "        histo[i] += 1\n",
    "    else:\n",
    "        histo[i] = 1\n",
    "    \n",
    "ordered_names=list(histo.items())\n",
    "ordered_names.sort(key=lambda x:x[1],reverse=True)\n",
    "#print(\"number people\",len(ordered_names),'\\n',ordered_names)\n",
    "print(chats[0:5])\n",
    "\n",
    "languages={}\n",
    "for i in ordered_names:\n",
    "    languages[i[0]]={}\n",
    "    \n",
    "def histoPlus(words,hist):\n",
    "    for word in words:\n",
    "        if word in hist:\n",
    "            hist[word] += 1\n",
    "        else:\n",
    "            hist[word] = 1\n",
    "    \n",
    "        \n",
    "for chat in chats:\n",
    "    histoPlus(chat[1].split(),languages[chat[0]])\n",
    "removes=['the','a','an']\n",
    "#removes=[]\n",
    "for i in languages:\n",
    "    for j in removes:\n",
    "        languages[i][j]=0\n",
    "languages['John']\n",
    "topWords={}\n",
    "histWords={}\n",
    "\n",
    "for i in languages:\n",
    "    topWords[i]=list(languages[i].items())\n",
    "    topWords[i].sort(key=lambda x:x[1],reverse=True)\n",
    "\n",
    "\n",
    "for i in topWords:\n",
    "    #print(i,  dict(topWords[i][:6]))\n",
    "    print(i,  topWords[i][:6])\n",
    "    \n",
    "J = topWords['John']\n",
    "'the' in [i[0] for i in J]\n",
    "\n",
    "from functools import reduce\n",
    "totWords={}\n",
    "setWords={}\n",
    "vecWords={}\n",
    "vecLen={}\n",
    "for i in topWords:\n",
    "    #totals.append(reduce(lambda a, b: (0,b[1] + a[1] ), topWords[i])[1])\n",
    "    totWords[i]=reduce(lambda a, b: (0,b[1] + a[1] ), topWords[i])[1]\n",
    "    #vecLen[i]=reduce(lambda a, b: (0,b[1]**2 + a[1]),topWords[i])[1]**0.5\n",
    "    setWords[i]=set([i[0] for i in topWords[i]])\n",
    "    #vecWords[i]=dict([(j,languages[i][j]/vecLen[i]) for j in languages[i]])\n",
    "print(totWords)\n",
    "#print(J[:6])\n",
    "\n",
    "#Jwords=[]\n",
    "#vecWords\n",
    "#print(vecWords)\n",
    "\n",
    "def dotP(X,Y):\n",
    "    total=0\n",
    "    for i in X:\n",
    "        if i in Y:\n",
    "            total += X[i]*Y[i]\n",
    "    return total    \n",
    "\n",
    "def varHisto(histo):\n",
    "    summa=0\n",
    "    for h in histo:\n",
    "        summa += histo[h]**2\n",
    "    return summa\n",
    "\n",
    "def normHisto(histo):\n",
    "    var=varHisto(histo)\n",
    "    return dict([(i,histo[i]/var**0.5) for i in histo])    \n",
    "\n",
    "lang_norm={}\n",
    "for language in languages:\n",
    "    print(language)\n",
    "    lang_norm[language]=normHisto(languages[language])\n",
    "\n",
    "        \n",
    "\n",
    "#dotP(vecWords['John'],vecWords['John'])\n",
    "#for i in lang_norm:\n",
    "#    for j in lang_norm:\n",
    "#        print(i,j,dotP(lang_norm[j],lang_norm[i]))\n",
    "import math       \n",
    "simMatrix=[[math.e**(-3*(1-dotP(lang_norm[j],lang_norm[i]))) for j in lang_norm]for i in lang_norm]\n",
    "#simMatrix\n",
    "#vecWords"
   ]
  },
  {
   "cell_type": "markdown",
   "metadata": {},
   "source": [
    "At this point it makes sense to write a class to represent a language histogram, or bag of words.  The class would have functions such as:\n",
    "\n",
    "AddWord()\n",
    "Fill()\n",
    "TotalWord()\n",
    "Var or Power()\n",
    "FilterWords()\n",
    "VecNormalize()\n",
    "ProbNormalize()\n",
    "Merge()\n",
    "Words()\n",
    "DotProd1()\n",
    "DotProd2()\n",
    "\n"
   ]
  },
  {
   "cell_type": "code",
   "execution_count": 37,
   "metadata": {
    "collapsed": false
   },
   "outputs": [
    {
     "data": {
      "text/plain": [
       "44"
      ]
     },
     "execution_count": 37,
     "metadata": {},
     "output_type": "execute_result"
    }
   ],
   "source": [
    "languages['Daniel']['a']"
   ]
  },
  {
   "cell_type": "code",
   "execution_count": 61,
   "metadata": {
    "collapsed": false
   },
   "outputs": [
    {
     "name": "stdout",
     "output_type": "stream",
     "text": [
      "{'jack': 0.9667364890456636, 'two': 0.1933472978091327, 'three': 0.29002094671369905}\n",
      "1.05607476635514\n",
      "113\n",
      "{'two': 0.18814417367671946, 'jack': 0.9407208683835973, 'three': 0.2822162605150792}\n",
      "0.9999999999999999\n",
      "0.8613888828144768\n"
     ]
    }
   ],
   "source": [
    "from functools import reduce\n",
    "prime=[('three',3),('two',2),('jack',10)]\n",
    "mag=reduce(lambda a, b: (0,b[1]**2 + a[1]),prime)[1]**0.5\n",
    "prime_=dict([(e[0],e[1]/mag) for e in prime])\n",
    "print(prime_)\n",
    "\n",
    "def dotP(X,Y):\n",
    "    total=0\n",
    "    for i in X:\n",
    "        if i in Y:\n",
    "            total += X[i]*Y[i]\n",
    "    return total    \n",
    "\n",
    "print (dotP(prime_,prime_))\n",
    "\n",
    "def varHisto(histo):\n",
    "    summa=0\n",
    "    for h in histo:\n",
    "        summa += histo[h]**2\n",
    "    return summa\n",
    "\n",
    "def normHisto(histo):\n",
    "    var=varHisto(histo)\n",
    "    return dict([(i,histo[i]/var**0.5) for i in histo])\n",
    "\n",
    "norm=normHisto(dict([('three',3),('two',2),('jack',10)]))\n",
    "norm2=normHisto(dict([('five',5),('two',2),('jack',10)]))\n",
    "\n",
    "print(varHisto(dict([('three',3),('two',2),('jack',10)])))\n",
    "print(norm)\n",
    "print(dotP(norm,norm))\n",
    "print(dotP(norm,norm2))"
   ]
  },
  {
   "cell_type": "code",
   "execution_count": 51,
   "metadata": {
    "collapsed": false
   },
   "outputs": [
    {
     "data": {
      "text/plain": [
       "20"
      ]
     },
     "execution_count": 51,
     "metadata": {},
     "output_type": "execute_result"
    }
   ],
   "source": [
    "reduce(lambda a, b: (1,b[1]**2 + a[1]),[(\"age\",3),(\"beauty\",4),(\"beaut\",1)])[1]"
   ]
  },
  {
   "cell_type": "code",
   "execution_count": 77,
   "metadata": {
    "collapsed": false
   },
   "outputs": [
    {
     "data": {
      "text/plain": [
       "2.718281828459045"
      ]
     },
     "execution_count": 77,
     "metadata": {},
     "output_type": "execute_result"
    }
   ],
   "source": [
    "import math\n",
    "math.e"
   ]
  },
  {
   "cell_type": "code",
   "execution_count": null,
   "metadata": {
    "collapsed": false
   },
   "outputs": [],
   "source": [
    "a=['Its ahead railway paces.']\n",
    "a[0]=a[0].replace('.','')\n",
    "a"
   ]
  },
  {
   "cell_type": "code",
   "execution_count": null,
   "metadata": {
    "collapsed": false
   },
   "outputs": [],
   "source": [
    "a=['Its ahead railway paces.','Its ahead railway paces.','Its ahead railway paces.']\n",
    "for i , elem in enumerate(a):\n",
    "    a[i]=elem.replace('.','')\n",
    "a"
   ]
  },
  {
   "cell_type": "code",
   "execution_count": null,
   "metadata": {
    "collapsed": false
   },
   "outputs": [],
   "source": [
    "a=['Its ahead railway paces.','Its ahead railway paces.','Its ahead railway paces.']\n",
    "symbols=',;.'\n",
    "for i , elem in enumerate(a):\n",
    "    for s in symbols: \n",
    "        a[i]=elem.replace(s,'')\n",
    "a"
   ]
  },
  {
   "cell_type": "code",
   "execution_count": null,
   "metadata": {
    "collapsed": false
   },
   "outputs": [],
   "source": [
    "A=['Its ahead railway paces.','Its ahead railway paces.','Its ahead railway paces.']\n",
    "Symbols=',;.'\n",
    "\n",
    "def removeSet(symbols,a):\n",
    "    for i , elem in enumerate(a):\n",
    "        for s in symbols: \n",
    "            a[i]=elem.replace(s,'')\n",
    "print(A)\n",
    "removeSet(Symbols,A)\n",
    "print(A)"
   ]
  },
  {
   "cell_type": "code",
   "execution_count": null,
   "metadata": {
    "collapsed": true
   },
   "outputs": [],
   "source": []
  }
 ],
 "metadata": {
  "anaconda-cloud": {},
  "kernelspec": {
   "display_name": "Python 3",
   "language": "python",
   "name": "python3"
  },
  "language_info": {
   "codemirror_mode": {
    "name": "ipython",
    "version": 3
   },
   "file_extension": ".py",
   "mimetype": "text/x-python",
   "name": "python",
   "nbconvert_exporter": "python",
   "pygments_lexer": "ipython3",
   "version": "3.6.0"
  }
 },
 "nbformat": 4,
 "nbformat_minor": 0
}
