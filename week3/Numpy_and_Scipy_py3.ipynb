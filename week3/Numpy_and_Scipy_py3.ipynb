{
 "cells": [
  {
   "cell_type": "raw",
   "metadata": {},
   "source": [
    "<p><a name=\"sections\"></a></p>\n",
    "\n",
    "\n",
    "# Sections\n",
    "\n",
    "- <a href=\"#numpy\">Numpy Overview</a><br>\n",
    "- <a href=\"#array\">Ndarray</a><br>\n",
    "    - <a href=\"#dtype\">Data Type</a><br>\n",
    "    - <a href=\"#create\">Creating Data Array</a><br>\n",
    "- <a href=\"#slice\">Subscripting and Slicing</a><br>\n",
    "    - <a href=\"#shape\">Shape</a><br>\n",
    "    - <a href=\"#operations\">Operations</a><br>\n",
    "     - <a href=\"#matrix\">Matrix and Linear Algebra</a><br>\n",
    "- <a href=\"#scipy\">Scipy Overview</a><br>\n",
    "- <a href=\"#statistic\">Statistical Functions</a><br>\n",
    "- <a href=\"#hypothesis\">Hypothesis Test</a><br>\n",
    "- <a href=\"#sample\">Random Sampling</a><br>\n",
    "    - <a href=\"#birthday\">Random Sampling: Birthday Problems</a><br>\n",
    "- <a href=\"#distribution\">Distribution</a><br>\n",
    "    - <a href=\"#binomial\">Binomial Distribution</a><br>\n",
    "    - <a href=\"#bino_object\">The Binomial Distribution Object</a><br>\n",
    "    - <a href=\"#normal\">Normal Distribution</a><br>\n",
    "    - <a href=\"#norm_object\">The Normal Distribution Object</a><br>\n",
    "\n",
    "\n",
    "\n",
    "<p><a name=\"numpy\"></a></p>\n",
    "## NumPy Overview\n",
    "\n",
    "NumPy is the fundamental package for scientific computing with Python. \n",
    "\n",
    "- Primitive data types are represented in certain ways to facilitate easy representation and manipulation. Common examples in linear algebra are **vectors** and **matrices**. Numpy provides excellent tools to work with these numerical types. \n",
    "- Numpy provides a comprehensive set of functions and modules for scientific computing, such as linear algebra operations, random number generation, Fourier transform, etc.\n",
    "\n",
    "For full documentation, go to:  http://docs.scipy.org/doc/.\n",
    "\n",
    "To use NumPy, import the module as follows:"
   ]
  },
  {
   "cell_type": "code",
   "execution_count": 1,
   "metadata": {
    "collapsed": true
   },
   "outputs": [],
   "source": [
    "import numpy as np"
   ]
  },
  {
   "cell_type": "markdown",
   "metadata": {},
   "source": [
    "After import, call a function from NumPy using the `np` prefix.  To call `matrix()`, for example, run:\n",
    "```\n",
    "np.matrix( arguments )\n",
    "```"
   ]
  },
  {
   "cell_type": "markdown",
   "metadata": {},
   "source": [
    "<p><a name=\"array\"></a></p>\n",
    "## Ndarray\n",
    "\n",
    "<p><a name=\"dtype\"></a></p>\n",
    "### Data Type\n",
    "NumPy provides an N-dimensional array type, the `ndarray`. It can be described as a shaped collection of elements of the same data type. The following code constructs a simple 1-D array using the function `array()`."
   ]
  },
  {
   "cell_type": "code",
   "execution_count": 2,
   "metadata": {
    "collapsed": false
   },
   "outputs": [
    {
     "data": {
      "text/plain": [
       "array([1, 2, 3])"
      ]
     },
     "execution_count": 2,
     "metadata": {},
     "output_type": "execute_result"
    }
   ],
   "source": [
    "my_ary=np.array([1,2,3])\n",
    "my_ary"
   ]
  },
  {
   "cell_type": "markdown",
   "metadata": {},
   "source": [
    "The function `array()` takes a list as an argument. The above makes `my_ary` an ndarray with three elements.  The elements have the identical shape and order as the list inputted."
   ]
  },
  {
   "cell_type": "code",
   "execution_count": 3,
   "metadata": {
    "collapsed": false
   },
   "outputs": [
    {
     "name": "stdout",
     "output_type": "stream",
     "text": [
      "<type 'numpy.ndarray'>\n",
      "[1 2 3]\n"
     ]
    }
   ],
   "source": [
    "print(type(my_ary))\n",
    "print(my_ary)"
   ]
  },
  {
   "cell_type": "markdown",
   "metadata": {},
   "source": [
    "Each element in `my_ary` can be accessed by an integer index. Details of indexing will be provided later."
   ]
  },
  {
   "cell_type": "code",
   "execution_count": 4,
   "metadata": {
    "collapsed": false
   },
   "outputs": [
    {
     "name": "stdout",
     "output_type": "stream",
     "text": [
      "1\n",
      "2\n"
     ]
    }
   ],
   "source": [
    "print(my_ary[0])  # In Python, first index is 0\n",
    "print(my_ary[1])"
   ]
  },
  {
   "cell_type": "markdown",
   "metadata": {},
   "source": [
    "The type ndarray is flexible because it supports variety of object types:\n",
    "- http://docs.scipy.org/doc/numpy/user/basics.types.html\n",
    "\n",
    "The `ndarray` is subject to the **homogeneity condition**.  This means every element in ndarray has the same type. The type of the elements can be accessed as an attribute of an ndarray."
   ]
  },
  {
   "cell_type": "code",
   "execution_count": 6,
   "metadata": {
    "collapsed": false
   },
   "outputs": [
    {
     "data": {
      "text/plain": [
       "array([[1, 2],\n",
       "       [3, 4]])"
      ]
     },
     "execution_count": 6,
     "metadata": {},
     "output_type": "execute_result"
    }
   ],
   "source": [
    "ar = np.array([[1,2],[3,4]])\n",
    "ar"
   ]
  },
  {
   "cell_type": "code",
   "execution_count": 7,
   "metadata": {
    "collapsed": false
   },
   "outputs": [
    {
     "data": {
      "text/plain": [
       "dtype('int32')"
      ]
     },
     "execution_count": 7,
     "metadata": {},
     "output_type": "execute_result"
    }
   ],
   "source": [
    "my_ary.dtype"
   ]
  },
  {
   "cell_type": "markdown",
   "metadata": {},
   "source": [
    "When the elements are of string types, the dtype is automatically noted. The letter `‘S’ ` stands for string and the number following represents the largest number of letters among all the elements. "
   ]
  },
  {
   "cell_type": "code",
   "execution_count": 8,
   "metadata": {
    "collapsed": false
   },
   "outputs": [
    {
     "data": {
      "text/plain": [
       "array(['a', 'ab'], \n",
       "      dtype='|S2')"
      ]
     },
     "execution_count": 8,
     "metadata": {},
     "output_type": "execute_result"
    }
   ],
   "source": [
    "np.array(['a', 'ab'])"
   ]
  },
  {
   "cell_type": "markdown",
   "metadata": {},
   "source": [
    "If the list inputted to the function `array()` is of mixed types, Numpy (upcast) cast all elements to a common (superclass) class:"
   ]
  },
  {
   "cell_type": "code",
   "execution_count": 9,
   "metadata": {
    "collapsed": false
   },
   "outputs": [
    {
     "data": {
      "text/plain": [
       "array([ 1.,  2.,  3.])"
      ]
     },
     "execution_count": 9,
     "metadata": {},
     "output_type": "execute_result"
    }
   ],
   "source": [
    "np.array([1.0, 2, 3])"
   ]
  },
  {
   "cell_type": "code",
   "execution_count": 8,
   "metadata": {
    "collapsed": false
   },
   "outputs": [
    {
     "data": {
      "text/plain": [
       "array(['a', '2', '3'], \n",
       "      dtype='<U1')"
      ]
     },
     "execution_count": 8,
     "metadata": {},
     "output_type": "execute_result"
    }
   ],
   "source": [
    "np.array(['a', 2, 3])\n",
    "# 'U' stands for Unicode"
   ]
  },
  {
   "cell_type": "markdown",
   "metadata": {},
   "source": [
    "The most general type for numpy arrays is the generic type `object`."
   ]
  },
  {
   "cell_type": "code",
   "execution_count": 10,
   "metadata": {
    "collapsed": false
   },
   "outputs": [
    {
     "data": {
      "text/plain": [
       "array([[], 0, True, 'string'], dtype=object)"
      ]
     },
     "execution_count": 10,
     "metadata": {},
     "output_type": "execute_result"
    }
   ],
   "source": [
    "np.array([[],0,True,'string' ])"
   ]
  },
  {
   "cell_type": "markdown",
   "metadata": {},
   "source": [
    "<p><a name=\"create\"></a></p>\n",
    "### Creating Data Arrays\n",
    "\n",
    "So far an ndarray has been created passing a list to the numpy function `array()`. This method can be generalized to create multidimensional arrays by passing a nested list to the `array()` function."
   ]
  },
  {
   "cell_type": "code",
   "execution_count": 11,
   "metadata": {
    "collapsed": false
   },
   "outputs": [
    {
     "data": {
      "text/plain": [
       "array([[1, 2],\n",
       "       [3, 4]])"
      ]
     },
     "execution_count": 11,
     "metadata": {},
     "output_type": "execute_result"
    }
   ],
   "source": [
    "simple_lst = [1,2]\n",
    "nested_lst = [[1,2], [3,4]]\n",
    "multi_ary = np.array(nested_lst)\n",
    "multi_ary"
   ]
  },
  {
   "cell_type": "markdown",
   "metadata": {},
   "source": [
    "Recall that a nested list has lists as elements. The multidimensional ndarray is designed to effectively represent the two dimensional structure of mathematical matrices.  In this case, each inner list of `nest_lst` is like a row in a matrix.\n",
    "\n",
    "A three dimensional array may be constructed by passing a list of two dimensional arrays to `array()`.  In the scope of the course most emphasis is on gaining proficiency using one and two dimensional arrays."
   ]
  },
  {
   "cell_type": "code",
   "execution_count": 15,
   "metadata": {
    "collapsed": false
   },
   "outputs": [
    {
     "data": {
      "text/plain": [
       "array([[[-1,  2,  1,  2],\n",
       "        [ 5, -6,  5,  6],\n",
       "        [ 7,  8, -7,  8]],\n",
       "\n",
       "       [[ 1,  2,  1,  2],\n",
       "        [ 5,  6,  5,  6],\n",
       "        [ 7,  8,  7,  8]]])"
      ]
     },
     "execution_count": 15,
     "metadata": {},
     "output_type": "execute_result"
    }
   ],
   "source": [
    "nested_lst1 = [[-1,2,1,2],[5,-6,5,6],[7,8,-7,8]]\n",
    "nested_lst2 = [[1,2,1,2],[5,6,5,6],[7,8,7,8]]\n",
    "multi_ary1 = np.array(nested_lst1)\n",
    "multi_ary2 = np.array(nested_lst2)\n",
    "higher_dim = np.array([multi_ary1, multi_ary2])\n",
    "higher_dim"
   ]
  },
  {
   "cell_type": "markdown",
   "metadata": {},
   "source": [
    "Numpy provides several functions for constructing arrays without having to specify the value of each element. Some are shown of them below.\n",
    "\n",
    "- One such function is `arange()`.  It operates much like the native Python function `range`."
   ]
  },
  {
   "cell_type": "code",
   "execution_count": 16,
   "metadata": {
    "collapsed": false
   },
   "outputs": [
    {
     "name": "stdout",
     "output_type": "stream",
     "text": [
      "[0, 1, 2, 3, 4, 5, 6, 7, 8, 9]\n",
      "[0 1 2 3 4 5 6 7 8 9]\n"
     ]
    }
   ],
   "source": [
    "# in Python:\n",
    "print range(10)\n",
    "\n",
    "# in NumPy:\n",
    "print np.arange(10)"
   ]
  },
  {
   "cell_type": "markdown",
   "metadata": {},
   "source": [
    "Passing a float to `arange()` returns a 1-D array with elements from zero up to the given float (exclusive)."
   ]
  },
  {
   "cell_type": "code",
   "execution_count": 17,
   "metadata": {
    "collapsed": false
   },
   "outputs": [
    {
     "data": {
      "text/plain": [
       "array([ 0.,  1.,  2.,  3.,  4.,  5.,  6.,  7.,  8.,  9.])"
      ]
     },
     "execution_count": 17,
     "metadata": {},
     "output_type": "execute_result"
    }
   ],
   "source": [
    "np.arange(10.)"
   ]
  },
  {
   "cell_type": "markdown",
   "metadata": {},
   "source": [
    "An alternate starting number can be specified. The first argument below indicates the array starts from 2 and the second argument indicates it goes to 10 (exclusive).  Therefore is includes the integers 2 through 9."
   ]
  },
  {
   "cell_type": "code",
   "execution_count": 18,
   "metadata": {
    "collapsed": false
   },
   "outputs": [
    {
     "data": {
      "text/plain": [
       "array([2, 3, 4, 5, 6, 7, 8, 9])"
      ]
     },
     "execution_count": 18,
     "metadata": {},
     "output_type": "execute_result"
    }
   ],
   "source": [
    "np.arange(2, 10)"
   ]
  },
  {
   "cell_type": "markdown",
   "metadata": {},
   "source": [
    "By default `arange` increments by 1. A third argument can be included to change the incrementation.  In the example below the start is 2 and the increment is 3.  The following values are therefore, 2 + 3 = 5, then 5 + 3 = 8. Since the next one, 8 + 3 = 11, is greater than the upper bound 9, the sequence stops at 8."
   ]
  },
  {
   "cell_type": "code",
   "execution_count": 19,
   "metadata": {
    "collapsed": false
   },
   "outputs": [
    {
     "data": {
      "text/plain": [
       "array([2, 5, 8])"
      ]
     },
     "execution_count": 19,
     "metadata": {},
     "output_type": "execute_result"
    }
   ],
   "source": [
    "np.arange(2,10,3)  #exclusive of 10"
   ]
  },
  {
   "cell_type": "markdown",
   "metadata": {},
   "source": [
    "A similar numpy method is `linspace()`. It takes the start (first argument), the end (second argument) and the number of elements (last argument)."
   ]
  },
  {
   "cell_type": "code",
   "execution_count": 14,
   "metadata": {
    "collapsed": false
   },
   "outputs": [
    {
     "data": {
      "text/plain": [
       "array([  0. ,   0.2,   0.4,   0.6,   0.8,   1. ,   1.2,   1.4,   1.6,\n",
       "         1.8,   2. ,   2.2,   2.4,   2.6,   2.8,   3. ,   3.2,   3.4,\n",
       "         3.6,   3.8,   4. ,   4.2,   4.4,   4.6,   4.8,   5. ,   5.2,\n",
       "         5.4,   5.6,   5.8,   6. ,   6.2,   6.4,   6.6,   6.8,   7. ,\n",
       "         7.2,   7.4,   7.6,   7.8,   8. ,   8.2,   8.4,   8.6,   8.8,\n",
       "         9. ,   9.2,   9.4,   9.6,   9.8,  10. ])"
      ]
     },
     "execution_count": 14,
     "metadata": {},
     "output_type": "execute_result"
    }
   ],
   "source": [
    "np.linspace(0,10, 51)   #inclusive of 10 #51 is the number of points between 0 and 10, inclusive of 0 and 10"
   ]
  },
  {
   "cell_type": "markdown",
   "metadata": {},
   "source": [
    "Without the last argument, the default length is 50."
   ]
  },
  {
   "cell_type": "markdown",
   "metadata": {},
   "source": [
    "**Exercise 1**\n",
    "\n",
    "Which of the following two arrays has all integers entries?\n",
    "(integer values, not data type)  \n",
    "- `np.linspace(0, 9, 3)`\n",
    "- `np.linspace(0, 9, 4)`\n",
    "\n",
    "As `array()`, we can change the datatype by specifying dtype. Run the following code, what do you find?\n",
    "\n",
    "- `np.linspace(0, 9, 4, dtype ='Int64')`\n",
    "- `np.linspace(0, 9, 3, dtype ='Int64')`"
   ]
  },
  {
   "cell_type": "code",
   "execution_count": 22,
   "metadata": {
    "collapsed": false
   },
   "outputs": [
    {
     "name": "stdout",
     "output_type": "stream",
     "text": [
      "[ 0.   4.5  9. ]\n",
      "[ 0.  3.  6.  9.]\n",
      "[0 4 9]\n",
      "[0 3 6 9]\n"
     ]
    }
   ],
   "source": [
    "### Your code here\n",
    "\n",
    "print np.linspace(0, 9, 3)\n",
    "print np.linspace(0, 9, 4)\n",
    "\n",
    "print np.linspace(0, 9, 3, dtype ='Int64')\n",
    "print np.linspace(0, 9, 4, dtype ='Int64')\n"
   ]
  },
  {
   "cell_type": "markdown",
   "metadata": {},
   "source": [
    "**Regular Creating**\n",
    "\n",
    "To construct an array of identical values, the function `ones()` is useful.  It returns an array filled with values of one.  The argument determines the number of elements."
   ]
  },
  {
   "cell_type": "code",
   "execution_count": 24,
   "metadata": {
    "collapsed": false
   },
   "outputs": [
    {
     "data": {
      "text/plain": [
       "array([ 1.,  1.,  1.])"
      ]
     },
     "execution_count": 24,
     "metadata": {},
     "output_type": "execute_result"
    }
   ],
   "source": [
    "np.ones(3)"
   ]
  },
  {
   "cell_type": "markdown",
   "metadata": {},
   "source": [
    "A tuple can be passed as an argument to construct the array of desired dimension and shape."
   ]
  },
  {
   "cell_type": "code",
   "execution_count": 25,
   "metadata": {
    "collapsed": false
   },
   "outputs": [
    {
     "data": {
      "text/plain": [
       "array([[ 1.,  1.],\n",
       "       [ 1.,  1.],\n",
       "       [ 1.,  1.]])"
      ]
     },
     "execution_count": 25,
     "metadata": {},
     "output_type": "execute_result"
    }
   ],
   "source": [
    "np.ones((3,2))    # it needs a tupel so np.ones(3,2) will not work "
   ]
  },
  {
   "cell_type": "markdown",
   "metadata": {},
   "source": [
    "To construct an array with a constant other than one, multiply the array returned by `ones` by the desired constant. Multiplying a number by an array results in every entry in the array multiplied by that number.  The details of array operations will be discussed in more detail later."
   ]
  },
  {
   "cell_type": "code",
   "execution_count": 26,
   "metadata": {
    "collapsed": false
   },
   "outputs": [
    {
     "data": {
      "text/plain": [
       "array([ 3.14159265,  3.14159265,  3.14159265,  3.14159265,  3.14159265])"
      ]
     },
     "execution_count": 26,
     "metadata": {},
     "output_type": "execute_result"
    }
   ],
   "source": [
    "import math\n",
    "math.pi *np.ones(5)"
   ]
  },
  {
   "cell_type": "markdown",
   "metadata": {},
   "source": [
    "Numpy also provides a function `zeros()`, which works in the same way as the function `ones()`:"
   ]
  },
  {
   "cell_type": "code",
   "execution_count": 27,
   "metadata": {
    "collapsed": false
   },
   "outputs": [
    {
     "data": {
      "text/plain": [
       "array([ 0.,  0.,  0.,  0.,  0.])"
      ]
     },
     "execution_count": 27,
     "metadata": {},
     "output_type": "execute_result"
    }
   ],
   "source": [
    "np.zeros(5)"
   ]
  },
  {
   "cell_type": "code",
   "execution_count": 28,
   "metadata": {
    "collapsed": false
   },
   "outputs": [
    {
     "data": {
      "text/plain": [
       "array([[ 0.,  0.,  0.],\n",
       "       [ 0.,  0.,  0.]])"
      ]
     },
     "execution_count": 28,
     "metadata": {},
     "output_type": "execute_result"
    }
   ],
   "source": [
    "np.zeros((2,3))"
   ]
  },
  {
   "cell_type": "markdown",
   "metadata": {},
   "source": [
    "<p><a name=\"slice\"></a></p>\n",
    "## Subscripting and Slicing\n",
    "\n",
    "To access a particular element in an array, indices are used.  This is also known as subscripting.  Array entries are indexed by integers. "
   ]
  },
  {
   "cell_type": "code",
   "execution_count": 29,
   "metadata": {
    "collapsed": false
   },
   "outputs": [
    {
     "data": {
      "text/plain": [
       "array([ 1,  2,  3,  4,  5,  6,  7,  8,  9, 10])"
      ]
     },
     "execution_count": 29,
     "metadata": {},
     "output_type": "execute_result"
    }
   ],
   "source": [
    "x = np.arange(1, 11)\n",
    "x"
   ]
  },
  {
   "cell_type": "markdown",
   "metadata": {},
   "source": [
    "For example, to access the 3rd element in x:"
   ]
  },
  {
   "cell_type": "code",
   "execution_count": 30,
   "metadata": {
    "collapsed": false
   },
   "outputs": [
    {
     "data": {
      "text/plain": [
       "3"
      ]
     },
     "execution_count": 30,
     "metadata": {},
     "output_type": "execute_result"
    }
   ],
   "source": [
    "x[2]  # Python index from 0"
   ]
  },
  {
   "cell_type": "markdown",
   "metadata": {},
   "source": [
    "The expression can be passed to a function:"
   ]
  },
  {
   "cell_type": "code",
   "execution_count": 31,
   "metadata": {
    "collapsed": false
   },
   "outputs": [
    {
     "data": {
      "text/plain": [
       "27"
      ]
     },
     "execution_count": 31,
     "metadata": {},
     "output_type": "execute_result"
    }
   ],
   "source": [
    "3**(x[2])"
   ]
  },
  {
   "cell_type": "code",
   "execution_count": 32,
   "metadata": {
    "collapsed": false
   },
   "outputs": [
    {
     "data": {
      "text/plain": [
       "array([   2,    4,    8,   16,   32,   64,  128,  256,  512, 1024])"
      ]
     },
     "execution_count": 32,
     "metadata": {},
     "output_type": "execute_result"
    }
   ],
   "source": [
    "2**x"
   ]
  },
  {
   "cell_type": "markdown",
   "metadata": {},
   "source": [
    "The expression can also be used for direct assignment:"
   ]
  },
  {
   "cell_type": "code",
   "execution_count": 33,
   "metadata": {
    "collapsed": false
   },
   "outputs": [
    {
     "data": {
      "text/plain": [
       "array([  1,   2, 100,   4,   5,   6,   7,   8,   9,  10])"
      ]
     },
     "execution_count": 33,
     "metadata": {},
     "output_type": "execute_result"
    }
   ],
   "source": [
    "x[2] = 100\n",
    "x"
   ]
  },
  {
   "cell_type": "markdown",
   "metadata": {},
   "source": [
    "Negative indexes select the elements in opposite order."
   ]
  },
  {
   "cell_type": "code",
   "execution_count": 34,
   "metadata": {
    "collapsed": false
   },
   "outputs": [
    {
     "name": "stdout",
     "output_type": "stream",
     "text": [
      "10\n",
      "9\n",
      "1\n"
     ]
    }
   ],
   "source": [
    "print(x[-1])\n",
    "print(x[-2]) \n",
    "print(x[-10])\n",
    "# Notice that it does not start with “-0”, OF COURSE!!"
   ]
  },
  {
   "cell_type": "markdown",
   "metadata": {},
   "source": [
    "**Exercise 2**\n",
    "\n",
    "Initialize `x` again with:\n",
    "```\n",
    "x = np.arange(1, 11)\n",
    "```\n",
    "\n",
    "- Run `x[2]=3.0`. Which entry of the array x will be updated?\n",
    "- Run `x[2]=3.1`. Which entry of the array x will be updated?\n",
    "- Run `x.astype(float)` to change the type to float, then update the third element to 3.1."
   ]
  },
  {
   "cell_type": "code",
   "execution_count": 40,
   "metadata": {
    "collapsed": false
   },
   "outputs": [
    {
     "data": {
      "text/plain": [
       "array([ 1,  2,  3,  4,  5,  6,  7,  8,  9, 10])"
      ]
     },
     "execution_count": 40,
     "metadata": {},
     "output_type": "execute_result"
    }
   ],
   "source": [
    "x = np.arange(1, 11)\n",
    "x"
   ]
  },
  {
   "cell_type": "code",
   "execution_count": 41,
   "metadata": {
    "collapsed": false
   },
   "outputs": [
    {
     "name": "stdout",
     "output_type": "stream",
     "text": [
      "[ 1  2  3  4  5  6  7  8  9 10]\n",
      "int32\n",
      "[ 1  2  3  4  5  6  7  8  9 10]\n",
      "int32\n",
      "[  1.    2.    3.1   4.    5.    6.    7.    8.    9.   10. ]\n",
      "float64\n"
     ]
    }
   ],
   "source": [
    "#### Your code here\n",
    "x[2]=3.0\n",
    "print x\n",
    "print x.dtype\n",
    "\n",
    "x[2]=3.1\n",
    "print x\n",
    "print x.dtype\n",
    "\n",
    "x = x.astype(float)\n",
    "x[2]=3.1\n",
    "print x\n",
    "print x.dtype\n"
   ]
  },
  {
   "cell_type": "markdown",
   "metadata": {},
   "source": [
    "It is often necessary to subscript in a higher dimensional array. Start by constructing one below:"
   ]
  },
  {
   "cell_type": "code",
   "execution_count": 42,
   "metadata": {
    "collapsed": false
   },
   "outputs": [
    {
     "data": {
      "text/plain": [
       "array([[1, 2, 3],\n",
       "       [4, 5, 6],\n",
       "       [7, 8, 9]])"
      ]
     },
     "execution_count": 42,
     "metadata": {},
     "output_type": "execute_result"
    }
   ],
   "source": [
    "high_x = np.array([[1,2,3],[4,5,6],[7,8,9]])\n",
    "high_x"
   ]
  },
  {
   "cell_type": "markdown",
   "metadata": {},
   "source": [
    "As mentioned, a 2-dimensional ndarray can be treated as a nested list. Therefore, to access the number 2 (row 0 column 1), it is the element 1 in the list 0:"
   ]
  },
  {
   "cell_type": "code",
   "execution_count": 43,
   "metadata": {
    "collapsed": false
   },
   "outputs": [
    {
     "data": {
      "text/plain": [
       "2"
      ]
     },
     "execution_count": 43,
     "metadata": {},
     "output_type": "execute_result"
    }
   ],
   "source": [
    "high_x[0][1]  # teh same way we could access the elements of a nested list in python"
   ]
  },
  {
   "cell_type": "code",
   "execution_count": 46,
   "metadata": {
    "collapsed": false
   },
   "outputs": [
    {
     "data": {
      "text/plain": [
       "2"
      ]
     },
     "execution_count": 46,
     "metadata": {},
     "output_type": "execute_result"
    }
   ],
   "source": [
    "high_x[0,1] # this also works"
   ]
  },
  {
   "cell_type": "markdown",
   "metadata": {},
   "source": [
    "The whole row 0 may be selected as follows:"
   ]
  },
  {
   "cell_type": "code",
   "execution_count": 45,
   "metadata": {
    "collapsed": false
   },
   "outputs": [
    {
     "data": {
      "text/plain": [
       "array([1, 2, 3])"
      ]
     },
     "execution_count": 45,
     "metadata": {},
     "output_type": "execute_result"
    }
   ],
   "source": [
    "high_x[0]"
   ]
  },
  {
   "cell_type": "markdown",
   "metadata": {},
   "source": [
    "A 2-dimensional array may be treated as a matrix.\n",
    "\n",
    "\\begin{pmatrix}\n",
    "1 &2  &3 \\\\ \n",
    "4 &5  &6 \\\\ \n",
    "7 &8  &9 \n",
    "\\end{pmatrix}\n",
    "\n",
    "A 2-dimensional array can be indexed using a pair of integers -- row and column indices. Conventionally, the first index is for row, the second for column."
   ]
  },
  {
   "cell_type": "code",
   "execution_count": 47,
   "metadata": {
    "collapsed": false
   },
   "outputs": [
    {
     "name": "stdout",
     "output_type": "stream",
     "text": [
      "1\n",
      "2\n",
      "3\n",
      "4\n",
      "5\n",
      "6\n",
      "7\n",
      "8\n",
      "9\n"
     ]
    }
   ],
   "source": [
    "print(high_x[0,0]) \n",
    "print(high_x[0,1])\n",
    "print(high_x[0,2])\n",
    "print(high_x[1,0])\n",
    "print(high_x[1,1])\n",
    "print(high_x[1,2])\n",
    "print(high_x[2,0])\n",
    "print(high_x[2,1])\n",
    "print(high_x[2,2])"
   ]
  },
  {
   "cell_type": "markdown",
   "metadata": {},
   "source": [
    "The first two rows may be accessed using slicing, as follows:"
   ]
  },
  {
   "cell_type": "code",
   "execution_count": 39,
   "metadata": {
    "collapsed": false
   },
   "outputs": [
    {
     "data": {
      "text/plain": [
       "array([[1, 2, 3],\n",
       "       [4, 5, 6]])"
      ]
     },
     "execution_count": 39,
     "metadata": {},
     "output_type": "execute_result"
    }
   ],
   "source": [
    "high_x[:2]"
   ]
  },
  {
   "cell_type": "markdown",
   "metadata": {},
   "source": [
    "A combination of slicing and indexing can be used to access the second column of the first two rows."
   ]
  },
  {
   "cell_type": "code",
   "execution_count": 48,
   "metadata": {
    "collapsed": false
   },
   "outputs": [
    {
     "data": {
      "text/plain": [
       "array([2, 5])"
      ]
     },
     "execution_count": 48,
     "metadata": {},
     "output_type": "execute_result"
    }
   ],
   "source": [
    "high_x[:2,1]     # use this notation => good"
   ]
  },
  {
   "cell_type": "markdown",
   "metadata": {},
   "source": [
    "Note this does not work using the syntax with two sets of hard brackets.  The two syntaxes do not yield the same output.  They are not equivalent when slicing."
   ]
  },
  {
   "cell_type": "code",
   "execution_count": 49,
   "metadata": {
    "collapsed": false
   },
   "outputs": [
    {
     "data": {
      "text/plain": [
       "array([4, 5, 6])"
      ]
     },
     "execution_count": 49,
     "metadata": {},
     "output_type": "execute_result"
    }
   ],
   "source": [
    "high_x[:2][1]  # don't use this notation => bad"
   ]
  },
  {
   "cell_type": "markdown",
   "metadata": {},
   "source": [
    "<p><a name=\"shape\"></a></p>\n",
    "### Shape\n",
    "\n",
    "The shape of a matrix can be denoted by the number of rows and columns it contains. The shape of a matrix is a tuple, **(rows,cols)**. For example, consider  the following is a 2 by 3 matrix.\n",
    "\n",
    "\\begin{pmatrix}\n",
    "1 &2  &3 \\\\ \n",
    "4 &5  &6 \n",
    "\\end{pmatrix}\n",
    "\n",
    "For a numpy array, the shape can be accessed by calling the `shape` attribute."
   ]
  },
  {
   "cell_type": "code",
   "execution_count": 50,
   "metadata": {
    "collapsed": false
   },
   "outputs": [
    {
     "data": {
      "text/plain": [
       "(2L, 3L)"
      ]
     },
     "execution_count": 50,
     "metadata": {},
     "output_type": "execute_result"
    }
   ],
   "source": [
    "high_x1 = np.array([[1,2,3],[4,5,6]])\n",
    "high_x1.shape"
   ]
  },
  {
   "cell_type": "code",
   "execution_count": 45,
   "metadata": {
    "collapsed": false
   },
   "outputs": [
    {
     "name": "stdout",
     "output_type": "stream",
     "text": [
      "[[[-1  2  1  2]\n",
      "  [ 5 -6  5  6]\n",
      "  [ 7  8 -7  8]]\n",
      "\n",
      " [[ 1  2  1  2]\n",
      "  [ 5  6  5  6]\n",
      "  [ 7  8  7  8]]]\n",
      "(2, 3, 4)\n"
     ]
    }
   ],
   "source": [
    "print(higher_dim)\n",
    "print(higher_dim.shape)"
   ]
  },
  {
   "cell_type": "markdown",
   "metadata": {},
   "source": [
    "Now the idea and notation of the shape has been established.  When constructing arrays from `ones` a tuple may be passed as an argument to determine the shape of the resulting array."
   ]
  },
  {
   "cell_type": "code",
   "execution_count": 46,
   "metadata": {
    "collapsed": false
   },
   "outputs": [
    {
     "data": {
      "text/plain": [
       "array([[ 1.,  1.,  1.],\n",
       "       [ 1.,  1.,  1.]])"
      ]
     },
     "execution_count": 46,
     "metadata": {},
     "output_type": "execute_result"
    }
   ],
   "source": [
    "np.ones((2,3))"
   ]
  },
  {
   "cell_type": "markdown",
   "metadata": {},
   "source": [
    "The function `zero()` works in the same way:"
   ]
  },
  {
   "cell_type": "code",
   "execution_count": 47,
   "metadata": {
    "collapsed": false
   },
   "outputs": [
    {
     "data": {
      "text/plain": [
       "array([[ 0.,  0.],\n",
       "       [ 0.,  0.],\n",
       "       [ 0.,  0.]])"
      ]
     },
     "execution_count": 47,
     "metadata": {},
     "output_type": "execute_result"
    }
   ],
   "source": [
    "np.zeros((3,2))"
   ]
  },
  {
   "cell_type": "markdown",
   "metadata": {},
   "source": [
    "The shape of an array can be changed using the method `reshape()`, as follows:"
   ]
  },
  {
   "cell_type": "code",
   "execution_count": 55,
   "metadata": {
    "collapsed": false
   },
   "outputs": [
    {
     "data": {
      "text/plain": [
       "array([[0, 1, 2, 3],\n",
       "       [4, 5, 6, 7]])"
      ]
     },
     "execution_count": 55,
     "metadata": {},
     "output_type": "execute_result"
    }
   ],
   "source": [
    "x = np.arange(8)\n",
    "x.reshape([2,4])"
   ]
  },
  {
   "cell_type": "markdown",
   "metadata": {},
   "source": [
    "Reshaping can also be achieved by changing the `shape` attribute directly."
   ]
  },
  {
   "cell_type": "code",
   "execution_count": 56,
   "metadata": {
    "collapsed": false
   },
   "outputs": [
    {
     "data": {
      "text/plain": [
       "array([[0, 1, 2, 3],\n",
       "       [4, 5, 6, 7]])"
      ]
     },
     "execution_count": 56,
     "metadata": {},
     "output_type": "execute_result"
    }
   ],
   "source": [
    "x = np.arange(8)\n",
    "x.shape = (2,4)\n",
    "x"
   ]
  },
  {
   "cell_type": "markdown",
   "metadata": {},
   "source": [
    "The method `reshape()` allows two different ordering. The default ordering is the one shown above, filling row by row. This is specified by the value of the keyword parameter `order='C'`:"
   ]
  },
  {
   "cell_type": "code",
   "execution_count": 57,
   "metadata": {
    "collapsed": false
   },
   "outputs": [
    {
     "data": {
      "text/plain": [
       "array([[0, 1, 2, 3],\n",
       "       [4, 5, 6, 7]])"
      ]
     },
     "execution_count": 57,
     "metadata": {},
     "output_type": "execute_result"
    }
   ],
   "source": [
    "x = np.arange(8)\n",
    "x.reshape([2,4], order='C')"
   ]
  },
  {
   "cell_type": "markdown",
   "metadata": {},
   "source": [
    "The alternate ordering, specified by `order='F'`, fills up column by column."
   ]
  },
  {
   "cell_type": "code",
   "execution_count": 58,
   "metadata": {
    "collapsed": false
   },
   "outputs": [
    {
     "data": {
      "text/plain": [
       "array([[0, 2, 4, 6],\n",
       "       [1, 3, 5, 7]])"
      ]
     },
     "execution_count": 58,
     "metadata": {},
     "output_type": "execute_result"
    }
   ],
   "source": [
    "x = np.arange(8)\n",
    "x.reshape([2,4], order='F')"
   ]
  },
  {
   "cell_type": "markdown",
   "metadata": {},
   "source": [
    "All this can be generalized to higher dimensions.  The number of dimensions is simply the number of elements in the shape tuple.  The construction of a 3-D array of ones is written as follows:"
   ]
  },
  {
   "cell_type": "code",
   "execution_count": 59,
   "metadata": {
    "collapsed": false
   },
   "outputs": [
    {
     "data": {
      "text/plain": [
       "array([[[ 1.,  1.,  1.,  1.],\n",
       "        [ 1.,  1.,  1.,  1.],\n",
       "        [ 1.,  1.,  1.,  1.]],\n",
       "\n",
       "       [[ 1.,  1.,  1.,  1.],\n",
       "        [ 1.,  1.,  1.,  1.],\n",
       "        [ 1.,  1.,  1.,  1.]]])"
      ]
     },
     "execution_count": 59,
     "metadata": {},
     "output_type": "execute_result"
    }
   ],
   "source": [
    "np.ones((2,3,4))"
   ]
  },
  {
   "cell_type": "markdown",
   "metadata": {},
   "source": [
    "**Exercise 3**\n",
    "\n",
    "- Create a 4 by 5 five matrix with all the  entries 8.\n",
    "- Create an array corresponding to the matrix below:\n",
    "\\begin{pmatrix}\n",
    "9 &8  &7 \\\\ \n",
    "6 &5  &4 \n",
    "\\end{pmatrix}"
   ]
  },
  {
   "cell_type": "code",
   "execution_count": 99,
   "metadata": {
    "collapsed": false
   },
   "outputs": [
    {
     "name": "stdout",
     "output_type": "stream",
     "text": [
      "[[ 8.  8.  8.  8.  8.]\n",
      " [ 8.  8.  8.  8.  8.]\n",
      " [ 8.  8.  8.  8.  8.]\n",
      " [ 8.  8.  8.  8.  8.]]\n",
      "[[9 8 7]\n",
      " [6 5 4]]\n"
     ]
    }
   ],
   "source": [
    "#### Your code here\n",
    "\n",
    "a = 8*np.ones((4,5))\n",
    "b = np.arange(9,3,-1).reshape([2,3])\n",
    "\n",
    "print a\n",
    "print b\n"
   ]
  },
  {
   "cell_type": "code",
   "execution_count": 64,
   "metadata": {
    "collapsed": false
   },
   "outputs": [
    {
     "data": {
      "text/plain": [
       "array([[9, 8, 7],\n",
       "       [6, 5, 4]])"
      ]
     },
     "execution_count": 64,
     "metadata": {},
     "output_type": "execute_result"
    }
   ],
   "source": [
    "# we can also do it this way (using class method):\n",
    "\n",
    "np.reshape(np.arange(9,3,-1),(2,3))"
   ]
  },
  {
   "cell_type": "markdown",
   "metadata": {},
   "source": [
    "<p><a name=\"operations\"></a></p>\n",
    "### Operations\n",
    "\n",
    "**Arithmetic Operations**\n",
    "\n",
    "Numpy allows mathematical operations to be performed on arrays with ease.  Addition of more than one array and scalar multiplication works as expected, using the standard arithmetic operators: "
   ]
  },
  {
   "cell_type": "code",
   "execution_count": 65,
   "metadata": {
    "collapsed": false
   },
   "outputs": [
    {
     "data": {
      "text/plain": [
       "array([ 9, 12])"
      ]
     },
     "execution_count": 65,
     "metadata": {},
     "output_type": "execute_result"
    }
   ],
   "source": [
    "x = np.array([1,2])\n",
    "y = np.array([3,4])\n",
    "z = np.array([5,6])\n",
    "x + y + z"
   ]
  },
  {
   "cell_type": "code",
   "execution_count": 66,
   "metadata": {
    "collapsed": false
   },
   "outputs": [
    {
     "data": {
      "text/plain": [
       "array([ 5, 10])"
      ]
     },
     "execution_count": 66,
     "metadata": {},
     "output_type": "execute_result"
    }
   ],
   "source": [
    "5*x"
   ]
  },
  {
   "cell_type": "markdown",
   "metadata": {},
   "source": [
    "Addition is an example of **pointwise operations**. This means each element in one array operates on it's corresponding element in the other array.  Here is another example:"
   ]
  },
  {
   "cell_type": "code",
   "execution_count": 67,
   "metadata": {
    "collapsed": false
   },
   "outputs": [
    {
     "data": {
      "text/plain": [
       "array([15, 24])"
      ]
     },
     "execution_count": 67,
     "metadata": {},
     "output_type": "execute_result"
    }
   ],
   "source": [
    "y*z       # Same rule applies to multiplication"
   ]
  },
  {
   "cell_type": "markdown",
   "metadata": {},
   "source": [
    "All the arithmetic operators can work pointwise"
   ]
  },
  {
   "cell_type": "code",
   "execution_count": 68,
   "metadata": {
    "collapsed": false
   },
   "outputs": [
    {
     "data": {
      "text/plain": [
       "array([ 1, 16])"
      ]
     },
     "execution_count": 68,
     "metadata": {},
     "output_type": "execute_result"
    }
   ],
   "source": [
    "x**y"
   ]
  },
  {
   "cell_type": "code",
   "execution_count": 69,
   "metadata": {
    "collapsed": false
   },
   "outputs": [
    {
     "data": {
      "text/plain": [
       "array([3, 2])"
      ]
     },
     "execution_count": 69,
     "metadata": {},
     "output_type": "execute_result"
    }
   ],
   "source": [
    "y/x "
   ]
  },
  {
   "cell_type": "code",
   "execution_count": 49,
   "metadata": {
    "collapsed": false
   },
   "outputs": [
    {
     "data": {
      "text/plain": [
       "array([2, 2])"
      ]
     },
     "execution_count": 49,
     "metadata": {},
     "output_type": "execute_result"
    }
   ],
   "source": [
    "y-x"
   ]
  },
  {
   "cell_type": "code",
   "execution_count": 70,
   "metadata": {
    "collapsed": false
   },
   "outputs": [
    {
     "data": {
      "text/plain": [
       "array([2, 2])"
      ]
     },
     "execution_count": 70,
     "metadata": {},
     "output_type": "execute_result"
    }
   ],
   "source": [
    "z%y "
   ]
  },
  {
   "cell_type": "markdown",
   "metadata": {},
   "source": [
    "**Broadcasting** describes the situation where a unary operator, or binary operator paired with a scalar, is distributed to every element in an array.  Here are examples:"
   ]
  },
  {
   "cell_type": "code",
   "execution_count": 71,
   "metadata": {
    "collapsed": false
   },
   "outputs": [
    {
     "data": {
      "text/plain": [
       "array([4, 5])"
      ]
     },
     "execution_count": 71,
     "metadata": {},
     "output_type": "execute_result"
    }
   ],
   "source": [
    "x+3 "
   ]
  },
  {
   "cell_type": "markdown",
   "metadata": {},
   "source": [
    "All the arithmetic operators can be broadcasted similarly"
   ]
  },
  {
   "cell_type": "code",
   "execution_count": 52,
   "metadata": {
    "collapsed": false
   },
   "outputs": [
    {
     "data": {
      "text/plain": [
       "array([1, 4])"
      ]
     },
     "execution_count": 52,
     "metadata": {},
     "output_type": "execute_result"
    }
   ],
   "source": [
    "x**2"
   ]
  },
  {
   "cell_type": "code",
   "execution_count": 72,
   "metadata": {
    "collapsed": false
   },
   "outputs": [
    {
     "data": {
      "text/plain": [
       "array([0, 1])"
      ]
     },
     "execution_count": 72,
     "metadata": {},
     "output_type": "execute_result"
    }
   ],
   "source": [
    "x/2"
   ]
  },
  {
   "cell_type": "code",
   "execution_count": 54,
   "metadata": {
    "collapsed": false
   },
   "outputs": [
    {
     "data": {
      "text/plain": [
       "array([0, 1])"
      ]
     },
     "execution_count": 54,
     "metadata": {},
     "output_type": "execute_result"
    }
   ],
   "source": [
    "y-3"
   ]
  },
  {
   "cell_type": "code",
   "execution_count": 55,
   "metadata": {
    "collapsed": false
   },
   "outputs": [
    {
     "data": {
      "text/plain": [
       "array([2, 0])"
      ]
     },
     "execution_count": 55,
     "metadata": {},
     "output_type": "execute_result"
    }
   ],
   "source": [
    "z%3   "
   ]
  },
  {
   "cell_type": "markdown",
   "metadata": {},
   "source": [
    "**Comparison Operations**\n",
    "\n",
    "Comparison operators generate Boolean arrays. As binary arithmetic operators, they also follow the broadcasting rule when paired with a scalar."
   ]
  },
  {
   "cell_type": "code",
   "execution_count": 56,
   "metadata": {
    "collapsed": false
   },
   "outputs": [
    {
     "data": {
      "text/plain": [
       "array([False,  True], dtype=bool)"
      ]
     },
     "execution_count": 56,
     "metadata": {},
     "output_type": "execute_result"
    }
   ],
   "source": [
    "x>1"
   ]
  },
  {
   "cell_type": "markdown",
   "metadata": {},
   "source": [
    "All the comparison operators can be broadcasted similarly."
   ]
  },
  {
   "cell_type": "code",
   "execution_count": 57,
   "metadata": {
    "collapsed": false
   },
   "outputs": [
    {
     "data": {
      "text/plain": [
       "array([False, False], dtype=bool)"
      ]
     },
     "execution_count": 57,
     "metadata": {},
     "output_type": "execute_result"
    }
   ],
   "source": [
    "x<1"
   ]
  },
  {
   "cell_type": "code",
   "execution_count": 58,
   "metadata": {
    "collapsed": false
   },
   "outputs": [
    {
     "data": {
      "text/plain": [
       "array([ True, False], dtype=bool)"
      ]
     },
     "execution_count": 58,
     "metadata": {},
     "output_type": "execute_result"
    }
   ],
   "source": [
    "y<=3"
   ]
  },
  {
   "cell_type": "code",
   "execution_count": 59,
   "metadata": {
    "collapsed": false
   },
   "outputs": [
    {
     "data": {
      "text/plain": [
       "array([False,  True], dtype=bool)"
      ]
     },
     "execution_count": 59,
     "metadata": {},
     "output_type": "execute_result"
    }
   ],
   "source": [
    "z>=6"
   ]
  },
  {
   "cell_type": "code",
   "execution_count": 60,
   "metadata": {
    "collapsed": false
   },
   "outputs": [
    {
     "data": {
      "text/plain": [
       "array([ True, False], dtype=bool)"
      ]
     },
     "execution_count": 60,
     "metadata": {},
     "output_type": "execute_result"
    }
   ],
   "source": [
    "z==5"
   ]
  },
  {
   "cell_type": "markdown",
   "metadata": {},
   "source": [
    "Comparison operators acting between arrays work **pointwise**.  Each element in the left array is compared to the corresponding element in the right array.  The two arrays must therefore have the same shape."
   ]
  },
  {
   "cell_type": "code",
   "execution_count": 61,
   "metadata": {
    "collapsed": false
   },
   "outputs": [
    {
     "data": {
      "text/plain": [
       "array([False, False], dtype=bool)"
      ]
     },
     "execution_count": 61,
     "metadata": {},
     "output_type": "execute_result"
    }
   ],
   "source": [
    "x>y"
   ]
  },
  {
   "cell_type": "code",
   "execution_count": 62,
   "metadata": {
    "collapsed": false
   },
   "outputs": [
    {
     "data": {
      "text/plain": [
       "array([ True,  True], dtype=bool)"
      ]
     },
     "execution_count": 62,
     "metadata": {},
     "output_type": "execute_result"
    }
   ],
   "source": [
    "x < y"
   ]
  },
  {
   "cell_type": "code",
   "execution_count": 63,
   "metadata": {
    "collapsed": false
   },
   "outputs": [
    {
     "data": {
      "text/plain": [
       "array([ True,  True], dtype=bool)"
      ]
     },
     "execution_count": 63,
     "metadata": {},
     "output_type": "execute_result"
    }
   ],
   "source": [
    "y<=z"
   ]
  },
  {
   "cell_type": "code",
   "execution_count": 64,
   "metadata": {
    "collapsed": false
   },
   "outputs": [
    {
     "data": {
      "text/plain": [
       "array([ True,  True], dtype=bool)"
      ]
     },
     "execution_count": 64,
     "metadata": {},
     "output_type": "execute_result"
    }
   ],
   "source": [
    "z>=x"
   ]
  },
  {
   "cell_type": "code",
   "execution_count": 65,
   "metadata": {
    "collapsed": false
   },
   "outputs": [
    {
     "data": {
      "text/plain": [
       "array([False, False], dtype=bool)"
      ]
     },
     "execution_count": 65,
     "metadata": {},
     "output_type": "execute_result"
    }
   ],
   "source": [
    "z==x"
   ]
  },
  {
   "cell_type": "markdown",
   "metadata": {},
   "source": [
    "**Logical Operators**\n",
    "\n",
    "The logical operators `and,or` (`&,|`) work pointwise when acting between two boolean arrays of thew same shape."
   ]
  },
  {
   "cell_type": "code",
   "execution_count": 73,
   "metadata": {
    "collapsed": false
   },
   "outputs": [],
   "source": [
    "b_1 = np.array([True, True, True])\n",
    "b_2 = np.array([True, True, False])\n",
    "b_3 = np.array([True, False, False])\n",
    "b_4 = np.array([False, False, False])"
   ]
  },
  {
   "cell_type": "code",
   "execution_count": 74,
   "metadata": {
    "collapsed": false
   },
   "outputs": [
    {
     "name": "stdout",
     "output_type": "stream",
     "text": [
      "[ True  True False]\n",
      "[ True  True False]\n"
     ]
    }
   ],
   "source": [
    "#logical and \n",
    "print(b_1 & b_2)\n",
    "print(np.logical_and(b_1,b_2))"
   ]
  },
  {
   "cell_type": "code",
   "execution_count": 75,
   "metadata": {
    "collapsed": false
   },
   "outputs": [
    {
     "name": "stdout",
     "output_type": "stream",
     "text": [
      "[ True  True False]\n",
      "[ True  True  True]\n"
     ]
    }
   ],
   "source": [
    "#logical or\n",
    "print(b_2 | b_4)\n",
    "print(np.logical_or(b_1,b_2))"
   ]
  },
  {
   "cell_type": "markdown",
   "metadata": {},
   "source": [
    "The logical operator `not`  is unary.  It only has one argument.  When acting on a boolean array it is broadcast to all the elements."
   ]
  },
  {
   "cell_type": "code",
   "execution_count": 64,
   "metadata": {
    "collapsed": false
   },
   "outputs": [
    {
     "data": {
      "text/plain": [
       "array([False,  True,  True], dtype=bool)"
      ]
     },
     "execution_count": 64,
     "metadata": {},
     "output_type": "execute_result"
    }
   ],
   "source": [
    "#logical not\n",
    "np.logical_not(b_3)"
   ]
  },
  {
   "cell_type": "markdown",
   "metadata": {},
   "source": [
    "**Aggregating Boolean Arrays**\n",
    "\n",
    "- The `all` operator outputs the `logical_and` between all the elements of a boolean array.  \n",
    "- The `any` operator outputs the `logical_or` between all the elements of a boolean array.\n",
    "\n",
    "These types of operations are known as aggregating."
   ]
  },
  {
   "cell_type": "code",
   "execution_count": 77,
   "metadata": {
    "collapsed": false
   },
   "outputs": [
    {
     "name": "stdout",
     "output_type": "stream",
     "text": [
      "True\n",
      "False\n"
     ]
    }
   ],
   "source": [
    "print(b_1.all())\n",
    "print(b_2.all())"
   ]
  },
  {
   "cell_type": "code",
   "execution_count": 78,
   "metadata": {
    "collapsed": false
   },
   "outputs": [
    {
     "name": "stdout",
     "output_type": "stream",
     "text": [
      "True\n",
      "False\n"
     ]
    }
   ],
   "source": [
    "print(b_3.any())\n",
    "print(b_4.any())"
   ]
  },
  {
   "cell_type": "markdown",
   "metadata": {},
   "source": [
    "**Fancy Indexing**\n",
    "\n",
    "It is often necessary to filter an array according to some condition. This can be done by two steps.\n",
    "\n",
    "- Generate Boolean array using the condition"
   ]
  },
  {
   "cell_type": "code",
   "execution_count": 79,
   "metadata": {
    "collapsed": false
   },
   "outputs": [
    {
     "data": {
      "text/plain": [
       "array([ True, False], dtype=bool)"
      ]
     },
     "execution_count": 79,
     "metadata": {},
     "output_type": "execute_result"
    }
   ],
   "source": [
    "x==1"
   ]
  },
  {
   "cell_type": "markdown",
   "metadata": {},
   "source": [
    "- Slice the array with the Boolean array"
   ]
  },
  {
   "cell_type": "code",
   "execution_count": 80,
   "metadata": {
    "collapsed": false
   },
   "outputs": [
    {
     "data": {
      "text/plain": [
       "array([1])"
      ]
     },
     "execution_count": 80,
     "metadata": {},
     "output_type": "execute_result"
    }
   ],
   "source": [
    "x[np.array([ True, False])]"
   ]
  },
  {
   "cell_type": "markdown",
   "metadata": {},
   "source": [
    "The two steps can be combined into a single step.  This is known as \"fancy indexing.\""
   ]
  },
  {
   "cell_type": "code",
   "execution_count": 82,
   "metadata": {
    "collapsed": false
   },
   "outputs": [
    {
     "data": {
      "text/plain": [
       "array([1, 2])"
      ]
     },
     "execution_count": 82,
     "metadata": {},
     "output_type": "execute_result"
    }
   ],
   "source": [
    "x[x==1]"
   ]
  },
  {
   "cell_type": "markdown",
   "metadata": {},
   "source": [
    "Fancy indexing can be applied to arrays of any dimension. Slicing with a boolean array, as is done in fancy indexing, drops the shape of the array.  A one dimensional array is returned."
   ]
  },
  {
   "cell_type": "code",
   "execution_count": 83,
   "metadata": {
    "collapsed": false
   },
   "outputs": [
    {
     "data": {
      "text/plain": [
       "array([3, 4, 5, 6])"
      ]
     },
     "execution_count": 83,
     "metadata": {},
     "output_type": "execute_result"
    }
   ],
   "source": [
    "high_x = np.array([[1,2,3],[4,5,6]])\n",
    "high_x[high_x>=3]"
   ]
  },
  {
   "cell_type": "markdown",
   "metadata": {},
   "source": [
    "However, assignment with fancy indexing doesn’t change the shape."
   ]
  },
  {
   "cell_type": "code",
   "execution_count": 84,
   "metadata": {
    "collapsed": false
   },
   "outputs": [
    {
     "data": {
      "text/plain": [
       "array([[ 1,  2, 10],\n",
       "       [10, 10, 10]])"
      ]
     },
     "execution_count": 84,
     "metadata": {},
     "output_type": "execute_result"
    }
   ],
   "source": [
    "high_x[high_x>=3]=10\n",
    "high_x\n"
   ]
  },
  {
   "cell_type": "markdown",
   "metadata": {},
   "source": [
    "** Exercise 4**\n",
    "\n",
    "Run the code below to create arrays.\n",
    "\n",
    "```\n",
    "ary_1= np.ones([3,2])\n",
    "ary_2=np.arange(1,7).reshape(3,2)\n",
    "```\n",
    "- Sum up the arrays.\n",
    "- Add 1 to the first column of `ary_1`, and add 2 to the second column of `ary_1`.\n",
    "- Update `ary_2`: change any number greater than 4 to 2.5. \n"
   ]
  },
  {
   "cell_type": "code",
   "execution_count": 109,
   "metadata": {
    "collapsed": false
   },
   "outputs": [
    {
     "name": "stdout",
     "output_type": "stream",
     "text": [
      "[[ 1.  1.]\n",
      " [ 1.  1.]\n",
      " [ 1.  1.]]\n",
      "[[1 2]\n",
      " [3 4]\n",
      " [5 6]]\n"
     ]
    }
   ],
   "source": [
    "ary_1= np.ones([3,2])\n",
    "ary_2=np.arange(1,7).reshape(3,2)\n",
    "\n",
    "print ary_1\n",
    "print ary_2"
   ]
  },
  {
   "cell_type": "code",
   "execution_count": 110,
   "metadata": {
    "collapsed": false
   },
   "outputs": [
    {
     "name": "stdout",
     "output_type": "stream",
     "text": [
      "[[ 2.  3.]\n",
      " [ 4.  5.]\n",
      " [ 6.  7.]]\n",
      "[[ 2.  3.]\n",
      " [ 2.  3.]\n",
      " [ 2.  3.]]\n",
      "[[ 1.   2. ]\n",
      " [ 3.   4. ]\n",
      " [ 2.5  2.5]]\n"
     ]
    }
   ],
   "source": [
    "#### Your code here\n",
    "print ary_1 + ary_2\n",
    "\n",
    "ary_1[:,0] = ary_1[:,0]+1\n",
    "ary_1[:,1] = ary_1[:,1]+2\n",
    "print ary_1\n",
    "\n",
    "ary_2 = ary_2.astype(float)\n",
    "ary_2[ary_2 > 4] = 2.5\n",
    "print ary_2\n"
   ]
  },
  {
   "cell_type": "markdown",
   "metadata": {},
   "source": [
    "<p><a name=\"matrix\"></a></p>\n",
    "### Matrix and Linear Algebra\n",
    "\n",
    "**Matrix type**\n",
    "\n",
    "Numpy has two similar object types, arrays and matrices. A matrix is more narrow in scope as it represents a 2-D structure only.  Numpy provides a function `matrix()` that returns the matrix object type `numpy.matrixlib.defmatrix.matrix`.  The `matrix()` function can be passed a list or an array."
   ]
  },
  {
   "cell_type": "code",
   "execution_count": 75,
   "metadata": {
    "collapsed": false
   },
   "outputs": [
    {
     "name": "stdout",
     "output_type": "stream",
     "text": [
      "<class 'numpy.matrixlib.defmatrix.matrix'>\n",
      "(1, 2)\n"
     ]
    }
   ],
   "source": [
    "x = np.matrix([3,2])\n",
    "print(type(x))\n",
    "print(x.shape)"
   ]
  },
  {
   "cell_type": "code",
   "execution_count": 111,
   "metadata": {
    "collapsed": false
   },
   "outputs": [
    {
     "data": {
      "text/plain": [
       "matrix([[3, 4, 5]])"
      ]
     },
     "execution_count": 111,
     "metadata": {},
     "output_type": "execute_result"
    }
   ],
   "source": [
    "a=np.array([3,4,5])\n",
    "m=np.matrix(a)\n",
    "m"
   ]
  },
  {
   "cell_type": "markdown",
   "metadata": {},
   "source": [
    "**Exercise 5**\n",
    "\n",
    "Consider an important side issue here. First create an array using the following: \n",
    "```\n",
    "ary=np.array([1,2,3,4])\n",
    "```\n",
    "- Next, create two matrices:  \n",
    "```\n",
    "m1=np.matrix([1,2,3,4])\n",
    "```\n",
    "and \n",
    "```\n",
    "m2=np.mat([1,2,3,4]).\n",
    "```\n",
    "These are two different functions generate matrices, but when you print out m1 and m2, do they look different?\n",
    "\n",
    "- Create the two matrix in different ways, m1=np.matrix(ary) and m2=np.mat(ary). Print them out again, do you see any difference?\n",
    "\n",
    "- Now, execute ary[1]=0. Now print out m1 and m2 again, are they still the same?\n",
    "\n",
    "Remark: This illustrate a common issue when making a copy (m2 is a transformation of a copy of ary). We often thought we create a new object by copying but in fact they are often just two different names of one object. Changing one of them changes the other."
   ]
  },
  {
   "cell_type": "code",
   "execution_count": 117,
   "metadata": {
    "collapsed": false
   },
   "outputs": [
    {
     "name": "stdout",
     "output_type": "stream",
     "text": [
      "[1 2 3 4] \n",
      "\n",
      "[[1 2 3 4]] \n",
      "\n",
      "[[1 2 3 4]] \n",
      "\n",
      "--------------------\n",
      "[1 0 3 4] \n",
      "\n",
      "[[1 2 3 4]] \n",
      "\n",
      "[[1 0 3 4]] \n",
      "\n",
      "--------------------\n"
     ]
    }
   ],
   "source": [
    "#### Your code here\n",
    "\n",
    "ary=np.array([1,2,3,4])\n",
    "m1=np.matrix(ary)   # makes a new copy\n",
    "m2=np.mat(ary)     # this is just a reference to the same memory location\n",
    "print ary,'\\n\\n',m1,'\\n\\n',m2,'\\n\\n','-'*20\n",
    "\n",
    "ary[1]=0\n",
    "print ary,'\\n\\n',m1,'\\n\\n',m2,'\\n\\n','-'*20\n"
   ]
  },
  {
   "cell_type": "markdown",
   "metadata": {},
   "source": [
    "Once an array is converted to a matrix, it is taken for a **2-dimensional object**. The difference lies in the fact that, we can access the second entry of an array by:"
   ]
  },
  {
   "cell_type": "code",
   "execution_count": 126,
   "metadata": {
    "collapsed": false
   },
   "outputs": [
    {
     "name": "stdout",
     "output_type": "stream",
     "text": [
      "4\n",
      "(2L,)\n"
     ]
    }
   ],
   "source": [
    "y=np.array([3,4])\n",
    "print(y[1])\n",
    "print(y.shape)"
   ]
  },
  {
   "cell_type": "markdown",
   "metadata": {},
   "source": [
    "However, if we change y into a matrix, it no longer works:"
   ]
  },
  {
   "cell_type": "code",
   "execution_count": 120,
   "metadata": {
    "collapsed": false
   },
   "outputs": [
    {
     "data": {
      "text/plain": [
       "4"
      ]
     },
     "execution_count": 120,
     "metadata": {},
     "output_type": "execute_result"
    }
   ],
   "source": [
    "y = np.matrix(y)\n",
    "y[0,1]"
   ]
  },
  {
   "cell_type": "markdown",
   "metadata": {},
   "source": [
    "As a matrix, `y` is now 2-dimensional (Notice the extra bracket):"
   ]
  },
  {
   "cell_type": "code",
   "execution_count": 121,
   "metadata": {
    "collapsed": false
   },
   "outputs": [
    {
     "data": {
      "text/plain": [
       "matrix([[3, 4]])"
      ]
     },
     "execution_count": 121,
     "metadata": {},
     "output_type": "execute_result"
    }
   ],
   "source": [
    "y"
   ]
  },
  {
   "cell_type": "markdown",
   "metadata": {},
   "source": [
    "Note the shape compared to the shape of the original array."
   ]
  },
  {
   "cell_type": "code",
   "execution_count": 85,
   "metadata": {
    "collapsed": false
   },
   "outputs": [
    {
     "data": {
      "text/plain": [
       "(1, 2)"
      ]
     },
     "execution_count": 85,
     "metadata": {},
     "output_type": "execute_result"
    }
   ],
   "source": [
    "y.shape"
   ]
  },
  {
   "cell_type": "markdown",
   "metadata": {},
   "source": [
    "The expression `y[1]` indicates the second row of `y`, which does not exist. To access the element with value 4, select the second element in the first row using the following:"
   ]
  },
  {
   "cell_type": "code",
   "execution_count": 86,
   "metadata": {
    "collapsed": false
   },
   "outputs": [
    {
     "data": {
      "text/plain": [
       "4"
      ]
     },
     "execution_count": 86,
     "metadata": {},
     "output_type": "execute_result"
    }
   ],
   "source": [
    "y[0, 1]"
   ]
  },
  {
   "cell_type": "markdown",
   "metadata": {},
   "source": [
    "Multiple inner lists are considered multiple rows:"
   ]
  },
  {
   "cell_type": "code",
   "execution_count": 122,
   "metadata": {
    "collapsed": false
   },
   "outputs": [
    {
     "data": {
      "text/plain": [
       "matrix([[3],\n",
       "        [4]])"
      ]
     },
     "execution_count": 122,
     "metadata": {},
     "output_type": "execute_result"
    }
   ],
   "source": [
    "z = np.matrix([[3],[4]])\n",
    "z"
   ]
  },
  {
   "cell_type": "markdown",
   "metadata": {},
   "source": [
    "**Matrix Multiplication**\n",
    "\n",
    "Another important difference between arrays and matrices is action of the multiplication operator. While the comparison and the other arithmetic operations still works pointwise, multiplication (and therefore raising power) does not. Run the code below and look at the error message."
   ]
  },
  {
   "cell_type": "code",
   "execution_count": 86,
   "metadata": {
    "collapsed": false
   },
   "outputs": [
    {
     "ename": "ValueError",
     "evalue": "shapes (1,2) and (1,2) not aligned: 2 (dim 1) != 1 (dim 0)",
     "output_type": "error",
     "traceback": [
      "\u001b[0;31m---------------------------------------------------------------------------\u001b[0m",
      "\u001b[0;31mValueError\u001b[0m                                Traceback (most recent call last)",
      "\u001b[0;32m<ipython-input-86-747f7af3a7f1>\u001b[0m in \u001b[0;36m<module>\u001b[0;34m()\u001b[0m\n\u001b[0;32m----> 1\u001b[0;31m \u001b[0mx\u001b[0m\u001b[0;34m*\u001b[0m\u001b[0my\u001b[0m\u001b[0;34m\u001b[0m\u001b[0m\n\u001b[0m",
      "\u001b[0;32m/Users/lukelin/anaconda2/lib/python2.7/site-packages/numpy/matrixlib/defmatrix.pyc\u001b[0m in \u001b[0;36m__mul__\u001b[0;34m(self, other)\u001b[0m\n\u001b[1;32m    341\u001b[0m         \u001b[0;32mif\u001b[0m \u001b[0misinstance\u001b[0m\u001b[0;34m(\u001b[0m\u001b[0mother\u001b[0m\u001b[0;34m,\u001b[0m \u001b[0;34m(\u001b[0m\u001b[0mN\u001b[0m\u001b[0;34m.\u001b[0m\u001b[0mndarray\u001b[0m\u001b[0;34m,\u001b[0m \u001b[0mlist\u001b[0m\u001b[0;34m,\u001b[0m \u001b[0mtuple\u001b[0m\u001b[0;34m)\u001b[0m\u001b[0;34m)\u001b[0m \u001b[0;34m:\u001b[0m\u001b[0;34m\u001b[0m\u001b[0m\n\u001b[1;32m    342\u001b[0m             \u001b[0;31m# This promotes 1-D vectors to row vectors\u001b[0m\u001b[0;34m\u001b[0m\u001b[0;34m\u001b[0m\u001b[0m\n\u001b[0;32m--> 343\u001b[0;31m             \u001b[0;32mreturn\u001b[0m \u001b[0mN\u001b[0m\u001b[0;34m.\u001b[0m\u001b[0mdot\u001b[0m\u001b[0;34m(\u001b[0m\u001b[0mself\u001b[0m\u001b[0;34m,\u001b[0m \u001b[0masmatrix\u001b[0m\u001b[0;34m(\u001b[0m\u001b[0mother\u001b[0m\u001b[0;34m)\u001b[0m\u001b[0;34m)\u001b[0m\u001b[0;34m\u001b[0m\u001b[0m\n\u001b[0m\u001b[1;32m    344\u001b[0m         \u001b[0;32mif\u001b[0m \u001b[0misscalar\u001b[0m\u001b[0;34m(\u001b[0m\u001b[0mother\u001b[0m\u001b[0;34m)\u001b[0m \u001b[0;32mor\u001b[0m \u001b[0;32mnot\u001b[0m \u001b[0mhasattr\u001b[0m\u001b[0;34m(\u001b[0m\u001b[0mother\u001b[0m\u001b[0;34m,\u001b[0m \u001b[0;34m'__rmul__'\u001b[0m\u001b[0;34m)\u001b[0m \u001b[0;34m:\u001b[0m\u001b[0;34m\u001b[0m\u001b[0m\n\u001b[1;32m    345\u001b[0m             \u001b[0;32mreturn\u001b[0m \u001b[0mN\u001b[0m\u001b[0;34m.\u001b[0m\u001b[0mdot\u001b[0m\u001b[0;34m(\u001b[0m\u001b[0mself\u001b[0m\u001b[0;34m,\u001b[0m \u001b[0mother\u001b[0m\u001b[0;34m)\u001b[0m\u001b[0;34m\u001b[0m\u001b[0m\n",
      "\u001b[0;31mValueError\u001b[0m: shapes (1,2) and (1,2) not aligned: 2 (dim 1) != 1 (dim 0)"
     ]
    }
   ],
   "source": [
    "x*y   # * represents mutrix multiplication when x and y are numpy matrix"
   ]
  },
  {
   "cell_type": "markdown",
   "metadata": {},
   "source": [
    "The type matrix is for linear algebra, in which the matrix multiplication is always **“a row times a column”**:\n",
    "\n",
    "$$\n",
    "(1,2,3) \\times \\left(\n",
    "\\begin{array}{c}\n",
    "1\\\\\n",
    "2\\\\\n",
    "3\\\\\n",
    "\\end{array}\n",
    "\\right)\n",
    "= (1+4+9) = 14\n",
    "$$"
   ]
  },
  {
   "cell_type": "markdown",
   "metadata": {},
   "source": [
    "The above multiplication is known at the \"dot product.\"  Both `x` and `y` have been transformed from ndarray into matrix type.  , which is taken for a row vector (matrix with 1 row, if you want). To change the later to a column vector (matrix with 1 column), we may use the method `.T`. "
   ]
  },
  {
   "cell_type": "code",
   "execution_count": 123,
   "metadata": {
    "collapsed": false
   },
   "outputs": [
    {
     "name": "stdout",
     "output_type": "stream",
     "text": [
      "[[3 4]]\n",
      "(1L, 2L)\n"
     ]
    }
   ],
   "source": [
    "print(y)\n",
    "print(y.shape)"
   ]
  },
  {
   "cell_type": "code",
   "execution_count": 89,
   "metadata": {
    "collapsed": false
   },
   "outputs": [
    {
     "name": "stdout",
     "output_type": "stream",
     "text": [
      "[[3]\n",
      " [4]]\n",
      "(2, 1)\n"
     ]
    }
   ],
   "source": [
    "print(y.T)\n",
    "print(y.T.shape)"
   ]
  },
  {
   "cell_type": "code",
   "execution_count": 90,
   "metadata": {
    "collapsed": false
   },
   "outputs": [
    {
     "name": "stdout",
     "output_type": "stream",
     "text": [
      "(1, 2)\n"
     ]
    }
   ],
   "source": [
    "print(x.shape)"
   ]
  },
  {
   "cell_type": "markdown",
   "metadata": {},
   "source": [
    "The multiplication can be performed as follows.  This operation is known as the inner product.  It yields a single value."
   ]
  },
  {
   "cell_type": "code",
   "execution_count": 124,
   "metadata": {
    "collapsed": false
   },
   "outputs": [
    {
     "name": "stdout",
     "output_type": "stream",
     "text": [
      "[[11]]\n",
      "(1L, 1L)\n"
     ]
    }
   ],
   "source": [
    "xy1=x*y.T\n",
    "print(xy1)\n",
    "print(xy1.shape)"
   ]
  },
  {
   "cell_type": "markdown",
   "metadata": {},
   "source": [
    "Note how the inner values of the shapes must match.\n",
    "```\n",
    "(1,2)*(2,1) ----> (1,1)\n",
    "```"
   ]
  },
  {
   "cell_type": "markdown",
   "metadata": {},
   "source": [
    "The multiplication may be performed in an alternate fashion.\n",
    "```\n",
    "(2,1)*(1,2) ----> (2,2)\n",
    "```\n",
    "Note the inner values of the shape still match but a 2x2 matrix is returned.  This is known as the outer product."
   ]
  },
  {
   "cell_type": "code",
   "execution_count": 125,
   "metadata": {
    "collapsed": false
   },
   "outputs": [
    {
     "ename": "ValueError",
     "evalue": "shapes (2,) and (1,2) not aligned: 2 (dim 0) != 1 (dim 0)",
     "output_type": "error",
     "traceback": [
      "\u001b[0;31m---------------------------------------------------------------------------\u001b[0m",
      "\u001b[0;31mValueError\u001b[0m                                Traceback (most recent call last)",
      "\u001b[0;32m<ipython-input-125-da06e8aea3ca>\u001b[0m in \u001b[0;36m<module>\u001b[0;34m()\u001b[0m\n\u001b[0;32m----> 1\u001b[0;31m \u001b[0mxy2\u001b[0m\u001b[1;33m=\u001b[0m\u001b[0mx\u001b[0m\u001b[1;33m.\u001b[0m\u001b[0mT\u001b[0m\u001b[1;33m*\u001b[0m\u001b[0my\u001b[0m\u001b[1;33m\u001b[0m\u001b[0m\n\u001b[0m\u001b[1;32m      2\u001b[0m \u001b[1;32mprint\u001b[0m\u001b[1;33m(\u001b[0m\u001b[0mxy2\u001b[0m\u001b[1;33m)\u001b[0m\u001b[1;33m\u001b[0m\u001b[0m\n\u001b[1;32m      3\u001b[0m \u001b[1;32mprint\u001b[0m\u001b[1;33m(\u001b[0m\u001b[0mxy2\u001b[0m\u001b[1;33m.\u001b[0m\u001b[0mshape\u001b[0m\u001b[1;33m)\u001b[0m\u001b[1;33m\u001b[0m\u001b[0m\n",
      "\u001b[0;32mC:\\Users\\sepeh\\Anaconda2\\lib\\site-packages\\numpy\\matrixlib\\defmatrix.pyc\u001b[0m in \u001b[0;36m__rmul__\u001b[0;34m(self, other)\u001b[0m\n\u001b[1;32m    347\u001b[0m \u001b[1;33m\u001b[0m\u001b[0m\n\u001b[1;32m    348\u001b[0m     \u001b[1;32mdef\u001b[0m \u001b[0m__rmul__\u001b[0m\u001b[1;33m(\u001b[0m\u001b[0mself\u001b[0m\u001b[1;33m,\u001b[0m \u001b[0mother\u001b[0m\u001b[1;33m)\u001b[0m\u001b[1;33m:\u001b[0m\u001b[1;33m\u001b[0m\u001b[0m\n\u001b[0;32m--> 349\u001b[0;31m         \u001b[1;32mreturn\u001b[0m \u001b[0mN\u001b[0m\u001b[1;33m.\u001b[0m\u001b[0mdot\u001b[0m\u001b[1;33m(\u001b[0m\u001b[0mother\u001b[0m\u001b[1;33m,\u001b[0m \u001b[0mself\u001b[0m\u001b[1;33m)\u001b[0m\u001b[1;33m\u001b[0m\u001b[0m\n\u001b[0m\u001b[1;32m    350\u001b[0m \u001b[1;33m\u001b[0m\u001b[0m\n\u001b[1;32m    351\u001b[0m     \u001b[1;32mdef\u001b[0m \u001b[0m__imul__\u001b[0m\u001b[1;33m(\u001b[0m\u001b[0mself\u001b[0m\u001b[1;33m,\u001b[0m \u001b[0mother\u001b[0m\u001b[1;33m)\u001b[0m\u001b[1;33m:\u001b[0m\u001b[1;33m\u001b[0m\u001b[0m\n",
      "\u001b[0;31mValueError\u001b[0m: shapes (2,) and (1,2) not aligned: 2 (dim 0) != 1 (dim 0)"
     ]
    }
   ],
   "source": [
    "xy2=x.T*y\n",
    "print(xy2)\n",
    "print(xy2.shape)"
   ]
  },
  {
   "cell_type": "markdown",
   "metadata": {},
   "source": [
    "Matrix multiplication may also be performed using arrays and the object method `dot`.  It works in much the same way `*` works for matrices but is applicable to higher dimensional arrays.  This makes it more powerful.  The shapes must fit together in the same way as matrix multiplication.  The length of the second dimension in the left array must match the first dimension of the right array.\n",
    "```\n",
    "(m,n) dot (n,k) ----> (m,k)\n",
    "```\n",
    "See the following:"
   ]
  },
  {
   "cell_type": "code",
   "execution_count": 127,
   "metadata": {
    "collapsed": false
   },
   "outputs": [
    {
     "name": "stdout",
     "output_type": "stream",
     "text": [
      "('inner product\\n', 11)\n",
      "-------------\n",
      "('outer product\\n', 11)\n"
     ]
    }
   ],
   "source": [
    "x=np.array(x)\n",
    "y=np.array(y)\n",
    "xy1=x.dot(y.T)\n",
    "xy2=x.T.dot(y)\n",
    "print('inner product\\n',xy1)\n",
    "print('-'*13)\n",
    "print('outer product\\n',xy2)"
   ]
  },
  {
   "cell_type": "markdown",
   "metadata": {
    "collapsed": true
   },
   "source": [
    "**Identity Matrix**\n",
    "\n",
    "The **identity matrix** is a square matrix with all ones in the diagonal elements and other elements zero. An identity array can be created by specifying the dimension in the function `eye()`:"
   ]
  },
  {
   "cell_type": "code",
   "execution_count": 128,
   "metadata": {
    "collapsed": false
   },
   "outputs": [
    {
     "data": {
      "text/plain": [
       "array([[ 1.,  0.,  0.],\n",
       "       [ 0.,  1.,  0.],\n",
       "       [ 0.,  0.,  1.]])"
      ]
     },
     "execution_count": 128,
     "metadata": {},
     "output_type": "execute_result"
    }
   ],
   "source": [
    "np.eye(3)"
   ]
  },
  {
   "cell_type": "markdown",
   "metadata": {},
   "source": [
    "This can be transformed into a matrix type"
   ]
  },
  {
   "cell_type": "code",
   "execution_count": 129,
   "metadata": {
    "collapsed": true
   },
   "outputs": [],
   "source": [
    "Id = np.matrix(np.eye(3))"
   ]
  },
  {
   "cell_type": "markdown",
   "metadata": {},
   "source": [
    "Multiplication of another matrix by the identity matrix leaves the other unchanged.  In this way it acts like the number one for standard multiplication of scalars; thus the name.  "
   ]
  },
  {
   "cell_type": "code",
   "execution_count": 130,
   "metadata": {
    "collapsed": false
   },
   "outputs": [
    {
     "data": {
      "text/plain": [
       "matrix([[0, 1, 2],\n",
       "        [3, 4, 5],\n",
       "        [6, 7, 8]])"
      ]
     },
     "execution_count": 130,
     "metadata": {},
     "output_type": "execute_result"
    }
   ],
   "source": [
    "my_mat = np.matrix(range(9))\n",
    "my_mat = my_mat.reshape([3,3])\n",
    "my_mat"
   ]
  },
  {
   "cell_type": "code",
   "execution_count": 131,
   "metadata": {
    "collapsed": false
   },
   "outputs": [
    {
     "data": {
      "text/plain": [
       "matrix([[ 0.,  1.,  2.],\n",
       "        [ 3.,  4.,  5.],\n",
       "        [ 6.,  7.,  8.]])"
      ]
     },
     "execution_count": 131,
     "metadata": {},
     "output_type": "execute_result"
    }
   ],
   "source": [
    "#left multiplication by the identity matrix\n",
    "Id*my_mat"
   ]
  },
  {
   "cell_type": "code",
   "execution_count": 103,
   "metadata": {
    "collapsed": false
   },
   "outputs": [
    {
     "data": {
      "text/plain": [
       "matrix([[ 0.,  1.,  2.],\n",
       "        [ 3.,  4.,  5.],\n",
       "        [ 6.,  7.,  8.]])"
      ]
     },
     "execution_count": 103,
     "metadata": {},
     "output_type": "execute_result"
    }
   ],
   "source": [
    "#right multiplication by the identity matrix\n",
    "my_mat*Id"
   ]
  },
  {
   "cell_type": "markdown",
   "metadata": {},
   "source": [
    "The 3x3 identity matrix  created above can left multiply any (3,N) shaped matrix or right multiply any (N,3) shaped matrix."
   ]
  },
  {
   "cell_type": "code",
   "execution_count": 132,
   "metadata": {
    "collapsed": false
   },
   "outputs": [
    {
     "data": {
      "text/plain": [
       "matrix([[ 0.],\n",
       "        [ 1.],\n",
       "        [ 2.]])"
      ]
     },
     "execution_count": 132,
     "metadata": {},
     "output_type": "execute_result"
    }
   ],
   "source": [
    "my_vec1 = (np.matrix(range(3))).reshape([3,1])\n",
    "Id*my_vec1"
   ]
  },
  {
   "cell_type": "code",
   "execution_count": 133,
   "metadata": {
    "collapsed": false
   },
   "outputs": [
    {
     "data": {
      "text/plain": [
       "matrix([[ 0.,  1.,  2.]])"
      ]
     },
     "execution_count": 133,
     "metadata": {},
     "output_type": "execute_result"
    }
   ],
   "source": [
    "my_vec2 = (np.matrix(range(3))).reshape([1,3])\n",
    "my_vec2*Id"
   ]
  },
  {
   "cell_type": "markdown",
   "metadata": {},
   "source": [
    "**Inverse**\n",
    "\n",
    "The identity matrix is analogous to the number one.  One is referred to as the multiplicative identity, since any number multiplied by one remains unchanged. A nonzero number has a multiplicative inverse, or reciprocal.  The product of a number and its multiplicative inverse is the multiplicative identity, one. \n",
    "\n",
    "**For real scalars:**\n",
    "\n",
    "- nonzero number: n\n",
    "- multiplicative identity: 1\n",
    "- multiplicative inverse: $\\frac{1}{n}$\n",
    "$$n \\times 1 = n$$\n",
    "\n",
    "$$n \\times \\frac{1}{n}=1$$\n",
    "\n",
    "The analogy for a square matrix is called an inverse matrix.  A nonsingular square matrix has a multiplicative inverse, or inverse matrix.  The product of a matrix and its inverse matrix (in either order) is the identity matrix. \n",
    "\n",
    "**For real-valued square matrices:**\n",
    "\n",
    "- square nonsingular matrix: $M$\n",
    "- identity matrix: $\\textbf{1}$\n",
    "- inverse: $M^{-1}$\n",
    "$$M \\cdot \\textbf{1} = M$$\n",
    "\n",
    "$$M \\cdot M^{-1}=\\textbf{1}$$\n",
    "\n",
    "$$M^{-1} \\cdot M=\\textbf{1}$$"
   ]
  },
  {
   "cell_type": "code",
   "execution_count": 134,
   "metadata": {
    "collapsed": false
   },
   "outputs": [
    {
     "data": {
      "text/plain": [
       "matrix([[1, 2],\n",
       "        [0, 1]])"
      ]
     },
     "execution_count": 134,
     "metadata": {},
     "output_type": "execute_result"
    }
   ],
   "source": [
    "m1 = np.matrix([[1,2],[0,1]])\n",
    "m1"
   ]
  },
  {
   "cell_type": "code",
   "execution_count": 135,
   "metadata": {
    "collapsed": false
   },
   "outputs": [
    {
     "data": {
      "text/plain": [
       "matrix([[ 1, -2],\n",
       "        [ 0,  1]])"
      ]
     },
     "execution_count": 135,
     "metadata": {},
     "output_type": "execute_result"
    }
   ],
   "source": [
    "m2 = np.matrix([[1,-2],[0,1]])\n",
    "m2"
   ]
  },
  {
   "cell_type": "markdown",
   "metadata": {},
   "source": [
    "Computing the product of m1 and m2 (in both orders), yields the identity.  Therefore the inverse of m1 is m2 and vice versa."
   ]
  },
  {
   "cell_type": "code",
   "execution_count": 137,
   "metadata": {
    "collapsed": false
   },
   "outputs": [
    {
     "name": "stdout",
     "output_type": "stream",
     "text": [
      "[[1 0]\n",
      " [0 1]] \n",
      "\n",
      "[[1 0]\n",
      " [0 1]]\n"
     ]
    }
   ],
   "source": [
    "print m1*m2,'\\n\\n',m2*m1"
   ]
  },
  {
   "cell_type": "markdown",
   "metadata": {},
   "source": [
    "If a matrix has an inverse, it is unique. Also note, the inverse of the inverse is the original matrix.\n",
    "\n",
    "For a `Numpy` matrix (with an inverse), there is a method returning the inverse matrix:"
   ]
  },
  {
   "cell_type": "code",
   "execution_count": 138,
   "metadata": {
    "collapsed": false
   },
   "outputs": [
    {
     "name": "stdout",
     "output_type": "stream",
     "text": [
      "[[1 2]\n",
      " [0 1]]\n",
      "\n",
      "\n",
      "[[ 1. -2.]\n",
      " [ 0.  1.]]\n",
      "\n",
      "\n",
      "[[ 1.  2.]\n",
      " [ 0.  1.]]\n"
     ]
    }
   ],
   "source": [
    "print(m1)\n",
    "print('\\n')\n",
    "print(m1.I)\n",
    "print('\\n')\n",
    "print(m1.I.I)"
   ]
  },
  {
   "cell_type": "markdown",
   "metadata": {},
   "source": [
    "**Exercise 6**\n",
    "\n",
    "- How do you find a tuple of `x`, `y` and `z` satisfying all the equations below?\n",
    "\n",
    "$$\n",
    "\\begin{eqnarray}\n",
    "3x +2y -z &= 1\\\\\n",
    "2x -2y +4z &=-2\\\\\n",
    "-x +\\frac{1}{2}y- z&= 0\n",
    "\\end{eqnarray}\n",
    "$$\n",
    "\n",
    "Observe that the equation can be written as:\n",
    "\n",
    "$$\n",
    "\\begin{pmatrix}\n",
    "3 &2  &-1 \\\\ \n",
    "2 &-2  &4 \\\\\n",
    "-1&\\frac{1}{2}&-1\n",
    "\\end{pmatrix}\n",
    "\\times\n",
    "\\begin{pmatrix}\n",
    "x\\\\y\\\\z\n",
    "\\end{pmatrix}\n",
    "=\n",
    "\\begin{pmatrix}\n",
    "1\\\\-2\\\\0\n",
    "\\end{pmatrix}\n",
    "$$\n",
    "\n",
    "From here, can we use **inverse** to solve for x, y and z?"
   ]
  },
  {
   "cell_type": "code",
   "execution_count": 145,
   "metadata": {
    "collapsed": false
   },
   "outputs": [
    {
     "name": "stdout",
     "output_type": "stream",
     "text": [
      "[[ 3.   2.  -1. ]\n",
      " [ 2.  -2.   4. ]\n",
      " [-1.   0.5 -1. ]]\n",
      "[[ 1]\n",
      " [-2]\n",
      " [ 0]]\n",
      "[[ 1.]\n",
      " [-2.]\n",
      " [-2.]]\n"
     ]
    }
   ],
   "source": [
    "#### Your code here\n",
    "c = np.matrix([[3,2,-1],[2,-2,4],[-1,0.5,-1]])\n",
    "print c\n",
    "b = np.matrix([1,-2,0]).reshape(3,1)\n",
    "print b\n",
    "\n",
    "print c.I*b"
   ]
  },
  {
   "cell_type": "markdown",
   "metadata": {},
   "source": [
    "<p><a name=\"scipy\"></a></p>\n",
    "## Scipy Overview\n",
    "\n",
    "SciPy is a package for scientific computing and technical computing with Python. \n",
    "- SciPy builds on the NumPy array object and is part of the NumPy stack which includes tools like Matplotlib and pandas.\n",
    "- SciPy contains modules for stats (which we will focus on), integration, optimize, linear algebra, interpolation, special functions, FFT, signal, image processing, ODE solvers and more.\n",
    "- For full documentation, go to:  http://docs.scipy.org/doc/.\n",
    "\n",
    "**Sample data set**\n",
    "\n",
    "Before beginning the class in SciPy, import the necessary modules. We import datasets from “sklearn” module to access the sample data set -- iris."
   ]
  },
  {
   "cell_type": "code",
   "execution_count": 146,
   "metadata": {
    "collapsed": true
   },
   "outputs": [],
   "source": [
    "import numpy as np\n",
    "from scipy import stats\n",
    "\n",
    "from sklearn import datasets\n",
    "iris_raw = datasets.load_iris()"
   ]
  },
  {
   "cell_type": "markdown",
   "metadata": {},
   "source": [
    "The stats module contains a variety of statistical tools, including:\n",
    " - Statistical functions\n",
    " - Hypothesis testing\n",
    " - Random Sampling\n",
    " \n",
    "Run the code below to see a list of the stats module functions."
   ]
  },
  {
   "cell_type": "code",
   "execution_count": 103,
   "metadata": {
    "collapsed": false
   },
   "outputs": [
    {
     "name": "stdout",
     "output_type": "stream",
     "text": [
      "==========================================\n",
      "Statistical functions (:mod:`scipy.stats`)\n",
      "==========================================\n",
      "\n",
      ".. module:: scipy.stats\n",
      "\n",
      "This module contains a large number of probability distributions as\n",
      "well as a growing library of statistical functions.\n",
      "\n",
      "Each univariate distribution is an instance of a subclass of `rv_continuous`\n",
      "(`rv_discrete` for discrete distributions):\n",
      "\n",
      ".. autosummary::\n",
      "   :toctree: generated/\n",
      "\n",
      "   rv_continuous\n",
      "   rv_discrete\n",
      "\n",
      "Continuous distributions\n",
      "========================\n",
      "\n",
      ".. autosummary::\n",
      "   :toctree: generated/\n",
      "\n",
      "   alpha             -- Alpha\n",
      "   anglit            -- Anglit\n",
      "   arcsine           -- Arcsine\n",
      "   beta              -- Beta\n",
      "   betaprime         -- Beta Prime\n",
      "   bradford          -- Bradford\n",
      "   burr              -- Burr\n",
      "   cauchy            -- Cauchy\n",
      "   chi               -- Chi\n",
      "   chi2              -- Chi-squared\n",
      "   cosine            -- Cosine\n",
      "   dgamma            -- Double Gamma\n",
      "   dweibull          -- Double Weibull\n",
      "   erlang            -- Erlang\n",
      "   expon             -- Exponential\n",
      "   exponnorm         -- Exponentially Modified Normal\n",
      "   exponweib         -- Exponentiated Weibull\n",
      "   exponpow          -- Exponential Power\n",
      "   f                 -- F (Snecdor F)\n",
      "   fatiguelife       -- Fatigue Life (Birnbaum-Saunders)\n",
      "   fisk              -- Fisk\n",
      "   foldcauchy        -- Folded Cauchy\n",
      "   foldnorm          -- Folded Normal\n",
      "   frechet_r         -- Frechet Right Sided, Extreme Value Type II (Extreme LB) or weibull_min\n",
      "   frechet_l         -- Frechet Left Sided, Weibull_max\n",
      "   genlogistic       -- Generalized Logistic\n",
      "   gennorm           -- Generalized normal\n",
      "   genpareto         -- Generalized Pareto\n",
      "   genexpon          -- Generalized Exponential\n",
      "   genextreme        -- Generalized Extreme Value\n",
      "   gausshyper        -- Gauss Hypergeometric\n",
      "   gamma             -- Gamma\n",
      "   gengamma          -- Generalized gamma\n",
      "   genhalflogistic   -- Generalized Half Logistic\n",
      "   gilbrat           -- Gilbrat\n",
      "   gompertz          -- Gompertz (Truncated Gumbel)\n",
      "   gumbel_r          -- Right Sided Gumbel, Log-Weibull, Fisher-Tippett, Extreme Value Type I\n",
      "   gumbel_l          -- Left Sided Gumbel, etc.\n",
      "   halfcauchy        -- Half Cauchy\n",
      "   halflogistic      -- Half Logistic\n",
      "   halfnorm          -- Half Normal\n",
      "   halfgennorm       -- Generalized Half Normal\n",
      "   hypsecant         -- Hyperbolic Secant\n",
      "   invgamma          -- Inverse Gamma\n",
      "   invgauss          -- Inverse Gaussian\n",
      "   invweibull        -- Inverse Weibull\n",
      "   johnsonsb         -- Johnson SB\n",
      "   johnsonsu         -- Johnson SU\n",
      "   ksone             -- Kolmogorov-Smirnov one-sided (no stats)\n",
      "   kstwobign         -- Kolmogorov-Smirnov two-sided test for Large N (no stats)\n",
      "   laplace           -- Laplace\n",
      "   levy              -- Levy\n",
      "   levy_l\n",
      "   levy_stable\n",
      "   logistic          -- Logistic\n",
      "   loggamma          -- Log-Gamma\n",
      "   loglaplace        -- Log-Laplace (Log Double Exponential)\n",
      "   lognorm           -- Log-Normal\n",
      "   lomax             -- Lomax (Pareto of the second kind)\n",
      "   maxwell           -- Maxwell\n",
      "   mielke            -- Mielke's Beta-Kappa\n",
      "   nakagami          -- Nakagami\n",
      "   ncx2              -- Non-central chi-squared\n",
      "   ncf               -- Non-central F\n",
      "   nct               -- Non-central Student's T\n",
      "   norm              -- Normal (Gaussian)\n",
      "   pareto            -- Pareto\n",
      "   pearson3          -- Pearson type III\n",
      "   powerlaw          -- Power-function\n",
      "   powerlognorm      -- Power log normal\n",
      "   powernorm         -- Power normal\n",
      "   rdist             -- R-distribution\n",
      "   reciprocal        -- Reciprocal\n",
      "   rayleigh          -- Rayleigh\n",
      "   rice              -- Rice\n",
      "   recipinvgauss     -- Reciprocal Inverse Gaussian\n",
      "   semicircular      -- Semicircular\n",
      "   t                 -- Student's T\n",
      "   triang            -- Triangular\n",
      "   truncexpon        -- Truncated Exponential\n",
      "   truncnorm         -- Truncated Normal\n",
      "   tukeylambda       -- Tukey-Lambda\n",
      "   uniform           -- Uniform\n",
      "   vonmises          -- Von-Mises (Circular)\n",
      "   vonmises_line     -- Von-Mises (Line)\n",
      "   wald              -- Wald\n",
      "   weibull_min       -- Minimum Weibull (see Frechet)\n",
      "   weibull_max       -- Maximum Weibull (see Frechet)\n",
      "   wrapcauchy        -- Wrapped Cauchy\n",
      "\n",
      "Multivariate distributions\n",
      "==========================\n",
      "\n",
      ".. autosummary::\n",
      "   :toctree: generated/\n",
      "\n",
      "   multivariate_normal   -- Multivariate normal distribution\n",
      "   matrix_normal         -- Matrix normal distribution\n",
      "   dirichlet             -- Dirichlet\n",
      "   wishart               -- Wishart\n",
      "   invwishart            -- Inverse Wishart\n",
      "\n",
      "Discrete distributions\n",
      "======================\n",
      "\n",
      ".. autosummary::\n",
      "   :toctree: generated/\n",
      "\n",
      "   bernoulli         -- Bernoulli\n",
      "   binom             -- Binomial\n",
      "   boltzmann         -- Boltzmann (Truncated Discrete Exponential)\n",
      "   dlaplace          -- Discrete Laplacian\n",
      "   geom              -- Geometric\n",
      "   hypergeom         -- Hypergeometric\n",
      "   logser            -- Logarithmic (Log-Series, Series)\n",
      "   nbinom            -- Negative Binomial\n",
      "   planck            -- Planck (Discrete Exponential)\n",
      "   poisson           -- Poisson\n",
      "   randint           -- Discrete Uniform\n",
      "   skellam           -- Skellam\n",
      "   zipf              -- Zipf\n",
      "\n",
      "Statistical functions\n",
      "=====================\n",
      "\n",
      "Several of these functions have a similar version in scipy.stats.mstats\n",
      "which work for masked arrays.\n",
      "\n",
      ".. autosummary::\n",
      "   :toctree: generated/\n",
      "\n",
      "   describe          -- Descriptive statistics\n",
      "   gmean             -- Geometric mean\n",
      "   hmean             -- Harmonic mean\n",
      "   kurtosis          -- Fisher or Pearson kurtosis\n",
      "   kurtosistest      --\n",
      "   mode              -- Modal value\n",
      "   moment            -- Central moment\n",
      "   normaltest        --\n",
      "   skew              -- Skewness\n",
      "   skewtest          --\n",
      "   kstat             --\n",
      "   kstatvar          --\n",
      "   tmean             -- Truncated arithmetic mean\n",
      "   tvar              -- Truncated variance\n",
      "   tmin              --\n",
      "   tmax              --\n",
      "   tstd              --\n",
      "   tsem              --\n",
      "   nanmean           -- Mean, ignoring NaN values\n",
      "   nanstd            -- Standard deviation, ignoring NaN values\n",
      "   nanmedian         -- Median, ignoring NaN values\n",
      "   variation         -- Coefficient of variation\n",
      "   find_repeats\n",
      "   trim_mean\n",
      "\n",
      ".. autosummary::\n",
      "   :toctree: generated/\n",
      "\n",
      "   cumfreq\n",
      "   histogram2\n",
      "   histogram\n",
      "   itemfreq\n",
      "   percentileofscore\n",
      "   scoreatpercentile\n",
      "   relfreq\n",
      "\n",
      ".. autosummary::\n",
      "   :toctree: generated/\n",
      "\n",
      "   binned_statistic     -- Compute a binned statistic for a set of data.\n",
      "   binned_statistic_2d  -- Compute a 2-D binned statistic for a set of data.\n",
      "   binned_statistic_dd  -- Compute a d-D binned statistic for a set of data.\n",
      "\n",
      ".. autosummary::\n",
      "   :toctree: generated/\n",
      "\n",
      "   obrientransform\n",
      "   signaltonoise\n",
      "   bayes_mvs\n",
      "   mvsdist\n",
      "   sem\n",
      "   zmap\n",
      "   zscore\n",
      "\n",
      ".. autosummary::\n",
      "   :toctree: generated/\n",
      "\n",
      "   sigmaclip\n",
      "   threshold\n",
      "   trimboth\n",
      "   trim1\n",
      "\n",
      ".. autosummary::\n",
      "   :toctree: generated/\n",
      "\n",
      "   f_oneway\n",
      "   pearsonr\n",
      "   spearmanr\n",
      "   pointbiserialr\n",
      "   kendalltau\n",
      "   linregress\n",
      "   theilslopes\n",
      "   f_value\n",
      "\n",
      ".. autosummary::\n",
      "   :toctree: generated/\n",
      "\n",
      "   ttest_1samp\n",
      "   ttest_ind\n",
      "   ttest_ind_from_stats\n",
      "   ttest_rel\n",
      "   kstest\n",
      "   chisquare\n",
      "   power_divergence\n",
      "   ks_2samp\n",
      "   mannwhitneyu\n",
      "   tiecorrect\n",
      "   rankdata\n",
      "   ranksums\n",
      "   wilcoxon\n",
      "   kruskal\n",
      "   friedmanchisquare\n",
      "   combine_pvalues\n",
      "   ss\n",
      "   square_of_sums\n",
      "   jarque_bera\n",
      "\n",
      ".. autosummary::\n",
      "   :toctree: generated/\n",
      "\n",
      "   ansari\n",
      "   bartlett\n",
      "   levene\n",
      "   shapiro\n",
      "   anderson\n",
      "   anderson_ksamp\n",
      "   binom_test\n",
      "   fligner\n",
      "   median_test\n",
      "   mood\n",
      "\n",
      ".. autosummary::\n",
      "   :toctree: generated/\n",
      "\n",
      "   boxcox\n",
      "   boxcox_normmax\n",
      "   boxcox_llf\n",
      "\n",
      "   entropy\n",
      "\n",
      ".. autosummary::\n",
      "   :toctree: generated/\n",
      "\n",
      "   chisqprob\n",
      "   betai\n",
      "\n",
      "Circular statistical functions\n",
      "==============================\n",
      "\n",
      ".. autosummary::\n",
      "   :toctree: generated/\n",
      "\n",
      "   circmean\n",
      "   circvar\n",
      "   circstd\n",
      "   \n",
      "Contingency table functions\n",
      "===========================\n",
      "\n",
      ".. autosummary::\n",
      "   :toctree: generated/\n",
      "\n",
      "   chi2_contingency\n",
      "   contingency.expected_freq\n",
      "   contingency.margins\n",
      "   fisher_exact\n",
      "\n",
      "Plot-tests\n",
      "==========\n",
      "\n",
      ".. autosummary::\n",
      "   :toctree: generated/\n",
      "\n",
      "   ppcc_max\n",
      "   ppcc_plot\n",
      "   probplot\n",
      "   boxcox_normplot\n",
      "\n",
      "\n",
      "Masked statistics functions\n",
      "===========================\n",
      "\n",
      ".. toctree::\n",
      "\n",
      "   stats.mstats\n",
      "\n",
      "\n",
      "Univariate and multivariate kernel density estimation (:mod:`scipy.stats.kde`)\n",
      "==============================================================================\n",
      "\n",
      ".. autosummary::\n",
      "   :toctree: generated/\n",
      "\n",
      "   gaussian_kde\n",
      "\n",
      "For many more stat related functions install the software R and the\n",
      "interface package rpy.\n"
     ]
    }
   ],
   "source": [
    "import scipy\n",
    "scipy.info(stats)"
   ]
  },
  {
   "cell_type": "markdown",
   "metadata": {},
   "source": [
    "The package sklearn (scikit-learn) is for machine learning.  It contains a well known data set, iris, containing measurements on different species of flowers called irises.  The measured features are length and the width of the petals, and the length and the width of the sepals.  The species of each flower is also known.  \n",
    "\n",
    "These data are useful in investigating the classification problem.  How can the genotypic species of a specific flower be predicted by its phenotypic features?  Sklearn models problems such as these using machine learning techniques.  \n",
    "\n",
    "In the following exploration the sepal and pedal length are used as numeric features and the species as a categorical feature. "
   ]
  },
  {
   "cell_type": "code",
   "execution_count": 104,
   "metadata": {
    "collapsed": false
   },
   "outputs": [
    {
     "data": {
      "text/plain": [
       "['target_names', 'data', 'target', 'DESCR', 'feature_names']"
      ]
     },
     "execution_count": 104,
     "metadata": {},
     "output_type": "execute_result"
    }
   ],
   "source": [
    "iris_raw.keys()"
   ]
  },
  {
   "cell_type": "code",
   "execution_count": 117,
   "metadata": {
    "collapsed": false
   },
   "outputs": [
    {
     "name": "stdout",
     "output_type": "stream",
     "text": [
      "Iris Plants Database\n",
      "====================\n",
      "\n",
      "Notes\n",
      "-----\n",
      "Data Set Characteristics:\n",
      "    :Number of Instances: 150 (50 in each of three classes)\n",
      "    :Number of Attributes: 4 numeric, predictive attributes and the class\n",
      "    :Attribute Information:\n",
      "        - sepal length in cm\n",
      "        - sepal width in cm\n",
      "        - petal length in cm\n",
      "        - petal width in cm\n",
      "        - class:\n",
      "                - Iris-Setosa\n",
      "                - Iris-Versicolour\n",
      "                - Iris-Virginica\n",
      "    :Summary Statistics:\n",
      "\n",
      "    ============== ==== ==== ======= ===== ====================\n",
      "                    Min  Max   Mean    SD   Class Correlation\n",
      "    ============== ==== ==== ======= ===== ====================\n",
      "    sepal length:   4.3  7.9   5.84   0.83    0.7826\n",
      "    sepal width:    2.0  4.4   3.05   0.43   -0.4194\n",
      "    petal length:   1.0  6.9   3.76   1.76    0.9490  (high!)\n",
      "    petal width:    0.1  2.5   1.20  0.76     0.9565  (high!)\n",
      "    ============== ==== ==== ======= ===== ====================\n",
      "\n",
      "    :Missing Attribute Values: None\n",
      "    :Class Distribution: 33.3% for each of 3 classes.\n",
      "    :Creator: R.A. Fisher\n",
      "    :Donor: Michael Marshall (MARSHALL%PLU@io.arc.nasa.gov)\n",
      "    :Date: July, 1988\n",
      "\n",
      "This is a copy of UCI ML iris datasets.\n",
      "http://archive.ics.uci.edu/ml/datasets/Iris\n",
      "\n",
      "The famous Iris database, first used by Sir R.A Fisher\n",
      "\n",
      "This is perhaps the best known database to be found in the\n",
      "pattern recognition literature.  Fisher's paper is a classic in the field and\n",
      "is referenced frequently to this day.  (See Duda & Hart, for example.)  The\n",
      "data set contains 3 classes of 50 instances each, where each class refers to a\n",
      "type of iris plant.  One class is linearly separable from the other 2; the\n",
      "latter are NOT linearly separable from each other.\n",
      "\n",
      "References\n",
      "----------\n",
      "   - Fisher,R.A. \"The use of multiple measurements in taxonomic problems\"\n",
      "     Annual Eugenics, 7, Part II, 179-188 (1936); also in \"Contributions to\n",
      "     Mathematical Statistics\" (John Wiley, NY, 1950).\n",
      "   - Duda,R.O., & Hart,P.E. (1973) Pattern Classification and Scene Analysis.\n",
      "     (Q327.D83) John Wiley & Sons.  ISBN 0-471-22361-1.  See page 218.\n",
      "   - Dasarathy, B.V. (1980) \"Nosing Around the Neighborhood: A New System\n",
      "     Structure and Classification Rule for Recognition in Partially Exposed\n",
      "     Environments\".  IEEE Transactions on Pattern Analysis and Machine\n",
      "     Intelligence, Vol. PAMI-2, No. 1, 67-71.\n",
      "   - Gates, G.W. (1972) \"The Reduced Nearest Neighbor Rule\".  IEEE Transactions\n",
      "     on Information Theory, May 1972, 431-433.\n",
      "   - See also: 1988 MLC Proceedings, 54-64.  Cheeseman et al\"s AUTOCLASS II\n",
      "     conceptual clustering system finds 3 classes in the data.\n",
      "   - Many, many more ...\n",
      "\n"
     ]
    }
   ],
   "source": [
    "print(iris_raw.DESCR)"
   ]
  },
  {
   "cell_type": "markdown",
   "metadata": {},
   "source": [
    "The iris data is recorded in `iris_raw.data` as a 2-dimensional array. There are 150 rows corresponding to 150 instances (flowers), 4 columns correspond to 4 different numerical features.  There are 50 rows of numerical data for each of 3 species of iris."
   ]
  },
  {
   "cell_type": "code",
   "execution_count": 172,
   "metadata": {
    "collapsed": false
   },
   "outputs": [
    {
     "data": {
      "text/plain": [
       "array([[ 5.1,  3.5,  1.4,  0.2],\n",
       "       [ 4.9,  3. ,  1.4,  0.2],\n",
       "       [ 4.7,  3.2,  1.3,  0.2],\n",
       "       [ 4.6,  3.1,  1.5,  0.2],\n",
       "       [ 5. ,  3.6,  1.4,  0.2],\n",
       "       [ 5.4,  3.9,  1.7,  0.4],\n",
       "       [ 4.6,  3.4,  1.4,  0.3],\n",
       "       [ 5. ,  3.4,  1.5,  0.2]])"
      ]
     },
     "execution_count": 172,
     "metadata": {},
     "output_type": "execute_result"
    }
   ],
   "source": [
    "iris = iris_raw.data\n",
    "iris[0:8,:]"
   ]
  },
  {
   "cell_type": "markdown",
   "metadata": {},
   "source": [
    "Extract the following three feature column arrays, as follows:"
   ]
  },
  {
   "cell_type": "code",
   "execution_count": 149,
   "metadata": {
    "collapsed": true
   },
   "outputs": [],
   "source": [
    "sepal_len = iris[:,0]\n",
    "sepal_wid = iris[:,1]\n",
    "petal_len = iris[:,2]"
   ]
  },
  {
   "cell_type": "code",
   "execution_count": 150,
   "metadata": {
    "collapsed": false
   },
   "outputs": [
    {
     "data": {
      "text/plain": [
       "array([0, 0, 0, 0, 0, 0, 0, 0, 0, 0, 0, 0, 0, 0, 0, 0, 0, 0, 0, 0, 0, 0, 0,\n",
       "       0, 0, 0, 0, 0, 0, 0, 0, 0, 0, 0, 0, 0, 0, 0, 0, 0, 0, 0, 0, 0, 0, 0,\n",
       "       0, 0, 0, 0, 1, 1, 1, 1, 1, 1, 1, 1, 1, 1, 1, 1, 1, 1, 1, 1, 1, 1, 1,\n",
       "       1, 1, 1, 1, 1, 1, 1, 1, 1, 1, 1, 1, 1, 1, 1, 1, 1, 1, 1, 1, 1, 1, 1,\n",
       "       1, 1, 1, 1, 1, 1, 1, 1, 2, 2, 2, 2, 2, 2, 2, 2, 2, 2, 2, 2, 2, 2, 2,\n",
       "       2, 2, 2, 2, 2, 2, 2, 2, 2, 2, 2, 2, 2, 2, 2, 2, 2, 2, 2, 2, 2, 2, 2,\n",
       "       2, 2, 2, 2, 2, 2, 2, 2, 2, 2, 2, 2])"
      ]
     },
     "execution_count": 150,
     "metadata": {},
     "output_type": "execute_result"
    }
   ],
   "source": [
    "iris_raw.target"
   ]
  },
  {
   "cell_type": "markdown",
   "metadata": {},
   "source": [
    "The labels of iris data is recorded in `iris_raw.target` as an array.  See the following samples:"
   ]
  },
  {
   "cell_type": "code",
   "execution_count": 107,
   "metadata": {
    "collapsed": false
   },
   "outputs": [
    {
     "data": {
      "text/plain": [
       "array([0, 0, 1, 1, 2, 2])"
      ]
     },
     "execution_count": 107,
     "metadata": {},
     "output_type": "execute_result"
    }
   ],
   "source": [
    "iris_raw.target[[0,1,50,51,100,101]]"
   ]
  },
  {
   "cell_type": "markdown",
   "metadata": {},
   "source": [
    "The target column array is assigned to “species”:"
   ]
  },
  {
   "cell_type": "code",
   "execution_count": 151,
   "metadata": {
    "collapsed": true
   },
   "outputs": [],
   "source": [
    "species=iris_raw.target"
   ]
  },
  {
   "cell_type": "markdown",
   "metadata": {},
   "source": [
    "Though the values are integers, they are represent the species.  The actual names are available in `target_names`. "
   ]
  },
  {
   "cell_type": "code",
   "execution_count": 152,
   "metadata": {
    "collapsed": false
   },
   "outputs": [
    {
     "data": {
      "text/plain": [
       "array(['setosa', 'versicolor', 'virginica'], \n",
       "      dtype='|S10')"
      ]
     },
     "execution_count": 152,
     "metadata": {},
     "output_type": "execute_result"
    }
   ],
   "source": [
    "iris_raw.target_names"
   ]
  },
  {
   "cell_type": "markdown",
   "metadata": {},
   "source": [
    "<p><a name=\"statistics\"></a></p>\n",
    "### Statistical Functions\n",
    "\n",
    "A descriptive statistical digest is useful when confronting new data, for both categorical and numerical features. The stats function `itemfreq()` returns the frequency of each class in a categorical feature."
   ]
  },
  {
   "cell_type": "code",
   "execution_count": 153,
   "metadata": {
    "collapsed": false
   },
   "outputs": [
    {
     "data": {
      "text/plain": [
       "array([[ 0, 50],\n",
       "       [ 1, 50],\n",
       "       [ 2, 50]], dtype=int64)"
      ]
     },
     "execution_count": 153,
     "metadata": {},
     "output_type": "execute_result"
    }
   ],
   "source": [
    "stats.itemfreq(species)"
   ]
  },
  {
   "cell_type": "markdown",
   "metadata": {},
   "source": [
    "Numerical features are summarized by the stats function `describe()`:"
   ]
  },
  {
   "cell_type": "code",
   "execution_count": 154,
   "metadata": {
    "collapsed": false
   },
   "outputs": [
    {
     "data": {
      "text/plain": [
       "DescribeResult(nobs=150L, minmax=(4.2999999999999998, 7.9000000000000004), mean=5.8433333333333337, variance=0.68569351230425069, skewness=0.3117530585022963, kurtosis=-0.5735679489249765)"
      ]
     },
     "execution_count": 154,
     "metadata": {},
     "output_type": "execute_result"
    }
   ],
   "source": [
    "stats.describe(sepal_len)"
   ]
  },
  {
   "cell_type": "markdown",
   "metadata": {},
   "source": [
    "The function returns axescriptive object `scipy.stats.stats.DescribeResult`. To access each of item, use the item name or integer index:"
   ]
  },
  {
   "cell_type": "code",
   "execution_count": 155,
   "metadata": {
    "collapsed": false
   },
   "outputs": [
    {
     "data": {
      "text/plain": [
       "150L"
      ]
     },
     "execution_count": 155,
     "metadata": {},
     "output_type": "execute_result"
    }
   ],
   "source": [
    "stats.describe(sepal_len)[0]"
   ]
  },
  {
   "cell_type": "code",
   "execution_count": 156,
   "metadata": {
    "collapsed": false
   },
   "outputs": [
    {
     "data": {
      "text/plain": [
       "(4.2999999999999998, 7.9000000000000004)"
      ]
     },
     "execution_count": 156,
     "metadata": {},
     "output_type": "execute_result"
    }
   ],
   "source": [
    "stats.describe(sepal_len).minmax"
   ]
  },
  {
   "cell_type": "markdown",
   "metadata": {},
   "source": [
    "More on statistical functions can be found in the link.\n",
    "- http://docs.scipy.org/doc/scipy/reference/stats.html"
   ]
  },
  {
   "cell_type": "markdown",
   "metadata": {},
   "source": [
    "<p><a name=\"hypothesis\"></a></p>\n",
    "### Hypothesis Test\n",
    "\n",
    "- Forming a testable hypothesis and deriving the p-value (probability) that the hypothesis is valid, is an effective technique for drawing statistical conclusions from observations of populations.  The null hypothesis states there is no statistical significance between specified populations.  If the p-value under the null hypothesis is low it means there is a low probability there is no statistical significance between specified populations.  In other words, rejection of the null hypothesis is an affirmation that there is statistical significance between specified populations.  The contrary to the null hypothesis is called the alternative hypothesis.  It is retained if the null hypothesis is rejected.\n",
    "- The stats module provides functions to perform a variety of hypothesis tests. The most common ones are demonstrated below.\n"
   ]
  },
  {
   "cell_type": "markdown",
   "metadata": {},
   "source": [
    "**One Sample t-test**\n",
    "\n",
    "The one-sample t-test is used to determine whether a sample belongs to a population with a known mean.  For example, to know how likely that the sample array `petal_len` belongs to a population of mean 10,  use `ttest_1samp()` as follows:"
   ]
  },
  {
   "cell_type": "code",
   "execution_count": 157,
   "metadata": {
    "collapsed": false
   },
   "outputs": [
    {
     "data": {
      "text/plain": [
       "Ttest_1sampResult(statistic=-43.323240335498866, pvalue=2.4562011895365267e-86)"
      ]
     },
     "execution_count": 157,
     "metadata": {},
     "output_type": "execute_result"
    }
   ],
   "source": [
    "stats.ttest_1samp(petal_len, 10)"
   ]
  },
  {
   "cell_type": "markdown",
   "metadata": {},
   "source": [
    "In this case, the p-value is extremely small.  This indicates it is **unlikely** the sample was taken from a population with mean petal length 10."
   ]
  },
  {
   "cell_type": "markdown",
   "metadata": {},
   "source": [
    "**Two Sample t-test**\n",
    "\n",
    "The two-sample t-test is used to test the hypothesis that the populations from which the two samples were taken have the same mean.  For example, the arrays `sepal_len` and `petal_len` were sampled from populations of septal and petal length.  To know how likely it is the population means are equal, use `ttest_ind()` as follows:"
   ]
  },
  {
   "cell_type": "code",
   "execution_count": 158,
   "metadata": {
    "collapsed": false
   },
   "outputs": [
    {
     "data": {
      "text/plain": [
       "Ttest_indResult(statistic=13.099504494510061, pvalue=2.8297338637366177e-31)"
      ]
     },
     "execution_count": 158,
     "metadata": {},
     "output_type": "execute_result"
    }
   ],
   "source": [
    "stats.ttest_ind(sepal_len, petal_len)"
   ]
  },
  {
   "cell_type": "markdown",
   "metadata": {},
   "source": [
    "In this case, the p-value is extremely small.  This indicates the populations from which `sepal_len` and `petal_len` are sampled are **unlikely** to have the same mean.  In other words, the difference in sepal and petal length are statistically different."
   ]
  },
  {
   "cell_type": "markdown",
   "metadata": {},
   "source": [
    "**ANOVA**\n",
    "\n",
    "The two-sample t-test checks whether the populations from which two samples are taken have a statistically significant difference in mean.  Analysis of Variance extends this technique for any number of samples.  Consider the three samples of sepal length, sepal width and petal length.  Analysis of Variance, or ANOVA, is performed on these three samples using the `stats` function `f_oneway`, as follows:"
   ]
  },
  {
   "cell_type": "code",
   "execution_count": 159,
   "metadata": {
    "collapsed": false
   },
   "outputs": [
    {
     "data": {
      "text/plain": [
       "F_onewayResult(statistic=237.45598625019218, pvalue=5.440492586967051e-71)"
      ]
     },
     "execution_count": 159,
     "metadata": {},
     "output_type": "execute_result"
    }
   ],
   "source": [
    "stats.f_oneway(sepal_len, sepal_wid, petal_len)"
   ]
  },
  {
   "cell_type": "markdown",
   "metadata": {},
   "source": [
    "The function `f_oneway` is used to implement one-way analysis of variance. In this particular case, since the p-value is very small, it is **unlikely** that all populations, from which the samples were taken, have the same mean.  In other words, the difference in these features is statistically significant.\n",
    "\n",
    "More on hypothesis tests can be found from the page statistical functions, which we have seen before.\n",
    " - http://docs.scipy.org/doc/scipy/reference/stats.html"
   ]
  },
  {
   "cell_type": "code",
   "execution_count": 160,
   "metadata": {
    "collapsed": false
   },
   "outputs": [
    {
     "data": {
      "text/plain": [
       "array([ 5.1,  4.9,  4.7,  4.6,  5. ,  5.4,  4.6,  5. ,  4.4,  4.9,  5.4,\n",
       "        4.8,  4.8,  4.3,  5.8,  5.7,  5.4,  5.1,  5.7,  5.1,  5.4,  5.1,\n",
       "        4.6,  5.1,  4.8,  5. ,  5. ,  5.2,  5.2,  4.7,  4.8,  5.4,  5.2,\n",
       "        5.5,  4.9,  5. ,  5.5,  4.9,  4.4,  5.1,  5. ,  4.5,  4.4,  5. ,\n",
       "        5.1,  4.8,  5.1,  4.6,  5.3,  5. ])"
      ]
     },
     "execution_count": 160,
     "metadata": {},
     "output_type": "execute_result"
    }
   ],
   "source": [
    "sepal_len[iris_raw.target==0]"
   ]
  },
  {
   "cell_type": "markdown",
   "metadata": {},
   "source": [
    "**Exercise 6**\n",
    "\n",
    "Consider the following fancy indexing used to extract the sepal length values for the iris species setosa.\n",
    "```\n",
    "sepal_len[iris_raw.target==0]\n",
    "```\n",
    "\n",
    "- Use this technique to extract the sepal lengths for the three species of iris (setosa, versicolor, virginica) and assign them to variables of your choosing.\n",
    "\n",
    "- Next use ANOVA to determine if the three species have a statistical difference in their sepal lengths."
   ]
  },
  {
   "cell_type": "code",
   "execution_count": 175,
   "metadata": {
    "collapsed": false
   },
   "outputs": [
    {
     "data": {
      "text/plain": [
       "F_onewayResult(statistic=119.26450218450468, pvalue=1.6696691907693826e-31)"
      ]
     },
     "execution_count": 175,
     "metadata": {},
     "output_type": "execute_result"
    }
   ],
   "source": [
    "# your code here:\n",
    "\n",
    "seto_sep_len = sepal_len[iris_raw.target==0]\n",
    "vers_sep_len = sepal_len[iris_raw.target==1]\n",
    "virg_sep_len = sepal_len[iris_raw.target==2]\n",
    "\n",
    "stats.f_oneway(seto_sep_len, vers_sep_len, virg_sep_len)"
   ]
  },
  {
   "cell_type": "markdown",
   "metadata": {
    "collapsed": true
   },
   "source": [
    "<p><a name=\"sample\"></a></p>\n",
    "### Random Sampling\n",
    "\n",
    "It is often necessary to generate arrays of random numbers for simulation or testing purpose. Both Numpy and SciPy provide functions for random sampling.\n",
    "\n",
    "**List of Functions for Random Sampling in Numpy**\n",
    "\n",
    "The `numpy.random` submodule provides random-variable generator. Some are listed below:\n",
    "\n",
    "- `randn(d0, d1, ..., dn)`: Each entry is from the “standard normal” distribution.\n",
    "\n",
    "- `rand(d0, d1, ..., dn)`: Random array with a given shape where each element is from Uniform [0, 1].\n",
    "\n",
    "- `randint(low, high, size)`: Random integers ranging from low (inclusive) to high (exclusive).\n",
    "\n",
    "- `random_integers(low, high, size)`: Random integers between low and high, both inclusive.\n",
    "\n",
    "- `random_sample(size)`: Random floats in the half-open interval [0.0, 1.0).\n",
    "\n",
    "- `choice(a[, size, replace, p])`: Generates a random sample from a given 1-D array. By default, `replace=True`."
   ]
  },
  {
   "cell_type": "markdown",
   "metadata": {},
   "source": [
    "<p><a name=\"birthday\"></a></p>\n",
    "#### Random Sampling: Birthday Problems\n",
    "\n",
    "- If 20 people are chosen at random, what is the probability that some of them share the same birthday? It is possible to derive an analytical solution to this problem by determining the probability that none of the 20 share the same birthday and subtract that from 1. This is indeed possible and a legitimate approach.\n",
    "- Another approach is to construct a simulation. Assume there would be 366 different possible birthday, including Feb. 29. Also assume the probability of having each birthday date is the same (obviously this is not correct but assumed for simplicity).\n",
    "\n",
    "To simulate the situation, use the `choice()` function from the `numpy.random` submodule. First import the necessary packages:"
   ]
  },
  {
   "cell_type": "code",
   "execution_count": 176,
   "metadata": {
    "collapsed": true
   },
   "outputs": [],
   "source": [
    "import numpy as np\n",
    "from scipy import stats\n",
    "import matplotlib.pyplot as plt\n",
    "%matplotlib inline"
   ]
  },
  {
   "cell_type": "code",
   "execution_count": 177,
   "metadata": {
    "collapsed": false
   },
   "outputs": [
    {
     "data": {
      "text/plain": [
       "array([ 37, 235,  72, 255, 203, 133, 335, 144, 129,  71, 237, 281, 178,\n",
       "       276, 254, 357, 252, 156,  50,  68])"
      ]
     },
     "execution_count": 177,
     "metadata": {},
     "output_type": "execute_result"
    }
   ],
   "source": [
    "np.random.seed(1)\n",
    "np.random.choice(range(366), size=20, replace=True)"
   ]
  },
  {
   "cell_type": "code",
   "execution_count": 178,
   "metadata": {
    "collapsed": false
   },
   "outputs": [
    {
     "data": {
      "text/plain": [
       "array([215, 241, 352,  86, 141,   7, 319, 317,  22, 313,   1, 316, 209,\n",
       "       264, 216, 141, 115, 121,  30,  71])"
      ]
     },
     "execution_count": 178,
     "metadata": {},
     "output_type": "execute_result"
    }
   ],
   "source": [
    "np.random.choice(range(366), size=20, replace=True)"
   ]
  },
  {
   "cell_type": "markdown",
   "metadata": {},
   "source": [
    "The first simulation has no duplicated dates and the second does have 141 twice. Running the simulation twice, would indicate the probability is 0.5!\n",
    "\n",
    "This is obviously incorrect.  The more times the simulation is run the closer the statistics of the samplings will be to the actual probability. This approach is known as a Monte Carlo simulation.  The code is given below:"
   ]
  },
  {
   "cell_type": "code",
   "execution_count": 191,
   "metadata": {
    "collapsed": false
   },
   "outputs": [
    {
     "data": {
      "text/plain": [
       "0.40827000000000002"
      ]
     },
     "execution_count": 191,
     "metadata": {},
     "output_type": "execute_result"
    }
   ],
   "source": [
    "num_people=20\n",
    "num_simu=int(1e5)\n",
    "Bool = np.zeros(num_simu)\n",
    "for i in range(num_simu):\n",
    "    test = np.random.choice(range(366),\\\n",
    "                     size=num_people, replace=True)\n",
    "    Bool[i] = (len(set(test))!=num_people)\n",
    "np.mean(Bool)"
   ]
  },
  {
   "cell_type": "markdown",
   "metadata": {},
   "source": [
    "<p><a name=\"distribution\"></a></p>\n",
    "### Distribution\n",
    "\n",
    "In the birthday problem, an (invalid) assumption was made that every possible outcome (birth date of each person) is equally likely. This simplified the simulation.\n",
    "\n",
    "If the equal likelihood assumption is not correct the likelihood model needs to be refined. The mathematical term for the likelihood model for various event is the **probability distribution**.\n",
    "\n",
    "<p><a name=\"binomial\"></a></p>\n",
    "#### Binomial Distribution\n",
    "\n",
    "The binomial distribution is a non-uniform probability distribution with two parameters $n$ and $p$.  $n$ represents the number of trials and $p$ represents the likelihood of an single positive outcome.  The binomial distribution represents the accumulated number of positive outcomes over $n$ trials.\n",
    "\n",
    "The probability of getting $k$ positive outcomes is:\n",
    "$$\\Pr(k)={\\binom {n}{k}}p^{k}(1-p)^{n-k}$$\n",
    "\n",
    "$${\\binom {n}{k}}={\\frac {n!}{k!(n-k)!}}$$\n",
    "\n",
    "The typical example of the binomial distribution is the result flipping a fair coin ($p=0.5$), $n$ times.  \n",
    "\n",
    "The code below samples from the binomial distribution representing a fair coin flipped 5 times.  Ten samples are drawn."
   ]
  },
  {
   "cell_type": "code",
   "execution_count": 192,
   "metadata": {
    "collapsed": false
   },
   "outputs": [
    {
     "data": {
      "text/plain": [
       "array([2, 3, 0, 2, 1, 1, 1, 2, 2, 3])"
      ]
     },
     "execution_count": 192,
     "metadata": {},
     "output_type": "execute_result"
    }
   ],
   "source": [
    "#### We will talk about this code a bit later\n",
    "\n",
    "my_binom = stats.binom(5, 0.5)\n",
    "np.random.seed(1)\n",
    "my_binom.rvs(10)"
   ]
  },
  {
   "cell_type": "markdown",
   "metadata": {},
   "source": [
    "The sequence above \"simulates\" the result of 10 experiments. In each experiment we toss a fair coin 5 times, and:\n",
    "\n",
    "- we get 2 heads in the first experiment.\n",
    "- we get 3 heads in the second experiment.\n",
    "- we get no head in the third experiment.\n",
    "- ...\n",
    "\n",
    "Obviously, the probability of getting 1 head and getting no head are different. And the possible outcomes are no head, 1 head, 2 heads, 3 heads, 4 heads and 5 heads.\n",
    "\n",
    "**Let's do a little math:**\n",
    "\n",
    "The probability of having no head out of 5 tossing is $ {\\binom {5}{0}}(0.5)^5=0.03125 $.\n",
    "\n",
    "The probability of having one head out of 5 tossing is $ {\\binom {5}{1}} \\cdot (0.5)^5= 0.15625$\n",
    "\n",
    "The probability of having two head out of 5 tossing is $ {\\binom {5}{2}} \\cdot (0.5)^5= 0.3125$\n",
    "\n",
    "\n",
    "What about the other outcomes?"
   ]
  },
  {
   "cell_type": "markdown",
   "metadata": {},
   "source": [
    "<p><a name=\"bino_object\"></a></p>\n",
    "#### The Binomial Distribution Object\n",
    "\n",
    "Everything is an object in Python.\n",
    "\n",
    "To model the binomial distribution, first create a binomial distribution object. The `pmf` object method returns the likelihood."
   ]
  },
  {
   "cell_type": "code",
   "execution_count": 193,
   "metadata": {
    "collapsed": false
   },
   "outputs": [
    {
     "name": "stdout",
     "output_type": "stream",
     "text": [
      "The number of heads : 0,\n",
      "The probability of the event: 0.03125\n",
      "----------------------------------------------------------------------\n",
      "The number of heads : 1,\n",
      "The probability of the event: 0.15625\n",
      "----------------------------------------------------------------------\n",
      "The number of heads : 2,\n",
      "The probability of the event: 0.31250\n",
      "----------------------------------------------------------------------\n",
      "The number of heads : 3,\n",
      "The probability of the event: 0.31250\n",
      "----------------------------------------------------------------------\n",
      "The number of heads : 4,\n",
      "The probability of the event: 0.15625\n",
      "----------------------------------------------------------------------\n",
      "The number of heads : 5,\n",
      "The probability of the event: 0.03125\n",
      "----------------------------------------------------------------------\n"
     ]
    }
   ],
   "source": [
    "my_binom = stats.binom(5, 0.5)  # number of trials: 5, probability of success (heads in this case): 0.5\n",
    "\n",
    "for i in range(6):\n",
    "    print('The number of heads : %d,' % i)\n",
    "    print('The probability of the event: %.5f' % my_binom.pmf(i))\n",
    "    print('-'*70)"
   ]
  },
  {
   "cell_type": "markdown",
   "metadata": {},
   "source": [
    "**Random Sampling with a Binomial Object**\n",
    "\n",
    "Random sampling is done using the `rvs` object method.\n",
    "\n",
    "The code below generate 10 random sampling outcomes from the binomial distribution:"
   ]
  },
  {
   "cell_type": "code",
   "execution_count": 123,
   "metadata": {
    "collapsed": false
   },
   "outputs": [
    {
     "data": {
      "text/plain": [
       "array([2, 3, 0, 2, 1, 1, 1, 2, 2, 3])"
      ]
     },
     "execution_count": 123,
     "metadata": {},
     "output_type": "execute_result"
    }
   ],
   "source": [
    "np.random.seed(1)\n",
    "experiment=my_binom.rvs(10)\n",
    "experiment"
   ]
  },
  {
   "cell_type": "markdown",
   "metadata": {},
   "source": [
    "** Exercise **\n",
    "\n",
    "The result generated should obey the distribution. From our example, the outcome should be approximately:\n",
    "\n",
    "- 3.1% of 0\n",
    "- 15.6% of 1\n",
    "- 31.2% of 2\n",
    "- 31.2% of 3\n",
    "- 15.6% of 4\n",
    "- 3.1% of 5\n",
    "\n",
    "In the `experiment` above, this pattern is not clear. Modify the code to generate a larger sample set and measure the percent frequencies generated."
   ]
  },
  {
   "cell_type": "code",
   "execution_count": 200,
   "metadata": {
    "collapsed": false
   },
   "outputs": [
    {
     "data": {
      "text/plain": [
       "array([ 0.08333333,  0.25      ,  0.41666667,  0.25      ,  0.        ,  0.        ])"
      ]
     },
     "execution_count": 200,
     "metadata": {},
     "output_type": "execute_result"
    }
   ],
   "source": [
    "#### Your code here\n",
    "np.random.seed(1)\n",
    "experiment=my_binom.rvs(10^6)\n",
    "percents = np.ones(6)\n",
    "for i in range(6):\n",
    "    percents[i]=(experiment == i).mean() \n",
    "\n",
    "percents"
   ]
  },
  {
   "cell_type": "markdown",
   "metadata": {},
   "source": [
    "** Exercise**\n",
    "\n",
    "Use the `pmf` function to compute the probability of getting at most 1 head."
   ]
  },
  {
   "cell_type": "code",
   "execution_count": 201,
   "metadata": {
    "collapsed": false
   },
   "outputs": [
    {
     "data": {
      "text/plain": [
       "0.18749999999999994"
      ]
     },
     "execution_count": 201,
     "metadata": {},
     "output_type": "execute_result"
    }
   ],
   "source": [
    "#### Your code here\n",
    "my_binom.pmf(0) + my_binom.pmf(1)"
   ]
  },
  {
   "cell_type": "markdown",
   "metadata": {},
   "source": [
    "<p><a name=\"normal\"></a></p>\n",
    "#### Normal Distribution\n",
    "\n",
    "The normal distribution is a **continuous distribution**.  This is distinct from a **discrete distribution**,such as the binomial distribution.  A continuous distribution tracks a variable that can have any value (within a range), such as the time between events.  A discrete distribution tracks a variable that can have only discrete values, such as the number of times an event occurs.\n",
    "\n",
    "Consider an interval [0, 1] :"
   ]
  },
  {
   "cell_type": "code",
   "execution_count": 1,
   "metadata": {
    "collapsed": false
   },
   "outputs": [
    {
     "data": {
      "image/png": "[encoded data removed]",
      "text/plain": [
       "<matplotlib.figure.Figure at 0x105a21b38>"
      ]
     },
     "metadata": {},
     "output_type": "display_data"
    }
   ],
   "source": [
    "import matplotlib.pyplot as plt\n",
    "fig = plt.figure(figsize=(6,0.1))\n",
    "plt.xticks([0.0, 1.0])\n",
    "plt.yticks([])\n",
    "plt.show()"
   ]
  },
  {
   "cell_type": "markdown",
   "metadata": {},
   "source": [
    "Selecting an arbitrary point from the interval, assume every point is equally likely to be selected.\n",
    "\n",
    "What is the \"probability\" that we get the blue point (x=0.63) below?"
   ]
  },
  {
   "cell_type": "code",
   "execution_count": 2,
   "metadata": {
    "collapsed": false
   },
   "outputs": [
    {
     "data": {
      "image/png": "[encoded data removed]",
      "text/plain": [
       "<matplotlib.figure.Figure at 0x10863d6d8>"
      ]
     },
     "metadata": {},
     "output_type": "display_data"
    }
   ],
   "source": [
    "fig = plt.figure(figsize=(6,0.1))\n",
    "plt.plot(0.63, 0, color='blue')\n",
    "plt.xticks([0.0,0.63, 1.0])\n",
    "plt.yticks([])\n",
    "plt.show()"
   ]
  },
  {
   "cell_type": "markdown",
   "metadata": {},
   "source": [
    "Consider the process below:\n",
    "\n",
    "Cut the interval half. \n",
    "\n",
    "- The probability of obtaining a point from each interval should be 50%.\n",
    "\n",
    "Since the point is contained in one of the intervals, the probability of it should be less than 50%."
   ]
  },
  {
   "cell_type": "code",
   "execution_count": 202,
   "metadata": {
    "collapsed": false
   },
   "outputs": [
    {
     "data": {
      "image/png": "[encoded data removed]",
      "text/plain": [
       "<matplotlib.figure.Figure at 0xa190d30>"
      ]
     },
     "metadata": {},
     "output_type": "display_data"
    }
   ],
   "source": [
    "fig = plt.figure(figsize=(6,0.1))\n",
    "plt.scatter(0.63, 0.05, color='blue')\n",
    "plt.xlim(0,1)\n",
    "plt.ylim(0, 0.1)\n",
    "plt.xticks([0.0,0.5, 1.0])\n",
    "plt.yticks([])\n",
    "plt.fill([0.5,1.0,1.0,0.5],[0,0,1,1], color= 'yellow', alpha=0.3)\n",
    "plt.show()"
   ]
  },
  {
   "cell_type": "markdown",
   "metadata": {},
   "source": [
    "Cut the interval into four pieces. \n",
    "\n",
    "- The probability of obtaining a point from each interval should be 25%.\n",
    "\n",
    "Since the blue point is contained in one of the intervals, the probability of obtaining it should be less than 25%."
   ]
  },
  {
   "cell_type": "code",
   "execution_count": 203,
   "metadata": {
    "collapsed": false
   },
   "outputs": [
    {
     "data": {
      "image/png": "[encoded data removed]",
      "text/plain": [
       "<matplotlib.figure.Figure at 0xa392dd8>"
      ]
     },
     "metadata": {},
     "output_type": "display_data"
    }
   ],
   "source": [
    "fig = plt.figure(figsize=(6,0.1))\n",
    "plt.scatter(0.63, 0.05, color='blue')\n",
    "plt.xlim(0,1)\n",
    "plt.ylim(0, 0.1)\n",
    "plt.xticks([0.0,0.25,0.5,0.75,1.0])\n",
    "plt.yticks([])\n",
    "plt.fill([0.5,0.75,0.75,0.5],[0,0,1,1], color= 'yellow', alpha=0.3)\n",
    "plt.show()"
   ]
  },
  {
   "cell_type": "markdown",
   "metadata": {},
   "source": [
    "Cut the interval into ten pieces. \n",
    "\n",
    "- The probability of obtaining a point from each interval should be 10%.\n",
    "\n",
    "Since the blue point is contained in one of the intervals, the probability of obtaining it should be less than 10%."
   ]
  },
  {
   "cell_type": "code",
   "execution_count": 204,
   "metadata": {
    "collapsed": false
   },
   "outputs": [
    {
     "data": {
      "image/png": "[encoded data removed]",
      "text/plain": [
       "<matplotlib.figure.Figure at 0xa768748>"
      ]
     },
     "metadata": {},
     "output_type": "display_data"
    }
   ],
   "source": [
    "fig = plt.figure(figsize=(6,0.1))\n",
    "plt.scatter(0.63, 0.05, color='blue')\n",
    "plt.xlim(0,1)\n",
    "plt.ylim(0, 0.1)\n",
    "plt.xticks(list(map(lambda x: 0.1*x, range(11))))\n",
    "plt.yticks([])\n",
    "plt.fill([0.6,0.7,0.7,0.6],[0,0,1,1], color= 'yellow', alpha=0.4)\n",
    "plt.show()"
   ]
  },
  {
   "cell_type": "markdown",
   "metadata": {},
   "source": [
    "Continue this process, it's easy to see that the probability of obtaining the blue point is **zero**.\n",
    "\n",
    "In fact, the probability of obtaining any point in the interval is **zero**.\n",
    "\n",
    "Therefore, for a continuous distribution we talk about the probability of **getting a number in a particular interval**, instead of getting a particular number. Below we demonstrate how this is done with **normal** distribution."
   ]
  },
  {
   "cell_type": "markdown",
   "metadata": {},
   "source": [
    "**The Probability Density Function**\n",
    "\n",
    "The standard representation of a normal distribution is by its probability density function (**pdf**), or \"density\".\n",
    "\n",
    "The pdf of a normal distribution is denoted by:\n",
    "<br/><br/>\n",
    "$$\n",
    "N(\\mu, \\sigma)(x) = \\frac{1}{\\sqrt{2\\pi}\\sigma}exp\\big[{-\\frac{1}{2}\\big(\\frac{x-\\mu}{\\sigma}\\big)^2}\\big]\n",
    "$$\n",
    "<br/>\n",
    "where $\\mu$ is the mean and $\\sigma$ is the standard deviation.\n",
    "\n",
    "Plot the pdf we obtain the famous bell curve:"
   ]
  },
  {
   "cell_type": "code",
   "execution_count": 10,
   "metadata": {
    "collapsed": false
   },
   "outputs": [
    {
     "data": {
      "image/png": "[encoded data removed]",
      "text/plain": [
       "<matplotlib.figure.Figure at 0x110d05ef0>"
      ]
     },
     "metadata": {},
     "output_type": "display_data"
    }
   ],
   "source": [
    "#### Don't worry about the code here; we will discuss later\n",
    "\n",
    "mu_0 = 20\n",
    "mu_1 = 40\n",
    "std_0= 5\n",
    "std_1= 10\n",
    "point = np.linspace(0,80,100)\n",
    "\n",
    "legend_0 = 'The mean: %d;\\nthe standard deviation %d' % (mu_0, std_0)\n",
    "plt.plot(point, stats.norm(mu_0, std_0).pdf(point), color= 'red', label=legend_0)\n",
    "\n",
    "legend_1 = 'The mean: %d;\\nthe standard deviation %d' % (mu_1, std_1)\n",
    "plt.plot(point, stats.norm(mu_1, std_1).pdf(point), color= 'green', label=legend_1)\n",
    "\n",
    "\n",
    "plt.xlim(0,80)\n",
    "plt.ylim(-0.002, 0.09)\n",
    "plt.legend()\n",
    "plt.show()"
   ]
  },
  {
   "cell_type": "markdown",
   "metadata": {},
   "source": [
    "The normal distribution is completely determined by its mean and the standard deviation.\n",
    "\n",
    "The normal distribution with $\\mu=0$ and $\\sigma=1$ is called the **standatd normal distribution**. "
   ]
  },
  {
   "cell_type": "code",
   "execution_count": 11,
   "metadata": {
    "collapsed": false
   },
   "outputs": [
    {
     "data": {
      "image/png": "[encoded data removed]",
      "text/plain": [
       "<matplotlib.figure.Figure at 0x110d05710>"
      ]
     },
     "metadata": {},
     "output_type": "display_data"
    }
   ],
   "source": [
    "fig = plt.figure(figsize=(6,3.5))\n",
    "point = np.linspace(-5,5,100)\n",
    "plt.plot(point, stats.norm(0, 1).pdf(point))\n",
    "plt.title('The Standard Normal Distribution')\n",
    "plt.ylim(0, 0.45)\n",
    "plt.xlim(-5, 5)\n",
    "plt.show()"
   ]
  },
  {
   "cell_type": "markdown",
   "metadata": {},
   "source": [
    "**The Cumulative Density Function**\n",
    "\n",
    "The probability density is important of its own right, but probability can be more intuitive.\n",
    "\n",
    "For an interval, the probability of the occurrence of any number in it is **the area above the interval interval and beneath the pdf curve**. \n",
    "\n",
    "The probability of obtaining a number smaller than -1 is the area below:"
   ]
  },
  {
   "cell_type": "code",
   "execution_count": 205,
   "metadata": {
    "collapsed": false
   },
   "outputs": [
    {
     "data": {
      "image/png": "[encoded data removed]",
      "text/plain": [
       "<matplotlib.figure.Figure at 0xa768b38>"
      ]
     },
     "metadata": {},
     "output_type": "display_data"
    }
   ],
   "source": [
    "fig = plt.figure(figsize=(6,3.5))\n",
    "point = np.linspace(-5,5,100)\n",
    "plt.plot(point, stats.norm(0, 1).pdf(point))\n",
    "plt.title('The Standard Normal Distribution')\n",
    "point = np.linspace(-5,-1,100)\n",
    "\n",
    "plt.fill([-5]+list(point)+[-1], [0]+list(map(stats.norm(0, 1).pdf, point))+[0], color='grey', alpha=0.2)\n",
    "plt.ylim(0, 0.45)\n",
    "plt.xlim(-5, 5)\n",
    "plt.xticks([-4,-2,-1,0,2,4])\n",
    "plt.show() "
   ]
  },
  {
   "cell_type": "markdown",
   "metadata": {},
   "source": [
    "Equivalently, this can be represented by integral:\n",
    "\n",
    "$$\n",
    "\\int_{-\\infty}^{-1} N(0, 1)(t) dt\n",
    "$$\n",
    "\n",
    "The probability of obtaining a number smaller than 0 is the area below:"
   ]
  },
  {
   "cell_type": "code",
   "execution_count": 206,
   "metadata": {
    "collapsed": false
   },
   "outputs": [
    {
     "data": {
      "image/png": "[encoded data removed]",
      "text/plain": [
       "<matplotlib.figure.Figure at 0xa89e0b8>"
      ]
     },
     "metadata": {},
     "output_type": "display_data"
    }
   ],
   "source": [
    "fig = plt.figure(figsize=(6,3.5))\n",
    "point = np.linspace(-5,5,100)\n",
    "plt.plot(point, stats.norm(0, 1).pdf(point))\n",
    "plt.title('The Standard Normal Distribution')\n",
    "point = np.linspace(-5,0,100)\n",
    "\n",
    "plt.fill([-5]+list(point)+[0], [0]+list(map(stats.norm(0, 1).pdf, point))+[0], color='grey', alpha=0.2)\n",
    "plt.ylim(0, 0.45)\n",
    "plt.xlim(-5, 5)\n",
    "plt.xticks([-4,-2,-1,0,2,4])\n",
    "plt.show()"
   ]
  },
  {
   "cell_type": "markdown",
   "metadata": {},
   "source": [
    "or with integral:\n",
    "\n",
    "$$\n",
    "\\int_{-\\infty}^{0} N(0, 1)(t) dt\n",
    "$$\n",
    "\n",
    "The **cumulative density function** is defined:\n",
    "\n",
    "$$\n",
    "\\text{cdf}(x) = \\int_{-\\infty}^{x} N(0, 1)(t) dt\n",
    "$$\n",
    "\n",
    "Therefore, the probability of obtaining a value from an arbitrary interval [a, b] is:\n",
    "\n",
    "$$\n",
    "\\text{cdf}(b) - \\text{cdf}(a) = \\int_a^b N(0, 1)(t) dt\n",
    "$$\n",
    "\n",
    "or can be visualized by:"
   ]
  },
  {
   "cell_type": "code",
   "execution_count": 207,
   "metadata": {
    "collapsed": false
   },
   "outputs": [
    {
     "data": {
      "image/png": "[encoded data removed]",
      "text/plain": [
       "<matplotlib.figure.Figure at 0xa667240>"
      ]
     },
     "metadata": {},
     "output_type": "display_data"
    }
   ],
   "source": [
    "fig = plt.figure(figsize=(6,3.5))\n",
    "point = np.linspace(-5,5,100)\n",
    "plt.plot(point, stats.norm(0, 1).pdf(point))\n",
    "plt.title('The Standard Normal Distribution')\n",
    "point = np.linspace(-1.5,0.5,100)\n",
    "\n",
    "plt.fill([-1.5]+list(point)+[0.5], [0]+list(map(stats.norm(0, 1).pdf, point))+[0], color='grey', alpha=0.2)\n",
    "plt.ylim(0, 0.45)\n",
    "plt.xlim(-5, 5)\n",
    "plt.xticks([-4,-2,0,2,4])\n",
    "color='green'\n",
    "plt.text(x=-1.8, y=0.01, s='x=a', fontsize=13, color=color)\n",
    "plt.text(x=0.1, y=0.01, s='x=b', fontsize=13, color= color)\n",
    "plt.show()"
   ]
  },
  {
   "cell_type": "markdown",
   "metadata": {},
   "source": [
    "To summarise, the normal distribution (as a continuous distribution) is characterized by\n",
    "\n",
    "- the cumulative density function, which assigns a probability to each interval.\n",
    "- the probability density function, the area under whose curve assigns a probability to the corresponding interval. More precisely, pdf is the derivative of cdf. Since cdf returns probability, pdf returns the probability density.\n"
   ]
  },
  {
   "cell_type": "markdown",
   "metadata": {},
   "source": [
    "<p><a name=\"norm_object\"></a></p>\n",
    "**The Normal Distribution Object**\n",
    "\n",
    "To deal with the normal distribution, create a normal distribution object:"
   ]
  },
  {
   "cell_type": "code",
   "execution_count": 208,
   "metadata": {
    "collapsed": true
   },
   "outputs": [],
   "source": [
    "my_norm = stats.norm(3, 1)"
   ]
  },
  {
   "cell_type": "markdown",
   "metadata": {},
   "source": [
    "The above specifies a normal distribution with:\n",
    "- the mean = 3\n",
    "- the standard deviation = 1\n",
    "\n",
    "Run the following tests:"
   ]
  },
  {
   "cell_type": "code",
   "execution_count": 209,
   "metadata": {
    "collapsed": false
   },
   "outputs": [
    {
     "name": "stdout",
     "output_type": "stream",
     "text": [
      "probability smaller than mean: 0.500000\n",
      "probability staying within 1 sd: 0.6827\n",
      "probability staying within 2 sd: 0.9545\n",
      "probability staying within 3 sd: 0.9973\n"
     ]
    }
   ],
   "source": [
    "print('probability smaller than mean: %f' % my_norm.cdf(3))\n",
    "print('probability staying within 1 sd: %.4f' % (my_norm.cdf(3+1) - my_norm.cdf(3-1)))\n",
    "print('probability staying within 2 sd: %.4f' % (my_norm.cdf(3+2) - my_norm.cdf(3-2)))\n",
    "print('probability staying within 3 sd: %.4f' % (my_norm.cdf(3+3) - my_norm.cdf(3-3)))"
   ]
  },
  {
   "cell_type": "markdown",
   "metadata": {},
   "source": [
    "The pdf has a bell-curve shape, symmetric and centered at the mean:"
   ]
  },
  {
   "cell_type": "code",
   "execution_count": 19,
   "metadata": {
    "collapsed": false
   },
   "outputs": [
    {
     "data": {
      "image/png": "[encoded data removed]",
      "text/plain": [
       "<matplotlib.figure.Figure at 0x10864df98>"
      ]
     },
     "metadata": {},
     "output_type": "display_data"
    }
   ],
   "source": [
    "point = np.linspace(-1,7,100)\n",
    "plt.plot(point, my_norm.pdf(point))\n",
    "plt.show()"
   ]
  },
  {
   "cell_type": "markdown",
   "metadata": {},
   "source": [
    "**Random Sampling with a Normal Distribution**\n",
    "\n",
    "The following code generates 10,000 random normal distribution samples, using the `my_norm` object."
   ]
  },
  {
   "cell_type": "code",
   "execution_count": 20,
   "metadata": {
    "collapsed": true
   },
   "outputs": [],
   "source": [
    "size = 10000\n",
    "np.random.seed(1)\n",
    "sample = my_norm.rvs(size)"
   ]
  },
  {
   "cell_type": "markdown",
   "metadata": {},
   "source": [
    "To confirm `sample` obeys the normal distribution, the mean and standard deviation of the sampling is measured."
   ]
  },
  {
   "cell_type": "code",
   "execution_count": 21,
   "metadata": {
    "collapsed": false
   },
   "outputs": [
    {
     "name": "stdout",
     "output_type": "stream",
     "text": [
      "The sample mean of the sample is 3.0098\n",
      "The sample standard deviation of the sample is 0.9988\n"
     ]
    }
   ],
   "source": [
    "print('The sample mean of the sample is %.4f' % np.mean(sample))\n",
    "print('The sample standard deviation of the sample is %.4f' % np.std(sample))"
   ]
  },
  {
   "cell_type": "markdown",
   "metadata": {},
   "source": [
    "A histogram is used to visualize the sampling."
   ]
  },
  {
   "cell_type": "code",
   "execution_count": 23,
   "metadata": {
    "collapsed": false
   },
   "outputs": [
    {
     "data": {
      "image/png": "[encoded data removed]",
      "text/plain": [
       "<matplotlib.figure.Figure at 0x10f2702e8>"
      ]
     },
     "metadata": {},
     "output_type": "display_data"
    }
   ],
   "source": [
    "plt.figure(figsize=(10,6))\n",
    "plt.hist(sample, color='green', edgecolor='black', bins=20, alpha=0.15)\n",
    "plt.show()"
   ]
  },
  {
   "cell_type": "markdown",
   "metadata": {},
   "source": [
    "How does this empirical distribution compare to `my_norm`? \n",
    "\n",
    "- Sketch the pdf curve in the same graph"
   ]
  },
  {
   "cell_type": "code",
   "execution_count": 29,
   "metadata": {
    "collapsed": false
   },
   "outputs": [
    {
     "data": {
      "image/png": "[encoded data removed]",
      "text/plain": [
       "<matplotlib.figure.Figure at 0x110dda518>"
      ]
     },
     "metadata": {},
     "output_type": "display_data"
    }
   ],
   "source": [
    "plt.figure(figsize=(10,6))\n",
    "plt.hist(sample, color='green', edgecolor='black', bins=20, normed=True, alpha=0.15)\n",
    "point = np.linspace(-1, 8, 100)\n",
    "plt.plot(point, my_norm.pdf(point))\n",
    "plt.show()"
   ]
  },
  {
   "cell_type": "markdown",
   "metadata": {},
   "source": [
    "**Remark** Generating samples from a given distribution is called sampling. Searching for the distribution most likely to generate the samples collected is called **modeling**."
   ]
  }
 ],
 "metadata": {
  "anaconda-cloud": {},
  "kernelspec": {
   "display_name": "Python [default]",
   "language": "python",
   "name": "python2"
  },
  "language_info": {
   "codemirror_mode": {
    "name": "ipython",
    "version": 2
   },
   "file_extension": ".py",
   "mimetype": "text/x-python",
   "name": "python",
   "nbconvert_exporter": "python",
   "pygments_lexer": "ipython2",
   "version": "2.7.12"
  }
 },
 "nbformat": 4,
 "nbformat_minor": 0
}
