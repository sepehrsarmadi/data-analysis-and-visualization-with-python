{
 "cells": [
  {
   "cell_type": "markdown",
   "metadata": {},
   "source": [
    "<p><a name=\"sections\"></a></p>\n",
    "\n",
    "\n",
    "# Sections\n",
    "\n",
    "- <a href=\"#DS\">Data Structure</a><br>\n",
    "- <a href=\"#DM\">Data Manipulation</a><br>\n",
    "- <a href=\"#grouping\">Grouping and aggregration</a><br>\n",
    "- <a href=\"#miss\">Handling Missing Data</a><br>\n",
    "- <a href=\"#sol\">Solutions</a><br>\n"
   ]
  },
  {
   "cell_type": "markdown",
   "metadata": {},
   "source": [
    "# Pandas\n",
    "\n",
    "<p><a name=\"DS\"></a></p>\n",
    "### Data Structure\n",
    "\n",
    "- Pandas is a Python package built on top of NumPy.  It is useful for special array handling, data manipulation, plotting, and web scraping.  \n",
    "\n",
    "- There are four new data structure objects in Pandas: Series, DataFrame, Time Series and Panel. The first three will be discussed.\n",
    "\n",
    "- The *DataFrame* object borrows its name from the R object.  R is a programming language popular among statisticians and data scientists.\n",
    "\n",
    "- Pandas is particularly strong in the area of handling spreadsheet structures, dealing with missing data, and processing time series data.\n",
    "\n"
   ]
  },
  {
   "cell_type": "markdown",
   "metadata": {},
   "source": [
    "These are the new data types introduced by pandas:\n",
    "\n",
    "- **Series**: 1D labeled homogeneously-typed array.\n",
    "- **DataFrame**: General 2D labeled, size-mutable tabular structure with potentially heterogeneously-typed columns.\n",
    "- **Time Series**: Series with index containing datetimes.\n",
    "- **Panel**: General 3D labeled, also size-mutable array.\n",
    "\n",
    "Import the package, as follows:"
   ]
  },
  {
   "cell_type": "code",
   "execution_count": 1,
   "metadata": {
    "collapsed": true
   },
   "outputs": [],
   "source": [
    "import numpy as np\n",
    "import pandas as pd"
   ]
  },
  {
   "cell_type": "markdown",
   "metadata": {},
   "source": [
    "<p><a name=\"series\"></a></p>\n",
    "## Series\n",
    "\n",
    "A series is a one-dimensional array-like object containing homogenously typed elements.   Each element has an associated data label, called its index. By default, the index consists of ordinary array indices, i.e. consecutive integers starting from zero."
   ]
  },
  {
   "cell_type": "code",
   "execution_count": 2,
   "metadata": {
    "collapsed": false
   },
   "outputs": [
    {
     "data": {
      "text/plain": [
       "0    a\n",
       "1    b\n",
       "2    c\n",
       "3    d\n",
       "dtype: object"
      ]
     },
     "execution_count": 2,
     "metadata": {},
     "output_type": "execute_result"
    }
   ],
   "source": [
    "obj = pd.Series(['a', 'b', 'c', 'd'])\n",
    "obj"
   ]
  },
  {
   "cell_type": "markdown",
   "metadata": {},
   "source": [
    "Often it will be more desirable to create a series with an index identifying each data point. Here the index is manually set the index from 1 to 4."
   ]
  },
  {
   "cell_type": "code",
   "execution_count": 3,
   "metadata": {
    "collapsed": false
   },
   "outputs": [
    {
     "data": {
      "text/plain": [
       "1    a\n",
       "2    b\n",
       "3    c\n",
       "4    d\n",
       "dtype: object"
      ]
     },
     "execution_count": 3,
     "metadata": {},
     "output_type": "execute_result"
    }
   ],
   "source": [
    "obj2 = pd.Series(['a', 'b', 'c', 'd'], index=[1, 2, 3, 4])\n",
    "obj2"
   ]
  },
  {
   "cell_type": "markdown",
   "metadata": {},
   "source": [
    "The attribute `values` represents all the values."
   ]
  },
  {
   "cell_type": "code",
   "execution_count": 4,
   "metadata": {
    "collapsed": false
   },
   "outputs": [
    {
     "data": {
      "text/plain": [
       "array(['a', 'b', 'c', 'd'], dtype=object)"
      ]
     },
     "execution_count": 4,
     "metadata": {},
     "output_type": "execute_result"
    }
   ],
   "source": [
    "obj.values"
   ]
  },
  {
   "cell_type": "code",
   "execution_count": 5,
   "metadata": {
    "collapsed": false
   },
   "outputs": [
    {
     "data": {
      "text/plain": [
       "'b'"
      ]
     },
     "execution_count": 5,
     "metadata": {},
     "output_type": "execute_result"
    }
   ],
   "source": [
    "obj.values[1]   # obj.values is simply an array "
   ]
  },
  {
   "cell_type": "markdown",
   "metadata": {},
   "source": [
    "The **Series** object is similar to a **dictionary**, `Series.index` is like `dictionary.keys`, and `Series.values` is like `dictionary.values`. Directly convert a dictionary to a Series, as follows:"
   ]
  },
  {
   "cell_type": "code",
   "execution_count": 6,
   "metadata": {
    "collapsed": false
   },
   "outputs": [
    {
     "data": {
      "text/plain": [
       "1    a\n",
       "2    b\n",
       "3    c\n",
       "4    d\n",
       "dtype: object"
      ]
     },
     "execution_count": 6,
     "metadata": {},
     "output_type": "execute_result"
    }
   ],
   "source": [
    "dict_ = {1: 'a', 2: 'b', 3: 'c', 4: 'd'}\n",
    "obj3 = pd.Series(dict_)\n",
    "obj3"
   ]
  },
  {
   "cell_type": "markdown",
   "metadata": {},
   "source": [
    "Convert a Series back to a dictionary."
   ]
  },
  {
   "cell_type": "code",
   "execution_count": 7,
   "metadata": {
    "collapsed": false
   },
   "outputs": [
    {
     "data": {
      "text/plain": [
       "{1: 'a', 2: 'b', 3: 'c', 4: 'd'}"
      ]
     },
     "execution_count": 7,
     "metadata": {},
     "output_type": "execute_result"
    }
   ],
   "source": [
    "obj3.to_dict()"
   ]
  },
  {
   "cell_type": "markdown",
   "metadata": {},
   "source": [
    "<p><a name=\"DF\"></a></p>\n",
    "## DataFrame\n",
    "\n",
    "A data frame represents a tabular, spreadsheet-like data structure containing an ordered collection of columns.  Each column can be a different type (integers, strings, floating point numbers, Python objects, etc.).  All columns must be the same length, to give the data frame a defined shape."
   ]
  },
  {
   "cell_type": "code",
   "execution_count": 6,
   "metadata": {
    "collapsed": false
   },
   "outputs": [
    {
     "data": {
      "text/html": [
       "<div>\n",
       "<table border=\"1\" class=\"dataframe\">\n",
       "  <thead>\n",
       "    <tr style=\"text-align: right;\">\n",
       "      <th></th>\n",
       "      <th>commodity</th>\n",
       "      <th>production_Moz</th>\n",
       "      <th>year</th>\n",
       "    </tr>\n",
       "  </thead>\n",
       "  <tbody>\n",
       "    <tr>\n",
       "      <th>0</th>\n",
       "      <td>Gold</td>\n",
       "      <td>107.6</td>\n",
       "      <td>2013</td>\n",
       "    </tr>\n",
       "    <tr>\n",
       "      <th>1</th>\n",
       "      <td>Gold</td>\n",
       "      <td>109.7</td>\n",
       "      <td>2014</td>\n",
       "    </tr>\n",
       "    <tr>\n",
       "      <th>2</th>\n",
       "      <td>Silver</td>\n",
       "      <td>868.3</td>\n",
       "      <td>2014</td>\n",
       "    </tr>\n",
       "    <tr>\n",
       "      <th>3</th>\n",
       "      <td>Silver</td>\n",
       "      <td>886.7</td>\n",
       "      <td>2015</td>\n",
       "    </tr>\n",
       "  </tbody>\n",
       "</table>\n",
       "</div>"
      ],
      "text/plain": [
       "  commodity  production_Moz  year\n",
       "0      Gold           107.6  2013\n",
       "1      Gold           109.7  2014\n",
       "2    Silver           868.3  2014\n",
       "3    Silver           886.7  2015"
      ]
     },
     "execution_count": 6,
     "metadata": {},
     "output_type": "execute_result"
    }
   ],
   "source": [
    "data = {'commodity': ['Gold', 'Gold', 'Silver', 'Silver'],\n",
    "        'year': [2013, 2014, 2014, 2015],\n",
    "        'production_Moz': [107.6, 109.7, 868.3, 886.7]} #world wide in million oz\n",
    "\n",
    "# convert to DataFrame\n",
    "df = pd.DataFrame(data)  # data is a dictionary\n",
    "df"
   ]
  },
  {
   "cell_type": "markdown",
   "metadata": {},
   "source": [
    "The index may be set using the method `set_index`, as follows:"
   ]
  },
  {
   "cell_type": "code",
   "execution_count": 7,
   "metadata": {
    "collapsed": false
   },
   "outputs": [
    {
     "data": {
      "text/html": [
       "<div>\n",
       "<table border=\"1\" class=\"dataframe\">\n",
       "  <thead>\n",
       "    <tr style=\"text-align: right;\">\n",
       "      <th></th>\n",
       "      <th>commodity</th>\n",
       "      <th>production_Moz</th>\n",
       "    </tr>\n",
       "    <tr>\n",
       "      <th>year</th>\n",
       "      <th></th>\n",
       "      <th></th>\n",
       "    </tr>\n",
       "  </thead>\n",
       "  <tbody>\n",
       "    <tr>\n",
       "      <th>2013</th>\n",
       "      <td>Gold</td>\n",
       "      <td>107.6</td>\n",
       "    </tr>\n",
       "    <tr>\n",
       "      <th>2014</th>\n",
       "      <td>Gold</td>\n",
       "      <td>109.7</td>\n",
       "    </tr>\n",
       "    <tr>\n",
       "      <th>2014</th>\n",
       "      <td>Silver</td>\n",
       "      <td>868.3</td>\n",
       "    </tr>\n",
       "    <tr>\n",
       "      <th>2015</th>\n",
       "      <td>Silver</td>\n",
       "      <td>886.7</td>\n",
       "    </tr>\n",
       "  </tbody>\n",
       "</table>\n",
       "</div>"
      ],
      "text/plain": [
       "     commodity  production_Moz\n",
       "year                          \n",
       "2013      Gold           107.6\n",
       "2014      Gold           109.7\n",
       "2014    Silver           868.3\n",
       "2015    Silver           886.7"
      ]
     },
     "execution_count": 7,
     "metadata": {},
     "output_type": "execute_result"
    }
   ],
   "source": [
    "df=df.set_index('year')\n",
    "df\n",
    "# year is a bad index because 2014 appears twice"
   ]
  },
  {
   "cell_type": "markdown",
   "metadata": {},
   "source": [
    "The dataframe can be returned to the original index using the mathod `reset_index`, as follows:"
   ]
  },
  {
   "cell_type": "code",
   "execution_count": 8,
   "metadata": {
    "collapsed": false
   },
   "outputs": [
    {
     "data": {
      "text/html": [
       "<div>\n",
       "<table border=\"1\" class=\"dataframe\">\n",
       "  <thead>\n",
       "    <tr style=\"text-align: right;\">\n",
       "      <th></th>\n",
       "      <th>year</th>\n",
       "      <th>commodity</th>\n",
       "      <th>production_Moz</th>\n",
       "    </tr>\n",
       "  </thead>\n",
       "  <tbody>\n",
       "    <tr>\n",
       "      <th>0</th>\n",
       "      <td>2013</td>\n",
       "      <td>Gold</td>\n",
       "      <td>107.6</td>\n",
       "    </tr>\n",
       "    <tr>\n",
       "      <th>1</th>\n",
       "      <td>2014</td>\n",
       "      <td>Gold</td>\n",
       "      <td>109.7</td>\n",
       "    </tr>\n",
       "    <tr>\n",
       "      <th>2</th>\n",
       "      <td>2014</td>\n",
       "      <td>Silver</td>\n",
       "      <td>868.3</td>\n",
       "    </tr>\n",
       "    <tr>\n",
       "      <th>3</th>\n",
       "      <td>2015</td>\n",
       "      <td>Silver</td>\n",
       "      <td>886.7</td>\n",
       "    </tr>\n",
       "  </tbody>\n",
       "</table>\n",
       "</div>"
      ],
      "text/plain": [
       "   year commodity  production_Moz\n",
       "0  2013      Gold           107.6\n",
       "1  2014      Gold           109.7\n",
       "2  2014    Silver           868.3\n",
       "3  2015    Silver           886.7"
      ]
     },
     "execution_count": 8,
     "metadata": {},
     "output_type": "execute_result"
    }
   ],
   "source": [
    "df=df.reset_index()\n",
    "df"
   ]
  },
  {
   "cell_type": "markdown",
   "metadata": {},
   "source": [
    "A data frame can also be created with a nested list. The two ways are equivalent."
   ]
  },
  {
   "cell_type": "code",
   "execution_count": 9,
   "metadata": {
    "collapsed": false
   },
   "outputs": [
    {
     "data": {
      "text/html": [
       "<div>\n",
       "<table border=\"1\" class=\"dataframe\">\n",
       "  <thead>\n",
       "    <tr style=\"text-align: right;\">\n",
       "      <th></th>\n",
       "      <th>production_Moz</th>\n",
       "      <th>commodity</th>\n",
       "      <th>year</th>\n",
       "    </tr>\n",
       "  </thead>\n",
       "  <tbody>\n",
       "    <tr>\n",
       "      <th>0</th>\n",
       "      <td>107.6</td>\n",
       "      <td>Gold</td>\n",
       "      <td>2013</td>\n",
       "    </tr>\n",
       "    <tr>\n",
       "      <th>1</th>\n",
       "      <td>109.7</td>\n",
       "      <td>Gold</td>\n",
       "      <td>2014</td>\n",
       "    </tr>\n",
       "    <tr>\n",
       "      <th>2</th>\n",
       "      <td>868.3</td>\n",
       "      <td>Silver</td>\n",
       "      <td>2014</td>\n",
       "    </tr>\n",
       "    <tr>\n",
       "      <th>3</th>\n",
       "      <td>886.7</td>\n",
       "      <td>Silver</td>\n",
       "      <td>2015</td>\n",
       "    </tr>\n",
       "  </tbody>\n",
       "</table>\n",
       "</div>"
      ],
      "text/plain": [
       "   production_Moz commodity  year\n",
       "0           107.6      Gold  2013\n",
       "1           109.7      Gold  2014\n",
       "2           868.3    Silver  2014\n",
       "3           886.7    Silver  2015"
      ]
     },
     "execution_count": 9,
     "metadata": {},
     "output_type": "execute_result"
    }
   ],
   "source": [
    "df_2=pd.DataFrame([[107.6, 'Gold', 2013],\n",
    "                   [109.7, 'Gold', 2014],\n",
    "                   [868.3, 'Silver', 2014],\n",
    "                   [886.7, 'Silver', 2015]], \n",
    "                    columns=['production_Moz','commodity','year'])    # we are passing a nested list > more legible\n",
    "df_2"
   ]
  },
  {
   "cell_type": "markdown",
   "metadata": {},
   "source": [
    "A data frame has an attribute **values**, which is of the multidimensional array type."
   ]
  },
  {
   "cell_type": "code",
   "execution_count": 10,
   "metadata": {
    "collapsed": false
   },
   "outputs": [
    {
     "name": "stdout",
     "output_type": "stream",
     "text": [
      "<type 'numpy.ndarray'>\n"
     ]
    }
   ],
   "source": [
    "print type(df.values)"
   ]
  },
  {
   "cell_type": "code",
   "execution_count": 11,
   "metadata": {
    "collapsed": false
   },
   "outputs": [
    {
     "name": "stdout",
     "output_type": "stream",
     "text": [
      "[[2013L 'Gold' 107.6]\n",
      " [2014L 'Gold' 109.7]\n",
      " [2014L 'Silver' 868.3]\n",
      " [2015L 'Silver' 886.7]]\n",
      "-------------------------------------------------------\n",
      "[[107.6 'Gold' 2013L]\n",
      " [109.7 'Gold' 2014L]\n",
      " [868.3 'Silver' 2014L]\n",
      " [886.7 'Silver' 2015L]]\n"
     ]
    }
   ],
   "source": [
    "print df.values\n",
    "print '-'*55\n",
    "print df_2.values"
   ]
  },
  {
   "cell_type": "markdown",
   "metadata": {},
   "source": [
    "data frame v.s. series is similar to 2D array v.s. 1D array. A data frame has column names."
   ]
  },
  {
   "cell_type": "code",
   "execution_count": 12,
   "metadata": {
    "collapsed": false
   },
   "outputs": [
    {
     "name": "stdout",
     "output_type": "stream",
     "text": [
      "<class 'pandas.indexes.base.Index'>\n"
     ]
    }
   ],
   "source": [
    "print type(df.columns)"
   ]
  },
  {
   "cell_type": "code",
   "execution_count": 13,
   "metadata": {
    "collapsed": false
   },
   "outputs": [
    {
     "name": "stdout",
     "output_type": "stream",
     "text": [
      "Index([u'year', u'commodity', u'production_Moz'], dtype='object')\n"
     ]
    }
   ],
   "source": [
    "print df.columns  # column name\n",
    "# here u'year' means the string 'year' is encoded in unicode"
   ]
  },
  {
   "cell_type": "code",
   "execution_count": 14,
   "metadata": {
    "collapsed": false
   },
   "outputs": [
    {
     "name": "stdout",
     "output_type": "stream",
     "text": [
      "['year', 'commodity', 'production_Moz']\n"
     ]
    }
   ],
   "source": [
    "print df.columns.tolist()"
   ]
  },
  {
   "cell_type": "raw",
   "metadata": {},
   "source": [
    "Each column in a DataFrame can be retrieved as a Series. There are two ways to get the column: to retrieve by attribute and to retrieve by dictionary-like notation. They will give the same result."
   ]
  },
  {
   "cell_type": "code",
   "execution_count": 15,
   "metadata": {
    "collapsed": false
   },
   "outputs": [
    {
     "data": {
      "text/plain": [
       "0    2013\n",
       "1    2014\n",
       "2    2014\n",
       "3    2015\n",
       "Name: year, dtype: int64"
      ]
     },
     "execution_count": 15,
     "metadata": {},
     "output_type": "execute_result"
    }
   ],
   "source": [
    "df.year         # retrieve by attribute"
   ]
  },
  {
   "cell_type": "code",
   "execution_count": 16,
   "metadata": {
    "collapsed": false
   },
   "outputs": [
    {
     "data": {
      "text/plain": [
       "0    2013\n",
       "1    2014\n",
       "2    2014\n",
       "3    2015\n",
       "Name: year, dtype: int64"
      ]
     },
     "execution_count": 16,
     "metadata": {},
     "output_type": "execute_result"
    }
   ],
   "source": [
    "df['year']  # retrieve by dictionary-like notation"
   ]
  },
  {
   "cell_type": "code",
   "execution_count": 17,
   "metadata": {
    "collapsed": false
   },
   "outputs": [
    {
     "data": {
      "text/html": [
       "<div>\n",
       "<table border=\"1\" class=\"dataframe\">\n",
       "  <thead>\n",
       "    <tr style=\"text-align: right;\">\n",
       "      <th></th>\n",
       "      <th>year</th>\n",
       "    </tr>\n",
       "  </thead>\n",
       "  <tbody>\n",
       "    <tr>\n",
       "      <th>0</th>\n",
       "      <td>2013</td>\n",
       "    </tr>\n",
       "    <tr>\n",
       "      <th>1</th>\n",
       "      <td>2014</td>\n",
       "    </tr>\n",
       "    <tr>\n",
       "      <th>2</th>\n",
       "      <td>2014</td>\n",
       "    </tr>\n",
       "    <tr>\n",
       "      <th>3</th>\n",
       "      <td>2015</td>\n",
       "    </tr>\n",
       "  </tbody>\n",
       "</table>\n",
       "</div>"
      ],
      "text/plain": [
       "   year\n",
       "0  2013\n",
       "1  2014\n",
       "2  2014\n",
       "3  2015"
      ]
     },
     "execution_count": 17,
     "metadata": {},
     "output_type": "execute_result"
    }
   ],
   "source": [
    "df[['year']] # will return a pandas dataframe"
   ]
  },
  {
   "cell_type": "markdown",
   "metadata": {},
   "source": [
    "In deleting a row the difference between the two notations can be seen."
   ]
  },
  {
   "cell_type": "code",
   "execution_count": 22,
   "metadata": {
    "collapsed": false
   },
   "outputs": [
    {
     "ename": "AttributeError",
     "evalue": "year",
     "output_type": "error",
     "traceback": [
      "\u001b[0;31m---------------------------------------------------------------------------\u001b[0m",
      "\u001b[0;31mAttributeError\u001b[0m                            Traceback (most recent call last)",
      "\u001b[0;32m<ipython-input-22-1383316d6ac3>\u001b[0m in \u001b[0;36m<module>\u001b[0;34m()\u001b[0m\n\u001b[0;32m----> 1\u001b[0;31m \u001b[0;32mdel\u001b[0m\u001b[0;34m(\u001b[0m\u001b[0mdf\u001b[0m\u001b[0;34m.\u001b[0m\u001b[0myear\u001b[0m\u001b[0;34m)\u001b[0m\u001b[0;34m\u001b[0m\u001b[0m\n\u001b[0m",
      "\u001b[0;31mAttributeError\u001b[0m: year"
     ]
    }
   ],
   "source": [
    "del(df.year)"
   ]
  },
  {
   "cell_type": "code",
   "execution_count": 23,
   "metadata": {
    "collapsed": false
   },
   "outputs": [
    {
     "data": {
      "text/html": [
       "<div>\n",
       "<table border=\"1\" class=\"dataframe\">\n",
       "  <thead>\n",
       "    <tr style=\"text-align: right;\">\n",
       "      <th></th>\n",
       "      <th>commodity</th>\n",
       "      <th>production</th>\n",
       "    </tr>\n",
       "  </thead>\n",
       "  <tbody>\n",
       "    <tr>\n",
       "      <th>0</th>\n",
       "      <td>Gold</td>\n",
       "      <td>107.6</td>\n",
       "    </tr>\n",
       "    <tr>\n",
       "      <th>1</th>\n",
       "      <td>Gold</td>\n",
       "      <td>109.7</td>\n",
       "    </tr>\n",
       "    <tr>\n",
       "      <th>2</th>\n",
       "      <td>Silver</td>\n",
       "      <td>868.3</td>\n",
       "    </tr>\n",
       "    <tr>\n",
       "      <th>3</th>\n",
       "      <td>Silver</td>\n",
       "      <td>886.7</td>\n",
       "    </tr>\n",
       "  </tbody>\n",
       "</table>\n",
       "</div>"
      ],
      "text/plain": [
       "  commodity  production\n",
       "0      Gold       107.6\n",
       "1      Gold       109.7\n",
       "2    Silver       868.3\n",
       "3    Silver       886.7"
      ]
     },
     "execution_count": 23,
     "metadata": {},
     "output_type": "execute_result"
    }
   ],
   "source": [
    "del(df['year'])\n",
    "df"
   ]
  },
  {
   "cell_type": "markdown",
   "metadata": {},
   "source": [
    "The name of an individual column may be changed as follows:"
   ]
  },
  {
   "cell_type": "code",
   "execution_count": 19,
   "metadata": {
    "collapsed": false
   },
   "outputs": [
    {
     "data": {
      "text/html": [
       "<div>\n",
       "<table border=\"1\" class=\"dataframe\">\n",
       "  <thead>\n",
       "    <tr style=\"text-align: right;\">\n",
       "      <th></th>\n",
       "      <th>year</th>\n",
       "      <th>metal</th>\n",
       "      <th>production_Moz</th>\n",
       "    </tr>\n",
       "  </thead>\n",
       "  <tbody>\n",
       "    <tr>\n",
       "      <th>0</th>\n",
       "      <td>2013</td>\n",
       "      <td>Gold</td>\n",
       "      <td>107.6</td>\n",
       "    </tr>\n",
       "    <tr>\n",
       "      <th>1</th>\n",
       "      <td>2014</td>\n",
       "      <td>Gold</td>\n",
       "      <td>109.7</td>\n",
       "    </tr>\n",
       "    <tr>\n",
       "      <th>2</th>\n",
       "      <td>2014</td>\n",
       "      <td>Silver</td>\n",
       "      <td>868.3</td>\n",
       "    </tr>\n",
       "    <tr>\n",
       "      <th>3</th>\n",
       "      <td>2015</td>\n",
       "      <td>Silver</td>\n",
       "      <td>886.7</td>\n",
       "    </tr>\n",
       "  </tbody>\n",
       "</table>\n",
       "</div>"
      ],
      "text/plain": [
       "   year   metal  production_Moz\n",
       "0  2013    Gold           107.6\n",
       "1  2014    Gold           109.7\n",
       "2  2014  Silver           868.3\n",
       "3  2015  Silver           886.7"
      ]
     },
     "execution_count": 19,
     "metadata": {},
     "output_type": "execute_result"
    }
   ],
   "source": [
    "df.columns = df.columns.str.replace('commodity','metal')\n",
    "df"
   ]
  },
  {
   "cell_type": "markdown",
   "metadata": {},
   "source": [
    "Indexing a pandas data frame is similar to indexing a numpy array.  In pandas the first index retrieves a column and the second index retrieves the row.  To return the third element of the metal column, use the following:"
   ]
  },
  {
   "cell_type": "code",
   "execution_count": 21,
   "metadata": {
    "collapsed": false
   },
   "outputs": [
    {
     "data": {
      "text/plain": [
       "'Silver'"
      ]
     },
     "execution_count": 21,
     "metadata": {},
     "output_type": "execute_result"
    }
   ],
   "source": [
    "df['metal'][2]"
   ]
  },
  {
   "cell_type": "markdown",
   "metadata": {},
   "source": [
    "Slicing a pandas data frame is also similar to slicing a numpy array.  The following code retrns the second and third elements of the production column."
   ]
  },
  {
   "cell_type": "code",
   "execution_count": 23,
   "metadata": {
    "collapsed": false
   },
   "outputs": [
    {
     "data": {
      "text/plain": [
       "1    109.7\n",
       "2    868.3\n",
       "Name: production_Moz, dtype: float64"
      ]
     },
     "execution_count": 23,
     "metadata": {},
     "output_type": "execute_result"
    }
   ],
   "source": [
    "df['production_Moz'][1:3]"
   ]
  },
  {
   "cell_type": "markdown",
   "metadata": {},
   "source": [
    "In order to slice multiple columns pass a list of column names.  The following represents the world production of gold and silver in 2014."
   ]
  },
  {
   "cell_type": "code",
   "execution_count": 24,
   "metadata": {
    "collapsed": false
   },
   "outputs": [
    {
     "data": {
      "text/html": [
       "<div>\n",
       "<table border=\"1\" class=\"dataframe\">\n",
       "  <thead>\n",
       "    <tr style=\"text-align: right;\">\n",
       "      <th></th>\n",
       "      <th>metal</th>\n",
       "      <th>production_Moz</th>\n",
       "    </tr>\n",
       "  </thead>\n",
       "  <tbody>\n",
       "    <tr>\n",
       "      <th>1</th>\n",
       "      <td>Gold</td>\n",
       "      <td>109.7</td>\n",
       "    </tr>\n",
       "    <tr>\n",
       "      <th>2</th>\n",
       "      <td>Silver</td>\n",
       "      <td>868.3</td>\n",
       "    </tr>\n",
       "  </tbody>\n",
       "</table>\n",
       "</div>"
      ],
      "text/plain": [
       "    metal  production_Moz\n",
       "1    Gold           109.7\n",
       "2  Silver           868.3"
      ]
     },
     "execution_count": 24,
     "metadata": {},
     "output_type": "execute_result"
    }
   ],
   "source": [
    "df[['metal','production_Moz']][1:3]  # this gives us a pandas dataframe"
   ]
  },
  {
   "cell_type": "markdown",
   "metadata": {},
   "source": [
    "** Exercise 1** \n",
    "\n",
    "Create a Pandas DataFrame, named 'NYC', whose columns are 'boro', 'pop' and 'area'. The frame represents the five boroughs of New York City, including the 2010 census population (in millions),and land area in square miles.  The rows represent the following:\n",
    "\n",
    "- The Bronx is 42 square miles.  In the 2010 census, the Bronx had 1.39 million people.\n",
    "- Manhattan, with 2010 population 1.59 million, has an area of 23 square miles.\n",
    "- Brooklyn is 71 square miles.  The 2010 population was 2.47 million.\n",
    "- In 2010, Staten Island had 0.44 million inhabitants.  It is 59 square miles.\n",
    "- 2.23 million people lived across the 109 square miles of Queens, in 2010.\n",
    "\n",
    "Create a new column representing the population density using:\n",
    "```\n",
    "NYC['density']=NYC['pop']/NYC['area']\n",
    "```\n",
    "\n",
    "Now set the index of NYC to be the borough names using `set_index` function of a data frame. Make sure you update the DataFrame."
   ]
  },
  {
   "cell_type": "code",
   "execution_count": 25,
   "metadata": {
    "collapsed": false
   },
   "outputs": [
    {
     "data": {
      "text/html": [
       "<div>\n",
       "<table border=\"1\" class=\"dataframe\">\n",
       "  <thead>\n",
       "    <tr style=\"text-align: right;\">\n",
       "      <th></th>\n",
       "      <th>pop</th>\n",
       "      <th>area</th>\n",
       "      <th>density</th>\n",
       "    </tr>\n",
       "    <tr>\n",
       "      <th>boro</th>\n",
       "      <th></th>\n",
       "      <th></th>\n",
       "      <th></th>\n",
       "    </tr>\n",
       "  </thead>\n",
       "  <tbody>\n",
       "    <tr>\n",
       "      <th>Bronx</th>\n",
       "      <td>1.39</td>\n",
       "      <td>42</td>\n",
       "      <td>0.033095</td>\n",
       "    </tr>\n",
       "    <tr>\n",
       "      <th>Manhattan</th>\n",
       "      <td>1.59</td>\n",
       "      <td>23</td>\n",
       "      <td>0.069130</td>\n",
       "    </tr>\n",
       "    <tr>\n",
       "      <th>Brooklyn</th>\n",
       "      <td>2.47</td>\n",
       "      <td>71</td>\n",
       "      <td>0.034789</td>\n",
       "    </tr>\n",
       "    <tr>\n",
       "      <th>Staten Island</th>\n",
       "      <td>0.44</td>\n",
       "      <td>59</td>\n",
       "      <td>0.007458</td>\n",
       "    </tr>\n",
       "    <tr>\n",
       "      <th>Queens</th>\n",
       "      <td>2.23</td>\n",
       "      <td>109</td>\n",
       "      <td>0.020459</td>\n",
       "    </tr>\n",
       "  </tbody>\n",
       "</table>\n",
       "</div>"
      ],
      "text/plain": [
       "                pop  area   density\n",
       "boro                               \n",
       "Bronx          1.39    42  0.033095\n",
       "Manhattan      1.59    23  0.069130\n",
       "Brooklyn       2.47    71  0.034789\n",
       "Staten Island  0.44    59  0.007458\n",
       "Queens         2.23   109  0.020459"
      ]
     },
     "execution_count": 25,
     "metadata": {},
     "output_type": "execute_result"
    }
   ],
   "source": [
    "#### Your code here\n",
    "\n",
    "nyc =pd.DataFrame([\n",
    "                   ['Bronx', 1.39, 42],\n",
    "                   ['Manhattan', 1.59, 23],\n",
    "                   ['Brooklyn', 2.47, 71],\n",
    "                   ['Staten Island', 0.44, 59],\n",
    "                   ['Queens', 2.23, 109]\n",
    "                  ], \n",
    "                    columns=['boro','pop','area'])   \n",
    "\n",
    "nyc['density']=nyc['pop']/nyc['area']\n",
    "nyc = nyc.set_index('boro')\n",
    "nyc\n"
   ]
  },
  {
   "cell_type": "markdown",
   "metadata": {},
   "source": [
    "<p><a name=\"IO\"></a></p>\n",
    "## I/O tools\n",
    "\n",
    "Pandas has a number of functions for reading tabular data as a data frame object."
   ]
  },
  {
   "cell_type": "code",
   "execution_count": 37,
   "metadata": {
    "collapsed": false
   },
   "outputs": [
    {
     "name": "stdout",
     "output_type": "stream",
     "text": [
      "a,b,c,d,message\n",
      "1,2,3,4,hello\n",
      "5,6,7,8,world\n",
      "9,10,11,12,foo\n"
     ]
    }
   ],
   "source": [
    "!more foo.csv"
   ]
  },
  {
   "cell_type": "code",
   "execution_count": 38,
   "metadata": {
    "collapsed": false
   },
   "outputs": [
    {
     "data": {
      "text/html": [
       "<div>\n",
       "<table border=\"1\" class=\"dataframe\">\n",
       "  <thead>\n",
       "    <tr style=\"text-align: right;\">\n",
       "      <th></th>\n",
       "      <th>a</th>\n",
       "      <th>b</th>\n",
       "      <th>c</th>\n",
       "      <th>d</th>\n",
       "      <th>message</th>\n",
       "    </tr>\n",
       "  </thead>\n",
       "  <tbody>\n",
       "    <tr>\n",
       "      <th>0</th>\n",
       "      <td>1</td>\n",
       "      <td>2</td>\n",
       "      <td>3</td>\n",
       "      <td>4</td>\n",
       "      <td>hello</td>\n",
       "    </tr>\n",
       "    <tr>\n",
       "      <th>1</th>\n",
       "      <td>5</td>\n",
       "      <td>6</td>\n",
       "      <td>7</td>\n",
       "      <td>8</td>\n",
       "      <td>world</td>\n",
       "    </tr>\n",
       "    <tr>\n",
       "      <th>2</th>\n",
       "      <td>9</td>\n",
       "      <td>10</td>\n",
       "      <td>11</td>\n",
       "      <td>12</td>\n",
       "      <td>foo</td>\n",
       "    </tr>\n",
       "  </tbody>\n",
       "</table>\n",
       "</div>"
      ],
      "text/plain": [
       "   a   b   c   d message\n",
       "0  1   2   3   4   hello\n",
       "1  5   6   7   8   world\n",
       "2  9  10  11  12     foo"
      ]
     },
     "execution_count": 38,
     "metadata": {},
     "output_type": "execute_result"
    }
   ],
   "source": [
    "pd.read_csv('foo.csv')"
   ]
  },
  {
   "cell_type": "markdown",
   "metadata": {},
   "source": [
    "In some cases, there is no header in the file. By setting `header = None`, the column names will be filled with incremental numbers."
   ]
  },
  {
   "cell_type": "code",
   "execution_count": 39,
   "metadata": {
    "collapsed": false
   },
   "outputs": [
    {
     "name": "stdout",
     "output_type": "stream",
     "text": [
      "1,2,3,4,hello\n",
      "5,6,7,8,world\n",
      "9,10,11,12,foo\n"
     ]
    }
   ],
   "source": [
    "!more foo_noheader.csv"
   ]
  },
  {
   "cell_type": "code",
   "execution_count": 40,
   "metadata": {
    "collapsed": false
   },
   "outputs": [
    {
     "data": {
      "text/html": [
       "<div>\n",
       "<table border=\"1\" class=\"dataframe\">\n",
       "  <thead>\n",
       "    <tr style=\"text-align: right;\">\n",
       "      <th></th>\n",
       "      <th>0</th>\n",
       "      <th>1</th>\n",
       "      <th>2</th>\n",
       "      <th>3</th>\n",
       "      <th>4</th>\n",
       "    </tr>\n",
       "  </thead>\n",
       "  <tbody>\n",
       "    <tr>\n",
       "      <th>0</th>\n",
       "      <td>1</td>\n",
       "      <td>2</td>\n",
       "      <td>3</td>\n",
       "      <td>4</td>\n",
       "      <td>hello</td>\n",
       "    </tr>\n",
       "    <tr>\n",
       "      <th>1</th>\n",
       "      <td>5</td>\n",
       "      <td>6</td>\n",
       "      <td>7</td>\n",
       "      <td>8</td>\n",
       "      <td>world</td>\n",
       "    </tr>\n",
       "    <tr>\n",
       "      <th>2</th>\n",
       "      <td>9</td>\n",
       "      <td>10</td>\n",
       "      <td>11</td>\n",
       "      <td>12</td>\n",
       "      <td>foo</td>\n",
       "    </tr>\n",
       "  </tbody>\n",
       "</table>\n",
       "</div>"
      ],
      "text/plain": [
       "   0   1   2   3      4\n",
       "0  1   2   3   4  hello\n",
       "1  5   6   7   8  world\n",
       "2  9  10  11  12    foo"
      ]
     },
     "execution_count": 40,
     "metadata": {},
     "output_type": "execute_result"
    }
   ],
   "source": [
    "pd.read_csv('foo_noheader.csv', header = None)"
   ]
  },
  {
   "cell_type": "markdown",
   "metadata": {},
   "source": [
    "Pass the column names (as a list of strings) to the names parameter in `read_csv`."
   ]
  },
  {
   "cell_type": "code",
   "execution_count": 41,
   "metadata": {
    "collapsed": false
   },
   "outputs": [
    {
     "data": {
      "text/html": [
       "<div>\n",
       "<table border=\"1\" class=\"dataframe\">\n",
       "  <thead>\n",
       "    <tr style=\"text-align: right;\">\n",
       "      <th></th>\n",
       "      <th>a</th>\n",
       "      <th>b</th>\n",
       "      <th>c</th>\n",
       "      <th>d</th>\n",
       "      <th>message</th>\n",
       "    </tr>\n",
       "  </thead>\n",
       "  <tbody>\n",
       "    <tr>\n",
       "      <th>0</th>\n",
       "      <td>1</td>\n",
       "      <td>2</td>\n",
       "      <td>3</td>\n",
       "      <td>4</td>\n",
       "      <td>hello</td>\n",
       "    </tr>\n",
       "    <tr>\n",
       "      <th>1</th>\n",
       "      <td>5</td>\n",
       "      <td>6</td>\n",
       "      <td>7</td>\n",
       "      <td>8</td>\n",
       "      <td>world</td>\n",
       "    </tr>\n",
       "    <tr>\n",
       "      <th>2</th>\n",
       "      <td>9</td>\n",
       "      <td>10</td>\n",
       "      <td>11</td>\n",
       "      <td>12</td>\n",
       "      <td>foo</td>\n",
       "    </tr>\n",
       "  </tbody>\n",
       "</table>\n",
       "</div>"
      ],
      "text/plain": [
       "   a   b   c   d message\n",
       "0  1   2   3   4   hello\n",
       "1  5   6   7   8   world\n",
       "2  9  10  11  12     foo"
      ]
     },
     "execution_count": 41,
     "metadata": {},
     "output_type": "execute_result"
    }
   ],
   "source": [
    "# Set the names manually\n",
    "pd.read_csv('foo_noheader.csv', \n",
    "             names=['a', 'b', 'c', 'd', 'message'])"
   ]
  },
  {
   "cell_type": "markdown",
   "metadata": {},
   "source": [
    "Importing files has been covered. This exercise demonstrates file exporting.\n",
    "\n",
    "**Exercise 2** \n",
    "\n",
    "- Write the data frame, `NYC`, to a file, NYC.csv. The function `to_csv` is useful for this task.\n"
   ]
  },
  {
   "cell_type": "code",
   "execution_count": 26,
   "metadata": {
    "collapsed": false
   },
   "outputs": [
    {
     "data": {
      "text/html": [
       "<div>\n",
       "<table border=\"1\" class=\"dataframe\">\n",
       "  <thead>\n",
       "    <tr style=\"text-align: right;\">\n",
       "      <th></th>\n",
       "      <th>pop</th>\n",
       "      <th>area</th>\n",
       "      <th>density</th>\n",
       "    </tr>\n",
       "    <tr>\n",
       "      <th>boro</th>\n",
       "      <th></th>\n",
       "      <th></th>\n",
       "      <th></th>\n",
       "    </tr>\n",
       "  </thead>\n",
       "  <tbody>\n",
       "    <tr>\n",
       "      <th>Bronx</th>\n",
       "      <td>1.39</td>\n",
       "      <td>42</td>\n",
       "      <td>0.033095</td>\n",
       "    </tr>\n",
       "    <tr>\n",
       "      <th>Manhattan</th>\n",
       "      <td>1.59</td>\n",
       "      <td>23</td>\n",
       "      <td>0.069130</td>\n",
       "    </tr>\n",
       "    <tr>\n",
       "      <th>Brooklyn</th>\n",
       "      <td>2.47</td>\n",
       "      <td>71</td>\n",
       "      <td>0.034789</td>\n",
       "    </tr>\n",
       "    <tr>\n",
       "      <th>Staten Island</th>\n",
       "      <td>0.44</td>\n",
       "      <td>59</td>\n",
       "      <td>0.007458</td>\n",
       "    </tr>\n",
       "    <tr>\n",
       "      <th>Queens</th>\n",
       "      <td>2.23</td>\n",
       "      <td>109</td>\n",
       "      <td>0.020459</td>\n",
       "    </tr>\n",
       "  </tbody>\n",
       "</table>\n",
       "</div>"
      ],
      "text/plain": [
       "                pop  area   density\n",
       "boro                               \n",
       "Bronx          1.39    42  0.033095\n",
       "Manhattan      1.59    23  0.069130\n",
       "Brooklyn       2.47    71  0.034789\n",
       "Staten Island  0.44    59  0.007458\n",
       "Queens         2.23   109  0.020459"
      ]
     },
     "execution_count": 26,
     "metadata": {},
     "output_type": "execute_result"
    }
   ],
   "source": [
    "nyc"
   ]
  },
  {
   "cell_type": "code",
   "execution_count": 28,
   "metadata": {
    "collapsed": false
   },
   "outputs": [
    {
     "name": "stdout",
     "output_type": "stream",
     "text": [
      "boro,pop,area,density\n",
      "Bronx,1.39,42,0.0330952380952\n",
      "Manhattan,1.59,23,0.0691304347826\n",
      "Brooklyn,2.47,71,0.0347887323944\n",
      "Staten Island,0.44,59,0.00745762711864\n",
      "Queens,2.23,109,0.0204587155963\n"
     ]
    },
    {
     "data": {
      "text/html": [
       "<div>\n",
       "<table border=\"1\" class=\"dataframe\">\n",
       "  <thead>\n",
       "    <tr style=\"text-align: right;\">\n",
       "      <th></th>\n",
       "      <th>boro</th>\n",
       "      <th>pop</th>\n",
       "      <th>area</th>\n",
       "      <th>density</th>\n",
       "    </tr>\n",
       "  </thead>\n",
       "  <tbody>\n",
       "    <tr>\n",
       "      <th>0</th>\n",
       "      <td>Bronx</td>\n",
       "      <td>1.39</td>\n",
       "      <td>42</td>\n",
       "      <td>0.033095</td>\n",
       "    </tr>\n",
       "    <tr>\n",
       "      <th>1</th>\n",
       "      <td>Manhattan</td>\n",
       "      <td>1.59</td>\n",
       "      <td>23</td>\n",
       "      <td>0.069130</td>\n",
       "    </tr>\n",
       "    <tr>\n",
       "      <th>2</th>\n",
       "      <td>Brooklyn</td>\n",
       "      <td>2.47</td>\n",
       "      <td>71</td>\n",
       "      <td>0.034789</td>\n",
       "    </tr>\n",
       "    <tr>\n",
       "      <th>3</th>\n",
       "      <td>Staten Island</td>\n",
       "      <td>0.44</td>\n",
       "      <td>59</td>\n",
       "      <td>0.007458</td>\n",
       "    </tr>\n",
       "    <tr>\n",
       "      <th>4</th>\n",
       "      <td>Queens</td>\n",
       "      <td>2.23</td>\n",
       "      <td>109</td>\n",
       "      <td>0.020459</td>\n",
       "    </tr>\n",
       "  </tbody>\n",
       "</table>\n",
       "</div>"
      ],
      "text/plain": [
       "            boro   pop  area   density\n",
       "0          Bronx  1.39    42  0.033095\n",
       "1      Manhattan  1.59    23  0.069130\n",
       "2       Brooklyn  2.47    71  0.034789\n",
       "3  Staten Island  0.44    59  0.007458\n",
       "4         Queens  2.23   109  0.020459"
      ]
     },
     "execution_count": 28,
     "metadata": {},
     "output_type": "execute_result"
    }
   ],
   "source": [
    "#### Your code here\n",
    "\n",
    "nyc.to_csv('NYC.csv')\n",
    "\n",
    "!more NYC.csv\n",
    "\n",
    "nyc2=pd.read_csv('NYC.csv')\n",
    "nyc2"
   ]
  },
  {
   "cell_type": "markdown",
   "metadata": {},
   "source": [
    "<p><a name=\"DM\"></a></p>\n",
    "# Data Manipulation in Pandas\n",
    "\n",
    "Like numpy, pandas defines many broadcast operations, as well as numerous methods of manipulating data.\n",
    "<p><a name=\"concat\"></a></p>\n",
    "### concat\n",
    "Pandas DataFrames can be expanded in both directions. First create two data frames."
   ]
  },
  {
   "cell_type": "code",
   "execution_count": 29,
   "metadata": {
    "collapsed": false
   },
   "outputs": [
    {
     "data": {
      "text/html": [
       "<div>\n",
       "<table border=\"1\" class=\"dataframe\">\n",
       "  <thead>\n",
       "    <tr style=\"text-align: right;\">\n",
       "      <th></th>\n",
       "      <th>a</th>\n",
       "      <th>b</th>\n",
       "      <th>c</th>\n",
       "    </tr>\n",
       "  </thead>\n",
       "  <tbody>\n",
       "    <tr>\n",
       "      <th>one</th>\n",
       "      <td>0</td>\n",
       "      <td>1</td>\n",
       "      <td>2</td>\n",
       "    </tr>\n",
       "    <tr>\n",
       "      <th>two</th>\n",
       "      <td>3</td>\n",
       "      <td>4</td>\n",
       "      <td>5</td>\n",
       "    </tr>\n",
       "    <tr>\n",
       "      <th>three</th>\n",
       "      <td>6</td>\n",
       "      <td>7</td>\n",
       "      <td>8</td>\n",
       "    </tr>\n",
       "  </tbody>\n",
       "</table>\n",
       "</div>"
      ],
      "text/plain": [
       "       a  b  c\n",
       "one    0  1  2\n",
       "two    3  4  5\n",
       "three  6  7  8"
      ]
     },
     "execution_count": 29,
     "metadata": {},
     "output_type": "execute_result"
    }
   ],
   "source": [
    "df1 = pd.DataFrame(np.arange(9).reshape((3, 3)), \n",
    "                   columns=['a', 'b', 'c'],\n",
    "                   index=['one', 'two', 'three'])\n",
    "df2 = pd.DataFrame(np.arange(6).reshape((3, 2)), \n",
    "                   columns=['d','e'],\n",
    "                   index=['three', 'two','one'])\n",
    "df1"
   ]
  },
  {
   "cell_type": "code",
   "execution_count": 30,
   "metadata": {
    "collapsed": false
   },
   "outputs": [
    {
     "data": {
      "text/html": [
       "<div>\n",
       "<table border=\"1\" class=\"dataframe\">\n",
       "  <thead>\n",
       "    <tr style=\"text-align: right;\">\n",
       "      <th></th>\n",
       "      <th>d</th>\n",
       "      <th>e</th>\n",
       "    </tr>\n",
       "  </thead>\n",
       "  <tbody>\n",
       "    <tr>\n",
       "      <th>three</th>\n",
       "      <td>0</td>\n",
       "      <td>1</td>\n",
       "    </tr>\n",
       "    <tr>\n",
       "      <th>two</th>\n",
       "      <td>2</td>\n",
       "      <td>3</td>\n",
       "    </tr>\n",
       "    <tr>\n",
       "      <th>one</th>\n",
       "      <td>4</td>\n",
       "      <td>5</td>\n",
       "    </tr>\n",
       "  </tbody>\n",
       "</table>\n",
       "</div>"
      ],
      "text/plain": [
       "       d  e\n",
       "three  0  1\n",
       "two    2  3\n",
       "one    4  5"
      ]
     },
     "execution_count": 30,
     "metadata": {},
     "output_type": "execute_result"
    }
   ],
   "source": [
    "df2"
   ]
  },
  {
   "cell_type": "markdown",
   "metadata": {},
   "source": [
    "Since the two data frames have the same number of rows, it is natural to combine them \"horizontally\".  Note the concatenation takes place on the name of the index and not the order."
   ]
  },
  {
   "cell_type": "code",
   "execution_count": 49,
   "metadata": {
    "collapsed": false
   },
   "outputs": [
    {
     "data": {
      "text/html": [
       "<div>\n",
       "<table border=\"1\" class=\"dataframe\">\n",
       "  <thead>\n",
       "    <tr style=\"text-align: right;\">\n",
       "      <th></th>\n",
       "      <th>a</th>\n",
       "      <th>b</th>\n",
       "      <th>c</th>\n",
       "      <th>d</th>\n",
       "      <th>e</th>\n",
       "    </tr>\n",
       "  </thead>\n",
       "  <tbody>\n",
       "    <tr>\n",
       "      <th>one</th>\n",
       "      <td>0</td>\n",
       "      <td>1</td>\n",
       "      <td>2</td>\n",
       "      <td>4</td>\n",
       "      <td>5</td>\n",
       "    </tr>\n",
       "    <tr>\n",
       "      <th>three</th>\n",
       "      <td>6</td>\n",
       "      <td>7</td>\n",
       "      <td>8</td>\n",
       "      <td>0</td>\n",
       "      <td>1</td>\n",
       "    </tr>\n",
       "    <tr>\n",
       "      <th>two</th>\n",
       "      <td>3</td>\n",
       "      <td>4</td>\n",
       "      <td>5</td>\n",
       "      <td>2</td>\n",
       "      <td>3</td>\n",
       "    </tr>\n",
       "  </tbody>\n",
       "</table>\n",
       "</div>"
      ],
      "text/plain": [
       "       a  b  c  d  e\n",
       "one    0  1  2  4  5\n",
       "three  6  7  8  0  1\n",
       "two    3  4  5  2  3"
      ]
     },
     "execution_count": 49,
     "metadata": {},
     "output_type": "execute_result"
    }
   ],
   "source": [
    "pd.concat([df1, df2], axis = 1)"
   ]
  },
  {
   "cell_type": "markdown",
   "metadata": {},
   "source": [
    "- The argument \"axis = 1\" means expanding along the column indices. Setting \"axis = 0\" will combine two data frames with same number of columns vertically. "
   ]
  },
  {
   "cell_type": "markdown",
   "metadata": {},
   "source": [
    "**Exercise 3**\n",
    "\n",
    "In the iPython notebook, create the data frame below. How can it be combined it with the old NYC? Observe that this is a data frame with new features.  \n",
    "\n",
    "There are three new features:\n",
    "\n",
    "- **high_point** is the location of highest elevation \n",
    "- **geography** indicates if the borough is an island, on an island, or mainland\n",
    "- **inception** indicates the year of incorporation into the City of New York"
   ]
  },
  {
   "cell_type": "code",
   "execution_count": 32,
   "metadata": {
    "collapsed": false
   },
   "outputs": [
    {
     "data": {
      "text/html": [
       "<div>\n",
       "<table border=\"1\" class=\"dataframe\">\n",
       "  <thead>\n",
       "    <tr style=\"text-align: right;\">\n",
       "      <th></th>\n",
       "      <th>geography</th>\n",
       "      <th>high_point</th>\n",
       "      <th>inception</th>\n",
       "    </tr>\n",
       "  </thead>\n",
       "  <tbody>\n",
       "    <tr>\n",
       "      <th>Brooklyn</th>\n",
       "      <td>on island</td>\n",
       "      <td>Battle Hill</td>\n",
       "      <td>1634</td>\n",
       "    </tr>\n",
       "    <tr>\n",
       "      <th>Bronx</th>\n",
       "      <td>on mainland</td>\n",
       "      <td>Chapel Farm</td>\n",
       "      <td>1898</td>\n",
       "    </tr>\n",
       "    <tr>\n",
       "      <th>Queens</th>\n",
       "      <td>on island</td>\n",
       "      <td>North Glen Oaks</td>\n",
       "      <td>1683</td>\n",
       "    </tr>\n",
       "    <tr>\n",
       "      <th>Manhattan</th>\n",
       "      <td>is an island</td>\n",
       "      <td>Bennett Park</td>\n",
       "      <td>1624</td>\n",
       "    </tr>\n",
       "    <tr>\n",
       "      <th>Staten Island</th>\n",
       "      <td>is an island</td>\n",
       "      <td>Todt Hill</td>\n",
       "      <td>1683</td>\n",
       "    </tr>\n",
       "  </tbody>\n",
       "</table>\n",
       "</div>"
      ],
      "text/plain": [
       "                  geography       high_point inception\n",
       "Brooklyn          on island      Battle Hill      1634\n",
       "Bronx           on mainland      Chapel Farm      1898\n",
       "Queens            on island  North Glen Oaks      1683\n",
       "Manhattan      is an island     Bennett Park      1624\n",
       "Staten Island  is an island        Todt Hill      1683"
      ]
     },
     "execution_count": 32,
     "metadata": {},
     "output_type": "execute_result"
    }
   ],
   "source": [
    "new_features = pd.DataFrame({'high_point': ['Battle Hill', 'Chapel Farm', 'North Glen Oaks', 'Bennett Park','Todt Hill'],\\\n",
    "                            'geography':['on island','on mainland','on island','is an island','is an island'],\\\n",
    "                           'inception':['1634','1898','1683','1624','1683']},\\\n",
    "                            index=['Brooklyn', 'Bronx', 'Queens', 'Manhattan','Staten Island'])\n",
    "new_features"
   ]
  },
  {
   "cell_type": "code",
   "execution_count": 33,
   "metadata": {
    "collapsed": false
   },
   "outputs": [
    {
     "data": {
      "text/html": [
       "<div>\n",
       "<table border=\"1\" class=\"dataframe\">\n",
       "  <thead>\n",
       "    <tr style=\"text-align: right;\">\n",
       "      <th></th>\n",
       "      <th>pop</th>\n",
       "      <th>area</th>\n",
       "      <th>density</th>\n",
       "    </tr>\n",
       "    <tr>\n",
       "      <th>boro</th>\n",
       "      <th></th>\n",
       "      <th></th>\n",
       "      <th></th>\n",
       "    </tr>\n",
       "  </thead>\n",
       "  <tbody>\n",
       "    <tr>\n",
       "      <th>Bronx</th>\n",
       "      <td>1.39</td>\n",
       "      <td>42</td>\n",
       "      <td>0.033095</td>\n",
       "    </tr>\n",
       "    <tr>\n",
       "      <th>Manhattan</th>\n",
       "      <td>1.59</td>\n",
       "      <td>23</td>\n",
       "      <td>0.069130</td>\n",
       "    </tr>\n",
       "    <tr>\n",
       "      <th>Brooklyn</th>\n",
       "      <td>2.47</td>\n",
       "      <td>71</td>\n",
       "      <td>0.034789</td>\n",
       "    </tr>\n",
       "    <tr>\n",
       "      <th>Staten Island</th>\n",
       "      <td>0.44</td>\n",
       "      <td>59</td>\n",
       "      <td>0.007458</td>\n",
       "    </tr>\n",
       "    <tr>\n",
       "      <th>Queens</th>\n",
       "      <td>2.23</td>\n",
       "      <td>109</td>\n",
       "      <td>0.020459</td>\n",
       "    </tr>\n",
       "  </tbody>\n",
       "</table>\n",
       "</div>"
      ],
      "text/plain": [
       "                pop  area   density\n",
       "boro                               \n",
       "Bronx          1.39    42  0.033095\n",
       "Manhattan      1.59    23  0.069130\n",
       "Brooklyn       2.47    71  0.034789\n",
       "Staten Island  0.44    59  0.007458\n",
       "Queens         2.23   109  0.020459"
      ]
     },
     "execution_count": 33,
     "metadata": {},
     "output_type": "execute_result"
    }
   ],
   "source": [
    "nyc"
   ]
  },
  {
   "cell_type": "code",
   "execution_count": 41,
   "metadata": {
    "collapsed": false
   },
   "outputs": [
    {
     "data": {
      "text/html": [
       "<div>\n",
       "<table border=\"1\" class=\"dataframe\">\n",
       "  <thead>\n",
       "    <tr style=\"text-align: right;\">\n",
       "      <th></th>\n",
       "      <th>pop</th>\n",
       "      <th>area</th>\n",
       "      <th>density</th>\n",
       "      <th>boro</th>\n",
       "      <th>geography</th>\n",
       "      <th>high_point</th>\n",
       "      <th>inception</th>\n",
       "    </tr>\n",
       "  </thead>\n",
       "  <tbody>\n",
       "    <tr>\n",
       "      <th>0</th>\n",
       "      <td>NaN</td>\n",
       "      <td>NaN</td>\n",
       "      <td>NaN</td>\n",
       "      <td>Manhattan</td>\n",
       "      <td>is an island</td>\n",
       "      <td>Bennett Park</td>\n",
       "      <td>1624</td>\n",
       "    </tr>\n",
       "    <tr>\n",
       "      <th>1</th>\n",
       "      <td>NaN</td>\n",
       "      <td>NaN</td>\n",
       "      <td>NaN</td>\n",
       "      <td>Brooklyn</td>\n",
       "      <td>on island</td>\n",
       "      <td>Battle Hill</td>\n",
       "      <td>1634</td>\n",
       "    </tr>\n",
       "    <tr>\n",
       "      <th>2</th>\n",
       "      <td>NaN</td>\n",
       "      <td>NaN</td>\n",
       "      <td>NaN</td>\n",
       "      <td>Queens</td>\n",
       "      <td>on island</td>\n",
       "      <td>North Glen Oaks</td>\n",
       "      <td>1683</td>\n",
       "    </tr>\n",
       "    <tr>\n",
       "      <th>3</th>\n",
       "      <td>NaN</td>\n",
       "      <td>NaN</td>\n",
       "      <td>NaN</td>\n",
       "      <td>Staten Island</td>\n",
       "      <td>is an island</td>\n",
       "      <td>Todt Hill</td>\n",
       "      <td>1683</td>\n",
       "    </tr>\n",
       "    <tr>\n",
       "      <th>4</th>\n",
       "      <td>NaN</td>\n",
       "      <td>NaN</td>\n",
       "      <td>NaN</td>\n",
       "      <td>Bronx</td>\n",
       "      <td>on mainland</td>\n",
       "      <td>Chapel Farm</td>\n",
       "      <td>1898</td>\n",
       "    </tr>\n",
       "    <tr>\n",
       "      <th>Bronx</th>\n",
       "      <td>1.39</td>\n",
       "      <td>42.0</td>\n",
       "      <td>0.033095</td>\n",
       "      <td>NaN</td>\n",
       "      <td>NaN</td>\n",
       "      <td>NaN</td>\n",
       "      <td>NaN</td>\n",
       "    </tr>\n",
       "    <tr>\n",
       "      <th>Brooklyn</th>\n",
       "      <td>2.47</td>\n",
       "      <td>71.0</td>\n",
       "      <td>0.034789</td>\n",
       "      <td>NaN</td>\n",
       "      <td>NaN</td>\n",
       "      <td>NaN</td>\n",
       "      <td>NaN</td>\n",
       "    </tr>\n",
       "    <tr>\n",
       "      <th>Manhattan</th>\n",
       "      <td>1.59</td>\n",
       "      <td>23.0</td>\n",
       "      <td>0.069130</td>\n",
       "      <td>NaN</td>\n",
       "      <td>NaN</td>\n",
       "      <td>NaN</td>\n",
       "      <td>NaN</td>\n",
       "    </tr>\n",
       "    <tr>\n",
       "      <th>Queens</th>\n",
       "      <td>2.23</td>\n",
       "      <td>109.0</td>\n",
       "      <td>0.020459</td>\n",
       "      <td>NaN</td>\n",
       "      <td>NaN</td>\n",
       "      <td>NaN</td>\n",
       "      <td>NaN</td>\n",
       "    </tr>\n",
       "    <tr>\n",
       "      <th>Staten Island</th>\n",
       "      <td>0.44</td>\n",
       "      <td>59.0</td>\n",
       "      <td>0.007458</td>\n",
       "      <td>NaN</td>\n",
       "      <td>NaN</td>\n",
       "      <td>NaN</td>\n",
       "      <td>NaN</td>\n",
       "    </tr>\n",
       "  </tbody>\n",
       "</table>\n",
       "</div>"
      ],
      "text/plain": [
       "                pop   area   density           boro     geography  \\\n",
       "0               NaN    NaN       NaN      Manhattan  is an island   \n",
       "1               NaN    NaN       NaN       Brooklyn     on island   \n",
       "2               NaN    NaN       NaN         Queens     on island   \n",
       "3               NaN    NaN       NaN  Staten Island  is an island   \n",
       "4               NaN    NaN       NaN          Bronx   on mainland   \n",
       "Bronx          1.39   42.0  0.033095            NaN           NaN   \n",
       "Brooklyn       2.47   71.0  0.034789            NaN           NaN   \n",
       "Manhattan      1.59   23.0  0.069130            NaN           NaN   \n",
       "Queens         2.23  109.0  0.020459            NaN           NaN   \n",
       "Staten Island  0.44   59.0  0.007458            NaN           NaN   \n",
       "\n",
       "                    high_point inception  \n",
       "0                 Bennett Park      1624  \n",
       "1                  Battle Hill      1634  \n",
       "2              North Glen Oaks      1683  \n",
       "3                    Todt Hill      1683  \n",
       "4                  Chapel Farm      1898  \n",
       "Bronx                      NaN       NaN  \n",
       "Brooklyn                   NaN       NaN  \n",
       "Manhattan                  NaN       NaN  \n",
       "Queens                     NaN       NaN  \n",
       "Staten Island              NaN       NaN  "
      ]
     },
     "execution_count": 41,
     "metadata": {},
     "output_type": "execute_result"
    }
   ],
   "source": [
    "#### Your code here\n",
    "\n",
    "nyc = pd.concat([nyc, new_features], axis = 1)\n",
    "nyc\n"
   ]
  },
  {
   "cell_type": "markdown",
   "metadata": {},
   "source": [
    "<p><a name=\"sort\"></a></p>\n",
    "### sort\n",
    "It is possible to order the rows of data frames using `sort_values()`.  This object method takes a column name as an argument.\n",
    "\n",
    "http://pandas.pydata.org/pandas-docs/stable/generated/pandas.DataFrame.sort_values.html#pandas.DataFrame.sort_values\n",
    "\n",
    "It is used on the new_features data frame to order by date of inception, as follows:\n"
   ]
  },
  {
   "cell_type": "code",
   "execution_count": 34,
   "metadata": {
    "collapsed": false
   },
   "outputs": [
    {
     "data": {
      "text/html": [
       "<div>\n",
       "<table border=\"1\" class=\"dataframe\">\n",
       "  <thead>\n",
       "    <tr style=\"text-align: right;\">\n",
       "      <th></th>\n",
       "      <th>geography</th>\n",
       "      <th>high_point</th>\n",
       "      <th>inception</th>\n",
       "    </tr>\n",
       "  </thead>\n",
       "  <tbody>\n",
       "    <tr>\n",
       "      <th>Manhattan</th>\n",
       "      <td>is an island</td>\n",
       "      <td>Bennett Park</td>\n",
       "      <td>1624</td>\n",
       "    </tr>\n",
       "    <tr>\n",
       "      <th>Brooklyn</th>\n",
       "      <td>on island</td>\n",
       "      <td>Battle Hill</td>\n",
       "      <td>1634</td>\n",
       "    </tr>\n",
       "    <tr>\n",
       "      <th>Queens</th>\n",
       "      <td>on island</td>\n",
       "      <td>North Glen Oaks</td>\n",
       "      <td>1683</td>\n",
       "    </tr>\n",
       "    <tr>\n",
       "      <th>Staten Island</th>\n",
       "      <td>is an island</td>\n",
       "      <td>Todt Hill</td>\n",
       "      <td>1683</td>\n",
       "    </tr>\n",
       "    <tr>\n",
       "      <th>Bronx</th>\n",
       "      <td>on mainland</td>\n",
       "      <td>Chapel Farm</td>\n",
       "      <td>1898</td>\n",
       "    </tr>\n",
       "  </tbody>\n",
       "</table>\n",
       "</div>"
      ],
      "text/plain": [
       "                  geography       high_point inception\n",
       "Manhattan      is an island     Bennett Park      1624\n",
       "Brooklyn          on island      Battle Hill      1634\n",
       "Queens            on island  North Glen Oaks      1683\n",
       "Staten Island  is an island        Todt Hill      1683\n",
       "Bronx           on mainland      Chapel Farm      1898"
      ]
     },
     "execution_count": 34,
     "metadata": {},
     "output_type": "execute_result"
    }
   ],
   "source": [
    "new_features=new_features.sort_values('inception')\n",
    "new_features"
   ]
  },
  {
   "cell_type": "markdown",
   "metadata": {},
   "source": [
    "To return to a standard incremented index use `reset_index`, as follows:"
   ]
  },
  {
   "cell_type": "code",
   "execution_count": 35,
   "metadata": {
    "collapsed": false
   },
   "outputs": [
    {
     "data": {
      "text/html": [
       "<div>\n",
       "<table border=\"1\" class=\"dataframe\">\n",
       "  <thead>\n",
       "    <tr style=\"text-align: right;\">\n",
       "      <th></th>\n",
       "      <th>index</th>\n",
       "      <th>geography</th>\n",
       "      <th>high_point</th>\n",
       "      <th>inception</th>\n",
       "    </tr>\n",
       "  </thead>\n",
       "  <tbody>\n",
       "    <tr>\n",
       "      <th>0</th>\n",
       "      <td>Manhattan</td>\n",
       "      <td>is an island</td>\n",
       "      <td>Bennett Park</td>\n",
       "      <td>1624</td>\n",
       "    </tr>\n",
       "    <tr>\n",
       "      <th>1</th>\n",
       "      <td>Brooklyn</td>\n",
       "      <td>on island</td>\n",
       "      <td>Battle Hill</td>\n",
       "      <td>1634</td>\n",
       "    </tr>\n",
       "    <tr>\n",
       "      <th>2</th>\n",
       "      <td>Queens</td>\n",
       "      <td>on island</td>\n",
       "      <td>North Glen Oaks</td>\n",
       "      <td>1683</td>\n",
       "    </tr>\n",
       "    <tr>\n",
       "      <th>3</th>\n",
       "      <td>Staten Island</td>\n",
       "      <td>is an island</td>\n",
       "      <td>Todt Hill</td>\n",
       "      <td>1683</td>\n",
       "    </tr>\n",
       "    <tr>\n",
       "      <th>4</th>\n",
       "      <td>Bronx</td>\n",
       "      <td>on mainland</td>\n",
       "      <td>Chapel Farm</td>\n",
       "      <td>1898</td>\n",
       "    </tr>\n",
       "  </tbody>\n",
       "</table>\n",
       "</div>"
      ],
      "text/plain": [
       "           index     geography       high_point inception\n",
       "0      Manhattan  is an island     Bennett Park      1624\n",
       "1       Brooklyn     on island      Battle Hill      1634\n",
       "2         Queens     on island  North Glen Oaks      1683\n",
       "3  Staten Island  is an island        Todt Hill      1683\n",
       "4          Bronx   on mainland      Chapel Farm      1898"
      ]
     },
     "execution_count": 35,
     "metadata": {},
     "output_type": "execute_result"
    }
   ],
   "source": [
    "new_features=new_features.reset_index()\n",
    "new_features"
   ]
  },
  {
   "cell_type": "markdown",
   "metadata": {},
   "source": [
    "Finally, change the name of the column index to boro, as follows:"
   ]
  },
  {
   "cell_type": "code",
   "execution_count": 36,
   "metadata": {
    "collapsed": true
   },
   "outputs": [],
   "source": [
    "# we can rename columns this way too:\n",
    "new_features.columns = ['boro', 'geography', 'high_point', 'inception']"
   ]
  },
  {
   "cell_type": "code",
   "execution_count": 37,
   "metadata": {
    "collapsed": false
   },
   "outputs": [
    {
     "data": {
      "text/html": [
       "<div>\n",
       "<table border=\"1\" class=\"dataframe\">\n",
       "  <thead>\n",
       "    <tr style=\"text-align: right;\">\n",
       "      <th></th>\n",
       "      <th>boro</th>\n",
       "      <th>geography</th>\n",
       "      <th>high_point</th>\n",
       "      <th>inception</th>\n",
       "    </tr>\n",
       "  </thead>\n",
       "  <tbody>\n",
       "    <tr>\n",
       "      <th>0</th>\n",
       "      <td>Manhattan</td>\n",
       "      <td>is an island</td>\n",
       "      <td>Bennett Park</td>\n",
       "      <td>1624</td>\n",
       "    </tr>\n",
       "    <tr>\n",
       "      <th>1</th>\n",
       "      <td>Brooklyn</td>\n",
       "      <td>on island</td>\n",
       "      <td>Battle Hill</td>\n",
       "      <td>1634</td>\n",
       "    </tr>\n",
       "    <tr>\n",
       "      <th>2</th>\n",
       "      <td>Queens</td>\n",
       "      <td>on island</td>\n",
       "      <td>North Glen Oaks</td>\n",
       "      <td>1683</td>\n",
       "    </tr>\n",
       "    <tr>\n",
       "      <th>3</th>\n",
       "      <td>Staten Island</td>\n",
       "      <td>is an island</td>\n",
       "      <td>Todt Hill</td>\n",
       "      <td>1683</td>\n",
       "    </tr>\n",
       "    <tr>\n",
       "      <th>4</th>\n",
       "      <td>Bronx</td>\n",
       "      <td>on mainland</td>\n",
       "      <td>Chapel Farm</td>\n",
       "      <td>1898</td>\n",
       "    </tr>\n",
       "  </tbody>\n",
       "</table>\n",
       "</div>"
      ],
      "text/plain": [
       "            boro     geography       high_point inception\n",
       "0      Manhattan  is an island     Bennett Park      1624\n",
       "1       Brooklyn     on island      Battle Hill      1634\n",
       "2         Queens     on island  North Glen Oaks      1683\n",
       "3  Staten Island  is an island        Todt Hill      1683\n",
       "4          Bronx   on mainland      Chapel Farm      1898"
      ]
     },
     "execution_count": 37,
     "metadata": {},
     "output_type": "execute_result"
    }
   ],
   "source": [
    "# we could also do this:\n",
    "new_features.columns = new_features.columns.str.replace('index','boro')\n",
    "new_features"
   ]
  },
  {
   "cell_type": "markdown",
   "metadata": {},
   "source": [
    "<p><a name=\"merge\"></a></p>\n",
    "### merge\n",
    "Merging is the most common way to combine multiple data frames. Let’s create two data frames first."
   ]
  },
  {
   "cell_type": "code",
   "execution_count": 57,
   "metadata": {
    "collapsed": false
   },
   "outputs": [
    {
     "data": {
      "text/html": [
       "<div>\n",
       "<table border=\"1\" class=\"dataframe\">\n",
       "  <thead>\n",
       "    <tr style=\"text-align: right;\">\n",
       "      <th></th>\n",
       "      <th>col1</th>\n",
       "      <th>col2</th>\n",
       "      <th>col3</th>\n",
       "    </tr>\n",
       "  </thead>\n",
       "  <tbody>\n",
       "    <tr>\n",
       "      <th>0</th>\n",
       "      <td>a</td>\n",
       "      <td>b</td>\n",
       "      <td>c</td>\n",
       "    </tr>\n",
       "    <tr>\n",
       "      <th>1</th>\n",
       "      <td>d</td>\n",
       "      <td>e</td>\n",
       "      <td>f</td>\n",
       "    </tr>\n",
       "    <tr>\n",
       "      <th>2</th>\n",
       "      <td>g</td>\n",
       "      <td>h</td>\n",
       "      <td>i</td>\n",
       "    </tr>\n",
       "  </tbody>\n",
       "</table>\n",
       "</div>"
      ],
      "text/plain": [
       "  col1 col2 col3\n",
       "0    a    b    c\n",
       "1    d    e    f\n",
       "2    g    h    i"
      ]
     },
     "execution_count": 57,
     "metadata": {},
     "output_type": "execute_result"
    }
   ],
   "source": [
    "df3 = pd.DataFrame([['a','b','c'],['d','e','f'],['g','h','i']]\\\n",
    "                   ,columns=['col1','col2','col3'])\n",
    "df4 = pd.DataFrame({'col2':['x','e','b','z'],'col4':[1,2,3,4],'col5':['i','f','e','h']})\n",
    "df3"
   ]
  },
  {
   "cell_type": "code",
   "execution_count": 58,
   "metadata": {
    "collapsed": false
   },
   "outputs": [
    {
     "data": {
      "text/html": [
       "<div>\n",
       "<table border=\"1\" class=\"dataframe\">\n",
       "  <thead>\n",
       "    <tr style=\"text-align: right;\">\n",
       "      <th></th>\n",
       "      <th>col2</th>\n",
       "      <th>col4</th>\n",
       "      <th>col5</th>\n",
       "    </tr>\n",
       "  </thead>\n",
       "  <tbody>\n",
       "    <tr>\n",
       "      <th>0</th>\n",
       "      <td>x</td>\n",
       "      <td>1</td>\n",
       "      <td>i</td>\n",
       "    </tr>\n",
       "    <tr>\n",
       "      <th>1</th>\n",
       "      <td>e</td>\n",
       "      <td>2</td>\n",
       "      <td>f</td>\n",
       "    </tr>\n",
       "    <tr>\n",
       "      <th>2</th>\n",
       "      <td>b</td>\n",
       "      <td>3</td>\n",
       "      <td>e</td>\n",
       "    </tr>\n",
       "    <tr>\n",
       "      <th>3</th>\n",
       "      <td>z</td>\n",
       "      <td>4</td>\n",
       "      <td>h</td>\n",
       "    </tr>\n",
       "  </tbody>\n",
       "</table>\n",
       "</div>"
      ],
      "text/plain": [
       "  col2  col4 col5\n",
       "0    x     1    i\n",
       "1    e     2    f\n",
       "2    b     3    e\n",
       "3    z     4    h"
      ]
     },
     "execution_count": 58,
     "metadata": {},
     "output_type": "execute_result"
    }
   ],
   "source": [
    "df4"
   ]
  },
  {
   "cell_type": "markdown",
   "metadata": {},
   "source": [
    "Merging will use the 'how' column as a key for the merge.  The code below identifies the column ‘col2’ from both data frames. The argument 'inner' means the merge only keeps rows occur in both data frames."
   ]
  },
  {
   "cell_type": "code",
   "execution_count": 118,
   "metadata": {
    "collapsed": false
   },
   "outputs": [
    {
     "data": {
      "text/html": [
       "<div>\n",
       "<table border=\"1\" class=\"dataframe\">\n",
       "  <thead>\n",
       "    <tr style=\"text-align: right;\">\n",
       "      <th></th>\n",
       "      <th>col1</th>\n",
       "      <th>col2</th>\n",
       "      <th>col3</th>\n",
       "      <th>col4</th>\n",
       "      <th>col5</th>\n",
       "    </tr>\n",
       "  </thead>\n",
       "  <tbody>\n",
       "    <tr>\n",
       "      <th>0</th>\n",
       "      <td>a</td>\n",
       "      <td>b</td>\n",
       "      <td>c</td>\n",
       "      <td>3</td>\n",
       "      <td>e</td>\n",
       "    </tr>\n",
       "    <tr>\n",
       "      <th>1</th>\n",
       "      <td>d</td>\n",
       "      <td>e</td>\n",
       "      <td>f</td>\n",
       "      <td>2</td>\n",
       "      <td>f</td>\n",
       "    </tr>\n",
       "  </tbody>\n",
       "</table>\n",
       "</div>"
      ],
      "text/plain": [
       "  col1 col2 col3  col4 col5\n",
       "0    a    b    c     3    e\n",
       "1    d    e    f     2    f"
      ]
     },
     "execution_count": 118,
     "metadata": {},
     "output_type": "execute_result"
    }
   ],
   "source": [
    "pd.merge(df3, df4, how='inner', on ='col2')"
   ]
  },
  {
   "cell_type": "markdown",
   "metadata": {},
   "source": [
    "The default value of the parameter 'how'  is 'inner'. The following code performs the same task as above."
   ]
  },
  {
   "cell_type": "code",
   "execution_count": 119,
   "metadata": {
    "collapsed": false
   },
   "outputs": [
    {
     "data": {
      "text/html": [
       "<div>\n",
       "<table border=\"1\" class=\"dataframe\">\n",
       "  <thead>\n",
       "    <tr style=\"text-align: right;\">\n",
       "      <th></th>\n",
       "      <th>col1</th>\n",
       "      <th>col2</th>\n",
       "      <th>col3</th>\n",
       "      <th>col4</th>\n",
       "      <th>col5</th>\n",
       "    </tr>\n",
       "  </thead>\n",
       "  <tbody>\n",
       "    <tr>\n",
       "      <th>0</th>\n",
       "      <td>a</td>\n",
       "      <td>b</td>\n",
       "      <td>c</td>\n",
       "      <td>3</td>\n",
       "      <td>e</td>\n",
       "    </tr>\n",
       "    <tr>\n",
       "      <th>1</th>\n",
       "      <td>d</td>\n",
       "      <td>e</td>\n",
       "      <td>f</td>\n",
       "      <td>2</td>\n",
       "      <td>f</td>\n",
       "    </tr>\n",
       "  </tbody>\n",
       "</table>\n",
       "</div>"
      ],
      "text/plain": [
       "  col1 col2 col3  col4 col5\n",
       "0    a    b    c     3    e\n",
       "1    d    e    f     2    f"
      ]
     },
     "execution_count": 119,
     "metadata": {},
     "output_type": "execute_result"
    }
   ],
   "source": [
    "pd.merge(df3, df4, on ='col2')"
   ]
  },
  {
   "cell_type": "markdown",
   "metadata": {},
   "source": [
    "To keep every row in df1 then set the parameter how = \"left\"."
   ]
  },
  {
   "cell_type": "code",
   "execution_count": 120,
   "metadata": {
    "collapsed": false
   },
   "outputs": [
    {
     "data": {
      "text/html": [
       "<div>\n",
       "<table border=\"1\" class=\"dataframe\">\n",
       "  <thead>\n",
       "    <tr style=\"text-align: right;\">\n",
       "      <th></th>\n",
       "      <th>col1</th>\n",
       "      <th>col2</th>\n",
       "      <th>col3</th>\n",
       "      <th>col4</th>\n",
       "      <th>col5</th>\n",
       "    </tr>\n",
       "  </thead>\n",
       "  <tbody>\n",
       "    <tr>\n",
       "      <th>0</th>\n",
       "      <td>a</td>\n",
       "      <td>b</td>\n",
       "      <td>c</td>\n",
       "      <td>3.0</td>\n",
       "      <td>e</td>\n",
       "    </tr>\n",
       "    <tr>\n",
       "      <th>1</th>\n",
       "      <td>d</td>\n",
       "      <td>e</td>\n",
       "      <td>f</td>\n",
       "      <td>2.0</td>\n",
       "      <td>f</td>\n",
       "    </tr>\n",
       "    <tr>\n",
       "      <th>2</th>\n",
       "      <td>g</td>\n",
       "      <td>h</td>\n",
       "      <td>i</td>\n",
       "      <td>NaN</td>\n",
       "      <td>NaN</td>\n",
       "    </tr>\n",
       "  </tbody>\n",
       "</table>\n",
       "</div>"
      ],
      "text/plain": [
       "  col1 col2 col3  col4 col5\n",
       "0    a    b    c   3.0    e\n",
       "1    d    e    f   2.0    f\n",
       "2    g    h    i   NaN  NaN"
      ]
     },
     "execution_count": 120,
     "metadata": {},
     "output_type": "execute_result"
    }
   ],
   "source": [
    "pd.merge(df3, df4, how='left', on ='col2')"
   ]
  },
  {
   "cell_type": "markdown",
   "metadata": {},
   "source": [
    "To keep all rows from both df1 and df2, set the parameter how = \"outer\"."
   ]
  },
  {
   "cell_type": "code",
   "execution_count": 121,
   "metadata": {
    "collapsed": false
   },
   "outputs": [
    {
     "data": {
      "text/html": [
       "<div>\n",
       "<table border=\"1\" class=\"dataframe\">\n",
       "  <thead>\n",
       "    <tr style=\"text-align: right;\">\n",
       "      <th></th>\n",
       "      <th>col1</th>\n",
       "      <th>col2</th>\n",
       "      <th>col3</th>\n",
       "      <th>col4</th>\n",
       "      <th>col5</th>\n",
       "    </tr>\n",
       "  </thead>\n",
       "  <tbody>\n",
       "    <tr>\n",
       "      <th>0</th>\n",
       "      <td>a</td>\n",
       "      <td>b</td>\n",
       "      <td>c</td>\n",
       "      <td>3.0</td>\n",
       "      <td>e</td>\n",
       "    </tr>\n",
       "    <tr>\n",
       "      <th>1</th>\n",
       "      <td>d</td>\n",
       "      <td>e</td>\n",
       "      <td>f</td>\n",
       "      <td>2.0</td>\n",
       "      <td>f</td>\n",
       "    </tr>\n",
       "    <tr>\n",
       "      <th>2</th>\n",
       "      <td>g</td>\n",
       "      <td>h</td>\n",
       "      <td>i</td>\n",
       "      <td>NaN</td>\n",
       "      <td>NaN</td>\n",
       "    </tr>\n",
       "    <tr>\n",
       "      <th>3</th>\n",
       "      <td>NaN</td>\n",
       "      <td>x</td>\n",
       "      <td>NaN</td>\n",
       "      <td>1.0</td>\n",
       "      <td>i</td>\n",
       "    </tr>\n",
       "    <tr>\n",
       "      <th>4</th>\n",
       "      <td>NaN</td>\n",
       "      <td>z</td>\n",
       "      <td>NaN</td>\n",
       "      <td>4.0</td>\n",
       "      <td>h</td>\n",
       "    </tr>\n",
       "  </tbody>\n",
       "</table>\n",
       "</div>"
      ],
      "text/plain": [
       "  col1 col2 col3  col4 col5\n",
       "0    a    b    c   3.0    e\n",
       "1    d    e    f   2.0    f\n",
       "2    g    h    i   NaN  NaN\n",
       "3  NaN    x  NaN   1.0    i\n",
       "4  NaN    z  NaN   4.0    h"
      ]
     },
     "execution_count": 121,
     "metadata": {},
     "output_type": "execute_result"
    }
   ],
   "source": [
    "pd.merge(df3, df4, how='outer', on ='col2')"
   ]
  },
  {
   "cell_type": "markdown",
   "metadata": {},
   "source": [
    "If the 'how' column does not have the same name in the two data frames, use 'left_on' and 'right_on' to indicate how to perform the merge.  Note that columns with the same name, in the two data frames, will be named with an x or y character appended."
   ]
  },
  {
   "cell_type": "code",
   "execution_count": 62,
   "metadata": {
    "collapsed": false
   },
   "outputs": [
    {
     "data": {
      "text/html": [
       "<div>\n",
       "<table border=\"1\" class=\"dataframe\">\n",
       "  <thead>\n",
       "    <tr style=\"text-align: right;\">\n",
       "      <th></th>\n",
       "      <th>col1</th>\n",
       "      <th>col2_x</th>\n",
       "      <th>col3</th>\n",
       "      <th>col2_y</th>\n",
       "      <th>col4</th>\n",
       "      <th>col5</th>\n",
       "    </tr>\n",
       "  </thead>\n",
       "  <tbody>\n",
       "    <tr>\n",
       "      <th>0</th>\n",
       "      <td>d</td>\n",
       "      <td>e</td>\n",
       "      <td>f</td>\n",
       "      <td>b</td>\n",
       "      <td>3</td>\n",
       "      <td>e</td>\n",
       "    </tr>\n",
       "    <tr>\n",
       "      <th>1</th>\n",
       "      <td>g</td>\n",
       "      <td>h</td>\n",
       "      <td>i</td>\n",
       "      <td>z</td>\n",
       "      <td>4</td>\n",
       "      <td>h</td>\n",
       "    </tr>\n",
       "  </tbody>\n",
       "</table>\n",
       "</div>"
      ],
      "text/plain": [
       "  col1 col2_x col3 col2_y  col4 col5\n",
       "0    d      e    f      b     3    e\n",
       "1    g      h    i      z     4    h"
      ]
     },
     "execution_count": 62,
     "metadata": {},
     "output_type": "execute_result"
    }
   ],
   "source": [
    "df5 = pd.merge(df3, df4, left_on='col2', right_on='col5')\n",
    "df5"
   ]
  },
  {
   "cell_type": "code",
   "execution_count": 63,
   "metadata": {
    "collapsed": false
   },
   "outputs": [
    {
     "data": {
      "text/html": [
       "<div>\n",
       "<table border=\"1\" class=\"dataframe\">\n",
       "  <thead>\n",
       "    <tr style=\"text-align: right;\">\n",
       "      <th></th>\n",
       "      <th>col1</th>\n",
       "      <th>col3</th>\n",
       "      <th>col2</th>\n",
       "      <th>col4</th>\n",
       "      <th>col5</th>\n",
       "    </tr>\n",
       "  </thead>\n",
       "  <tbody>\n",
       "    <tr>\n",
       "      <th>0</th>\n",
       "      <td>d</td>\n",
       "      <td>f</td>\n",
       "      <td>b</td>\n",
       "      <td>3</td>\n",
       "      <td>e</td>\n",
       "    </tr>\n",
       "    <tr>\n",
       "      <th>1</th>\n",
       "      <td>g</td>\n",
       "      <td>i</td>\n",
       "      <td>z</td>\n",
       "      <td>4</td>\n",
       "      <td>h</td>\n",
       "    </tr>\n",
       "  </tbody>\n",
       "</table>\n",
       "</div>"
      ],
      "text/plain": [
       "  col1 col3 col2  col4 col5\n",
       "0    d    f    b     3    e\n",
       "1    g    i    z     4    h"
      ]
     },
     "execution_count": 63,
     "metadata": {},
     "output_type": "execute_result"
    }
   ],
   "source": [
    "del(df5['col2_x'])\n",
    "df5.columns = df5.columns.str.replace('col2_y','col2')\n",
    "df5"
   ]
  },
  {
   "cell_type": "markdown",
   "metadata": {},
   "source": [
    "**Exercise 4**\n",
    "\n",
    "- Run the following code to create a data frame, 'Elevations'. It contains NYC locations and their elevation in feet.  How is this related to the NYC data frame? Why separate this information into another data frame?\n",
    "- Combine this data with the NYC data frame in a meaningful way?\n",
    "- Remove any redundant columns and change the name of the elevation column to 'peak_elevation'.\n",
    "- Order the data frame by highest to lowest 'peak_elevation'."
   ]
  },
  {
   "cell_type": "code",
   "execution_count": 38,
   "metadata": {
    "collapsed": false
   },
   "outputs": [
    {
     "data": {
      "text/html": [
       "<div>\n",
       "<table border=\"1\" class=\"dataframe\">\n",
       "  <thead>\n",
       "    <tr style=\"text-align: right;\">\n",
       "      <th></th>\n",
       "      <th>location</th>\n",
       "      <th>elevation</th>\n",
       "    </tr>\n",
       "  </thead>\n",
       "  <tbody>\n",
       "    <tr>\n",
       "      <th>0</th>\n",
       "      <td>Battle Hill</td>\n",
       "      <td>220</td>\n",
       "    </tr>\n",
       "    <tr>\n",
       "      <th>1</th>\n",
       "      <td>Marcus Garvey Park</td>\n",
       "      <td>103</td>\n",
       "    </tr>\n",
       "    <tr>\n",
       "      <th>2</th>\n",
       "      <td>Bennett Park</td>\n",
       "      <td>265</td>\n",
       "    </tr>\n",
       "    <tr>\n",
       "      <th>3</th>\n",
       "      <td>Todt Hill</td>\n",
       "      <td>410</td>\n",
       "    </tr>\n",
       "    <tr>\n",
       "      <th>4</th>\n",
       "      <td>Washington Square Park</td>\n",
       "      <td>27</td>\n",
       "    </tr>\n",
       "    <tr>\n",
       "      <th>5</th>\n",
       "      <td>Chapel Farm</td>\n",
       "      <td>280</td>\n",
       "    </tr>\n",
       "    <tr>\n",
       "      <th>6</th>\n",
       "      <td>Bryant Park</td>\n",
       "      <td>58</td>\n",
       "    </tr>\n",
       "    <tr>\n",
       "      <th>7</th>\n",
       "      <td>North Glen Oaks</td>\n",
       "      <td>258</td>\n",
       "    </tr>\n",
       "    <tr>\n",
       "      <th>8</th>\n",
       "      <td>St Marys Park</td>\n",
       "      <td>47</td>\n",
       "    </tr>\n",
       "  </tbody>\n",
       "</table>\n",
       "</div>"
      ],
      "text/plain": [
       "                 location  elevation\n",
       "0             Battle Hill        220\n",
       "1      Marcus Garvey Park        103\n",
       "2            Bennett Park        265\n",
       "3               Todt Hill        410\n",
       "4  Washington Square Park         27\n",
       "5             Chapel Farm        280\n",
       "6             Bryant Park         58\n",
       "7         North Glen Oaks        258\n",
       "8           St Marys Park         47"
      ]
     },
     "execution_count": 38,
     "metadata": {},
     "output_type": "execute_result"
    }
   ],
   "source": [
    "Elevations = pd.DataFrame([['Battle Hill',220],['Marcus Garvey Park',103],['Bennett Park',265],\\\n",
    "                           ['Todt Hill',410],['Washington Square Park',27],['Chapel Farm',280],\\\n",
    "                           ['Bryant Park',58],['North Glen Oaks',258],['St Marys Park',47]],\n",
    "                      columns=['location', 'elevation'])\n",
    "Elevations"
   ]
  },
  {
   "cell_type": "code",
   "execution_count": 39,
   "metadata": {
    "collapsed": false
   },
   "outputs": [
    {
     "data": {
      "text/html": [
       "<div>\n",
       "<table border=\"1\" class=\"dataframe\">\n",
       "  <thead>\n",
       "    <tr style=\"text-align: right;\">\n",
       "      <th></th>\n",
       "      <th>pop</th>\n",
       "      <th>area</th>\n",
       "      <th>density</th>\n",
       "    </tr>\n",
       "    <tr>\n",
       "      <th>boro</th>\n",
       "      <th></th>\n",
       "      <th></th>\n",
       "      <th></th>\n",
       "    </tr>\n",
       "  </thead>\n",
       "  <tbody>\n",
       "    <tr>\n",
       "      <th>Bronx</th>\n",
       "      <td>1.39</td>\n",
       "      <td>42</td>\n",
       "      <td>0.033095</td>\n",
       "    </tr>\n",
       "    <tr>\n",
       "      <th>Manhattan</th>\n",
       "      <td>1.59</td>\n",
       "      <td>23</td>\n",
       "      <td>0.069130</td>\n",
       "    </tr>\n",
       "    <tr>\n",
       "      <th>Brooklyn</th>\n",
       "      <td>2.47</td>\n",
       "      <td>71</td>\n",
       "      <td>0.034789</td>\n",
       "    </tr>\n",
       "    <tr>\n",
       "      <th>Staten Island</th>\n",
       "      <td>0.44</td>\n",
       "      <td>59</td>\n",
       "      <td>0.007458</td>\n",
       "    </tr>\n",
       "    <tr>\n",
       "      <th>Queens</th>\n",
       "      <td>2.23</td>\n",
       "      <td>109</td>\n",
       "      <td>0.020459</td>\n",
       "    </tr>\n",
       "  </tbody>\n",
       "</table>\n",
       "</div>"
      ],
      "text/plain": [
       "                pop  area   density\n",
       "boro                               \n",
       "Bronx          1.39    42  0.033095\n",
       "Manhattan      1.59    23  0.069130\n",
       "Brooklyn       2.47    71  0.034789\n",
       "Staten Island  0.44    59  0.007458\n",
       "Queens         2.23   109  0.020459"
      ]
     },
     "execution_count": 39,
     "metadata": {},
     "output_type": "execute_result"
    }
   ],
   "source": [
    "nyc"
   ]
  },
  {
   "cell_type": "code",
   "execution_count": 40,
   "metadata": {
    "collapsed": false
   },
   "outputs": [
    {
     "data": {
      "text/html": [
       "<div>\n",
       "<table border=\"1\" class=\"dataframe\">\n",
       "  <thead>\n",
       "    <tr style=\"text-align: right;\">\n",
       "      <th></th>\n",
       "      <th>boro</th>\n",
       "      <th>pop</th>\n",
       "      <th>area</th>\n",
       "      <th>density</th>\n",
       "    </tr>\n",
       "  </thead>\n",
       "  <tbody>\n",
       "    <tr>\n",
       "      <th>0</th>\n",
       "      <td>Bronx</td>\n",
       "      <td>1.39</td>\n",
       "      <td>42</td>\n",
       "      <td>0.033095</td>\n",
       "    </tr>\n",
       "    <tr>\n",
       "      <th>1</th>\n",
       "      <td>Manhattan</td>\n",
       "      <td>1.59</td>\n",
       "      <td>23</td>\n",
       "      <td>0.069130</td>\n",
       "    </tr>\n",
       "    <tr>\n",
       "      <th>2</th>\n",
       "      <td>Brooklyn</td>\n",
       "      <td>2.47</td>\n",
       "      <td>71</td>\n",
       "      <td>0.034789</td>\n",
       "    </tr>\n",
       "    <tr>\n",
       "      <th>3</th>\n",
       "      <td>Staten Island</td>\n",
       "      <td>0.44</td>\n",
       "      <td>59</td>\n",
       "      <td>0.007458</td>\n",
       "    </tr>\n",
       "    <tr>\n",
       "      <th>4</th>\n",
       "      <td>Queens</td>\n",
       "      <td>2.23</td>\n",
       "      <td>109</td>\n",
       "      <td>0.020459</td>\n",
       "    </tr>\n",
       "  </tbody>\n",
       "</table>\n",
       "</div>"
      ],
      "text/plain": [
       "            boro   pop  area   density\n",
       "0          Bronx  1.39    42  0.033095\n",
       "1      Manhattan  1.59    23  0.069130\n",
       "2       Brooklyn  2.47    71  0.034789\n",
       "3  Staten Island  0.44    59  0.007458\n",
       "4         Queens  2.23   109  0.020459"
      ]
     },
     "execution_count": 40,
     "metadata": {},
     "output_type": "execute_result"
    }
   ],
   "source": [
    "nyc2 = nyc.reset_index()\n",
    "nyc2"
   ]
  },
  {
   "cell_type": "code",
   "execution_count": 95,
   "metadata": {
    "collapsed": false
   },
   "outputs": [
    {
     "data": {
      "text/html": [
       "<div>\n",
       "<table border=\"1\" class=\"dataframe\">\n",
       "  <thead>\n",
       "    <tr style=\"text-align: right;\">\n",
       "      <th></th>\n",
       "      <th>index</th>\n",
       "      <th>pop</th>\n",
       "      <th>area</th>\n",
       "      <th>density</th>\n",
       "      <th>geography</th>\n",
       "      <th>high_point</th>\n",
       "      <th>inception</th>\n",
       "      <th>location</th>\n",
       "      <th>elevation</th>\n",
       "    </tr>\n",
       "  </thead>\n",
       "  <tbody>\n",
       "    <tr>\n",
       "      <th>0</th>\n",
       "      <td>Bronx</td>\n",
       "      <td>1.39</td>\n",
       "      <td>42</td>\n",
       "      <td>0.033095</td>\n",
       "      <td>on mainland</td>\n",
       "      <td>Chapel Farm</td>\n",
       "      <td>1898</td>\n",
       "      <td>Chapel Farm</td>\n",
       "      <td>280</td>\n",
       "    </tr>\n",
       "    <tr>\n",
       "      <th>1</th>\n",
       "      <td>Brooklyn</td>\n",
       "      <td>2.47</td>\n",
       "      <td>71</td>\n",
       "      <td>0.034789</td>\n",
       "      <td>on island</td>\n",
       "      <td>Battle Hill</td>\n",
       "      <td>1634</td>\n",
       "      <td>Battle Hill</td>\n",
       "      <td>220</td>\n",
       "    </tr>\n",
       "    <tr>\n",
       "      <th>2</th>\n",
       "      <td>Manhattan</td>\n",
       "      <td>1.59</td>\n",
       "      <td>23</td>\n",
       "      <td>0.069130</td>\n",
       "      <td>is an island</td>\n",
       "      <td>Bennett Park</td>\n",
       "      <td>1624</td>\n",
       "      <td>Bennett Park</td>\n",
       "      <td>265</td>\n",
       "    </tr>\n",
       "    <tr>\n",
       "      <th>3</th>\n",
       "      <td>Queens</td>\n",
       "      <td>2.23</td>\n",
       "      <td>109</td>\n",
       "      <td>0.020459</td>\n",
       "      <td>on island</td>\n",
       "      <td>North Glen Oaks</td>\n",
       "      <td>1683</td>\n",
       "      <td>North Glen Oaks</td>\n",
       "      <td>258</td>\n",
       "    </tr>\n",
       "    <tr>\n",
       "      <th>4</th>\n",
       "      <td>Staten Island</td>\n",
       "      <td>0.44</td>\n",
       "      <td>59</td>\n",
       "      <td>0.007458</td>\n",
       "      <td>is an island</td>\n",
       "      <td>Todt Hill</td>\n",
       "      <td>1683</td>\n",
       "      <td>Todt Hill</td>\n",
       "      <td>410</td>\n",
       "    </tr>\n",
       "  </tbody>\n",
       "</table>\n",
       "</div>"
      ],
      "text/plain": [
       "           index   pop  area   density     geography       high_point  \\\n",
       "0          Bronx  1.39    42  0.033095   on mainland      Chapel Farm   \n",
       "1       Brooklyn  2.47    71  0.034789     on island      Battle Hill   \n",
       "2      Manhattan  1.59    23  0.069130  is an island     Bennett Park   \n",
       "3         Queens  2.23   109  0.020459     on island  North Glen Oaks   \n",
       "4  Staten Island  0.44    59  0.007458  is an island        Todt Hill   \n",
       "\n",
       "  inception         location  elevation  \n",
       "0      1898      Chapel Farm        280  \n",
       "1      1634      Battle Hill        220  \n",
       "2      1624     Bennett Park        265  \n",
       "3      1683  North Glen Oaks        258  \n",
       "4      1683        Todt Hill        410  "
      ]
     },
     "execution_count": 95,
     "metadata": {},
     "output_type": "execute_result"
    }
   ],
   "source": [
    "# Your code here\n",
    "\n",
    "nyc3 = pd.merge(nyc2, Elevations, left_on='high_point', right_on='location')\n",
    "nyc3"
   ]
  },
  {
   "cell_type": "code",
   "execution_count": 99,
   "metadata": {
    "collapsed": false
   },
   "outputs": [
    {
     "data": {
      "text/html": [
       "<div>\n",
       "<table border=\"1\" class=\"dataframe\">\n",
       "  <thead>\n",
       "    <tr style=\"text-align: right;\">\n",
       "      <th></th>\n",
       "      <th>boro</th>\n",
       "      <th>pop</th>\n",
       "      <th>area</th>\n",
       "      <th>density</th>\n",
       "      <th>geography</th>\n",
       "      <th>high_point</th>\n",
       "      <th>inception</th>\n",
       "      <th>peak_peak_elevation</th>\n",
       "    </tr>\n",
       "  </thead>\n",
       "  <tbody>\n",
       "    <tr>\n",
       "      <th>0</th>\n",
       "      <td>Bronx</td>\n",
       "      <td>1.39</td>\n",
       "      <td>42</td>\n",
       "      <td>0.033095</td>\n",
       "      <td>on mainland</td>\n",
       "      <td>Chapel Farm</td>\n",
       "      <td>1898</td>\n",
       "      <td>280</td>\n",
       "    </tr>\n",
       "    <tr>\n",
       "      <th>1</th>\n",
       "      <td>Brooklyn</td>\n",
       "      <td>2.47</td>\n",
       "      <td>71</td>\n",
       "      <td>0.034789</td>\n",
       "      <td>on island</td>\n",
       "      <td>Battle Hill</td>\n",
       "      <td>1634</td>\n",
       "      <td>220</td>\n",
       "    </tr>\n",
       "    <tr>\n",
       "      <th>2</th>\n",
       "      <td>Manhattan</td>\n",
       "      <td>1.59</td>\n",
       "      <td>23</td>\n",
       "      <td>0.069130</td>\n",
       "      <td>is an island</td>\n",
       "      <td>Bennett Park</td>\n",
       "      <td>1624</td>\n",
       "      <td>265</td>\n",
       "    </tr>\n",
       "    <tr>\n",
       "      <th>3</th>\n",
       "      <td>Queens</td>\n",
       "      <td>2.23</td>\n",
       "      <td>109</td>\n",
       "      <td>0.020459</td>\n",
       "      <td>on island</td>\n",
       "      <td>North Glen Oaks</td>\n",
       "      <td>1683</td>\n",
       "      <td>258</td>\n",
       "    </tr>\n",
       "    <tr>\n",
       "      <th>4</th>\n",
       "      <td>Staten Island</td>\n",
       "      <td>0.44</td>\n",
       "      <td>59</td>\n",
       "      <td>0.007458</td>\n",
       "      <td>is an island</td>\n",
       "      <td>Todt Hill</td>\n",
       "      <td>1683</td>\n",
       "      <td>410</td>\n",
       "    </tr>\n",
       "  </tbody>\n",
       "</table>\n",
       "</div>"
      ],
      "text/plain": [
       "            boro   pop  area   density     geography       high_point  \\\n",
       "0          Bronx  1.39    42  0.033095   on mainland      Chapel Farm   \n",
       "1       Brooklyn  2.47    71  0.034789     on island      Battle Hill   \n",
       "2      Manhattan  1.59    23  0.069130  is an island     Bennett Park   \n",
       "3         Queens  2.23   109  0.020459     on island  North Glen Oaks   \n",
       "4  Staten Island  0.44    59  0.007458  is an island        Todt Hill   \n",
       "\n",
       "  inception  peak_peak_elevation  \n",
       "0      1898                  280  \n",
       "1      1634                  220  \n",
       "2      1624                  265  \n",
       "3      1683                  258  \n",
       "4      1683                  410  "
      ]
     },
     "execution_count": 99,
     "metadata": {},
     "output_type": "execute_result"
    }
   ],
   "source": [
    "nyc3.columns = nyc3.columns.str.replace('index','boro')\n",
    "del(nyc3['location'])  #location is now redundant\n",
    "nyc3.columns = nyc3.columns.str.replace('elevation','peak_elevation')\n",
    "nyc3"
   ]
  },
  {
   "cell_type": "markdown",
   "metadata": {},
   "source": [
    "<p><a name=\"SF\"></a></p>\n",
    "### selection and filter\n",
    "\n",
    "The `loc` method provides purely label (index/columns)-based indexing. This method allows selection from a data frame by index and columns. \n",
    "\n",
    "Consider data frame df1:"
   ]
  },
  {
   "cell_type": "code",
   "execution_count": 100,
   "metadata": {
    "collapsed": false
   },
   "outputs": [
    {
     "data": {
      "text/html": [
       "<div>\n",
       "<table border=\"1\" class=\"dataframe\">\n",
       "  <thead>\n",
       "    <tr style=\"text-align: right;\">\n",
       "      <th></th>\n",
       "      <th>a</th>\n",
       "      <th>b</th>\n",
       "      <th>c</th>\n",
       "    </tr>\n",
       "  </thead>\n",
       "  <tbody>\n",
       "    <tr>\n",
       "      <th>one</th>\n",
       "      <td>0</td>\n",
       "      <td>1</td>\n",
       "      <td>2</td>\n",
       "    </tr>\n",
       "    <tr>\n",
       "      <th>two</th>\n",
       "      <td>3</td>\n",
       "      <td>4</td>\n",
       "      <td>5</td>\n",
       "    </tr>\n",
       "    <tr>\n",
       "      <th>three</th>\n",
       "      <td>6</td>\n",
       "      <td>7</td>\n",
       "      <td>8</td>\n",
       "    </tr>\n",
       "  </tbody>\n",
       "</table>\n",
       "</div>"
      ],
      "text/plain": [
       "       a  b  c\n",
       "one    0  1  2\n",
       "two    3  4  5\n",
       "three  6  7  8"
      ]
     },
     "execution_count": 100,
     "metadata": {},
     "output_type": "execute_result"
    }
   ],
   "source": [
    "df1"
   ]
  },
  {
   "cell_type": "markdown",
   "metadata": {},
   "source": [
    "The following returns a single column of df1."
   ]
  },
  {
   "cell_type": "code",
   "execution_count": 101,
   "metadata": {
    "collapsed": false
   },
   "outputs": [
    {
     "data": {
      "text/plain": [
       "one      0\n",
       "two      3\n",
       "three    6\n",
       "Name: a, dtype: int32"
      ]
     },
     "execution_count": 101,
     "metadata": {},
     "output_type": "execute_result"
    }
   ],
   "source": [
    "df1['a']"
   ]
  },
  {
   "cell_type": "code",
   "execution_count": 102,
   "metadata": {
    "collapsed": false
   },
   "outputs": [
    {
     "data": {
      "text/html": [
       "<div>\n",
       "<table border=\"1\" class=\"dataframe\">\n",
       "  <thead>\n",
       "    <tr style=\"text-align: right;\">\n",
       "      <th></th>\n",
       "      <th>a</th>\n",
       "      <th>b</th>\n",
       "    </tr>\n",
       "  </thead>\n",
       "  <tbody>\n",
       "    <tr>\n",
       "      <th>one</th>\n",
       "      <td>0</td>\n",
       "      <td>1</td>\n",
       "    </tr>\n",
       "    <tr>\n",
       "      <th>two</th>\n",
       "      <td>3</td>\n",
       "      <td>4</td>\n",
       "    </tr>\n",
       "    <tr>\n",
       "      <th>three</th>\n",
       "      <td>6</td>\n",
       "      <td>7</td>\n",
       "    </tr>\n",
       "  </tbody>\n",
       "</table>\n",
       "</div>"
      ],
      "text/plain": [
       "       a  b\n",
       "one    0  1\n",
       "two    3  4\n",
       "three  6  7"
      ]
     },
     "execution_count": 102,
     "metadata": {},
     "output_type": "execute_result"
    }
   ],
   "source": [
    "df1[['a','b']]"
   ]
  },
  {
   "cell_type": "markdown",
   "metadata": {},
   "source": [
    "Using subscripting/slicing as an argument will return the associated rows.  This is not the most straight forward syntax and does not allow the use of string names for the index."
   ]
  },
  {
   "cell_type": "code",
   "execution_count": 214,
   "metadata": {
    "collapsed": false
   },
   "outputs": [
    {
     "data": {
      "text/html": [
       "<div>\n",
       "<table border=\"1\" class=\"dataframe\">\n",
       "  <thead>\n",
       "    <tr style=\"text-align: right;\">\n",
       "      <th></th>\n",
       "      <th>a</th>\n",
       "      <th>b</th>\n",
       "      <th>c</th>\n",
       "    </tr>\n",
       "  </thead>\n",
       "  <tbody>\n",
       "    <tr>\n",
       "      <th>two</th>\n",
       "      <td>3</td>\n",
       "      <td>4</td>\n",
       "      <td>5</td>\n",
       "    </tr>\n",
       "  </tbody>\n",
       "</table>\n",
       "</div>"
      ],
      "text/plain": [
       "     a  b  c\n",
       "two  3  4  5"
      ]
     },
     "execution_count": 214,
     "metadata": {},
     "output_type": "execute_result"
    }
   ],
   "source": [
    "df1[1:2]   # this is strange behavior, I don't like to access rows this way"
   ]
  },
  {
   "cell_type": "markdown",
   "metadata": {},
   "source": [
    "The following uses `loc` to return a single row of df1, using the index string name."
   ]
  },
  {
   "cell_type": "code",
   "execution_count": 104,
   "metadata": {
    "collapsed": false
   },
   "outputs": [
    {
     "data": {
      "text/html": [
       "<div>\n",
       "<table border=\"1\" class=\"dataframe\">\n",
       "  <thead>\n",
       "    <tr style=\"text-align: right;\">\n",
       "      <th></th>\n",
       "      <th>a</th>\n",
       "      <th>b</th>\n",
       "      <th>c</th>\n",
       "    </tr>\n",
       "  </thead>\n",
       "  <tbody>\n",
       "    <tr>\n",
       "      <th>two</th>\n",
       "      <td>3</td>\n",
       "      <td>4</td>\n",
       "      <td>5</td>\n",
       "    </tr>\n",
       "  </tbody>\n",
       "</table>\n",
       "</div>"
      ],
      "text/plain": [
       "     a  b  c\n",
       "two  3  4  5"
      ]
     },
     "execution_count": 104,
     "metadata": {},
     "output_type": "execute_result"
    }
   ],
   "source": [
    "df1.loc[['two']] # the row that has index two"
   ]
  },
  {
   "cell_type": "markdown",
   "metadata": {},
   "source": [
    "A second parameter is passed to loc to specify the chosen column. For example:"
   ]
  },
  {
   "cell_type": "code",
   "execution_count": 215,
   "metadata": {
    "collapsed": false
   },
   "outputs": [
    {
     "data": {
      "text/plain": [
       "4"
      ]
     },
     "execution_count": 215,
     "metadata": {},
     "output_type": "execute_result"
    }
   ],
   "source": [
    "df1.loc['two', 'b'] # the row that has index two and column b"
   ]
  },
  {
   "cell_type": "markdown",
   "metadata": {},
   "source": [
    "Note the three ways to accomplish this:"
   ]
  },
  {
   "cell_type": "code",
   "execution_count": 221,
   "metadata": {
    "collapsed": false
   },
   "outputs": [
    {
     "name": "stdout",
     "output_type": "stream",
     "text": [
      "4\n",
      "4\n",
      "4\n"
     ]
    }
   ],
   "source": [
    "print(df1.loc['two', 'b'])  # this makes most sense and is most legible\n",
    "print(df1[1:2]['b'][0])\n",
    "print(df1['b'][1])"
   ]
  },
  {
   "cell_type": "markdown",
   "metadata": {},
   "source": [
    "Fancy indexing can be done with `loc` in pandas, as was done in Numpy. Select a row with a condition, as follows.  The code below returns all columns for the rows in which column 'a' is zero."
   ]
  },
  {
   "cell_type": "code",
   "execution_count": 222,
   "metadata": {
    "collapsed": false
   },
   "outputs": [
    {
     "data": {
      "text/html": [
       "<div>\n",
       "<table border=\"1\" class=\"dataframe\">\n",
       "  <thead>\n",
       "    <tr style=\"text-align: right;\">\n",
       "      <th></th>\n",
       "      <th>a</th>\n",
       "      <th>b</th>\n",
       "      <th>c</th>\n",
       "    </tr>\n",
       "  </thead>\n",
       "  <tbody>\n",
       "    <tr>\n",
       "      <th>one</th>\n",
       "      <td>0</td>\n",
       "      <td>1</td>\n",
       "      <td>2</td>\n",
       "    </tr>\n",
       "  </tbody>\n",
       "</table>\n",
       "</div>"
      ],
      "text/plain": [
       "     a  b  c\n",
       "one  0  1  2"
      ]
     },
     "execution_count": 222,
     "metadata": {},
     "output_type": "execute_result"
    }
   ],
   "source": [
    "df1.loc[df1.a==0,:]  # : means I am taking all of the columns"
   ]
  },
  {
   "cell_type": "markdown",
   "metadata": {},
   "source": [
    "Columns are selected in a similar way.  The code below returns all rows for the columns in which row 'one' is zero."
   ]
  },
  {
   "cell_type": "code",
   "execution_count": 225,
   "metadata": {
    "collapsed": false
   },
   "outputs": [
    {
     "data": {
      "text/html": [
       "<div>\n",
       "<table border=\"1\" class=\"dataframe\">\n",
       "  <thead>\n",
       "    <tr style=\"text-align: right;\">\n",
       "      <th></th>\n",
       "      <th>a</th>\n",
       "    </tr>\n",
       "  </thead>\n",
       "  <tbody>\n",
       "    <tr>\n",
       "      <th>one</th>\n",
       "      <td>0</td>\n",
       "    </tr>\n",
       "    <tr>\n",
       "      <th>two</th>\n",
       "      <td>3</td>\n",
       "    </tr>\n",
       "    <tr>\n",
       "      <th>three</th>\n",
       "      <td>6</td>\n",
       "    </tr>\n",
       "  </tbody>\n",
       "</table>\n",
       "</div>"
      ],
      "text/plain": [
       "       a\n",
       "one    0\n",
       "two    3\n",
       "three  6"
      ]
     },
     "execution_count": 225,
     "metadata": {},
     "output_type": "execute_result"
    }
   ],
   "source": [
    "df1.loc[:,df1.loc['one']==0]"
   ]
  },
  {
   "cell_type": "markdown",
   "metadata": {},
   "source": [
    "Note: loc only accepts labels as input. If you try to use numbers, it will give you an error. For example:"
   ]
  },
  {
   "cell_type": "code",
   "execution_count": 105,
   "metadata": {
    "collapsed": false
   },
   "outputs": [
    {
     "ename": "TypeError",
     "evalue": "cannot do label indexing on <class 'pandas.indexes.base.Index'> with these indexers [1] of <type 'int'>",
     "output_type": "error",
     "traceback": [
      "\u001b[0;31m---------------------------------------------------------------------------\u001b[0m",
      "\u001b[0;31mTypeError\u001b[0m                                 Traceback (most recent call last)",
      "\u001b[0;32m<ipython-input-105-45528eb94678>\u001b[0m in \u001b[0;36m<module>\u001b[0;34m()\u001b[0m\n\u001b[0;32m----> 1\u001b[0;31m \u001b[0mdf1\u001b[0m\u001b[1;33m.\u001b[0m\u001b[0mloc\u001b[0m\u001b[1;33m[\u001b[0m\u001b[1;36m1\u001b[0m\u001b[1;33m,\u001b[0m \u001b[1;36m2\u001b[0m\u001b[1;33m]\u001b[0m\u001b[1;33m\u001b[0m\u001b[0m\n\u001b[0m",
      "\u001b[0;32mC:\\Users\\sepeh\\Anaconda2\\lib\\site-packages\\pandas\\core\\indexing.pyc\u001b[0m in \u001b[0;36m__getitem__\u001b[0;34m(self, key)\u001b[0m\n\u001b[1;32m   1292\u001b[0m \u001b[1;33m\u001b[0m\u001b[0m\n\u001b[1;32m   1293\u001b[0m         \u001b[1;32mif\u001b[0m \u001b[0mtype\u001b[0m\u001b[1;33m(\u001b[0m\u001b[0mkey\u001b[0m\u001b[1;33m)\u001b[0m \u001b[1;32mis\u001b[0m \u001b[0mtuple\u001b[0m\u001b[1;33m:\u001b[0m\u001b[1;33m\u001b[0m\u001b[0m\n\u001b[0;32m-> 1294\u001b[0;31m             \u001b[1;32mreturn\u001b[0m \u001b[0mself\u001b[0m\u001b[1;33m.\u001b[0m\u001b[0m_getitem_tuple\u001b[0m\u001b[1;33m(\u001b[0m\u001b[0mkey\u001b[0m\u001b[1;33m)\u001b[0m\u001b[1;33m\u001b[0m\u001b[0m\n\u001b[0m\u001b[1;32m   1295\u001b[0m         \u001b[1;32melse\u001b[0m\u001b[1;33m:\u001b[0m\u001b[1;33m\u001b[0m\u001b[0m\n\u001b[1;32m   1296\u001b[0m             \u001b[1;32mreturn\u001b[0m \u001b[0mself\u001b[0m\u001b[1;33m.\u001b[0m\u001b[0m_getitem_axis\u001b[0m\u001b[1;33m(\u001b[0m\u001b[0mkey\u001b[0m\u001b[1;33m,\u001b[0m \u001b[0maxis\u001b[0m\u001b[1;33m=\u001b[0m\u001b[1;36m0\u001b[0m\u001b[1;33m)\u001b[0m\u001b[1;33m\u001b[0m\u001b[0m\n",
      "\u001b[0;32mC:\\Users\\sepeh\\Anaconda2\\lib\\site-packages\\pandas\\core\\indexing.pyc\u001b[0m in \u001b[0;36m_getitem_tuple\u001b[0;34m(self, tup)\u001b[0m\n\u001b[1;32m    782\u001b[0m     \u001b[1;32mdef\u001b[0m \u001b[0m_getitem_tuple\u001b[0m\u001b[1;33m(\u001b[0m\u001b[0mself\u001b[0m\u001b[1;33m,\u001b[0m \u001b[0mtup\u001b[0m\u001b[1;33m)\u001b[0m\u001b[1;33m:\u001b[0m\u001b[1;33m\u001b[0m\u001b[0m\n\u001b[1;32m    783\u001b[0m         \u001b[1;32mtry\u001b[0m\u001b[1;33m:\u001b[0m\u001b[1;33m\u001b[0m\u001b[0m\n\u001b[0;32m--> 784\u001b[0;31m             \u001b[1;32mreturn\u001b[0m \u001b[0mself\u001b[0m\u001b[1;33m.\u001b[0m\u001b[0m_getitem_lowerdim\u001b[0m\u001b[1;33m(\u001b[0m\u001b[0mtup\u001b[0m\u001b[1;33m)\u001b[0m\u001b[1;33m\u001b[0m\u001b[0m\n\u001b[0m\u001b[1;32m    785\u001b[0m         \u001b[1;32mexcept\u001b[0m \u001b[0mIndexingError\u001b[0m\u001b[1;33m:\u001b[0m\u001b[1;33m\u001b[0m\u001b[0m\n\u001b[1;32m    786\u001b[0m             \u001b[1;32mpass\u001b[0m\u001b[1;33m\u001b[0m\u001b[0m\n",
      "\u001b[0;32mC:\\Users\\sepeh\\Anaconda2\\lib\\site-packages\\pandas\\core\\indexing.pyc\u001b[0m in \u001b[0;36m_getitem_lowerdim\u001b[0;34m(self, tup)\u001b[0m\n\u001b[1;32m    906\u001b[0m         \u001b[1;32mfor\u001b[0m \u001b[0mi\u001b[0m\u001b[1;33m,\u001b[0m \u001b[0mkey\u001b[0m \u001b[1;32min\u001b[0m \u001b[0menumerate\u001b[0m\u001b[1;33m(\u001b[0m\u001b[0mtup\u001b[0m\u001b[1;33m)\u001b[0m\u001b[1;33m:\u001b[0m\u001b[1;33m\u001b[0m\u001b[0m\n\u001b[1;32m    907\u001b[0m             \u001b[1;32mif\u001b[0m \u001b[0mis_label_like\u001b[0m\u001b[1;33m(\u001b[0m\u001b[0mkey\u001b[0m\u001b[1;33m)\u001b[0m \u001b[1;32mor\u001b[0m \u001b[0misinstance\u001b[0m\u001b[1;33m(\u001b[0m\u001b[0mkey\u001b[0m\u001b[1;33m,\u001b[0m \u001b[0mtuple\u001b[0m\u001b[1;33m)\u001b[0m\u001b[1;33m:\u001b[0m\u001b[1;33m\u001b[0m\u001b[0m\n\u001b[0;32m--> 908\u001b[0;31m                 \u001b[0msection\u001b[0m \u001b[1;33m=\u001b[0m \u001b[0mself\u001b[0m\u001b[1;33m.\u001b[0m\u001b[0m_getitem_axis\u001b[0m\u001b[1;33m(\u001b[0m\u001b[0mkey\u001b[0m\u001b[1;33m,\u001b[0m \u001b[0maxis\u001b[0m\u001b[1;33m=\u001b[0m\u001b[0mi\u001b[0m\u001b[1;33m)\u001b[0m\u001b[1;33m\u001b[0m\u001b[0m\n\u001b[0m\u001b[1;32m    909\u001b[0m \u001b[1;33m\u001b[0m\u001b[0m\n\u001b[1;32m    910\u001b[0m                 \u001b[1;31m# we have yielded a scalar ?\u001b[0m\u001b[1;33m\u001b[0m\u001b[1;33m\u001b[0m\u001b[0m\n",
      "\u001b[0;32mC:\\Users\\sepeh\\Anaconda2\\lib\\site-packages\\pandas\\core\\indexing.pyc\u001b[0m in \u001b[0;36m_getitem_axis\u001b[0;34m(self, key, axis)\u001b[0m\n\u001b[1;32m   1464\u001b[0m \u001b[1;33m\u001b[0m\u001b[0m\n\u001b[1;32m   1465\u001b[0m         \u001b[1;31m# fall thru to straight lookup\u001b[0m\u001b[1;33m\u001b[0m\u001b[1;33m\u001b[0m\u001b[0m\n\u001b[0;32m-> 1466\u001b[0;31m         \u001b[0mself\u001b[0m\u001b[1;33m.\u001b[0m\u001b[0m_has_valid_type\u001b[0m\u001b[1;33m(\u001b[0m\u001b[0mkey\u001b[0m\u001b[1;33m,\u001b[0m \u001b[0maxis\u001b[0m\u001b[1;33m)\u001b[0m\u001b[1;33m\u001b[0m\u001b[0m\n\u001b[0m\u001b[1;32m   1467\u001b[0m         \u001b[1;32mreturn\u001b[0m \u001b[0mself\u001b[0m\u001b[1;33m.\u001b[0m\u001b[0m_get_label\u001b[0m\u001b[1;33m(\u001b[0m\u001b[0mkey\u001b[0m\u001b[1;33m,\u001b[0m \u001b[0maxis\u001b[0m\u001b[1;33m=\u001b[0m\u001b[0maxis\u001b[0m\u001b[1;33m)\u001b[0m\u001b[1;33m\u001b[0m\u001b[0m\n\u001b[1;32m   1468\u001b[0m \u001b[1;33m\u001b[0m\u001b[0m\n",
      "\u001b[0;32mC:\\Users\\sepeh\\Anaconda2\\lib\\site-packages\\pandas\\core\\indexing.pyc\u001b[0m in \u001b[0;36m_has_valid_type\u001b[0;34m(self, key, axis)\u001b[0m\n\u001b[1;32m   1391\u001b[0m \u001b[1;33m\u001b[0m\u001b[0m\n\u001b[1;32m   1392\u001b[0m             \u001b[1;32mtry\u001b[0m\u001b[1;33m:\u001b[0m\u001b[1;33m\u001b[0m\u001b[0m\n\u001b[0;32m-> 1393\u001b[0;31m                 \u001b[0mkey\u001b[0m \u001b[1;33m=\u001b[0m \u001b[0mself\u001b[0m\u001b[1;33m.\u001b[0m\u001b[0m_convert_scalar_indexer\u001b[0m\u001b[1;33m(\u001b[0m\u001b[0mkey\u001b[0m\u001b[1;33m,\u001b[0m \u001b[0maxis\u001b[0m\u001b[1;33m)\u001b[0m\u001b[1;33m\u001b[0m\u001b[0m\n\u001b[0m\u001b[1;32m   1394\u001b[0m                 \u001b[1;32mif\u001b[0m \u001b[0mkey\u001b[0m \u001b[1;32mnot\u001b[0m \u001b[1;32min\u001b[0m \u001b[0max\u001b[0m\u001b[1;33m:\u001b[0m\u001b[1;33m\u001b[0m\u001b[0m\n\u001b[1;32m   1395\u001b[0m                     \u001b[0merror\u001b[0m\u001b[1;33m(\u001b[0m\u001b[1;33m)\u001b[0m\u001b[1;33m\u001b[0m\u001b[0m\n",
      "\u001b[0;32mC:\\Users\\sepeh\\Anaconda2\\lib\\site-packages\\pandas\\core\\indexing.pyc\u001b[0m in \u001b[0;36m_convert_scalar_indexer\u001b[0;34m(self, key, axis)\u001b[0m\n\u001b[1;32m    185\u001b[0m         \u001b[0max\u001b[0m \u001b[1;33m=\u001b[0m \u001b[0mself\u001b[0m\u001b[1;33m.\u001b[0m\u001b[0mobj\u001b[0m\u001b[1;33m.\u001b[0m\u001b[0m_get_axis\u001b[0m\u001b[1;33m(\u001b[0m\u001b[0mmin\u001b[0m\u001b[1;33m(\u001b[0m\u001b[0maxis\u001b[0m\u001b[1;33m,\u001b[0m \u001b[0mself\u001b[0m\u001b[1;33m.\u001b[0m\u001b[0mndim\u001b[0m \u001b[1;33m-\u001b[0m \u001b[1;36m1\u001b[0m\u001b[1;33m)\u001b[0m\u001b[1;33m)\u001b[0m\u001b[1;33m\u001b[0m\u001b[0m\n\u001b[1;32m    186\u001b[0m         \u001b[1;31m# a scalar\u001b[0m\u001b[1;33m\u001b[0m\u001b[1;33m\u001b[0m\u001b[0m\n\u001b[0;32m--> 187\u001b[0;31m         \u001b[1;32mreturn\u001b[0m \u001b[0max\u001b[0m\u001b[1;33m.\u001b[0m\u001b[0m_convert_scalar_indexer\u001b[0m\u001b[1;33m(\u001b[0m\u001b[0mkey\u001b[0m\u001b[1;33m,\u001b[0m \u001b[0mkind\u001b[0m\u001b[1;33m=\u001b[0m\u001b[0mself\u001b[0m\u001b[1;33m.\u001b[0m\u001b[0mname\u001b[0m\u001b[1;33m)\u001b[0m\u001b[1;33m\u001b[0m\u001b[0m\n\u001b[0m\u001b[1;32m    188\u001b[0m \u001b[1;33m\u001b[0m\u001b[0m\n\u001b[1;32m    189\u001b[0m     \u001b[1;32mdef\u001b[0m \u001b[0m_convert_slice_indexer\u001b[0m\u001b[1;33m(\u001b[0m\u001b[0mself\u001b[0m\u001b[1;33m,\u001b[0m \u001b[0mkey\u001b[0m\u001b[1;33m,\u001b[0m \u001b[0maxis\u001b[0m\u001b[1;33m)\u001b[0m\u001b[1;33m:\u001b[0m\u001b[1;33m\u001b[0m\u001b[0m\n",
      "\u001b[0;32mC:\\Users\\sepeh\\Anaconda2\\lib\\site-packages\\pandas\\indexes\\base.pyc\u001b[0m in \u001b[0;36m_convert_scalar_indexer\u001b[0;34m(self, key, kind)\u001b[0m\n\u001b[1;32m   1010\u001b[0m             \u001b[1;32melif\u001b[0m \u001b[0mkind\u001b[0m \u001b[1;32min\u001b[0m \u001b[1;33m[\u001b[0m\u001b[1;34m'loc'\u001b[0m\u001b[1;33m]\u001b[0m \u001b[1;32mand\u001b[0m \u001b[0mis_integer\u001b[0m\u001b[1;33m(\u001b[0m\u001b[0mkey\u001b[0m\u001b[1;33m)\u001b[0m\u001b[1;33m:\u001b[0m\u001b[1;33m\u001b[0m\u001b[0m\n\u001b[1;32m   1011\u001b[0m                 \u001b[1;32mif\u001b[0m \u001b[1;32mnot\u001b[0m \u001b[0mself\u001b[0m\u001b[1;33m.\u001b[0m\u001b[0mholds_integer\u001b[0m\u001b[1;33m(\u001b[0m\u001b[1;33m)\u001b[0m\u001b[1;33m:\u001b[0m\u001b[1;33m\u001b[0m\u001b[0m\n\u001b[0;32m-> 1012\u001b[0;31m                     \u001b[1;32mreturn\u001b[0m \u001b[0mself\u001b[0m\u001b[1;33m.\u001b[0m\u001b[0m_invalid_indexer\u001b[0m\u001b[1;33m(\u001b[0m\u001b[1;34m'label'\u001b[0m\u001b[1;33m,\u001b[0m \u001b[0mkey\u001b[0m\u001b[1;33m)\u001b[0m\u001b[1;33m\u001b[0m\u001b[0m\n\u001b[0m\u001b[1;32m   1013\u001b[0m \u001b[1;33m\u001b[0m\u001b[0m\n\u001b[1;32m   1014\u001b[0m         \u001b[1;32mreturn\u001b[0m \u001b[0mkey\u001b[0m\u001b[1;33m\u001b[0m\u001b[0m\n",
      "\u001b[0;32mC:\\Users\\sepeh\\Anaconda2\\lib\\site-packages\\pandas\\indexes\\base.pyc\u001b[0m in \u001b[0;36m_invalid_indexer\u001b[0;34m(self, form, key)\u001b[0m\n\u001b[1;32m   1123\u001b[0m                         \"indexers [{key}] of {kind}\".format(\n\u001b[1;32m   1124\u001b[0m                             \u001b[0mform\u001b[0m\u001b[1;33m=\u001b[0m\u001b[0mform\u001b[0m\u001b[1;33m,\u001b[0m \u001b[0mklass\u001b[0m\u001b[1;33m=\u001b[0m\u001b[0mtype\u001b[0m\u001b[1;33m(\u001b[0m\u001b[0mself\u001b[0m\u001b[1;33m)\u001b[0m\u001b[1;33m,\u001b[0m \u001b[0mkey\u001b[0m\u001b[1;33m=\u001b[0m\u001b[0mkey\u001b[0m\u001b[1;33m,\u001b[0m\u001b[1;33m\u001b[0m\u001b[0m\n\u001b[0;32m-> 1125\u001b[0;31m                             kind=type(key)))\n\u001b[0m\u001b[1;32m   1126\u001b[0m \u001b[1;33m\u001b[0m\u001b[0m\n\u001b[1;32m   1127\u001b[0m     \u001b[1;32mdef\u001b[0m \u001b[0mget_duplicates\u001b[0m\u001b[1;33m(\u001b[0m\u001b[0mself\u001b[0m\u001b[1;33m)\u001b[0m\u001b[1;33m:\u001b[0m\u001b[1;33m\u001b[0m\u001b[0m\n",
      "\u001b[0;31mTypeError\u001b[0m: cannot do label indexing on <class 'pandas.indexes.base.Index'> with these indexers [1] of <type 'int'>"
     ]
    }
   ],
   "source": [
    "df1.loc[1, 2]"
   ]
  },
  {
   "cell_type": "markdown",
   "metadata": {},
   "source": [
    "If you want to select data by number, you need the help of iloc. The iloc method provides a purely position based indexing."
   ]
  },
  {
   "cell_type": "code",
   "execution_count": 227,
   "metadata": {
    "collapsed": false
   },
   "outputs": [
    {
     "data": {
      "text/plain": [
       "5"
      ]
     },
     "execution_count": 227,
     "metadata": {},
     "output_type": "execute_result"
    }
   ],
   "source": [
    "# select as a matrix \n",
    "# row 2, col 3\n",
    "df1.iloc[1, 2]"
   ]
  },
  {
   "cell_type": "code",
   "execution_count": 106,
   "metadata": {
    "collapsed": false
   },
   "outputs": [
    {
     "data": {
      "text/plain": [
       "a    0\n",
       "b    1\n",
       "Name: one, dtype: int32"
      ]
     },
     "execution_count": 106,
     "metadata": {},
     "output_type": "execute_result"
    }
   ],
   "source": [
    "# first row, first two columns\n",
    "# return a Series\n",
    "row1 = df1.iloc[0, :2]\n",
    "row1"
   ]
  },
  {
   "cell_type": "markdown",
   "metadata": {},
   "source": [
    "The second row of df1 can be retrieved by each of the following:"
   ]
  },
  {
   "cell_type": "code",
   "execution_count": 230,
   "metadata": {
    "collapsed": false
   },
   "outputs": [
    {
     "name": "stdout",
     "output_type": "stream",
     "text": [
      "a    3\n",
      "b    4\n",
      "c    5\n",
      "Name: two, dtype: int64\n",
      "a    3\n",
      "b    4\n",
      "c    5\n",
      "Name: two, dtype: int64\n"
     ]
    }
   ],
   "source": [
    "print(df1.loc['two'])\n",
    "print(df1.iloc[1])"
   ]
  },
  {
   "cell_type": "markdown",
   "metadata": {},
   "source": [
    "**Exercise**\n",
    "\n",
    "Detail four methods to extract the value 6 from the data frame df1.\n",
    "```\n",
    "df1.loc[]\n",
    "df1.iloc[]\n",
    "df1[][][] #using subscripting in the first []\n",
    "df1[][] #using indexing in the first []\n",
    "```"
   ]
  },
  {
   "cell_type": "code",
   "execution_count": 110,
   "metadata": {
    "collapsed": false
   },
   "outputs": [
    {
     "data": {
      "text/html": [
       "<div>\n",
       "<table border=\"1\" class=\"dataframe\">\n",
       "  <thead>\n",
       "    <tr style=\"text-align: right;\">\n",
       "      <th></th>\n",
       "      <th>a</th>\n",
       "      <th>b</th>\n",
       "      <th>c</th>\n",
       "    </tr>\n",
       "  </thead>\n",
       "  <tbody>\n",
       "    <tr>\n",
       "      <th>one</th>\n",
       "      <td>0</td>\n",
       "      <td>1</td>\n",
       "      <td>2</td>\n",
       "    </tr>\n",
       "    <tr>\n",
       "      <th>two</th>\n",
       "      <td>3</td>\n",
       "      <td>4</td>\n",
       "      <td>5</td>\n",
       "    </tr>\n",
       "    <tr>\n",
       "      <th>three</th>\n",
       "      <td>6</td>\n",
       "      <td>7</td>\n",
       "      <td>8</td>\n",
       "    </tr>\n",
       "  </tbody>\n",
       "</table>\n",
       "</div>"
      ],
      "text/plain": [
       "       a  b  c\n",
       "one    0  1  2\n",
       "two    3  4  5\n",
       "three  6  7  8"
      ]
     },
     "execution_count": 110,
     "metadata": {},
     "output_type": "execute_result"
    }
   ],
   "source": [
    "df1"
   ]
  },
  {
   "cell_type": "code",
   "execution_count": 115,
   "metadata": {
    "collapsed": false
   },
   "outputs": [
    {
     "name": "stdout",
     "output_type": "stream",
     "text": [
      "6\n",
      "6\n",
      "6\n"
     ]
    }
   ],
   "source": [
    "#your code here\n",
    "\n",
    "print df1.loc['three','a']\n",
    "print df1.iloc[2,0]\n",
    "print df1['a']['three']"
   ]
  },
  {
   "cell_type": "markdown",
   "metadata": {},
   "source": [
    "### Removing rows\n",
    "\n",
    "The removal of columns has been covered above using `del()`.  This function actually clears memory space on the computer.  The `del` function can not be used to clear rows.\n",
    "\n",
    "Rows may be cleared in the following ways:\n"
   ]
  },
  {
   "cell_type": "code",
   "execution_count": 236,
   "metadata": {
    "collapsed": false
   },
   "outputs": [
    {
     "data": {
      "text/html": [
       "<div>\n",
       "<table border=\"1\" class=\"dataframe\">\n",
       "  <thead>\n",
       "    <tr style=\"text-align: right;\">\n",
       "      <th></th>\n",
       "      <th>a</th>\n",
       "      <th>b</th>\n",
       "      <th>c</th>\n",
       "    </tr>\n",
       "  </thead>\n",
       "  <tbody>\n",
       "    <tr>\n",
       "      <th>one</th>\n",
       "      <td>0</td>\n",
       "      <td>1</td>\n",
       "      <td>2</td>\n",
       "    </tr>\n",
       "    <tr>\n",
       "      <th>three</th>\n",
       "      <td>6</td>\n",
       "      <td>7</td>\n",
       "      <td>8</td>\n",
       "    </tr>\n",
       "  </tbody>\n",
       "</table>\n",
       "</div>"
      ],
      "text/plain": [
       "       a  b  c\n",
       "one    0  1  2\n",
       "three  6  7  8"
      ]
     },
     "execution_count": 236,
     "metadata": {},
     "output_type": "execute_result"
    }
   ],
   "source": [
    "#this removes row 'two'\n",
    "df1.loc[df1.index != 'two']\n"
   ]
  },
  {
   "cell_type": "code",
   "execution_count": 116,
   "metadata": {
    "collapsed": false
   },
   "outputs": [
    {
     "data": {
      "text/html": [
       "<div>\n",
       "<table border=\"1\" class=\"dataframe\">\n",
       "  <thead>\n",
       "    <tr style=\"text-align: right;\">\n",
       "      <th></th>\n",
       "      <th>a</th>\n",
       "      <th>b</th>\n",
       "      <th>c</th>\n",
       "    </tr>\n",
       "  </thead>\n",
       "  <tbody>\n",
       "    <tr>\n",
       "      <th>two</th>\n",
       "      <td>3</td>\n",
       "      <td>4</td>\n",
       "      <td>5</td>\n",
       "    </tr>\n",
       "  </tbody>\n",
       "</table>\n",
       "</div>"
      ],
      "text/plain": [
       "     a  b  c\n",
       "two  3  4  5"
      ]
     },
     "execution_count": 116,
     "metadata": {},
     "output_type": "execute_result"
    }
   ],
   "source": [
    "#this removes row 0 and 2 (first and third)\n",
    "df1.drop(df1.index[[0,2]])\n"
   ]
  },
  {
   "cell_type": "markdown",
   "metadata": {},
   "source": [
    "Columns may also be removed using fancy indexing or `drop`, instead of using `del`."
   ]
  },
  {
   "cell_type": "code",
   "execution_count": 117,
   "metadata": {
    "collapsed": false
   },
   "outputs": [
    {
     "data": {
      "text/html": [
       "<div>\n",
       "<table border=\"1\" class=\"dataframe\">\n",
       "  <thead>\n",
       "    <tr style=\"text-align: right;\">\n",
       "      <th></th>\n",
       "      <th>a</th>\n",
       "      <th>c</th>\n",
       "    </tr>\n",
       "  </thead>\n",
       "  <tbody>\n",
       "    <tr>\n",
       "      <th>one</th>\n",
       "      <td>0</td>\n",
       "      <td>2</td>\n",
       "    </tr>\n",
       "    <tr>\n",
       "      <th>two</th>\n",
       "      <td>3</td>\n",
       "      <td>5</td>\n",
       "    </tr>\n",
       "    <tr>\n",
       "      <th>three</th>\n",
       "      <td>6</td>\n",
       "      <td>8</td>\n",
       "    </tr>\n",
       "  </tbody>\n",
       "</table>\n",
       "</div>"
      ],
      "text/plain": [
       "       a  c\n",
       "one    0  2\n",
       "two    3  5\n",
       "three  6  8"
      ]
     },
     "execution_count": 117,
     "metadata": {},
     "output_type": "execute_result"
    }
   ],
   "source": [
    "#this removes row 'two'\n",
    "df1.loc[:,df1.columns != 'b']"
   ]
  },
  {
   "cell_type": "code",
   "execution_count": 249,
   "metadata": {
    "collapsed": false
   },
   "outputs": [
    {
     "data": {
      "text/html": [
       "<div>\n",
       "<table border=\"1\" class=\"dataframe\">\n",
       "  <thead>\n",
       "    <tr style=\"text-align: right;\">\n",
       "      <th></th>\n",
       "      <th>a</th>\n",
       "      <th>c</th>\n",
       "    </tr>\n",
       "  </thead>\n",
       "  <tbody>\n",
       "    <tr>\n",
       "      <th>one</th>\n",
       "      <td>0</td>\n",
       "      <td>2</td>\n",
       "    </tr>\n",
       "    <tr>\n",
       "      <th>two</th>\n",
       "      <td>3</td>\n",
       "      <td>5</td>\n",
       "    </tr>\n",
       "    <tr>\n",
       "      <th>three</th>\n",
       "      <td>6</td>\n",
       "      <td>8</td>\n",
       "    </tr>\n",
       "  </tbody>\n",
       "</table>\n",
       "</div>"
      ],
      "text/plain": [
       "       a  c\n",
       "one    0  2\n",
       "two    3  5\n",
       "three  6  8"
      ]
     },
     "execution_count": 249,
     "metadata": {},
     "output_type": "execute_result"
    }
   ],
   "source": [
    "#this removes column 'b'\n",
    "df1.drop('b', axis=1)"
   ]
  },
  {
   "cell_type": "markdown",
   "metadata": {
    "collapsed": true
   },
   "source": [
    "<p><a name=\"miss\"></a></p>\n",
    "# Handling Missing Data\n",
    "\n",
    "Missing or, equivalently, corrupt data is an unavoidable reality in processing large data sets.  There are various ways of dealing with it, depending upon the circumstances:\n",
    "\n",
    "- Discard it, and all related data.\n",
    "- Interpolate values from surrounding data\n",
    "- Isolate it and analyze it separately\n",
    "\n",
    "Which approach is best is a scientific question.  Whatever approach is chosen, pandas has computational methods to carry it out.\n",
    "\n",
    "Read a csv file that contains NaNs. Note here, index_col is set to 0.  This means the first column is used the index."
   ]
  },
  {
   "cell_type": "code",
   "execution_count": 118,
   "metadata": {
    "collapsed": false
   },
   "outputs": [
    {
     "data": {
      "text/html": [
       "<div>\n",
       "<table border=\"1\" class=\"dataframe\">\n",
       "  <thead>\n",
       "    <tr style=\"text-align: right;\">\n",
       "      <th></th>\n",
       "      <th>one</th>\n",
       "      <th>two</th>\n",
       "      <th>three</th>\n",
       "      <th>four</th>\n",
       "    </tr>\n",
       "  </thead>\n",
       "  <tbody>\n",
       "    <tr>\n",
       "      <th>a</th>\n",
       "      <td>-1.250699</td>\n",
       "      <td>-0.573801</td>\n",
       "      <td>0.705961</td>\n",
       "      <td>-1.015682</td>\n",
       "    </tr>\n",
       "    <tr>\n",
       "      <th>b</th>\n",
       "      <td>NaN</td>\n",
       "      <td>-0.217766</td>\n",
       "      <td>0.655179</td>\n",
       "      <td>1.379276</td>\n",
       "    </tr>\n",
       "    <tr>\n",
       "      <th>c</th>\n",
       "      <td>-0.860359</td>\n",
       "      <td>-1.313747</td>\n",
       "      <td>0.676174</td>\n",
       "      <td>1.034417</td>\n",
       "    </tr>\n",
       "    <tr>\n",
       "      <th>d</th>\n",
       "      <td>NaN</td>\n",
       "      <td>NaN</td>\n",
       "      <td>NaN</td>\n",
       "      <td>NaN</td>\n",
       "    </tr>\n",
       "    <tr>\n",
       "      <th>e</th>\n",
       "      <td>0.079169</td>\n",
       "      <td>0.029138</td>\n",
       "      <td>0.239183</td>\n",
       "      <td>-0.492039</td>\n",
       "    </tr>\n",
       "    <tr>\n",
       "      <th>f</th>\n",
       "      <td>-1.149060</td>\n",
       "      <td>NaN</td>\n",
       "      <td>NaN</td>\n",
       "      <td>-0.160499</td>\n",
       "    </tr>\n",
       "  </tbody>\n",
       "</table>\n",
       "</div>"
      ],
      "text/plain": [
       "        one       two     three      four\n",
       "a -1.250699 -0.573801  0.705961 -1.015682\n",
       "b       NaN -0.217766  0.655179  1.379276\n",
       "c -0.860359 -1.313747  0.676174  1.034417\n",
       "d       NaN       NaN       NaN       NaN\n",
       "e  0.079169  0.029138  0.239183 -0.492039\n",
       "f -1.149060       NaN       NaN -0.160499"
      ]
     },
     "execution_count": 118,
     "metadata": {},
     "output_type": "execute_result"
    }
   ],
   "source": [
    "df_miss = pd.read_csv('missing.csv', index_col=0)  # index_col = 0 means first column is used as index\n",
    "df_miss"
   ]
  },
  {
   "cell_type": "markdown",
   "metadata": {
    "collapsed": true
   },
   "source": [
    "To figure out where the missing data is, use the `isnull` method."
   ]
  },
  {
   "cell_type": "code",
   "execution_count": 119,
   "metadata": {
    "collapsed": false
   },
   "outputs": [
    {
     "data": {
      "text/html": [
       "<div>\n",
       "<table border=\"1\" class=\"dataframe\">\n",
       "  <thead>\n",
       "    <tr style=\"text-align: right;\">\n",
       "      <th></th>\n",
       "      <th>one</th>\n",
       "      <th>two</th>\n",
       "      <th>three</th>\n",
       "      <th>four</th>\n",
       "    </tr>\n",
       "  </thead>\n",
       "  <tbody>\n",
       "    <tr>\n",
       "      <th>a</th>\n",
       "      <td>False</td>\n",
       "      <td>False</td>\n",
       "      <td>False</td>\n",
       "      <td>False</td>\n",
       "    </tr>\n",
       "    <tr>\n",
       "      <th>b</th>\n",
       "      <td>True</td>\n",
       "      <td>False</td>\n",
       "      <td>False</td>\n",
       "      <td>False</td>\n",
       "    </tr>\n",
       "    <tr>\n",
       "      <th>c</th>\n",
       "      <td>False</td>\n",
       "      <td>False</td>\n",
       "      <td>False</td>\n",
       "      <td>False</td>\n",
       "    </tr>\n",
       "    <tr>\n",
       "      <th>d</th>\n",
       "      <td>True</td>\n",
       "      <td>True</td>\n",
       "      <td>True</td>\n",
       "      <td>True</td>\n",
       "    </tr>\n",
       "    <tr>\n",
       "      <th>e</th>\n",
       "      <td>False</td>\n",
       "      <td>False</td>\n",
       "      <td>False</td>\n",
       "      <td>False</td>\n",
       "    </tr>\n",
       "    <tr>\n",
       "      <th>f</th>\n",
       "      <td>False</td>\n",
       "      <td>True</td>\n",
       "      <td>True</td>\n",
       "      <td>False</td>\n",
       "    </tr>\n",
       "  </tbody>\n",
       "</table>\n",
       "</div>"
      ],
      "text/plain": [
       "     one    two  three   four\n",
       "a  False  False  False  False\n",
       "b   True  False  False  False\n",
       "c  False  False  False  False\n",
       "d   True   True   True   True\n",
       "e  False  False  False  False\n",
       "f  False   True   True  False"
      ]
     },
     "execution_count": 119,
     "metadata": {},
     "output_type": "execute_result"
    }
   ],
   "source": [
    "df_miss.isnull()"
   ]
  },
  {
   "cell_type": "markdown",
   "metadata": {
    "collapsed": true
   },
   "source": [
    "Summing up the boolean array reports how many missing values are in each column."
   ]
  },
  {
   "cell_type": "code",
   "execution_count": 120,
   "metadata": {
    "collapsed": false
   },
   "outputs": [
    {
     "data": {
      "text/plain": [
       "one      2\n",
       "two      2\n",
       "three    2\n",
       "four     1\n",
       "dtype: int64"
      ]
     },
     "execution_count": 120,
     "metadata": {},
     "output_type": "execute_result"
    }
   ],
   "source": [
    "np.sum(df_miss.isnull())"
   ]
  },
  {
   "cell_type": "markdown",
   "metadata": {},
   "source": [
    "The same is possible for rows by setting the axis parameter to 1."
   ]
  },
  {
   "cell_type": "code",
   "execution_count": 6,
   "metadata": {
    "collapsed": false
   },
   "outputs": [
    {
     "data": {
      "text/plain": [
       "a    0\n",
       "b    1\n",
       "c    0\n",
       "d    4\n",
       "e    0\n",
       "f    2\n",
       "dtype: int64"
      ]
     },
     "execution_count": 6,
     "metadata": {},
     "output_type": "execute_result"
    }
   ],
   "source": [
    "np.sum(df_miss.isnull(), axis=1)"
   ]
  },
  {
   "cell_type": "markdown",
   "metadata": {},
   "source": [
    "To isolate the rows in which there are null values, aggregate the `df.isnull()` boolean data frame along rows, using `any` with `axis=1`."
   ]
  },
  {
   "cell_type": "code",
   "execution_count": 8,
   "metadata": {
    "collapsed": false
   },
   "outputs": [
    {
     "data": {
      "text/plain": [
       "a    False\n",
       "b     True\n",
       "c    False\n",
       "d     True\n",
       "e    False\n",
       "f     True\n",
       "dtype: bool"
      ]
     },
     "execution_count": 8,
     "metadata": {},
     "output_type": "execute_result"
    }
   ],
   "source": [
    "mask=df_miss.isnull().any(axis=1)\n",
    "mask"
   ]
  },
  {
   "cell_type": "markdown",
   "metadata": {},
   "source": [
    "Passing the boolean Series to the first position of the `loc` method of the DataFrame selects the rows:"
   ]
  },
  {
   "cell_type": "code",
   "execution_count": 9,
   "metadata": {
    "collapsed": false
   },
   "outputs": [
    {
     "data": {
      "text/html": [
       "<div>\n",
       "<table border=\"1\" class=\"dataframe\">\n",
       "  <thead>\n",
       "    <tr style=\"text-align: right;\">\n",
       "      <th></th>\n",
       "      <th>one</th>\n",
       "      <th>two</th>\n",
       "      <th>three</th>\n",
       "      <th>four</th>\n",
       "    </tr>\n",
       "  </thead>\n",
       "  <tbody>\n",
       "    <tr>\n",
       "      <th>b</th>\n",
       "      <td>NaN</td>\n",
       "      <td>-0.217766</td>\n",
       "      <td>0.655179</td>\n",
       "      <td>1.379276</td>\n",
       "    </tr>\n",
       "    <tr>\n",
       "      <th>d</th>\n",
       "      <td>NaN</td>\n",
       "      <td>NaN</td>\n",
       "      <td>NaN</td>\n",
       "      <td>NaN</td>\n",
       "    </tr>\n",
       "    <tr>\n",
       "      <th>f</th>\n",
       "      <td>-1.14906</td>\n",
       "      <td>NaN</td>\n",
       "      <td>NaN</td>\n",
       "      <td>-0.160499</td>\n",
       "    </tr>\n",
       "  </tbody>\n",
       "</table>\n",
       "</div>"
      ],
      "text/plain": [
       "       one       two     three      four\n",
       "b      NaN -0.217766  0.655179  1.379276\n",
       "d      NaN       NaN       NaN       NaN\n",
       "f -1.14906       NaN       NaN -0.160499"
      ]
     },
     "execution_count": 9,
     "metadata": {},
     "output_type": "execute_result"
    }
   ],
   "source": [
    "df_miss.loc[mask,:]"
   ]
  },
  {
   "cell_type": "markdown",
   "metadata": {
    "collapsed": true
   },
   "source": [
    "**Exercise 5**\n",
    "- Handling NaNs has been shown, however, not all missing values are NaNs. Consider the example below:\n",
    "\n",
    "```\n",
    "Employee = pd.read_csv('Employee_continue.csv')\n",
    "```\n",
    "\n",
    "Print the data frame, looking for missing values by inspection. How many missing values are there? Some of the missing values might not be NaNs."
   ]
  },
  {
   "cell_type": "code",
   "execution_count": 125,
   "metadata": {
    "collapsed": false
   },
   "outputs": [
    {
     "data": {
      "text/html": [
       "<div>\n",
       "<table border=\"1\" class=\"dataframe\">\n",
       "  <thead>\n",
       "    <tr style=\"text-align: right;\">\n",
       "      <th></th>\n",
       "      <th>Department</th>\n",
       "      <th>Education</th>\n",
       "      <th>Sex</th>\n",
       "      <th>Title</th>\n",
       "      <th>Year</th>\n",
       "      <th>Name</th>\n",
       "      <th>Salary</th>\n",
       "    </tr>\n",
       "  </thead>\n",
       "  <tbody>\n",
       "    <tr>\n",
       "      <th>0</th>\n",
       "      <td>IT</td>\n",
       "      <td>Bachelor</td>\n",
       "      <td>M</td>\n",
       "      <td>analyst</td>\n",
       "      <td>1.0</td>\n",
       "      <td>Bob</td>\n",
       "      <td>90.0</td>\n",
       "    </tr>\n",
       "    <tr>\n",
       "      <th>1</th>\n",
       "      <td>IT</td>\n",
       "      <td>Master</td>\n",
       "      <td>M</td>\n",
       "      <td>analyst</td>\n",
       "      <td>2.0</td>\n",
       "      <td>Jake</td>\n",
       "      <td>90.0</td>\n",
       "    </tr>\n",
       "    <tr>\n",
       "      <th>2</th>\n",
       "      <td>HR</td>\n",
       "      <td>Master</td>\n",
       "      <td>M</td>\n",
       "      <td>analyst</td>\n",
       "      <td>2.0</td>\n",
       "      <td>John</td>\n",
       "      <td>90.0</td>\n",
       "    </tr>\n",
       "    <tr>\n",
       "      <th>3</th>\n",
       "      <td>HR</td>\n",
       "      <td>Bachelor</td>\n",
       "      <td>F</td>\n",
       "      <td>analyst</td>\n",
       "      <td>2.0</td>\n",
       "      <td>Judy</td>\n",
       "      <td>90.0</td>\n",
       "    </tr>\n",
       "    <tr>\n",
       "      <th>4</th>\n",
       "      <td>Trade</td>\n",
       "      <td>PHD</td>\n",
       "      <td>M</td>\n",
       "      <td>associate</td>\n",
       "      <td>3.0</td>\n",
       "      <td>Sam</td>\n",
       "      <td>120.0</td>\n",
       "    </tr>\n",
       "    <tr>\n",
       "      <th>5</th>\n",
       "      <td>?</td>\n",
       "      <td>PHD</td>\n",
       "      <td>F</td>\n",
       "      <td>associate</td>\n",
       "      <td>5.0</td>\n",
       "      <td>Amy</td>\n",
       "      <td>120.0</td>\n",
       "    </tr>\n",
       "    <tr>\n",
       "      <th>6</th>\n",
       "      <td>Trade</td>\n",
       "      <td>Master</td>\n",
       "      <td>F</td>\n",
       "      <td>associate</td>\n",
       "      <td>NaN</td>\n",
       "      <td>Jennifer</td>\n",
       "      <td>120.0</td>\n",
       "    </tr>\n",
       "    <tr>\n",
       "      <th>7</th>\n",
       "      <td>HR</td>\n",
       "      <td>Master</td>\n",
       "      <td>M</td>\n",
       "      <td>VP</td>\n",
       "      <td>8.0</td>\n",
       "      <td>Peter</td>\n",
       "      <td>262.5</td>\n",
       "    </tr>\n",
       "    <tr>\n",
       "      <th>8</th>\n",
       "      <td>IT</td>\n",
       "      <td>?</td>\n",
       "      <td>F</td>\n",
       "      <td>VP</td>\n",
       "      <td>9.0</td>\n",
       "      <td>Mary</td>\n",
       "      <td>262.5</td>\n",
       "    </tr>\n",
       "  </tbody>\n",
       "</table>\n",
       "</div>"
      ],
      "text/plain": [
       "  Department Education Sex      Title  Year      Name  Salary\n",
       "0         IT  Bachelor   M    analyst   1.0       Bob    90.0\n",
       "1         IT    Master   M    analyst   2.0      Jake    90.0\n",
       "2         HR    Master   M    analyst   2.0      John    90.0\n",
       "3         HR  Bachelor   F    analyst   2.0      Judy    90.0\n",
       "4      Trade       PHD   M  associate   3.0       Sam   120.0\n",
       "5          ?       PHD   F  associate   5.0       Amy   120.0\n",
       "6      Trade    Master   F  associate   NaN  Jennifer   120.0\n",
       "7         HR    Master   M         VP   8.0     Peter   262.5\n",
       "8         IT         ?   F         VP   9.0      Mary   262.5"
      ]
     },
     "execution_count": 125,
     "metadata": {},
     "output_type": "execute_result"
    }
   ],
   "source": [
    "Employee = pd.read_csv('Employee_continue.csv')\n",
    "Employee"
   ]
  },
  {
   "cell_type": "markdown",
   "metadata": {},
   "source": [
    "- See '?' in the data frame. For a small data frame like this the '?' may be replaced by `np.nan` manually. In dealing with a large data frame, it is more efficient to use the function `replace`. Use `replace` to swap '?' with `np.nan`."
   ]
  },
  {
   "cell_type": "code",
   "execution_count": 126,
   "metadata": {
    "collapsed": false
   },
   "outputs": [
    {
     "data": {
      "text/html": [
       "<div>\n",
       "<table border=\"1\" class=\"dataframe\">\n",
       "  <thead>\n",
       "    <tr style=\"text-align: right;\">\n",
       "      <th></th>\n",
       "      <th>Department</th>\n",
       "      <th>Education</th>\n",
       "      <th>Sex</th>\n",
       "      <th>Title</th>\n",
       "      <th>Year</th>\n",
       "      <th>Name</th>\n",
       "      <th>Salary</th>\n",
       "    </tr>\n",
       "  </thead>\n",
       "  <tbody>\n",
       "    <tr>\n",
       "      <th>0</th>\n",
       "      <td>IT</td>\n",
       "      <td>Bachelor</td>\n",
       "      <td>M</td>\n",
       "      <td>analyst</td>\n",
       "      <td>1.0</td>\n",
       "      <td>Bob</td>\n",
       "      <td>90.0</td>\n",
       "    </tr>\n",
       "    <tr>\n",
       "      <th>1</th>\n",
       "      <td>IT</td>\n",
       "      <td>Master</td>\n",
       "      <td>M</td>\n",
       "      <td>analyst</td>\n",
       "      <td>2.0</td>\n",
       "      <td>Jake</td>\n",
       "      <td>90.0</td>\n",
       "    </tr>\n",
       "    <tr>\n",
       "      <th>2</th>\n",
       "      <td>HR</td>\n",
       "      <td>Master</td>\n",
       "      <td>M</td>\n",
       "      <td>analyst</td>\n",
       "      <td>2.0</td>\n",
       "      <td>John</td>\n",
       "      <td>90.0</td>\n",
       "    </tr>\n",
       "    <tr>\n",
       "      <th>3</th>\n",
       "      <td>HR</td>\n",
       "      <td>Bachelor</td>\n",
       "      <td>F</td>\n",
       "      <td>analyst</td>\n",
       "      <td>2.0</td>\n",
       "      <td>Judy</td>\n",
       "      <td>90.0</td>\n",
       "    </tr>\n",
       "    <tr>\n",
       "      <th>4</th>\n",
       "      <td>Trade</td>\n",
       "      <td>PHD</td>\n",
       "      <td>M</td>\n",
       "      <td>associate</td>\n",
       "      <td>3.0</td>\n",
       "      <td>Sam</td>\n",
       "      <td>120.0</td>\n",
       "    </tr>\n",
       "    <tr>\n",
       "      <th>5</th>\n",
       "      <td>NaN</td>\n",
       "      <td>PHD</td>\n",
       "      <td>F</td>\n",
       "      <td>associate</td>\n",
       "      <td>5.0</td>\n",
       "      <td>Amy</td>\n",
       "      <td>120.0</td>\n",
       "    </tr>\n",
       "    <tr>\n",
       "      <th>6</th>\n",
       "      <td>Trade</td>\n",
       "      <td>Master</td>\n",
       "      <td>F</td>\n",
       "      <td>associate</td>\n",
       "      <td>NaN</td>\n",
       "      <td>Jennifer</td>\n",
       "      <td>120.0</td>\n",
       "    </tr>\n",
       "    <tr>\n",
       "      <th>7</th>\n",
       "      <td>HR</td>\n",
       "      <td>Master</td>\n",
       "      <td>M</td>\n",
       "      <td>VP</td>\n",
       "      <td>8.0</td>\n",
       "      <td>Peter</td>\n",
       "      <td>262.5</td>\n",
       "    </tr>\n",
       "    <tr>\n",
       "      <th>8</th>\n",
       "      <td>IT</td>\n",
       "      <td>NaN</td>\n",
       "      <td>F</td>\n",
       "      <td>VP</td>\n",
       "      <td>9.0</td>\n",
       "      <td>Mary</td>\n",
       "      <td>262.5</td>\n",
       "    </tr>\n",
       "  </tbody>\n",
       "</table>\n",
       "</div>"
      ],
      "text/plain": [
       "  Department Education Sex      Title  Year      Name  Salary\n",
       "0         IT  Bachelor   M    analyst   1.0       Bob    90.0\n",
       "1         IT    Master   M    analyst   2.0      Jake    90.0\n",
       "2         HR    Master   M    analyst   2.0      John    90.0\n",
       "3         HR  Bachelor   F    analyst   2.0      Judy    90.0\n",
       "4      Trade       PHD   M  associate   3.0       Sam   120.0\n",
       "5        NaN       PHD   F  associate   5.0       Amy   120.0\n",
       "6      Trade    Master   F  associate   NaN  Jennifer   120.0\n",
       "7         HR    Master   M         VP   8.0     Peter   262.5\n",
       "8         IT       NaN   F         VP   9.0      Mary   262.5"
      ]
     },
     "execution_count": 126,
     "metadata": {},
     "output_type": "execute_result"
    }
   ],
   "source": [
    "#### Your code here\n",
    "\n",
    "Employee2 = Employee.replace('?', np.NaN)\n",
    "Employee2\n"
   ]
  },
  {
   "cell_type": "markdown",
   "metadata": {},
   "source": [
    "- How many missing values are there in each row? How many in each column?"
   ]
  },
  {
   "cell_type": "code",
   "execution_count": 129,
   "metadata": {
    "collapsed": false
   },
   "outputs": [
    {
     "name": "stdout",
     "output_type": "stream",
     "text": [
      "Department    1\n",
      "Education     1\n",
      "Sex           0\n",
      "Title         0\n",
      "Year          1\n",
      "Name          0\n",
      "Salary        0\n",
      "dtype: int64\n",
      "0    0\n",
      "1    0\n",
      "2    0\n",
      "3    0\n",
      "4    0\n",
      "5    1\n",
      "6    1\n",
      "7    0\n",
      "8    1\n",
      "dtype: int64\n"
     ]
    }
   ],
   "source": [
    "#### Your code here\n",
    "\n",
    "# each column:\n",
    "\n",
    "print np.sum(Employee2.isnull())\n",
    "\n",
    "# each row:\n",
    "\n",
    "print np.sum(Employee2.isnull(), axis=1)\n"
   ]
  },
  {
   "cell_type": "markdown",
   "metadata": {},
   "source": [
    "- Print the rows with missing values."
   ]
  },
  {
   "cell_type": "code",
   "execution_count": 130,
   "metadata": {
    "collapsed": false
   },
   "outputs": [
    {
     "data": {
      "text/html": [
       "<div>\n",
       "<table border=\"1\" class=\"dataframe\">\n",
       "  <thead>\n",
       "    <tr style=\"text-align: right;\">\n",
       "      <th></th>\n",
       "      <th>Department</th>\n",
       "      <th>Education</th>\n",
       "      <th>Sex</th>\n",
       "      <th>Title</th>\n",
       "      <th>Year</th>\n",
       "      <th>Name</th>\n",
       "      <th>Salary</th>\n",
       "    </tr>\n",
       "  </thead>\n",
       "  <tbody>\n",
       "    <tr>\n",
       "      <th>5</th>\n",
       "      <td>NaN</td>\n",
       "      <td>PHD</td>\n",
       "      <td>F</td>\n",
       "      <td>associate</td>\n",
       "      <td>5.0</td>\n",
       "      <td>Amy</td>\n",
       "      <td>120.0</td>\n",
       "    </tr>\n",
       "    <tr>\n",
       "      <th>6</th>\n",
       "      <td>Trade</td>\n",
       "      <td>Master</td>\n",
       "      <td>F</td>\n",
       "      <td>associate</td>\n",
       "      <td>NaN</td>\n",
       "      <td>Jennifer</td>\n",
       "      <td>120.0</td>\n",
       "    </tr>\n",
       "    <tr>\n",
       "      <th>8</th>\n",
       "      <td>IT</td>\n",
       "      <td>NaN</td>\n",
       "      <td>F</td>\n",
       "      <td>VP</td>\n",
       "      <td>9.0</td>\n",
       "      <td>Mary</td>\n",
       "      <td>262.5</td>\n",
       "    </tr>\n",
       "  </tbody>\n",
       "</table>\n",
       "</div>"
      ],
      "text/plain": [
       "  Department Education Sex      Title  Year      Name  Salary\n",
       "5        NaN       PHD   F  associate   5.0       Amy   120.0\n",
       "6      Trade    Master   F  associate   NaN  Jennifer   120.0\n",
       "8         IT       NaN   F         VP   9.0      Mary   262.5"
      ]
     },
     "execution_count": 130,
     "metadata": {},
     "output_type": "execute_result"
    }
   ],
   "source": [
    "#### Your code here\n",
    "\n",
    "mask=Employee2.isnull().any(axis=1)\n",
    "Employee2.loc[mask,:]\n"
   ]
  },
  {
   "cell_type": "markdown",
   "metadata": {},
   "source": [
    "- Print the columns with missing values."
   ]
  },
  {
   "cell_type": "code",
   "execution_count": 131,
   "metadata": {
    "collapsed": false
   },
   "outputs": [
    {
     "data": {
      "text/html": [
       "<div>\n",
       "<table border=\"1\" class=\"dataframe\">\n",
       "  <thead>\n",
       "    <tr style=\"text-align: right;\">\n",
       "      <th></th>\n",
       "      <th>Department</th>\n",
       "      <th>Education</th>\n",
       "      <th>Year</th>\n",
       "    </tr>\n",
       "  </thead>\n",
       "  <tbody>\n",
       "    <tr>\n",
       "      <th>0</th>\n",
       "      <td>IT</td>\n",
       "      <td>Bachelor</td>\n",
       "      <td>1.0</td>\n",
       "    </tr>\n",
       "    <tr>\n",
       "      <th>1</th>\n",
       "      <td>IT</td>\n",
       "      <td>Master</td>\n",
       "      <td>2.0</td>\n",
       "    </tr>\n",
       "    <tr>\n",
       "      <th>2</th>\n",
       "      <td>HR</td>\n",
       "      <td>Master</td>\n",
       "      <td>2.0</td>\n",
       "    </tr>\n",
       "    <tr>\n",
       "      <th>3</th>\n",
       "      <td>HR</td>\n",
       "      <td>Bachelor</td>\n",
       "      <td>2.0</td>\n",
       "    </tr>\n",
       "    <tr>\n",
       "      <th>4</th>\n",
       "      <td>Trade</td>\n",
       "      <td>PHD</td>\n",
       "      <td>3.0</td>\n",
       "    </tr>\n",
       "    <tr>\n",
       "      <th>5</th>\n",
       "      <td>NaN</td>\n",
       "      <td>PHD</td>\n",
       "      <td>5.0</td>\n",
       "    </tr>\n",
       "    <tr>\n",
       "      <th>6</th>\n",
       "      <td>Trade</td>\n",
       "      <td>Master</td>\n",
       "      <td>NaN</td>\n",
       "    </tr>\n",
       "    <tr>\n",
       "      <th>7</th>\n",
       "      <td>HR</td>\n",
       "      <td>Master</td>\n",
       "      <td>8.0</td>\n",
       "    </tr>\n",
       "    <tr>\n",
       "      <th>8</th>\n",
       "      <td>IT</td>\n",
       "      <td>NaN</td>\n",
       "      <td>9.0</td>\n",
       "    </tr>\n",
       "  </tbody>\n",
       "</table>\n",
       "</div>"
      ],
      "text/plain": [
       "  Department Education  Year\n",
       "0         IT  Bachelor   1.0\n",
       "1         IT    Master   2.0\n",
       "2         HR    Master   2.0\n",
       "3         HR  Bachelor   2.0\n",
       "4      Trade       PHD   3.0\n",
       "5        NaN       PHD   5.0\n",
       "6      Trade    Master   NaN\n",
       "7         HR    Master   8.0\n",
       "8         IT       NaN   9.0"
      ]
     },
     "execution_count": 131,
     "metadata": {},
     "output_type": "execute_result"
    }
   ],
   "source": [
    "#### Your code here\n",
    "\n",
    "mask=Employee2.isnull().any(axis=0)\n",
    "Employee2.loc[:,mask]\n"
   ]
  },
  {
   "cell_type": "markdown",
   "metadata": {},
   "source": [
    "Once all the missing values are represented by `NaN`s, Pandas provides various methods for handling them:\n",
    "\n",
    "<p><a name=\"dropna\"></a></p>\n",
    "## dropna\n",
    "One option is to discard the rows with missing values. Below the arguments `axis=0` and `how='any'` indicate dropping *rows* with a NaN in *any* position."
   ]
  },
  {
   "cell_type": "code",
   "execution_count": 10,
   "metadata": {
    "collapsed": false
   },
   "outputs": [
    {
     "data": {
      "text/html": [
       "<div>\n",
       "<table border=\"1\" class=\"dataframe\">\n",
       "  <thead>\n",
       "    <tr style=\"text-align: right;\">\n",
       "      <th></th>\n",
       "      <th>one</th>\n",
       "      <th>two</th>\n",
       "      <th>three</th>\n",
       "      <th>four</th>\n",
       "    </tr>\n",
       "  </thead>\n",
       "  <tbody>\n",
       "    <tr>\n",
       "      <th>a</th>\n",
       "      <td>-1.250699</td>\n",
       "      <td>-0.573801</td>\n",
       "      <td>0.705961</td>\n",
       "      <td>-1.015682</td>\n",
       "    </tr>\n",
       "    <tr>\n",
       "      <th>c</th>\n",
       "      <td>-0.860359</td>\n",
       "      <td>-1.313747</td>\n",
       "      <td>0.676174</td>\n",
       "      <td>1.034417</td>\n",
       "    </tr>\n",
       "    <tr>\n",
       "      <th>e</th>\n",
       "      <td>0.079169</td>\n",
       "      <td>0.029138</td>\n",
       "      <td>0.239183</td>\n",
       "      <td>-0.492039</td>\n",
       "    </tr>\n",
       "  </tbody>\n",
       "</table>\n",
       "</div>"
      ],
      "text/plain": [
       "        one       two     three      four\n",
       "a -1.250699 -0.573801  0.705961 -1.015682\n",
       "c -0.860359 -1.313747  0.676174  1.034417\n",
       "e  0.079169  0.029138  0.239183 -0.492039"
      ]
     },
     "execution_count": 10,
     "metadata": {},
     "output_type": "execute_result"
    }
   ],
   "source": [
    "df_miss.dropna(axis=0, how='any')"
   ]
  },
  {
   "cell_type": "markdown",
   "metadata": {},
   "source": [
    "Another option is to drop rows full of NaNs. This can be done with `how='all'`."
   ]
  },
  {
   "cell_type": "code",
   "execution_count": 11,
   "metadata": {
    "collapsed": false
   },
   "outputs": [
    {
     "data": {
      "text/html": [
       "<div>\n",
       "<table border=\"1\" class=\"dataframe\">\n",
       "  <thead>\n",
       "    <tr style=\"text-align: right;\">\n",
       "      <th></th>\n",
       "      <th>one</th>\n",
       "      <th>two</th>\n",
       "      <th>three</th>\n",
       "      <th>four</th>\n",
       "    </tr>\n",
       "  </thead>\n",
       "  <tbody>\n",
       "    <tr>\n",
       "      <th>a</th>\n",
       "      <td>-1.250699</td>\n",
       "      <td>-0.573801</td>\n",
       "      <td>0.705961</td>\n",
       "      <td>-1.015682</td>\n",
       "    </tr>\n",
       "    <tr>\n",
       "      <th>b</th>\n",
       "      <td>NaN</td>\n",
       "      <td>-0.217766</td>\n",
       "      <td>0.655179</td>\n",
       "      <td>1.379276</td>\n",
       "    </tr>\n",
       "    <tr>\n",
       "      <th>c</th>\n",
       "      <td>-0.860359</td>\n",
       "      <td>-1.313747</td>\n",
       "      <td>0.676174</td>\n",
       "      <td>1.034417</td>\n",
       "    </tr>\n",
       "    <tr>\n",
       "      <th>e</th>\n",
       "      <td>0.079169</td>\n",
       "      <td>0.029138</td>\n",
       "      <td>0.239183</td>\n",
       "      <td>-0.492039</td>\n",
       "    </tr>\n",
       "    <tr>\n",
       "      <th>f</th>\n",
       "      <td>-1.149060</td>\n",
       "      <td>NaN</td>\n",
       "      <td>NaN</td>\n",
       "      <td>-0.160499</td>\n",
       "    </tr>\n",
       "  </tbody>\n",
       "</table>\n",
       "</div>"
      ],
      "text/plain": [
       "        one       two     three      four\n",
       "a -1.250699 -0.573801  0.705961 -1.015682\n",
       "b       NaN -0.217766  0.655179  1.379276\n",
       "c -0.860359 -1.313747  0.676174  1.034417\n",
       "e  0.079169  0.029138  0.239183 -0.492039\n",
       "f -1.149060       NaN       NaN -0.160499"
      ]
     },
     "execution_count": 11,
     "metadata": {},
     "output_type": "execute_result"
    }
   ],
   "source": [
    "df_miss.dropna(axis=0, how='all')"
   ]
  },
  {
   "cell_type": "markdown",
   "metadata": {},
   "source": [
    "Applying `dropna` to the above data frame may be done once more. Drop a column with the argument `axis=1`."
   ]
  },
  {
   "cell_type": "code",
   "execution_count": 12,
   "metadata": {
    "collapsed": false
   },
   "outputs": [
    {
     "data": {
      "text/html": [
       "<div>\n",
       "<table border=\"1\" class=\"dataframe\">\n",
       "  <thead>\n",
       "    <tr style=\"text-align: right;\">\n",
       "      <th></th>\n",
       "      <th>four</th>\n",
       "    </tr>\n",
       "  </thead>\n",
       "  <tbody>\n",
       "    <tr>\n",
       "      <th>a</th>\n",
       "      <td>-1.015682</td>\n",
       "    </tr>\n",
       "    <tr>\n",
       "      <th>b</th>\n",
       "      <td>1.379276</td>\n",
       "    </tr>\n",
       "    <tr>\n",
       "      <th>c</th>\n",
       "      <td>1.034417</td>\n",
       "    </tr>\n",
       "    <tr>\n",
       "      <th>e</th>\n",
       "      <td>-0.492039</td>\n",
       "    </tr>\n",
       "    <tr>\n",
       "      <th>f</th>\n",
       "      <td>-0.160499</td>\n",
       "    </tr>\n",
       "  </tbody>\n",
       "</table>\n",
       "</div>"
      ],
      "text/plain": [
       "       four\n",
       "a -1.015682\n",
       "b  1.379276\n",
       "c  1.034417\n",
       "e -0.492039\n",
       "f -0.160499"
      ]
     },
     "execution_count": 12,
     "metadata": {},
     "output_type": "execute_result"
    }
   ],
   "source": [
    "df_miss.dropna(axis=0, how='all').dropna(axis=1, how='any')"
   ]
  },
  {
   "cell_type": "markdown",
   "metadata": {},
   "source": [
    "<p><a name=\"fillna\"></a></p>\n",
    "## fillna\n",
    "\n",
    "An alternative to discarding information is to **impute** the data. This can be done with the `fillna` function with the value to be imputed as the argument."
   ]
  },
  {
   "cell_type": "code",
   "execution_count": 14,
   "metadata": {
    "collapsed": false
   },
   "outputs": [
    {
     "data": {
      "text/html": [
       "<div>\n",
       "<table border=\"1\" class=\"dataframe\">\n",
       "  <thead>\n",
       "    <tr style=\"text-align: right;\">\n",
       "      <th></th>\n",
       "      <th>one</th>\n",
       "      <th>two</th>\n",
       "      <th>three</th>\n",
       "      <th>four</th>\n",
       "    </tr>\n",
       "  </thead>\n",
       "  <tbody>\n",
       "    <tr>\n",
       "      <th>a</th>\n",
       "      <td>-1.250699</td>\n",
       "      <td>-0.573801</td>\n",
       "      <td>0.705961</td>\n",
       "      <td>-1.015682</td>\n",
       "    </tr>\n",
       "    <tr>\n",
       "      <th>b</th>\n",
       "      <td>0.000000</td>\n",
       "      <td>-0.217766</td>\n",
       "      <td>0.655179</td>\n",
       "      <td>1.379276</td>\n",
       "    </tr>\n",
       "    <tr>\n",
       "      <th>c</th>\n",
       "      <td>-0.860359</td>\n",
       "      <td>-1.313747</td>\n",
       "      <td>0.676174</td>\n",
       "      <td>1.034417</td>\n",
       "    </tr>\n",
       "    <tr>\n",
       "      <th>d</th>\n",
       "      <td>0.000000</td>\n",
       "      <td>0.000000</td>\n",
       "      <td>0.000000</td>\n",
       "      <td>0.000000</td>\n",
       "    </tr>\n",
       "    <tr>\n",
       "      <th>e</th>\n",
       "      <td>0.079169</td>\n",
       "      <td>0.029138</td>\n",
       "      <td>0.239183</td>\n",
       "      <td>-0.492039</td>\n",
       "    </tr>\n",
       "    <tr>\n",
       "      <th>f</th>\n",
       "      <td>-1.149060</td>\n",
       "      <td>0.000000</td>\n",
       "      <td>0.000000</td>\n",
       "      <td>-0.160499</td>\n",
       "    </tr>\n",
       "  </tbody>\n",
       "</table>\n",
       "</div>"
      ],
      "text/plain": [
       "        one       two     three      four\n",
       "a -1.250699 -0.573801  0.705961 -1.015682\n",
       "b  0.000000 -0.217766  0.655179  1.379276\n",
       "c -0.860359 -1.313747  0.676174  1.034417\n",
       "d  0.000000  0.000000  0.000000  0.000000\n",
       "e  0.079169  0.029138  0.239183 -0.492039\n",
       "f -1.149060  0.000000  0.000000 -0.160499"
      ]
     },
     "execution_count": 14,
     "metadata": {},
     "output_type": "execute_result"
    }
   ],
   "source": [
    "df_miss.fillna(0)"
   ]
  },
  {
   "cell_type": "markdown",
   "metadata": {},
   "source": [
    "- Another common way to impute is by the mean of the column."
   ]
  },
  {
   "cell_type": "code",
   "execution_count": 16,
   "metadata": {
    "collapsed": false
   },
   "outputs": [
    {
     "data": {
      "text/plain": [
       "a   -1.250699\n",
       "b   -0.795237\n",
       "c   -0.860359\n",
       "d   -0.795237\n",
       "e    0.079169\n",
       "f   -1.149060\n",
       "Name: one, dtype: float64"
      ]
     },
     "execution_count": 16,
     "metadata": {},
     "output_type": "execute_result"
    }
   ],
   "source": [
    "df_miss['one'].fillna(df_miss['one'].mean())"
   ]
  },
  {
   "cell_type": "markdown",
   "metadata": {},
   "source": [
    "<p><a name=\"interpolate\"></a></p>\n",
    "## Interpolate\n",
    "\n",
    "Interpolation is the insertion of new data between preeexisting fixed points. Linear interpolation uses a linear function to create new data point.  In pandas this is accomplished using `interpolate` with the method parameter set to linear,`method='linear'`.  This will fill in missing data points using linear interpolation between the data points bordering the missing values."
   ]
  },
  {
   "cell_type": "code",
   "execution_count": 18,
   "metadata": {
    "collapsed": false
   },
   "outputs": [
    {
     "data": {
      "text/html": [
       "<div>\n",
       "<table border=\"1\" class=\"dataframe\">\n",
       "  <thead>\n",
       "    <tr style=\"text-align: right;\">\n",
       "      <th></th>\n",
       "      <th>one</th>\n",
       "      <th>two</th>\n",
       "      <th>three</th>\n",
       "      <th>four</th>\n",
       "    </tr>\n",
       "  </thead>\n",
       "  <tbody>\n",
       "    <tr>\n",
       "      <th>a</th>\n",
       "      <td>-1.250699</td>\n",
       "      <td>-0.573801</td>\n",
       "      <td>0.705961</td>\n",
       "      <td>-1.015682</td>\n",
       "    </tr>\n",
       "    <tr>\n",
       "      <th>b</th>\n",
       "      <td>NaN</td>\n",
       "      <td>-0.217766</td>\n",
       "      <td>0.655179</td>\n",
       "      <td>1.379276</td>\n",
       "    </tr>\n",
       "    <tr>\n",
       "      <th>c</th>\n",
       "      <td>-0.860359</td>\n",
       "      <td>-1.313747</td>\n",
       "      <td>0.676174</td>\n",
       "      <td>1.034417</td>\n",
       "    </tr>\n",
       "    <tr>\n",
       "      <th>d</th>\n",
       "      <td>NaN</td>\n",
       "      <td>NaN</td>\n",
       "      <td>NaN</td>\n",
       "      <td>NaN</td>\n",
       "    </tr>\n",
       "    <tr>\n",
       "      <th>e</th>\n",
       "      <td>0.079169</td>\n",
       "      <td>0.029138</td>\n",
       "      <td>0.239183</td>\n",
       "      <td>-0.492039</td>\n",
       "    </tr>\n",
       "    <tr>\n",
       "      <th>f</th>\n",
       "      <td>-1.149060</td>\n",
       "      <td>NaN</td>\n",
       "      <td>NaN</td>\n",
       "      <td>-0.160499</td>\n",
       "    </tr>\n",
       "  </tbody>\n",
       "</table>\n",
       "</div>"
      ],
      "text/plain": [
       "        one       two     three      four\n",
       "a -1.250699 -0.573801  0.705961 -1.015682\n",
       "b       NaN -0.217766  0.655179  1.379276\n",
       "c -0.860359 -1.313747  0.676174  1.034417\n",
       "d       NaN       NaN       NaN       NaN\n",
       "e  0.079169  0.029138  0.239183 -0.492039\n",
       "f -1.149060       NaN       NaN -0.160499"
      ]
     },
     "execution_count": 18,
     "metadata": {},
     "output_type": "execute_result"
    }
   ],
   "source": [
    "df_miss"
   ]
  },
  {
   "cell_type": "code",
   "execution_count": 17,
   "metadata": {
    "collapsed": false
   },
   "outputs": [
    {
     "data": {
      "text/html": [
       "<div>\n",
       "<table border=\"1\" class=\"dataframe\">\n",
       "  <thead>\n",
       "    <tr style=\"text-align: right;\">\n",
       "      <th></th>\n",
       "      <th>one</th>\n",
       "      <th>two</th>\n",
       "      <th>three</th>\n",
       "      <th>four</th>\n",
       "    </tr>\n",
       "  </thead>\n",
       "  <tbody>\n",
       "    <tr>\n",
       "      <th>a</th>\n",
       "      <td>-1.250699</td>\n",
       "      <td>-0.573801</td>\n",
       "      <td>0.705961</td>\n",
       "      <td>-1.015682</td>\n",
       "    </tr>\n",
       "    <tr>\n",
       "      <th>b</th>\n",
       "      <td>-1.055529</td>\n",
       "      <td>-0.217766</td>\n",
       "      <td>0.655179</td>\n",
       "      <td>1.379276</td>\n",
       "    </tr>\n",
       "    <tr>\n",
       "      <th>c</th>\n",
       "      <td>-0.860359</td>\n",
       "      <td>-1.313747</td>\n",
       "      <td>0.676174</td>\n",
       "      <td>1.034417</td>\n",
       "    </tr>\n",
       "    <tr>\n",
       "      <th>d</th>\n",
       "      <td>-0.390595</td>\n",
       "      <td>-0.642305</td>\n",
       "      <td>0.457679</td>\n",
       "      <td>0.271189</td>\n",
       "    </tr>\n",
       "    <tr>\n",
       "      <th>e</th>\n",
       "      <td>0.079169</td>\n",
       "      <td>0.029138</td>\n",
       "      <td>0.239183</td>\n",
       "      <td>-0.492039</td>\n",
       "    </tr>\n",
       "    <tr>\n",
       "      <th>f</th>\n",
       "      <td>-1.149060</td>\n",
       "      <td>0.029138</td>\n",
       "      <td>0.239183</td>\n",
       "      <td>-0.160499</td>\n",
       "    </tr>\n",
       "  </tbody>\n",
       "</table>\n",
       "</div>"
      ],
      "text/plain": [
       "        one       two     three      four\n",
       "a -1.250699 -0.573801  0.705961 -1.015682\n",
       "b -1.055529 -0.217766  0.655179  1.379276\n",
       "c -0.860359 -1.313747  0.676174  1.034417\n",
       "d -0.390595 -0.642305  0.457679  0.271189\n",
       "e  0.079169  0.029138  0.239183 -0.492039\n",
       "f -1.149060  0.029138  0.239183 -0.160499"
      ]
     },
     "execution_count": 17,
     "metadata": {},
     "output_type": "execute_result"
    }
   ],
   "source": [
    "df_miss.interpolate(method='linear')"
   ]
  },
  {
   "cell_type": "markdown",
   "metadata": {},
   "source": [
    "- Since `df.loc['b','one']` is a NaN between `df.loc['a','one']` and `df.loc['c','one']`, the value inserted is the mean of them."
   ]
  },
  {
   "cell_type": "code",
   "execution_count": 19,
   "metadata": {
    "collapsed": false
   },
   "outputs": [
    {
     "data": {
      "text/plain": [
       "-1.0555289364489999"
      ]
     },
     "execution_count": 19,
     "metadata": {},
     "output_type": "execute_result"
    }
   ],
   "source": [
    "(df_miss.loc['a', 'one'] + df_miss.loc['c', 'one'])/2"
   ]
  },
  {
   "cell_type": "markdown",
   "metadata": {},
   "source": [
    "Note how this technique treats NaN values at the bottom of a column."
   ]
  },
  {
   "cell_type": "markdown",
   "metadata": {},
   "source": [
    "<p><a name=\"grouping\"></a></p>\n",
    "\n",
    "# Grouping and Aggregation\n",
    "\n",
    "Grouping and  aggregation are critical components of data analysis which involve:\n",
    "\n",
    "- **Splitting** data into groups based on some features.\n",
    "- **Applying** a function to each group independently.\n",
    "- **Combining** the result into data structure."
   ]
  },
  {
   "cell_type": "markdown",
   "metadata": {},
   "source": [
    "### Grouping\n",
    "\n",
    "Grouping splits a data frame into categorical groups, according to a given variable, or set of variables.   Consider the following data frame."
   ]
  },
  {
   "cell_type": "code",
   "execution_count": 132,
   "metadata": {
    "collapsed": false
   },
   "outputs": [
    {
     "data": {
      "text/html": [
       "<div>\n",
       "<table border=\"1\" class=\"dataframe\">\n",
       "  <thead>\n",
       "    <tr style=\"text-align: right;\">\n",
       "      <th></th>\n",
       "      <th>Country</th>\n",
       "      <th>Country (de)</th>\n",
       "      <th>Country (local)</th>\n",
       "      <th>Country code</th>\n",
       "      <th>Continent</th>\n",
       "      <th>Capital</th>\n",
       "      <th>Population</th>\n",
       "      <th>Area</th>\n",
       "      <th>Coastline</th>\n",
       "      <th>Government form</th>\n",
       "      <th>Currency</th>\n",
       "      <th>Currency code</th>\n",
       "      <th>Dialing prefix</th>\n",
       "      <th>Birthrate</th>\n",
       "      <th>Deathrate</th>\n",
       "      <th>Life expectancy</th>\n",
       "      <th>Url</th>\n",
       "    </tr>\n",
       "  </thead>\n",
       "  <tbody>\n",
       "    <tr>\n",
       "      <th>0</th>\n",
       "      <td>Afghanistan</td>\n",
       "      <td>Afghanistan</td>\n",
       "      <td>Afganistan/Afqanestan</td>\n",
       "      <td>AF</td>\n",
       "      <td>Asia</td>\n",
       "      <td>Kabul</td>\n",
       "      <td>33332025</td>\n",
       "      <td>652230</td>\n",
       "      <td>0</td>\n",
       "      <td>Presidential islamic republic</td>\n",
       "      <td>Afghani</td>\n",
       "      <td>AFN</td>\n",
       "      <td>93</td>\n",
       "      <td>38.3</td>\n",
       "      <td>13.7</td>\n",
       "      <td>51.3</td>\n",
       "      <td>https://www.laenderdaten.info/Asien/Afghanista...</td>\n",
       "    </tr>\n",
       "    <tr>\n",
       "      <th>1</th>\n",
       "      <td>Egypt</td>\n",
       "      <td>Ägypten</td>\n",
       "      <td>Misr</td>\n",
       "      <td>EG</td>\n",
       "      <td>Africa</td>\n",
       "      <td>Cairo</td>\n",
       "      <td>94666993</td>\n",
       "      <td>1001450</td>\n",
       "      <td>2450</td>\n",
       "      <td>Presidential republic</td>\n",
       "      <td>Pfund</td>\n",
       "      <td>EGP</td>\n",
       "      <td>20</td>\n",
       "      <td>30.3</td>\n",
       "      <td>4.7</td>\n",
       "      <td>72.7</td>\n",
       "      <td>https://www.laenderdaten.info/Afrika/Aegypten/...</td>\n",
       "    </tr>\n",
       "  </tbody>\n",
       "</table>\n",
       "</div>"
      ],
      "text/plain": [
       "       Country Country (de)        Country (local) Country code Continent  \\\n",
       "0  Afghanistan  Afghanistan  Afganistan/Afqanestan           AF      Asia   \n",
       "1        Egypt      Ägypten                   Misr           EG    Africa   \n",
       "\n",
       "  Capital  Population     Area  Coastline                Government form  \\\n",
       "0   Kabul    33332025   652230          0  Presidential islamic republic   \n",
       "1   Cairo    94666993  1001450       2450          Presidential republic   \n",
       "\n",
       "  Currency Currency code Dialing prefix  Birthrate  Deathrate  \\\n",
       "0  Afghani           AFN             93       38.3       13.7   \n",
       "1    Pfund           EGP             20       30.3        4.7   \n",
       "\n",
       "   Life expectancy                                                Url  \n",
       "0             51.3  https://www.laenderdaten.info/Asien/Afghanista...  \n",
       "1             72.7  https://www.laenderdaten.info/Afrika/Aegypten/...  "
      ]
     },
     "execution_count": 132,
     "metadata": {},
     "output_type": "execute_result"
    }
   ],
   "source": [
    "Country = pd.read_csv('countries.csv',delimiter=';')\n",
    "Country.head(2)"
   ]
  },
  {
   "cell_type": "code",
   "execution_count": 133,
   "metadata": {
    "collapsed": false,
    "scrolled": false
   },
   "outputs": [
    {
     "data": {
      "text/html": [
       "<div>\n",
       "<table border=\"1\" class=\"dataframe\">\n",
       "  <thead>\n",
       "    <tr style=\"text-align: right;\">\n",
       "      <th></th>\n",
       "      <th>country</th>\n",
       "      <th>continent</th>\n",
       "      <th>population</th>\n",
       "      <th>area</th>\n",
       "      <th>coastline</th>\n",
       "      <th>currency</th>\n",
       "      <th>birthrate</th>\n",
       "      <th>deathrate</th>\n",
       "      <th>life expectancy</th>\n",
       "      <th>coastal</th>\n",
       "    </tr>\n",
       "  </thead>\n",
       "  <tbody>\n",
       "    <tr>\n",
       "      <th>0</th>\n",
       "      <td>Afghanistan</td>\n",
       "      <td>Asia</td>\n",
       "      <td>33332025</td>\n",
       "      <td>652230</td>\n",
       "      <td>0</td>\n",
       "      <td>Afghani</td>\n",
       "      <td>38.3</td>\n",
       "      <td>13.7</td>\n",
       "      <td>51.3</td>\n",
       "      <td>False</td>\n",
       "    </tr>\n",
       "    <tr>\n",
       "      <th>1</th>\n",
       "      <td>Egypt</td>\n",
       "      <td>Africa</td>\n",
       "      <td>94666993</td>\n",
       "      <td>1001450</td>\n",
       "      <td>2450</td>\n",
       "      <td>Pfund</td>\n",
       "      <td>30.3</td>\n",
       "      <td>4.7</td>\n",
       "      <td>72.7</td>\n",
       "      <td>True</td>\n",
       "    </tr>\n",
       "    <tr>\n",
       "      <th>2</th>\n",
       "      <td>Algeria</td>\n",
       "      <td>Africa</td>\n",
       "      <td>40263711</td>\n",
       "      <td>2381741</td>\n",
       "      <td>998</td>\n",
       "      <td>Dinar</td>\n",
       "      <td>23.0</td>\n",
       "      <td>4.3</td>\n",
       "      <td>76.8</td>\n",
       "      <td>True</td>\n",
       "    </tr>\n",
       "    <tr>\n",
       "      <th>3</th>\n",
       "      <td>Angola</td>\n",
       "      <td>Africa</td>\n",
       "      <td>20172332</td>\n",
       "      <td>1246700</td>\n",
       "      <td>1600</td>\n",
       "      <td>Kwanza</td>\n",
       "      <td>38.6</td>\n",
       "      <td>11.3</td>\n",
       "      <td>56.0</td>\n",
       "      <td>True</td>\n",
       "    </tr>\n",
       "    <tr>\n",
       "      <th>4</th>\n",
       "      <td>Argentina</td>\n",
       "      <td>South America</td>\n",
       "      <td>43886748</td>\n",
       "      <td>2780400</td>\n",
       "      <td>4989</td>\n",
       "      <td>Peso</td>\n",
       "      <td>17.0</td>\n",
       "      <td>7.5</td>\n",
       "      <td>77.1</td>\n",
       "      <td>True</td>\n",
       "    </tr>\n",
       "    <tr>\n",
       "      <th>5</th>\n",
       "      <td>Ethiopia</td>\n",
       "      <td>Africa</td>\n",
       "      <td>102374044</td>\n",
       "      <td>1104300</td>\n",
       "      <td>0</td>\n",
       "      <td>Birr</td>\n",
       "      <td>36.9</td>\n",
       "      <td>7.9</td>\n",
       "      <td>62.2</td>\n",
       "      <td>False</td>\n",
       "    </tr>\n",
       "    <tr>\n",
       "      <th>6</th>\n",
       "      <td>Australia</td>\n",
       "      <td>Australia</td>\n",
       "      <td>22992654</td>\n",
       "      <td>7741220</td>\n",
       "      <td>25760</td>\n",
       "      <td>Dollar</td>\n",
       "      <td>12.1</td>\n",
       "      <td>7.2</td>\n",
       "      <td>82.2</td>\n",
       "      <td>True</td>\n",
       "    </tr>\n",
       "    <tr>\n",
       "      <th>7</th>\n",
       "      <td>Bangladesh</td>\n",
       "      <td>Asia</td>\n",
       "      <td>156186882</td>\n",
       "      <td>143998</td>\n",
       "      <td>580</td>\n",
       "      <td>Taka</td>\n",
       "      <td>19.0</td>\n",
       "      <td>5.3</td>\n",
       "      <td>73.2</td>\n",
       "      <td>True</td>\n",
       "    </tr>\n",
       "    <tr>\n",
       "      <th>8</th>\n",
       "      <td>Brazil</td>\n",
       "      <td>South America</td>\n",
       "      <td>205823665</td>\n",
       "      <td>8514877</td>\n",
       "      <td>7491</td>\n",
       "      <td>Real</td>\n",
       "      <td>14.3</td>\n",
       "      <td>6.6</td>\n",
       "      <td>73.8</td>\n",
       "      <td>True</td>\n",
       "    </tr>\n",
       "    <tr>\n",
       "      <th>9</th>\n",
       "      <td>China</td>\n",
       "      <td>Asia</td>\n",
       "      <td>1373541278</td>\n",
       "      <td>9596960</td>\n",
       "      <td>14500</td>\n",
       "      <td>Yuan</td>\n",
       "      <td>12.4</td>\n",
       "      <td>7.7</td>\n",
       "      <td>75.5</td>\n",
       "      <td>True</td>\n",
       "    </tr>\n",
       "    <tr>\n",
       "      <th>10</th>\n",
       "      <td>Democratic Republic of the Congo</td>\n",
       "      <td>Africa</td>\n",
       "      <td>81331050</td>\n",
       "      <td>2344858</td>\n",
       "      <td>37</td>\n",
       "      <td>Franc</td>\n",
       "      <td>34.2</td>\n",
       "      <td>9.9</td>\n",
       "      <td>57.3</td>\n",
       "      <td>True</td>\n",
       "    </tr>\n",
       "    <tr>\n",
       "      <th>11</th>\n",
       "      <td>Germany</td>\n",
       "      <td>Europe</td>\n",
       "      <td>80722792</td>\n",
       "      <td>357022</td>\n",
       "      <td>2389</td>\n",
       "      <td>Euro</td>\n",
       "      <td>8.5</td>\n",
       "      <td>11.6</td>\n",
       "      <td>80.7</td>\n",
       "      <td>True</td>\n",
       "    </tr>\n",
       "    <tr>\n",
       "      <th>12</th>\n",
       "      <td>Ivory Coast</td>\n",
       "      <td>Africa</td>\n",
       "      <td>23740424</td>\n",
       "      <td>322463</td>\n",
       "      <td>515</td>\n",
       "      <td>Franc</td>\n",
       "      <td>28.2</td>\n",
       "      <td>9.5</td>\n",
       "      <td>58.7</td>\n",
       "      <td>True</td>\n",
       "    </tr>\n",
       "    <tr>\n",
       "      <th>13</th>\n",
       "      <td>France</td>\n",
       "      <td>Europe</td>\n",
       "      <td>66836154</td>\n",
       "      <td>643801</td>\n",
       "      <td>3427</td>\n",
       "      <td>Euro</td>\n",
       "      <td>12.3</td>\n",
       "      <td>9.3</td>\n",
       "      <td>81.8</td>\n",
       "      <td>True</td>\n",
       "    </tr>\n",
       "    <tr>\n",
       "      <th>14</th>\n",
       "      <td>Ghana</td>\n",
       "      <td>Africa</td>\n",
       "      <td>26908262</td>\n",
       "      <td>238533</td>\n",
       "      <td>539</td>\n",
       "      <td>Ghana Cedi</td>\n",
       "      <td>30.8</td>\n",
       "      <td>7.1</td>\n",
       "      <td>66.6</td>\n",
       "      <td>True</td>\n",
       "    </tr>\n",
       "    <tr>\n",
       "      <th>15</th>\n",
       "      <td>India</td>\n",
       "      <td>Asia</td>\n",
       "      <td>1266883598</td>\n",
       "      <td>3287263</td>\n",
       "      <td>7000</td>\n",
       "      <td>Rupie</td>\n",
       "      <td>19.3</td>\n",
       "      <td>7.3</td>\n",
       "      <td>68.5</td>\n",
       "      <td>True</td>\n",
       "    </tr>\n",
       "    <tr>\n",
       "      <th>16</th>\n",
       "      <td>Indonesia</td>\n",
       "      <td>Asia</td>\n",
       "      <td>258316051</td>\n",
       "      <td>1904569</td>\n",
       "      <td>54716</td>\n",
       "      <td>Rupiah</td>\n",
       "      <td>16.4</td>\n",
       "      <td>6.4</td>\n",
       "      <td>72.7</td>\n",
       "      <td>True</td>\n",
       "    </tr>\n",
       "    <tr>\n",
       "      <th>17</th>\n",
       "      <td>Iraq</td>\n",
       "      <td>Asia</td>\n",
       "      <td>38146025</td>\n",
       "      <td>438317</td>\n",
       "      <td>58</td>\n",
       "      <td>Dinar</td>\n",
       "      <td>30.9</td>\n",
       "      <td>3.8</td>\n",
       "      <td>74.9</td>\n",
       "      <td>True</td>\n",
       "    </tr>\n",
       "    <tr>\n",
       "      <th>18</th>\n",
       "      <td>Iran</td>\n",
       "      <td>Asia</td>\n",
       "      <td>82801633</td>\n",
       "      <td>1648195</td>\n",
       "      <td>2440</td>\n",
       "      <td>Rial</td>\n",
       "      <td>17.8</td>\n",
       "      <td>5.9</td>\n",
       "      <td>71.4</td>\n",
       "      <td>True</td>\n",
       "    </tr>\n",
       "    <tr>\n",
       "      <th>19</th>\n",
       "      <td>Italy</td>\n",
       "      <td>Europe</td>\n",
       "      <td>62007540</td>\n",
       "      <td>301340</td>\n",
       "      <td>7600</td>\n",
       "      <td>Euro</td>\n",
       "      <td>8.7</td>\n",
       "      <td>10.3</td>\n",
       "      <td>82.2</td>\n",
       "      <td>True</td>\n",
       "    </tr>\n",
       "    <tr>\n",
       "      <th>20</th>\n",
       "      <td>Japan</td>\n",
       "      <td>Asia</td>\n",
       "      <td>126702133</td>\n",
       "      <td>377915</td>\n",
       "      <td>29751</td>\n",
       "      <td>Yen</td>\n",
       "      <td>7.8</td>\n",
       "      <td>9.6</td>\n",
       "      <td>85.0</td>\n",
       "      <td>True</td>\n",
       "    </tr>\n",
       "    <tr>\n",
       "      <th>21</th>\n",
       "      <td>Yemen</td>\n",
       "      <td>Asia</td>\n",
       "      <td>27392779</td>\n",
       "      <td>527968</td>\n",
       "      <td>1906</td>\n",
       "      <td>Rial</td>\n",
       "      <td>29.2</td>\n",
       "      <td>6.1</td>\n",
       "      <td>65.5</td>\n",
       "      <td>True</td>\n",
       "    </tr>\n",
       "    <tr>\n",
       "      <th>22</th>\n",
       "      <td>Cameroon</td>\n",
       "      <td>Africa</td>\n",
       "      <td>24360803</td>\n",
       "      <td>475440</td>\n",
       "      <td>402</td>\n",
       "      <td>Franc</td>\n",
       "      <td>35.8</td>\n",
       "      <td>9.8</td>\n",
       "      <td>58.5</td>\n",
       "      <td>True</td>\n",
       "    </tr>\n",
       "    <tr>\n",
       "      <th>23</th>\n",
       "      <td>Canada</td>\n",
       "      <td>North America</td>\n",
       "      <td>35362905</td>\n",
       "      <td>9984670</td>\n",
       "      <td>202080</td>\n",
       "      <td>Dollar</td>\n",
       "      <td>10.3</td>\n",
       "      <td>8.5</td>\n",
       "      <td>81.9</td>\n",
       "      <td>True</td>\n",
       "    </tr>\n",
       "    <tr>\n",
       "      <th>24</th>\n",
       "      <td>Kenya</td>\n",
       "      <td>Africa</td>\n",
       "      <td>46790758</td>\n",
       "      <td>580367</td>\n",
       "      <td>536</td>\n",
       "      <td>Schilling</td>\n",
       "      <td>25.1</td>\n",
       "      <td>6.8</td>\n",
       "      <td>64.0</td>\n",
       "      <td>True</td>\n",
       "    </tr>\n",
       "    <tr>\n",
       "      <th>25</th>\n",
       "      <td>Colombia</td>\n",
       "      <td>South America</td>\n",
       "      <td>47220856</td>\n",
       "      <td>1138910</td>\n",
       "      <td>3208</td>\n",
       "      <td>Peso</td>\n",
       "      <td>16.3</td>\n",
       "      <td>5.4</td>\n",
       "      <td>75.7</td>\n",
       "      <td>True</td>\n",
       "    </tr>\n",
       "    <tr>\n",
       "      <th>26</th>\n",
       "      <td>Madagascar</td>\n",
       "      <td>Africa</td>\n",
       "      <td>24430325</td>\n",
       "      <td>587041</td>\n",
       "      <td>4828</td>\n",
       "      <td>Ariary</td>\n",
       "      <td>32.1</td>\n",
       "      <td>6.7</td>\n",
       "      <td>65.9</td>\n",
       "      <td>True</td>\n",
       "    </tr>\n",
       "    <tr>\n",
       "      <th>27</th>\n",
       "      <td>Malaysia</td>\n",
       "      <td>Asia</td>\n",
       "      <td>30949962</td>\n",
       "      <td>329847</td>\n",
       "      <td>4675</td>\n",
       "      <td>Ringgit</td>\n",
       "      <td>19.4</td>\n",
       "      <td>5.1</td>\n",
       "      <td>75.0</td>\n",
       "      <td>True</td>\n",
       "    </tr>\n",
       "    <tr>\n",
       "      <th>28</th>\n",
       "      <td>Morocco</td>\n",
       "      <td>Africa</td>\n",
       "      <td>33655786</td>\n",
       "      <td>446550</td>\n",
       "      <td>1835</td>\n",
       "      <td>Dirham</td>\n",
       "      <td>18.0</td>\n",
       "      <td>4.8</td>\n",
       "      <td>76.9</td>\n",
       "      <td>True</td>\n",
       "    </tr>\n",
       "    <tr>\n",
       "      <th>29</th>\n",
       "      <td>Mexico</td>\n",
       "      <td>North America</td>\n",
       "      <td>123166749</td>\n",
       "      <td>1964375</td>\n",
       "      <td>9330</td>\n",
       "      <td>Peso</td>\n",
       "      <td>18.5</td>\n",
       "      <td>5.3</td>\n",
       "      <td>75.9</td>\n",
       "      <td>True</td>\n",
       "    </tr>\n",
       "    <tr>\n",
       "      <th>30</th>\n",
       "      <td>Mozambique</td>\n",
       "      <td>Africa</td>\n",
       "      <td>25930150</td>\n",
       "      <td>799380</td>\n",
       "      <td>2470</td>\n",
       "      <td>Metical</td>\n",
       "      <td>38.3</td>\n",
       "      <td>11.9</td>\n",
       "      <td>53.3</td>\n",
       "      <td>True</td>\n",
       "    </tr>\n",
       "    <tr>\n",
       "      <th>31</th>\n",
       "      <td>Burma</td>\n",
       "      <td>Asia</td>\n",
       "      <td>56890418</td>\n",
       "      <td>676578</td>\n",
       "      <td>1930</td>\n",
       "      <td>Kyat</td>\n",
       "      <td>18.2</td>\n",
       "      <td>7.9</td>\n",
       "      <td>66.6</td>\n",
       "      <td>True</td>\n",
       "    </tr>\n",
       "    <tr>\n",
       "      <th>32</th>\n",
       "      <td>Nepal</td>\n",
       "      <td>Asia</td>\n",
       "      <td>29033914</td>\n",
       "      <td>147181</td>\n",
       "      <td>0</td>\n",
       "      <td>Rupie</td>\n",
       "      <td>19.9</td>\n",
       "      <td>5.7</td>\n",
       "      <td>70.7</td>\n",
       "      <td>False</td>\n",
       "    </tr>\n",
       "    <tr>\n",
       "      <th>33</th>\n",
       "      <td>Nigeria</td>\n",
       "      <td>Africa</td>\n",
       "      <td>186053386</td>\n",
       "      <td>923768</td>\n",
       "      <td>853</td>\n",
       "      <td>Naira</td>\n",
       "      <td>37.3</td>\n",
       "      <td>12.7</td>\n",
       "      <td>53.4</td>\n",
       "      <td>True</td>\n",
       "    </tr>\n",
       "    <tr>\n",
       "      <th>34</th>\n",
       "      <td>North Korea</td>\n",
       "      <td>Asia</td>\n",
       "      <td>25115311</td>\n",
       "      <td>120538</td>\n",
       "      <td>2495</td>\n",
       "      <td>Won</td>\n",
       "      <td>14.6</td>\n",
       "      <td>9.3</td>\n",
       "      <td>70.4</td>\n",
       "      <td>True</td>\n",
       "    </tr>\n",
       "    <tr>\n",
       "      <th>35</th>\n",
       "      <td>Pakistan</td>\n",
       "      <td>Asia</td>\n",
       "      <td>201995540</td>\n",
       "      <td>796095</td>\n",
       "      <td>1046</td>\n",
       "      <td>Rupie</td>\n",
       "      <td>22.3</td>\n",
       "      <td>6.4</td>\n",
       "      <td>67.7</td>\n",
       "      <td>True</td>\n",
       "    </tr>\n",
       "    <tr>\n",
       "      <th>36</th>\n",
       "      <td>Peru</td>\n",
       "      <td>South America</td>\n",
       "      <td>30741062</td>\n",
       "      <td>1285216</td>\n",
       "      <td>2414</td>\n",
       "      <td>Nuevo Sol</td>\n",
       "      <td>18.0</td>\n",
       "      <td>6.0</td>\n",
       "      <td>73.7</td>\n",
       "      <td>True</td>\n",
       "    </tr>\n",
       "    <tr>\n",
       "      <th>37</th>\n",
       "      <td>Philippines</td>\n",
       "      <td>Asia</td>\n",
       "      <td>102624209</td>\n",
       "      <td>300000</td>\n",
       "      <td>36289</td>\n",
       "      <td>Peso</td>\n",
       "      <td>24.0</td>\n",
       "      <td>6.1</td>\n",
       "      <td>69.2</td>\n",
       "      <td>True</td>\n",
       "    </tr>\n",
       "    <tr>\n",
       "      <th>38</th>\n",
       "      <td>Poland</td>\n",
       "      <td>Europe</td>\n",
       "      <td>38523261</td>\n",
       "      <td>312685</td>\n",
       "      <td>440</td>\n",
       "      <td>Zloty</td>\n",
       "      <td>9.6</td>\n",
       "      <td>10.3</td>\n",
       "      <td>77.6</td>\n",
       "      <td>True</td>\n",
       "    </tr>\n",
       "    <tr>\n",
       "      <th>39</th>\n",
       "      <td>Romania</td>\n",
       "      <td>Europe</td>\n",
       "      <td>21599736</td>\n",
       "      <td>238391</td>\n",
       "      <td>225</td>\n",
       "      <td>Leu</td>\n",
       "      <td>9.0</td>\n",
       "      <td>11.9</td>\n",
       "      <td>75.1</td>\n",
       "      <td>True</td>\n",
       "    </tr>\n",
       "    <tr>\n",
       "      <th>40</th>\n",
       "      <td>Russia</td>\n",
       "      <td>Europe</td>\n",
       "      <td>142355415</td>\n",
       "      <td>17098242</td>\n",
       "      <td>37653</td>\n",
       "      <td>Rubel</td>\n",
       "      <td>11.3</td>\n",
       "      <td>13.6</td>\n",
       "      <td>70.8</td>\n",
       "      <td>True</td>\n",
       "    </tr>\n",
       "    <tr>\n",
       "      <th>41</th>\n",
       "      <td>Saudi Arabia</td>\n",
       "      <td>Asia</td>\n",
       "      <td>28160273</td>\n",
       "      <td>2149690</td>\n",
       "      <td>2640</td>\n",
       "      <td>Riyal</td>\n",
       "      <td>18.4</td>\n",
       "      <td>3.3</td>\n",
       "      <td>75.3</td>\n",
       "      <td>True</td>\n",
       "    </tr>\n",
       "    <tr>\n",
       "      <th>42</th>\n",
       "      <td>Spain</td>\n",
       "      <td>Europe</td>\n",
       "      <td>48563476</td>\n",
       "      <td>505370</td>\n",
       "      <td>4964</td>\n",
       "      <td>Euro</td>\n",
       "      <td>9.4</td>\n",
       "      <td>9.1</td>\n",
       "      <td>81.7</td>\n",
       "      <td>True</td>\n",
       "    </tr>\n",
       "    <tr>\n",
       "      <th>43</th>\n",
       "      <td>Sri Lanka</td>\n",
       "      <td>Asia</td>\n",
       "      <td>22235000</td>\n",
       "      <td>65610</td>\n",
       "      <td>1340</td>\n",
       "      <td>Rupie</td>\n",
       "      <td>15.5</td>\n",
       "      <td>6.2</td>\n",
       "      <td>76.8</td>\n",
       "      <td>True</td>\n",
       "    </tr>\n",
       "    <tr>\n",
       "      <th>44</th>\n",
       "      <td>South Africa</td>\n",
       "      <td>Africa</td>\n",
       "      <td>54300704</td>\n",
       "      <td>1219090</td>\n",
       "      <td>2798</td>\n",
       "      <td>Rand</td>\n",
       "      <td>20.5</td>\n",
       "      <td>9.6</td>\n",
       "      <td>63.1</td>\n",
       "      <td>True</td>\n",
       "    </tr>\n",
       "    <tr>\n",
       "      <th>45</th>\n",
       "      <td>Sudan</td>\n",
       "      <td>Africa</td>\n",
       "      <td>36729501</td>\n",
       "      <td>1861484</td>\n",
       "      <td>853</td>\n",
       "      <td>Pfund</td>\n",
       "      <td>28.5</td>\n",
       "      <td>7.5</td>\n",
       "      <td>64.1</td>\n",
       "      <td>True</td>\n",
       "    </tr>\n",
       "    <tr>\n",
       "      <th>46</th>\n",
       "      <td>South Korea</td>\n",
       "      <td>Asia</td>\n",
       "      <td>50924172</td>\n",
       "      <td>99720</td>\n",
       "      <td>2413</td>\n",
       "      <td>Won</td>\n",
       "      <td>8.4</td>\n",
       "      <td>5.8</td>\n",
       "      <td>82.4</td>\n",
       "      <td>True</td>\n",
       "    </tr>\n",
       "    <tr>\n",
       "      <th>47</th>\n",
       "      <td>Taiwan</td>\n",
       "      <td>Asia</td>\n",
       "      <td>23464787</td>\n",
       "      <td>35980</td>\n",
       "      <td>1566</td>\n",
       "      <td>Dollar</td>\n",
       "      <td>8.4</td>\n",
       "      <td>7.3</td>\n",
       "      <td>80.1</td>\n",
       "      <td>True</td>\n",
       "    </tr>\n",
       "    <tr>\n",
       "      <th>48</th>\n",
       "      <td>Tanzania</td>\n",
       "      <td>Africa</td>\n",
       "      <td>52482726</td>\n",
       "      <td>947300</td>\n",
       "      <td>1424</td>\n",
       "      <td>Schilling</td>\n",
       "      <td>36.0</td>\n",
       "      <td>7.8</td>\n",
       "      <td>62.2</td>\n",
       "      <td>True</td>\n",
       "    </tr>\n",
       "    <tr>\n",
       "      <th>49</th>\n",
       "      <td>Thailand</td>\n",
       "      <td>Asia</td>\n",
       "      <td>68200824</td>\n",
       "      <td>513120</td>\n",
       "      <td>3219</td>\n",
       "      <td>Baht</td>\n",
       "      <td>11.1</td>\n",
       "      <td>7.9</td>\n",
       "      <td>74.7</td>\n",
       "      <td>True</td>\n",
       "    </tr>\n",
       "    <tr>\n",
       "      <th>50</th>\n",
       "      <td>Turkey</td>\n",
       "      <td>Asia</td>\n",
       "      <td>80274604</td>\n",
       "      <td>783562</td>\n",
       "      <td>7200</td>\n",
       "      <td>Lira</td>\n",
       "      <td>16.0</td>\n",
       "      <td>5.9</td>\n",
       "      <td>74.8</td>\n",
       "      <td>True</td>\n",
       "    </tr>\n",
       "    <tr>\n",
       "      <th>51</th>\n",
       "      <td>Uganda</td>\n",
       "      <td>Africa</td>\n",
       "      <td>38319241</td>\n",
       "      <td>241038</td>\n",
       "      <td>0</td>\n",
       "      <td>Schilling</td>\n",
       "      <td>43.4</td>\n",
       "      <td>10.4</td>\n",
       "      <td>55.4</td>\n",
       "      <td>False</td>\n",
       "    </tr>\n",
       "    <tr>\n",
       "      <th>52</th>\n",
       "      <td>Ukraine</td>\n",
       "      <td>Europe</td>\n",
       "      <td>44209733</td>\n",
       "      <td>603550</td>\n",
       "      <td>2782</td>\n",
       "      <td>Hrywnja</td>\n",
       "      <td>10.5</td>\n",
       "      <td>14.4</td>\n",
       "      <td>71.8</td>\n",
       "      <td>True</td>\n",
       "    </tr>\n",
       "    <tr>\n",
       "      <th>53</th>\n",
       "      <td>Uzbekistan</td>\n",
       "      <td>Asia</td>\n",
       "      <td>29473614</td>\n",
       "      <td>447400</td>\n",
       "      <td>0</td>\n",
       "      <td>So'm</td>\n",
       "      <td>16.9</td>\n",
       "      <td>5.3</td>\n",
       "      <td>73.8</td>\n",
       "      <td>False</td>\n",
       "    </tr>\n",
       "    <tr>\n",
       "      <th>54</th>\n",
       "      <td>Venezuela</td>\n",
       "      <td>South America</td>\n",
       "      <td>30912302</td>\n",
       "      <td>912050</td>\n",
       "      <td>2800</td>\n",
       "      <td>Bolívar Fuerte</td>\n",
       "      <td>19.2</td>\n",
       "      <td>5.2</td>\n",
       "      <td>75.8</td>\n",
       "      <td>True</td>\n",
       "    </tr>\n",
       "    <tr>\n",
       "      <th>55</th>\n",
       "      <td>United States</td>\n",
       "      <td>North America</td>\n",
       "      <td>323995528</td>\n",
       "      <td>9826675</td>\n",
       "      <td>19924</td>\n",
       "      <td>Dollar</td>\n",
       "      <td>12.5</td>\n",
       "      <td>8.2</td>\n",
       "      <td>79.8</td>\n",
       "      <td>True</td>\n",
       "    </tr>\n",
       "    <tr>\n",
       "      <th>56</th>\n",
       "      <td>United Kingdom</td>\n",
       "      <td>Europe</td>\n",
       "      <td>64430428</td>\n",
       "      <td>243610</td>\n",
       "      <td>12429</td>\n",
       "      <td>Pfund</td>\n",
       "      <td>12.1</td>\n",
       "      <td>9.4</td>\n",
       "      <td>80.7</td>\n",
       "      <td>True</td>\n",
       "    </tr>\n",
       "    <tr>\n",
       "      <th>57</th>\n",
       "      <td>Vietnam</td>\n",
       "      <td>Asia</td>\n",
       "      <td>95261021</td>\n",
       "      <td>331210</td>\n",
       "      <td>3444</td>\n",
       "      <td>Dong</td>\n",
       "      <td>15.7</td>\n",
       "      <td>5.9</td>\n",
       "      <td>73.4</td>\n",
       "      <td>True</td>\n",
       "    </tr>\n",
       "  </tbody>\n",
       "</table>\n",
       "</div>"
      ],
      "text/plain": [
       "                             country      continent  population      area  \\\n",
       "0                        Afghanistan           Asia    33332025    652230   \n",
       "1                              Egypt         Africa    94666993   1001450   \n",
       "2                            Algeria         Africa    40263711   2381741   \n",
       "3                             Angola         Africa    20172332   1246700   \n",
       "4                          Argentina  South America    43886748   2780400   \n",
       "5                           Ethiopia         Africa   102374044   1104300   \n",
       "6                          Australia      Australia    22992654   7741220   \n",
       "7                         Bangladesh           Asia   156186882    143998   \n",
       "8                             Brazil  South America   205823665   8514877   \n",
       "9                              China           Asia  1373541278   9596960   \n",
       "10  Democratic Republic of the Congo         Africa    81331050   2344858   \n",
       "11                           Germany         Europe    80722792    357022   \n",
       "12                       Ivory Coast         Africa    23740424    322463   \n",
       "13                            France         Europe    66836154    643801   \n",
       "14                             Ghana         Africa    26908262    238533   \n",
       "15                             India           Asia  1266883598   3287263   \n",
       "16                         Indonesia           Asia   258316051   1904569   \n",
       "17                              Iraq           Asia    38146025    438317   \n",
       "18                              Iran           Asia    82801633   1648195   \n",
       "19                             Italy         Europe    62007540    301340   \n",
       "20                             Japan           Asia   126702133    377915   \n",
       "21                             Yemen           Asia    27392779    527968   \n",
       "22                          Cameroon         Africa    24360803    475440   \n",
       "23                            Canada  North America    35362905   9984670   \n",
       "24                             Kenya         Africa    46790758    580367   \n",
       "25                          Colombia  South America    47220856   1138910   \n",
       "26                        Madagascar         Africa    24430325    587041   \n",
       "27                          Malaysia           Asia    30949962    329847   \n",
       "28                           Morocco         Africa    33655786    446550   \n",
       "29                            Mexico  North America   123166749   1964375   \n",
       "30                        Mozambique         Africa    25930150    799380   \n",
       "31                             Burma           Asia    56890418    676578   \n",
       "32                             Nepal           Asia    29033914    147181   \n",
       "33                           Nigeria         Africa   186053386    923768   \n",
       "34                       North Korea           Asia    25115311    120538   \n",
       "35                          Pakistan           Asia   201995540    796095   \n",
       "36                              Peru  South America    30741062   1285216   \n",
       "37                       Philippines           Asia   102624209    300000   \n",
       "38                            Poland         Europe    38523261    312685   \n",
       "39                           Romania         Europe    21599736    238391   \n",
       "40                            Russia         Europe   142355415  17098242   \n",
       "41                      Saudi Arabia           Asia    28160273   2149690   \n",
       "42                             Spain         Europe    48563476    505370   \n",
       "43                         Sri Lanka           Asia    22235000     65610   \n",
       "44                      South Africa         Africa    54300704   1219090   \n",
       "45                             Sudan         Africa    36729501   1861484   \n",
       "46                       South Korea           Asia    50924172     99720   \n",
       "47                            Taiwan           Asia    23464787     35980   \n",
       "48                          Tanzania         Africa    52482726    947300   \n",
       "49                          Thailand           Asia    68200824    513120   \n",
       "50                            Turkey           Asia    80274604    783562   \n",
       "51                            Uganda         Africa    38319241    241038   \n",
       "52                           Ukraine         Europe    44209733    603550   \n",
       "53                        Uzbekistan           Asia    29473614    447400   \n",
       "54                         Venezuela  South America    30912302    912050   \n",
       "55                     United States  North America   323995528   9826675   \n",
       "56                    United Kingdom         Europe    64430428    243610   \n",
       "57                           Vietnam           Asia    95261021    331210   \n",
       "\n",
       "    coastline        currency  birthrate  deathrate  life expectancy coastal  \n",
       "0           0         Afghani       38.3       13.7             51.3   False  \n",
       "1        2450           Pfund       30.3        4.7             72.7    True  \n",
       "2         998           Dinar       23.0        4.3             76.8    True  \n",
       "3        1600          Kwanza       38.6       11.3             56.0    True  \n",
       "4        4989            Peso       17.0        7.5             77.1    True  \n",
       "5           0            Birr       36.9        7.9             62.2   False  \n",
       "6       25760          Dollar       12.1        7.2             82.2    True  \n",
       "7         580            Taka       19.0        5.3             73.2    True  \n",
       "8        7491            Real       14.3        6.6             73.8    True  \n",
       "9       14500            Yuan       12.4        7.7             75.5    True  \n",
       "10         37           Franc       34.2        9.9             57.3    True  \n",
       "11       2389            Euro        8.5       11.6             80.7    True  \n",
       "12        515           Franc       28.2        9.5             58.7    True  \n",
       "13       3427            Euro       12.3        9.3             81.8    True  \n",
       "14        539      Ghana Cedi       30.8        7.1             66.6    True  \n",
       "15       7000           Rupie       19.3        7.3             68.5    True  \n",
       "16      54716          Rupiah       16.4        6.4             72.7    True  \n",
       "17         58           Dinar       30.9        3.8             74.9    True  \n",
       "18       2440            Rial       17.8        5.9             71.4    True  \n",
       "19       7600            Euro        8.7       10.3             82.2    True  \n",
       "20      29751             Yen        7.8        9.6             85.0    True  \n",
       "21       1906            Rial       29.2        6.1             65.5    True  \n",
       "22        402           Franc       35.8        9.8             58.5    True  \n",
       "23     202080          Dollar       10.3        8.5             81.9    True  \n",
       "24        536       Schilling       25.1        6.8             64.0    True  \n",
       "25       3208            Peso       16.3        5.4             75.7    True  \n",
       "26       4828          Ariary       32.1        6.7             65.9    True  \n",
       "27       4675         Ringgit       19.4        5.1             75.0    True  \n",
       "28       1835          Dirham       18.0        4.8             76.9    True  \n",
       "29       9330            Peso       18.5        5.3             75.9    True  \n",
       "30       2470         Metical       38.3       11.9             53.3    True  \n",
       "31       1930            Kyat       18.2        7.9             66.6    True  \n",
       "32          0           Rupie       19.9        5.7             70.7   False  \n",
       "33        853           Naira       37.3       12.7             53.4    True  \n",
       "34       2495             Won       14.6        9.3             70.4    True  \n",
       "35       1046           Rupie       22.3        6.4             67.7    True  \n",
       "36       2414       Nuevo Sol       18.0        6.0             73.7    True  \n",
       "37      36289            Peso       24.0        6.1             69.2    True  \n",
       "38        440           Zloty        9.6       10.3             77.6    True  \n",
       "39        225             Leu        9.0       11.9             75.1    True  \n",
       "40      37653           Rubel       11.3       13.6             70.8    True  \n",
       "41       2640           Riyal       18.4        3.3             75.3    True  \n",
       "42       4964            Euro        9.4        9.1             81.7    True  \n",
       "43       1340           Rupie       15.5        6.2             76.8    True  \n",
       "44       2798            Rand       20.5        9.6             63.1    True  \n",
       "45        853           Pfund       28.5        7.5             64.1    True  \n",
       "46       2413             Won        8.4        5.8             82.4    True  \n",
       "47       1566          Dollar        8.4        7.3             80.1    True  \n",
       "48       1424       Schilling       36.0        7.8             62.2    True  \n",
       "49       3219            Baht       11.1        7.9             74.7    True  \n",
       "50       7200            Lira       16.0        5.9             74.8    True  \n",
       "51          0       Schilling       43.4       10.4             55.4   False  \n",
       "52       2782         Hrywnja       10.5       14.4             71.8    True  \n",
       "53          0            So'm       16.9        5.3             73.8   False  \n",
       "54       2800  Bolívar Fuerte       19.2        5.2             75.8    True  \n",
       "55      19924          Dollar       12.5        8.2             79.8    True  \n",
       "56      12429           Pfund       12.1        9.4             80.7    True  \n",
       "57       3444            Dong       15.7        5.9             73.4    True  "
      ]
     },
     "execution_count": 133,
     "metadata": {},
     "output_type": "execute_result"
    }
   ],
   "source": [
    "Country=Country[['Country','Continent','Population','Area','Coastline',\n",
    "                'Currency','Birthrate','Deathrate','Life expectancy']]\n",
    "Country.columns = Country.columns.str.lower()\n",
    "Country=Country.dropna(axis=0, how='any')\n",
    "Country=Country[Country['population']>20000000]\n",
    "Country=Country.reset_index()\n",
    "del(Country['index'])\n",
    "Country['coastal']=Country['coastline']!=0\n",
    "Country"
   ]
  },
  {
   "cell_type": "markdown",
   "metadata": {},
   "source": [
    "To group the countries by continent, do the following:"
   ]
  },
  {
   "cell_type": "code",
   "execution_count": 134,
   "metadata": {
    "collapsed": false
   },
   "outputs": [],
   "source": [
    "group = Country.groupby('continent')"
   ]
  },
  {
   "cell_type": "markdown",
   "metadata": {},
   "source": [
    "`group` is assigned the value returned by the `groupby` function, whose type is:"
   ]
  },
  {
   "cell_type": "code",
   "execution_count": 135,
   "metadata": {
    "collapsed": false
   },
   "outputs": [
    {
     "name": "stdout",
     "output_type": "stream",
     "text": [
      "<class 'pandas.core.groupby.DataFrameGroupBy'>\n"
     ]
    }
   ],
   "source": [
    "print(type(group))"
   ]
  },
  {
   "cell_type": "markdown",
   "metadata": {},
   "source": [
    "The `DataFrameGroupBy` object is an `iterable`. Iterate over the object and print the contents, as follows:"
   ]
  },
  {
   "cell_type": "code",
   "execution_count": 136,
   "metadata": {
    "collapsed": false
   },
   "outputs": [
    {
     "name": "stdout",
     "output_type": "stream",
     "text": [
      "('Africa',                              country continent  population     area  \\\n",
      "1                              Egypt    Africa    94666993  1001450   \n",
      "2                            Algeria    Africa    40263711  2381741   \n",
      "3                             Angola    Africa    20172332  1246700   \n",
      "5                           Ethiopia    Africa   102374044  1104300   \n",
      "10  Democratic Republic of the Congo    Africa    81331050  2344858   \n",
      "12                       Ivory Coast    Africa    23740424   322463   \n",
      "14                             Ghana    Africa    26908262   238533   \n",
      "22                          Cameroon    Africa    24360803   475440   \n",
      "24                             Kenya    Africa    46790758   580367   \n",
      "26                        Madagascar    Africa    24430325   587041   \n",
      "28                           Morocco    Africa    33655786   446550   \n",
      "30                        Mozambique    Africa    25930150   799380   \n",
      "33                           Nigeria    Africa   186053386   923768   \n",
      "44                      South Africa    Africa    54300704  1219090   \n",
      "45                             Sudan    Africa    36729501  1861484   \n",
      "48                          Tanzania    Africa    52482726   947300   \n",
      "51                            Uganda    Africa    38319241   241038   \n",
      "\n",
      "    coastline    currency  birthrate  deathrate  life expectancy coastal  \n",
      "1        2450       Pfund       30.3        4.7             72.7    True  \n",
      "2         998       Dinar       23.0        4.3             76.8    True  \n",
      "3        1600      Kwanza       38.6       11.3             56.0    True  \n",
      "5           0        Birr       36.9        7.9             62.2   False  \n",
      "10         37       Franc       34.2        9.9             57.3    True  \n",
      "12        515       Franc       28.2        9.5             58.7    True  \n",
      "14        539  Ghana Cedi       30.8        7.1             66.6    True  \n",
      "22        402       Franc       35.8        9.8             58.5    True  \n",
      "24        536   Schilling       25.1        6.8             64.0    True  \n",
      "26       4828      Ariary       32.1        6.7             65.9    True  \n",
      "28       1835      Dirham       18.0        4.8             76.9    True  \n",
      "30       2470     Metical       38.3       11.9             53.3    True  \n",
      "33        853       Naira       37.3       12.7             53.4    True  \n",
      "44       2798        Rand       20.5        9.6             63.1    True  \n",
      "45        853       Pfund       28.5        7.5             64.1    True  \n",
      "48       1424   Schilling       36.0        7.8             62.2    True  \n",
      "51          0   Schilling       43.4       10.4             55.4   False  )\n",
      "('Asia',          country continent  population     area  coastline currency  \\\n",
      "0    Afghanistan      Asia    33332025   652230          0  Afghani   \n",
      "7     Bangladesh      Asia   156186882   143998        580     Taka   \n",
      "9          China      Asia  1373541278  9596960      14500     Yuan   \n",
      "15         India      Asia  1266883598  3287263       7000    Rupie   \n",
      "16     Indonesia      Asia   258316051  1904569      54716   Rupiah   \n",
      "17          Iraq      Asia    38146025   438317         58    Dinar   \n",
      "18          Iran      Asia    82801633  1648195       2440     Rial   \n",
      "20         Japan      Asia   126702133   377915      29751      Yen   \n",
      "21         Yemen      Asia    27392779   527968       1906     Rial   \n",
      "27      Malaysia      Asia    30949962   329847       4675  Ringgit   \n",
      "31         Burma      Asia    56890418   676578       1930     Kyat   \n",
      "32         Nepal      Asia    29033914   147181          0    Rupie   \n",
      "34   North Korea      Asia    25115311   120538       2495      Won   \n",
      "35      Pakistan      Asia   201995540   796095       1046    Rupie   \n",
      "37   Philippines      Asia   102624209   300000      36289     Peso   \n",
      "41  Saudi Arabia      Asia    28160273  2149690       2640    Riyal   \n",
      "43     Sri Lanka      Asia    22235000    65610       1340    Rupie   \n",
      "46   South Korea      Asia    50924172    99720       2413      Won   \n",
      "47        Taiwan      Asia    23464787    35980       1566   Dollar   \n",
      "49      Thailand      Asia    68200824   513120       3219     Baht   \n",
      "50        Turkey      Asia    80274604   783562       7200     Lira   \n",
      "53    Uzbekistan      Asia    29473614   447400          0     So'm   \n",
      "57       Vietnam      Asia    95261021   331210       3444     Dong   \n",
      "\n",
      "    birthrate  deathrate  life expectancy coastal  \n",
      "0        38.3       13.7             51.3   False  \n",
      "7        19.0        5.3             73.2    True  \n",
      "9        12.4        7.7             75.5    True  \n",
      "15       19.3        7.3             68.5    True  \n",
      "16       16.4        6.4             72.7    True  \n",
      "17       30.9        3.8             74.9    True  \n",
      "18       17.8        5.9             71.4    True  \n",
      "20        7.8        9.6             85.0    True  \n",
      "21       29.2        6.1             65.5    True  \n",
      "27       19.4        5.1             75.0    True  \n",
      "31       18.2        7.9             66.6    True  \n",
      "32       19.9        5.7             70.7   False  \n",
      "34       14.6        9.3             70.4    True  \n",
      "35       22.3        6.4             67.7    True  \n",
      "37       24.0        6.1             69.2    True  \n",
      "41       18.4        3.3             75.3    True  \n",
      "43       15.5        6.2             76.8    True  \n",
      "46        8.4        5.8             82.4    True  \n",
      "47        8.4        7.3             80.1    True  \n",
      "49       11.1        7.9             74.7    True  \n",
      "50       16.0        5.9             74.8    True  \n",
      "53       16.9        5.3             73.8   False  \n",
      "57       15.7        5.9             73.4    True  )\n",
      "('Australia',      country  continent  population     area  coastline currency  birthrate  \\\n",
      "6  Australia  Australia    22992654  7741220      25760   Dollar       12.1   \n",
      "\n",
      "   deathrate  life expectancy coastal  \n",
      "6        7.2             82.2    True  )\n",
      "('Europe',            country continent  population      area  coastline currency  \\\n",
      "11         Germany    Europe    80722792    357022       2389     Euro   \n",
      "13          France    Europe    66836154    643801       3427     Euro   \n",
      "19           Italy    Europe    62007540    301340       7600     Euro   \n",
      "38          Poland    Europe    38523261    312685        440    Zloty   \n",
      "39         Romania    Europe    21599736    238391        225      Leu   \n",
      "40          Russia    Europe   142355415  17098242      37653    Rubel   \n",
      "42           Spain    Europe    48563476    505370       4964     Euro   \n",
      "52         Ukraine    Europe    44209733    603550       2782  Hrywnja   \n",
      "56  United Kingdom    Europe    64430428    243610      12429    Pfund   \n",
      "\n",
      "    birthrate  deathrate  life expectancy coastal  \n",
      "11        8.5       11.6             80.7    True  \n",
      "13       12.3        9.3             81.8    True  \n",
      "19        8.7       10.3             82.2    True  \n",
      "38        9.6       10.3             77.6    True  \n",
      "39        9.0       11.9             75.1    True  \n",
      "40       11.3       13.6             70.8    True  \n",
      "42        9.4        9.1             81.7    True  \n",
      "52       10.5       14.4             71.8    True  \n",
      "56       12.1        9.4             80.7    True  )\n",
      "('North America',           country      continent  population     area  coastline currency  \\\n",
      "23         Canada  North America    35362905  9984670     202080   Dollar   \n",
      "29         Mexico  North America   123166749  1964375       9330     Peso   \n",
      "55  United States  North America   323995528  9826675      19924   Dollar   \n",
      "\n",
      "    birthrate  deathrate  life expectancy coastal  \n",
      "23       10.3        8.5             81.9    True  \n",
      "29       18.5        5.3             75.9    True  \n",
      "55       12.5        8.2             79.8    True  )\n",
      "('South America',       country      continent  population     area  coastline        currency  \\\n",
      "4   Argentina  South America    43886748  2780400       4989            Peso   \n",
      "8      Brazil  South America   205823665  8514877       7491            Real   \n",
      "25   Colombia  South America    47220856  1138910       3208            Peso   \n",
      "36       Peru  South America    30741062  1285216       2414       Nuevo Sol   \n",
      "54  Venezuela  South America    30912302   912050       2800  Bolívar Fuerte   \n",
      "\n",
      "    birthrate  deathrate  life expectancy coastal  \n",
      "4        17.0        7.5             77.1    True  \n",
      "8        14.3        6.6             73.8    True  \n",
      "25       16.3        5.4             75.7    True  \n",
      "36       18.0        6.0             73.7    True  \n",
      "54       19.2        5.2             75.8    True  )\n"
     ]
    }
   ],
   "source": [
    "for item in group:\n",
    "    print(item)"
   ]
  },
  {
   "cell_type": "markdown",
   "metadata": {},
   "source": [
    "Each `item` we print is a `tuple`. In Python, there is an alternative way of iteration:"
   ]
  },
  {
   "cell_type": "code",
   "execution_count": 68,
   "metadata": {
    "collapsed": false
   },
   "outputs": [
    {
     "name": "stdout",
     "output_type": "stream",
     "text": [
      "Africa\n",
      "----------------------------------------------------------------------\n",
      "                             country continent  population     area  \\\n",
      "1                              Egypt    Africa    94666993  1001450   \n",
      "2                            Algeria    Africa    40263711  2381741   \n",
      "3                             Angola    Africa    20172332  1246700   \n",
      "5                           Ethiopia    Africa   102374044  1104300   \n",
      "9                              Benin    Africa    10741458   112622   \n",
      "12                      Burkina Faso    Africa    19512533   274200   \n",
      "13                           Burundi    Africa    11099298    27830   \n",
      "16  Democratic Republic of the Congo    Africa    81331050  2344858   \n",
      "20                       Ivory Coast    Africa    23740424   322463   \n",
      "22                             Ghana    Africa    26908262   238533   \n",
      "25                            Guinea    Africa    12093349   245857   \n",
      "35                          Cameroon    Africa    24360803   475440   \n",
      "38                             Kenya    Africa    46790758   580367   \n",
      "41                        Madagascar    Africa    24430325   587041   \n",
      "42                            Malawi    Africa    18570321   118484   \n",
      "44                              Mali    Africa    17467108  1240192   \n",
      "45                           Morocco    Africa    33655786   446550   \n",
      "47                        Mozambique    Africa    25930150   799380   \n",
      "51                             Niger    Africa    18638600  1267000   \n",
      "52                           Nigeria    Africa   186053386   923768   \n",
      "59                            Rwanda    Africa    12988423    26338   \n",
      "62                            Zambia    Africa    15510711   752618   \n",
      "64                           Senegal    Africa    14320055   196722   \n",
      "65                          Zimbabwe    Africa    14546961   390757   \n",
      "66                           Somalia    Africa    10817354   637657   \n",
      "69                      South Africa    Africa    54300704  1219090   \n",
      "70                             Sudan    Africa    36729501  1861484   \n",
      "72                       South Sudan    Africa    12530717   644329   \n",
      "75                          Tanzania    Africa    52482726   947300   \n",
      "77                              Chad    Africa    11852462  1284000   \n",
      "79                           Tunisia    Africa    11134588   163610   \n",
      "81                            Uganda    Africa    38319241   241038   \n",
      "\n",
      "    coastline    currency  birthrate  deathrate  life expectancy coastal  \n",
      "1        2450       Pfund       30.3        4.7             72.7    True  \n",
      "2         998       Dinar       23.0        4.3             76.8    True  \n",
      "3        1600      Kwanza       38.6       11.3             56.0    True  \n",
      "5           0        Birr       36.9        7.9             62.2   False  \n",
      "9         121       Franc       35.5        8.0             61.9    True  \n",
      "12          0       Franc       41.6       11.5             55.5   False  \n",
      "13          0       Franc       41.7        9.0             60.5   False  \n",
      "16         37       Franc       34.2        9.9             57.3    True  \n",
      "20        515       Franc       28.2        9.5             58.7    True  \n",
      "22        539  Ghana Cedi       30.8        7.1             66.6    True  \n",
      "25        320       Franc       35.4        9.2             60.6    True  \n",
      "35        402       Franc       35.8        9.8             58.5    True  \n",
      "38        536   Schilling       25.1        6.8             64.0    True  \n",
      "41       4828      Ariary       32.1        6.7             65.9    True  \n",
      "42          0      Kwacha       41.3        8.1             61.2   False  \n",
      "44          0       Franc       44.4       12.6             55.8   False  \n",
      "45       1835      Dirham       18.0        4.8             76.9    True  \n",
      "47       2470     Metical       38.3       11.9             53.3    True  \n",
      "51          0       Franc       44.8       12.1             55.5   False  \n",
      "52        853       Naira       37.3       12.7             53.4    True  \n",
      "59          0       Franc       33.3        8.8             60.1   False  \n",
      "62          0      Kwacha       41.8       12.4             52.5   False  \n",
      "64        531       Franc       34.0        8.3             61.7    True  \n",
      "65          0      Dollar       31.9        9.9             58.0   False  \n",
      "66       3025   Schilling       40.0       13.3             52.4    True  \n",
      "69       2798        Rand       20.5        9.6             63.1    True  \n",
      "70        853       Pfund       28.5        7.5             64.1    True  \n",
      "72          0       Pfund       36.2        8.0              0.0   False  \n",
      "75       1424   Schilling       36.0        7.8             62.2    True  \n",
      "77          0       Franc       36.1       14.0             50.2   False  \n",
      "79       1148       Dinar       16.4        6.0             76.1    True  \n",
      "81          0   Schilling       43.4       10.4             55.4   False  \n",
      "\n",
      "\n",
      "Asia\n",
      "----------------------------------------------------------------------\n",
      "         country continent  population     area  coastline currency  \\\n",
      "0    Afghanistan      Asia    33332025   652230          0  Afghani   \n",
      "7     Bangladesh      Asia   156186882   143998        580     Taka   \n",
      "15         China      Asia  1373541278  9596960      14500     Yuan   \n",
      "27         India      Asia  1266883598  3287263       7000    Rupie   \n",
      "28     Indonesia      Asia   258316051  1904569      54716   Rupiah   \n",
      "29          Iraq      Asia    38146025   438317         58    Dinar   \n",
      "30          Iran      Asia    82801633  1648195       2440     Rial   \n",
      "32         Japan      Asia   126702133   377915      29751      Yen   \n",
      "33         Yemen      Asia    27392779   527968       1906     Rial   \n",
      "34      Cambodia      Asia    15957223   181035        443     Riel   \n",
      "37    Kazakhstan      Asia    18360353  2724900          0    Tenge   \n",
      "43      Malaysia      Asia    30949962   329847       4675  Ringgit   \n",
      "48         Burma      Asia    56890418   676578       1930     Kyat   \n",
      "49         Nepal      Asia    29033914   147181          0    Rupie   \n",
      "53   North Korea      Asia    25115311   120538       2495      Won   \n",
      "54      Pakistan      Asia   201995540   796095       1046    Rupie   \n",
      "56   Philippines      Asia   102624209   300000      36289     Peso   \n",
      "63  Saudi Arabia      Asia    28160273  2149690       2640    Riyal   \n",
      "68     Sri Lanka      Asia    22235000    65610       1340    Rupie   \n",
      "71   South Korea      Asia    50924172    99720       2413      Won   \n",
      "73         Syria      Asia    17185170   185180        193    Pfund   \n",
      "74        Taiwan      Asia    23464787    35980       1566   Dollar   \n",
      "76      Thailand      Asia    68200824   513120       3219     Baht   \n",
      "80        Turkey      Asia    80274604   783562       7200     Lira   \n",
      "83    Uzbekistan      Asia    29473614   447400          0     So'm   \n",
      "87       Vietnam      Asia    95261021   331210       3444     Dong   \n",
      "\n",
      "    birthrate  deathrate  life expectancy coastal  \n",
      "0        38.3       13.7             51.3   False  \n",
      "7        19.0        5.3             73.2    True  \n",
      "15       12.4        7.7             75.5    True  \n",
      "27       19.3        7.3             68.5    True  \n",
      "28       16.4        6.4             72.7    True  \n",
      "29       30.9        3.8             74.9    True  \n",
      "30       17.8        5.9             71.4    True  \n",
      "32        7.8        9.6             85.0    True  \n",
      "33       29.2        6.1             65.5    True  \n",
      "34       23.4        7.6             64.5    True  \n",
      "37       18.7        8.2             70.8   False  \n",
      "43       19.4        5.1             75.0    True  \n",
      "48       18.2        7.9             66.6    True  \n",
      "49       19.9        5.7             70.7   False  \n",
      "53       14.6        9.3             70.4    True  \n",
      "54       22.3        6.4             67.7    True  \n",
      "56       24.0        6.1             69.2    True  \n",
      "63       18.4        3.3             75.3    True  \n",
      "68       15.5        6.2             76.8    True  \n",
      "71        8.4        5.8             82.4    True  \n",
      "73       21.7        4.0             74.9    True  \n",
      "74        8.4        7.3             80.1    True  \n",
      "76       11.1        7.9             74.7    True  \n",
      "80       16.0        5.9             74.8    True  \n",
      "83       16.9        5.3             73.8   False  \n",
      "87       15.7        5.9             73.4    True  \n",
      "\n",
      "\n",
      "Australia\n",
      "----------------------------------------------------------------------\n",
      "     country  continent  population     area  coastline currency  birthrate  \\\n",
      "6  Australia  Australia    22992654  7741220      25760   Dollar       12.1   \n",
      "\n",
      "   deathrate  life expectancy coastal  \n",
      "6        7.2             82.2    True  \n",
      "\n",
      "\n",
      "Central America\n",
      "----------------------------------------------------------------------\n",
      "      country        continent  population    area  coastline currency  \\\n",
      "24  Guatemala  Central America    15189958  108889        400  Quetzal   \n",
      "\n",
      "    birthrate  deathrate  life expectancy coastal  \n",
      "24       24.5        4.7             72.3    True  \n",
      "\n",
      "\n",
      "Europe\n",
      "----------------------------------------------------------------------\n",
      "           country continent  population      area  coastline currency  \\\n",
      "8          Belgium    Europe    11409077     30528         67     Euro   \n",
      "17         Germany    Europe    80722792    357022       2389     Euro   \n",
      "21          France    Europe    66836154    643801       3427     Euro   \n",
      "23          Greece    Europe    10773253    131957      13676     Euro   \n",
      "31           Italy    Europe    62007540    301340       7600     Euro   \n",
      "50     Netherlands    Europe    17016967     41543        451     Euro   \n",
      "57          Poland    Europe    38523261    312685        440    Zloty   \n",
      "58        Portugal    Europe    10833816     92090       1793     Euro   \n",
      "60         Romania    Europe    21599736    238391        225      Leu   \n",
      "61          Russia    Europe   142355415  17098242      37653    Rubel   \n",
      "67           Spain    Europe    48563476    505370       4964     Euro   \n",
      "78  Czech Republic    Europe    10644842     78867          0    Krone   \n",
      "82         Ukraine    Europe    44209733    603550       2782  Hrywnja   \n",
      "86  United Kingdom    Europe    64430428    243610      12429    Pfund   \n",
      "\n",
      "    birthrate  deathrate  life expectancy coastal  \n",
      "8        11.4        9.7             81.0    True  \n",
      "17        8.5       11.6             80.7    True  \n",
      "21       12.3        9.3             81.8    True  \n",
      "23        8.5       11.2             80.5    True  \n",
      "31        8.7       10.3             82.2    True  \n",
      "50       10.9        8.8             81.3    True  \n",
      "57        9.6       10.3             77.6    True  \n",
      "58        9.1       11.1             79.3    True  \n",
      "60        9.0       11.9             75.1    True  \n",
      "61       11.3       13.6             70.8    True  \n",
      "67        9.4        9.1             81.7    True  \n",
      "78        9.5       10.4             78.6   False  \n",
      "82       10.5       14.4             71.8    True  \n",
      "86       12.1        9.4             80.7    True  \n",
      "\n",
      "\n",
      "North America\n",
      "----------------------------------------------------------------------\n",
      "               country      continent  population     area  coastline  \\\n",
      "18  Dominican Republic  North America    10606865    48670       1288   \n",
      "26               Haiti  North America    10485800    27750       1771   \n",
      "36              Canada  North America    35362905  9984670     202080   \n",
      "40                Cuba  North America    11179995   110860       3735   \n",
      "46              Mexico  North America   123166749  1964375       9330   \n",
      "85       United States  North America   323995528  9826675      19924   \n",
      "\n",
      "   currency  birthrate  deathrate  life expectancy coastal  \n",
      "18     Peso       18.6        4.6             78.1    True  \n",
      "26   Gourde       23.3        7.7             63.8    True  \n",
      "36   Dollar       10.3        8.5             81.9    True  \n",
      "40     Peso       10.8        8.6             78.7    True  \n",
      "46     Peso       18.5        5.3             75.9    True  \n",
      "85   Dollar       12.5        8.2             79.8    True  \n",
      "\n",
      "\n",
      "South America\n",
      "----------------------------------------------------------------------\n",
      "      country      continent  population     area  coastline        currency  \\\n",
      "4   Argentina  South America    43886748  2780400       4989            Peso   \n",
      "10    Bolivia  South America    10969649  1098581          0       Boliviano   \n",
      "11     Brazil  South America   205823665  8514877       7491            Real   \n",
      "14      Chile  South America    17650114   756102       6435            Peso   \n",
      "19    Ecuador  South America    16080778   283561       2237          Dollar   \n",
      "39   Colombia  South America    47220856  1138910       3208            Peso   \n",
      "55       Peru  South America    30741062  1285216       2414       Nuevo Sol   \n",
      "84  Venezuela  South America    30912302   912050       2800  Bolívar Fuerte   \n",
      "\n",
      "    birthrate  deathrate  life expectancy coastal  \n",
      "4        17.0        7.5             77.1    True  \n",
      "10       22.4        6.5             69.2   False  \n",
      "11       14.3        6.6             73.8    True  \n",
      "14       13.7        6.1             78.8    True  \n",
      "19       18.2        5.1             76.8    True  \n",
      "39       16.3        5.4             75.7    True  \n",
      "55       18.0        6.0             73.7    True  \n",
      "84       19.2        5.2             75.8    True  \n",
      "\n",
      "\n"
     ]
    }
   ],
   "source": [
    "for key, values in group:\n",
    "    print(key)\n",
    "    print('-'*70)\n",
    "    print(values)\n",
    "    print('\\n')"
   ]
  },
  {
   "cell_type": "markdown",
   "metadata": {},
   "source": [
    "This is a great way to print and inspect a `DataFrameGroupBy` object. Above was an example of **splitting**.\n",
    "\n",
    "**Applying** and **combining** are often done together with a single function. For example: "
   ]
  },
  {
   "cell_type": "code",
   "execution_count": 138,
   "metadata": {
    "collapsed": false
   },
   "outputs": [
    {
     "data": {
      "text/plain": [
       "continent\n",
       "Africa           17\n",
       "Asia             23\n",
       "Australia         1\n",
       "Europe            9\n",
       "North America     3\n",
       "South America     5\n",
       "dtype: int64"
      ]
     },
     "execution_count": 138,
     "metadata": {},
     "output_type": "execute_result"
    }
   ],
   "source": [
    "group.size()"
   ]
  },
  {
   "cell_type": "code",
   "execution_count": 139,
   "metadata": {
    "collapsed": false
   },
   "outputs": [
    {
     "data": {
      "text/html": [
       "<div>\n",
       "<table border=\"1\" class=\"dataframe\">\n",
       "  <thead>\n",
       "    <tr style=\"text-align: right;\">\n",
       "      <th></th>\n",
       "      <th>population</th>\n",
       "      <th>area</th>\n",
       "      <th>coastline</th>\n",
       "      <th>birthrate</th>\n",
       "      <th>deathrate</th>\n",
       "      <th>life expectancy</th>\n",
       "      <th>coastal</th>\n",
       "    </tr>\n",
       "    <tr>\n",
       "      <th>continent</th>\n",
       "      <th></th>\n",
       "      <th></th>\n",
       "      <th></th>\n",
       "      <th></th>\n",
       "      <th></th>\n",
       "      <th></th>\n",
       "      <th></th>\n",
       "    </tr>\n",
       "  </thead>\n",
       "  <tbody>\n",
       "    <tr>\n",
       "      <th>Africa</th>\n",
       "      <td>5.367707e+07</td>\n",
       "      <td>9.836178e+05</td>\n",
       "      <td>1302.235294</td>\n",
       "      <td>31.588235</td>\n",
       "      <td>8.394118</td>\n",
       "      <td>62.770588</td>\n",
       "      <td>0.882353</td>\n",
       "    </tr>\n",
       "    <tr>\n",
       "      <th>Asia</th>\n",
       "      <td>1.829524e+08</td>\n",
       "      <td>1.103215e+06</td>\n",
       "      <td>7791.652174</td>\n",
       "      <td>18.256522</td>\n",
       "      <td>6.691304</td>\n",
       "      <td>72.560870</td>\n",
       "      <td>0.869565</td>\n",
       "    </tr>\n",
       "    <tr>\n",
       "      <th>Australia</th>\n",
       "      <td>2.299265e+07</td>\n",
       "      <td>7.741220e+06</td>\n",
       "      <td>25760.000000</td>\n",
       "      <td>12.100000</td>\n",
       "      <td>7.200000</td>\n",
       "      <td>82.200000</td>\n",
       "      <td>1.000000</td>\n",
       "    </tr>\n",
       "    <tr>\n",
       "      <th>Europe</th>\n",
       "      <td>6.324984e+07</td>\n",
       "      <td>2.256001e+06</td>\n",
       "      <td>7989.888889</td>\n",
       "      <td>10.155556</td>\n",
       "      <td>11.100000</td>\n",
       "      <td>78.044444</td>\n",
       "      <td>1.000000</td>\n",
       "    </tr>\n",
       "    <tr>\n",
       "      <th>North America</th>\n",
       "      <td>1.608417e+08</td>\n",
       "      <td>7.258573e+06</td>\n",
       "      <td>77111.333333</td>\n",
       "      <td>13.766667</td>\n",
       "      <td>7.333333</td>\n",
       "      <td>79.200000</td>\n",
       "      <td>1.000000</td>\n",
       "    </tr>\n",
       "    <tr>\n",
       "      <th>South America</th>\n",
       "      <td>7.171693e+07</td>\n",
       "      <td>2.926291e+06</td>\n",
       "      <td>4180.400000</td>\n",
       "      <td>16.960000</td>\n",
       "      <td>6.140000</td>\n",
       "      <td>75.220000</td>\n",
       "      <td>1.000000</td>\n",
       "    </tr>\n",
       "  </tbody>\n",
       "</table>\n",
       "</div>"
      ],
      "text/plain": [
       "                 population          area     coastline  birthrate  deathrate  \\\n",
       "continent                                                                       \n",
       "Africa         5.367707e+07  9.836178e+05   1302.235294  31.588235   8.394118   \n",
       "Asia           1.829524e+08  1.103215e+06   7791.652174  18.256522   6.691304   \n",
       "Australia      2.299265e+07  7.741220e+06  25760.000000  12.100000   7.200000   \n",
       "Europe         6.324984e+07  2.256001e+06   7989.888889  10.155556  11.100000   \n",
       "North America  1.608417e+08  7.258573e+06  77111.333333  13.766667   7.333333   \n",
       "South America  7.171693e+07  2.926291e+06   4180.400000  16.960000   6.140000   \n",
       "\n",
       "               life expectancy   coastal  \n",
       "continent                                 \n",
       "Africa               62.770588  0.882353  \n",
       "Asia                 72.560870  0.869565  \n",
       "Australia            82.200000  1.000000  \n",
       "Europe               78.044444  1.000000  \n",
       "North America        79.200000  1.000000  \n",
       "South America        75.220000  1.000000  "
      ]
     },
     "execution_count": 139,
     "metadata": {},
     "output_type": "execute_result"
    }
   ],
   "source": [
    "group.mean()"
   ]
  },
  {
   "cell_type": "markdown",
   "metadata": {},
   "source": [
    "### Aggregration"
   ]
  },
  {
   "cell_type": "markdown",
   "metadata": {},
   "source": [
    "The data frame can be grouped by multiple keys:"
   ]
  },
  {
   "cell_type": "code",
   "execution_count": 140,
   "metadata": {
    "collapsed": false
   },
   "outputs": [],
   "source": [
    "group2 = Country.groupby(['continent', 'currency','country'])\n"
   ]
  },
  {
   "cell_type": "markdown",
   "metadata": {},
   "source": [
    "Apply multiple functions to each group with the method `agg`:"
   ]
  },
  {
   "cell_type": "code",
   "execution_count": 141,
   "metadata": {
    "collapsed": false
   },
   "outputs": [
    {
     "data": {
      "text/html": [
       "<div>\n",
       "<table border=\"1\" class=\"dataframe\">\n",
       "  <thead>\n",
       "    <tr>\n",
       "      <th></th>\n",
       "      <th colspan=\"6\" halign=\"left\">population</th>\n",
       "      <th colspan=\"4\" halign=\"left\">area</th>\n",
       "      <th>...</th>\n",
       "      <th colspan=\"4\" halign=\"left\">life expectancy</th>\n",
       "      <th colspan=\"6\" halign=\"left\">coastal</th>\n",
       "    </tr>\n",
       "    <tr>\n",
       "      <th></th>\n",
       "      <th>count</th>\n",
       "      <th>sum</th>\n",
       "      <th>min</th>\n",
       "      <th>max</th>\n",
       "      <th>mean</th>\n",
       "      <th>std</th>\n",
       "      <th>count</th>\n",
       "      <th>sum</th>\n",
       "      <th>min</th>\n",
       "      <th>max</th>\n",
       "      <th>...</th>\n",
       "      <th>min</th>\n",
       "      <th>max</th>\n",
       "      <th>mean</th>\n",
       "      <th>std</th>\n",
       "      <th>count</th>\n",
       "      <th>sum</th>\n",
       "      <th>min</th>\n",
       "      <th>max</th>\n",
       "      <th>mean</th>\n",
       "      <th>std</th>\n",
       "    </tr>\n",
       "    <tr>\n",
       "      <th>continent</th>\n",
       "      <th></th>\n",
       "      <th></th>\n",
       "      <th></th>\n",
       "      <th></th>\n",
       "      <th></th>\n",
       "      <th></th>\n",
       "      <th></th>\n",
       "      <th></th>\n",
       "      <th></th>\n",
       "      <th></th>\n",
       "      <th></th>\n",
       "      <th></th>\n",
       "      <th></th>\n",
       "      <th></th>\n",
       "      <th></th>\n",
       "      <th></th>\n",
       "      <th></th>\n",
       "      <th></th>\n",
       "      <th></th>\n",
       "      <th></th>\n",
       "      <th></th>\n",
       "    </tr>\n",
       "  </thead>\n",
       "  <tbody>\n",
       "    <tr>\n",
       "      <th>Africa</th>\n",
       "      <td>17</td>\n",
       "      <td>912510196</td>\n",
       "      <td>20172332</td>\n",
       "      <td>186053386</td>\n",
       "      <td>53677070</td>\n",
       "      <td>4.236223e+07</td>\n",
       "      <td>17</td>\n",
       "      <td>16721503</td>\n",
       "      <td>238533</td>\n",
       "      <td>2381741</td>\n",
       "      <td>...</td>\n",
       "      <td>53.3</td>\n",
       "      <td>76.9</td>\n",
       "      <td>62.770588</td>\n",
       "      <td>7.356780</td>\n",
       "      <td>17</td>\n",
       "      <td>15.0</td>\n",
       "      <td>False</td>\n",
       "      <td>True</td>\n",
       "      <td>0.882353</td>\n",
       "      <td>0.332106</td>\n",
       "    </tr>\n",
       "    <tr>\n",
       "      <th>Asia</th>\n",
       "      <td>23</td>\n",
       "      <td>4207906053</td>\n",
       "      <td>22235000</td>\n",
       "      <td>1373541278</td>\n",
       "      <td>182952437</td>\n",
       "      <td>3.644163e+08</td>\n",
       "      <td>23</td>\n",
       "      <td>25373946</td>\n",
       "      <td>35980</td>\n",
       "      <td>9596960</td>\n",
       "      <td>...</td>\n",
       "      <td>51.3</td>\n",
       "      <td>85.0</td>\n",
       "      <td>72.560870</td>\n",
       "      <td>6.621160</td>\n",
       "      <td>23</td>\n",
       "      <td>20.0</td>\n",
       "      <td>False</td>\n",
       "      <td>True</td>\n",
       "      <td>0.869565</td>\n",
       "      <td>0.344350</td>\n",
       "    </tr>\n",
       "    <tr>\n",
       "      <th>Australia</th>\n",
       "      <td>1</td>\n",
       "      <td>22992654</td>\n",
       "      <td>22992654</td>\n",
       "      <td>22992654</td>\n",
       "      <td>22992654</td>\n",
       "      <td>NaN</td>\n",
       "      <td>1</td>\n",
       "      <td>7741220</td>\n",
       "      <td>7741220</td>\n",
       "      <td>7741220</td>\n",
       "      <td>...</td>\n",
       "      <td>82.2</td>\n",
       "      <td>82.2</td>\n",
       "      <td>82.200000</td>\n",
       "      <td>NaN</td>\n",
       "      <td>1</td>\n",
       "      <td>1.0</td>\n",
       "      <td>True</td>\n",
       "      <td>True</td>\n",
       "      <td>1.000000</td>\n",
       "      <td>NaN</td>\n",
       "    </tr>\n",
       "    <tr>\n",
       "      <th>Europe</th>\n",
       "      <td>9</td>\n",
       "      <td>569248535</td>\n",
       "      <td>21599736</td>\n",
       "      <td>142355415</td>\n",
       "      <td>63249837</td>\n",
       "      <td>3.446582e+07</td>\n",
       "      <td>9</td>\n",
       "      <td>20304011</td>\n",
       "      <td>238391</td>\n",
       "      <td>17098242</td>\n",
       "      <td>...</td>\n",
       "      <td>70.8</td>\n",
       "      <td>82.2</td>\n",
       "      <td>78.044444</td>\n",
       "      <td>4.460693</td>\n",
       "      <td>9</td>\n",
       "      <td>9.0</td>\n",
       "      <td>True</td>\n",
       "      <td>True</td>\n",
       "      <td>1.000000</td>\n",
       "      <td>0.000000</td>\n",
       "    </tr>\n",
       "    <tr>\n",
       "      <th>North America</th>\n",
       "      <td>3</td>\n",
       "      <td>482525182</td>\n",
       "      <td>35362905</td>\n",
       "      <td>323995528</td>\n",
       "      <td>160841727</td>\n",
       "      <td>1.479586e+08</td>\n",
       "      <td>3</td>\n",
       "      <td>21775720</td>\n",
       "      <td>1964375</td>\n",
       "      <td>9984670</td>\n",
       "      <td>...</td>\n",
       "      <td>75.9</td>\n",
       "      <td>81.9</td>\n",
       "      <td>79.200000</td>\n",
       "      <td>3.044667</td>\n",
       "      <td>3</td>\n",
       "      <td>3.0</td>\n",
       "      <td>True</td>\n",
       "      <td>True</td>\n",
       "      <td>1.000000</td>\n",
       "      <td>0.000000</td>\n",
       "    </tr>\n",
       "    <tr>\n",
       "      <th>South America</th>\n",
       "      <td>5</td>\n",
       "      <td>358584633</td>\n",
       "      <td>30741062</td>\n",
       "      <td>205823665</td>\n",
       "      <td>71716926</td>\n",
       "      <td>7.533796e+07</td>\n",
       "      <td>5</td>\n",
       "      <td>14631453</td>\n",
       "      <td>912050</td>\n",
       "      <td>8514877</td>\n",
       "      <td>...</td>\n",
       "      <td>73.7</td>\n",
       "      <td>77.1</td>\n",
       "      <td>75.220000</td>\n",
       "      <td>1.451551</td>\n",
       "      <td>5</td>\n",
       "      <td>5.0</td>\n",
       "      <td>True</td>\n",
       "      <td>True</td>\n",
       "      <td>1.000000</td>\n",
       "      <td>0.000000</td>\n",
       "    </tr>\n",
       "  </tbody>\n",
       "</table>\n",
       "<p>6 rows × 42 columns</p>\n",
       "</div>"
      ],
      "text/plain": [
       "              population                                               \\\n",
       "                   count         sum       min         max       mean   \n",
       "continent                                                               \n",
       "Africa                17   912510196  20172332   186053386   53677070   \n",
       "Asia                  23  4207906053  22235000  1373541278  182952437   \n",
       "Australia              1    22992654  22992654    22992654   22992654   \n",
       "Europe                 9   569248535  21599736   142355415   63249837   \n",
       "North America          3   482525182  35362905   323995528  160841727   \n",
       "South America          5   358584633  30741062   205823665   71716926   \n",
       "\n",
       "                             area                                 ...     \\\n",
       "                        std count       sum      min       max    ...      \n",
       "continent                                                         ...      \n",
       "Africa         4.236223e+07    17  16721503   238533   2381741    ...      \n",
       "Asia           3.644163e+08    23  25373946    35980   9596960    ...      \n",
       "Australia               NaN     1   7741220  7741220   7741220    ...      \n",
       "Europe         3.446582e+07     9  20304011   238391  17098242    ...      \n",
       "North America  1.479586e+08     3  21775720  1964375   9984670    ...      \n",
       "South America  7.533796e+07     5  14631453   912050   8514877    ...      \n",
       "\n",
       "              life expectancy                            coastal               \\\n",
       "                          min   max       mean       std   count   sum    min   \n",
       "continent                                                                       \n",
       "Africa                   53.3  76.9  62.770588  7.356780      17  15.0  False   \n",
       "Asia                     51.3  85.0  72.560870  6.621160      23  20.0  False   \n",
       "Australia                82.2  82.2  82.200000       NaN       1   1.0   True   \n",
       "Europe                   70.8  82.2  78.044444  4.460693       9   9.0   True   \n",
       "North America            75.9  81.9  79.200000  3.044667       3   3.0   True   \n",
       "South America            73.7  77.1  75.220000  1.451551       5   5.0   True   \n",
       "\n",
       "                                         \n",
       "                max      mean       std  \n",
       "continent                                \n",
       "Africa         True  0.882353  0.332106  \n",
       "Asia           True  0.869565  0.344350  \n",
       "Australia      True  1.000000       NaN  \n",
       "Europe         True  1.000000  0.000000  \n",
       "North America  True  1.000000  0.000000  \n",
       "South America  True  1.000000  0.000000  \n",
       "\n",
       "[6 rows x 42 columns]"
      ]
     },
     "execution_count": 141,
     "metadata": {},
     "output_type": "execute_result"
    }
   ],
   "source": [
    "group.agg(['count', 'sum', 'min', 'max', 'mean', 'std'])"
   ]
  },
  {
   "cell_type": "markdown",
   "metadata": {},
   "source": [
    "To look at a single column of the aggregate analysis, use the column indexing:"
   ]
  },
  {
   "cell_type": "code",
   "execution_count": 76,
   "metadata": {
    "collapsed": false
   },
   "outputs": [
    {
     "data": {
      "text/html": [
       "<div>\n",
       "<table border=\"1\" class=\"dataframe\">\n",
       "  <thead>\n",
       "    <tr style=\"text-align: right;\">\n",
       "      <th></th>\n",
       "      <th>count</th>\n",
       "      <th>sum</th>\n",
       "      <th>min</th>\n",
       "      <th>max</th>\n",
       "      <th>mean</th>\n",
       "      <th>std</th>\n",
       "    </tr>\n",
       "    <tr>\n",
       "      <th>continent</th>\n",
       "      <th></th>\n",
       "      <th></th>\n",
       "      <th></th>\n",
       "      <th></th>\n",
       "      <th></th>\n",
       "      <th></th>\n",
       "    </tr>\n",
       "  </thead>\n",
       "  <tbody>\n",
       "    <tr>\n",
       "      <th>Africa</th>\n",
       "      <td>32</td>\n",
       "      <td>1091.4</td>\n",
       "      <td>16.4</td>\n",
       "      <td>44.8</td>\n",
       "      <td>34.106250</td>\n",
       "      <td>7.414499</td>\n",
       "    </tr>\n",
       "    <tr>\n",
       "      <th>Asia</th>\n",
       "      <td>26</td>\n",
       "      <td>483.7</td>\n",
       "      <td>7.8</td>\n",
       "      <td>38.3</td>\n",
       "      <td>18.603846</td>\n",
       "      <td>6.925286</td>\n",
       "    </tr>\n",
       "    <tr>\n",
       "      <th>Australia</th>\n",
       "      <td>1</td>\n",
       "      <td>12.1</td>\n",
       "      <td>12.1</td>\n",
       "      <td>12.1</td>\n",
       "      <td>12.100000</td>\n",
       "      <td>NaN</td>\n",
       "    </tr>\n",
       "    <tr>\n",
       "      <th>Central America</th>\n",
       "      <td>1</td>\n",
       "      <td>24.5</td>\n",
       "      <td>24.5</td>\n",
       "      <td>24.5</td>\n",
       "      <td>24.500000</td>\n",
       "      <td>NaN</td>\n",
       "    </tr>\n",
       "    <tr>\n",
       "      <th>Europe</th>\n",
       "      <td>14</td>\n",
       "      <td>140.8</td>\n",
       "      <td>8.5</td>\n",
       "      <td>12.3</td>\n",
       "      <td>10.057143</td>\n",
       "      <td>1.334002</td>\n",
       "    </tr>\n",
       "    <tr>\n",
       "      <th>North America</th>\n",
       "      <td>6</td>\n",
       "      <td>94.0</td>\n",
       "      <td>10.3</td>\n",
       "      <td>23.3</td>\n",
       "      <td>15.666667</td>\n",
       "      <td>5.242391</td>\n",
       "    </tr>\n",
       "    <tr>\n",
       "      <th>South America</th>\n",
       "      <td>8</td>\n",
       "      <td>139.1</td>\n",
       "      <td>13.7</td>\n",
       "      <td>22.4</td>\n",
       "      <td>17.387500</td>\n",
       "      <td>2.775113</td>\n",
       "    </tr>\n",
       "  </tbody>\n",
       "</table>\n",
       "</div>"
      ],
      "text/plain": [
       "                 count     sum   min   max       mean       std\n",
       "continent                                                      \n",
       "Africa              32  1091.4  16.4  44.8  34.106250  7.414499\n",
       "Asia                26   483.7   7.8  38.3  18.603846  6.925286\n",
       "Australia            1    12.1  12.1  12.1  12.100000       NaN\n",
       "Central America      1    24.5  24.5  24.5  24.500000       NaN\n",
       "Europe              14   140.8   8.5  12.3  10.057143  1.334002\n",
       "North America        6    94.0  10.3  23.3  15.666667  5.242391\n",
       "South America        8   139.1  13.7  22.4  17.387500  2.775113"
      ]
     },
     "execution_count": 76,
     "metadata": {},
     "output_type": "execute_result"
    }
   ],
   "source": [
    "group.agg(['count', 'sum', 'min', 'max', 'mean', 'std'])['birthrate']"
   ]
  },
  {
   "cell_type": "markdown",
   "metadata": {},
   "source": [
    "The column std misses two values above because Australia and Central America have only one row in the data frame.\n",
    "\n",
    "Also note that `sum` is an inappropriate function to apply to birthrate where it would be applicable to population.\n",
    "\n",
    "Different aggregating functions can be applied to different columns. This can be done with a dictionary."
   ]
  },
  {
   "cell_type": "code",
   "execution_count": 80,
   "metadata": {
    "collapsed": false
   },
   "outputs": [
    {
     "name": "stdout",
     "output_type": "stream",
     "text": [
      "['country', 'continent', 'population', 'area', 'coastline', 'currency', 'birthrate', 'deathrate', 'life expectancy', 'coastal']\n"
     ]
    }
   ],
   "source": [
    "print(Country.columns.tolist())"
   ]
  },
  {
   "cell_type": "code",
   "execution_count": 83,
   "metadata": {
    "collapsed": false
   },
   "outputs": [
    {
     "data": {
      "text/html": [
       "<div>\n",
       "<table border=\"1\" class=\"dataframe\">\n",
       "  <thead>\n",
       "    <tr>\n",
       "      <th></th>\n",
       "      <th colspan=\"5\" halign=\"left\">population</th>\n",
       "      <th colspan=\"4\" halign=\"left\">area</th>\n",
       "      <th>coastline</th>\n",
       "      <th>...</th>\n",
       "      <th colspan=\"2\" halign=\"left\">birthrate</th>\n",
       "      <th colspan=\"4\" halign=\"left\">deathrate</th>\n",
       "      <th colspan=\"4\" halign=\"left\">life expectancy</th>\n",
       "    </tr>\n",
       "    <tr>\n",
       "      <th></th>\n",
       "      <th>sum</th>\n",
       "      <th>min</th>\n",
       "      <th>max</th>\n",
       "      <th>mean</th>\n",
       "      <th>std</th>\n",
       "      <th>sum</th>\n",
       "      <th>min</th>\n",
       "      <th>max</th>\n",
       "      <th>mean</th>\n",
       "      <th>sum</th>\n",
       "      <th>...</th>\n",
       "      <th>mean</th>\n",
       "      <th>std</th>\n",
       "      <th>min</th>\n",
       "      <th>max</th>\n",
       "      <th>mean</th>\n",
       "      <th>std</th>\n",
       "      <th>min</th>\n",
       "      <th>max</th>\n",
       "      <th>mean</th>\n",
       "      <th>std</th>\n",
       "    </tr>\n",
       "    <tr>\n",
       "      <th>continent</th>\n",
       "      <th></th>\n",
       "      <th></th>\n",
       "      <th></th>\n",
       "      <th></th>\n",
       "      <th></th>\n",
       "      <th></th>\n",
       "      <th></th>\n",
       "      <th></th>\n",
       "      <th></th>\n",
       "      <th></th>\n",
       "      <th></th>\n",
       "      <th></th>\n",
       "      <th></th>\n",
       "      <th></th>\n",
       "      <th></th>\n",
       "      <th></th>\n",
       "      <th></th>\n",
       "      <th></th>\n",
       "      <th></th>\n",
       "      <th></th>\n",
       "      <th></th>\n",
       "    </tr>\n",
       "  </thead>\n",
       "  <tbody>\n",
       "    <tr>\n",
       "      <th>Africa</th>\n",
       "      <td>1124334134</td>\n",
       "      <td>10741458</td>\n",
       "      <td>186053386</td>\n",
       "      <td>35135441</td>\n",
       "      <td>3.650771e+07</td>\n",
       "      <td>24103719</td>\n",
       "      <td>26338</td>\n",
       "      <td>2381741</td>\n",
       "      <td>753241</td>\n",
       "      <td>27283</td>\n",
       "      <td>...</td>\n",
       "      <td>34.106250</td>\n",
       "      <td>7.414499</td>\n",
       "      <td>4.3</td>\n",
       "      <td>14.0</td>\n",
       "      <td>9.184375</td>\n",
       "      <td>2.566799</td>\n",
       "      <td>0.0</td>\n",
       "      <td>76.9</td>\n",
       "      <td>59.034375</td>\n",
       "      <td>12.834646</td>\n",
       "    </tr>\n",
       "    <tr>\n",
       "      <th>Asia</th>\n",
       "      <td>4259408799</td>\n",
       "      <td>15957223</td>\n",
       "      <td>1373541278</td>\n",
       "      <td>163823415</td>\n",
       "      <td>3.460939e+08</td>\n",
       "      <td>28465061</td>\n",
       "      <td>35980</td>\n",
       "      <td>9596960</td>\n",
       "      <td>1094810</td>\n",
       "      <td>179844</td>\n",
       "      <td>...</td>\n",
       "      <td>18.603846</td>\n",
       "      <td>6.925286</td>\n",
       "      <td>3.3</td>\n",
       "      <td>13.7</td>\n",
       "      <td>6.680769</td>\n",
       "      <td>2.101812</td>\n",
       "      <td>51.3</td>\n",
       "      <td>85.0</td>\n",
       "      <td>72.273077</td>\n",
       "      <td>6.436990</td>\n",
       "    </tr>\n",
       "    <tr>\n",
       "      <th>Australia</th>\n",
       "      <td>22992654</td>\n",
       "      <td>22992654</td>\n",
       "      <td>22992654</td>\n",
       "      <td>22992654</td>\n",
       "      <td>NaN</td>\n",
       "      <td>7741220</td>\n",
       "      <td>7741220</td>\n",
       "      <td>7741220</td>\n",
       "      <td>7741220</td>\n",
       "      <td>25760</td>\n",
       "      <td>...</td>\n",
       "      <td>12.100000</td>\n",
       "      <td>NaN</td>\n",
       "      <td>7.2</td>\n",
       "      <td>7.2</td>\n",
       "      <td>7.200000</td>\n",
       "      <td>NaN</td>\n",
       "      <td>82.2</td>\n",
       "      <td>82.2</td>\n",
       "      <td>82.200000</td>\n",
       "      <td>NaN</td>\n",
       "    </tr>\n",
       "    <tr>\n",
       "      <th>Central America</th>\n",
       "      <td>15189958</td>\n",
       "      <td>15189958</td>\n",
       "      <td>15189958</td>\n",
       "      <td>15189958</td>\n",
       "      <td>NaN</td>\n",
       "      <td>108889</td>\n",
       "      <td>108889</td>\n",
       "      <td>108889</td>\n",
       "      <td>108889</td>\n",
       "      <td>400</td>\n",
       "      <td>...</td>\n",
       "      <td>24.500000</td>\n",
       "      <td>NaN</td>\n",
       "      <td>4.7</td>\n",
       "      <td>4.7</td>\n",
       "      <td>4.700000</td>\n",
       "      <td>NaN</td>\n",
       "      <td>72.3</td>\n",
       "      <td>72.3</td>\n",
       "      <td>72.300000</td>\n",
       "      <td>NaN</td>\n",
       "    </tr>\n",
       "    <tr>\n",
       "      <th>Europe</th>\n",
       "      <td>629926490</td>\n",
       "      <td>10644842</td>\n",
       "      <td>142355415</td>\n",
       "      <td>44994749</td>\n",
       "      <td>3.713917e+07</td>\n",
       "      <td>20678996</td>\n",
       "      <td>30528</td>\n",
       "      <td>17098242</td>\n",
       "      <td>1477071</td>\n",
       "      <td>87896</td>\n",
       "      <td>...</td>\n",
       "      <td>10.057143</td>\n",
       "      <td>1.334002</td>\n",
       "      <td>8.8</td>\n",
       "      <td>14.4</td>\n",
       "      <td>10.792857</td>\n",
       "      <td>1.661077</td>\n",
       "      <td>70.8</td>\n",
       "      <td>82.2</td>\n",
       "      <td>78.792857</td>\n",
       "      <td>3.706432</td>\n",
       "    </tr>\n",
       "    <tr>\n",
       "      <th>North America</th>\n",
       "      <td>514797842</td>\n",
       "      <td>10485800</td>\n",
       "      <td>323995528</td>\n",
       "      <td>85799640</td>\n",
       "      <td>1.245565e+08</td>\n",
       "      <td>21963000</td>\n",
       "      <td>27750</td>\n",
       "      <td>9984670</td>\n",
       "      <td>3660500</td>\n",
       "      <td>238128</td>\n",
       "      <td>...</td>\n",
       "      <td>15.666667</td>\n",
       "      <td>5.242391</td>\n",
       "      <td>4.6</td>\n",
       "      <td>8.6</td>\n",
       "      <td>7.150000</td>\n",
       "      <td>1.746711</td>\n",
       "      <td>63.8</td>\n",
       "      <td>81.9</td>\n",
       "      <td>76.366667</td>\n",
       "      <td>6.465189</td>\n",
       "    </tr>\n",
       "    <tr>\n",
       "      <th>South America</th>\n",
       "      <td>403285174</td>\n",
       "      <td>10969649</td>\n",
       "      <td>205823665</td>\n",
       "      <td>50410646</td>\n",
       "      <td>6.412087e+07</td>\n",
       "      <td>16769697</td>\n",
       "      <td>283561</td>\n",
       "      <td>8514877</td>\n",
       "      <td>2096212</td>\n",
       "      <td>29574</td>\n",
       "      <td>...</td>\n",
       "      <td>17.387500</td>\n",
       "      <td>2.775113</td>\n",
       "      <td>5.1</td>\n",
       "      <td>7.5</td>\n",
       "      <td>6.050000</td>\n",
       "      <td>0.815913</td>\n",
       "      <td>69.2</td>\n",
       "      <td>78.8</td>\n",
       "      <td>75.112500</td>\n",
       "      <td>2.924985</td>\n",
       "    </tr>\n",
       "  </tbody>\n",
       "</table>\n",
       "<p>7 rows × 24 columns</p>\n",
       "</div>"
      ],
      "text/plain": [
       "                 population                                                 \\\n",
       "                        sum       min         max       mean           std   \n",
       "continent                                                                    \n",
       "Africa           1124334134  10741458   186053386   35135441  3.650771e+07   \n",
       "Asia             4259408799  15957223  1373541278  163823415  3.460939e+08   \n",
       "Australia          22992654  22992654    22992654   22992654           NaN   \n",
       "Central America    15189958  15189958    15189958   15189958           NaN   \n",
       "Europe            629926490  10644842   142355415   44994749  3.713917e+07   \n",
       "North America     514797842  10485800   323995528   85799640  1.245565e+08   \n",
       "South America     403285174  10969649   205823665   50410646  6.412087e+07   \n",
       "\n",
       "                     area                             coastline    ...      \\\n",
       "                      sum      min       max     mean       sum    ...       \n",
       "continent                                                          ...       \n",
       "Africa           24103719    26338   2381741   753241     27283    ...       \n",
       "Asia             28465061    35980   9596960  1094810    179844    ...       \n",
       "Australia         7741220  7741220   7741220  7741220     25760    ...       \n",
       "Central America    108889   108889    108889   108889       400    ...       \n",
       "Europe           20678996    30528  17098242  1477071     87896    ...       \n",
       "North America    21963000    27750   9984670  3660500    238128    ...       \n",
       "South America    16769697   283561   8514877  2096212     29574    ...       \n",
       "\n",
       "                 birthrate           deathrate                             \\\n",
       "                      mean       std       min   max       mean       std   \n",
       "continent                                                                   \n",
       "Africa           34.106250  7.414499       4.3  14.0   9.184375  2.566799   \n",
       "Asia             18.603846  6.925286       3.3  13.7   6.680769  2.101812   \n",
       "Australia        12.100000       NaN       7.2   7.2   7.200000       NaN   \n",
       "Central America  24.500000       NaN       4.7   4.7   4.700000       NaN   \n",
       "Europe           10.057143  1.334002       8.8  14.4  10.792857  1.661077   \n",
       "North America    15.666667  5.242391       4.6   8.6   7.150000  1.746711   \n",
       "South America    17.387500  2.775113       5.1   7.5   6.050000  0.815913   \n",
       "\n",
       "                life expectancy                              \n",
       "                            min   max       mean        std  \n",
       "continent                                                    \n",
       "Africa                      0.0  76.9  59.034375  12.834646  \n",
       "Asia                       51.3  85.0  72.273077   6.436990  \n",
       "Australia                  82.2  82.2  82.200000        NaN  \n",
       "Central America            72.3  72.3  72.300000        NaN  \n",
       "Europe                     70.8  82.2  78.792857   3.706432  \n",
       "North America              63.8  81.9  76.366667   6.465189  \n",
       "South America              69.2  78.8  75.112500   2.924985  \n",
       "\n",
       "[7 rows x 24 columns]"
      ]
     },
     "execution_count": 83,
     "metadata": {},
     "output_type": "execute_result"
    }
   ],
   "source": [
    "colFun = {'population': ['sum','min', 'max','mean','std'], \n",
    "          'area': ['sum','min', 'max','mean'],\n",
    "          'coastline':['sum','min', 'max'],\n",
    "          'birthrate':['min', 'max','mean','std'],\n",
    "          'deathrate':['min', 'max','mean','std'],\n",
    "          'life expectancy':['min', 'max','mean','std']}\n",
    "analysis=group.agg(colFun)\n",
    "analysis"
   ]
  },
  {
   "cell_type": "code",
   "execution_count": 85,
   "metadata": {
    "collapsed": false
   },
   "outputs": [
    {
     "data": {
      "text/html": [
       "<div>\n",
       "<table border=\"1\" class=\"dataframe\">\n",
       "  <thead>\n",
       "    <tr>\n",
       "      <th></th>\n",
       "      <th colspan=\"5\" halign=\"left\">population</th>\n",
       "      <th colspan=\"4\" halign=\"left\">area</th>\n",
       "      <th colspan=\"3\" halign=\"left\">coastline</th>\n",
       "    </tr>\n",
       "    <tr>\n",
       "      <th></th>\n",
       "      <th>sum</th>\n",
       "      <th>min</th>\n",
       "      <th>max</th>\n",
       "      <th>mean</th>\n",
       "      <th>std</th>\n",
       "      <th>sum</th>\n",
       "      <th>min</th>\n",
       "      <th>max</th>\n",
       "      <th>mean</th>\n",
       "      <th>sum</th>\n",
       "      <th>min</th>\n",
       "      <th>max</th>\n",
       "    </tr>\n",
       "    <tr>\n",
       "      <th>continent</th>\n",
       "      <th></th>\n",
       "      <th></th>\n",
       "      <th></th>\n",
       "      <th></th>\n",
       "      <th></th>\n",
       "      <th></th>\n",
       "      <th></th>\n",
       "      <th></th>\n",
       "      <th></th>\n",
       "      <th></th>\n",
       "      <th></th>\n",
       "      <th></th>\n",
       "    </tr>\n",
       "  </thead>\n",
       "  <tbody>\n",
       "    <tr>\n",
       "      <th>Africa</th>\n",
       "      <td>1124334134</td>\n",
       "      <td>10741458</td>\n",
       "      <td>186053386</td>\n",
       "      <td>35135441</td>\n",
       "      <td>3.650771e+07</td>\n",
       "      <td>24103719</td>\n",
       "      <td>26338</td>\n",
       "      <td>2381741</td>\n",
       "      <td>753241</td>\n",
       "      <td>27283</td>\n",
       "      <td>0</td>\n",
       "      <td>4828</td>\n",
       "    </tr>\n",
       "    <tr>\n",
       "      <th>Asia</th>\n",
       "      <td>4259408799</td>\n",
       "      <td>15957223</td>\n",
       "      <td>1373541278</td>\n",
       "      <td>163823415</td>\n",
       "      <td>3.460939e+08</td>\n",
       "      <td>28465061</td>\n",
       "      <td>35980</td>\n",
       "      <td>9596960</td>\n",
       "      <td>1094810</td>\n",
       "      <td>179844</td>\n",
       "      <td>0</td>\n",
       "      <td>54716</td>\n",
       "    </tr>\n",
       "    <tr>\n",
       "      <th>Australia</th>\n",
       "      <td>22992654</td>\n",
       "      <td>22992654</td>\n",
       "      <td>22992654</td>\n",
       "      <td>22992654</td>\n",
       "      <td>NaN</td>\n",
       "      <td>7741220</td>\n",
       "      <td>7741220</td>\n",
       "      <td>7741220</td>\n",
       "      <td>7741220</td>\n",
       "      <td>25760</td>\n",
       "      <td>25760</td>\n",
       "      <td>25760</td>\n",
       "    </tr>\n",
       "    <tr>\n",
       "      <th>Central America</th>\n",
       "      <td>15189958</td>\n",
       "      <td>15189958</td>\n",
       "      <td>15189958</td>\n",
       "      <td>15189958</td>\n",
       "      <td>NaN</td>\n",
       "      <td>108889</td>\n",
       "      <td>108889</td>\n",
       "      <td>108889</td>\n",
       "      <td>108889</td>\n",
       "      <td>400</td>\n",
       "      <td>400</td>\n",
       "      <td>400</td>\n",
       "    </tr>\n",
       "    <tr>\n",
       "      <th>Europe</th>\n",
       "      <td>629926490</td>\n",
       "      <td>10644842</td>\n",
       "      <td>142355415</td>\n",
       "      <td>44994749</td>\n",
       "      <td>3.713917e+07</td>\n",
       "      <td>20678996</td>\n",
       "      <td>30528</td>\n",
       "      <td>17098242</td>\n",
       "      <td>1477071</td>\n",
       "      <td>87896</td>\n",
       "      <td>0</td>\n",
       "      <td>37653</td>\n",
       "    </tr>\n",
       "    <tr>\n",
       "      <th>North America</th>\n",
       "      <td>514797842</td>\n",
       "      <td>10485800</td>\n",
       "      <td>323995528</td>\n",
       "      <td>85799640</td>\n",
       "      <td>1.245565e+08</td>\n",
       "      <td>21963000</td>\n",
       "      <td>27750</td>\n",
       "      <td>9984670</td>\n",
       "      <td>3660500</td>\n",
       "      <td>238128</td>\n",
       "      <td>1288</td>\n",
       "      <td>202080</td>\n",
       "    </tr>\n",
       "    <tr>\n",
       "      <th>South America</th>\n",
       "      <td>403285174</td>\n",
       "      <td>10969649</td>\n",
       "      <td>205823665</td>\n",
       "      <td>50410646</td>\n",
       "      <td>6.412087e+07</td>\n",
       "      <td>16769697</td>\n",
       "      <td>283561</td>\n",
       "      <td>8514877</td>\n",
       "      <td>2096212</td>\n",
       "      <td>29574</td>\n",
       "      <td>0</td>\n",
       "      <td>7491</td>\n",
       "    </tr>\n",
       "  </tbody>\n",
       "</table>\n",
       "</div>"
      ],
      "text/plain": [
       "                 population                                                 \\\n",
       "                        sum       min         max       mean           std   \n",
       "continent                                                                    \n",
       "Africa           1124334134  10741458   186053386   35135441  3.650771e+07   \n",
       "Asia             4259408799  15957223  1373541278  163823415  3.460939e+08   \n",
       "Australia          22992654  22992654    22992654   22992654           NaN   \n",
       "Central America    15189958  15189958    15189958   15189958           NaN   \n",
       "Europe            629926490  10644842   142355415   44994749  3.713917e+07   \n",
       "North America     514797842  10485800   323995528   85799640  1.245565e+08   \n",
       "South America     403285174  10969649   205823665   50410646  6.412087e+07   \n",
       "\n",
       "                     area                             coastline                 \n",
       "                      sum      min       max     mean       sum    min     max  \n",
       "continent                                                                       \n",
       "Africa           24103719    26338   2381741   753241     27283      0    4828  \n",
       "Asia             28465061    35980   9596960  1094810    179844      0   54716  \n",
       "Australia         7741220  7741220   7741220  7741220     25760  25760   25760  \n",
       "Central America    108889   108889    108889   108889       400    400     400  \n",
       "Europe           20678996    30528  17098242  1477071     87896      0   37653  \n",
       "North America    21963000    27750   9984670  3660500    238128   1288  202080  \n",
       "South America    16769697   283561   8514877  2096212     29574      0    7491  "
      ]
     },
     "execution_count": 85,
     "metadata": {},
     "output_type": "execute_result"
    }
   ],
   "source": [
    "analysis[['population', 'area', 'coastline']]"
   ]
  },
  {
   "cell_type": "code",
   "execution_count": 86,
   "metadata": {
    "collapsed": false
   },
   "outputs": [
    {
     "data": {
      "text/html": [
       "<div>\n",
       "<table border=\"1\" class=\"dataframe\">\n",
       "  <thead>\n",
       "    <tr>\n",
       "      <th></th>\n",
       "      <th colspan=\"4\" halign=\"left\">birthrate</th>\n",
       "      <th colspan=\"4\" halign=\"left\">deathrate</th>\n",
       "      <th colspan=\"4\" halign=\"left\">life expectancy</th>\n",
       "    </tr>\n",
       "    <tr>\n",
       "      <th></th>\n",
       "      <th>min</th>\n",
       "      <th>max</th>\n",
       "      <th>mean</th>\n",
       "      <th>std</th>\n",
       "      <th>min</th>\n",
       "      <th>max</th>\n",
       "      <th>mean</th>\n",
       "      <th>std</th>\n",
       "      <th>min</th>\n",
       "      <th>max</th>\n",
       "      <th>mean</th>\n",
       "      <th>std</th>\n",
       "    </tr>\n",
       "    <tr>\n",
       "      <th>continent</th>\n",
       "      <th></th>\n",
       "      <th></th>\n",
       "      <th></th>\n",
       "      <th></th>\n",
       "      <th></th>\n",
       "      <th></th>\n",
       "      <th></th>\n",
       "      <th></th>\n",
       "      <th></th>\n",
       "      <th></th>\n",
       "      <th></th>\n",
       "      <th></th>\n",
       "    </tr>\n",
       "  </thead>\n",
       "  <tbody>\n",
       "    <tr>\n",
       "      <th>Africa</th>\n",
       "      <td>16.4</td>\n",
       "      <td>44.8</td>\n",
       "      <td>34.106250</td>\n",
       "      <td>7.414499</td>\n",
       "      <td>4.3</td>\n",
       "      <td>14.0</td>\n",
       "      <td>9.184375</td>\n",
       "      <td>2.566799</td>\n",
       "      <td>0.0</td>\n",
       "      <td>76.9</td>\n",
       "      <td>59.034375</td>\n",
       "      <td>12.834646</td>\n",
       "    </tr>\n",
       "    <tr>\n",
       "      <th>Asia</th>\n",
       "      <td>7.8</td>\n",
       "      <td>38.3</td>\n",
       "      <td>18.603846</td>\n",
       "      <td>6.925286</td>\n",
       "      <td>3.3</td>\n",
       "      <td>13.7</td>\n",
       "      <td>6.680769</td>\n",
       "      <td>2.101812</td>\n",
       "      <td>51.3</td>\n",
       "      <td>85.0</td>\n",
       "      <td>72.273077</td>\n",
       "      <td>6.436990</td>\n",
       "    </tr>\n",
       "    <tr>\n",
       "      <th>Australia</th>\n",
       "      <td>12.1</td>\n",
       "      <td>12.1</td>\n",
       "      <td>12.100000</td>\n",
       "      <td>NaN</td>\n",
       "      <td>7.2</td>\n",
       "      <td>7.2</td>\n",
       "      <td>7.200000</td>\n",
       "      <td>NaN</td>\n",
       "      <td>82.2</td>\n",
       "      <td>82.2</td>\n",
       "      <td>82.200000</td>\n",
       "      <td>NaN</td>\n",
       "    </tr>\n",
       "    <tr>\n",
       "      <th>Central America</th>\n",
       "      <td>24.5</td>\n",
       "      <td>24.5</td>\n",
       "      <td>24.500000</td>\n",
       "      <td>NaN</td>\n",
       "      <td>4.7</td>\n",
       "      <td>4.7</td>\n",
       "      <td>4.700000</td>\n",
       "      <td>NaN</td>\n",
       "      <td>72.3</td>\n",
       "      <td>72.3</td>\n",
       "      <td>72.300000</td>\n",
       "      <td>NaN</td>\n",
       "    </tr>\n",
       "    <tr>\n",
       "      <th>Europe</th>\n",
       "      <td>8.5</td>\n",
       "      <td>12.3</td>\n",
       "      <td>10.057143</td>\n",
       "      <td>1.334002</td>\n",
       "      <td>8.8</td>\n",
       "      <td>14.4</td>\n",
       "      <td>10.792857</td>\n",
       "      <td>1.661077</td>\n",
       "      <td>70.8</td>\n",
       "      <td>82.2</td>\n",
       "      <td>78.792857</td>\n",
       "      <td>3.706432</td>\n",
       "    </tr>\n",
       "    <tr>\n",
       "      <th>North America</th>\n",
       "      <td>10.3</td>\n",
       "      <td>23.3</td>\n",
       "      <td>15.666667</td>\n",
       "      <td>5.242391</td>\n",
       "      <td>4.6</td>\n",
       "      <td>8.6</td>\n",
       "      <td>7.150000</td>\n",
       "      <td>1.746711</td>\n",
       "      <td>63.8</td>\n",
       "      <td>81.9</td>\n",
       "      <td>76.366667</td>\n",
       "      <td>6.465189</td>\n",
       "    </tr>\n",
       "    <tr>\n",
       "      <th>South America</th>\n",
       "      <td>13.7</td>\n",
       "      <td>22.4</td>\n",
       "      <td>17.387500</td>\n",
       "      <td>2.775113</td>\n",
       "      <td>5.1</td>\n",
       "      <td>7.5</td>\n",
       "      <td>6.050000</td>\n",
       "      <td>0.815913</td>\n",
       "      <td>69.2</td>\n",
       "      <td>78.8</td>\n",
       "      <td>75.112500</td>\n",
       "      <td>2.924985</td>\n",
       "    </tr>\n",
       "  </tbody>\n",
       "</table>\n",
       "</div>"
      ],
      "text/plain": [
       "                birthrate                            deathrate        \\\n",
       "                      min   max       mean       std       min   max   \n",
       "continent                                                              \n",
       "Africa               16.4  44.8  34.106250  7.414499       4.3  14.0   \n",
       "Asia                  7.8  38.3  18.603846  6.925286       3.3  13.7   \n",
       "Australia            12.1  12.1  12.100000       NaN       7.2   7.2   \n",
       "Central America      24.5  24.5  24.500000       NaN       4.7   4.7   \n",
       "Europe                8.5  12.3  10.057143  1.334002       8.8  14.4   \n",
       "North America        10.3  23.3  15.666667  5.242391       4.6   8.6   \n",
       "South America        13.7  22.4  17.387500  2.775113       5.1   7.5   \n",
       "\n",
       "                                     life expectancy                   \\\n",
       "                      mean       std             min   max       mean   \n",
       "continent                                                               \n",
       "Africa            9.184375  2.566799             0.0  76.9  59.034375   \n",
       "Asia              6.680769  2.101812            51.3  85.0  72.273077   \n",
       "Australia         7.200000       NaN            82.2  82.2  82.200000   \n",
       "Central America   4.700000       NaN            72.3  72.3  72.300000   \n",
       "Europe           10.792857  1.661077            70.8  82.2  78.792857   \n",
       "North America     7.150000  1.746711            63.8  81.9  76.366667   \n",
       "South America     6.050000  0.815913            69.2  78.8  75.112500   \n",
       "\n",
       "                            \n",
       "                       std  \n",
       "continent                   \n",
       "Africa           12.834646  \n",
       "Asia              6.436990  \n",
       "Australia              NaN  \n",
       "Central America        NaN  \n",
       "Europe            3.706432  \n",
       "North America     6.465189  \n",
       "South America     2.924985  "
      ]
     },
     "execution_count": 86,
     "metadata": {},
     "output_type": "execute_result"
    }
   ],
   "source": [
    "analysis[['birthrate', 'deathrate', 'life expectancy']]"
   ]
  },
  {
   "cell_type": "markdown",
   "metadata": {},
   "source": [
    "Custom aggregation functions may also be applied. In the previous examples, aggregation functions are applied to each **column** in a data frame. Keep this in mind when defining a custom function. For example, build a function that computes the mean after removing maxima (truncated mean)."
   ]
  },
  {
   "cell_type": "code",
   "execution_count": 97,
   "metadata": {
    "collapsed": false
   },
   "outputs": [],
   "source": [
    "def trunc_mean(x):    # x has to be a 'vector' (1d array or pandas Series)\n",
    "    sec=x[x!=x.max()]\n",
    "    if sec.shape[0]!=0:\n",
    "        return np.mean(x[x!=x.max()])"
   ]
  },
  {
   "cell_type": "code",
   "execution_count": 98,
   "metadata": {
    "collapsed": false
   },
   "outputs": [
    {
     "data": {
      "text/html": [
       "<div>\n",
       "<table border=\"1\" class=\"dataframe\">\n",
       "  <thead>\n",
       "    <tr style=\"text-align: right;\">\n",
       "      <th></th>\n",
       "      <th>population</th>\n",
       "      <th>area</th>\n",
       "      <th>coastline</th>\n",
       "      <th>birthrate</th>\n",
       "      <th>deathrate</th>\n",
       "      <th>life expectancy</th>\n",
       "      <th>coastal</th>\n",
       "    </tr>\n",
       "    <tr>\n",
       "      <th>continent</th>\n",
       "      <th></th>\n",
       "      <th></th>\n",
       "      <th></th>\n",
       "      <th></th>\n",
       "      <th></th>\n",
       "      <th></th>\n",
       "      <th></th>\n",
       "    </tr>\n",
       "  </thead>\n",
       "  <tbody>\n",
       "    <tr>\n",
       "      <th>Africa</th>\n",
       "      <td>45403550</td>\n",
       "      <td>896235</td>\n",
       "      <td>1081.875000</td>\n",
       "      <td>30.850000</td>\n",
       "      <td>8.125000</td>\n",
       "      <td>61.887500</td>\n",
       "      <td>0.0</td>\n",
       "    </tr>\n",
       "    <tr>\n",
       "      <th>Asia</th>\n",
       "      <td>128834762</td>\n",
       "      <td>717135</td>\n",
       "      <td>5658.727273</td>\n",
       "      <td>17.345455</td>\n",
       "      <td>6.372727</td>\n",
       "      <td>71.995455</td>\n",
       "      <td>0.0</td>\n",
       "    </tr>\n",
       "    <tr>\n",
       "      <th>Europe</th>\n",
       "      <td>53361640</td>\n",
       "      <td>400721</td>\n",
       "      <td>4282.000000</td>\n",
       "      <td>9.887500</td>\n",
       "      <td>10.687500</td>\n",
       "      <td>77.525000</td>\n",
       "      <td>NaN</td>\n",
       "    </tr>\n",
       "    <tr>\n",
       "      <th>North America</th>\n",
       "      <td>79264827</td>\n",
       "      <td>5895525</td>\n",
       "      <td>14627.000000</td>\n",
       "      <td>11.400000</td>\n",
       "      <td>6.750000</td>\n",
       "      <td>77.850000</td>\n",
       "      <td>NaN</td>\n",
       "    </tr>\n",
       "    <tr>\n",
       "      <th>South America</th>\n",
       "      <td>38190242</td>\n",
       "      <td>1529144</td>\n",
       "      <td>3352.750000</td>\n",
       "      <td>16.400000</td>\n",
       "      <td>5.800000</td>\n",
       "      <td>74.750000</td>\n",
       "      <td>NaN</td>\n",
       "    </tr>\n",
       "  </tbody>\n",
       "</table>\n",
       "</div>"
      ],
      "text/plain": [
       "               population     area     coastline  birthrate  deathrate  \\\n",
       "continent                                                                \n",
       "Africa           45403550   896235   1081.875000  30.850000   8.125000   \n",
       "Asia            128834762   717135   5658.727273  17.345455   6.372727   \n",
       "Europe           53361640   400721   4282.000000   9.887500  10.687500   \n",
       "North America    79264827  5895525  14627.000000  11.400000   6.750000   \n",
       "South America    38190242  1529144   3352.750000  16.400000   5.800000   \n",
       "\n",
       "               life expectancy  coastal  \n",
       "continent                                \n",
       "Africa               61.887500      0.0  \n",
       "Asia                 71.995455      0.0  \n",
       "Europe               77.525000      NaN  \n",
       "North America        77.850000      NaN  \n",
       "South America        74.750000      NaN  "
      ]
     },
     "execution_count": 98,
     "metadata": {},
     "output_type": "execute_result"
    }
   ],
   "source": [
    "Country[Country['country']!='Australia' ].groupby('continent').agg(trunc_mean)"
   ]
  },
  {
   "cell_type": "markdown",
   "metadata": {},
   "source": [
    "**Exercise 6**\n",
    "\n",
    "Using the data frame Employees:\n",
    "\n",
    "- Find the minimum, mean and the maximum of the 'Year' for each Department.\n",
    "- How many female or male are in each department? For each sex in each department, what are the minimum, the mean and the maximum of their salary?\n",
    "- For each department, compute the difference between the maximal salary and the minimal salary."
   ]
  },
  {
   "cell_type": "code",
   "execution_count": 144,
   "metadata": {
    "collapsed": false
   },
   "outputs": [],
   "source": [
    "#### Your code here\n"
   ]
  },
  {
   "cell_type": "markdown",
   "metadata": {
    "collapsed": true
   },
   "source": [
    "<p><a name=\"sol\"></a></p>\n",
    "# Solutions"
   ]
  },
  {
   "cell_type": "markdown",
   "metadata": {},
   "source": [
    "**Exercise 6**"
   ]
  },
  {
   "cell_type": "code",
   "execution_count": null,
   "metadata": {
    "collapsed": false
   },
   "outputs": [],
   "source": [
    "Employee.groupby('Department')['Year'].agg(['min','max','mean'])\n",
    "Employee.groupby(['Department', 'Sex']).agg(['size', 'min','max','mean'])\n",
    "Employee.groupby('Department')[['Salary']].agg(lambda x: x.max()- x.min())"
   ]
  }
 ],
 "metadata": {
  "anaconda-cloud": {},
  "kernelspec": {
   "display_name": "Python [default]",
   "language": "python",
   "name": "python2"
  },
  "language_info": {
   "codemirror_mode": {
    "name": "ipython",
    "version": 2
   },
   "file_extension": ".py",
   "mimetype": "text/x-python",
   "name": "python",
   "nbconvert_exporter": "python",
   "pygments_lexer": "ipython2",
   "version": "2.7.12"
  }
 },
 "nbformat": 4,
 "nbformat_minor": 0
}
