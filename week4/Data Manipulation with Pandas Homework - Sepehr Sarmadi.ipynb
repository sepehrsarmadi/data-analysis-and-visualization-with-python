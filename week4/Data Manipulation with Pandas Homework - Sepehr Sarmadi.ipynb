{
 "cells": [
  {
   "cell_type": "markdown",
   "metadata": {},
   "source": [
    "# Homework"
   ]
  },
  {
   "cell_type": "markdown",
   "metadata": {},
   "source": [
    "### Problem 1\n",
    "In this question, we will use the csv file **Temp.csv**. \n",
    "- Read it into a data frame, call it `Temp`. (Import the packages you think you need)."
   ]
  },
  {
   "cell_type": "code",
   "execution_count": 5,
   "metadata": {
    "collapsed": false
   },
   "outputs": [
    {
     "data": {
      "text/html": [
       "<div>\n",
       "<table border=\"1\" class=\"dataframe\">\n",
       "  <thead>\n",
       "    <tr style=\"text-align: right;\">\n",
       "      <th></th>\n",
       "      <th>City</th>\n",
       "      <th>State</th>\n",
       "      <th>Temperature</th>\n",
       "    </tr>\n",
       "  </thead>\n",
       "  <tbody>\n",
       "    <tr>\n",
       "      <th>0</th>\n",
       "      <td>NYC</td>\n",
       "      <td>New York</td>\n",
       "      <td>67</td>\n",
       "    </tr>\n",
       "    <tr>\n",
       "      <th>1</th>\n",
       "      <td>Albany</td>\n",
       "      <td>New York</td>\n",
       "      <td>49</td>\n",
       "    </tr>\n",
       "    <tr>\n",
       "      <th>2</th>\n",
       "      <td>Buffalo</td>\n",
       "      <td>New York</td>\n",
       "      <td>38</td>\n",
       "    </tr>\n",
       "    <tr>\n",
       "      <th>3</th>\n",
       "      <td>Hartford</td>\n",
       "      <td>Connecticut</td>\n",
       "      <td>63</td>\n",
       "    </tr>\n",
       "    <tr>\n",
       "      <th>4</th>\n",
       "      <td>Bridgeport</td>\n",
       "      <td>Connecticut</td>\n",
       "      <td>58</td>\n",
       "    </tr>\n",
       "    <tr>\n",
       "      <th>5</th>\n",
       "      <td>Treton</td>\n",
       "      <td>New Jersey</td>\n",
       "      <td>72</td>\n",
       "    </tr>\n",
       "    <tr>\n",
       "      <th>6</th>\n",
       "      <td>Newark</td>\n",
       "      <td>New Jersey</td>\n",
       "      <td>68</td>\n",
       "    </tr>\n",
       "  </tbody>\n",
       "</table>\n",
       "</div>"
      ],
      "text/plain": [
       "         City        State  Temperature\n",
       "0         NYC     New York           67\n",
       "1      Albany     New York           49\n",
       "2     Buffalo     New York           38\n",
       "3    Hartford  Connecticut           63\n",
       "4  Bridgeport  Connecticut           58\n",
       "5      Treton   New Jersey           72\n",
       "6      Newark   New Jersey           68"
      ]
     },
     "execution_count": 5,
     "metadata": {},
     "output_type": "execute_result"
    }
   ],
   "source": [
    "#### Your code here\n",
    "import numpy as np\n",
    "import pandas as pd\n",
    "\n",
    "Temp = pd.read_csv('Temp.csv')\n",
    "Temp"
   ]
  },
  {
   "cell_type": "markdown",
   "metadata": {},
   "source": [
    "- We learned that the temperature at New Haven, Connecticut is currently 58 degree fahrenheit. Add this information into the DataFrame."
   ]
  },
  {
   "cell_type": "code",
   "execution_count": 12,
   "metadata": {
    "collapsed": false
   },
   "outputs": [
    {
     "data": {
      "text/html": [
       "<div>\n",
       "<table border=\"1\" class=\"dataframe\">\n",
       "  <thead>\n",
       "    <tr style=\"text-align: right;\">\n",
       "      <th></th>\n",
       "      <th>City</th>\n",
       "      <th>State</th>\n",
       "      <th>Temperature</th>\n",
       "    </tr>\n",
       "  </thead>\n",
       "  <tbody>\n",
       "    <tr>\n",
       "      <th>0</th>\n",
       "      <td>NYC</td>\n",
       "      <td>New York</td>\n",
       "      <td>67</td>\n",
       "    </tr>\n",
       "    <tr>\n",
       "      <th>1</th>\n",
       "      <td>Albany</td>\n",
       "      <td>New York</td>\n",
       "      <td>49</td>\n",
       "    </tr>\n",
       "    <tr>\n",
       "      <th>2</th>\n",
       "      <td>Buffalo</td>\n",
       "      <td>New York</td>\n",
       "      <td>38</td>\n",
       "    </tr>\n",
       "    <tr>\n",
       "      <th>3</th>\n",
       "      <td>Hartford</td>\n",
       "      <td>Connecticut</td>\n",
       "      <td>63</td>\n",
       "    </tr>\n",
       "    <tr>\n",
       "      <th>4</th>\n",
       "      <td>Bridgeport</td>\n",
       "      <td>Connecticut</td>\n",
       "      <td>58</td>\n",
       "    </tr>\n",
       "    <tr>\n",
       "      <th>5</th>\n",
       "      <td>Treton</td>\n",
       "      <td>New Jersey</td>\n",
       "      <td>72</td>\n",
       "    </tr>\n",
       "    <tr>\n",
       "      <th>6</th>\n",
       "      <td>Newark</td>\n",
       "      <td>New Jersey</td>\n",
       "      <td>68</td>\n",
       "    </tr>\n",
       "    <tr>\n",
       "      <th>7</th>\n",
       "      <td>New Haven</td>\n",
       "      <td>Connecticut</td>\n",
       "      <td>58</td>\n",
       "    </tr>\n",
       "  </tbody>\n",
       "</table>\n",
       "</div>"
      ],
      "text/plain": [
       "         City        State  Temperature\n",
       "0         NYC     New York           67\n",
       "1      Albany     New York           49\n",
       "2     Buffalo     New York           38\n",
       "3    Hartford  Connecticut           63\n",
       "4  Bridgeport  Connecticut           58\n",
       "5      Treton   New Jersey           72\n",
       "6      Newark   New Jersey           68\n",
       "7   New Haven  Connecticut           58"
      ]
     },
     "execution_count": 12,
     "metadata": {},
     "output_type": "execute_result"
    }
   ],
   "source": [
    "#### Your code here\n",
    "\n",
    "new_data = pd.DataFrame({'City': ['New Haven'],'State': ['Connecticut'],'Temperature': [58]})\n",
    "new_data\n",
    "Temp = pd.concat([Temp, new_data], axis = 0, ignore_index=True)\n",
    "Temp"
   ]
  },
  {
   "cell_type": "markdown",
   "metadata": {},
   "source": [
    "- Replace the names of the states by their abbreviations. That is \n",
    "    - Connecticut --> CT\n",
    "    - New Jersey  --> NJ\n",
    "    - New York    --> NY"
   ]
  },
  {
   "cell_type": "code",
   "execution_count": 13,
   "metadata": {
    "collapsed": false
   },
   "outputs": [
    {
     "data": {
      "text/html": [
       "<div>\n",
       "<table border=\"1\" class=\"dataframe\">\n",
       "  <thead>\n",
       "    <tr style=\"text-align: right;\">\n",
       "      <th></th>\n",
       "      <th>City</th>\n",
       "      <th>State</th>\n",
       "      <th>Temperature</th>\n",
       "    </tr>\n",
       "  </thead>\n",
       "  <tbody>\n",
       "    <tr>\n",
       "      <th>0</th>\n",
       "      <td>NYC</td>\n",
       "      <td>NY</td>\n",
       "      <td>67</td>\n",
       "    </tr>\n",
       "    <tr>\n",
       "      <th>1</th>\n",
       "      <td>Albany</td>\n",
       "      <td>NY</td>\n",
       "      <td>49</td>\n",
       "    </tr>\n",
       "    <tr>\n",
       "      <th>2</th>\n",
       "      <td>Buffalo</td>\n",
       "      <td>NY</td>\n",
       "      <td>38</td>\n",
       "    </tr>\n",
       "    <tr>\n",
       "      <th>3</th>\n",
       "      <td>Hartford</td>\n",
       "      <td>CT</td>\n",
       "      <td>63</td>\n",
       "    </tr>\n",
       "    <tr>\n",
       "      <th>4</th>\n",
       "      <td>Bridgeport</td>\n",
       "      <td>CT</td>\n",
       "      <td>58</td>\n",
       "    </tr>\n",
       "    <tr>\n",
       "      <th>5</th>\n",
       "      <td>Treton</td>\n",
       "      <td>NJ</td>\n",
       "      <td>72</td>\n",
       "    </tr>\n",
       "    <tr>\n",
       "      <th>6</th>\n",
       "      <td>Newark</td>\n",
       "      <td>NJ</td>\n",
       "      <td>68</td>\n",
       "    </tr>\n",
       "    <tr>\n",
       "      <th>7</th>\n",
       "      <td>New Haven</td>\n",
       "      <td>CT</td>\n",
       "      <td>58</td>\n",
       "    </tr>\n",
       "  </tbody>\n",
       "</table>\n",
       "</div>"
      ],
      "text/plain": [
       "         City State  Temperature\n",
       "0         NYC    NY           67\n",
       "1      Albany    NY           49\n",
       "2     Buffalo    NY           38\n",
       "3    Hartford    CT           63\n",
       "4  Bridgeport    CT           58\n",
       "5      Treton    NJ           72\n",
       "6      Newark    NJ           68\n",
       "7   New Haven    CT           58"
      ]
     },
     "execution_count": 13,
     "metadata": {},
     "output_type": "execute_result"
    }
   ],
   "source": [
    "#### Your code here\n",
    "\n",
    "Temp.replace('Connecticut', 'CT', inplace = True)\n",
    "Temp.replace('New Jersey', 'NJ', inplace = True)\n",
    "Temp.replace('New York', 'NY', inplace = True)\n",
    "Temp"
   ]
  },
  {
   "cell_type": "markdown",
   "metadata": {},
   "source": [
    "- Select the rows in New York."
   ]
  },
  {
   "cell_type": "code",
   "execution_count": 18,
   "metadata": {
    "collapsed": false
   },
   "outputs": [
    {
     "data": {
      "text/html": [
       "<div>\n",
       "<table border=\"1\" class=\"dataframe\">\n",
       "  <thead>\n",
       "    <tr style=\"text-align: right;\">\n",
       "      <th></th>\n",
       "      <th>City</th>\n",
       "      <th>State</th>\n",
       "      <th>Temperature</th>\n",
       "    </tr>\n",
       "  </thead>\n",
       "  <tbody>\n",
       "    <tr>\n",
       "      <th>0</th>\n",
       "      <td>NYC</td>\n",
       "      <td>NY</td>\n",
       "      <td>67</td>\n",
       "    </tr>\n",
       "    <tr>\n",
       "      <th>1</th>\n",
       "      <td>Albany</td>\n",
       "      <td>NY</td>\n",
       "      <td>49</td>\n",
       "    </tr>\n",
       "    <tr>\n",
       "      <th>2</th>\n",
       "      <td>Buffalo</td>\n",
       "      <td>NY</td>\n",
       "      <td>38</td>\n",
       "    </tr>\n",
       "  </tbody>\n",
       "</table>\n",
       "</div>"
      ],
      "text/plain": [
       "      City State  Temperature\n",
       "0      NYC    NY           67\n",
       "1   Albany    NY           49\n",
       "2  Buffalo    NY           38"
      ]
     },
     "execution_count": 18,
     "metadata": {},
     "output_type": "execute_result"
    }
   ],
   "source": [
    "#### Your code here\n",
    "\n",
    "Temp[Temp['State']=='NY']"
   ]
  },
  {
   "cell_type": "markdown",
   "metadata": {},
   "source": [
    "- What is the average of the temperature of cities in NY?"
   ]
  },
  {
   "cell_type": "code",
   "execution_count": 19,
   "metadata": {
    "collapsed": false
   },
   "outputs": [
    {
     "data": {
      "text/plain": [
       "51.333333333333336"
      ]
     },
     "execution_count": 19,
     "metadata": {},
     "output_type": "execute_result"
    }
   ],
   "source": [
    "#### Your code here\n",
    "\n",
    "a=Temp[Temp['State']=='NY']\n",
    "a.loc[:,'Temperature'].mean()"
   ]
  },
  {
   "cell_type": "markdown",
   "metadata": {
    "collapsed": true
   },
   "source": [
    "- Find the mean and the standard deviation of the temperature of each state."
   ]
  },
  {
   "cell_type": "code",
   "execution_count": 20,
   "metadata": {
    "collapsed": false
   },
   "outputs": [
    {
     "data": {
      "text/html": [
       "<div>\n",
       "<table border=\"1\" class=\"dataframe\">\n",
       "  <thead>\n",
       "    <tr>\n",
       "      <th></th>\n",
       "      <th colspan=\"2\" halign=\"left\">Temperature</th>\n",
       "    </tr>\n",
       "    <tr>\n",
       "      <th></th>\n",
       "      <th>mean</th>\n",
       "      <th>std</th>\n",
       "    </tr>\n",
       "    <tr>\n",
       "      <th>State</th>\n",
       "      <th></th>\n",
       "      <th></th>\n",
       "    </tr>\n",
       "  </thead>\n",
       "  <tbody>\n",
       "    <tr>\n",
       "      <th>CT</th>\n",
       "      <td>59.666667</td>\n",
       "      <td>2.886751</td>\n",
       "    </tr>\n",
       "    <tr>\n",
       "      <th>NJ</th>\n",
       "      <td>70.000000</td>\n",
       "      <td>2.828427</td>\n",
       "    </tr>\n",
       "    <tr>\n",
       "      <th>NY</th>\n",
       "      <td>51.333333</td>\n",
       "      <td>14.640128</td>\n",
       "    </tr>\n",
       "  </tbody>\n",
       "</table>\n",
       "</div>"
      ],
      "text/plain": [
       "      Temperature           \n",
       "             mean        std\n",
       "State                       \n",
       "CT      59.666667   2.886751\n",
       "NJ      70.000000   2.828427\n",
       "NY      51.333333  14.640128"
      ]
     },
     "execution_count": 20,
     "metadata": {},
     "output_type": "execute_result"
    }
   ],
   "source": [
    "#### Your code here\n",
    "\n",
    "group = Temp.groupby('State')\n",
    "colFun = {'Temperature': ['mean','std']}\n",
    "group.agg(colFun)\n"
   ]
  },
  {
   "cell_type": "markdown",
   "metadata": {},
   "source": [
    "- We know the capital of each state: \n",
    "    - Connecticut --> Hartford\n",
    "    - New Jersey  --> Treton\n",
    "    - New York    --> Albany\n",
    "    \n",
    "    Create a data frame, `Capital`, with two columns: State and Capital, which should look like:\n",
    "    \n",
    "|| State| Capital|\n",
    "| :-: |:---: | :---:|\n",
    "| 0| CT  | Hartford|\n",
    "| 1| NJ | Treton|\n",
    "| 2| NY| Albany|"
   ]
  },
  {
   "cell_type": "code",
   "execution_count": 21,
   "metadata": {
    "collapsed": false
   },
   "outputs": [
    {
     "data": {
      "text/html": [
       "<div>\n",
       "<table border=\"1\" class=\"dataframe\">\n",
       "  <thead>\n",
       "    <tr style=\"text-align: right;\">\n",
       "      <th></th>\n",
       "      <th>Capital</th>\n",
       "      <th>State</th>\n",
       "    </tr>\n",
       "  </thead>\n",
       "  <tbody>\n",
       "    <tr>\n",
       "      <th>0</th>\n",
       "      <td>Hartford</td>\n",
       "      <td>CT</td>\n",
       "    </tr>\n",
       "    <tr>\n",
       "      <th>1</th>\n",
       "      <td>Treton</td>\n",
       "      <td>NJ</td>\n",
       "    </tr>\n",
       "    <tr>\n",
       "      <th>2</th>\n",
       "      <td>Albany</td>\n",
       "      <td>NY</td>\n",
       "    </tr>\n",
       "  </tbody>\n",
       "</table>\n",
       "</div>"
      ],
      "text/plain": [
       "    Capital State\n",
       "0  Hartford    CT\n",
       "1    Treton    NJ\n",
       "2    Albany    NY"
      ]
     },
     "execution_count": 21,
     "metadata": {},
     "output_type": "execute_result"
    }
   ],
   "source": [
    "#### Your code here\n",
    "\n",
    "Capital = pd.DataFrame({'State':['CT','NJ','NY'], 'Capital':['Hartford','Treton','Albany']} )\n",
    "Capital"
   ]
  },
  {
   "cell_type": "markdown",
   "metadata": {},
   "source": [
    "- Mutate a new boolean column, `Capital`, to `Temp`, which is `True` if the city in the row is the capital of the state, else `False`."
   ]
  },
  {
   "cell_type": "code",
   "execution_count": 22,
   "metadata": {
    "collapsed": false
   },
   "outputs": [
    {
     "data": {
      "text/html": [
       "<div>\n",
       "<table border=\"1\" class=\"dataframe\">\n",
       "  <thead>\n",
       "    <tr style=\"text-align: right;\">\n",
       "      <th></th>\n",
       "      <th>City</th>\n",
       "      <th>State</th>\n",
       "      <th>Temperature</th>\n",
       "      <th>Capital</th>\n",
       "      <th>is_Capital</th>\n",
       "    </tr>\n",
       "  </thead>\n",
       "  <tbody>\n",
       "    <tr>\n",
       "      <th>0</th>\n",
       "      <td>NYC</td>\n",
       "      <td>NY</td>\n",
       "      <td>67</td>\n",
       "      <td>Albany</td>\n",
       "      <td>False</td>\n",
       "    </tr>\n",
       "    <tr>\n",
       "      <th>1</th>\n",
       "      <td>Albany</td>\n",
       "      <td>NY</td>\n",
       "      <td>49</td>\n",
       "      <td>Albany</td>\n",
       "      <td>True</td>\n",
       "    </tr>\n",
       "    <tr>\n",
       "      <th>2</th>\n",
       "      <td>Buffalo</td>\n",
       "      <td>NY</td>\n",
       "      <td>38</td>\n",
       "      <td>Albany</td>\n",
       "      <td>False</td>\n",
       "    </tr>\n",
       "    <tr>\n",
       "      <th>3</th>\n",
       "      <td>Hartford</td>\n",
       "      <td>CT</td>\n",
       "      <td>63</td>\n",
       "      <td>Hartford</td>\n",
       "      <td>True</td>\n",
       "    </tr>\n",
       "    <tr>\n",
       "      <th>4</th>\n",
       "      <td>Bridgeport</td>\n",
       "      <td>CT</td>\n",
       "      <td>58</td>\n",
       "      <td>Hartford</td>\n",
       "      <td>False</td>\n",
       "    </tr>\n",
       "    <tr>\n",
       "      <th>5</th>\n",
       "      <td>New Haven</td>\n",
       "      <td>CT</td>\n",
       "      <td>58</td>\n",
       "      <td>Hartford</td>\n",
       "      <td>False</td>\n",
       "    </tr>\n",
       "    <tr>\n",
       "      <th>6</th>\n",
       "      <td>Treton</td>\n",
       "      <td>NJ</td>\n",
       "      <td>72</td>\n",
       "      <td>Treton</td>\n",
       "      <td>True</td>\n",
       "    </tr>\n",
       "    <tr>\n",
       "      <th>7</th>\n",
       "      <td>Newark</td>\n",
       "      <td>NJ</td>\n",
       "      <td>68</td>\n",
       "      <td>Treton</td>\n",
       "      <td>False</td>\n",
       "    </tr>\n",
       "  </tbody>\n",
       "</table>\n",
       "</div>"
      ],
      "text/plain": [
       "         City State  Temperature   Capital is_Capital\n",
       "0         NYC    NY           67    Albany      False\n",
       "1      Albany    NY           49    Albany       True\n",
       "2     Buffalo    NY           38    Albany      False\n",
       "3    Hartford    CT           63  Hartford       True\n",
       "4  Bridgeport    CT           58  Hartford      False\n",
       "5   New Haven    CT           58  Hartford      False\n",
       "6      Treton    NJ           72    Treton       True\n",
       "7      Newark    NJ           68    Treton      False"
      ]
     },
     "execution_count": 22,
     "metadata": {},
     "output_type": "execute_result"
    }
   ],
   "source": [
    "#### Your code here\n",
    "\n",
    "Temp = pd.merge(Temp, Capital, how='inner', on ='State')\n",
    "Temp['is_Capital'] = (Temp['City'] == Temp['Capital'])\n",
    "Temp"
   ]
  },
  {
   "cell_type": "markdown",
   "metadata": {
    "collapsed": true
   },
   "source": [
    "### Problem 2\n",
    "\n",
    "- a. Load the Gross Domestic Product data for the 190 ranked countries in the file **GDP.csv**. Load **Country.csv** into a DataFrame. \n",
    "- b. Match the data based on the country shortcode. How many of the IDs match? \n",
    "- c. Sort the data frame in descending order by GDP rank. What is the 13th country in the resulting data frame? (Note: GDP formats as 123,456,789.)\n",
    "- d. What is the average GDP for the \"High income: OECD\" and \"High income: nonOECD\" group?\n",
    "- e. What is the average GDP for different income groups and regions?"
   ]
  },
  {
   "cell_type": "code",
   "execution_count": 2,
   "metadata": {
    "collapsed": false
   },
   "outputs": [],
   "source": [
    "#### Your code here\n",
    "# (a)\n",
    "import numpy as np\n",
    "import pandas as pd\n",
    "gdp = pd.read_csv('GDP.csv', skiprows=range(5), header= None, usecols=[0,1,3,4], nrows=190)\n",
    "gdp.columns = ['CountryCode', 'Rank', 'CountryName', 'GDP']"
   ]
  },
  {
   "cell_type": "code",
   "execution_count": 50,
   "metadata": {
    "collapsed": false
   },
   "outputs": [
    {
     "data": {
      "text/html": [
       "<div>\n",
       "<table border=\"1\" class=\"dataframe\">\n",
       "  <thead>\n",
       "    <tr style=\"text-align: right;\">\n",
       "      <th></th>\n",
       "      <th>CountryCode</th>\n",
       "      <th>Rank</th>\n",
       "      <th>CountryName</th>\n",
       "      <th>GDP</th>\n",
       "    </tr>\n",
       "  </thead>\n",
       "  <tbody>\n",
       "    <tr>\n",
       "      <th>0</th>\n",
       "      <td>USA</td>\n",
       "      <td>1</td>\n",
       "      <td>United States</td>\n",
       "      <td>16,244,600</td>\n",
       "    </tr>\n",
       "    <tr>\n",
       "      <th>1</th>\n",
       "      <td>CHN</td>\n",
       "      <td>2</td>\n",
       "      <td>China</td>\n",
       "      <td>8,227,103</td>\n",
       "    </tr>\n",
       "    <tr>\n",
       "      <th>2</th>\n",
       "      <td>JPN</td>\n",
       "      <td>3</td>\n",
       "      <td>Japan</td>\n",
       "      <td>5,959,718</td>\n",
       "    </tr>\n",
       "    <tr>\n",
       "      <th>3</th>\n",
       "      <td>DEU</td>\n",
       "      <td>4</td>\n",
       "      <td>Germany</td>\n",
       "      <td>3,428,131</td>\n",
       "    </tr>\n",
       "    <tr>\n",
       "      <th>4</th>\n",
       "      <td>FRA</td>\n",
       "      <td>5</td>\n",
       "      <td>France</td>\n",
       "      <td>2,612,878</td>\n",
       "    </tr>\n",
       "  </tbody>\n",
       "</table>\n",
       "</div>"
      ],
      "text/plain": [
       "  CountryCode  Rank    CountryName           GDP\n",
       "0         USA     1  United States   16,244,600 \n",
       "1         CHN     2          China    8,227,103 \n",
       "2         JPN     3          Japan    5,959,718 \n",
       "3         DEU     4        Germany    3,428,131 \n",
       "4         FRA     5         France    2,612,878 "
      ]
     },
     "execution_count": 50,
     "metadata": {},
     "output_type": "execute_result"
    }
   ],
   "source": [
    "gdp.head(5)"
   ]
  },
  {
   "cell_type": "code",
   "execution_count": 3,
   "metadata": {
    "collapsed": false
   },
   "outputs": [
    {
     "name": "stdout",
     "output_type": "stream",
     "text": [
      "234\n"
     ]
    }
   ],
   "source": [
    "country = pd.read_csv('Country.csv')\n",
    "#print country.columns.tolist()\n",
    "print len(country)"
   ]
  },
  {
   "cell_type": "code",
   "execution_count": 4,
   "metadata": {
    "collapsed": false
   },
   "outputs": [
    {
     "data": {
      "text/plain": [
       "189"
      ]
     },
     "execution_count": 4,
     "metadata": {},
     "output_type": "execute_result"
    }
   ],
   "source": [
    "# (b)\n",
    "gdp2 = pd.merge(gdp, country, how='inner', on ='CountryCode')\n",
    "len(gdp2)\n"
   ]
  },
  {
   "cell_type": "code",
   "execution_count": 5,
   "metadata": {
    "collapsed": false
   },
   "outputs": [
    {
     "name": "stdout",
     "output_type": "stream",
     "text": [
      "    CountryCode  Rank                     CountryName           GDP\n",
      "0           USA     1                   United States   16,244,600 \n",
      "1           CHN     2                           China    8,227,103 \n",
      "2           JPN     3                           Japan    5,959,718 \n",
      "3           DEU     4                         Germany    3,428,131 \n",
      "4           FRA     5                          France    2,612,878 \n",
      "5           GBR     6                  United Kingdom    2,471,784 \n",
      "6           BRA     7                          Brazil    2,252,664 \n",
      "7           RUS     8              Russian Federation    2,014,775 \n",
      "8           ITA     9                           Italy    2,014,670 \n",
      "9           IND    10                           India    1,841,710 \n",
      "10          CAN    11                          Canada    1,821,424 \n",
      "11          AUS    12                       Australia    1,532,408 \n",
      "12          ESP    13                           Spain    1,322,965 \n",
      "13          MEX    14                          Mexico    1,178,126 \n",
      "14          KOR    15                     Korea, Rep.    1,129,598 \n",
      "15          IDN    16                       Indonesia      878,043 \n",
      "16          TUR    17                          Turkey      789,257 \n",
      "17          NLD    18                     Netherlands      770,555 \n",
      "18          SAU    19                    Saudi Arabia      711,050 \n",
      "19          CHE    20                     Switzerland      631,173 \n",
      "20          SWE    21                          Sweden      523,806 \n",
      "21          IRN    22              Iran, Islamic Rep.      514,060 \n",
      "22          NOR    23                          Norway      499,667 \n",
      "23          POL    24                          Poland      489,795 \n",
      "24          BEL    25                         Belgium      483,262 \n",
      "25          ARG    26                       Argentina      475,502 \n",
      "26          AUT    27                         Austria      394,708 \n",
      "27          ZAF    28                    South Africa      384,313 \n",
      "28          VEN    29                   Venezuela, RB      381,286 \n",
      "29          COL    30                        Colombia      369,606 \n",
      "..          ...   ...                             ...           ...\n",
      "160         ABW   161                           Aruba        2,584 \n",
      "161         BDI   162                         Burundi        2,472 \n",
      "162         LSO   163                         Lesotho        2,448 \n",
      "163         MDV   164                        Maldives        2,222 \n",
      "164         CAF   165        Central African Republic        2,184 \n",
      "165         CPV   166                      Cape Verde        1,827 \n",
      "166         BTN   167                          Bhutan        1,780 \n",
      "167         LBR   168                         Liberia        1,734 \n",
      "168         BLZ   169                          Belize        1,493 \n",
      "169         TMP   170                     Timor-Leste        1,293 \n",
      "170         LCA   171                       St. Lucia        1,239 \n",
      "171         ATG   172             Antigua and Barbuda        1,134 \n",
      "172         SYC   173                      Seychelles        1,129 \n",
      "173         SLB   174                 Solomon Islands        1,008 \n",
      "174         GMB   175                     Gambia, The          917 \n",
      "175         GNB   176                   Guinea-Bissau          822 \n",
      "176         VUT   177                         Vanuatu          787 \n",
      "178         KNA   178             St. Kitts and Nevis          767 \n",
      "177         GRD   178                         Grenada          767 \n",
      "179         VCT   180  St. Vincent and the Grenadines          713 \n",
      "180         WSM   181                           Samoa          684 \n",
      "181         COM   182                         Comoros          596 \n",
      "182         DMA   183                        Dominica          480 \n",
      "183         TON   184                           Tonga          472 \n",
      "184         FSM   185           Micronesia, Fed. Sts.          326 \n",
      "185         STP   186           S�o Tom� and Principe          263 \n",
      "186         PLW   187                           Palau          228 \n",
      "187         MHL   188                Marshall Islands          182 \n",
      "188         KIR   189                        Kiribati          175 \n",
      "189         TUV   190                          Tuvalu           40 \n",
      "\n",
      "[190 rows x 4 columns]\n",
      "Spain\n"
     ]
    }
   ],
   "source": [
    "# (c)\n",
    "a = gdp.sort_values('Rank', ascending=True)\n",
    "print a\n",
    "print a['CountryName'][12]"
   ]
  },
  {
   "cell_type": "code",
   "execution_count": 61,
   "metadata": {
    "collapsed": false
   },
   "outputs": [],
   "source": [
    "# (d)\n",
    "gdp2.dtypes\n",
    "# GDP is not numeric and before being able to calculate mean, we need to convert it to numeric\n",
    "\n",
    "gdp2['GDP'] = gdp2['GDP'].str.replace(',', '')\n",
    "gdp2['GDP'] = gdp2['GDP'].astype(int)\n"
   ]
  },
  {
   "cell_type": "code",
   "execution_count": 74,
   "metadata": {
    "collapsed": false
   },
   "outputs": [
    {
     "data": {
      "text/html": [
       "<div>\n",
       "<table border=\"1\" class=\"dataframe\">\n",
       "  <thead>\n",
       "    <tr>\n",
       "      <th></th>\n",
       "      <th>GDP</th>\n",
       "    </tr>\n",
       "    <tr>\n",
       "      <th></th>\n",
       "      <th>mean</th>\n",
       "    </tr>\n",
       "    <tr>\n",
       "      <th>Income Group</th>\n",
       "      <th></th>\n",
       "    </tr>\n",
       "  </thead>\n",
       "  <tbody>\n",
       "    <tr>\n",
       "      <th>High income: OECD</th>\n",
       "      <td>1.483917e+06</td>\n",
       "    </tr>\n",
       "    <tr>\n",
       "      <th>High income: nonOECD</th>\n",
       "      <td>1.043498e+05</td>\n",
       "    </tr>\n",
       "    <tr>\n",
       "      <th>Low income</th>\n",
       "      <td>1.441078e+04</td>\n",
       "    </tr>\n",
       "    <tr>\n",
       "      <th>Lower middle income</th>\n",
       "      <td>2.566635e+05</td>\n",
       "    </tr>\n",
       "    <tr>\n",
       "      <th>Upper middle income</th>\n",
       "      <td>2.318478e+05</td>\n",
       "    </tr>\n",
       "  </tbody>\n",
       "</table>\n",
       "</div>"
      ],
      "text/plain": [
       "                               GDP\n",
       "                              mean\n",
       "Income Group                      \n",
       "High income: OECD     1.483917e+06\n",
       "High income: nonOECD  1.043498e+05\n",
       "Low income            1.441078e+04\n",
       "Lower middle income   2.566635e+05\n",
       "Upper middle income   2.318478e+05"
      ]
     },
     "execution_count": 74,
     "metadata": {},
     "output_type": "execute_result"
    }
   ],
   "source": [
    "group = gdp2.groupby('Income Group')\n",
    "colFun = {'GDP': ['mean']}\n",
    "group.agg(colFun)\n"
   ]
  },
  {
   "cell_type": "code",
   "execution_count": 76,
   "metadata": {
    "collapsed": false
   },
   "outputs": [
    {
     "data": {
      "text/html": [
       "<div>\n",
       "<table border=\"1\" class=\"dataframe\">\n",
       "  <thead>\n",
       "    <tr>\n",
       "      <th></th>\n",
       "      <th></th>\n",
       "      <th>GDP</th>\n",
       "    </tr>\n",
       "    <tr>\n",
       "      <th></th>\n",
       "      <th></th>\n",
       "      <th>mean</th>\n",
       "    </tr>\n",
       "    <tr>\n",
       "      <th>Income Group</th>\n",
       "      <th>Region</th>\n",
       "      <th></th>\n",
       "    </tr>\n",
       "  </thead>\n",
       "  <tbody>\n",
       "    <tr>\n",
       "      <th rowspan=\"4\" valign=\"top\">High income: OECD</th>\n",
       "      <th>East Asia &amp; Pacific</th>\n",
       "      <td>2.197268e+06</td>\n",
       "    </tr>\n",
       "    <tr>\n",
       "      <th>Europe &amp; Central Asia</th>\n",
       "      <td>7.567044e+05</td>\n",
       "    </tr>\n",
       "    <tr>\n",
       "      <th>Middle East &amp; North Africa</th>\n",
       "      <td>2.582170e+05</td>\n",
       "    </tr>\n",
       "    <tr>\n",
       "      <th>North America</th>\n",
       "      <td>9.033012e+06</td>\n",
       "    </tr>\n",
       "    <tr>\n",
       "      <th rowspan=\"6\" valign=\"top\">High income: nonOECD</th>\n",
       "      <th>East Asia &amp; Pacific</th>\n",
       "      <td>1.496240e+05</td>\n",
       "    </tr>\n",
       "    <tr>\n",
       "      <th>Europe &amp; Central Asia</th>\n",
       "      <td>2.776660e+04</td>\n",
       "    </tr>\n",
       "    <tr>\n",
       "      <th>Latin America &amp; Caribbean</th>\n",
       "      <td>2.795480e+04</td>\n",
       "    </tr>\n",
       "    <tr>\n",
       "      <th>Middle East &amp; North Africa</th>\n",
       "      <td>2.142531e+05</td>\n",
       "    </tr>\n",
       "    <tr>\n",
       "      <th>North America</th>\n",
       "      <td>5.474000e+03</td>\n",
       "    </tr>\n",
       "    <tr>\n",
       "      <th>Sub-Saharan Africa</th>\n",
       "      <td>1.769700e+04</td>\n",
       "    </tr>\n",
       "    <tr>\n",
       "      <th rowspan=\"5\" valign=\"top\">Low income</th>\n",
       "      <th>East Asia &amp; Pacific</th>\n",
       "      <td>8.154667e+03</td>\n",
       "    </tr>\n",
       "    <tr>\n",
       "      <th>Europe &amp; Central Asia</th>\n",
       "      <td>6.723500e+03</td>\n",
       "    </tr>\n",
       "    <tr>\n",
       "      <th>Latin America &amp; Caribbean</th>\n",
       "      <td>7.843000e+03</td>\n",
       "    </tr>\n",
       "    <tr>\n",
       "      <th>South Asia</th>\n",
       "      <td>5.193833e+04</td>\n",
       "    </tr>\n",
       "    <tr>\n",
       "      <th>Sub-Saharan Africa</th>\n",
       "      <td>1.184393e+04</td>\n",
       "    </tr>\n",
       "    <tr>\n",
       "      <th rowspan=\"6\" valign=\"top\">Lower middle income</th>\n",
       "      <th>East Asia &amp; Pacific</th>\n",
       "      <td>6.604665e+05</td>\n",
       "    </tr>\n",
       "    <tr>\n",
       "      <th>Europe &amp; Central Asia</th>\n",
       "      <td>4.314029e+04</td>\n",
       "    </tr>\n",
       "    <tr>\n",
       "      <th>Latin America &amp; Caribbean</th>\n",
       "      <td>2.710667e+04</td>\n",
       "    </tr>\n",
       "    <tr>\n",
       "      <th>Middle East &amp; North Africa</th>\n",
       "      <td>1.078699e+05</td>\n",
       "    </tr>\n",
       "    <tr>\n",
       "      <th>South Asia</th>\n",
       "      <td>4.260556e+05</td>\n",
       "    </tr>\n",
       "    <tr>\n",
       "      <th>Sub-Saharan Africa</th>\n",
       "      <td>4.741100e+04</td>\n",
       "    </tr>\n",
       "    <tr>\n",
       "      <th rowspan=\"5\" valign=\"top\">Upper middle income</th>\n",
       "      <th>East Asia &amp; Pacific</th>\n",
       "      <td>1.030563e+05</td>\n",
       "    </tr>\n",
       "    <tr>\n",
       "      <th>Europe &amp; Central Asia</th>\n",
       "      <td>2.696185e+05</td>\n",
       "    </tr>\n",
       "    <tr>\n",
       "      <th>Latin America &amp; Caribbean</th>\n",
       "      <td>2.707134e+05</td>\n",
       "    </tr>\n",
       "    <tr>\n",
       "      <th>Middle East &amp; North Africa</th>\n",
       "      <td>2.542647e+05</td>\n",
       "    </tr>\n",
       "    <tr>\n",
       "      <th>Sub-Saharan Africa</th>\n",
       "      <td>7.364683e+04</td>\n",
       "    </tr>\n",
       "  </tbody>\n",
       "</table>\n",
       "</div>"
      ],
      "text/plain": [
       "                                                          GDP\n",
       "                                                         mean\n",
       "Income Group         Region                                  \n",
       "High income: OECD    East Asia & Pacific         2.197268e+06\n",
       "                     Europe & Central Asia       7.567044e+05\n",
       "                     Middle East & North Africa  2.582170e+05\n",
       "                     North America               9.033012e+06\n",
       "High income: nonOECD East Asia & Pacific         1.496240e+05\n",
       "                     Europe & Central Asia       2.776660e+04\n",
       "                     Latin America & Caribbean   2.795480e+04\n",
       "                     Middle East & North Africa  2.142531e+05\n",
       "                     North America               5.474000e+03\n",
       "                     Sub-Saharan Africa          1.769700e+04\n",
       "Low income           East Asia & Pacific         8.154667e+03\n",
       "                     Europe & Central Asia       6.723500e+03\n",
       "                     Latin America & Caribbean   7.843000e+03\n",
       "                     South Asia                  5.193833e+04\n",
       "                     Sub-Saharan Africa          1.184393e+04\n",
       "Lower middle income  East Asia & Pacific         6.604665e+05\n",
       "                     Europe & Central Asia       4.314029e+04\n",
       "                     Latin America & Caribbean   2.710667e+04\n",
       "                     Middle East & North Africa  1.078699e+05\n",
       "                     South Asia                  4.260556e+05\n",
       "                     Sub-Saharan Africa          4.741100e+04\n",
       "Upper middle income  East Asia & Pacific         1.030563e+05\n",
       "                     Europe & Central Asia       2.696185e+05\n",
       "                     Latin America & Caribbean   2.707134e+05\n",
       "                     Middle East & North Africa  2.542647e+05\n",
       "                     Sub-Saharan Africa          7.364683e+04"
      ]
     },
     "execution_count": 76,
     "metadata": {},
     "output_type": "execute_result"
    }
   ],
   "source": [
    "# (e)\n",
    "group2 = gdp2.groupby(['Income Group','Region'])\n",
    "colFun = {'GDP': ['mean']}\n",
    "group2.agg(colFun)\n",
    "\n",
    "#group2 = Country.groupby(['continent', 'currency','country'])"
   ]
  }
 ],
 "metadata": {
  "anaconda-cloud": {},
  "kernelspec": {
   "display_name": "Python [default]",
   "language": "python",
   "name": "python2"
  },
  "language_info": {
   "codemirror_mode": {
    "name": "ipython",
    "version": 2
   },
   "file_extension": ".py",
   "mimetype": "text/x-python",
   "name": "python",
   "nbconvert_exporter": "python",
   "pygments_lexer": "ipython2",
   "version": "2.7.12"
  }
 },
 "nbformat": 4,
 "nbformat_minor": 0
}
