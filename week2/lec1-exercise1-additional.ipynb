{
 "cells": [
  {
   "cell_type": "markdown",
   "metadata": {
    "internals": {
     "slide_type": "subslide"
    },
    "slideshow": {
     "slide_type": "slide"
    }
   },
   "source": [
    "(1) Write a function **countVowels** to count up the number of vowels contained in a given string. Valid vowels are: 'a', 'e', 'i', 'o', 'u'. \n",
    "\n",
    "For example, countVowels('aeiou') should return 5. "
   ]
  },
  {
   "cell_type": "code",
   "execution_count": null,
   "metadata": {
    "collapsed": false,
    "internals": {},
    "slideshow": {
     "slide_type": "-"
    }
   },
   "outputs": [],
   "source": [
    "def countVowels(word):\n",
    "    V=0\n",
    "    for i in word:\n",
    "        if i in 'AEIOUaeiou':\n",
    "            V += 1\n",
    "    return V"
   ]
  },
  {
   "cell_type": "code",
   "execution_count": null,
   "metadata": {
    "collapsed": false
   },
   "outputs": [],
   "source": [
    "print(\"hi\")\n"
   ]
  },
  {
   "cell_type": "markdown",
   "metadata": {
    "internals": {},
    "slideshow": {
     "slide_type": "-"
    }
   },
   "source": [
    "Here are more examples. Your function should return exactly the same results."
   ]
  },
  {
   "cell_type": "code",
   "execution_count": null,
   "metadata": {
    "collapsed": false,
    "internals": {},
    "slideshow": {
     "slide_type": "-"
    }
   },
   "outputs": [],
   "source": [
    "countVowels('') # 0\n"
   ]
  },
  {
   "cell_type": "code",
   "execution_count": null,
   "metadata": {
    "collapsed": false,
    "internals": {},
    "slideshow": {
     "slide_type": "-"
    }
   },
   "outputs": [],
   "source": [
    "countVowels(' bcd fgh jklmn pqrst vwxyz') # 0"
   ]
  },
  {
   "cell_type": "code",
   "execution_count": null,
   "metadata": {
    "collapsed": false,
    "internals": {},
    "slideshow": {
     "slide_type": "-"
    }
   },
   "outputs": [],
   "source": [
    "countVowels('a') # 1"
   ]
  },
  {
   "cell_type": "code",
   "execution_count": null,
   "metadata": {
    "collapsed": false,
    "internals": {},
    "slideshow": {
     "slide_type": "-"
    }
   },
   "outputs": [],
   "source": [
    "countVowels('aeiou') # 5"
   ]
  },
  {
   "cell_type": "code",
   "execution_count": null,
   "metadata": {
    "collapsed": false,
    "internals": {
     "slide_helper": "subslide_end"
    },
    "slide_helper": "subslide_end",
    "slideshow": {
     "slide_type": "-"
    }
   },
   "outputs": [],
   "source": [
    "countVowels('aeiouaeiouaeiou') # 15"
   ]
  },
  {
   "cell_type": "markdown",
   "metadata": {
    "internals": {
     "slide_type": "subslide"
    },
    "slideshow": {
     "slide_type": "slide"
    }
   },
   "source": [
    "(2) Write a function **count_nyc** to count up the number of times the string 'nyc' occurs in a given string. \n",
    "\n",
    "For example, *count_nyc('Welcome to nyc(NYC) DATA SCIENCE ACADEMY!')* should return 1, which means the function is case sensitive, \"NYC\" is not equivalent to \"nyc\"."
   ]
  },
  {
   "cell_type": "code",
   "execution_count": null,
   "metadata": {
    "collapsed": false,
    "internals": {},
    "slideshow": {
     "slide_type": "-"
    }
   },
   "outputs": [],
   "source": [
    "def count_nyc(words):\n",
    "    N=0    \n",
    "    while True:\n",
    "        find=words.find('nyc')\n",
    "        if find == -1:\n",
    "            break\n",
    "        else:\n",
    "            N += 1\n",
    "            words=words[(find+3):]\n",
    "    return N\n",
    "        \n",
    "        "
   ]
  },
  {
   "cell_type": "code",
   "execution_count": null,
   "metadata": {
    "collapsed": false
   },
   "outputs": [],
   "source": [
    "blue='nycpytpytnycnyc'\n",
    "C=count_nyc(blue)\n",
    "print(blue,C)"
   ]
  },
  {
   "cell_type": "markdown",
   "metadata": {
    "internals": {},
    "slideshow": {
     "slide_type": "-"
    }
   },
   "source": [
    "Here are more examples. Your function should return exactly the same result."
   ]
  },
  {
   "cell_type": "code",
   "execution_count": null,
   "metadata": {
    "collapsed": false,
    "internals": {},
    "slideshow": {
     "slide_type": "-"
    }
   },
   "outputs": [],
   "source": [
    "count_nyc('') # 0"
   ]
  },
  {
   "cell_type": "code",
   "execution_count": null,
   "metadata": {
    "collapsed": false,
    "internals": {},
    "slideshow": {
     "slide_type": "-"
    }
   },
   "outputs": [],
   "source": [
    "count_nyc('Welcome to NYC DATA SCIENCE ACADEMY!') # 0"
   ]
  },
  {
   "cell_type": "code",
   "execution_count": null,
   "metadata": {
    "collapsed": false,
    "internals": {},
    "slideshow": {
     "slide_type": "-"
    }
   },
   "outputs": [],
   "source": [
    "count_nyc('nyc') # 1"
   ]
  },
  {
   "cell_type": "code",
   "execution_count": null,
   "metadata": {
    "collapsed": false,
    "internals": {},
    "slideshow": {
     "slide_type": "-"
    }
   },
   "outputs": [],
   "source": [
    "count_nyc('Welcome to nyc(NYC) DATA SCIENCE ACADEMY!') # 1"
   ]
  },
  {
   "cell_type": "code",
   "execution_count": null,
   "metadata": {
    "collapsed": false,
    "internals": {
     "slide_helper": "subslide_end"
    },
    "slide_helper": "subslide_end",
    "slideshow": {
     "slide_type": "-"
    }
   },
   "outputs": [],
   "source": [
    "count_nyc('nyc_nyc__nyb') # 2"
   ]
  },
  {
   "cell_type": "markdown",
   "metadata": {
    "internals": {
     "slide_type": "subslide"
    },
    "slideshow": {
     "slide_type": "slide"
    }
   },
   "source": [
    "(3) Write a function **countString** with two arguments *raw_string* and *string_to_count*. Your function should return the number of times of *string_to_count* occurs in the the *raw_string* argument. In addition, Your function should be case insensitive in this time. \n",
    "\n",
    "For example, *countString('welcome to nyc(NYC) data science academy!', 'nyc')* should return 2."
   ]
  },
  {
   "cell_type": "code",
   "execution_count": null,
   "metadata": {
    "collapsed": false,
    "internals": {},
    "slideshow": {
     "slide_type": "-"
    }
   },
   "outputs": [],
   "source": [
    "def countString(words,sub):\n",
    "    N=0\n",
    "    if len(sub)==0:\n",
    "        raise ValueError('The length of string_to_count should not be 0!')\n",
    "    words=words.lower()\n",
    "    sub=sub.lower()\n",
    "    while True:\n",
    "        find=words.find(sub)\n",
    "        if find == -1:\n",
    "            break\n",
    "        else:\n",
    "            N += 1\n",
    "            words=words[(find+len(sub)):]\n",
    "    return N"
   ]
  },
  {
   "cell_type": "markdown",
   "metadata": {
    "internals": {},
    "slideshow": {
     "slide_type": "-"
    }
   },
   "source": [
    "Hint: in order to make you function to be case insensitive, you may transform the arguments to lower or upper case before counting. The *lower/upper* method of string can convert all the characters to lower/upper case."
   ]
  },
  {
   "cell_type": "code",
   "execution_count": null,
   "metadata": {
    "collapsed": false
   },
   "outputs": [],
   "source": [
    "countString('Welcome to nyc DATA SCIENCE ACADEMY!', '') # 1"
   ]
  },
  {
   "cell_type": "code",
   "execution_count": null,
   "metadata": {
    "collapsed": false,
    "internals": {},
    "slideshow": {
     "slide_type": "-"
    }
   },
   "outputs": [],
   "source": [
    "'ABCDEFG'.lower()"
   ]
  },
  {
   "cell_type": "code",
   "execution_count": null,
   "metadata": {
    "collapsed": false,
    "internals": {},
    "slideshow": {
     "slide_type": "-"
    }
   },
   "outputs": [],
   "source": [
    "'abcdefg'.upper()"
   ]
  },
  {
   "cell_type": "markdown",
   "metadata": {
    "internals": {},
    "slideshow": {
     "slide_type": "-"
    }
   },
   "source": [
    "Here are more examples. Your function should return exactly the same result."
   ]
  },
  {
   "cell_type": "code",
   "execution_count": null,
   "metadata": {
    "collapsed": false,
    "internals": {},
    "slideshow": {
     "slide_type": "-"
    }
   },
   "outputs": [],
   "source": [
    "countString('Welcome to nyc DATA SCIENCE ACADEMY!', 'NYC') # 1"
   ]
  },
  {
   "cell_type": "code",
   "execution_count": null,
   "metadata": {
    "collapsed": false,
    "internals": {},
    "slideshow": {
     "slide_type": "-"
    }
   },
   "outputs": [],
   "source": [
    "countString('Welcome to NYC DATA SCIENCE ACADEMY!', 'nyc') # 1"
   ]
  },
  {
   "cell_type": "code",
   "execution_count": null,
   "metadata": {
    "collapsed": false,
    "internals": {},
    "slideshow": {
     "slide_type": "-"
    }
   },
   "outputs": [],
   "source": [
    "countString('Welcome to nyc(NYC) data science academy!', 'nyc')# 2"
   ]
  },
  {
   "cell_type": "code",
   "execution_count": null,
   "metadata": {
    "collapsed": false,
    "internals": {},
    "slideshow": {
     "slide_type": "-"
    }
   },
   "outputs": [],
   "source": [
    "countString('nyc_nyc__nyb', 'NYC') # 2"
   ]
  },
  {
   "cell_type": "code",
   "execution_count": null,
   "metadata": {
    "collapsed": false,
    "internals": {
     "slide_helper": "subslide_end"
    },
    "slide_helper": "subslide_end",
    "slideshow": {
     "slide_type": "-"
    }
   },
   "outputs": [],
   "source": [
    "countString('welcome to nyc(NYC) data science academy!', '') # 42"
   ]
  },
  {
   "cell_type": "markdown",
   "metadata": {
    "internals": {
     "slide_type": "subslide"
    },
    "slideshow": {
     "slide_type": "slide"
    }
   },
   "source": [
    "(4) Recall the last example in question 3, *count_string('welcome to nyc(NYC) data science academy!', '')* returns 42, which is the length of the first argument. It is because we assign nothing to the second argument, so any character was counted. This time you need to rewrite the function **count_string**, if the second argument is still nothing, the function should raise an **ValueError** with message: <p style=\"color: red\">The length of string_to_count should not be 0!</p>\n",
    "\n",
    "Here are some examples:"
   ]
  },
  {
   "cell_type": "code",
   "execution_count": null,
   "metadata": {
    "collapsed": false,
    "internals": {},
    "slideshow": {
     "slide_type": "-"
    }
   },
   "outputs": [],
   "source": [
    "countString('hello, world!', '') \n",
    "# ValueError: The length should not be 0!"
   ]
  },
  {
   "cell_type": "code",
   "execution_count": null,
   "metadata": {
    "collapsed": false,
    "internals": {},
    "slideshow": {
     "slide_type": "-"
    }
   },
   "outputs": [],
   "source": [
    "countString('hello, world!', 'o') # 2"
   ]
  },
  {
   "cell_type": "code",
   "execution_count": null,
   "metadata": {
    "collapsed": false,
    "internals": {
     "slide_helper": "subslide_end"
    },
    "slide_helper": "subslide_end",
    "slideshow": {
     "slide_type": "-"
    }
   },
   "outputs": [],
   "source": [
    "countString('hello, world!', 'l') # 3"
   ]
  },
  {
   "cell_type": "markdown",
   "metadata": {
    "internals": {
     "slide_type": "subslide"
    },
    "slideshow": {
     "slide_type": "slide"
    }
   },
   "source": [
    "(5) Write a function **countAlphabet** to count the number of frequencies of each letter occurs. Your function should return a *dict*. Again, your function should be case insensitive."
   ]
  },
  {
   "cell_type": "code",
   "execution_count": null,
   "metadata": {
    "collapsed": false,
    "internals": {},
    "slideshow": {
     "slide_type": "-"
    }
   },
   "outputs": [],
   "source": [
    "def countAlphabet(story):\n",
    "    outdict={}\n",
    "    for i in 'abcdefghijklmnopqrstuvwxyz':\n",
    "        outdict[i]=countString(story,i)\n",
    "    return outdict\n",
    "        "
   ]
  },
  {
   "cell_type": "markdown",
   "metadata": {
    "internals": {},
    "slideshow": {
     "slide_type": "-"
    }
   },
   "source": [
    "Here are three examples. Your function should return exactly the same result."
   ]
  },
  {
   "cell_type": "code",
   "execution_count": null,
   "metadata": {
    "collapsed": false,
    "internals": {},
    "slideshow": {
     "slide_type": "-"
    }
   },
   "outputs": [],
   "source": [
    "countAlphabet('')\n",
    "# {'a': 0, 'c': 0, 'b': 0, 'e': 0, 'd': 0, 'g': 0, \\\n",
    "#  'f': 0, 'i': 0, 'h': 0, 'k': 0, 'j': 0, 'm': 0, \\\n",
    "#  'l': 0, 'o': 0, 'n': 0, 'q': 0, 'p': 0, 's': 0, \\\n",
    "#  'r': 0, 'u': 0, 't': 0, 'w': 0, 'v': 0, 'y': 0, \\\n",
    "#  'x': 0, 'z': 0}"
   ]
  },
  {
   "cell_type": "code",
   "execution_count": null,
   "metadata": {
    "collapsed": false,
    "internals": {},
    "slideshow": {
     "slide_type": "-"
    }
   },
   "outputs": [],
   "source": [
    "countAlphabet('ABCabc') \n",
    "# {'a': 2, 'c': 2, 'b': 2, 'e': 0, 'd': 0, 'g': 0, \\\n",
    "#  'f': 0, 'i': 0, 'h': 0, 'k': 0, 'j': 0, 'm': 0, \\\n",
    "#  'l': 0, 'o': 0, 'n': 0, 'q': 0, 'p': 0, 's': 0, \\\n",
    "#  'r': 0, 'u': 0, 't': 0, 'w': 0, 'v': 0, 'y': 0, \\\n",
    "#  'x': 0, 'z': 0}"
   ]
  },
  {
   "cell_type": "code",
   "execution_count": null,
   "metadata": {
    "collapsed": false,
    "internals": {},
    "slideshow": {
     "slide_type": "-"
    }
   },
   "outputs": [],
   "source": [
    "countAlphabet('ABCabc @#$@#^$%*^%*(') \n",
    "# {'a': 2, 'c': 2, 'b': 2, 'e': 0, 'd': 0, 'g': 0, \\\n",
    "#  'f': 0, 'i': 0, 'h': 0, 'k': 0, 'j': 0, 'm': 0, \\\n",
    "#  'l': 0, 'o': 0, 'n': 0, 'q': 0, 'p': 0, 's': 0, \\\n",
    "#  'r': 0, 'u': 0, 't': 0, 'w': 0, 'v': 0, 'y': 0, \\\n",
    "#  'x': 0, 'z': 0}"
   ]
  },
  {
   "cell_type": "code",
   "execution_count": null,
   "metadata": {
    "collapsed": false,
    "internals": {
     "slide_helper": "subslide_end"
    },
    "slide_helper": "subslide_end",
    "slideshow": {
     "slide_type": "-"
    }
   },
   "outputs": [],
   "source": [
    "countAlphabet('welcome to NYC data science acadmy')\n",
    "# {'a': 4, 'c': 5, 'b': 0, 'e': 4, 'd': 2, 'g': 0, \\\n",
    "# 'f': 0, 'i': 1, 'h': 0, 'k': 0, 'j': 0, 'm': 2, \\\n",
    "# 'l': 1, 'o': 2, 'n': 2, 'q': 0, 'p': 0, 's': 1, \\\n",
    "# 'r': 0, 'u': 0, 't': 2, 'w': 1, 'v': 0, 'y': 2, \\\n",
    "# 'x': 0, 'z': 0}"
   ]
  },
  {
   "cell_type": "markdown",
   "metadata": {
    "internals": {
     "slide_helper": "subslide_end"
    },
    "slide_helper": "slide_end",
    "slideshow": {
     "slide_type": "-"
    }
   },
   "source": [
    "Hint: *[chr(i)  for i in range(97, 123)]* is faster way to get the alphabet."
   ]
  },
  {
   "cell_type": "markdown",
   "metadata": {
    "internals": {
     "slide_type": "subslide"
    },
    "slideshow": {
     "slide_type": "slide"
    }
   },
   "source": [
    "(6) Similar to question 5, write a function **countLetter** to count the number of frequencies of each letter occurs. In this case your function should only return the frequencies of letters that really occurs."
   ]
  },
  {
   "cell_type": "code",
   "execution_count": null,
   "metadata": {
    "collapsed": false,
    "internals": {},
    "slideshow": {
     "slide_type": "-"
    }
   },
   "outputs": [],
   "source": [
    "def countLetter(story):\n",
    "    outdict={}\n",
    "    for i in 'abcdefghijklmnopqrstuvwxyz':\n",
    "        if i in story:\n",
    "            outdict[i]=countString(story,i)\n",
    "    return outdict"
   ]
  },
  {
   "cell_type": "markdown",
   "metadata": {
    "internals": {},
    "slideshow": {
     "slide_type": "-"
    }
   },
   "source": [
    "Here are some examples. Your function should return exactly the same result."
   ]
  },
  {
   "cell_type": "code",
   "execution_count": null,
   "metadata": {
    "collapsed": false,
    "internals": {},
    "slideshow": {
     "slide_type": "-"
    }
   },
   "outputs": [],
   "source": [
    "countLetter('') # {}"
   ]
  },
  {
   "cell_type": "code",
   "execution_count": null,
   "metadata": {
    "collapsed": false,
    "internals": {},
    "slideshow": {
     "slide_type": "-"
    }
   },
   "outputs": [],
   "source": [
    "countLetter('ABCabc') # {'a': 2, 'b': 2, 'c': 2}"
   ]
  },
  {
   "cell_type": "code",
   "execution_count": null,
   "metadata": {
    "collapsed": false,
    "internals": {},
    "slideshow": {
     "slide_type": "-"
    }
   },
   "outputs": [],
   "source": [
    "countLetter('ABCabc @#$@#^$%*^%*(') # {'a': 2, 'b': 2, 'c': 2}"
   ]
  },
  {
   "cell_type": "code",
   "execution_count": null,
   "metadata": {
    "collapsed": false,
    "internals": {
     "slide_helper": "subslide_end"
    },
    "slide_helper": "subslide_end",
    "slideshow": {
     "slide_type": "-"
    }
   },
   "outputs": [],
   "source": [
    "countLetter('welcome to NYC data science acadmy')\n",
    "# {'a': 4, 'c': 5, 'e': 4, 'd': 2, 'i': 1, 'm': 2, \\\n",
    "# 'l': 1, 'o': 2, 'n': 2, 's': 1, 't': 2, 'w': 1, 'y': 2}"
   ]
  },
  {
   "cell_type": "markdown",
   "metadata": {
    "internals": {
     "slide_type": "subslide"
    },
    "slideshow": {
     "slide_type": "slide"
    }
   },
   "source": [
    "(7) Write a function *countWord* to count the number of frequencies of each word occurs. Hint: you should split the string into a list by all the punctuations and space before counting.\n",
    "\n",
    "To get all the punctuations, import the **string** module."
   ]
  },
  {
   "cell_type": "code",
   "execution_count": null,
   "metadata": {
    "collapsed": false,
    "internals": {},
    "slideshow": {
     "slide_type": "-"
    }
   },
   "outputs": [],
   "source": [
    "import string\n",
    "string.punctuation"
   ]
  },
  {
   "cell_type": "code",
   "execution_count": null,
   "metadata": {
    "collapsed": false,
    "internals": {},
    "slideshow": {
     "slide_type": "-"
    }
   },
   "outputs": [],
   "source": [
    "def countWord(s):\n",
    "    s=s.lower()\n",
    "    s=s.translate(str.maketrans(string.punctuation,' '*len(string.punctuation)))\n",
    "    out={}\n",
    "    lst=s.split()\n",
    "    for i in lst:\n",
    "        if i in out:\n",
    "            out[i] += 1\n",
    "        else:\n",
    "            out[i] = 1\n",
    "    return out"
   ]
  },
  {
   "cell_type": "markdown",
   "metadata": {
    "internals": {},
    "slideshow": {
     "slide_type": "-"
    }
   },
   "source": [
    "Here are three examples. Your function should return exactly the same result."
   ]
  },
  {
   "cell_type": "code",
   "execution_count": null,
   "metadata": {
    "collapsed": false,
    "internals": {},
    "slideshow": {
     "slide_type": "-"
    }
   },
   "outputs": [],
   "source": [
    "countWord('hey, how are you? Im fine, and you?')\n",
    "# {'and': 1, 'are': 1, 'fine': 1, 'hey': 1, \\\n",
    "#  'how': 1, 'im': 1, 'you': 2}"
   ]
  },
  {
   "cell_type": "code",
   "execution_count": null,
   "metadata": {
    "collapsed": false,
    "internals": {},
    "slideshow": {
     "slide_type": "-"
    }
   },
   "outputs": [],
   "source": [
    "countWord('Repeat me three times!Repeat me three times!Repeat me three times!')\n",
    "# {'me': 3, 'repeat': 3, 'three': 3, 'times': 3}"
   ]
  },
  {
   "cell_type": "code",
   "execution_count": null,
   "metadata": {
    "collapsed": false,
    "internals": {
     "slide_helper": "subslide_end"
    },
    "slide_helper": "subslide_end",
    "slideshow": {
     "slide_type": "-"
    }
   },
   "outputs": [],
   "source": [
    "countWord('Vivian:Is this function hard? Jack:Not really hard.')\n",
    "# {'function': 1, '': 2, 'vivian': 1, 'this': 1, 'is': 1, \\\n",
    "#  'hard': 2, 'jack': 1, 'not': 1, 'really': 1}"
   ]
  },
  {
   "cell_type": "markdown",
   "metadata": {
    "internals": {
     "slide_type": "subslide"
    },
    "slideshow": {
     "slide_type": "slide"
    }
   },
   "source": [
    "(8) Write an iterative function, **gcdIter(a, b)**, that return the greatest common divisor of two positive integers a and b. The simplest way to solve this problem is initialize a divisor as the smaller one of a and b, and divided a and b by the divisor. If the remainder is not 0, decrease the divisor by 1 until it can be divided by a and b with remainders 0.\n",
    "\n",
    "The greatest common divisor of two positive integers is the largest integer that divides each of them without remainder. For example:\n",
    "\n",
    "$$\\begin{align}\n",
    "gcd(2, 3) &= 1 \\\\\n",
    "gcd(12, 2) &= 2 \\\\\n",
    "gcd(12, 3) &= 3 \\\\\n",
    "gcd(12, 4) &= 4\n",
    "\\end{align}\n",
    "$$\n"
   ]
  },
  {
   "cell_type": "code",
   "execution_count": null,
   "metadata": {
    "collapsed": false,
    "internals": {},
    "slideshow": {
     "slide_type": "-"
    }
   },
   "outputs": [],
   "source": [
    "def gcdIter (a,b):\n",
    "    les=min(a,b)\n",
    "    mor=max(a,b)\n",
    "    while les>0:\n",
    "        if a%les==0 and b%les==0:\n",
    "            return les\n",
    "        les -= 1 "
   ]
  },
  {
   "cell_type": "markdown",
   "metadata": {
    "internals": {},
    "slideshow": {
     "slide_type": "-"
    }
   },
   "source": [
    "Here are three examples. Your function should return exactly the same result."
   ]
  },
  {
   "cell_type": "code",
   "execution_count": null,
   "metadata": {
    "collapsed": false,
    "internals": {},
    "slideshow": {
     "slide_type": "-"
    }
   },
   "outputs": [],
   "source": [
    "gcdIter(3, 5) # 1"
   ]
  },
  {
   "cell_type": "code",
   "execution_count": null,
   "metadata": {
    "collapsed": false,
    "internals": {},
    "slideshow": {
     "slide_type": "-"
    }
   },
   "outputs": [],
   "source": [
    "gcdIter(14, 2) # 2"
   ]
  },
  {
   "cell_type": "code",
   "execution_count": null,
   "metadata": {
    "collapsed": false,
    "internals": {},
    "slideshow": {
     "slide_type": "-"
    }
   },
   "outputs": [],
   "source": [
    "gcdIter(57, 33) # 3"
   ]
  },
  {
   "cell_type": "code",
   "execution_count": null,
   "metadata": {
    "collapsed": false,
    "internals": {},
    "slideshow": {
     "slide_type": "-"
    }
   },
   "outputs": [],
   "source": [
    "gcdIter(187, 85) # 17"
   ]
  },
  {
   "cell_type": "code",
   "execution_count": null,
   "metadata": {
    "collapsed": false,
    "internals": {
     "slide_helper": "subslide_end"
    },
    "slide_helper": "subslide_end",
    "slideshow": {
     "slide_type": "-"
    }
   },
   "outputs": [],
   "source": [
    "gcdIter(179, 179) # 179"
   ]
  },
  {
   "cell_type": "markdown",
   "metadata": {
    "internals": {
     "slide_type": "subslide"
    },
    "slideshow": {
     "slide_type": "slide"
    }
   },
   "source": [
    "(9) A trick (due to Euclid) makes it easy to find greatest common divisors. Suppose that a and b are two non-negative integers and a > b:\n",
    "\n",
    "- If b=0, then gcd(a, b) = a.\n",
    "\n",
    "- Otherwise, gcd(a, b) is the same as gcd(b, a % b).\n",
    "\n",
    "- [See more details about this trick](https://en.wikipedia.org/wiki/Euclidean_algorithm#Worked_example).\n",
    "\n",
    "Try to write a function **gcdRecur(a, b)** to implement this idea recursively. Your function should not contain any *for* loops or *while* loops. We have learned a example of recursively calculating the nth Fibonacci number without loop:"
   ]
  },
  {
   "cell_type": "code",
   "execution_count": null,
   "metadata": {
    "collapsed": false,
    "internals": {},
    "slideshow": {
     "slide_type": "-"
    }
   },
   "outputs": [],
   "source": [
    "def fib(n):\n",
    "    \"\"\"Calculates nth Fibonacci number\"\"\"\n",
    "    if n == 0:\n",
    "        return 1\n",
    "    elif n == 1:\n",
    "        return 1\n",
    "    else:\n",
    "        return fib(n - 1) + fib(n - 2)"
   ]
  },
  {
   "cell_type": "code",
   "execution_count": null,
   "metadata": {
    "collapsed": false,
    "internals": {},
    "slideshow": {
     "slide_type": "-"
    }
   },
   "outputs": [],
   "source": [
    "def gcdRecur (a,b):\n",
    "    if (b == 0):\n",
    "        return a\n",
    "    else:\n",
    "        return gcdRecur (b, a % b)"
   ]
  },
  {
   "cell_type": "markdown",
   "metadata": {
    "internals": {},
    "slideshow": {
     "slide_type": "-"
    }
   },
   "source": [
    "Your function should pass the same tests in question 8."
   ]
  },
  {
   "cell_type": "code",
   "execution_count": null,
   "metadata": {
    "collapsed": false,
    "internals": {},
    "slideshow": {
     "slide_type": "-"
    }
   },
   "outputs": [],
   "source": [
    "gcdRecur(3, 5) # 1\n",
    "gcdRecur(14, 2) # 2\n",
    "gcdRecur(57, 33) # 3\n",
    "gcdRecur(179, 179) # 179"
   ]
  },
  {
   "cell_type": "markdown",
   "metadata": {
    "internals": {},
    "slideshow": {
     "slide_type": "-"
    }
   },
   "source": [
    "And here is a example which may make you realize the difference between **gcdIter** and **gcdRecur**."
   ]
  },
  {
   "cell_type": "code",
   "execution_count": null,
   "metadata": {
    "collapsed": false,
    "internals": {},
    "slideshow": {
     "slide_type": "-"
    }
   },
   "outputs": [],
   "source": [
    "gcdIter(1790007987, 12343455)  # 3"
   ]
  },
  {
   "cell_type": "code",
   "execution_count": null,
   "metadata": {
    "collapsed": false,
    "internals": {},
    "slideshow": {
     "slide_type": "-"
    }
   },
   "outputs": [],
   "source": [
    "gcdRecur(1790007987, 12343455) # 3"
   ]
  },
  {
   "cell_type": "code",
   "execution_count": null,
   "metadata": {
    "collapsed": false,
    "internals": {
     "slide_helper": "subslide_end"
    },
    "slide_helper": "subslide_end",
    "slideshow": {
     "slide_type": "-"
    }
   },
   "outputs": [],
   "source": [
    "### a script to count the time of each function\n",
    "import time\n",
    "t1 = time.clock()\n",
    "gcdIter(1790007987, 12343455)\n",
    "t2 = time.clock()\n",
    "gcdRecur(1790007987, 12343455) # 3\n",
    "t3 = time.clock()\n",
    "\n",
    "print('''\n",
    "The time of gcdIter  cost is %.5f.\n",
    "The time of gcdRecur cost is %.5f.''' %(t2 - t1, t3 - t2))"
   ]
  },
  {
   "cell_type": "markdown",
   "metadata": {
    "internals": {
     "slide_type": "subslide"
    },
    "slideshow": {
     "slide_type": "slide"
    }
   },
   "source": [
    "(10) The **bisection method** in mathematics is a root-finding method that repeatedly bisects an interval and then selects a subinterval in which a root must lie for further processing.\n",
    "\n",
    "Given a continuous function *f* and an interval $[a, b]$, which satisfies that the values of $f(a)$ and $f(b)$ are opposite, say $f(a)*f(b) < 0$(there is at least one zero crossing within the interval).\n",
    "\n",
    "- Calculate $c$, the midpoint of the interval, $c = 0.5 * (a + b)$.\n",
    "- Calculate the function value at the midpoint, $f(c)$.\n",
    "- If convergence is satisfactory (that is, $f(c)$ is sufficiently small), return $c$ and stop iterating."
   ]
  },
  {
   "cell_type": "code",
   "execution_count": 1,
   "metadata": {
    "collapsed": true
   },
   "outputs": [],
   "source": [
    "def binarySearchIter(func, x1, x2, eps = 1e-10):\n",
    "    if func(x1)*func(x2)>0:\n",
    "        raise ValueError('The sign of fun(start) and fun(end) should be opposite!')\n",
    "    if func(x1)>func(x2):\n",
    "        high_x=x1\n",
    "        low_x=x2\n",
    "    else:\n",
    "        high_x=x2\n",
    "        low_x=x1\n",
    "    dy=10*eps\n",
    "    while abs(dy) > eps:\n",
    "        mid=(high_x+low_x)*0.5\n",
    "        dy=func(mid)\n",
    "        if dy > 0 :\n",
    "            high_x=mid\n",
    "        else:\n",
    "            low_x=mid\n",
    "    return mid"
   ]
  },
  {
   "cell_type": "code",
   "execution_count": null,
   "metadata": {
    "collapsed": false,
    "internals": {},
    "slideshow": {
     "slide_type": "-"
    }
   },
   "outputs": [],
   "source": [
    "from IPython.display import Image\n",
    "Image(url='http://upload.wikimedia.org/wikipedia/commons/thumb/8/8c/Bisection_method.svg/640px-Bisection_method.svg.png')"
   ]
  },
  {
   "cell_type": "markdown",
   "metadata": {
    "internals": {},
    "slideshow": {
     "slide_type": "-"
    }
   },
   "source": [
    "Write a function **binarySearchIter(fun, start, end,  eps)** to implement this idea, find the root of function *fun* in the interval $[start, end]$. Repeat the iteration until the value of *fun(c)* is smaller than *eps*, and *eps* is a very small number, $10^{-10}$ for example. If $fun(start)*fun(end) \\ge 0$, raise an error with message <p style=\"color: red\">The sign of fun(start) and fun(end) should be opposite!</p>"
   ]
  },
  {
   "cell_type": "code",
   "execution_count": null,
   "metadata": {
    "collapsed": false,
    "internals": {},
    "slideshow": {
     "slide_type": "-"
    }
   },
   "outputs": [],
   "source": [
    "### write your function here"
   ]
  },
  {
   "cell_type": "markdown",
   "metadata": {
    "internals": {},
    "slideshow": {
     "slide_type": "-"
    }
   },
   "source": [
    "Here are three examples. Your function should return almost the same result."
   ]
  },
  {
   "cell_type": "code",
   "execution_count": 6,
   "metadata": {
    "collapsed": false,
    "internals": {},
    "slideshow": {
     "slide_type": "-"
    }
   },
   "outputs": [
    {
     "data": {
      "text/plain": [
       "-1.4142135623842478"
      ]
     },
     "execution_count": 6,
     "metadata": {},
     "output_type": "execute_result"
    }
   ],
   "source": [
    "def f(x):\n",
    "    return x ** 2 - 2\n",
    "binarySearchIter(f, -3, 0, eps = 1e-10) # -1.4142135623842478"
   ]
  },
  {
   "cell_type": "code",
   "execution_count": 7,
   "metadata": {
    "collapsed": false,
    "internals": {},
    "slideshow": {
     "slide_type": "-"
    }
   },
   "outputs": [
    {
     "data": {
      "text/plain": [
       "1.4142135623842478"
      ]
     },
     "execution_count": 7,
     "metadata": {},
     "output_type": "execute_result"
    }
   ],
   "source": [
    "binarySearchIter(f, 0, 3, eps = 1e-10) # 1.4142135623842478"
   ]
  },
  {
   "cell_type": "code",
   "execution_count": 3,
   "metadata": {
    "collapsed": false,
    "internals": {},
    "slideshow": {
     "slide_type": "-"
    }
   },
   "outputs": [
    {
     "data": {
      "text/plain": [
       "3.000000000001819"
      ]
     },
     "execution_count": 3,
     "metadata": {},
     "output_type": "execute_result"
    }
   ],
   "source": [
    "binarySearchIter(lambda x: x ** 3 - 27, 0, 5, eps = 1e-10) # 3.000000000001819"
   ]
  },
  {
   "cell_type": "code",
   "execution_count": 2,
   "metadata": {
    "collapsed": false,
    "internals": {},
    "slideshow": {
     "slide_type": "-"
    }
   },
   "outputs": [
    {
     "data": {
      "text/plain": [
       "-3.000000000001819"
      ]
     },
     "execution_count": 2,
     "metadata": {},
     "output_type": "execute_result"
    }
   ],
   "source": [
    "binarySearchIter(lambda x: x ** 3 + 27, -5, 0, eps = 1e-10) # -3.000000000001819"
   ]
  },
  {
   "cell_type": "code",
   "execution_count": 8,
   "metadata": {
    "collapsed": false,
    "internals": {
     "slide_helper": "subslide_end"
    },
    "slide_helper": "subslide_end",
    "slideshow": {
     "slide_type": "-"
    }
   },
   "outputs": [
    {
     "ename": "ValueError",
     "evalue": "The sign of fun(start) and fun(end) should be opposite!",
     "output_type": "error",
     "traceback": [
      "\u001b[0;31m---------------------------------------------------------------------------\u001b[0m",
      "\u001b[0;31mValueError\u001b[0m                                Traceback (most recent call last)",
      "\u001b[0;32m<ipython-input-8-51c2127b1e86>\u001b[0m in \u001b[0;36m<module>\u001b[0;34m()\u001b[0m\n\u001b[0;32m----> 1\u001b[0;31m \u001b[0mbinarySearchIter\u001b[0m\u001b[0;34m(\u001b[0m\u001b[0;32mlambda\u001b[0m \u001b[0mx\u001b[0m\u001b[0;34m:\u001b[0m \u001b[0mx\u001b[0m \u001b[0;34m**\u001b[0m \u001b[0;36m3\u001b[0m \u001b[0;34m+\u001b[0m \u001b[0;36m27\u001b[0m\u001b[0;34m,\u001b[0m \u001b[0;36m0\u001b[0m\u001b[0;34m,\u001b[0m \u001b[0;36m5\u001b[0m\u001b[0;34m,\u001b[0m \u001b[0meps\u001b[0m \u001b[0;34m=\u001b[0m \u001b[0;36m1e-10\u001b[0m\u001b[0;34m)\u001b[0m\u001b[0;34m\u001b[0m\u001b[0m\n\u001b[0m\u001b[1;32m      2\u001b[0m \u001b[0;31m# ValueError: The sign of fun(start) and fun(end) should be opposite!\u001b[0m\u001b[0;34m\u001b[0m\u001b[0;34m\u001b[0m\u001b[0m\n",
      "\u001b[0;32m<ipython-input-1-0a0701ccfd76>\u001b[0m in \u001b[0;36mbinarySearchIter\u001b[0;34m(func, x1, x2, eps)\u001b[0m\n\u001b[1;32m      1\u001b[0m \u001b[0;32mdef\u001b[0m \u001b[0mbinarySearchIter\u001b[0m\u001b[0;34m(\u001b[0m\u001b[0mfunc\u001b[0m\u001b[0;34m,\u001b[0m \u001b[0mx1\u001b[0m\u001b[0;34m,\u001b[0m \u001b[0mx2\u001b[0m\u001b[0;34m,\u001b[0m \u001b[0meps\u001b[0m \u001b[0;34m=\u001b[0m \u001b[0;36m1e-10\u001b[0m\u001b[0;34m)\u001b[0m\u001b[0;34m:\u001b[0m\u001b[0;34m\u001b[0m\u001b[0m\n\u001b[1;32m      2\u001b[0m     \u001b[0;32mif\u001b[0m \u001b[0mfunc\u001b[0m\u001b[0;34m(\u001b[0m\u001b[0mx1\u001b[0m\u001b[0;34m)\u001b[0m\u001b[0;34m*\u001b[0m\u001b[0mfunc\u001b[0m\u001b[0;34m(\u001b[0m\u001b[0mx2\u001b[0m\u001b[0;34m)\u001b[0m\u001b[0;34m>\u001b[0m\u001b[0;36m0\u001b[0m\u001b[0;34m:\u001b[0m\u001b[0;34m\u001b[0m\u001b[0m\n\u001b[0;32m----> 3\u001b[0;31m         \u001b[0;32mraise\u001b[0m \u001b[0mValueError\u001b[0m\u001b[0;34m(\u001b[0m\u001b[0;34m'The sign of fun(start) and fun(end) should be opposite!'\u001b[0m\u001b[0;34m)\u001b[0m\u001b[0;34m\u001b[0m\u001b[0m\n\u001b[0m\u001b[1;32m      4\u001b[0m     \u001b[0;32mif\u001b[0m \u001b[0mfunc\u001b[0m\u001b[0;34m(\u001b[0m\u001b[0mx1\u001b[0m\u001b[0;34m)\u001b[0m\u001b[0;34m>\u001b[0m\u001b[0mfunc\u001b[0m\u001b[0;34m(\u001b[0m\u001b[0mx2\u001b[0m\u001b[0;34m)\u001b[0m\u001b[0;34m:\u001b[0m\u001b[0;34m\u001b[0m\u001b[0m\n\u001b[1;32m      5\u001b[0m         \u001b[0mhigh_x\u001b[0m\u001b[0;34m=\u001b[0m\u001b[0mx1\u001b[0m\u001b[0;34m\u001b[0m\u001b[0m\n",
      "\u001b[0;31mValueError\u001b[0m: The sign of fun(start) and fun(end) should be opposite!"
     ]
    }
   ],
   "source": [
    "binarySearchIter(lambda x: x ** 3 + 27, 0, 5, eps = 1e-10) \n",
    "# ValueError: The sign of fun(start) and fun(end) should be opposite!"
   ]
  },
  {
   "cell_type": "markdown",
   "metadata": {
    "internals": {
     "slide_type": "subslide"
    },
    "slideshow": {
     "slide_type": "slide"
    }
   },
   "source": [
    "(11) In this case, please write a function **binarySearchRecur(fun, start, end,  eps)** to implement the binary search algorithm recursively. Your function should not contain any loops, which is the difference from **binarySearchIter**."
   ]
  },
  {
   "cell_type": "code",
   "execution_count": 11,
   "metadata": {
    "collapsed": false,
    "internals": {},
    "slideshow": {
     "slide_type": "-"
    }
   },
   "outputs": [],
   "source": [
    "def binarySearchRecur(func, x1, x2, eps = 1e-10):\n",
    "    if func(x1)*func(x2)>0:\n",
    "        raise ValueError('The sign of fun(start) and fun(end) should be opposite!')\n",
    "    if func(x1)>func(x2):\n",
    "        high_x=x1\n",
    "        low_x=x2\n",
    "    else:\n",
    "        high_x=x2\n",
    "        low_x=x1\n",
    "    mid=(high_x+low_x)*0.5\n",
    "    val=func(mid)\n",
    "    if abs(val) < eps:\n",
    "        return mid\n",
    "    if val > 0 :\n",
    "            high_x=mid\n",
    "    else:\n",
    "        low_x=mid\n",
    "    return binarySearchRecur(func, low_x, high_x, eps)"
   ]
  },
  {
   "cell_type": "markdown",
   "metadata": {
    "internals": {},
    "slideshow": {
     "slide_type": "-"
    }
   },
   "source": [
    "Your function should pass the same tests as in question 10."
   ]
  },
  {
   "cell_type": "code",
   "execution_count": 12,
   "metadata": {
    "collapsed": false,
    "internals": {},
    "slideshow": {
     "slide_type": "-"
    }
   },
   "outputs": [
    {
     "data": {
      "text/plain": [
       "-1.4142135623842478"
      ]
     },
     "execution_count": 12,
     "metadata": {},
     "output_type": "execute_result"
    }
   ],
   "source": [
    "def f(x):\n",
    "    return x ** 2 - 2\n",
    "binarySearchRecur(f, -3, 0, eps = 1e-10) # -1.4142135623842478"
   ]
  },
  {
   "cell_type": "code",
   "execution_count": 13,
   "metadata": {
    "collapsed": false,
    "internals": {},
    "slideshow": {
     "slide_type": "-"
    }
   },
   "outputs": [
    {
     "data": {
      "text/plain": [
       "1.4142135623842478"
      ]
     },
     "execution_count": 13,
     "metadata": {},
     "output_type": "execute_result"
    }
   ],
   "source": [
    "binarySearchRecur(f, 0, 3, eps = 1e-10) # 1.4142135623842478"
   ]
  },
  {
   "cell_type": "code",
   "execution_count": 14,
   "metadata": {
    "collapsed": false,
    "internals": {},
    "slideshow": {
     "slide_type": "-"
    }
   },
   "outputs": [
    {
     "data": {
      "text/plain": [
       "3.000000000001819"
      ]
     },
     "execution_count": 14,
     "metadata": {},
     "output_type": "execute_result"
    }
   ],
   "source": [
    "binarySearchRecur(lambda x: x ** 3 - 27, 0, 5, eps = 1e-10) # 3.000000000001819"
   ]
  },
  {
   "cell_type": "code",
   "execution_count": 15,
   "metadata": {
    "collapsed": false,
    "internals": {},
    "slideshow": {
     "slide_type": "-"
    }
   },
   "outputs": [
    {
     "data": {
      "text/plain": [
       "-3.000000000001819"
      ]
     },
     "execution_count": 15,
     "metadata": {},
     "output_type": "execute_result"
    }
   ],
   "source": [
    "binarySearchRecur(lambda x: x ** 3 + 27, -5, 0, eps = 1e-10) # -3.000000000001819"
   ]
  },
  {
   "cell_type": "code",
   "execution_count": 16,
   "metadata": {
    "collapsed": false,
    "internals": {
     "slide_helper": "subslide_end"
    },
    "slide_helper": "subslide_end",
    "slideshow": {
     "slide_type": "-"
    }
   },
   "outputs": [
    {
     "ename": "ValueError",
     "evalue": "The sign of fun(start) and fun(end) should be opposite!",
     "output_type": "error",
     "traceback": [
      "\u001b[0;31m---------------------------------------------------------------------------\u001b[0m",
      "\u001b[0;31mValueError\u001b[0m                                Traceback (most recent call last)",
      "\u001b[0;32m<ipython-input-16-033672537802>\u001b[0m in \u001b[0;36m<module>\u001b[0;34m()\u001b[0m\n\u001b[0;32m----> 1\u001b[0;31m \u001b[0mbinarySearchRecur\u001b[0m\u001b[0;34m(\u001b[0m\u001b[0;32mlambda\u001b[0m \u001b[0mx\u001b[0m\u001b[0;34m:\u001b[0m \u001b[0mx\u001b[0m \u001b[0;34m**\u001b[0m \u001b[0;36m3\u001b[0m \u001b[0;34m+\u001b[0m \u001b[0;36m27\u001b[0m\u001b[0;34m,\u001b[0m \u001b[0;36m0\u001b[0m\u001b[0;34m,\u001b[0m \u001b[0;36m5\u001b[0m\u001b[0;34m,\u001b[0m \u001b[0meps\u001b[0m \u001b[0;34m=\u001b[0m \u001b[0;36m1e-10\u001b[0m\u001b[0;34m)\u001b[0m\u001b[0;34m\u001b[0m\u001b[0m\n\u001b[0m\u001b[1;32m      2\u001b[0m \u001b[0;31m# ValueError: The sign of fun(start) and fun(end) should be opposite!\u001b[0m\u001b[0;34m\u001b[0m\u001b[0;34m\u001b[0m\u001b[0m\n",
      "\u001b[0;32m<ipython-input-11-97c129e74939>\u001b[0m in \u001b[0;36mbinarySearchRecur\u001b[0;34m(func, x1, x2, eps)\u001b[0m\n\u001b[1;32m      1\u001b[0m \u001b[0;32mdef\u001b[0m \u001b[0mbinarySearchRecur\u001b[0m\u001b[0;34m(\u001b[0m\u001b[0mfunc\u001b[0m\u001b[0;34m,\u001b[0m \u001b[0mx1\u001b[0m\u001b[0;34m,\u001b[0m \u001b[0mx2\u001b[0m\u001b[0;34m,\u001b[0m \u001b[0meps\u001b[0m \u001b[0;34m=\u001b[0m \u001b[0;36m1e-10\u001b[0m\u001b[0;34m)\u001b[0m\u001b[0;34m:\u001b[0m\u001b[0;34m\u001b[0m\u001b[0m\n\u001b[1;32m      2\u001b[0m     \u001b[0;32mif\u001b[0m \u001b[0mfunc\u001b[0m\u001b[0;34m(\u001b[0m\u001b[0mx1\u001b[0m\u001b[0;34m)\u001b[0m\u001b[0;34m*\u001b[0m\u001b[0mfunc\u001b[0m\u001b[0;34m(\u001b[0m\u001b[0mx2\u001b[0m\u001b[0;34m)\u001b[0m\u001b[0;34m>\u001b[0m\u001b[0;36m0\u001b[0m\u001b[0;34m:\u001b[0m\u001b[0;34m\u001b[0m\u001b[0m\n\u001b[0;32m----> 3\u001b[0;31m         \u001b[0;32mraise\u001b[0m \u001b[0mValueError\u001b[0m\u001b[0;34m(\u001b[0m\u001b[0;34m'The sign of fun(start) and fun(end) should be opposite!'\u001b[0m\u001b[0;34m)\u001b[0m\u001b[0;34m\u001b[0m\u001b[0m\n\u001b[0m\u001b[1;32m      4\u001b[0m     \u001b[0;32mif\u001b[0m \u001b[0mfunc\u001b[0m\u001b[0;34m(\u001b[0m\u001b[0mx1\u001b[0m\u001b[0;34m)\u001b[0m\u001b[0;34m>\u001b[0m\u001b[0mfunc\u001b[0m\u001b[0;34m(\u001b[0m\u001b[0mx2\u001b[0m\u001b[0;34m)\u001b[0m\u001b[0;34m:\u001b[0m\u001b[0;34m\u001b[0m\u001b[0m\n\u001b[1;32m      5\u001b[0m         \u001b[0mhigh_x\u001b[0m\u001b[0;34m=\u001b[0m\u001b[0mx1\u001b[0m\u001b[0;34m\u001b[0m\u001b[0m\n",
      "\u001b[0;31mValueError\u001b[0m: The sign of fun(start) and fun(end) should be opposite!"
     ]
    }
   ],
   "source": [
    "binarySearchRecur(lambda x: x ** 3 + 27, 0, 5, eps = 1e-10) \n",
    "# ValueError: The sign of fun(start) and fun(end) should be opposite!"
   ]
  },
  {
   "cell_type": "markdown",
   "metadata": {
    "internals": {
     "slide_type": "subslide"
    },
    "slideshow": {
     "slide_type": "slide"
    }
   },
   "source": [
    "(12) The Tower of Hanoi is an interesting mathematical game. It consists of three rods, and a number of disks of different sizes which can slide onto any rod. The puzzle starts with the disks in a neat stack in ascending order of size on one rod, the smallest at the top, thus making a conical shape.\n",
    "\n",
    "The objective of the puzzle is to move the entire stack to another rod, obeying the following simple rules:\n",
    "\n",
    "- Only one disk can be moved at a time.\n",
    "- Each move consists of taking the upper disk from one of the stacks and placing it on top of another stack i.e. a disk can only be moved if it is the uppermost disk on a stack.\n",
    "- No disk may be placed on top of a smaller disk.\n",
    "\n",
    "Here is simple example of how to play this game.\n",
    "![hanoi](pic/300px-Tower_of_Hanoi_4.gif)\n",
    "\n",
    "These description and the picture comes from [wikipedia](http://en.wikipedia.org/wiki/Tower_of_Hanoi)."
   ]
  },
  {
   "cell_type": "markdown",
   "metadata": {
    "internals": {},
    "slideshow": {
     "slide_type": "-"
    }
   },
   "source": [
    "Your goal is try to write a function **hanoi(n, start, end, spare)**. Given the number of disks n, print out the steps of moving these disks from the *start* rod to the *end* rod. "
   ]
  },
  {
   "cell_type": "code",
   "execution_count": 22,
   "metadata": {
    "collapsed": false,
    "internals": {},
    "slideshow": {
     "slide_type": "-"
    }
   },
   "outputs": [],
   "source": [
    "def hanoi(height,start, end, spare):\n",
    "    if height >= 1:\n",
    "        hanoi(height-1,start,spare,end)\n",
    "        moveDisk(start,end)\n",
    "        hanoi(height-1,spare,end,start)\n",
    "\n",
    "def moveDisk(fp,tp):\n",
    "    print(\"Move from\",fp,\"to\",tp)\n"
   ]
  },
  {
   "cell_type": "markdown",
   "metadata": {
    "internals": {},
    "slideshow": {
     "slide_type": "-"
    }
   },
   "source": [
    "Here are some examples:"
   ]
  },
  {
   "cell_type": "code",
   "execution_count": 23,
   "metadata": {
    "collapsed": false,
    "internals": {},
    "slideshow": {
     "slide_type": "-"
    }
   },
   "outputs": [
    {
     "name": "stdout",
     "output_type": "stream",
     "text": [
      "Move from 1 to 2\n"
     ]
    }
   ],
   "source": [
    "hanoi(1, start = 1, end = 2, spare = 3)\n",
    "# Move from 1 to 2."
   ]
  },
  {
   "cell_type": "code",
   "execution_count": 24,
   "metadata": {
    "collapsed": false,
    "internals": {},
    "slideshow": {
     "slide_type": "-"
    }
   },
   "outputs": [
    {
     "name": "stdout",
     "output_type": "stream",
     "text": [
      "Move from 1 to 3\n",
      "Move from 1 to 2\n",
      "Move from 3 to 2\n"
     ]
    }
   ],
   "source": [
    "hanoi(2, start = 1, end = 2, spare = 3)\n",
    "# Move from 1 to 3.\n",
    "# Move from 1 to 2.\n",
    "# Move from 3 to 2."
   ]
  },
  {
   "cell_type": "code",
   "execution_count": 25,
   "metadata": {
    "collapsed": false,
    "internals": {
     "slide_helper": "subslide_end"
    },
    "slide_helper": "subslide_end",
    "slideshow": {
     "slide_type": "-"
    }
   },
   "outputs": [
    {
     "name": "stdout",
     "output_type": "stream",
     "text": [
      "Move from 1 to 2\n",
      "Move from 1 to 3\n",
      "Move from 2 to 3\n",
      "Move from 1 to 2\n",
      "Move from 3 to 1\n",
      "Move from 3 to 2\n",
      "Move from 1 to 2\n"
     ]
    }
   ],
   "source": [
    "hanoi(3, start = 1, end = 2, spare = 3)\n",
    "# Move from 1 to 2.\n",
    "# Move from 1 to 3.\n",
    "# Move from 2 to 3.\n",
    "# Move from 1 to 2.\n",
    "# Move from 3 to 1.\n",
    "# Move from 3 to 2.\n",
    "# Move from 1 to 2."
   ]
  },
  {
   "cell_type": "code",
   "execution_count": 2,
   "metadata": {
    "collapsed": false
   },
   "outputs": [
    {
     "data": {
      "text/plain": [
       "233168"
      ]
     },
     "execution_count": 2,
     "metadata": {},
     "output_type": "execute_result"
    }
   ],
   "source": [
    "#Find the sum of all the multiples of 3 or 5 below 1000.\n",
    "\n",
    "sum([i for i in range(1000) if (i%3==0 or i%5==0)])"
   ]
  },
  {
   "cell_type": "code",
   "execution_count": 3,
   "metadata": {
    "collapsed": false
   },
   "outputs": [
    {
     "data": {
      "text/plain": [
       "4613732"
      ]
     },
     "execution_count": 3,
     "metadata": {},
     "output_type": "execute_result"
    }
   ],
   "source": [
    "F=[1,2]\n",
    "while True:\n",
    "    next_elem=F[-1]+F[-2]\n",
    "    if next_elem>4000000:\n",
    "        break\n",
    "    F.append(next_elem)\n",
    "sum([e for e in F if e%2==0])"
   ]
  },
  {
   "cell_type": "code",
   "execution_count": 6,
   "metadata": {
    "collapsed": false
   },
   "outputs": [
    {
     "data": {
      "text/plain": [
       "True"
      ]
     },
     "execution_count": 6,
     "metadata": {},
     "output_type": "execute_result"
    }
   ],
   "source": [
    "def isPal(num):\n",
    "    rev=int(str(num)[::-1])\n",
    "    return rev==num\n",
    "\n",
    "isPal(123454321)"
   ]
  },
  {
   "cell_type": "code",
   "execution_count": 7,
   "metadata": {
    "collapsed": false
   },
   "outputs": [
    {
     "data": {
      "text/plain": [
       "False"
      ]
     },
     "execution_count": 7,
     "metadata": {},
     "output_type": "execute_result"
    }
   ],
   "source": [
    "isPal(123454421)"
   ]
  },
  {
   "cell_type": "code",
   "execution_count": 10,
   "metadata": {
    "collapsed": false
   },
   "outputs": [
    {
     "data": {
      "text/plain": [
       "906609"
      ]
     },
     "execution_count": 10,
     "metadata": {},
     "output_type": "execute_result"
    }
   ],
   "source": [
    "max([i*j for i in range(100,1000) for j in range(100,1000) if isPal(i*j)])"
   ]
  },
  {
   "cell_type": "code",
   "execution_count": 8,
   "metadata": {
    "collapsed": false
   },
   "outputs": [
    {
     "data": {
      "text/plain": [
       "2.0"
      ]
     },
     "execution_count": 8,
     "metadata": {},
     "output_type": "execute_result"
    }
   ],
   "source": [
    "def med(L):\n",
    "    L=sorted(L)\n",
    "    length=len(L)\n",
    "    if length%2 != 0:\n",
    "        return float(L[length//2])\n",
    "    return (L[length/2]+L[length/2-1])/2.0\n",
    "\n",
    "def mad(L):\n",
    "    medi=med(L)\n",
    "    temp=[ abs(x - medi) for x in L]\n",
    "    return med(temp)\n",
    "\n",
    "mad([8,6,3,2,1,4])"
   ]
  },
  {
   "cell_type": "code",
   "execution_count": null,
   "metadata": {
    "collapsed": true
   },
   "outputs": [],
   "source": []
  }
 ],
 "metadata": {
  "anaconda-cloud": {},
  "kernelspec": {
   "display_name": "Python [default]",
   "language": "python",
   "name": "python2"
  },
  "language_info": {
   "codemirror_mode": {
    "name": "ipython",
    "version": 2
   },
   "file_extension": ".py",
   "mimetype": "text/x-python",
   "name": "python",
   "nbconvert_exporter": "python",
   "pygments_lexer": "ipython2",
   "version": "2.7.12"
  }
 },
 "nbformat": 4,
 "nbformat_minor": 0
}
