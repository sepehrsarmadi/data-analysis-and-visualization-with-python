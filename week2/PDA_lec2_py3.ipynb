{
 "cells": [
  {
   "cell_type": "markdown",
   "metadata": {},
   "source": [
    "# Data Analysis with Python\n",
    "\n",
    "## Outline\n",
    "* Classes\n",
    "* Files\n",
    "* Scripts\n",
    "* String Handling and Processing\n",
    "\n",
    "## Classes\n",
    "Python has the following built-in classes of objects:\n",
    "\n",
    "* int\n",
    "* float\n",
    "* str\n",
    "* list\n",
    "* set\n",
    "* tuple\n",
    "* dictionary\n",
    "\n",
    "Python is an **object-oriented programming language**.\n",
    "\n",
    "While this course will not do an in depth presentation of OOP, it is necessary to understand the basics of objects and classes.\n",
    "\n",
    "A **class** is a template.  It consists of a set of variables and functions.  An **object** is an instance of a class.  Class/object variables are referred to as **attributes** while class/object functions are referred to as **methods**.  Attributes and methods may belong to the object or the class.\n",
    "\n",
    "Consider the following toy example:"
   ]
  },
  {
   "cell_type": "markdown",
   "metadata": {},
   "source": [
    "## Example 1"
   ]
  },
  {
   "cell_type": "code",
   "execution_count": null,
   "metadata": {
    "collapsed": true
   },
   "outputs": [],
   "source": [
    "class Animal():\n",
    "    '''This is the documentation'''\n",
    "    \n",
    "    animal_list=[]\n",
    "    \n",
    "    def print_animals():                  #this doesn't have self so it's a class method\n",
    "        for elem in Animal.animal_list:\n",
    "            print elem\n",
    "    \n",
    "    def __init__(self,a_species,a_sound):       # this is called the constructor (creates a new instance of that class)\n",
    "        Animal.animal_list.append(a_species)\n",
    "        self.species=a_species\n",
    "        self.sound=a_sound\n",
    "        \n",
    "    def say(self):                                 # this has self so it's an object method\n",
    "        print \"A\",self.species,\"says\",self.sound      "
   ]
  },
  {
   "cell_type": "markdown",
   "metadata": {},
   "source": [
    "* `Animal` is the **class**\n",
    "* `animal_list` is a **class attribute**\n",
    "* `print_animals` is a **class method**\n",
    "* `species` and `sound` are each an **object attribute**\n",
    "* `say` is an **object method**"
   ]
  },
  {
   "cell_type": "code",
   "execution_count": null,
   "metadata": {
    "collapsed": false
   },
   "outputs": [],
   "source": [
    "tigger=Animal(\"tiger\",\"roar\")  # here we are using the constructor \n",
    "teddy=Animal(\"bear\",\"grrr\")"
   ]
  },
  {
   "cell_type": "markdown",
   "metadata": {},
   "source": [
    "* `tigger` and `teddy` are each **objects**.  They are instances of the `Animal` **class**.\n",
    "* The method `Animal()` is known as a **constructor**.  Constructors return an object instance."
   ]
  },
  {
   "cell_type": "code",
   "execution_count": null,
   "metadata": {
    "collapsed": false
   },
   "outputs": [],
   "source": [
    "Animal.animal_list"
   ]
  },
  {
   "cell_type": "code",
   "execution_count": null,
   "metadata": {
    "collapsed": false
   },
   "outputs": [],
   "source": [
    "Animal.print_animals()   #doesn't work in python 2"
   ]
  },
  {
   "cell_type": "code",
   "execution_count": null,
   "metadata": {
    "collapsed": false
   },
   "outputs": [],
   "source": [
    "teddy.species"
   ]
  },
  {
   "cell_type": "code",
   "execution_count": null,
   "metadata": {
    "collapsed": false
   },
   "outputs": [],
   "source": [
    "tigger.say()"
   ]
  },
  {
   "cell_type": "code",
   "execution_count": null,
   "metadata": {
    "collapsed": false
   },
   "outputs": [],
   "source": [
    "print(type(tigger))"
   ]
  },
  {
   "cell_type": "code",
   "execution_count": null,
   "metadata": {
    "collapsed": false
   },
   "outputs": [],
   "source": [
    "isinstance(tigger,Animal)"
   ]
  },
  {
   "cell_type": "code",
   "execution_count": null,
   "metadata": {
    "collapsed": false
   },
   "outputs": [],
   "source": [
    "isinstance(tigger, int)"
   ]
  },
  {
   "cell_type": "code",
   "execution_count": null,
   "metadata": {
    "collapsed": false
   },
   "outputs": [],
   "source": [
    "tigger.__doc__"
   ]
  },
  {
   "cell_type": "code",
   "execution_count": null,
   "metadata": {
    "collapsed": false
   },
   "outputs": [],
   "source": [
    "tigger  #tigger itself is just a reference to an object (notice the memory address it is giving us)"
   ]
  },
  {
   "cell_type": "code",
   "execution_count": null,
   "metadata": {
    "collapsed": false
   },
   "outputs": [],
   "source": [
    "tigger2 = tigger\n",
    "tigger2.sound='purrrr'\n",
    "tigger.say()"
   ]
  },
  {
   "cell_type": "markdown",
   "metadata": {},
   "source": [
    "## Example 2\n",
    "Create an instance of a list:"
   ]
  },
  {
   "cell_type": "code",
   "execution_count": null,
   "metadata": {
    "collapsed": true
   },
   "outputs": [],
   "source": [
    "li = [1, 2, 3, 4]"
   ]
  },
  {
   "cell_type": "markdown",
   "metadata": {},
   "source": [
    "Checking its type:"
   ]
  },
  {
   "cell_type": "code",
   "execution_count": null,
   "metadata": {
    "collapsed": false
   },
   "outputs": [],
   "source": [
    "type(li)"
   ]
  },
  {
   "cell_type": "code",
   "execution_count": null,
   "metadata": {
    "collapsed": false
   },
   "outputs": [],
   "source": [
    "isinstance(li,list)"
   ]
  },
  {
   "cell_type": "markdown",
   "metadata": {},
   "source": [
    "Checking its attributes"
   ]
  },
  {
   "cell_type": "code",
   "execution_count": null,
   "metadata": {
    "collapsed": false
   },
   "outputs": [],
   "source": [
    "print li.__doc__"
   ]
  },
  {
   "cell_type": "markdown",
   "metadata": {},
   "source": [
    "Check its behavior when passed to the function `len()`"
   ]
  },
  {
   "cell_type": "code",
   "execution_count": null,
   "metadata": {
    "collapsed": false
   },
   "outputs": [],
   "source": [
    "print li.__len__()\n",
    "print len(li)"
   ]
  },
  {
   "cell_type": "markdown",
   "metadata": {},
   "source": [
    "Check the number of times the value 1 appears in the list"
   ]
  },
  {
   "cell_type": "code",
   "execution_count": null,
   "metadata": {
    "collapsed": false
   },
   "outputs": [],
   "source": [
    "print  li.count(1) "
   ]
  },
  {
   "cell_type": "code",
   "execution_count": null,
   "metadata": {
    "collapsed": false
   },
   "outputs": [],
   "source": [
    "li.append(3)   #object method\n",
    "li"
   ]
  },
  {
   "cell_type": "code",
   "execution_count": null,
   "metadata": {
    "collapsed": false
   },
   "outputs": [],
   "source": [
    "list.append(li,5)  #class method\n",
    "li\n",
    "\n",
    "# in python, when you create an object method, you get for free a class method"
   ]
  },
  {
   "cell_type": "markdown",
   "metadata": {},
   "source": [
    "## Example 3\n",
    "\n",
    "### Inheritance\n",
    "\n",
    "* Classes can inherit attributes and methods from other classes, in this case `Pet` **inherits** from the `Animal` class.\n",
    "* `Pet` is said to be a subclass of `Animal`, `Animal` is a superclass of `Pet`.\n",
    "\n",
    "\n",
    "The class declaration for a subclass uses the superclass as an argument while the constructor for the subclass passes parameters to the superclass constructor, as follows: "
   ]
  },
  {
   "cell_type": "code",
   "execution_count": null,
   "metadata": {
    "collapsed": true
   },
   "outputs": [],
   "source": [
    "class Pet(Animal): \n",
    "    \n",
    "    def __init__(self, species, sound, name):\n",
    "        #super().__init__(species,sound)   # this doesn't work in python 2\n",
    "        Animal.__init__(self,species,sound)  \n",
    "        self.name = name\n",
    "              "
   ]
  },
  {
   "cell_type": "code",
   "execution_count": null,
   "metadata": {
    "collapsed": false
   },
   "outputs": [],
   "source": [
    "pup=Pet('canine','woof','Spot')"
   ]
  },
  {
   "cell_type": "code",
   "execution_count": null,
   "metadata": {
    "collapsed": false
   },
   "outputs": [],
   "source": [
    "pup.say()"
   ]
  },
  {
   "cell_type": "markdown",
   "metadata": {},
   "source": [
    "The subclass can overwrite inherited attributes and methods of the superclass."
   ]
  },
  {
   "cell_type": "code",
   "execution_count": null,
   "metadata": {
    "collapsed": false
   },
   "outputs": [],
   "source": [
    "class Pet(Animal): \n",
    "    \n",
    "    def __init__(self, species, sound, name):\n",
    "        Animal.__init__(self,species,sound)\n",
    "        self.name = name\n",
    "        \n",
    "    def say(self):\n",
    "        print self.name,\"the\",self.species,\"says\",self.sound"
   ]
  },
  {
   "cell_type": "code",
   "execution_count": null,
   "metadata": {
    "collapsed": false
   },
   "outputs": [],
   "source": [
    "kit=Pet('cat','meow','Tom')\n",
    "kit.say()"
   ]
  },
  {
   "cell_type": "code",
   "execution_count": null,
   "metadata": {
    "collapsed": false
   },
   "outputs": [],
   "source": [
    "Pet.say(kit)  # using the class methos "
   ]
  },
  {
   "cell_type": "code",
   "execution_count": null,
   "metadata": {
    "collapsed": false
   },
   "outputs": [],
   "source": [
    "Animal.say(kit)  # here I am accessing the old say method associated with the Animal class (super class version of say)"
   ]
  },
  {
   "cell_type": "markdown",
   "metadata": {},
   "source": [
    "`kit` is an instance of the subclass `Pet` and the superclass "
   ]
  },
  {
   "cell_type": "code",
   "execution_count": null,
   "metadata": {
    "collapsed": false
   },
   "outputs": [],
   "source": [
    "isinstance(kit,Animal)"
   ]
  },
  {
   "cell_type": "code",
   "execution_count": null,
   "metadata": {
    "collapsed": false
   },
   "outputs": [],
   "source": [
    "isinstance(kit,Pet)"
   ]
  },
  {
   "cell_type": "code",
   "execution_count": null,
   "metadata": {
    "collapsed": false
   },
   "outputs": [],
   "source": [
    "isinstance(tigger,Pet)"
   ]
  },
  {
   "cell_type": "markdown",
   "metadata": {},
   "source": [
    "Consider what happens when the object itself is printed, as follows:"
   ]
  },
  {
   "cell_type": "code",
   "execution_count": null,
   "metadata": {
    "collapsed": false
   },
   "outputs": [],
   "source": [
    "print tigger"
   ]
  },
  {
   "cell_type": "code",
   "execution_count": null,
   "metadata": {
    "collapsed": false
   },
   "outputs": [],
   "source": [
    "tigger"
   ]
  },
  {
   "cell_type": "code",
   "execution_count": null,
   "metadata": {
    "collapsed": false
   },
   "outputs": [],
   "source": [
    "str(tigger)"
   ]
  },
  {
   "cell_type": "markdown",
   "metadata": {
    "collapsed": false
   },
   "source": [
    "The behavior of an object in the `str` or `print` function can be changed using the `__str__` method."
   ]
  },
  {
   "cell_type": "code",
   "execution_count": null,
   "metadata": {
    "collapsed": false
   },
   "outputs": [],
   "source": [
    "class Animal():\n",
    "    '''This is the documentation'''\n",
    "    \n",
    "    animal_list=[]\n",
    "    \n",
    "    def print_animals():\n",
    "        for elem in Animal.animal_list:\n",
    "            print elem\n",
    "    \n",
    "    def __init__(self,a_species,a_sound):\n",
    "        Animal.animal_list.append(a_species)\n",
    "        self.species=a_species\n",
    "        self.sound=a_sound\n",
    "        \n",
    "    def say(self):\n",
    "        print(\"A\",self.species,\"says\",self.sound)  \n",
    "        \n",
    "    def __str__(self):    # we can change the behavior of the print function \n",
    "        return \"This %s is one of %i animals.\"  %(self.species, len(Animal.animal_list))"
   ]
  },
  {
   "cell_type": "code",
   "execution_count": null,
   "metadata": {
    "collapsed": false
   },
   "outputs": [],
   "source": [
    "tigger=Animal(\"tiger\",\"roar\")\n",
    "teddy=Animal(\"bear\",\"grrr\")\n",
    "print tigger  # now, printing the object gives us a meaningful output"
   ]
  },
  {
   "cell_type": "code",
   "execution_count": null,
   "metadata": {
    "collapsed": false
   },
   "outputs": [],
   "source": [
    "tigger"
   ]
  },
  {
   "cell_type": "code",
   "execution_count": null,
   "metadata": {
    "collapsed": false
   },
   "outputs": [],
   "source": [
    "class Pet(Animal): \n",
    "    \n",
    "    def __init__(self, species, sound, name):\n",
    "        Animal.__init__(self,species,sound)\n",
    "        self.name = name\n",
    "        \n",
    "    def say(self):\n",
    "        print self.name,\"the\",self.species,\"says\",self.sound"
   ]
  },
  {
   "cell_type": "code",
   "execution_count": null,
   "metadata": {
    "collapsed": false
   },
   "outputs": [],
   "source": [
    "kit=Pet('cat','meow','Tom')\n",
    "print kit   # this is the power of object oriented programming .. we changed the super class and all subclasses inherited "
   ]
  },
  {
   "cell_type": "markdown",
   "metadata": {
    "collapsed": false
   },
   "source": [
    "## Exercise\n",
    "\n",
    "* Create a `Dog` class which is a subclass of `Pet`\n",
    "* Make it have a `species` value \"canine\" and 'sound' value \"woof\"\n",
    "* Give it an additional object attribute `age`\n",
    "* Give it an additional object method `dog_age` which returns it's age times seven\n",
    "* Overwrite the `__str__` method so it returns a string stating the name and that it is an old dog, if it is over 10, and a puppy if it is under 3.\n",
    "* Create an instance of `Dog` and test its methods.\n"
   ]
  },
  {
   "cell_type": "code",
   "execution_count": null,
   "metadata": {
    "collapsed": true
   },
   "outputs": [],
   "source": [
    "# your code here\n",
    "\n",
    "class Dog(Pet): \n",
    "    \n",
    "    def __init__(self, name, age):\n",
    "        Pet.__init__(self,'Canine', 'Woof', name)\n",
    "        self.age = age\n",
    "        \n",
    "    def dog_age(self):\n",
    "        print self.age * 7\n",
    "        \n",
    "        \n",
    "    def __str__(self):\n",
    "        if self.age > 10:\n",
    "            return self.name + \" is an old dog.\"\n",
    "        elif self.age < 3:\n",
    "            return self.name + \" is a puppy.\"\n",
    "        else:\n",
    "            return self.name + \" is a dog\"\n",
    "        \n",
    "\n"
   ]
  },
  {
   "cell_type": "code",
   "execution_count": null,
   "metadata": {
    "collapsed": false
   },
   "outputs": [],
   "source": [
    "dg1=Dog('Scooby', 13)\n",
    "dg2=Dog('Pika', 7)\n",
    "dg3=Dog('Fido',1)\n",
    "print dg1\n",
    "print dg2\n",
    "print dg3"
   ]
  },
  {
   "cell_type": "code",
   "execution_count": null,
   "metadata": {
    "collapsed": false
   },
   "outputs": [],
   "source": [
    "dg1.dog_age()\n",
    "dg2.dog_age()\n",
    "dg3.dog_age()"
   ]
  },
  {
   "cell_type": "markdown",
   "metadata": {
    "collapsed": false
   },
   "source": [
    "## Files\n",
    "\n",
    "Working with files is fairly straightforward in Python."
   ]
  },
  {
   "cell_type": "code",
   "execution_count": null,
   "metadata": {
    "collapsed": true
   },
   "outputs": [],
   "source": [
    "f = open('fooz.txt', 'w') "
   ]
  },
  {
   "cell_type": "code",
   "execution_count": null,
   "metadata": {
    "collapsed": false
   },
   "outputs": [],
   "source": [
    "print type(f)\n"
   ]
  },
  {
   "cell_type": "code",
   "execution_count": null,
   "metadata": {
    "collapsed": false
   },
   "outputs": [],
   "source": [
    "print f.__doc__"
   ]
  },
  {
   "cell_type": "code",
   "execution_count": null,
   "metadata": {
    "collapsed": false
   },
   "outputs": [],
   "source": [
    "!dir"
   ]
  },
  {
   "cell_type": "markdown",
   "metadata": {
    "collapsed": false
   },
   "source": [
    "When open a file, the mode can be\n",
    "\n",
    "* 'r': reading (default)\n",
    "* 'w': writing\n",
    "* 'a': appending\n",
    "* 'r+': opens the file for both reading and writing\n",
    "\n",
    "In this case the mode is 'w', so we either overwrite the file \"fooz.txt\" or create a new file \"fooz.txt\".\n",
    "\n",
    "## Writing Files"
   ]
  },
  {
   "cell_type": "code",
   "execution_count": null,
   "metadata": {
    "collapsed": true
   },
   "outputs": [],
   "source": [
    "f.write('this is some text.\\nThis is another line.\\n')\n",
    "f.close()"
   ]
  },
  {
   "cell_type": "markdown",
   "metadata": {},
   "source": [
    "**Do not forget to close the file after using it.** Otherwise, you can not open the file with the other applications.\n",
    "\n",
    "Print out the contents by using a shell command, as follows:"
   ]
  },
  {
   "cell_type": "code",
   "execution_count": null,
   "metadata": {
    "collapsed": false
   },
   "outputs": [],
   "source": [
    "!more fooz.txt"
   ]
  },
  {
   "cell_type": "markdown",
   "metadata": {},
   "source": [
    "## Reading Files\n",
    "\n",
    "The `read` method returns the file contents as a string."
   ]
  },
  {
   "cell_type": "code",
   "execution_count": null,
   "metadata": {
    "collapsed": false
   },
   "outputs": [],
   "source": [
    "f = open('fooz.txt', 'r') \n",
    "f.read()"
   ]
  },
  {
   "cell_type": "markdown",
   "metadata": {},
   "source": [
    "Running `f.read` the second time will return nothing because all the contents have already been printed out."
   ]
  },
  {
   "cell_type": "code",
   "execution_count": null,
   "metadata": {
    "collapsed": false
   },
   "outputs": [],
   "source": [
    "f.read()"
   ]
  },
  {
   "cell_type": "code",
   "execution_count": null,
   "metadata": {
    "collapsed": true
   },
   "outputs": [],
   "source": [
    "f.close()"
   ]
  },
  {
   "cell_type": "markdown",
   "metadata": {},
   "source": [
    "## Reading part of the file"
   ]
  },
  {
   "cell_type": "code",
   "execution_count": null,
   "metadata": {
    "collapsed": true
   },
   "outputs": [],
   "source": [
    "f = open('fooz.txt', 'r')"
   ]
  },
  {
   "cell_type": "code",
   "execution_count": null,
   "metadata": {
    "collapsed": false
   },
   "outputs": [],
   "source": [
    "f.read(5) # the first 5 bytes"
   ]
  },
  {
   "cell_type": "code",
   "execution_count": null,
   "metadata": {
    "collapsed": false
   },
   "outputs": [],
   "source": [
    "f.read(5) # the next 5 bytes"
   ]
  },
  {
   "cell_type": "code",
   "execution_count": null,
   "metadata": {
    "collapsed": false
   },
   "outputs": [],
   "source": [
    "f.read() # the remaining contents"
   ]
  },
  {
   "cell_type": "code",
   "execution_count": null,
   "metadata": {
    "collapsed": false
   },
   "outputs": [],
   "source": [
    "f.close()\n",
    "help(f.read)"
   ]
  },
  {
   "cell_type": "markdown",
   "metadata": {},
   "source": [
    "## Reading Files\n",
    "Another way to read files is using the method **readlines**.  This method returns a list in which each element refers to one line."
   ]
  },
  {
   "cell_type": "code",
   "execution_count": null,
   "metadata": {
    "collapsed": false
   },
   "outputs": [],
   "source": [
    "f = open('fooz.txt', 'r')\n",
    "lines=f.readlines()\n",
    "print lines\n",
    "f.close()"
   ]
  },
  {
   "cell_type": "code",
   "execution_count": null,
   "metadata": {
    "collapsed": false
   },
   "outputs": [],
   "source": [
    "help(f.readline)"
   ]
  },
  {
   "cell_type": "markdown",
   "metadata": {},
   "source": [
    "## Iterating a file object\n",
    "The file object is iterable."
   ]
  },
  {
   "cell_type": "code",
   "execution_count": null,
   "metadata": {
    "collapsed": false
   },
   "outputs": [],
   "source": [
    "lines"
   ]
  },
  {
   "cell_type": "code",
   "execution_count": null,
   "metadata": {
    "collapsed": false
   },
   "outputs": [],
   "source": [
    "f = open('fooz.txt', 'r')\n",
    "for i in f:    # the file object itself is also iterable \n",
    "    print(i)\n",
    "f.close()"
   ]
  },
  {
   "cell_type": "markdown",
   "metadata": {},
   "source": [
    "Add two more lines into the file \"fooz.txt\" by using the following shell command."
   ]
  },
  {
   "cell_type": "code",
   "execution_count": null,
   "metadata": {
    "collapsed": true
   },
   "outputs": [],
   "source": [
    "!echo 'Third line.\\nFourth line.' >> fooz.txt"
   ]
  },
  {
   "cell_type": "code",
   "execution_count": null,
   "metadata": {
    "collapsed": false
   },
   "outputs": [],
   "source": [
    "!more fooz.txt"
   ]
  },
  {
   "cell_type": "code",
   "execution_count": null,
   "metadata": {
    "collapsed": false
   },
   "outputs": [],
   "source": [
    "# this reads the even lines\n",
    "f = open('fooz.txt', 'r')\n",
    "content = []\n",
    "num = 0\n",
    "for i in f:\n",
    "    num += 1\n",
    "    if num % 2 == 0:\n",
    "        content.append(i)\n",
    "        print num, ':', i\n",
    "f.close()\n",
    "print content"
   ]
  },
  {
   "cell_type": "markdown",
   "metadata": {},
   "source": [
    "## Another way to deal with files\n",
    "Another way to open a file is to use `with` statement. It will automatically close the file after use."
   ]
  },
  {
   "cell_type": "code",
   "execution_count": null,
   "metadata": {
    "collapsed": false
   },
   "outputs": [],
   "source": [
    "with open('fooz.txt', 'r') as f: #open the file for reading\n",
    "    data = f.read()\n",
    "    \n",
    "data # the file is automatically closed now"
   ]
  },
  {
   "cell_type": "code",
   "execution_count": null,
   "metadata": {
    "collapsed": false
   },
   "outputs": [],
   "source": [
    "f.readlines()  # this gives me an error because f is closed."
   ]
  },
  {
   "cell_type": "code",
   "execution_count": null,
   "metadata": {
    "collapsed": false
   },
   "outputs": [],
   "source": [
    "f=open('fooz.txt', 'r')  #open the file for reading\n",
    "data = f.read()\n",
    "f.close()\n",
    "    \n",
    "data # the file is closed now"
   ]
  },
  {
   "cell_type": "markdown",
   "metadata": {},
   "source": [
    "Since the file was closed, we can not read its contents any more.\n",
    "\n",
    "## More operations on files\n",
    "Run the following command to see more operations about file:"
   ]
  },
  {
   "cell_type": "code",
   "execution_count": null,
   "metadata": {
    "collapsed": false
   },
   "outputs": [],
   "source": [
    "help(type(f))"
   ]
  },
  {
   "cell_type": "code",
   "execution_count": null,
   "metadata": {
    "collapsed": false
   },
   "outputs": [],
   "source": [
    "type(f)"
   ]
  },
  {
   "cell_type": "markdown",
   "metadata": {},
   "source": [
    "## Preliminary Topics for the Next Object/Class Example\n",
    "\n",
    "In this case, we create a new class **myfile** which is a subclass of the existing file handling class.   It will add some more methods, such as `wordCountSort` method used to sort the frequencies of the words.\n",
    "\n",
    "Before that, it's necessary to know how to sort a dictionary.\n",
    "\n",
    "### Sort a dictionary\n",
    "\n",
    "Since dictionary is unordered, converting it to a list by using .items method is necessary.\n",
    "\n",
    "Then the function **sorted** can be used to sort a list."
   ]
  },
  {
   "cell_type": "code",
   "execution_count": 16,
   "metadata": {
    "collapsed": false
   },
   "outputs": [
    {
     "name": "stdout",
     "output_type": "stream",
     "text": [
      "[('a', 5), ('c', 2), ('b', 3)]\n"
     ]
    }
   ],
   "source": [
    "d = {'a': 5, 'b': 3, 'c':2}\n",
    "d = d.items() # convert to a list\n",
    "print d"
   ]
  },
  {
   "cell_type": "code",
   "execution_count": 17,
   "metadata": {
    "collapsed": false
   },
   "outputs": [
    {
     "data": {
      "text/plain": [
       "[('a', 5), ('b', 3), ('c', 2)]"
      ]
     },
     "execution_count": 17,
     "metadata": {},
     "output_type": "execute_result"
    }
   ],
   "source": [
    "sorted(d)  #sorts it accoring to keys"
   ]
  },
  {
   "cell_type": "code",
   "execution_count": 18,
   "metadata": {
    "collapsed": false
   },
   "outputs": [
    {
     "data": {
      "text/plain": [
       "[('c', 2), ('b', 3), ('a', 5)]"
      ]
     },
     "execution_count": 18,
     "metadata": {},
     "output_type": "execute_result"
    }
   ],
   "source": [
    "sorted(d, key = lambda x: x[1])"
   ]
  },
  {
   "cell_type": "markdown",
   "metadata": {},
   "source": [
    "* The argument `key` in sorted need a function which is callable.\n",
    "* Here `lambda x: x[1]` is a anonymous function, which is similar to the function defined by the keyword `def`.\n",
    "* This whole command means sort the list by the second element.\n",
    "\n",
    "The final subtopic before the next example is a quick review of lambda funtions.\n",
    "\n",
    "### Lambda Functions"
   ]
  },
  {
   "cell_type": "code",
   "execution_count": null,
   "metadata": {
    "collapsed": false
   },
   "outputs": [],
   "source": [
    "square1 = lambda x: x**2\n",
    "def square2(x):\n",
    "    return x ** 2\n",
    "\n",
    "print square1(2)\n",
    "print square2(2)"
   ]
  },
  {
   "cell_type": "markdown",
   "metadata": {},
   "source": [
    "The functions defined by lambda statement is called anonymous functions, which means it does not need a name."
   ]
  },
  {
   "cell_type": "code",
   "execution_count": null,
   "metadata": {
    "collapsed": false
   },
   "outputs": [],
   "source": [
    "sorted(d, key = lambda x: x[1])"
   ]
  },
  {
   "cell_type": "markdown",
   "metadata": {
    "collapsed": false
   },
   "source": [
    "## Example 4\n",
    "\n",
    "For the following example there are two classes given.  One for Python2 and one for Python3."
   ]
  },
  {
   "cell_type": "code",
   "execution_count": null,
   "metadata": {
    "collapsed": false
   },
   "outputs": [],
   "source": [
    "#python2.7 has file object\n",
    "\n",
    "import string\n",
    "class myfile(file):\n",
    "    def __init__(self, name, mode):\n",
    "        file.__init__(self, name, mode)\n",
    "        \n",
    "    def __str__(self):\n",
    "        return \"Opening file %s\" %self.name\n",
    "    \n",
    "    def wordCount(self, punctuation='\\n', ignoreCase = True):\n",
    "        '''\n",
    "        punctuation: punctuations to remove\n",
    "    \n",
    "        returns: a dict contains each word and it's corresponding frequency\n",
    "        '''\n",
    "        ## read contents and convert to lower\n",
    "        try:\n",
    "            raw_string = self.read()\n",
    "            if ignoreCase:\n",
    "                raw_string = raw_string.lower()\n",
    "        except:\n",
    "            raise Exception(\"Can't read file %s\"%self.name)\n",
    "            \n",
    "        ## repalce all the punctuations with space\n",
    "        for i in string.punctuation:\n",
    "            raw_string = raw_string.replace(i, ' ')\n",
    "        \n",
    "        if punctuation != None:\n",
    "            for i in punctuation:\n",
    "                raw_string = raw_string.replace(i, ' ')\n",
    "        \n",
    "        ## split by space, count each word\n",
    "        raw_list = raw_string.split(' ')\n",
    "        result = {}\n",
    "        for word in raw_list:\n",
    "            if word in result.keys():\n",
    "                result[word] += 1\n",
    "            else:\n",
    "                result[word] = 1\n",
    "    \n",
    "        # remove null character\n",
    "        # len('') is 0\n",
    "        result = {key:value for (key, value) in result.items() if len(key) != 0}\n",
    "        return result\n",
    "    \n",
    "    def wordCountSort(self, descend = True, punctuation='\\n', ignoreCase = True):\n",
    "        '''\n",
    "        return the sorted word frequency\n",
    "        '''\n",
    "        result = self.wordCount(punctuation, ignoreCase = ignoreCase)\n",
    "        result = sorted(result.items(), key = lambda x: x[1] , reverse = descend)\n",
    "        return result\n",
    "    \n",
    "    def mostCommonWord(self, num=5, punctuation='\\n', descend = True, ignoreCase = True):\n",
    "        '''\n",
    "        return the most common words\n",
    "        '''\n",
    "        result = self.wordCountSort(punctuation=punctuation, ignoreCase = ignoreCase, descend = descend)\n",
    "        if num > len(result):\n",
    "            Warning('There are only %s words'%len(result))\n",
    "            return result\n",
    "        else:\n",
    "            return result[:num]"
   ]
  },
  {
   "cell_type": "code",
   "execution_count": null,
   "metadata": {
    "collapsed": false
   },
   "outputs": [],
   "source": [
    "#python3 has no file object\n",
    "\n",
    "import string\n",
    "class myfile():\n",
    "    def __init__(self, name, mode):\n",
    "        #wrap around return object of open()\n",
    "        self.file=open(name, mode)\n",
    "        \n",
    "        \n",
    "    def __str__(self):\n",
    "        return \"Opening file %s\" %self.file.name\n",
    "    \n",
    "    def wordCount(self, punctuation='\\n', ignoreCase = True):\n",
    "        '''\n",
    "        punctuation: punctuations to remove\n",
    "    \n",
    "        returns: a dict contains each word and it's corresponding frequency\n",
    "        '''\n",
    "        ## read contents and convert to lower\n",
    "        try:\n",
    "            raw_string = self.file.read()\n",
    "            if ignoreCase:\n",
    "                raw_string = raw_string.lower()\n",
    "        except:\n",
    "            raise Exception(\"Can't read file %s\"%self.file.name)\n",
    "            \n",
    "        ## repalce all the punctuations with space\n",
    "        for i in string.punctuation:\n",
    "            raw_string = raw_string.replace(i, ' ')\n",
    "        \n",
    "        if punctuation != None:\n",
    "            for i in punctuation:\n",
    "                raw_string = raw_string.replace(i, ' ')\n",
    "        \n",
    "        ## split by space, count each word\n",
    "        raw_list = raw_string.split(' ')\n",
    "        result = {}\n",
    "        for word in raw_list:\n",
    "            if word in result.keys():\n",
    "                result[word] += 1\n",
    "            else:\n",
    "                result[word] = 1\n",
    "    \n",
    "        # remove null character\n",
    "        # len('') is 0\n",
    "        result = {key:value for (key, value) in result.items() if len(key) != 0}\n",
    "        return result\n",
    "    \n",
    "    def wordCountSort(self, descend = True, punctuation='\\n', ignoreCase = True):\n",
    "        '''\n",
    "        return the sorted word frequency\n",
    "        '''\n",
    "        result = self.wordCount(punctuation, ignoreCase = ignoreCase)\n",
    "        result = sorted(result.items(), key = lambda x: x[1] , reverse = descend)\n",
    "        return result\n",
    "    \n",
    "    def mostCommonWord(self, num=5, punctuation='\\n', descend = True, ignoreCase = True):\n",
    "        '''\n",
    "        return the most common words\n",
    "        '''\n",
    "        result = self.wordCountSort(punctuation=punctuation, ignoreCase = ignoreCase, descend = descend)\n",
    "        if num > len(result):\n",
    "            Warning('There are only %s words'%len(result))\n",
    "            return result\n",
    "        else:\n",
    "            return result[:num]"
   ]
  },
  {
   "cell_type": "code",
   "execution_count": null,
   "metadata": {
    "collapsed": false
   },
   "outputs": [],
   "source": [
    "f=myfile('fooz.txt', 'r')\n",
    "print f, '...'\n",
    "print f.wordCount()"
   ]
  },
  {
   "cell_type": "code",
   "execution_count": null,
   "metadata": {
    "collapsed": false
   },
   "outputs": [],
   "source": [
    "f = myfile('fooz.txt', 'r') \n",
    "print f, '...'\n",
    "print f.wordCountSort() # sort"
   ]
  },
  {
   "cell_type": "code",
   "execution_count": null,
   "metadata": {
    "collapsed": false
   },
   "outputs": [],
   "source": [
    "f= myfile('fooz.txt', 'r')\n",
    "print f, '...'\n",
    "print f.mostCommonWord(num = 2)"
   ]
  },
  {
   "cell_type": "markdown",
   "metadata": {},
   "source": [
    "### Test Case\n",
    "In this case, test our codes for a larger data which is 376 kb."
   ]
  },
  {
   "cell_type": "code",
   "execution_count": null,
   "metadata": {
    "collapsed": false
   },
   "outputs": [],
   "source": [
    "!dir -s abalone.data"
   ]
  },
  {
   "cell_type": "markdown",
   "metadata": {},
   "source": [
    "The first 5 words with highest frequencies:"
   ]
  },
  {
   "cell_type": "code",
   "execution_count": null,
   "metadata": {
    "collapsed": false
   },
   "outputs": [],
   "source": [
    "f = myfile('abalone.data', 'r')\n",
    "print f, '...'\n",
    "print f.mostCommonWord(num = 5)"
   ]
  },
  {
   "cell_type": "markdown",
   "metadata": {},
   "source": [
    "Change to case sensitive:"
   ]
  },
  {
   "cell_type": "code",
   "execution_count": null,
   "metadata": {
    "collapsed": false
   },
   "outputs": [],
   "source": [
    "f=myfile('abalone.data', 'r')\n",
    "print f, '...'\n",
    "print f.mostCommonWord(num = 5, ignoreCase=False)"
   ]
  },
  {
   "cell_type": "markdown",
   "metadata": {},
   "source": [
    "The last 5 words with lowest frequencies:"
   ]
  },
  {
   "cell_type": "code",
   "execution_count": null,
   "metadata": {
    "collapsed": false
   },
   "outputs": [],
   "source": [
    "f=myfile('data/abalone.data', 'r')\n",
    "print (f, '...')\n",
    "print (f.mostCommonWord(num = 5, ignoreCase=False, descend=False) )"
   ]
  },
  {
   "cell_type": "markdown",
   "metadata": {},
   "source": [
    "## Script\n",
    "### Running Python scripts\n",
    "Python is a script language, which means we can run a script as a shell command.\n",
    "Here is simple example, write a line \"print '1 + 1 = %s' %(1+1)\" into the file \"script1.py\":"
   ]
  },
  {
   "cell_type": "code",
   "execution_count": null,
   "metadata": {
    "collapsed": false
   },
   "outputs": [],
   "source": [
    "!echo print ('1 + 1 = %s' %(1+1)) > script1.py"
   ]
  },
  {
   "cell_type": "code",
   "execution_count": null,
   "metadata": {
    "collapsed": false
   },
   "outputs": [],
   "source": [
    "!more script1.py"
   ]
  },
  {
   "cell_type": "code",
   "execution_count": null,
   "metadata": {
    "collapsed": false
   },
   "outputs": [],
   "source": [
    "!python script1.py"
   ]
  },
  {
   "cell_type": "markdown",
   "metadata": {},
   "source": [
    "## Run Python scripts\n",
    "In practice, we usually need to interact with scripts.\n",
    "\n",
    "- Take in some inputs.\n",
    "- Run the script.\n",
    "- Return some outputs.\n",
    "\n",
    "`input` is a function for getting input from users in python3.\n",
    "\n",
    "`raw_input` is the equivalent function in python2."
   ]
  },
  {
   "cell_type": "code",
   "execution_count": 3,
   "metadata": {
    "collapsed": false
   },
   "outputs": [
    {
     "name": "stdout",
     "output_type": "stream",
     "text": [
      "how old are you? 12\n"
     ]
    }
   ],
   "source": [
    "#use raw_input for python2\n",
    "age = raw_input('how old are you? ')"
   ]
  },
  {
   "cell_type": "code",
   "execution_count": 4,
   "metadata": {
    "collapsed": false
   },
   "outputs": [
    {
     "data": {
      "text/plain": [
       "'12'"
      ]
     },
     "execution_count": 4,
     "metadata": {},
     "output_type": "execute_result"
    }
   ],
   "source": [
    "age"
   ]
  },
  {
   "cell_type": "code",
   "execution_count": 5,
   "metadata": {
    "collapsed": true
   },
   "outputs": [],
   "source": [
    "script2 = open('script2.py', 'w')\n",
    "script2.write('name = input(\"What is your name?\\\\n\")\\n')\n",
    "script2.write('age = input(\"How old are you?\\\\n\")\\n')\n",
    "script2.write('print \"You are %s, %s years old.\"%(name, age)\\n')\n",
    "script2.close()"
   ]
  },
  {
   "cell_type": "code",
   "execution_count": null,
   "metadata": {
    "collapsed": true
   },
   "outputs": [],
   "source": [
    "!python script2.py   #it doesn't work .. it's going to hang "
   ]
  },
  {
   "cell_type": "code",
   "execution_count": 6,
   "metadata": {
    "collapsed": false
   },
   "outputs": [],
   "source": [
    "open('script3.py', 'w').write('''from sys import argv\n",
    "script, name, age = argv\n",
    "print \"The script is called:\", script\n",
    "print \"My name is %s.\" %name\n",
    "print \"Im %s years old.\" %age''')"
   ]
  },
  {
   "cell_type": "code",
   "execution_count": 7,
   "metadata": {
    "collapsed": false
   },
   "outputs": [
    {
     "name": "stdout",
     "output_type": "stream",
     "text": [
      "(1, ':', 'from sys import argv\\n')\n",
      "(2, ':', 'script, name, age = argv\\n')\n",
      "(3, ':', 'print \"The script is called:\", script\\n')\n",
      "(4, ':', 'print \"My name is %s.\" %name\\n')\n",
      "(5, ':', 'print \"Im %s years old.\" %age')\n"
     ]
    }
   ],
   "source": [
    "f=open('script3.py', 'r') \n",
    "num = 1\n",
    "for i in f:\n",
    "    print (num, ':', i)\n",
    "    num += 1"
   ]
  },
  {
   "cell_type": "code",
   "execution_count": 8,
   "metadata": {
    "collapsed": false
   },
   "outputs": [
    {
     "name": "stdout",
     "output_type": "stream",
     "text": [
      "from sys import argv\n",
      "script, name, age = argv\n",
      "print \"The script is called:\", script\n",
      "print \"My name is %s.\" %name\n",
      "print \"Im %s years old.\" %age\n"
     ]
    }
   ],
   "source": [
    "!more script3.py"
   ]
  },
  {
   "cell_type": "code",
   "execution_count": 9,
   "metadata": {
    "collapsed": false
   },
   "outputs": [
    {
     "name": "stdout",
     "output_type": "stream",
     "text": [
      "The script is called: script3.py\n",
      "My name is jack.\n",
      "Im 18 years old.\n"
     ]
    }
   ],
   "source": [
    "!python script3.py jack 18"
   ]
  },
  {
   "cell_type": "code",
   "execution_count": 6,
   "metadata": {
    "collapsed": false
   },
   "outputs": [
    {
     "name": "stdout",
     "output_type": "stream",
     "text": [
      "The script is called: script3.py\n",
      "My name is Lucy.\n",
      "Im 20 years old.\n"
     ]
    }
   ],
   "source": [
    "!python script3.py Lucy 20"
   ]
  },
  {
   "cell_type": "code",
   "execution_count": null,
   "metadata": {
    "collapsed": false
   },
   "outputs": [],
   "source": [
    "!ls"
   ]
  },
  {
   "cell_type": "markdown",
   "metadata": {},
   "source": [
    "## wordcounter.py"
   ]
  },
  {
   "cell_type": "code",
   "execution_count": 7,
   "metadata": {
    "collapsed": false
   },
   "outputs": [
    {
     "name": "stdout",
     "output_type": "stream",
     "text": [
      "        Word:Frequency\n",
      "-----------------------\n",
      "      result:      16\n",
      "        self:      11\n",
      "         raw:      10\n",
      "      string:      10\n",
      " punctuation:      10\n"
     ]
    }
   ],
   "source": [
    "!python wordcounter.py wordcounter.py 5"
   ]
  },
  {
   "cell_type": "code",
   "execution_count": 8,
   "metadata": {
    "collapsed": false
   },
   "outputs": [
    {
     "name": "stdout",
     "output_type": "stream",
     "text": [
      "#!/usr/bin/env python\n",
      "# -*- coding: utf-8 -*-  \n",
      "# Author: NYC data science <http://nycdatascience.com/>\n",
      "\n",
      "### part 1\n",
      "import string\n",
      "from sys import argv\n",
      "script, target, number = argv\n",
      "\n",
      "### part 2\n",
      "class myfile(file):\n",
      "    def __init__(self, name, mode):\n",
      "        file.__init__(self, name, mode)\n",
      "        \n",
      "    def __str__(self):\n",
      "        return \"Opening file %s\" %self.name\n",
      "    \n",
      "    def wordCount(self, punctuation='\\n', ignoreCase = True):\n",
      "        '''\n",
      "        punctuation: punctuations to remove\n",
      "    \n",
      "        returns: a dict contains each word and it's corresponding frequency\n",
      "        '''\n",
      "        ## read contents and convert to lower\n",
      "        try:\n",
      "            raw_string = self.read()\n",
      "            if ignoreCase:\n",
      "                raw_string = raw_string.lower()\n",
      "        except:\n",
      "            raise Exception(\"Can't read file %s\"%self.name)\n",
      "            \n",
      "        ## reaplce all the punctuations with space\n",
      "        for i in string.punctuation:\n",
      "            raw_string = raw_string.replace(i, ' ')\n",
      "        \n",
      "        if punctuation != None:\n",
      "            for i in punctuation:\n",
      "                raw_string = raw_string.replace(i, ' ')\n",
      "        \n",
      "        ## split by space, count each word\n",
      "        raw_list = raw_string.split(' ')\n",
      "        result = {}\n",
      "        for word in raw_list:\n",
      "            if word in result.keys():\n",
      "                result[word] += 1\n",
      "            else:\n",
      "                result[word] = 1\n",
      "    \n",
      "        # remove words with length of 0 and return \n",
      "        result = {key:value for (key, value) in result.items() if len(key) != 0}\n",
      "        return result\n",
      "    \n",
      "    def wordCountSort(self, descend = True, punctuation='\\n', ignoreCase = True):\n",
      "        '''\n",
      "        return the sorted word frequency\n",
      "        '''\n",
      "        result = self.wordCount(punctuation, ignoreCase = ignoreCase)\n",
      "        result = sorted(result.iteritems(), key= lambda x: x[1] , reverse = descend)\n",
      "        return result\n",
      "    \n",
      "    def mostCommonWord(self, num=5, punctuation='\\n', descend = True, ignoreCase = True):\n",
      "        '''\n",
      "        return the most common words\n",
      "        '''\n",
      "        result = self.wordCountSort(punctuation=punctuation, ignoreCase = ignoreCase, descend = descend)\n",
      "        if num > len(result):\n",
      "            Warning('There are only %s words'%len(result))\n",
      "            return result\n",
      "        else:\n",
      "            return result[:num]\n",
      "            \n",
      "### part 3\n",
      "f = myfile(target, 'r')\n",
      "print '%12s:%8s' %('Word', 'Frequency')\n",
      "print '-----------------------'\n",
      "for i, j in f.mostCommonWord(int(number)):\n",
      "        print '%12s:%8s' %(i, j)\n"
     ]
    }
   ],
   "source": [
    "!more wordcounter.py"
   ]
  },
  {
   "cell_type": "markdown",
   "metadata": {},
   "source": [
    "## String Processing and Handling\n",
    "### Creating string\n",
    "\n",
    "Here are examples of strings.  Note the following:\n",
    "\n",
    "* Use of single, double and triple quotation marks.\n",
    "* Use of \\n newline character\n",
    "* Use of \\ escape character\n",
    "* Use of the `r` prefix, indicating \"raw\" characters"
   ]
  },
  {
   "cell_type": "code",
   "execution_count": 17,
   "metadata": {
    "collapsed": false
   },
   "outputs": [
    {
     "name": "stdout",
     "output_type": "stream",
     "text": [
      "I'm Jack.\n",
      "Jack says \"My name is Jack\".\n",
      "Jack says \"Hi, I'm  Jack\"\n",
      "Jack says \"Hi, I'm  Jack\"\n",
      "Jack says \"Hi, I'm  Jack\"\n",
      "Jack says 'Hi, I'm  Jack'\n",
      "Jack says:\n",
      "    \"Hi, I'm  Jack\"\n",
      "Hi, I do not want a \n",
      "ew line.\n",
      "Hi, I do not want a \\n new line.\n"
     ]
    }
   ],
   "source": [
    "print \"I'm Jack.\"\n",
    "print 'Jack says \"My name is Jack\".'\n",
    "print \"Jack says \\\"Hi, I'm  Jack\\\"\"\n",
    "print 'Jack says \"Hi, I\\'m  Jack\"'\n",
    "print '''Jack says \"Hi, I'm  Jack\"'''\n",
    "print \"\"\"Jack says 'Hi, I'm  Jack'\"\"\"\n",
    "print '''Jack says:\n",
    "    \"Hi, I'm  Jack\"'''\n",
    "print 'Hi, I do not want a \\new line.'\n",
    "print r'Hi, I do not want a \\n new line.'"
   ]
  },
  {
   "cell_type": "markdown",
   "metadata": {},
   "source": [
    "## Basic String Manipulations\n",
    "\n",
    "Case conversion is done as follows:"
   ]
  },
  {
   "cell_type": "code",
   "execution_count": 18,
   "metadata": {
    "collapsed": false
   },
   "outputs": [
    {
     "data": {
      "text/plain": [
       "'abcd'"
      ]
     },
     "execution_count": 18,
     "metadata": {},
     "output_type": "execute_result"
    }
   ],
   "source": [
    "'ABcd'.lower()"
   ]
  },
  {
   "cell_type": "code",
   "execution_count": 19,
   "metadata": {
    "collapsed": false
   },
   "outputs": [
    {
     "data": {
      "text/plain": [
       "'ABCD'"
      ]
     },
     "execution_count": 19,
     "metadata": {},
     "output_type": "execute_result"
    }
   ],
   "source": [
    "'ABcd'.upper() # convert to upper case"
   ]
  },
  {
   "cell_type": "code",
   "execution_count": 20,
   "metadata": {
    "collapsed": false
   },
   "outputs": [
    {
     "data": {
      "text/plain": [
       "'abCD'"
      ]
     },
     "execution_count": 20,
     "metadata": {},
     "output_type": "execute_result"
    }
   ],
   "source": [
    "'ABcd'.swapcase() # swap case(lower -> upper, upper -> lower)"
   ]
  },
  {
   "cell_type": "code",
   "execution_count": 21,
   "metadata": {
    "collapsed": false
   },
   "outputs": [
    {
     "data": {
      "text/plain": [
       "'Acd Acd'"
      ]
     },
     "execution_count": 21,
     "metadata": {},
     "output_type": "execute_result"
    }
   ],
   "source": [
    "'acd acd'.title()"
   ]
  },
  {
   "cell_type": "markdown",
   "metadata": {},
   "source": [
    "String objects have the following object methods:\n",
    "\n",
    "* split\n",
    "* replace\n",
    "* count\n",
    "* join"
   ]
  },
  {
   "cell_type": "code",
   "execution_count": 24,
   "metadata": {
    "collapsed": false
   },
   "outputs": [
    {
     "data": {
      "text/plain": [
       "['a', 'b', 'c', 'd']"
      ]
     },
     "execution_count": 24,
     "metadata": {},
     "output_type": "execute_result"
    }
   ],
   "source": [
    "'a,b,c,d'.split(',') # split by ' '"
   ]
  },
  {
   "cell_type": "code",
   "execution_count": 23,
   "metadata": {
    "collapsed": false
   },
   "outputs": [
    {
     "data": {
      "text/plain": [
       "['a', 'b', 'c', 'd']"
      ]
     },
     "execution_count": 23,
     "metadata": {},
     "output_type": "execute_result"
    }
   ],
   "source": [
    "'a b c d'.split() # split by ' ' default"
   ]
  },
  {
   "cell_type": "code",
   "execution_count": 25,
   "metadata": {
    "collapsed": false
   },
   "outputs": [
    {
     "data": {
      "text/plain": [
       "'a>b>c>d'"
      ]
     },
     "execution_count": 25,
     "metadata": {},
     "output_type": "execute_result"
    }
   ],
   "source": [
    "'a b c d'.replace(' ', '>') # replace ' ' with '>'"
   ]
  },
  {
   "cell_type": "code",
   "execution_count": 26,
   "metadata": {
    "collapsed": false
   },
   "outputs": [
    {
     "data": {
      "text/plain": [
       "3"
      ]
     },
     "execution_count": 26,
     "metadata": {},
     "output_type": "execute_result"
    }
   ],
   "source": [
    "'a b c d'.count(' ') # count the number of ' ' appears"
   ]
  },
  {
   "cell_type": "code",
   "execution_count": 27,
   "metadata": {
    "collapsed": false
   },
   "outputs": [
    {
     "data": {
      "text/plain": [
       "'a b c'"
      ]
     },
     "execution_count": 27,
     "metadata": {},
     "output_type": "execute_result"
    }
   ],
   "source": [
    "' '.join(['a', 'b', 'c'])"
   ]
  },
  {
   "cell_type": "code",
   "execution_count": 28,
   "metadata": {
    "collapsed": false
   },
   "outputs": [
    {
     "data": {
      "text/plain": [
       "'abc'"
      ]
     },
     "execution_count": 28,
     "metadata": {},
     "output_type": "execute_result"
    }
   ],
   "source": [
    "''.join(['a', 'b', 'c'])"
   ]
  },
  {
   "cell_type": "code",
   "execution_count": 29,
   "metadata": {
    "collapsed": false
   },
   "outputs": [
    {
     "data": {
      "text/plain": [
       "'a/b/c'"
      ]
     },
     "execution_count": 29,
     "metadata": {},
     "output_type": "execute_result"
    }
   ],
   "source": [
    "'/'.join(['a', 'b', 'c'])"
   ]
  },
  {
   "cell_type": "code",
   "execution_count": 30,
   "metadata": {
    "collapsed": false
   },
   "outputs": [
    {
     "data": {
      "text/plain": [
       "'aXbXcXd'"
      ]
     },
     "execution_count": 30,
     "metadata": {},
     "output_type": "execute_result"
    }
   ],
   "source": [
    "str.join('X',['a','b','c','d'])  # this equivalent to 'X'.join(['a','b','c','d'])"
   ]
  },
  {
   "cell_type": "markdown",
   "metadata": {
    "collapsed": false
   },
   "source": [
    "## Advanced String Manipulations: Regular Expressions\n",
    "Basic and intermediate functions forworking with strings have been covered.\n",
    "\n",
    "To fully unleash the power of strings manipulation, it's necessary to learn regular expressions.\n",
    "\n",
    "### Concept\n",
    "A regular expression is a special text string for describing a set of strings. This \"special string\" is formally called a **pattern**. Hence, a regular expression is a pattern that describes a set of strings.\n",
    "\n",
    "The goal of using regular expression is extracting specific characters from text by describing its pattern.\n",
    "\n",
    "### Pattern\n",
    "For example, both **gray** and **grey** match the pattern **gr.y** in which the dot . refers to a arbitrary character."
   ]
  },
  {
   "cell_type": "markdown",
   "metadata": {},
   "source": [
    "<code>\n",
    "Identifiers:\n",
    "\n",
    "\\d = any number\n",
    "\\D = anything but a number\n",
    "\\s = space\n",
    "\\S = anything but a space\n",
    "\\w = any letter\n",
    "\\W = anything but a letter\n",
    ". = any character, except for a new line\n",
    "\\b = space around whole words\n",
    "\\\\. = period. must use backslash, because . normally means any character.\n",
    "\n",
    "Modifiers:\n",
    "\n",
    "{1,3} = for digits, u expect 1-3 counts of digits, or \"places\"\n",
    "\\+ = match 1 or more\n",
    "? = match 0 or 1 repetitions.\n",
    "\\* = match 0 or MORE repetitions\n",
    "$ = matches at the end of string\n",
    "^ = matches start of a string\n",
    "| = matches either/or. Example x|y = will match either x or y\n",
    "[] = range, or \"variance\"\n",
    "{x} = expect to see this amount of the preceding .\n",
    "{x,y} = expect to see this x-y amounts of the precedng \n",
    "\n",
    "White Space Charts:\n",
    "\n",
    "\\n = new line\n",
    "\\s = space\n",
    "\\t = tab\n",
    "\\e = escape\n",
    "\\f = form feed\n",
    "\\r = carriage return\n",
    "\n",
    "Characters to REMEMBER TO ESCAPE IF USED!\n",
    "\n",
    ". + * ? [ ] $ ^ ( ) { } | \\\n",
    "\n",
    "Brackets:\n",
    "\n",
    "[] = quant[ia]tative = will find either quantitative, or quantatative.\n",
    "[a-z] = return any lowercase letter a-z\n",
    "[1-5a-qA-Z] = return all numbers 1-5, lowercase letters a-q and uppercase A-Z\n",
    "</code>\n",
    "\n",
    "## re\n",
    "The library **re** is used to implement regular expressions in python."
   ]
  },
  {
   "cell_type": "code",
   "execution_count": 10,
   "metadata": {
    "collapsed": true
   },
   "outputs": [],
   "source": [
    "import re  #regular expressions library"
   ]
  },
  {
   "cell_type": "code",
   "execution_count": null,
   "metadata": {
    "collapsed": false
   },
   "outputs": [],
   "source": [
    "help(re.search)"
   ]
  },
  {
   "cell_type": "code",
   "execution_count": 11,
   "metadata": {
    "collapsed": false
   },
   "outputs": [
    {
     "name": "stdout",
     "output_type": "stream",
     "text": [
      "<_sre.SRE_Match object at 0x0000000002A25920>\n"
     ]
    }
   ],
   "source": [
    "raw_string = 'Hi, how are you today?'\n",
    "print re.search('Hi', raw_string)"
   ]
  },
  {
   "cell_type": "code",
   "execution_count": 33,
   "metadata": {
    "collapsed": false
   },
   "outputs": [
    {
     "name": "stdout",
     "output_type": "stream",
     "text": [
      "None\n"
     ]
    }
   ],
   "source": [
    "print re.search('Hello', raw_string)"
   ]
  },
  {
   "cell_type": "code",
   "execution_count": 14,
   "metadata": {
    "collapsed": false
   },
   "outputs": [
    {
     "data": {
      "text/plain": [
       "True"
      ]
     },
     "execution_count": 14,
     "metadata": {},
     "output_type": "execute_result"
    }
   ],
   "source": [
    "s = re.search('Hi', raw_string)\n",
    "s != None"
   ]
  },
  {
   "cell_type": "code",
   "execution_count": 35,
   "metadata": {
    "collapsed": false
   },
   "outputs": [
    {
     "name": "stdout",
     "output_type": "stream",
     "text": [
      "0\n",
      "2\n",
      "(0, 2)\n"
     ]
    }
   ],
   "source": [
    "print s.start() # the starting position of of the matched string\n",
    "print s.end()  # the ending position index of the matched string\n",
    "print s.span()  # a tuple containing the (start, end) positions of the matched string"
   ]
  },
  {
   "cell_type": "code",
   "execution_count": null,
   "metadata": {
    "collapsed": false
   },
   "outputs": [],
   "source": [
    "print( s.group() )# the matched string\n",
    "print( raw_string[s.start():s.end()] )# same"
   ]
  },
  {
   "cell_type": "markdown",
   "metadata": {},
   "source": [
    "## Using Identifiers"
   ]
  },
  {
   "cell_type": "code",
   "execution_count": 36,
   "metadata": {
    "collapsed": false
   },
   "outputs": [
    {
     "name": "stdout",
     "output_type": "stream",
     "text": [
      "True\n",
      "True\n",
      "True\n",
      "True\n",
      "False\n",
      "False\n"
     ]
    }
   ],
   "source": [
    "#     . = any character, except for a new line\n",
    "\n",
    "print (re.search('a.', 'aa') != None)\n",
    "print (re.search('a.', 'ab') != None)\n",
    "print (re.search('a.', 'a1') != None)\n",
    "print (re.search('a.', 'a#') != None)\n",
    "print (re.search('a.', 'a') != None)\n",
    "print (re.search('a.', 'a\\n') != None)"
   ]
  },
  {
   "cell_type": "code",
   "execution_count": 37,
   "metadata": {
    "collapsed": false
   },
   "outputs": [
    {
     "name": "stdout",
     "output_type": "stream",
     "text": [
      "True\n",
      "True\n",
      "False\n",
      "True\n"
     ]
    }
   ],
   "source": [
    "#      ? = match 0 or 1 repetitions.\n",
    "\n",
    "print (re.search('ba?b', 'bb') != None )   # match\n",
    "print (re.search('ba?b', 'bab') != None )  # match\n",
    "print (re.search('ba?b', 'baab') != None ) # does not match\n",
    "print (re.search('ba?b', 'abab') != None )"
   ]
  },
  {
   "cell_type": "code",
   "execution_count": null,
   "metadata": {
    "collapsed": false
   },
   "outputs": [],
   "source": [
    "#     + = match 1 or more\n",
    "\n",
    "print( re.search('ba+b', 'bb') != None  )  # does not match\n",
    "print( re.search('ba+b', 'bab') != None   )# match\n",
    "print( re.search('ba+b', 'baab') != None  )# match\n",
    "print( re.search('ba+b', 'baaaab') != None  )# match\n",
    "print( re.search('ba+b', 'baaaaaab') != None ) # match"
   ]
  },
  {
   "cell_type": "code",
   "execution_count": null,
   "metadata": {
    "collapsed": false
   },
   "outputs": [],
   "source": [
    "#.       * = match 0 or MORE repetitions\n",
    "\n",
    "print (re.search('ba*b', 'bb') != None )   # match\n",
    "print (re.search('ba*b', 'bab') != None )  # match\n",
    "print (re.search('ba*b', 'baaaaaab') != None ) # match\n",
    "print (re.search('ba*b', 'baaagb') != None )"
   ]
  },
  {
   "cell_type": "code",
   "execution_count": null,
   "metadata": {
    "collapsed": false
   },
   "outputs": [],
   "source": [
    "print( re.search('ba{1,3}b', 'bab') != None    )# match\n",
    "print( re.search('ba{1,3}b', 'baab') != None  ) # match\n",
    "print( re.search('ba{1,3}b', 'baaab') != None)  # match\n",
    "print( re.search('ba{1,3}b', 'bb') != None     )# does not match\n",
    "print( re.search('ba{1,3}b', 'baaaab') != None) # does not match\n"
   ]
  },
  {
   "cell_type": "code",
   "execution_count": 15,
   "metadata": {
    "collapsed": false
   },
   "outputs": [
    {
     "name": "stdout",
     "output_type": "stream",
     "text": [
      "True\n",
      "True\n",
      "False\n"
     ]
    }
   ],
   "source": [
    "#      ^ = matches start of a string\n",
    "\n",
    "print( re.search('^a', 'abc') != None )   # match\n",
    "print( re.search('^a', 'abcde') != None)  # match\n",
    "print( re.search('^a', ' abcde') != None) # does not match"
   ]
  },
  {
   "cell_type": "code",
   "execution_count": null,
   "metadata": {
    "collapsed": false
   },
   "outputs": [],
   "source": [
    "#.      $ = matches at the end of string\n",
    "\n",
    "print (re.search('a$', 'aba') != None )   # match\n",
    "print (re.search('a$', 'abcba') != None)  # match\n",
    "print (re.search('a$', ' aba ') != None ) # does not match"
   ]
  },
  {
   "cell_type": "code",
   "execution_count": null,
   "metadata": {
    "collapsed": false
   },
   "outputs": [],
   "source": [
    "print (re.search('^a.a$', 'aba') != None )   # match\n",
    "print (re.search('^a.a$', 'a a') != None  )  # match\n",
    "print (re.search('^a.a$', 'a.a') != None   ) # match\n",
    "\n",
    "print (re.search('^a.a$', 'bba') != None  )  # does not match\n",
    "print (re.search('^a.a$', 'abba') != None  ) \n",
    "print (re.search('^a.*a$', 'abba') != None  )\n",
    "print (re.search('^a.?a$', 'abba') != None  )\n",
    "print (re.search('^a.{1,3}a$', 'abba') != None  )# does not match"
   ]
  },
  {
   "cell_type": "markdown",
   "metadata": {},
   "source": [
    "### brackets\n",
    "\n",
    "[] is used for specifying a set of characters to match. For example, [123abc] will match any of the characters 1, 2, 3, a, b, or c ; this is the same as [1-3a-c], which uses a range to express the same set of characters. Further more [a-z] matches all the lower letters, while [0-9] matches all the numbers."
   ]
  },
  {
   "cell_type": "code",
   "execution_count": null,
   "metadata": {
    "collapsed": false
   },
   "outputs": [],
   "source": [
    "print (re.search('[123abc]', 'defg')  != None)   # does not match\n",
    "print (re.search('[123abc]', '1defg') != None )  # match\n",
    "print (re.search('[1-3a-c]', '2defg') != None  ) # match\n",
    "print (re.search('[123abc]', 'adefg') != None )  # match\n",
    "print (re.search('[1-3a-c]', 'bdefg') != None )  # match"
   ]
  },
  {
   "cell_type": "markdown",
   "metadata": {},
   "source": [
    "### parentheses\n",
    "\n",
    "() is very similar to the mathematical meaning, they group together the expressions contained inside them, and you can repeat the contents of a group with a repeating qualifier.\n",
    "For example, the pattern (abc){2,3} matches abc 2 or 3 times."
   ]
  },
  {
   "cell_type": "code",
   "execution_count": null,
   "metadata": {
    "collapsed": false
   },
   "outputs": [],
   "source": [
    "print (re.search('(abc){2,3}', 'abc')  != None  )       # does not match\n",
    "print (re.search('(abc){2,3}', 'abcabc')  != None)      # match\n",
    "print (re.search('(abc){2,3}', 'abcabcabc')  != None )  # match"
   ]
  },
  {
   "cell_type": "code",
   "execution_count": null,
   "metadata": {
    "collapsed": false
   },
   "outputs": [],
   "source": [
    "re.search('(abc){2,3}', 4*'abc')  != None"
   ]
  },
  {
   "cell_type": "code",
   "execution_count": null,
   "metadata": {
    "collapsed": false
   },
   "outputs": [],
   "source": [
    "re.search('^(abc){2,3}$', 4*'abc')  != None"
   ]
  },
  {
   "cell_type": "code",
   "execution_count": null,
   "metadata": {
    "collapsed": false
   },
   "outputs": [],
   "source": [
    "print(re.search('[ab]', 'a') != None)   # match\n",
    "print(re.search('[ab]', 'b') != None)   # match\n",
    "print(re.search('[ab]', 'c') != None)  # does not match"
   ]
  },
  {
   "cell_type": "markdown",
   "metadata": {},
   "source": [
    "### vertical bar\n",
    "`|` is a logical operator. For examples, `a|b` matches `a` and `b`, which is similar to `[ab]`.\n",
    "\n",
    "`abc|123` matches `abc` or `123`, while `[abc123]` matches any single characters in `a, b, c, 1, 2, 3`."
   ]
  },
  {
   "cell_type": "code",
   "execution_count": null,
   "metadata": {
    "collapsed": false
   },
   "outputs": [],
   "source": [
    "print (re.search('abc|123', 'a') != None)   # does not match\n",
    "print (re.search('abc|123', '1') != None )  # does not match\n",
    "print (re.search('abc|123', '123') != None) # match\n",
    "print (re.search('abc|123', 'abc') != None) # match"
   ]
  },
  {
   "cell_type": "markdown",
   "metadata": {},
   "source": [
    "### backslash\n",
    "To match exactly ?, it is necessary to add a backslash \\?.\n",
    "\n",
    "Otherwise, the character ? will be treated as an identifier. ? matches a character(group) either once or zero times."
   ]
  },
  {
   "cell_type": "code",
   "execution_count": null,
   "metadata": {
    "collapsed": false
   },
   "outputs": [],
   "source": [
    "print (re.search('\\?', 'Hi, how are you today?') != None)"
   ]
  },
  {
   "cell_type": "code",
   "execution_count": null,
   "metadata": {
    "collapsed": false
   },
   "outputs": [],
   "source": [
    "print (re.search('?', 'Hi, how are you today?') != None)  # this will give us an error because ? is a reserved character"
   ]
  },
  {
   "cell_type": "markdown",
   "metadata": {},
   "source": [
    "## Useful functions\n",
    "* **re.split(pattern, string)**: Split the string into a list by the pattern.\n",
    "* **re.sub(pattern, replace, string)**: Replace the substrings in the string that matches the pattern with the argument replace.\n",
    "* **re.findall(pattern, string)**: Find all substrings where the pattern matches, and returns them as a list.\n",
    "\n",
    "In the base library, the strings already have methods like `str.split` and `str.replace` do similar works.\n",
    "\n",
    "`str.split` is similar to `re.split`, `str.replace` is similar to `re.sub`.\n",
    "\n",
    "Since regular expressions can be used in the `re` module, `re.split` and `re.sub` are much more powerful!\n",
    "\n",
    "## re.sub"
   ]
  },
  {
   "cell_type": "code",
   "execution_count": null,
   "metadata": {
    "collapsed": true
   },
   "outputs": [],
   "source": [
    "s = '''The re module was added in Python 1.5, \n",
    "and provides Perl-style regular expression patterns. \n",
    "Earlier versions of Python came with the regex module, \n",
    "which provided Emacs-style patterns. \n",
    "The regex module was removed completely in Python 2.5.'''"
   ]
  },
  {
   "cell_type": "code",
   "execution_count": null,
   "metadata": {
    "collapsed": false
   },
   "outputs": [],
   "source": [
    "s"
   ]
  },
  {
   "cell_type": "markdown",
   "metadata": {},
   "source": [
    "#### Problem\n",
    "Suppose the goal is to split this sentence into a list in which each element is a word. The separators are dot(.), dash(-), comma(,) and blank space( ).\n",
    "\n",
    "#### Solution\n",
    "How to solve the problem in the base library?\n",
    "\n",
    "- Since we can not split a string by multiple separators, an alternative way is replacing all the separators with blank space.\n",
    "- Split the replaced the text with blank space.\n",
    "\n",
    "This technique was used in the script wordcounter.py."
   ]
  },
  {
   "cell_type": "code",
   "execution_count": null,
   "metadata": {
    "collapsed": false
   },
   "outputs": [],
   "source": [
    "s2 = s\n",
    "for i in [',', '.', '-', '\\n']:\n",
    "    s2 = s2.replace(i, ' ')\n",
    "s2.split(' ')"
   ]
  },
  {
   "cell_type": "markdown",
   "metadata": {},
   "source": [
    "Using regular expression, all the separators can be replaced at the same time."
   ]
  },
  {
   "cell_type": "code",
   "execution_count": null,
   "metadata": {
    "collapsed": false
   },
   "outputs": [],
   "source": [
    "s3 = s\n",
    "s3 = re.sub('[\\n,.-]', ' ', s3)\n",
    "print (s3)\n",
    "re.split(' +', s3) \n",
    "# since there are empty characters in the result,\n",
    "# \\ we split it by one or more blank space"
   ]
  },
  {
   "cell_type": "markdown",
   "metadata": {},
   "source": [
    "### re.split\n",
    "A simpler way is using regular expression to split the text by multiple separators directly."
   ]
  },
  {
   "cell_type": "code",
   "execution_count": null,
   "metadata": {
    "collapsed": false
   },
   "outputs": [],
   "source": [
    "re.split('[\\n ,\\.-]+', s)"
   ]
  },
  {
   "cell_type": "markdown",
   "metadata": {},
   "source": [
    "### re.findall\n",
    "Similar to **`re.split`**, **`re.findall`** also works well in this case.\n",
    "\n",
    "Select letters in the string s by using **`re.findall`**."
   ]
  },
  {
   "cell_type": "code",
   "execution_count": null,
   "metadata": {
    "collapsed": false
   },
   "outputs": [],
   "source": [
    "re.findall('[a-zA-Z]+', s) # if you want number too, run re.findall('[a-zA-Z0-9]+', s)"
   ]
  },
  {
   "cell_type": "markdown",
   "metadata": {},
   "source": [
    "### Special sequence in regular expression\n",
    "\n",
    "There are sequences that have special meaning in regular expressions.\n",
    "\n",
    "* \\d: Matches any decimal digit; this is equivalent to the class [0-9].\n",
    "* \\D: Matches any non-digit character; this is equivalent to the class [^0-9].\n",
    "* \\w: Matches any alphanumeric character; this is equivalent to the class [a-zA-Z0-9_].\n",
    "* \\W: Matches any non-alphanumeric character; this is equivalent to the class [^a-zA-Z0-9_].\n",
    "* \\s: Matches any whitespace character; this is equivalent to the class [ \\t\\n\\r\\f\\v].\n",
    "* \\S: Matches any non-whitespace character; this is equivalent to the class [^ \\t\\n\\r\\f\\v].\n",
    "* \\t: tab,\n",
    "* \\v: vertical tab.\n",
    "* \\r: Carraige return. Move to the leading end (left) of the current line.\n",
    "* \\n: Line Feed. Move to next line, staying in the same column. Prior to Unix, usually used only after CR or LF.\n",
    "* \\f: Form feed. Feed paper to a pre-established position on the form, usually top of the page.\n",
    "\n",
    "Reference: http://regexlib.com/CheatSheet.aspx?AspxAutoDetectCookieSupport=1\n",
    "\n",
    "The simplest way to solve the problem is as follows:"
   ]
  },
  {
   "cell_type": "code",
   "execution_count": null,
   "metadata": {
    "collapsed": false
   },
   "outputs": [],
   "source": [
    "re.findall('\\w+', s) # same as re.findall(`[a-zA-Z0-9_]+`, s)"
   ]
  },
  {
   "cell_type": "code",
   "execution_count": null,
   "metadata": {
    "collapsed": false
   },
   "outputs": [],
   "source": [
    "re.findall(r'\\b[a-z]+', s)"
   ]
  },
  {
   "cell_type": "markdown",
   "metadata": {},
   "source": [
    "### wordCount\n",
    "\n",
    "Rewrite the function `wordCount`."
   ]
  },
  {
   "cell_type": "code",
   "execution_count": null,
   "metadata": {
    "collapsed": true
   },
   "outputs": [],
   "source": [
    "import re\n",
    "def wordCount(x, number=False):\n",
    "    '''\n",
    "    x: string to count\n",
    "    number: whether to count the numbers\n",
    "    '''\n",
    "    ## tolower and find words\n",
    "    x = x.lower()\n",
    "    if number:\n",
    "        word_list = re.findall('\\w+', x)\n",
    "    else:\n",
    "        word_list = re.findall('[a-zA-Z]+', x)\n",
    "    ## count and return\n",
    "    result = {}\n",
    "    for word in word_list:\n",
    "        if word in result.keys():\n",
    "            result[word] += 1\n",
    "        else:\n",
    "            result[word] = 1\n",
    "    return result "
   ]
  },
  {
   "cell_type": "code",
   "execution_count": null,
   "metadata": {
    "collapsed": false
   },
   "outputs": [],
   "source": [
    "wordCount(s)"
   ]
  },
  {
   "cell_type": "markdown",
   "metadata": {},
   "source": [
    "### Is it a e-mail address?\n",
    "\n",
    "Write a function to test whether a e-mail address is valid.\n",
    "\n",
    "Usually, email addresses have one or a similar variant of the following forms:\n",
    "```\n",
    "somename9@gmail.com\n",
    "some_name@yahoo.com\n",
    "contact@supstat.com.cn\n",
    "some.name@an-email.com\n",
    "some.name@an.email.com\n",
    "some_name@163.com\n",
    "```\n",
    "Think about how to test if a string is a valid e-mail address?\n",
    "\n",
    "Generally, it can be split into three parts:\n",
    "\n",
    "- user name(somename9, some_name)\n",
    "- @\n",
    "- domain name(gmail.com, yahoo.com, supstat.com.cn)\n",
    "\n",
    "The goal is to write regular expressions to describe the pattern.\n",
    "\n",
    "#### user name\n",
    "\n",
    "Try to write a regular expression to match the following user names.\n",
    "```\n",
    "somename9\n",
    "some_name\n",
    "contact\n",
    "some.name\n",
    "some.name\n",
    "some_name\n",
    "```\n",
    "The first part, user name pattern, can be expressed:\n",
    "\n",
    "`^[a-z0-9]+[_\\.]?[a-z0-9]+`\n",
    "\n",
    "* `^[a-z0-9]+`: begin with letter or numbers\n",
    "* `[_\\.]?`: may contain a underline(_) or dot (.)\n",
    "* `[a-z0-9]+`: following with numbers and letter"
   ]
  },
  {
   "cell_type": "code",
   "execution_count": null,
   "metadata": {
    "collapsed": false
   },
   "outputs": [],
   "source": [
    "users = ['a','@#$%','somename9', 'some_name', 'contact', 'some.name', 'some.name', 'some_name', 'some.name.name', 'somme']\n",
    "for i in users:\n",
    "    if re.search('^[a-z0-9]+[_\\.]?[a-z0-9]+', i) != None:\n",
    "        print (\"Match!\")\n",
    "    else:\n",
    "        print (\"Does not match!\")"
   ]
  },
  {
   "cell_type": "markdown",
   "metadata": {},
   "source": [
    "#### domain name\n",
    "\n",
    "Try to write your regular expression to match the following domain names.\n",
    "```\n",
    "gmail.com\n",
    "yahoo.com\n",
    "supstat.com.cn\n",
    "an-email.com\n",
    "an.email.com\n",
    "163.com\n",
    "```\n",
    "\n",
    "The domain name pattern can be defined as:\n",
    "\n",
    "`[a-z0-9]+([-\\.]?[a-z]){1,3}$`\n",
    "\n",
    "* `[a-z0-9]+`: starts with numbers or letters\n",
    "* `[-\\.]?[a-z]`: at most one - or . can be inserted into, followed with letters\n",
    "* `([-\\.]?[a-z]){1,3}`: repeat this pattern 1 to 3 three times. `supstat.com.cn` ends with `.com.cn`, which repeat two times(`.com`, `.cn`)."
   ]
  },
  {
   "cell_type": "code",
   "execution_count": null,
   "metadata": {
    "collapsed": false
   },
   "outputs": [],
   "source": [
    "domain = ['gmail.com', 'yahoo.com', 'supstat.com.cn', 'an-email.com', 'an.email.com', 'om']\n",
    "for i in domain:\n",
    "    if re.search('[a-z0-9]+([-\\.]?[a-z]){1,3}$', i) != None:\n",
    "        print (\"Match!\")\n",
    "    else:\n",
    "        print (\"Does not match!\")"
   ]
  },
  {
   "cell_type": "markdown",
   "metadata": {},
   "source": [
    "## Is it an email address?"
   ]
  },
  {
   "cell_type": "code",
   "execution_count": null,
   "metadata": {
    "collapsed": true
   },
   "outputs": [],
   "source": [
    "import re\n",
    "def isEmail(x):\n",
    "    x = x.lower() # case insensitive\n",
    "    emailPattern = '^[a-z0-9]+[_\\.]?[a-z0-9]+@[a-z0-9]+([-\\.]?[a-z]+){1,3}$'\n",
    "    result = re.search(emailPattern, x) != None\n",
    "    return result"
   ]
  },
  {
   "cell_type": "code",
   "execution_count": null,
   "metadata": {
    "collapsed": false
   },
   "outputs": [],
   "source": [
    "emails = ['some&name9@gmail.com', 'some_name@yahoo.com', 'contact@supstat.com.cn',\\\n",
    "          'some.n@ame@an-email.com', 'some.name@an.email.com', 'some_name@163.com']\n",
    "for i in emails:\n",
    "    print ('%25s is a valid e-mail address: %s'%(i, isEmail(i)))"
   ]
  },
  {
   "cell_type": "markdown",
   "metadata": {},
   "source": [
    "## Extract the domain names\n",
    "\n",
    "After checking the validation of a e-mail address, we can easily extract its domain name.\n",
    "\n",
    "Obviously, domain name is the strings after @."
   ]
  },
  {
   "cell_type": "code",
   "execution_count": null,
   "metadata": {
    "collapsed": true
   },
   "outputs": [],
   "source": [
    "domainPattern = '@(.*)'"
   ]
  },
  {
   "cell_type": "code",
   "execution_count": null,
   "metadata": {
    "collapsed": false
   },
   "outputs": [],
   "source": [
    "re.findall(domainPattern, 'somename9@gmail.com')"
   ]
  },
  {
   "cell_type": "markdown",
   "metadata": {},
   "source": [
    "Solve it with re.sub"
   ]
  },
  {
   "cell_type": "code",
   "execution_count": null,
   "metadata": {
    "collapsed": false
   },
   "outputs": [],
   "source": [
    "re.sub('[^0-9]', '', '1a2b3c')"
   ]
  },
  {
   "cell_type": "markdown",
   "metadata": {},
   "source": [
    "Replace the user names and @ with null character.\n",
    "\n",
    "Note that re.findall return a list while re.sub result a string. Sometimes a pattern may matches more than one part of a string, in these cases re.findall will return all the parts, that's why it is called \"find all\".\n",
    "\n",
    "In this case, [0-9] matches a single number, and 1a2b3c contains three numbers. re.findall return a list in which each element is a single number."
   ]
  },
  {
   "cell_type": "code",
   "execution_count": null,
   "metadata": {
    "collapsed": false
   },
   "outputs": [],
   "source": [
    "re.findall('[0-9]', '1a2b3c')"
   ]
  },
  {
   "cell_type": "markdown",
   "metadata": {},
   "source": [
    "## Extract the domain names"
   ]
  },
  {
   "cell_type": "code",
   "execution_count": null,
   "metadata": {
    "collapsed": true
   },
   "outputs": [],
   "source": [
    "import re\n",
    "def domainName(x):\n",
    "    '''\n",
    "    given a e-mail address, return its domain name.\n",
    "    '''\n",
    "    domainPattern = '@(.*)'\n",
    "    if isEmail(x):\n",
    "        return re.findall(domainPattern, x)\n",
    "    else:\n",
    "        raise Exception(\"This e-mail address is invalid!\")\n"
   ]
  },
  {
   "cell_type": "code",
   "execution_count": null,
   "metadata": {
    "collapsed": false
   },
   "outputs": [],
   "source": [
    "emails = ['somename9@gmail.com', 'some_name@yahoo.com', 'contact@supstat.com.cn',\\\n",
    "          'some.name@an-email.com', 'some.name@an.email.com', 'some_name@163.com']\n",
    "for i in emails:\n",
    "    print ('The domain name of %s is: %s'%(i, domainName(i)))\n"
   ]
  },
  {
   "cell_type": "code",
   "execution_count": null,
   "metadata": {
    "collapsed": false
   },
   "outputs": [],
   "source": [
    "domainName('notEmail_at.com')"
   ]
  },
  {
   "cell_type": "markdown",
   "metadata": {},
   "source": [
    "The remaining content of this lecture uses are the tools to develop  a method for extracting data from the web.  This is a process called scraping.  It is left to the student as an exercise if they have interest but is beyond the time constraints of the class.\n",
    "\n",
    "## Extract message from web\n",
    "The upcoming events from the Python User Group Calendar is shown below. What we are going to do is extracting the time, location and title of the upcoming events."
   ]
  },
  {
   "cell_type": "markdown",
   "metadata": {
    "collapsed": false
   },
   "source": [
    "https://www.python.org/events/python-user-group"
   ]
  },
  {
   "cell_type": "code",
   "execution_count": null,
   "metadata": {
    "collapsed": false
   },
   "outputs": [],
   "source": [
    "#in terminal \n",
    "\n",
    "# Get files\n",
    "curl -O http://ftp.gnu.org/gnu/wget/wget-1.13.4.tar.gz\n",
    "\n",
    "# Extract it\n",
    "tar -xzf wget-1.13.4.tar.gz\n",
    "\n",
    "# Configure wget and install \n",
    "cd wget-1.13.4\n",
    "./configure --with-ssl=openssl\n",
    "make\n",
    "sudo make install"
   ]
  },
  {
   "cell_type": "code",
   "execution_count": null,
   "metadata": {
    "collapsed": false
   },
   "outputs": [],
   "source": [
    "!wget https://www.python.org/events/python-user-group/ -O data/python-event.html"
   ]
  },
  {
   "cell_type": "code",
   "execution_count": null,
   "metadata": {
    "collapsed": false
   },
   "outputs": [],
   "source": [
    "!cat data/python-event.html"
   ]
  },
  {
   "cell_type": "code",
   "execution_count": null,
   "metadata": {
    "collapsed": false
   },
   "outputs": [],
   "source": [
    "import re \n",
    "timePattern = '<time datetime=\"[\\w:+-]+\">(.+)<span class=\"say-no-more\">([\\d ]+)</span>(.*)</time>'\n",
    "raw_time = '<time datetime=\"2015-01-20T17:00:00+00:00\">20 Jan.<span class=\"say-no-more\"> 2015</span> 5pm UTC – 7pm UTC</time>'\n",
    "time = re.findall(timePattern, raw_time)\n",
    "print (time)"
   ]
  },
  {
   "cell_type": "code",
   "execution_count": null,
   "metadata": {
    "collapsed": false
   },
   "outputs": [],
   "source": [
    "raw_location = '<span class=\"event-location\">Bürgerhaus im Stadtteilzentrum Bilk, Raum 1, 2. OG, Bachstr. 145, 40217 Düsseldorf, Germany</span>'\n",
    "locationPattern = '<span class=\"event-location\">(.*)</span>'\n",
    "location = re.findall(locationPattern, raw_location)\n",
    "print (location)"
   ]
  },
  {
   "cell_type": "code",
   "execution_count": null,
   "metadata": {
    "collapsed": false
   },
   "outputs": [],
   "source": [
    "print (location[0])"
   ]
  },
  {
   "cell_type": "code",
   "execution_count": null,
   "metadata": {
    "collapsed": false
   },
   "outputs": [],
   "source": [
    "raw_title = '<h3 class=\"event-title\"><a href=\"/events/python-user-group/264/\">Cape Town Python User Group (CTPUG) Meeting</a></h3>'\n",
    "titlePattern = '<h3 class=\"event-title\"><a href=\".+\">(.*)</a></h3>'\n",
    "title = re.findall(titlePattern, raw_title)\n",
    "print (title)"
   ]
  },
  {
   "cell_type": "code",
   "execution_count": null,
   "metadata": {
    "collapsed": true
   },
   "outputs": [],
   "source": [
    "f= open('data/python-event.html')\n",
    "event = f.read()"
   ]
  },
  {
   "cell_type": "code",
   "execution_count": null,
   "metadata": {
    "collapsed": false
   },
   "outputs": [],
   "source": [
    "timePattern = '<time datetime=\"[\\w:+-]+\">(.+)<span class=\"say-no-more\">([\\d ]+)</span>(.*)</time>'\n",
    "time = re.findall(timePattern, event)\n",
    "for i in time:\n",
    "    print (''.join(i))"
   ]
  },
  {
   "cell_type": "code",
   "execution_count": null,
   "metadata": {
    "collapsed": false
   },
   "outputs": [],
   "source": [
    "locationPattern = '<span class=\"event-location\">(.*)</span>'\n",
    "location = re.findall(locationPattern, event)\n",
    "for i in location:\n",
    "    print (i)"
   ]
  },
  {
   "cell_type": "code",
   "execution_count": null,
   "metadata": {
    "collapsed": false
   },
   "outputs": [],
   "source": [
    "titlePattern = '<h3 class=\"event-title\"><a href=\".+\">(.*)</a></h3>'\n",
    "title = re.findall(titlePattern, event)\n",
    "for i in title:\n",
    "    print (i)"
   ]
  },
  {
   "cell_type": "code",
   "execution_count": null,
   "metadata": {
    "collapsed": true
   },
   "outputs": [],
   "source": [
    "import datetime\n",
    "class event(object):\n",
    "    def __init__(self, title, time, location):\n",
    "        self.title = title\n",
    "        self.time = time\n",
    "        self.location = location\n",
    "    \n",
    "    def day(self):\n",
    "        try:\n",
    "            day = re.findall('\\w+', self.time)[:3]\n",
    "            day = ' '.join(day)\n",
    "            try: \n",
    "                return datetime.datetime.strptime(day, \"%d %b %Y\")\n",
    "            except ValueError:\n",
    "                return datetime.datetime.strptime(day, \"%d %B %Y\")\n",
    "        except ValueError:\n",
    "            return self.time\n",
    "    \n",
    "    def status(self):\n",
    "        if isinstance(self.day(), datetime.datetime):\n",
    "            now = datetime.datetime.now()\n",
    "            if now < self.day():\n",
    "                return 'Upcoming'\n",
    "            elif now - self.day() < datetime.timedelta(days=1):\n",
    "                return 'Today'\n",
    "            else:\n",
    "                return 'Missed'\n",
    "        else:\n",
    "            return 'Unknown'\n",
    "        \n",
    "    def __str__(self):\n",
    "        return self.status() + ' Event: %s' %self.title"
   ]
  },
  {
   "cell_type": "code",
   "execution_count": null,
   "metadata": {
    "collapsed": false
   },
   "outputs": [],
   "source": [
    "event1 = event('Python Meeting Düsseldorf', '20 Jan. 2015 5pm UTC – 7pm UTC', \\\n",
    "          'Bürgerhaus im Stadtteilzentrum Bilk, Raum 1, 2. OG, Bachstr. 145, 40217 Düsseldorf, Germany')\n",
    "print (event1.day())\n",
    "print (event1)"
   ]
  },
  {
   "cell_type": "code",
   "execution_count": null,
   "metadata": {
    "collapsed": false
   },
   "outputs": [],
   "source": [
    "raw_time = '20 Jan. 2015 5pm UTC – 7pm UTC'\n",
    "day = re.findall('\\w+', raw_time)\n",
    "print (day)"
   ]
  },
  {
   "cell_type": "code",
   "execution_count": null,
   "metadata": {
    "collapsed": false
   },
   "outputs": [],
   "source": [
    "day = ' '.join(day[:3])\n",
    "day"
   ]
  },
  {
   "cell_type": "code",
   "execution_count": null,
   "metadata": {
    "collapsed": false
   },
   "outputs": [],
   "source": [
    "import datetime\n",
    "day= datetime.datetime.strptime(day, \"%d %b %Y\")\n",
    "print( day)\n",
    "print (type(day))"
   ]
  },
  {
   "cell_type": "code",
   "execution_count": null,
   "metadata": {
    "collapsed": false
   },
   "outputs": [],
   "source": [
    "print (datetime.datetime.now())"
   ]
  },
  {
   "cell_type": "code",
   "execution_count": null,
   "metadata": {
    "collapsed": false
   },
   "outputs": [],
   "source": [
    "import requests\n",
    "text = requests.get('https://www.python.org/events/python-user-group/').text\n",
    "text\n"
   ]
  },
  {
   "cell_type": "code",
   "execution_count": null,
   "metadata": {
    "collapsed": false
   },
   "outputs": [],
   "source": [
    "import requests\n",
    "import datetime\n",
    "import re\n",
    "\n",
    "text = requests.get('https://www.python.org/events/python-user-group/').text\n",
    "timePattern = '<time datetime=\"[\\w:+-]+\">(.+)<span class=\"say-no-more\">([\\d ]+)</span>(.*)</time>'\n",
    "locationPattern = '<span class=\"event-location\">(.*)</span>'\n",
    "titlePattern = '<h3 class=\"event-title\"><a href=\".+\">(.*)</a></h3>'\n",
    "\n",
    "time = re.findall(timePattern, text)\n",
    "time = [''.join(i) for i in time]\n",
    "location = re.findall(locationPattern, text)\n",
    "title = re.findall(titlePattern, text)\n",
    "\n",
    "events = [event(title[i], time[i], location[i]) for i in range(len(title))]\n",
    "\n",
    "for i in events:\n",
    "    print (30*'-')\n",
    "    print (i)\n",
    "    print ('    Time:  %s' %i.time)\n",
    "    print ('    Location: %s' %i.location)"
   ]
  },
  {
   "cell_type": "code",
   "execution_count": null,
   "metadata": {
    "collapsed": false
   },
   "outputs": [],
   "source": [
    "#!/usr/bin/env python\n",
    "# -*- coding: utf-8 -*-  \n",
    "# Author: NYC data science <http://nycdatascience.com/>\n",
    "\n",
    "import requests\n",
    "import datetime\n",
    "import re\n",
    "\n",
    "class event(object):\n",
    "    def __init__(self, title, time, location):\n",
    "        self.title = title\n",
    "        self.time = time\n",
    "        self.location = location\n",
    "    \n",
    "    def day(self):\n",
    "        try:\n",
    "            day = re.findall('\\w+', self.time)[:3]\n",
    "            day = ' '.join(day)\n",
    "            try: \n",
    "                return datetime.datetime.strptime(day, \"%d %b %Y\")\n",
    "            except ValueError:\n",
    "                return datetime.datetime.strptime(day, \"%d %B %Y\")\n",
    "        except ValueError:\n",
    "            return self.time\n",
    "    \n",
    "    def status(self):\n",
    "        if isinstance(self.day(), datetime.datetime):\n",
    "            now = datetime.datetime.now()\n",
    "            if now < self.day():\n",
    "                return 'Upcoming'\n",
    "            elif now - self.day() < datetime.timedelta(days=1):\n",
    "                return 'Today'\n",
    "            else:\n",
    "                return 'Missed'\n",
    "        else:\n",
    "            return 'Unknown'\n",
    "        \n",
    "    def __str__(self):\n",
    "        return self.status() + ' Event: %s' %self.title\n",
    "\n",
    "    \n",
    "\n",
    "text = requests.get('https://www.python.org/events/python-user-group/').text\n",
    "timePattern = '<time datetime=\"[\\w:+-]+\">(.+)<span class=\"say-no-more\">([\\d ]+)</span>(.*)</time>'\n",
    "locationPattern = '<span class=\"event-location\">(.*)</span>'\n",
    "titlePattern = '<h3 class=\"event-title\"><a href=\".+\">(.*)</a></h3>'\n",
    "\n",
    "time = re.findall(timePattern, text)\n",
    "time = [''.join(i) for i in time]\n",
    "location = re.findall(locationPattern, text)\n",
    "title = re.findall(titlePattern, text)\n",
    "\n",
    "events = [event(title[i], time[i], location[i]) for i in range(len(title))]\n",
    "\n",
    "for i in events:\n",
    "    print (30*'-')\n",
    "    print (i)\n",
    "    print ('    Time    :  %s' %i.time)\n",
    "    print ('    Location: %s' %i.location)\n"
   ]
  },
  {
   "cell_type": "code",
   "execution_count": null,
   "metadata": {
    "collapsed": false
   },
   "outputs": [],
   "source": [
    "!python script/event.py\n"
   ]
  },
  {
   "cell_type": "markdown",
   "metadata": {},
   "source": []
  },
  {
   "cell_type": "markdown",
   "metadata": {},
   "source": [
    "<code>\n",
    "Identifiers:\n",
    "\n",
    "\\d = any number\n",
    "\\D = anything but a number\n",
    "\\s = space\n",
    "\\S = anything but a space\n",
    "\\w = any letter\n",
    "\\W = anything but a letter\n",
    ". = any character, except for a new line\n",
    "\\b = space around whole words\n",
    "\\. = period. must use backslash, because . normally means any character.\n",
    "\n",
    "Modifiers:\n",
    "\n",
    "{1,3} = for digits, u expect 1-3 counts of digits, or \"places\"\n",
    "\\+ = match 1 or more\n",
    "? = match 0 or 1 repetitions.\n",
    "\\* = match 0 or MORE repetitions\n",
    "$ = matches at the end of string\n",
    "^ = matches start of a string\n",
    "| = matches either/or. Example x|y = will match either x or y\n",
    "[] = range, or \"variance\"\n",
    "{x} = expect to see this amount of the preceding .\n",
    "{x,y} = expect to see this x-y amounts of the precedng \n",
    "\n",
    "White Space Charts:\n",
    "\n",
    "\\n = new line\n",
    "\\s = space\n",
    "\\t = tab\n",
    "\\e = escape\n",
    "\\f = form feed\n",
    "\\r = carriage return\n",
    "\n",
    "Characters to REMEMBER TO ESCAPE IF USED!\n",
    "\n",
    ". + * ? [ ] $ ^ ( ) { } | \\\n",
    "\n",
    "Brackets:\n",
    "\n",
    "[] = quant[ia]tative = will find either quantitative, or quantatative.\n",
    "[a-z] = return any lowercase letter a-z\n",
    "[1-5a-qA-Z] = return all numbers 1-5, lowercase letters a-q and uppercase A-Z\n",
    "</code>"
   ]
  },
  {
   "cell_type": "markdown",
   "metadata": {},
   "source": [
    "The code:\n",
    "\n",
    "So, we have the string we intend to search. We see that we have ages that are integers 2-3 numbers in length. We could also expect digits that are just 1, under 10 years old. We probably wont be seeing any digits that are 4 in length, unless we're talking about biblical times or something.\n"
   ]
  },
  {
   "cell_type": "code",
   "execution_count": null,
   "metadata": {
    "collapsed": true
   },
   "outputs": [],
   "source": [
    "import re\n",
    "\n",
    "exampleString = ''' \n",
    "Jessica is 15 years old, and Daniel is 27 years old.\n",
    "Edward is 97 years old, and his grandfather, Oscar, is 102. \n",
    "'''"
   ]
  },
  {
   "cell_type": "markdown",
   "metadata": {},
   "source": [
    "Now we define the regular expression, using a simple findall method to find all examples of the pattern we specify as the first parameter within the string we specify as the second parameter.\n"
   ]
  },
  {
   "cell_type": "code",
   "execution_count": null,
   "metadata": {
    "collapsed": false
   },
   "outputs": [],
   "source": [
    "ages = re.findall(r'\\d{1,3}',exampleString)\n",
    "names = re.findall(r'[A-Z][a-z]*',exampleString)\n",
    "\n",
    "print(ages)\n",
    "print(names)"
   ]
  },
  {
   "cell_type": "code",
   "execution_count": null,
   "metadata": {
    "collapsed": false
   },
   "outputs": [],
   "source": [
    "words = re.findall(r'[a-z]',exampleString)\n",
    "print(words)"
   ]
  },
  {
   "cell_type": "code",
   "execution_count": null,
   "metadata": {
    "collapsed": false
   },
   "outputs": [],
   "source": [
    "words = re.findall(r'[a-z]*',exampleString)\n",
    "print(words)"
   ]
  },
  {
   "cell_type": "code",
   "execution_count": null,
   "metadata": {
    "collapsed": false
   },
   "outputs": [],
   "source": [
    "words = re.findall(r'[a-z]+',exampleString)\n",
    "print(words)"
   ]
  },
  {
   "cell_type": "code",
   "execution_count": null,
   "metadata": {
    "collapsed": false
   },
   "outputs": [],
   "source": [
    "words = re.findall(r'[a-z]?',exampleString)\n",
    "print(words)"
   ]
  },
  {
   "cell_type": "code",
   "execution_count": null,
   "metadata": {
    "collapsed": false
   },
   "outputs": [],
   "source": [
    "words = re.findall(r'[A-Z]+[a-z]+',exampleString)\n",
    "print(words)"
   ]
  },
  {
   "cell_type": "code",
   "execution_count": null,
   "metadata": {
    "collapsed": false
   },
   "outputs": [],
   "source": [
    "words = re.findall(r'[A-Z][a-z]+',exampleString)\n",
    "print(words)"
   ]
  },
  {
   "cell_type": "code",
   "execution_count": null,
   "metadata": {
    "collapsed": false
   },
   "outputs": [],
   "source": [
    "words = re.findall(r'[A-Z]?[a-z]+',exampleString)\n",
    "print(words)"
   ]
  },
  {
   "cell_type": "code",
   "execution_count": null,
   "metadata": {
    "collapsed": true
   },
   "outputs": [],
   "source": [
    "import re\n",
    "\n",
    "exampleString = ''' AAA I think.\n",
    "Jessica is 15 years old, and Daniel is 27 years old.\n",
    "Edward is 97 years old, and his grandfather, Oscar, is 102. \n",
    "'''"
   ]
  },
  {
   "cell_type": "code",
   "execution_count": null,
   "metadata": {
    "collapsed": false
   },
   "outputs": [],
   "source": [
    "words = re.findall(r'[A-Z]?[a-z]+',exampleString)\n",
    "print(words)"
   ]
  },
  {
   "cell_type": "code",
   "execution_count": null,
   "metadata": {
    "collapsed": false
   },
   "outputs": [],
   "source": [
    "words = re.findall(r'[A-Z]{0,4}[a-z]*',exampleString)\n",
    "print(words)"
   ]
  },
  {
   "cell_type": "code",
   "execution_count": null,
   "metadata": {
    "collapsed": false
   },
   "outputs": [],
   "source": [
    "words = re.findall(r'[A-Za-z]+',exampleString)\n",
    "print(words)"
   ]
  },
  {
   "cell_type": "code",
   "execution_count": null,
   "metadata": {
    "collapsed": false
   },
   "outputs": [],
   "source": [
    "words = re.findall(r'\\w',exampleString)\n",
    "print(words)"
   ]
  },
  {
   "cell_type": "code",
   "execution_count": null,
   "metadata": {
    "collapsed": false
   },
   "outputs": [],
   "source": [
    "words = re.findall(r'\\w+',exampleString)\n",
    "print(words)"
   ]
  },
  {
   "cell_type": "code",
   "execution_count": null,
   "metadata": {
    "collapsed": false
   },
   "outputs": [],
   "source": [
    "words = re.findall(r'[A-Z]{3,3}',exampleString)\n",
    "print(words)"
   ]
  },
  {
   "cell_type": "code",
   "execution_count": null,
   "metadata": {
    "collapsed": false
   },
   "outputs": [],
   "source": [
    "words = re.findall(r'[A-Z]{1,3}',exampleString)\n",
    "print(words)"
   ]
  },
  {
   "cell_type": "code",
   "execution_count": null,
   "metadata": {
    "collapsed": false
   },
   "outputs": [],
   "source": [
    "words = re.findall(r'[A-Z]{1,3}[a-z]*',exampleString)\n",
    "print(words)"
   ]
  },
  {
   "cell_type": "code",
   "execution_count": null,
   "metadata": {
    "collapsed": false
   },
   "outputs": [],
   "source": [
    "words = re.findall(r'^[a-z]',exampleString)\n",
    "print(words)"
   ]
  },
  {
   "cell_type": "code",
   "execution_count": null,
   "metadata": {
    "collapsed": false
   },
   "outputs": [],
   "source": [
    "words = re.split(r'\\n',exampleString)\n",
    "print(words)"
   ]
  },
  {
   "cell_type": "code",
   "execution_count": null,
   "metadata": {
    "collapsed": false
   },
   "outputs": [],
   "source": [
    "words = re.split(r'\\.',exampleString)\n",
    "print(words)"
   ]
  },
  {
   "cell_type": "code",
   "execution_count": null,
   "metadata": {
    "collapsed": false
   },
   "outputs": [],
   "source": []
  },
  {
   "cell_type": "code",
   "execution_count": null,
   "metadata": {
    "collapsed": false
   },
   "outputs": [],
   "source": [
    "words = re.findall(r'\\b[a-z]+',exampleString)\n",
    "print(words)"
   ]
  },
  {
   "cell_type": "code",
   "execution_count": null,
   "metadata": {
    "collapsed": false
   },
   "outputs": [],
   "source": [
    "words = re.findall(r'\\w',exampleString)\n",
    "print(words)"
   ]
  },
  {
   "cell_type": "code",
   "execution_count": null,
   "metadata": {
    "collapsed": false
   },
   "outputs": [],
   "source": [
    "words = re.findall(r'\\b\\w',exampleString)\n",
    "print(words)"
   ]
  },
  {
   "cell_type": "code",
   "execution_count": null,
   "metadata": {
    "collapsed": false
   },
   "outputs": [],
   "source": [
    "words = re.findall(r'\\b\\w+',exampleString)\n",
    "print(words)"
   ]
  },
  {
   "cell_type": "code",
   "execution_count": null,
   "metadata": {
    "collapsed": false
   },
   "outputs": [],
   "source": [
    "exampleString2='ksjhfgjkshdfgjhksd <code> asFLKJASKLJFHKASJD</code> shjfjhsdGFJHKSd'\n",
    "\n",
    "words = re.findall(r'<code>.*</code>',exampleString2)\n",
    "print(words)"
   ]
  },
  {
   "cell_type": "code",
   "execution_count": null,
   "metadata": {
    "collapsed": false
   },
   "outputs": [],
   "source": [
    "words = re.findall(r'</code>',exampleString2)\n",
    "print(words)"
   ]
  },
  {
   "cell_type": "code",
   "execution_count": null,
   "metadata": {
    "collapsed": false
   },
   "outputs": [],
   "source": [
    "words = re.findall(r'(code>)',exampleString2)\n",
    "print(words)"
   ]
  },
  {
   "cell_type": "code",
   "execution_count": null,
   "metadata": {
    "collapsed": false
   },
   "outputs": [],
   "source": [
    "words = re.findall(r'(\\w*a)',exampleString,re.M)\n",
    "print(words)"
   ]
  },
  {
   "cell_type": "code",
   "execution_count": null,
   "metadata": {
    "collapsed": false
   },
   "outputs": [],
   "source": [
    "words = re.findall(r'(\\w*d\\b)',exampleString,re.M)\n",
    "print(words)"
   ]
  },
  {
   "cell_type": "code",
   "execution_count": null,
   "metadata": {
    "collapsed": false
   },
   "outputs": [],
   "source": [
    "words = re.findall(r'\\b[O|o]\\w*',exampleString,re.M)\n",
    "print(words)"
   ]
  },
  {
   "cell_type": "code",
   "execution_count": null,
   "metadata": {
    "collapsed": false
   },
   "outputs": [],
   "source": [
    "words = re.findall(r'\\b[A|a]\\w*',exampleString,re.M)\n",
    "print(words)"
   ]
  },
  {
   "cell_type": "code",
   "execution_count": null,
   "metadata": {
    "collapsed": false
   },
   "outputs": [],
   "source": [
    "\n",
    "words = re.findall(r'^J\\w+',exampleString,re.M)\n",
    "print(words)"
   ]
  },
  {
   "cell_type": "code",
   "execution_count": null,
   "metadata": {
    "collapsed": false
   },
   "outputs": [],
   "source": [
    "words = re.findall(r'\\w*[\\.|,]',exampleString,re.M)\n",
    "print(words)"
   ]
  },
  {
   "cell_type": "code",
   "execution_count": null,
   "metadata": {
    "collapsed": false
   },
   "outputs": [],
   "source": [
    "exampleString"
   ]
  },
  {
   "cell_type": "code",
   "execution_count": null,
   "metadata": {
    "collapsed": false
   },
   "outputs": [],
   "source": [
    "words = re.findall(r'^[J]\\w+',exampleString,re.M)\n",
    "print(words)"
   ]
  },
  {
   "cell_type": "code",
   "execution_count": null,
   "metadata": {
    "collapsed": false
   },
   "outputs": [],
   "source": [
    "words = re.findall(r'^[J|E]\\w+',exampleString,re.M)\n",
    "print(words)"
   ]
  },
  {
   "cell_type": "code",
   "execution_count": null,
   "metadata": {
    "collapsed": false
   },
   "outputs": [],
   "source": [
    "words = re.findall(r'^[J|D]\\w+',exampleString,re.M)\n",
    "\n",
    "print(words)"
   ]
  },
  {
   "cell_type": "markdown",
   "metadata": {},
   "source": [
    "<code>\n",
    "Pattern\tDescription\n",
    "^\tMatches beginning of line.\n",
    "$\tMatches end of line.\n",
    ".\tMatches any single character except newline. Using m option allows it to match newline as well.\n",
    "[...]\tMatches any single character in brackets.\n",
    "[^...]\tMatches any single character not in brackets\n",
    "re*\tMatches 0 or more occurrences of preceding expression.\n",
    "re+\tMatches 1 or more occurrence of preceding expression.\n",
    "re?\tMatches 0 or 1 occurrence of preceding expression.\n",
    "re{ n}\tMatches exactly n number of occurrences of preceding expression.\n",
    "re{ n,}\tMatches n or more occurrences of preceding expression.\n",
    "re{ n, m}\tMatches at least n and at most m occurrences of preceding expression.\n",
    "a| b\tMatches either a or b.\n",
    "(re)\tGroups regular expressions and remembers matched text.\n",
    "(?imx)\tTemporarily toggles on i, m, or x options within a regular expression. If in parentheses, only that area is affected.\n",
    "(?-imx)\tTemporarily toggles off i, m, or x options within a regular expression. If in parentheses, only that area is affected.\n",
    "(?: re)\tGroups regular expressions without remembering matched text.\n",
    "(?imx: re)\tTemporarily toggles on i, m, or x options within parentheses.\n",
    "(?-imx: re)\tTemporarily toggles off i, m, or x options within parentheses.\n",
    "(?#...)\tComment.\n",
    "(?= re)\tSpecifies position using a pattern. Doesn't have a range.\n",
    "(?! re)\tSpecifies position using pattern negation. Doesn't have a range.\n",
    "(?> re)\tMatches independent pattern without backtracking.\n",
    "\\w\tMatches word characters.\n",
    "\\W\tMatches nonword characters.\n",
    "\\s\tMatches whitespace. Equivalent to [\\t\\n\\r\\f].\n",
    "\\S\tMatches nonwhitespace.\n",
    "\\d\tMatches digits. Equivalent to [0-9].\n",
    "\\D\tMatches nondigits.\n",
    "\\A\tMatches beginning of string.\n",
    "\\Z\tMatches end of string. If a newline exists, it matches just before newline.\n",
    "\\z\tMatches end of string.\n",
    "\\G\tMatches point where last match finished.\n",
    "\\b\tMatches word boundaries when outside brackets. Matches backspace (0x08) when inside brackets.\n",
    "\\B\tMatches nonword boundaries.\n",
    "\\n, \\t, etc.\tMatches newlines, carriage returns, tabs, etc.\n",
    "\\1...\\9\tMatches nth grouped subexpression.\n",
    "\\10\tMatches nth grouped subexpression if it matched already. Otherwise refers to the octal representation of a character code.\n"
   ]
  },
  {
   "cell_type": "code",
   "execution_count": null,
   "metadata": {
    "collapsed": false
   },
   "outputs": [],
   "source": [
    "words = re.findall(r'\\b[J|D]\\w+',exampleString,re.M)\n",
    "print(words)"
   ]
  },
  {
   "cell_type": "code",
   "execution_count": null,
   "metadata": {
    "collapsed": false
   },
   "outputs": [],
   "source": [
    "exampleString3='''hi Grok\n",
    "date hey\n",
    "hello day\n",
    "ho ho ho holly'''"
   ]
  },
  {
   "cell_type": "code",
   "execution_count": null,
   "metadata": {
    "collapsed": false
   },
   "outputs": [],
   "source": [
    "words = re.findall(r'^.*',exampleString3,re.M)\n",
    "print(words)"
   ]
  },
  {
   "cell_type": "code",
   "execution_count": null,
   "metadata": {
    "collapsed": false
   },
   "outputs": [],
   "source": [
    "words = re.findall(r'^.*',exampleString3)\n",
    "print(words)"
   ]
  },
  {
   "cell_type": "code",
   "execution_count": null,
   "metadata": {
    "collapsed": false
   },
   "outputs": [],
   "source": [
    "words = re.findall(r'y$',exampleString3,re.M)\n",
    "print(words)"
   ]
  },
  {
   "cell_type": "code",
   "execution_count": null,
   "metadata": {
    "collapsed": false
   },
   "outputs": [],
   "source": [
    "words = re.findall(r'\\w*y$',exampleString3,re.M)\n",
    "print(words)"
   ]
  },
  {
   "cell_type": "code",
   "execution_count": null,
   "metadata": {
    "collapsed": false
   },
   "outputs": [],
   "source": [
    "words = re.findall(r'\\bh.*',exampleString3,re.M)\n",
    "print(words)"
   ]
  },
  {
   "cell_type": "code",
   "execution_count": null,
   "metadata": {
    "collapsed": false
   },
   "outputs": [],
   "source": [
    "words = re.findall(r'\\w+',exampleString3,re.M)\n",
    "print(words)"
   ]
  },
  {
   "cell_type": "code",
   "execution_count": null,
   "metadata": {
    "collapsed": false
   },
   "outputs": [],
   "source": [
    "words = re.findall(r'\\w*[aeiou][y]\\b',exampleString3,re.M)\n",
    "print(words)"
   ]
  },
  {
   "cell_type": "code",
   "execution_count": null,
   "metadata": {
    "collapsed": true
   },
   "outputs": [],
   "source": []
  }
 ],
 "metadata": {
  "anaconda-cloud": {},
  "kernelspec": {
   "display_name": "Python [conda root]",
   "language": "python",
   "name": "conda-root-py"
  },
  "language_info": {
   "codemirror_mode": {
    "name": "ipython",
    "version": 2
   },
   "file_extension": ".py",
   "mimetype": "text/x-python",
   "name": "python",
   "nbconvert_exporter": "python",
   "pygments_lexer": "ipython2",
   "version": "2.7.12"
  }
 },
 "nbformat": 4,
 "nbformat_minor": 0
}
