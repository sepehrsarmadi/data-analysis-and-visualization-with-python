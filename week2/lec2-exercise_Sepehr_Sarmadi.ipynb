{
 "cells": [
  {
   "cell_type": "markdown",
   "metadata": {
    "internals": {
     "slide_helper": "subslide_end",
     "slide_type": "subslide"
    },
    "slide_helper": "slide_end",
    "slideshow": {
     "slide_type": "slide"
    }
   },
   "source": [
    "# Part1: Class"
   ]
  },
  {
   "cell_type": "markdown",
   "metadata": {
    "internals": {
     "slide_type": "subslide"
    },
    "slideshow": {
     "slide_type": "slide"
    }
   },
   "source": [
    "(1) Define a new class named **Coordinate**, which is used to represent a  2D coordinate system. Initialize two attributes *x* and *y* when create a object."
   ]
  },
  {
   "cell_type": "code",
   "execution_count": 1,
   "metadata": {
    "collapsed": false,
    "internals": {},
    "slideshow": {
     "slide_type": "-"
    }
   },
   "outputs": [],
   "source": [
    "### write your code here\n",
    "\n",
    "class Coordinate():\n",
    "    '''This is the documentation'''\n",
    "    \n",
    "    def __init__(self, some_x, some_y):       # constructor \n",
    "        self.x = some_x\n",
    "        self.y = some_y\n",
    "        "
   ]
  },
  {
   "cell_type": "markdown",
   "metadata": {
    "internals": {},
    "slideshow": {
     "slide_type": "-"
    }
   },
   "source": [
    "Here are some tests:"
   ]
  },
  {
   "cell_type": "code",
   "execution_count": 4,
   "metadata": {
    "collapsed": false,
    "internals": {},
    "slideshow": {
     "slide_type": "-"
    }
   },
   "outputs": [
    {
     "name": "stdout",
     "output_type": "stream",
     "text": [
      "2\n",
      "3\n"
     ]
    }
   ],
   "source": [
    "coor1 = Coordinate(2, 3)\n",
    "print coor1.x # 2\n",
    "print coor1.y # 3"
   ]
  },
  {
   "cell_type": "code",
   "execution_count": 5,
   "metadata": {
    "collapsed": false,
    "internals": {
     "slide_helper": "subslide_end"
    },
    "slide_helper": "slide_end",
    "slideshow": {
     "slide_type": "-"
    }
   },
   "outputs": [
    {
     "name": "stdout",
     "output_type": "stream",
     "text": [
      "-5\n",
      "15\n"
     ]
    }
   ],
   "source": [
    "coor1 = Coordinate(-5, 15)\n",
    "print coor1.x # -5\n",
    "print coor1.y # 15"
   ]
  },
  {
   "cell_type": "markdown",
   "metadata": {
    "internals": {
     "slide_type": "subslide"
    },
    "slideshow": {
     "slide_type": "slide"
    }
   },
   "source": [
    "(2) Add two methods for the class **Coordinate**:\n",
    "    - getX(): return the attribute x\n",
    "    - getY(): return the attribute y."
   ]
  },
  {
   "cell_type": "code",
   "execution_count": 6,
   "metadata": {
    "collapsed": false,
    "internals": {},
    "slideshow": {
     "slide_type": "-"
    }
   },
   "outputs": [],
   "source": [
    "### write your code here\n",
    "\n",
    "class Coordinate():\n",
    "    '''This is the documentation'''\n",
    "    \n",
    "    def __init__(self, some_x, some_y):       # constructor \n",
    "        self.x = some_x\n",
    "        self.y = some_y\n",
    "        \n",
    "    def getX(self):\n",
    "        return self.x\n",
    "    \n",
    "    def getY(self):\n",
    "        return self.y"
   ]
  },
  {
   "cell_type": "markdown",
   "metadata": {
    "internals": {},
    "slideshow": {
     "slide_type": "-"
    }
   },
   "source": [
    "Here are some tests:"
   ]
  },
  {
   "cell_type": "code",
   "execution_count": 7,
   "metadata": {
    "collapsed": false,
    "internals": {},
    "slideshow": {
     "slide_type": "-"
    }
   },
   "outputs": [
    {
     "name": "stdout",
     "output_type": "stream",
     "text": [
      "2\n",
      "3\n"
     ]
    }
   ],
   "source": [
    "coor1 = Coordinate(2, 3)\n",
    "print coor1.getX() # 2\n",
    "print coor1.getY() # 3"
   ]
  },
  {
   "cell_type": "code",
   "execution_count": 8,
   "metadata": {
    "collapsed": false,
    "internals": {
     "slide_helper": "subslide_end"
    },
    "slide_helper": "slide_end",
    "slideshow": {
     "slide_type": "-"
    }
   },
   "outputs": [
    {
     "name": "stdout",
     "output_type": "stream",
     "text": [
      "-5\n",
      "15\n"
     ]
    }
   ],
   "source": [
    "coor1 = Coordinate(-5, 15)\n",
    "print coor1.getX() # -5\n",
    "print coor1.getY() # 15"
   ]
  },
  {
   "cell_type": "code",
   "execution_count": 10,
   "metadata": {
    "collapsed": false
   },
   "outputs": [
    {
     "name": "stdout",
     "output_type": "stream",
     "text": [
      "2\n",
      "3\n"
     ]
    }
   ],
   "source": [
    "print Coordinate.getX(coor1)   # when we greate an object method, we get for free the class method\n",
    "print Coordinate.getY(coor1)"
   ]
  },
  {
   "cell_type": "markdown",
   "metadata": {
    "internals": {
     "slide_type": "subslide"
    },
    "slideshow": {
     "slide_type": "slide"
    }
   },
   "source": [
    "(3) Add a `__str__` method for class **Coordinate**, so that when print a Coordinate object return its x value and y value."
   ]
  },
  {
   "cell_type": "code",
   "execution_count": 11,
   "metadata": {
    "collapsed": false,
    "internals": {},
    "slideshow": {
     "slide_type": "-"
    }
   },
   "outputs": [],
   "source": [
    "### write your code here\n",
    "\n",
    "class Coordinate():\n",
    "    '''This is the documentation'''\n",
    "    \n",
    "    def __init__(self, some_x, some_y):       # constructor \n",
    "        self.x = some_x\n",
    "        self.y = some_y\n",
    "        \n",
    "    def getX(self):\n",
    "        return self.x\n",
    "    \n",
    "    def getY(self):\n",
    "        return self.y\n",
    "    \n",
    "    def __str__(self):    \n",
    "        return '<%s,%s>' %(self.x,self.y)"
   ]
  },
  {
   "cell_type": "markdown",
   "metadata": {
    "internals": {},
    "slideshow": {
     "slide_type": "-"
    }
   },
   "source": [
    "Here are some tests:"
   ]
  },
  {
   "cell_type": "code",
   "execution_count": 12,
   "metadata": {
    "collapsed": false,
    "internals": {},
    "slideshow": {
     "slide_type": "-"
    }
   },
   "outputs": [
    {
     "name": "stdout",
     "output_type": "stream",
     "text": [
      "<2,3>\n"
     ]
    }
   ],
   "source": [
    "coor1 = Coordinate(2, 3)\n",
    "print coor1 # <2,3>"
   ]
  },
  {
   "cell_type": "code",
   "execution_count": 13,
   "metadata": {
    "collapsed": false,
    "internals": {
     "slide_helper": "subslide_end"
    },
    "slide_helper": "slide_end",
    "slideshow": {
     "slide_type": "-"
    }
   },
   "outputs": [
    {
     "name": "stdout",
     "output_type": "stream",
     "text": [
      "<-5,15>\n"
     ]
    }
   ],
   "source": [
    "coor2 = Coordinate(-5, 15)\n",
    "print coor2 # <-5,15>"
   ]
  },
  {
   "cell_type": "markdown",
   "metadata": {
    "internals": {
     "slide_type": "subslide"
    },
    "slideshow": {
     "slide_type": "slide"
    }
   },
   "source": [
    "(4) Add a `__eq__` method for class Coordinate. Given two Coordinate object, return `True` if their x and y are all equal, otherwise return `False`."
   ]
  },
  {
   "cell_type": "code",
   "execution_count": 14,
   "metadata": {
    "collapsed": false,
    "internals": {},
    "slideshow": {
     "slide_type": "-"
    }
   },
   "outputs": [],
   "source": [
    "### write your codes here\n",
    "\n",
    "class Coordinate():\n",
    "    '''This is the documentation'''\n",
    "    \n",
    "    def __init__(self, some_x, some_y):       # constructor \n",
    "        self.x = some_x\n",
    "        self.y = some_y\n",
    "        \n",
    "    def getX(self):\n",
    "        return self.x\n",
    "    \n",
    "    def getY(self):\n",
    "        return self.y\n",
    "    \n",
    "    def __str__(self):    \n",
    "        return '<%i,%i>' %(self.x,self.y)\n",
    "    \n",
    "    def __eq__(self, another_coordinate):\n",
    "        if (self.x == another_coordinate.x) and (self.y == another_coordinate.y):\n",
    "            return True\n",
    "        else:\n",
    "            return False\n",
    "        \n",
    "        "
   ]
  },
  {
   "cell_type": "markdown",
   "metadata": {
    "internals": {},
    "slideshow": {
     "slide_type": "-"
    }
   },
   "source": [
    "Here are some tests:"
   ]
  },
  {
   "cell_type": "code",
   "execution_count": 15,
   "metadata": {
    "collapsed": false,
    "internals": {},
    "slideshow": {
     "slide_type": "-"
    }
   },
   "outputs": [
    {
     "name": "stdout",
     "output_type": "stream",
     "text": [
      "False\n",
      "True\n",
      "False\n",
      "True\n",
      "False\n"
     ]
    }
   ],
   "source": [
    "coor1 = Coordinate(2, 3)\n",
    "coor2 = Coordinate(-5, 15)\n",
    "coor3 = Coordinate(2.0, 3)\n",
    "coor4 = Coordinate(-5, 15.0)\n",
    "print coor1.__eq__(coor2) # False\n",
    "print coor1.__eq__(coor3) # True\n",
    "print coor2.__eq__(coor3) # False\n",
    "print coor2.__eq__(coor4) # True\n",
    "print coor1.__eq__(coor4) # False"
   ]
  },
  {
   "cell_type": "markdown",
   "metadata": {
    "internals": {},
    "slideshow": {
     "slide_type": "-"
    }
   },
   "source": [
    "Given two Coordinate objects `obj1` and `obj2`, `obj1.__eq__(obj2)` is equivalent to `obj1 == obj2`. \n",
    "\n",
    "When print an object, the `__str__` method is called, when `==` is used to compare two objects, the `__eq__` method is called.\n",
    "\n",
    "So the following codes return exactly the same results."
   ]
  },
  {
   "cell_type": "code",
   "execution_count": 16,
   "metadata": {
    "collapsed": false,
    "internals": {
     "slide_helper": "subslide_end"
    },
    "slide_helper": "slide_end",
    "slideshow": {
     "slide_type": "-"
    }
   },
   "outputs": [
    {
     "name": "stdout",
     "output_type": "stream",
     "text": [
      "False\n",
      "True\n",
      "False\n",
      "True\n",
      "False\n"
     ]
    }
   ],
   "source": [
    "print coor1 == coor2 # False\n",
    "print coor1 == coor3 # True\n",
    "print coor2 == coor3 # False\n",
    "print coor2 == coor4 # True\n",
    "print coor1 == coor4 # False"
   ]
  },
  {
   "cell_type": "markdown",
   "metadata": {
    "internals": {
     "slide_type": "subslide"
    },
    "slideshow": {
     "slide_type": "slide"
    }
   },
   "source": [
    "(5) Add a `__add__` method for class Coordinate. Given two Coordinate object obj1 and obj2, `obj1.__add__(obj2)` return a new Coordinate object whose x is the sum of `obj1.x` and `obj2.x`, and y is the sum of `obj1.y` and `obj2.y`."
   ]
  },
  {
   "cell_type": "code",
   "execution_count": 19,
   "metadata": {
    "collapsed": false,
    "internals": {},
    "slideshow": {
     "slide_type": "-"
    }
   },
   "outputs": [],
   "source": [
    "### write your codes here\n",
    "\n",
    "class Coordinate():\n",
    "    '''This is the documentation'''\n",
    "    \n",
    "    def __init__(self, some_x, some_y):       # constructor \n",
    "        self.x = some_x\n",
    "        self.y = some_y\n",
    "        \n",
    "    def getX(self):\n",
    "        return self.x\n",
    "    \n",
    "    def getY(self):\n",
    "        return self.y\n",
    "    \n",
    "    def __str__(self):    \n",
    "        return '<%i,%i>' %(self.x,self.y)\n",
    "    \n",
    "    def __eq__(self, another_coordinate):\n",
    "        if (self.x == another_coordinate.x) and (self.y == another_coordinate.y):\n",
    "            return True\n",
    "        else:\n",
    "            return False\n",
    "        \n",
    "    def __add__(self, another_coordinate):\n",
    "        new_x = self.x + another_coordinate.x\n",
    "        new_y = self.y + another_coordinate.y\n",
    "        new_coordinate = Coordinate(new_x, new_y)\n",
    "        return new_coordinate\n",
    "    "
   ]
  },
  {
   "cell_type": "markdown",
   "metadata": {
    "internals": {},
    "slideshow": {
     "slide_type": "-"
    }
   },
   "source": [
    "Here are some tests:"
   ]
  },
  {
   "cell_type": "code",
   "execution_count": 18,
   "metadata": {
    "collapsed": false,
    "internals": {},
    "slideshow": {
     "slide_type": "-"
    }
   },
   "outputs": [
    {
     "name": "stdout",
     "output_type": "stream",
     "text": [
      "<type 'instance'>\n",
      "True\n",
      "-3\n",
      "18\n",
      "<-3,18>\n"
     ]
    }
   ],
   "source": [
    "coor1 = Coordinate(2, 3)\n",
    "coor2 = Coordinate(-5, 15)\n",
    "coor3 = coor1.__add__(coor2)\n",
    "print type(coor3) # Coordinate\n",
    "print isinstance(coor3, Coordinate) # True\n",
    "print coor3.x # -3\n",
    "print coor3.y # 18\n",
    "print coor3   # <-3,18>"
   ]
  },
  {
   "cell_type": "markdown",
   "metadata": {
    "internals": {},
    "slideshow": {
     "slide_type": "-"
    }
   },
   "source": [
    "When `+` is used between two objects, the `__add__` method is called. So `coor3 = coor1 + coor2` is equivalent to `coor3 = coor1.__add__(coor2)`"
   ]
  },
  {
   "cell_type": "code",
   "execution_count": 19,
   "metadata": {
    "collapsed": false,
    "internals": {
     "slide_helper": "subslide_end"
    },
    "slide_helper": "slide_end",
    "slideshow": {
     "slide_type": "-"
    }
   },
   "outputs": [
    {
     "name": "stdout",
     "output_type": "stream",
     "text": [
      "<type 'instance'>\n",
      "True\n",
      "-3\n",
      "18\n",
      "<-3,18>\n"
     ]
    }
   ],
   "source": [
    "coor3 = coor1 + coor2\n",
    "print type(coor3) # Coordinate\n",
    "print isinstance(coor3, Coordinate) # True\n",
    "print coor3.x # -3\n",
    "print coor3.y # 18\n",
    "print coor3   # <-3,18>"
   ]
  },
  {
   "cell_type": "markdown",
   "metadata": {
    "internals": {
     "slide_helper": "subslide_end",
     "slide_type": "subslide"
    },
    "slide_helper": "slide_end",
    "slideshow": {
     "slide_type": "slide"
    }
   },
   "source": [
    "# Part2: File & Script"
   ]
  },
  {
   "cell_type": "markdown",
   "metadata": {
    "internals": {
     "slide_type": "subslide"
    },
    "slideshow": {
     "slide_type": "slide"
    }
   },
   "source": [
    "(1) Write the following codes into a file named 'add.py' by using the function **open**."
   ]
  },
  {
   "cell_type": "code",
   "execution_count": null,
   "metadata": {
    "collapsed": false,
    "internals": {},
    "slideshow": {
     "slide_type": "-"
    }
   },
   "outputs": [],
   "source": [
    "from sys import argv\n",
    "script, num1, num2 = argv\n",
    "print float(num1) + float(num2)"
   ]
  },
  {
   "cell_type": "code",
   "execution_count": 30,
   "metadata": {
    "collapsed": false,
    "internals": {},
    "slideshow": {
     "slide_type": "-"
    }
   },
   "outputs": [],
   "source": [
    "### write your codes here\n",
    "\n",
    "open('add.py', 'w').write('''from sys import argv\n",
    "script, num1, num2 = argv\n",
    "print float(num1) + float(num2)''')"
   ]
  },
  {
   "cell_type": "code",
   "execution_count": 31,
   "metadata": {
    "collapsed": false
   },
   "outputs": [
    {
     "name": "stdout",
     "output_type": "stream",
     "text": [
      "from sys import argv\n",
      "script, num1, num2 = argv\n",
      "print float(num1) + float(num2)\n"
     ]
    }
   ],
   "source": [
    "!more add.py"
   ]
  },
  {
   "cell_type": "markdown",
   "metadata": {
    "internals": {},
    "slideshow": {
     "slide_type": "-"
    }
   },
   "source": [
    "After writing your codes, you could run the following command and get the corresponding results."
   ]
  },
  {
   "cell_type": "code",
   "execution_count": 32,
   "metadata": {
    "collapsed": false,
    "internals": {
     "slide_helper": "subslide_end"
    },
    "slide_helper": "slide_end",
    "slideshow": {
     "slide_type": "-"
    }
   },
   "outputs": [
    {
     "name": "stdout",
     "output_type": "stream",
     "text": [
      "3.0\n",
      "30.0\n",
      "37.0\n",
      "37.0\n",
      "30.0\n",
      "3.0\n"
     ]
    }
   ],
   "source": [
    "!python add.py 1 2 \n",
    "!python add.py 10 20\n",
    "!python add.py 15 22\n",
    "!python add.py 22 15\n",
    "!python add.py 20 10\n",
    "!python add.py 2 1"
   ]
  },
  {
   "cell_type": "markdown",
   "metadata": {
    "internals": {
     "slide_type": "subslide"
    },
    "slideshow": {
     "slide_type": "slide"
    }
   },
   "source": [
    "(2) Write a script named 'calculator.py' which has two arguments.\n",
    "    - The second argument is an expression like '1+1'. \n",
    "    - The expression consist of two numbers and an operator(+, -, *, /) between the numbers.\n",
    "    - This script should return the result of the expression.\n"
   ]
  },
  {
   "cell_type": "code",
   "execution_count": 47,
   "metadata": {
    "collapsed": false,
    "internals": {},
    "slideshow": {
     "slide_type": "-"
    }
   },
   "outputs": [],
   "source": [
    "### write your codes here\n",
    "\n",
    "open('calculator.py', 'w').write('''from sys import argv\n",
    "script, str = argv\n",
    "operators='+-*/'\n",
    "index=0\n",
    "for i in operators:\n",
    "    index = max(index, str.find(i))\n",
    "a = str[:index]  \n",
    "b = str[(index+1):]\n",
    "op = str[index]\n",
    "if op == '+':\n",
    "    print float(a) + float(b)\n",
    "elif op == '-':\n",
    "    print float(a) - float(b)\n",
    "elif op == '*':\n",
    "    print float(a) * float(b)\n",
    "else:\n",
    "    print float(a) / float(b)\n",
    "''')\n"
   ]
  },
  {
   "cell_type": "markdown",
   "metadata": {
    "internals": {},
    "slideshow": {
     "slide_type": "-"
    }
   },
   "source": [
    "Here are some tests:"
   ]
  },
  {
   "cell_type": "code",
   "execution_count": 49,
   "metadata": {
    "collapsed": false,
    "internals": {
     "slide_helper": "subslide_end"
    },
    "slide_helper": "slide_end",
    "slideshow": {
     "slide_type": "-"
    }
   },
   "outputs": [
    {
     "name": "stdout",
     "output_type": "stream",
     "text": [
      "3.0\n",
      "30.0\n",
      "-7.0\n",
      "7.0\n",
      "2.0\n",
      "2.0\n"
     ]
    }
   ],
   "source": [
    "!python calculator.py 1+2 \n",
    "!python calculator.py 10+20\n",
    "!python calculator.py 15-22\n",
    "!python calculator.py 22-15\n",
    "!python calculator.py 20/10\n",
    "!python calculator.py 2*1"
   ]
  },
  {
   "cell_type": "code",
   "execution_count": 21,
   "metadata": {
    "collapsed": false
   },
   "outputs": [
    {
     "name": "stdout",
     "output_type": "stream",
     "text": [
      "5\n",
      "12\n"
     ]
    }
   ],
   "source": [
    "# we can also use the eval function:\n",
    "\n",
    "print eval('2+3')\n",
    "print eval('132/11')"
   ]
  },
  {
   "cell_type": "markdown",
   "metadata": {
    "internals": {
     "slide_helper": "subslide_end",
     "slide_type": "subslide"
    },
    "slide_helper": "slide_end",
    "slideshow": {
     "slide_type": "slide"
    }
   },
   "source": [
    "# Part3: Regular Expression"
   ]
  },
  {
   "cell_type": "markdown",
   "metadata": {
    "internals": {
     "slide_type": "subslide"
    },
    "slideshow": {
     "slide_type": "slide"
    }
   },
   "source": [
    "(1) Write a function **matchAll(pattern, list)**, return True if the pattern matches all the strings in the list."
   ]
  },
  {
   "cell_type": "code",
   "execution_count": 22,
   "metadata": {
    "collapsed": false,
    "internals": {},
    "slideshow": {
     "slide_type": "-"
    }
   },
   "outputs": [],
   "source": [
    "### write your codes here\n",
    "\n",
    "import re\n",
    "\n",
    "def matchAll(pattern, lis):\n",
    "    flag = True\n",
    "    for i in lis:\n",
    "        if re.search(pattern, i) == None:\n",
    "            flag = False\n",
    "    return flag"
   ]
  },
  {
   "cell_type": "markdown",
   "metadata": {
    "internals": {},
    "slideshow": {
     "slide_type": "-"
    }
   },
   "source": [
    "Here are some tests:"
   ]
  },
  {
   "cell_type": "code",
   "execution_count": 23,
   "metadata": {
    "collapsed": false,
    "internals": {
     "slide_helper": "subslide_end"
    },
    "slide_helper": "slide_end",
    "slideshow": {
     "slide_type": "-"
    }
   },
   "outputs": [
    {
     "name": "stdout",
     "output_type": "stream",
     "text": [
      "True\n",
      "False\n",
      "True\n",
      "True\n",
      "False\n"
     ]
    }
   ],
   "source": [
    "print matchAll('a', ['a', 'ab', 'abc']) # True\n",
    "print matchAll('a', ['a', 'ab', 'bc'])  # False\n",
    "print matchAll('(ab)?', ['a', 'ab', 'abc'])  # True\n",
    "print matchAll('.', ['a', 'ab', 'abc'])      # True\n",
    "print matchAll('.{2,3}', ['a', 'ab', 'abc']) # False"
   ]
  },
  {
   "cell_type": "markdown",
   "metadata": {
    "internals": {
     "slide_type": "subslide"
    },
    "slideshow": {
     "slide_type": "slide"
    }
   },
   "source": [
    "(2) Write a function matchNone(pattern, list), return True if the pattern does not match any one of the strings in the list."
   ]
  },
  {
   "cell_type": "code",
   "execution_count": 25,
   "metadata": {
    "collapsed": false,
    "internals": {},
    "slideshow": {
     "slide_type": "-"
    }
   },
   "outputs": [],
   "source": [
    "### write your codes here\n",
    "\n",
    "def matchNone(pattern, lis):\n",
    "    flag = True\n",
    "    for i in lis:\n",
    "        if re.search(pattern, i) != None:\n",
    "            flag = False\n",
    "    return flag"
   ]
  },
  {
   "cell_type": "code",
   "execution_count": null,
   "metadata": {
    "collapsed": false,
    "internals": {},
    "slideshow": {
     "slide_type": "-"
    }
   },
   "outputs": [],
   "source": [
    "Here are some tests:"
   ]
  },
  {
   "cell_type": "code",
   "execution_count": 53,
   "metadata": {
    "collapsed": false,
    "internals": {
     "slide_helper": "subslide_end"
    },
    "slide_helper": "slide_end",
    "slideshow": {
     "slide_type": "-"
    }
   },
   "outputs": [
    {
     "name": "stdout",
     "output_type": "stream",
     "text": [
      "True\n",
      "False\n",
      "False\n",
      "False\n",
      "True\n"
     ]
    }
   ],
   "source": [
    "print matchNone('a', ['b', 'bb', 'bbb'])      # True\n",
    "print matchNone('a', ['b', 'ba', 'bab'])      # False\n",
    "print matchNone('(ab)?', ['a', 'ab', 'ac'])   # False\n",
    "print matchNone('a{2,}', ['a', 'aa', 'abc'])  # False\n",
    "print matchNone('a{2,3}', ['a', 'ab', 'abc']) # True"
   ]
  },
  {
   "cell_type": "markdown",
   "metadata": {
    "internals": {
     "slide_type": "subslide"
    },
    "slideshow": {
     "slide_type": "slide"
    }
   },
   "source": [
    "(3) Write a pattern to match the following words:\n",
    "\n",
    "        a, an, absh, apple, adsorb, apple99"
   ]
  },
  {
   "cell_type": "code",
   "execution_count": 54,
   "metadata": {
    "collapsed": false,
    "internals": {
     "slide_helper": "subslide_end"
    },
    "slide_helper": "slide_end",
    "slideshow": {
     "slide_type": "-"
    }
   },
   "outputs": [
    {
     "data": {
      "text/plain": [
       "True"
      ]
     },
     "execution_count": 54,
     "metadata": {},
     "output_type": "execute_result"
    }
   ],
   "source": [
    "wordPattern = '^a'\n",
    "matchAll(wordPattern, ['a', 'an', 'absh', 'appale', 'adsorb', 'apple99']) # True"
   ]
  },
  {
   "cell_type": "markdown",
   "metadata": {
    "internals": {
     "slide_type": "subslide"
    },
    "slideshow": {
     "slide_type": "slide"
    }
   },
   "source": [
    "(4) Write a pattern that does not match the following words:\n",
    "        \n",
    "        can, fan, dan, ran, pan"
   ]
  },
  {
   "cell_type": "code",
   "execution_count": 75,
   "metadata": {
    "collapsed": false,
    "internals": {
     "slide_helper": "subslide_end"
    },
    "slide_helper": "slide_end",
    "slideshow": {
     "slide_type": "-"
    }
   },
   "outputs": [
    {
     "data": {
      "text/plain": [
       "True"
      ]
     },
     "execution_count": 75,
     "metadata": {},
     "output_type": "execute_result"
    }
   ],
   "source": [
    "wordPattern = '[^cfdrp]an'\n",
    "matchNone(wordPattern, ['can', 'fan', 'dan', 'ran', 'pan']) # True"
   ]
  },
  {
   "cell_type": "markdown",
   "metadata": {
    "internals": {
     "slide_type": "subslide"
    },
    "slideshow": {
     "slide_type": "slide"
    }
   },
   "source": [
    "(5) Write a regular expression that matches these three words: \n",
    "\n",
    "        - can, fan, dan\n",
    "and does not match these three words: \n",
    "\n",
    "        - man, ran, pan"
   ]
  },
  {
   "cell_type": "code",
   "execution_count": 76,
   "metadata": {
    "collapsed": false,
    "internals": {
     "slide_helper": "subslide_end"
    },
    "slide_helper": "slide_end",
    "slideshow": {
     "slide_type": "-"
    }
   },
   "outputs": [
    {
     "name": "stdout",
     "output_type": "stream",
     "text": [
      "True\n",
      "True\n"
     ]
    }
   ],
   "source": [
    "wordPattern = '[cfd]|[^mrp]an'\n",
    "print matchAll(wordPattern, ['can', 'fan', 'dan']) # True\n",
    "print matchNone(wordPattern, ['man', 'ran', 'pan']) # True"
   ]
  },
  {
   "cell_type": "markdown",
   "metadata": {
    "internals": {
     "slide_type": "subslide"
    },
    "slideshow": {
     "slide_type": "slide"
    }
   },
   "source": [
    "(6) Write a regular expression that matches these five strings:\n",
    "        - pit, spot, spate, slap two, respite\n",
    "    \n",
    "and does not match these four words:\n",
    "\n",
    "        - pt, Pot, peat, part\n"
   ]
  },
  {
   "cell_type": "code",
   "execution_count": 26,
   "metadata": {
    "collapsed": false,
    "internals": {
     "slide_helper": "subslide_end"
    },
    "slide_helper": "slide_end",
    "slideshow": {
     "slide_type": "-"
    }
   },
   "outputs": [
    {
     "name": "stdout",
     "output_type": "stream",
     "text": [
      "True\n",
      "True\n"
     ]
    }
   ],
   "source": [
    "wordPattern = 'p.t'\n",
    "print matchAll(wordPattern, ['pit', 'spot', 'spate', 'slap two', 'respite']) # True\n",
    "print matchNone(wordPattern, ['pt', 'Pot', 'peat', 'part']) # True"
   ]
  },
  {
   "cell_type": "markdown",
   "metadata": {
    "internals": {
     "slide_type": "subslide"
    },
    "slideshow": {
     "slide_type": "slide"
    }
   },
   "source": [
    "(7)**[optinal]**\n",
    "Write a regular expression that matches these five words:\n",
    "    - rap them, tapeth, apth, wrap/try, sap tray, 87ap9th, apothecary\n",
    "\n",
    "and does not match these four words:\n",
    "    - aleht, happy them, tarpth, Apt, peth, tarreth, ddapdg, apples, shape the"
   ]
  },
  {
   "cell_type": "code",
   "execution_count": null,
   "metadata": {
    "collapsed": false,
    "internals": {
     "slide_helper": "subslide_end"
    },
    "slide_helper": "slide_end",
    "slideshow": {
     "slide_type": "-"
    }
   },
   "outputs": [],
   "source": [
    "wordPattern = ## write the pattern here\n",
    "print matchAll(wordPattern, ['rap them', 'tapeth', 'apth', 'wrap/try', \\\n",
    "                             'sap tray', '87ap9th', 'apothecary']) # True\n",
    "print matchNone(wordPattern, ['aleht', 'happy them', 'tarpth', 'Apt', 'peth', \\\n",
    "                              'tarreth', 'ddapdg', 'apples', 'shape the']) # True"
   ]
  },
  {
   "cell_type": "markdown",
   "metadata": {
    "internals": {
     "slide_type": "subslide"
    },
    "slideshow": {
     "slide_type": "slide"
    }
   },
   "source": [
    "(8)**[optinal]** In this exercise, you need to handle a file 'record.txt', which is filled with chat records.\n",
    "\n",
    "The first 10 lines looks like this:"
   ]
  },
  {
   "cell_type": "code",
   "execution_count": 77,
   "metadata": {
    "collapsed": false,
    "internals": {},
    "slideshow": {
     "slide_type": "-"
    }
   },
   "outputs": [
    {
     "name": "stderr",
     "output_type": "stream",
     "text": [
      "'head' is not recognized as an internal or external command,\n",
      "operable program or batch file.\n"
     ]
    }
   ],
   "source": [
    "!head record.txt"
   ]
  },
  {
   "cell_type": "markdown",
   "metadata": {
    "internals": {
     "slide_helper": "subslide_end"
    },
    "slide_helper": "slide_end",
    "slideshow": {
     "slide_type": "-"
    }
   },
   "source": [
    "Each line is either a sentence or a people's name followed with the time. Your task is finding out :\n",
    "\n",
    "    - how many peoples appear in this chat record.\n",
    "    - how many messages each people sent, sorted them in descending order."
   ]
  },
  {
   "cell_type": "code",
   "execution_count": 27,
   "metadata": {
    "collapsed": true
   },
   "outputs": [],
   "source": [
    "f=open('record.txt', 'r') \n",
    "dct={}\n",
    "num=1\n",
    "for i in f:\n",
    "    if num%2 != 0:\n",
    "        space_index = i.find(' ')\n",
    "        name = i[:space_index]\n",
    "        if name not in dct:\n",
    "            dct[name] = 1\n",
    "        else:\n",
    "            dct[name] = dct[name] +1\n",
    "    num = num+1\n",
    "        "
   ]
  },
  {
   "cell_type": "code",
   "execution_count": 28,
   "metadata": {
    "collapsed": false
   },
   "outputs": [
    {
     "name": "stdout",
     "output_type": "stream",
     "text": [
      "number of unique people in this chat record is: 10\n"
     ]
    }
   ],
   "source": [
    "print 'number of unique people in this chat record is: %i' %len(dct)"
   ]
  },
  {
   "cell_type": "code",
   "execution_count": 29,
   "metadata": {
    "collapsed": false
   },
   "outputs": [
    {
     "name": "stdout",
     "output_type": "stream",
     "text": [
      "Emily sent 122 massages\n",
      "John sent 99 massages\n",
      "Michael sent 98 massages\n",
      "William sent 91 massages\n",
      "Jack sent 90 massages\n",
      "Elizabeth sent 89 massages\n",
      "Emma sent 87 massages\n",
      "Mary sent 86 massages\n",
      "Jayden sent 83 massages\n",
      "Daniel sent 77 massages\n"
     ]
    }
   ],
   "source": [
    "lis = dct.items()\n",
    "lis.sort(key = lambda x: x[1], reverse = True)\n",
    "for i in lis:\n",
    "    print '%s sent %i massages' %(i[0],i[1])"
   ]
  },
  {
   "cell_type": "code",
   "execution_count": null,
   "metadata": {
    "collapsed": true
   },
   "outputs": [],
   "source": []
  }
 ],
 "metadata": {
  "anaconda-cloud": {},
  "kernelspec": {
   "display_name": "Python [default]",
   "language": "python",
   "name": "python2"
  },
  "language_info": {
   "codemirror_mode": {
    "name": "ipython",
    "version": 2
   },
   "file_extension": ".py",
   "mimetype": "text/x-python",
   "name": "python",
   "nbconvert_exporter": "python",
   "pygments_lexer": "ipython2",
   "version": "2.7.12"
  }
 },
 "nbformat": 4,
 "nbformat_minor": 0
}
