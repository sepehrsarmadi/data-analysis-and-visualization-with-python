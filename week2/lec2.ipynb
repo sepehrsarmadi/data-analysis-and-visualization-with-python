{
 "cells": [
  {
   "cell_type": "code",
   "execution_count": 1,
   "metadata": {
    "collapsed": true
   },
   "outputs": [],
   "source": [
    "li = [1, 2, 3, 4]"
   ]
  },
  {
   "cell_type": "code",
   "execution_count": 2,
   "metadata": {
    "collapsed": false
   },
   "outputs": [
    {
     "data": {
      "text/plain": [
       "list"
      ]
     },
     "execution_count": 2,
     "metadata": {},
     "output_type": "execute_result"
    }
   ],
   "source": [
    "type(li)"
   ]
  },
  {
   "cell_type": "code",
   "execution_count": 3,
   "metadata": {
    "collapsed": false
   },
   "outputs": [
    {
     "data": {
      "text/plain": [
       "True"
      ]
     },
     "execution_count": 3,
     "metadata": {},
     "output_type": "execute_result"
    }
   ],
   "source": [
    "isinstance(li,list)"
   ]
  },
  {
   "cell_type": "code",
   "execution_count": 4,
   "metadata": {
    "collapsed": false
   },
   "outputs": [
    {
     "name": "stdout",
     "output_type": "stream",
     "text": [
      "list() -> new empty list\n",
      "list(iterable) -> new list initialized from iterable's items\n"
     ]
    }
   ],
   "source": [
    "print(li.__doc__)"
   ]
  },
  {
   "cell_type": "code",
   "execution_count": 5,
   "metadata": {
    "collapsed": false
   },
   "outputs": [
    {
     "name": "stdout",
     "output_type": "stream",
     "text": [
      "4\n",
      "4\n"
     ]
    }
   ],
   "source": [
    "print(li.__len__())\n",
    "print(len(li))"
   ]
  },
  {
   "cell_type": "code",
   "execution_count": 6,
   "metadata": {
    "collapsed": false
   },
   "outputs": [
    {
     "name": "stdout",
     "output_type": "stream",
     "text": [
      "1\n"
     ]
    }
   ],
   "source": [
    "print (li.count(1) )"
   ]
  },
  {
   "cell_type": "code",
   "execution_count": null,
   "metadata": {
    "collapsed": false
   },
   "outputs": [],
   "source": [
    "li.append(3)\n",
    "li"
   ]
  },
  {
   "cell_type": "code",
   "execution_count": 15,
   "metadata": {
    "collapsed": true
   },
   "outputs": [],
   "source": [
    "class People(object): #constructor\n",
    "    def __init__(self, aName, anId, anAge):\n",
    "        self.Name = aName\n",
    "        self.Id = anId\n",
    "        self.Age = anAge\n",
    "        "
   ]
  },
  {
   "cell_type": "code",
   "execution_count": 16,
   "metadata": {
    "collapsed": false
   },
   "outputs": [],
   "source": [
    "Jack = People('Jack', 1,20)\n",
    "Lucy = People('Lucy', 2, 22)"
   ]
  },
  {
   "cell_type": "code",
   "execution_count": 17,
   "metadata": {
    "collapsed": false
   },
   "outputs": [
    {
     "data": {
      "text/plain": [
       "'Jack'"
      ]
     },
     "execution_count": 17,
     "metadata": {},
     "output_type": "execute_result"
    }
   ],
   "source": [
    "Jack.Name"
   ]
  },
  {
   "cell_type": "code",
   "execution_count": 18,
   "metadata": {
    "collapsed": false
   },
   "outputs": [
    {
     "data": {
      "text/plain": [
       "1"
      ]
     },
     "execution_count": 18,
     "metadata": {},
     "output_type": "execute_result"
    }
   ],
   "source": [
    "Jack.Id"
   ]
  },
  {
   "cell_type": "code",
   "execution_count": 19,
   "metadata": {
    "collapsed": false
   },
   "outputs": [
    {
     "data": {
      "text/plain": [
       "20"
      ]
     },
     "execution_count": 19,
     "metadata": {},
     "output_type": "execute_result"
    }
   ],
   "source": [
    "Jack.Age"
   ]
  },
  {
   "cell_type": "code",
   "execution_count": 20,
   "metadata": {
    "collapsed": true
   },
   "outputs": [],
   "source": [
    "Jack.Age=21"
   ]
  },
  {
   "cell_type": "code",
   "execution_count": 21,
   "metadata": {
    "collapsed": false
   },
   "outputs": [
    {
     "data": {
      "text/plain": [
       "21"
      ]
     },
     "execution_count": 21,
     "metadata": {},
     "output_type": "execute_result"
    }
   ],
   "source": [
    "Jack.Age"
   ]
  },
  {
   "cell_type": "code",
   "execution_count": 22,
   "metadata": {
    "collapsed": false
   },
   "outputs": [
    {
     "data": {
      "text/plain": [
       "'chips'"
      ]
     },
     "execution_count": 22,
     "metadata": {},
     "output_type": "execute_result"
    }
   ],
   "source": [
    "Jack.Meal='chips'\n",
    "Jack.Meal"
   ]
  },
  {
   "cell_type": "code",
   "execution_count": 23,
   "metadata": {
    "collapsed": false
   },
   "outputs": [
    {
     "name": "stdout",
     "output_type": "stream",
     "text": [
      "<__main__.People object at 0x1059d9d10>\n"
     ]
    }
   ],
   "source": [
    "print(Jack) #Jack is a pointer to a location in memory"
   ]
  },
  {
   "cell_type": "code",
   "execution_count": 24,
   "metadata": {
    "collapsed": false
   },
   "outputs": [
    {
     "name": "stdout",
     "output_type": "stream",
     "text": [
      "My name is Jack, I'm 21 years old. My Id number is 1.\n",
      "My name is Lucy, I'm 22 years old. My Id number is 2.\n"
     ]
    }
   ],
   "source": [
    "print (\"My name is %s, I'm %s years old. My Id number is %s.\" %(Jack.Name, Jack.Age, Jack.Id))\n",
    "print (\"My name is %s, I'm %s years old. My Id number is %s.\" %(Lucy.Name, Lucy.Age, Lucy.Id))"
   ]
  },
  {
   "cell_type": "code",
   "execution_count": null,
   "metadata": {
    "collapsed": true
   },
   "outputs": [],
   "source": []
  },
  {
   "cell_type": "code",
   "execution_count": null,
   "metadata": {
    "collapsed": false
   },
   "outputs": [],
   "source": [
    "print(Jack)"
   ]
  },
  {
   "cell_type": "code",
   "execution_count": 26,
   "metadata": {
    "collapsed": true
   },
   "outputs": [],
   "source": [
    "class People(object):\n",
    "    def __init__(self, name, Id, age):\n",
    "        self.Name = name\n",
    "        self.Id = Id\n",
    "        self.Age = age\n",
    "        \n",
    "    def __str__(self):\n",
    "        return \"My name is %s, I'm %s years old. My Id number is %s.\" %(self.Name, self.Age, self.Id)"
   ]
  },
  {
   "cell_type": "code",
   "execution_count": 27,
   "metadata": {
    "collapsed": true
   },
   "outputs": [],
   "source": [
    "Jack = People('Jack', 1, 20)\n",
    "Lucy = People('Lucy', 2, 22)"
   ]
  },
  {
   "cell_type": "code",
   "execution_count": 28,
   "metadata": {
    "collapsed": false
   },
   "outputs": [
    {
     "name": "stdout",
     "output_type": "stream",
     "text": [
      "My name is Jack, I'm 20 years old. My Id number is 1.\n",
      "My name is Lucy, I'm 22 years old. My Id number is 2.\n"
     ]
    }
   ],
   "source": [
    "print(Jack)\n",
    "print(Lucy)"
   ]
  },
  {
   "cell_type": "code",
   "execution_count": 29,
   "metadata": {
    "collapsed": false
   },
   "outputs": [
    {
     "data": {
      "text/plain": [
       "\"My name is Jack, I'm 20 years old. My Id number is 1.\""
      ]
     },
     "execution_count": 29,
     "metadata": {},
     "output_type": "execute_result"
    }
   ],
   "source": [
    "str(Jack)"
   ]
  },
  {
   "cell_type": "code",
   "execution_count": 30,
   "metadata": {
    "collapsed": false
   },
   "outputs": [
    {
     "data": {
      "text/plain": [
       "__main__.People"
      ]
     },
     "execution_count": 30,
     "metadata": {},
     "output_type": "execute_result"
    }
   ],
   "source": [
    "type(Jack)"
   ]
  },
  {
   "cell_type": "code",
   "execution_count": 32,
   "metadata": {
    "collapsed": true
   },
   "outputs": [],
   "source": [
    "class People(object):\n",
    "    def __init__(self, Name, Id, Age):\n",
    "        self.Name = Name\n",
    "        self.Id = Id\n",
    "        self.Age = Age\n",
    "        \n",
    "    def __str__(self):\n",
    "        return \"My name is %s, I'm %s years old. My Id number is %s.\" %(self.Name, self.Age, self.Id)\n",
    "        \n",
    "    def addAge(self):\n",
    "        self.Age = self.Age + 1\n",
    "    \n",
    "    def alterName(self, newName):\n",
    "        self.Name = newName"
   ]
  },
  {
   "cell_type": "code",
   "execution_count": 33,
   "metadata": {
    "collapsed": true
   },
   "outputs": [],
   "source": [
    "Jack = People('Jack', 1, 20)"
   ]
  },
  {
   "cell_type": "code",
   "execution_count": 34,
   "metadata": {
    "collapsed": false
   },
   "outputs": [
    {
     "data": {
      "text/plain": [
       "__main__.People"
      ]
     },
     "execution_count": 34,
     "metadata": {},
     "output_type": "execute_result"
    }
   ],
   "source": [
    "type(Jack)"
   ]
  },
  {
   "cell_type": "code",
   "execution_count": null,
   "metadata": {
    "collapsed": false
   },
   "outputs": [],
   "source": [
    "isinstance(Jack, People)"
   ]
  },
  {
   "cell_type": "code",
   "execution_count": 35,
   "metadata": {
    "collapsed": false
   },
   "outputs": [
    {
     "name": "stdout",
     "output_type": "stream",
     "text": [
      "My name is Jack, I'm 20 years old. My Id number is 1.\n",
      "My name is Jack, I'm 21 years old. My Id number is 1.\n"
     ]
    }
   ],
   "source": [
    "print (Jack)\n",
    "Jack.addAge() # one year later, Jack is 21\n",
    "print (Jack)"
   ]
  },
  {
   "cell_type": "code",
   "execution_count": 36,
   "metadata": {
    "collapsed": false
   },
   "outputs": [
    {
     "name": "stdout",
     "output_type": "stream",
     "text": [
      "My name is Jack, I'm 21 years old. My Id number is 1.\n",
      "My name is John, I'm 21 years old. My Id number is 1.\n"
     ]
    }
   ],
   "source": [
    "print (Jack)\n",
    "Jack.alterName('John') # change his name to John\n",
    "print (Jack)"
   ]
  },
  {
   "cell_type": "code",
   "execution_count": 37,
   "metadata": {
    "collapsed": false
   },
   "outputs": [
    {
     "name": "stdout",
     "output_type": "stream",
     "text": [
      "My name is John, I'm 21 years old. My Id number is 1.\n",
      "My name is Jacky, I'm 21 years old. My Id number is 1.\n"
     ]
    }
   ],
   "source": [
    "print (Jack)\n",
    "Jack.Name='Jacky' # change his name to John\n",
    "print (Jack)"
   ]
  },
  {
   "cell_type": "code",
   "execution_count": 38,
   "metadata": {
    "collapsed": true
   },
   "outputs": [],
   "source": [
    "newJack=Jack"
   ]
  },
  {
   "cell_type": "code",
   "execution_count": 39,
   "metadata": {
    "collapsed": false
   },
   "outputs": [
    {
     "name": "stdout",
     "output_type": "stream",
     "text": [
      "My name is Jacky, I'm 21 years old. My Id number is 1.\n"
     ]
    }
   ],
   "source": [
    "print(newJack)"
   ]
  },
  {
   "cell_type": "code",
   "execution_count": 42,
   "metadata": {
    "collapsed": true
   },
   "outputs": [],
   "source": [
    "class men(People):\n",
    "    def __init__(self, Name, Id, Age):\n",
    "        People.__init__(self, Name, Id, Age)\n",
    "        self.sex = 'M'"
   ]
  },
  {
   "cell_type": "code",
   "execution_count": 43,
   "metadata": {
    "collapsed": true
   },
   "outputs": [],
   "source": [
    "Aron = men('Aron', 3, 15)"
   ]
  },
  {
   "cell_type": "code",
   "execution_count": 44,
   "metadata": {
    "collapsed": false
   },
   "outputs": [
    {
     "name": "stdout",
     "output_type": "stream",
     "text": [
      "<class '__main__.men'>\n",
      "True\n",
      "True\n"
     ]
    }
   ],
   "source": [
    "print(type(Aron))\n",
    "print(isinstance(Aron, men))\n",
    "print(isinstance(Aron, People))"
   ]
  },
  {
   "cell_type": "code",
   "execution_count": 45,
   "metadata": {
    "collapsed": false
   },
   "outputs": [
    {
     "name": "stdout",
     "output_type": "stream",
     "text": [
      "Aron\n",
      "3\n",
      "15\n",
      "My name is Aron, I'm 15 years old. My Id number is 3.\n"
     ]
    }
   ],
   "source": [
    "print(Aron.Name)\n",
    "print(Aron.Id)\n",
    "print(Aron.Age)\n",
    "print(Aron)"
   ]
  },
  {
   "cell_type": "code",
   "execution_count": 46,
   "metadata": {
    "collapsed": false
   },
   "outputs": [
    {
     "name": "stdout",
     "output_type": "stream",
     "text": [
      "M\n"
     ]
    }
   ],
   "source": [
    "print(Aron.sex)"
   ]
  },
  {
   "cell_type": "code",
   "execution_count": 63,
   "metadata": {
    "collapsed": true
   },
   "outputs": [],
   "source": [
    "class men(People):\n",
    "    def __init__(self, Name, Id, Age):\n",
    "        People.__init__(self, Name, Id, Age)\n",
    "        self.sex = 'M'\n",
    "    \n",
    "    def isAdult(self):\n",
    "        return self.Age >= 18\n",
    "    \n",
    "    def __str__(self):\n",
    "        if self.isAdult():\n",
    "            self.status = 'man'\n",
    "        else:\n",
    "            self.status = 'boy'\n",
    "        return \"My name is %s, I'm a %s years old %s.\" %(self.Name, self.Age, self.status)"
   ]
  },
  {
   "cell_type": "code",
   "execution_count": 64,
   "metadata": {
    "collapsed": false
   },
   "outputs": [
    {
     "name": "stdout",
     "output_type": "stream",
     "text": [
      "My name is Aron, I'm a 17 years old boy.\n"
     ]
    }
   ],
   "source": [
    "Aron = men('Aron', 3, 17)\n",
    "print(Aron)"
   ]
  },
  {
   "cell_type": "code",
   "execution_count": 49,
   "metadata": {
    "collapsed": false
   },
   "outputs": [
    {
     "data": {
      "text/plain": [
       "'boy'"
      ]
     },
     "execution_count": 49,
     "metadata": {},
     "output_type": "execute_result"
    }
   ],
   "source": [
    "Aron.status"
   ]
  },
  {
   "cell_type": "code",
   "execution_count": 50,
   "metadata": {
    "collapsed": false
   },
   "outputs": [
    {
     "ename": "AttributeError",
     "evalue": "'men' object has no attribute 'status'",
     "output_type": "error",
     "traceback": [
      "\u001b[0;31m---------------------------------------------------------------------------\u001b[0m",
      "\u001b[0;31mAttributeError\u001b[0m                            Traceback (most recent call last)",
      "\u001b[0;32m<ipython-input-50-c9a1d7e93d45>\u001b[0m in \u001b[0;36m<module>\u001b[0;34m()\u001b[0m\n\u001b[1;32m      1\u001b[0m \u001b[0mAron\u001b[0m \u001b[0;34m=\u001b[0m \u001b[0mmen\u001b[0m\u001b[0;34m(\u001b[0m\u001b[0;34m'Aron'\u001b[0m\u001b[0;34m,\u001b[0m \u001b[0;36m3\u001b[0m\u001b[0;34m,\u001b[0m \u001b[0;36m17\u001b[0m\u001b[0;34m)\u001b[0m\u001b[0;34m\u001b[0m\u001b[0m\n\u001b[0;32m----> 2\u001b[0;31m \u001b[0mAron\u001b[0m\u001b[0;34m.\u001b[0m\u001b[0mstatus\u001b[0m\u001b[0;34m\u001b[0m\u001b[0m\n\u001b[0m",
      "\u001b[0;31mAttributeError\u001b[0m: 'men' object has no attribute 'status'"
     ]
    }
   ],
   "source": [
    "Aron = men('Aron', 3, 17)\n",
    "Aron.status"
   ]
  },
  {
   "cell_type": "code",
   "execution_count": 52,
   "metadata": {
    "collapsed": false
   },
   "outputs": [
    {
     "name": "stdout",
     "output_type": "stream",
     "text": [
      "My name is Aron, I'm a 18 years old man.\n"
     ]
    }
   ],
   "source": [
    "Aron.addAge()\n",
    "print(Aron)"
   ]
  },
  {
   "cell_type": "code",
   "execution_count": 65,
   "metadata": {
    "collapsed": true
   },
   "outputs": [],
   "source": [
    "class women(People):\n",
    "    def __init__(self, Name, Id, Age):\n",
    "        People.__init__(self, Name, Id, Age)\n",
    "        self.sex = 'F'\n",
    "    \n",
    "    def isAdult(self):\n",
    "        return self.Age >= 18\n",
    "    \n",
    "    def __str__(self):\n",
    "        if self.isAdult():\n",
    "            status = 'woman'\n",
    "        else:\n",
    "            status = 'girl'\n",
    "        return \"My name is %s, I'm a %s years old %s.\" %(self.Name, self.Age, status)"
   ]
  },
  {
   "cell_type": "code",
   "execution_count": 66,
   "metadata": {
    "collapsed": true
   },
   "outputs": [],
   "source": [
    "Lucy = women('Lucy', 4, 21)\n",
    "Mary = women('Mary', 5 , 17)"
   ]
  },
  {
   "cell_type": "code",
   "execution_count": 58,
   "metadata": {
    "collapsed": false
   },
   "outputs": [
    {
     "name": "stdout",
     "output_type": "stream",
     "text": [
      "Is Lucy a woman?: True\n",
      "Is Mary a woman?: True\n"
     ]
    }
   ],
   "source": [
    "print(\"Is %s a woman?: %s\" %('Lucy', isinstance(Lucy, women)))\n",
    "print(\"Is %s a woman?: %s\" %('Mary', isinstance(Mary, women)))"
   ]
  },
  {
   "cell_type": "code",
   "execution_count": 69,
   "metadata": {
    "collapsed": false
   },
   "outputs": [
    {
     "name": "stdout",
     "output_type": "stream",
     "text": [
      "My name is Lucy, I'm a 21 years old woman.\n",
      "My name is Mary, I'm a 17 years old girl.\n"
     ]
    }
   ],
   "source": [
    "print(Lucy)\n",
    "print(Mary)"
   ]
  },
  {
   "cell_type": "code",
   "execution_count": 70,
   "metadata": {
    "collapsed": true
   },
   "outputs": [],
   "source": [
    "f = open('fooz.txt', 'w') \n"
   ]
  },
  {
   "cell_type": "code",
   "execution_count": 72,
   "metadata": {
    "collapsed": false
   },
   "outputs": [
    {
     "name": "stdout",
     "output_type": "stream",
     "text": [
      "<type 'file'>\n"
     ]
    }
   ],
   "source": [
    "print (type(f))\n"
   ]
  },
  {
   "cell_type": "code",
   "execution_count": null,
   "metadata": {
    "collapsed": true
   },
   "outputs": [],
   "source": []
  },
  {
   "cell_type": "code",
   "execution_count": 73,
   "metadata": {
    "collapsed": false
   },
   "outputs": [
    {
     "name": "stdout",
     "output_type": "stream",
     "text": [
      "\u001b[34mdata\u001b[m\u001b[m                          lec2.html\r\n",
      "fooz.txt                      lec2.ipynb\r\n",
      "lec1-exercise1-solution.ipynb \u001b[34mlec2_files\u001b[m\u001b[m\r\n",
      "lec1-exercise1.ipynb          \u001b[34mpic\u001b[m\u001b[m\r\n",
      "lec1-exercise2.pdf            \u001b[34mscript\u001b[m\u001b[m\r\n",
      "lec2-exercise.ipynb\r\n"
     ]
    }
   ],
   "source": [
    "!ls"
   ]
  },
  {
   "cell_type": "code",
   "execution_count": null,
   "metadata": {
    "collapsed": false
   },
   "outputs": [],
   "source": []
  },
  {
   "cell_type": "code",
   "execution_count": 74,
   "metadata": {
    "collapsed": true
   },
   "outputs": [],
   "source": [
    "f.write('this is some text.\\nThis is another line.\\n')\n",
    "f.close()"
   ]
  },
  {
   "cell_type": "code",
   "execution_count": 75,
   "metadata": {
    "collapsed": false
   },
   "outputs": [
    {
     "name": "stdout",
     "output_type": "stream",
     "text": [
      "this is some text.\r\n",
      "This is another line.\r\n"
     ]
    }
   ],
   "source": [
    "!cat fooz.txt"
   ]
  },
  {
   "cell_type": "code",
   "execution_count": 76,
   "metadata": {
    "collapsed": false
   },
   "outputs": [
    {
     "data": {
      "text/plain": [
       "'this is some text.\\nThis is another line.\\n'"
      ]
     },
     "execution_count": 76,
     "metadata": {},
     "output_type": "execute_result"
    }
   ],
   "source": [
    "f = open('fooz.txt', 'r') \n",
    "f.read()"
   ]
  },
  {
   "cell_type": "code",
   "execution_count": 77,
   "metadata": {
    "collapsed": false
   },
   "outputs": [
    {
     "data": {
      "text/plain": [
       "''"
      ]
     },
     "execution_count": 77,
     "metadata": {},
     "output_type": "execute_result"
    }
   ],
   "source": [
    "f.read()"
   ]
  },
  {
   "cell_type": "code",
   "execution_count": 78,
   "metadata": {
    "collapsed": true
   },
   "outputs": [],
   "source": [
    "f.close()"
   ]
  },
  {
   "cell_type": "code",
   "execution_count": 79,
   "metadata": {
    "collapsed": true
   },
   "outputs": [],
   "source": [
    "f = open('fooz.txt', 'r')"
   ]
  },
  {
   "cell_type": "code",
   "execution_count": 80,
   "metadata": {
    "collapsed": false
   },
   "outputs": [
    {
     "data": {
      "text/plain": [
       "'this '"
      ]
     },
     "execution_count": 80,
     "metadata": {},
     "output_type": "execute_result"
    }
   ],
   "source": [
    "f.read(5) # the first 5 bytes"
   ]
  },
  {
   "cell_type": "code",
   "execution_count": 81,
   "metadata": {
    "collapsed": false
   },
   "outputs": [
    {
     "data": {
      "text/plain": [
       "'is some text.\\nThis is another line.\\n'"
      ]
     },
     "execution_count": 81,
     "metadata": {},
     "output_type": "execute_result"
    }
   ],
   "source": [
    "f.read() # the remaining contents"
   ]
  },
  {
   "cell_type": "code",
   "execution_count": 82,
   "metadata": {
    "collapsed": false
   },
   "outputs": [
    {
     "name": "stdout",
     "output_type": "stream",
     "text": [
      "Help on built-in function read:\n",
      "\n",
      "read(...)\n",
      "    read([size]) -> read at most size bytes, returned as a string.\n",
      "    \n",
      "    If the size argument is negative or omitted, read until EOF is reached.\n",
      "    Notice that when in non-blocking mode, less data than what was requested\n",
      "    may be returned, even if no size parameter was given.\n",
      "\n"
     ]
    }
   ],
   "source": [
    "f.close()\n",
    "help(f.read)"
   ]
  },
  {
   "cell_type": "code",
   "execution_count": 83,
   "metadata": {
    "collapsed": false
   },
   "outputs": [
    {
     "name": "stdout",
     "output_type": "stream",
     "text": [
      "['this is some text.\\n', 'This is another line.\\n']\n"
     ]
    }
   ],
   "source": [
    "f = open('fooz.txt', 'r')\n",
    "lines=f.readlines()\n",
    "print(lines)\n",
    "f.close()"
   ]
  },
  {
   "cell_type": "code",
   "execution_count": null,
   "metadata": {
    "collapsed": false
   },
   "outputs": [],
   "source": [
    "help(f.readline)\n"
   ]
  },
  {
   "cell_type": "code",
   "execution_count": 84,
   "metadata": {
    "collapsed": false
   },
   "outputs": [
    {
     "data": {
      "text/plain": [
       "['this is some text.\\n', 'This is another line.\\n']"
      ]
     },
     "execution_count": 84,
     "metadata": {},
     "output_type": "execute_result"
    }
   ],
   "source": [
    "lines"
   ]
  },
  {
   "cell_type": "code",
   "execution_count": 85,
   "metadata": {
    "collapsed": false
   },
   "outputs": [
    {
     "name": "stdout",
     "output_type": "stream",
     "text": [
      "this is some text.\n",
      "\n",
      "This is another line.\n",
      "\n"
     ]
    }
   ],
   "source": [
    "f = open('fooz.txt', 'r')\n",
    "for i in f:\n",
    "    print( i)\n",
    "f.close()"
   ]
  },
  {
   "cell_type": "code",
   "execution_count": 86,
   "metadata": {
    "collapsed": true
   },
   "outputs": [],
   "source": [
    "!echo \"Third line.\\nFourth line.\" >> fooz.txt"
   ]
  },
  {
   "cell_type": "code",
   "execution_count": 87,
   "metadata": {
    "collapsed": false
   },
   "outputs": [
    {
     "name": "stdout",
     "output_type": "stream",
     "text": [
      "this is some text.\r\n",
      "This is another line.\r\n",
      "Third line.\r\n",
      "Fourth line.\r\n"
     ]
    }
   ],
   "source": [
    "!cat fooz.txt"
   ]
  },
  {
   "cell_type": "code",
   "execution_count": 88,
   "metadata": {
    "collapsed": false
   },
   "outputs": [
    {
     "name": "stdout",
     "output_type": "stream",
     "text": [
      "(2, ':', 'This is another line.\\n')\n",
      "(4, ':', 'Fourth line.\\n')\n",
      "['This is another line.\\n', 'Fourth line.\\n']\n"
     ]
    }
   ],
   "source": [
    "f = open('fooz.txt', 'r')\n",
    "content = []\n",
    "num = 0\n",
    "for i in f:\n",
    "    num += 1\n",
    "    if num % 2 == 0:\n",
    "        content.append(i)\n",
    "        print (num, ':', i)\n",
    "f.close()\n",
    "print (content)"
   ]
  },
  {
   "cell_type": "code",
   "execution_count": 90,
   "metadata": {
    "collapsed": false
   },
   "outputs": [
    {
     "data": {
      "text/plain": [
       "'this is some text.\\nThis is another line.\\nThird line.\\nFourth line.\\n'"
      ]
     },
     "execution_count": 90,
     "metadata": {},
     "output_type": "execute_result"
    }
   ],
   "source": [
    "with open('fooz.txt', 'r') as f: #open the file for reading\n",
    "    data = f.read()\n",
    "    \n",
    "data # the file is closed now"
   ]
  },
  {
   "cell_type": "code",
   "execution_count": null,
   "metadata": {
    "collapsed": false
   },
   "outputs": [],
   "source": [
    "f.readlines()"
   ]
  },
  {
   "cell_type": "code",
   "execution_count": 92,
   "metadata": {
    "collapsed": false
   },
   "outputs": [
    {
     "data": {
      "text/plain": [
       "'this is some text.\\nThis is another line.\\nThird line.\\nFourth line.\\n'"
      ]
     },
     "execution_count": 92,
     "metadata": {},
     "output_type": "execute_result"
    }
   ],
   "source": [
    "f=open('fooz.txt', 'r')  #open the file for reading\n",
    "data = f.read()\n",
    "f.close()\n",
    "    \n",
    "data # the file is closed now"
   ]
  },
  {
   "cell_type": "code",
   "execution_count": 93,
   "metadata": {
    "collapsed": false
   },
   "outputs": [
    {
     "name": "stdout",
     "output_type": "stream",
     "text": [
      "Help on class file in module __builtin__:\n",
      "\n",
      "class file(object)\n",
      " |  file(name[, mode[, buffering]]) -> file object\n",
      " |  \n",
      " |  Open a file.  The mode can be 'r', 'w' or 'a' for reading (default),\n",
      " |  writing or appending.  The file will be created if it doesn't exist\n",
      " |  when opened for writing or appending; it will be truncated when\n",
      " |  opened for writing.  Add a 'b' to the mode for binary files.\n",
      " |  Add a '+' to the mode to allow simultaneous reading and writing.\n",
      " |  If the buffering argument is given, 0 means unbuffered, 1 means line\n",
      " |  buffered, and larger numbers specify the buffer size.  The preferred way\n",
      " |  to open a file is with the builtin open() function.\n",
      " |  Add a 'U' to mode to open the file for input with universal newline\n",
      " |  support.  Any line ending in the input file will be seen as a '\\n'\n",
      " |  in Python.  Also, a file so opened gains the attribute 'newlines';\n",
      " |  the value for this attribute is one of None (no newline read yet),\n",
      " |  '\\r', '\\n', '\\r\\n' or a tuple containing all the newline types seen.\n",
      " |  \n",
      " |  'U' cannot be combined with 'w' or '+' mode.\n",
      " |  \n",
      " |  Methods defined here:\n",
      " |  \n",
      " |  __delattr__(...)\n",
      " |      x.__delattr__('name') <==> del x.name\n",
      " |  \n",
      " |  __enter__(...)\n",
      " |      __enter__() -> self.\n",
      " |  \n",
      " |  __exit__(...)\n",
      " |      __exit__(*excinfo) -> None.  Closes the file.\n",
      " |  \n",
      " |  __getattribute__(...)\n",
      " |      x.__getattribute__('name') <==> x.name\n",
      " |  \n",
      " |  __init__(...)\n",
      " |      x.__init__(...) initializes x; see help(type(x)) for signature\n",
      " |  \n",
      " |  __iter__(...)\n",
      " |      x.__iter__() <==> iter(x)\n",
      " |  \n",
      " |  __repr__(...)\n",
      " |      x.__repr__() <==> repr(x)\n",
      " |  \n",
      " |  __setattr__(...)\n",
      " |      x.__setattr__('name', value) <==> x.name = value\n",
      " |  \n",
      " |  close(...)\n",
      " |      close() -> None or (perhaps) an integer.  Close the file.\n",
      " |      \n",
      " |      Sets data attribute .closed to True.  A closed file cannot be used for\n",
      " |      further I/O operations.  close() may be called more than once without\n",
      " |      error.  Some kinds of file objects (for example, opened by popen())\n",
      " |      may return an exit status upon closing.\n",
      " |  \n",
      " |  fileno(...)\n",
      " |      fileno() -> integer \"file descriptor\".\n",
      " |      \n",
      " |      This is needed for lower-level file interfaces, such os.read().\n",
      " |  \n",
      " |  flush(...)\n",
      " |      flush() -> None.  Flush the internal I/O buffer.\n",
      " |  \n",
      " |  isatty(...)\n",
      " |      isatty() -> true or false.  True if the file is connected to a tty device.\n",
      " |  \n",
      " |  next(...)\n",
      " |      x.next() -> the next value, or raise StopIteration\n",
      " |  \n",
      " |  read(...)\n",
      " |      read([size]) -> read at most size bytes, returned as a string.\n",
      " |      \n",
      " |      If the size argument is negative or omitted, read until EOF is reached.\n",
      " |      Notice that when in non-blocking mode, less data than what was requested\n",
      " |      may be returned, even if no size parameter was given.\n",
      " |  \n",
      " |  readinto(...)\n",
      " |      readinto() -> Undocumented.  Don't use this; it may go away.\n",
      " |  \n",
      " |  readline(...)\n",
      " |      readline([size]) -> next line from the file, as a string.\n",
      " |      \n",
      " |      Retain newline.  A non-negative size argument limits the maximum\n",
      " |      number of bytes to return (an incomplete line may be returned then).\n",
      " |      Return an empty string at EOF.\n",
      " |  \n",
      " |  readlines(...)\n",
      " |      readlines([size]) -> list of strings, each a line from the file.\n",
      " |      \n",
      " |      Call readline() repeatedly and return a list of the lines so read.\n",
      " |      The optional size argument, if given, is an approximate bound on the\n",
      " |      total number of bytes in the lines returned.\n",
      " |  \n",
      " |  seek(...)\n",
      " |      seek(offset[, whence]) -> None.  Move to new file position.\n",
      " |      \n",
      " |      Argument offset is a byte count.  Optional argument whence defaults to\n",
      " |      0 (offset from start of file, offset should be >= 0); other values are 1\n",
      " |      (move relative to current position, positive or negative), and 2 (move\n",
      " |      relative to end of file, usually negative, although many platforms allow\n",
      " |      seeking beyond the end of a file).  If the file is opened in text mode,\n",
      " |      only offsets returned by tell() are legal.  Use of other offsets causes\n",
      " |      undefined behavior.\n",
      " |      Note that not all file objects are seekable.\n",
      " |  \n",
      " |  tell(...)\n",
      " |      tell() -> current file position, an integer (may be a long integer).\n",
      " |  \n",
      " |  truncate(...)\n",
      " |      truncate([size]) -> None.  Truncate the file to at most size bytes.\n",
      " |      \n",
      " |      Size defaults to the current file position, as returned by tell().\n",
      " |  \n",
      " |  write(...)\n",
      " |      write(str) -> None.  Write string str to file.\n",
      " |      \n",
      " |      Note that due to buffering, flush() or close() may be needed before\n",
      " |      the file on disk reflects the data written.\n",
      " |  \n",
      " |  writelines(...)\n",
      " |      writelines(sequence_of_strings) -> None.  Write the strings to the file.\n",
      " |      \n",
      " |      Note that newlines are not added.  The sequence can be any iterable object\n",
      " |      producing strings. This is equivalent to calling write() for each string.\n",
      " |  \n",
      " |  xreadlines(...)\n",
      " |      xreadlines() -> returns self.\n",
      " |      \n",
      " |      For backward compatibility. File objects now include the performance\n",
      " |      optimizations previously implemented in the xreadlines module.\n",
      " |  \n",
      " |  ----------------------------------------------------------------------\n",
      " |  Data descriptors defined here:\n",
      " |  \n",
      " |  closed\n",
      " |      True if the file is closed\n",
      " |  \n",
      " |  encoding\n",
      " |      file encoding\n",
      " |  \n",
      " |  errors\n",
      " |      Unicode error handler\n",
      " |  \n",
      " |  mode\n",
      " |      file mode ('r', 'U', 'w', 'a', possibly with 'b' or '+' added)\n",
      " |  \n",
      " |  name\n",
      " |      file name\n",
      " |  \n",
      " |  newlines\n",
      " |      end-of-line convention used in this file\n",
      " |  \n",
      " |  softspace\n",
      " |      flag indicating that a space needs to be printed; used by print\n",
      " |  \n",
      " |  ----------------------------------------------------------------------\n",
      " |  Data and other attributes defined here:\n",
      " |  \n",
      " |  __new__ = <built-in method __new__ of type object>\n",
      " |      T.__new__(S, ...) -> a new object with type S, a subtype of T\n",
      "\n"
     ]
    }
   ],
   "source": [
    "help(type(f))"
   ]
  },
  {
   "cell_type": "code",
   "execution_count": 94,
   "metadata": {
    "collapsed": false
   },
   "outputs": [
    {
     "data": {
      "text/plain": [
       "file"
      ]
     },
     "execution_count": 94,
     "metadata": {},
     "output_type": "execute_result"
    }
   ],
   "source": [
    "type(f)"
   ]
  },
  {
   "cell_type": "code",
   "execution_count": 95,
   "metadata": {
    "collapsed": false
   },
   "outputs": [
    {
     "name": "stdout",
     "output_type": "stream",
     "text": [
      "[('a', 5), ('c', 2), ('b', 3)]\n",
      "[('a', 5), ('c', 2), ('b', 3)]\n"
     ]
    }
   ],
   "source": [
    "d = {'a': 5, 'b': 3, 'c':2}\n",
    "d = d.items() # convert to a list\n",
    "print(d)\n",
    "print(list(d))"
   ]
  },
  {
   "cell_type": "code",
   "execution_count": 96,
   "metadata": {
    "collapsed": false
   },
   "outputs": [
    {
     "data": {
      "text/plain": [
       "[('a', 5), ('b', 3), ('c', 2)]"
      ]
     },
     "execution_count": 96,
     "metadata": {},
     "output_type": "execute_result"
    }
   ],
   "source": [
    "sorted(d)"
   ]
  },
  {
   "cell_type": "code",
   "execution_count": 97,
   "metadata": {
    "collapsed": false
   },
   "outputs": [
    {
     "data": {
      "text/plain": [
       "[('c', 2), ('b', 3), ('a', 5)]"
      ]
     },
     "execution_count": 97,
     "metadata": {},
     "output_type": "execute_result"
    }
   ],
   "source": [
    "sorted(d, key = lambda x: x[1])"
   ]
  },
  {
   "cell_type": "code",
   "execution_count": 98,
   "metadata": {
    "collapsed": false
   },
   "outputs": [
    {
     "name": "stdout",
     "output_type": "stream",
     "text": [
      "4\n",
      "4\n"
     ]
    }
   ],
   "source": [
    "square1 = lambda x: x**2\n",
    "def square2(x):\n",
    "    return x ** 2\n",
    "\n",
    "print (square1(2))\n",
    "print (square2(2))"
   ]
  },
  {
   "cell_type": "code",
   "execution_count": 99,
   "metadata": {
    "collapsed": false
   },
   "outputs": [
    {
     "data": {
      "text/plain": [
       "[('c', 2), ('b', 3), ('a', 5)]"
      ]
     },
     "execution_count": 99,
     "metadata": {},
     "output_type": "execute_result"
    }
   ],
   "source": [
    "sorted(d, key = lambda x: x[1])"
   ]
  },
  {
   "cell_type": "code",
   "execution_count": null,
   "metadata": {
    "collapsed": false
   },
   "outputs": [],
   "source": [
    "open('g','w')\n"
   ]
  },
  {
   "cell_type": "code",
   "execution_count": 101,
   "metadata": {
    "collapsed": false
   },
   "outputs": [],
   "source": [
    "#python2.7 has file object\n",
    "\n",
    "import string\n",
    "class myfile(file):\n",
    "    def __init__(self, name, mode):\n",
    "        file.__init__(self, name, mode)\n",
    "        \n",
    "    def __str__(self):\n",
    "        return \"Opening file %s\" %self.name\n",
    "    \n",
    "    def wordCount(self, punctuation='\\n', ignoreCase = True):\n",
    "        '''\n",
    "        punctuation: punctuations to remove\n",
    "    \n",
    "        returns: a dict contains each word and it's corresponding frequency\n",
    "        '''\n",
    "        ## read contents and convert to lower\n",
    "        try:\n",
    "            raw_string = self.read()\n",
    "            if ignoreCase:\n",
    "                raw_string = raw_string.lower()\n",
    "        except:\n",
    "            raise Exception(\"Can't read file %s\"%self.name)\n",
    "            \n",
    "        ## repalce all the punctuations with space\n",
    "        for i in string.punctuation:\n",
    "            raw_string = raw_string.replace(i, ' ')\n",
    "        \n",
    "        if punctuation != None:\n",
    "            for i in punctuation:\n",
    "                raw_string = raw_string.replace(i, ' ')\n",
    "        \n",
    "        ## split by space, count each word\n",
    "        raw_list = raw_string.split(' ')\n",
    "        result = {}\n",
    "        for word in raw_list:\n",
    "            if word in result.keys():\n",
    "                result[word] += 1\n",
    "            else:\n",
    "                result[word] = 1\n",
    "    \n",
    "        # remove null character\n",
    "        # len('') is 0\n",
    "        result = {key:value for (key, value) in result.items() if len(key) != 0}\n",
    "        return result\n",
    "    \n",
    "    def wordCountSort(self, descend = True, punctuation='\\n', ignoreCase = True):\n",
    "        '''\n",
    "        return the sorted word frequency\n",
    "        '''\n",
    "        result = self.wordCount(punctuation, ignoreCase = ignoreCase)\n",
    "        result = sorted(result.items(), key = lambda x: x[1] , reverse = descend)\n",
    "        return result\n",
    "    \n",
    "    def mostCommonWord(self, num=5, punctuation='\\n', descend = True, ignoreCase = True):\n",
    "        '''\n",
    "        return the most common words\n",
    "        '''\n",
    "        result = self.wordCountSort(punctuation=punctuation, ignoreCase = ignoreCase, descend = descend)\n",
    "        if num > len(result):\n",
    "            Warning('There are only %s words'%len(result))\n",
    "            return result\n",
    "        else:\n",
    "            return result[:num]"
   ]
  },
  {
   "cell_type": "code",
   "execution_count": null,
   "metadata": {
    "collapsed": false
   },
   "outputs": [],
   "source": [
    "#python3 has no file object\n",
    "\n",
    "import string\n",
    "class myfile():\n",
    "    def __init__(self, name, mode):\n",
    "        #wrap around return object of open()\n",
    "        self.file=open(name, mode)\n",
    "        \n",
    "        \n",
    "    def __str__(self):\n",
    "        return \"Opening file %s\" %self.file.name\n",
    "    \n",
    "    def wordCount(self, punctuation='\\n', ignoreCase = True):\n",
    "        '''\n",
    "        punctuation: punctuations to remove\n",
    "    \n",
    "        returns: a dict contains each word and it's corresponding frequency\n",
    "        '''\n",
    "        ## read contents and convert to lower\n",
    "        try:\n",
    "            raw_string = self.file.read()\n",
    "            if ignoreCase:\n",
    "                raw_string = raw_string.lower()\n",
    "        except:\n",
    "            raise Exception(\"Can't read file %s\"%self.file.name)\n",
    "            \n",
    "        ## repalce all the punctuations with space\n",
    "        for i in string.punctuation:\n",
    "            raw_string = raw_string.replace(i, ' ')\n",
    "        \n",
    "        if punctuation != None:\n",
    "            for i in punctuation:\n",
    "                raw_string = raw_string.replace(i, ' ')\n",
    "        \n",
    "        ## split by space, count each word\n",
    "        raw_list = raw_string.split(' ')\n",
    "        result = {}\n",
    "        for word in raw_list:\n",
    "            if word in result.keys():\n",
    "                result[word] += 1\n",
    "            else:\n",
    "                result[word] = 1\n",
    "    \n",
    "        # remove null character\n",
    "        # len('') is 0\n",
    "        result = {key:value for (key, value) in result.items() if len(key) != 0}\n",
    "        return result\n",
    "    \n",
    "    def wordCountSort(self, descend = True, punctuation='\\n', ignoreCase = True):\n",
    "        '''\n",
    "        return the sorted word frequency\n",
    "        '''\n",
    "        result = self.wordCount(punctuation, ignoreCase = ignoreCase)\n",
    "        result = sorted(result.items(), key = lambda x: x[1] , reverse = descend)\n",
    "        return result\n",
    "    \n",
    "    def mostCommonWord(self, num=5, punctuation='\\n', descend = True, ignoreCase = True):\n",
    "        '''\n",
    "        return the most common words\n",
    "        '''\n",
    "        result = self.wordCountSort(punctuation=punctuation, ignoreCase = ignoreCase, descend = descend)\n",
    "        if num > len(result):\n",
    "            Warning('There are only %s words'%len(result))\n",
    "            return result\n",
    "        else:\n",
    "            return result[:num]"
   ]
  },
  {
   "cell_type": "code",
   "execution_count": 102,
   "metadata": {
    "collapsed": false
   },
   "outputs": [
    {
     "name": "stdout",
     "output_type": "stream",
     "text": [
      "(<open file 'fooz.txt', mode 'r' at 0x104ce04a0>, '...')\n",
      "{'another': 1, 'third': 1, 'this': 2, 'text': 1, 'is': 2, 'some': 1, 'fourth': 1, 'line': 3}\n"
     ]
    }
   ],
   "source": [
    "f=myfile('fooz.txt', 'r')\n",
    "print (f, '...')\n",
    "print (f.wordCount())"
   ]
  },
  {
   "cell_type": "code",
   "execution_count": 103,
   "metadata": {
    "collapsed": false
   },
   "outputs": [
    {
     "name": "stdout",
     "output_type": "stream",
     "text": [
      "(<open file 'fooz.txt', mode 'r' at 0x105844610>, '...')\n",
      "[('line', 3), ('this', 2), ('is', 2), ('another', 1), ('third', 1), ('text', 1), ('some', 1), ('fourth', 1)]\n"
     ]
    }
   ],
   "source": [
    "f = myfile('fooz.txt', 'r') \n",
    "print (f, '...')\n",
    "print (f.wordCountSort()) # sort"
   ]
  },
  {
   "cell_type": "code",
   "execution_count": 104,
   "metadata": {
    "collapsed": false
   },
   "outputs": [
    {
     "name": "stdout",
     "output_type": "stream",
     "text": [
      "(<open file 'fooz.txt', mode 'r' at 0x104ce04a0>, '...')\n",
      "[('line', 3), ('this', 2), ('is', 2), ('another', 1), ('third', 1)]\n"
     ]
    }
   ],
   "source": [
    "f= myfile('fooz.txt', 'r')\n",
    "print (f, '...')\n",
    "print (f.mostCommonWord(num = 5))"
   ]
  },
  {
   "cell_type": "code",
   "execution_count": 106,
   "metadata": {
    "collapsed": false
   },
   "outputs": [
    {
     "name": "stdout",
     "output_type": "stream",
     "text": [
      "376 data/abalone.data\r\n"
     ]
    }
   ],
   "source": [
    "!ls -s data/abalone.data"
   ]
  },
  {
   "cell_type": "code",
   "execution_count": 105,
   "metadata": {
    "collapsed": false
   },
   "outputs": [
    {
     "name": "stdout",
     "output_type": "stream",
     "text": [
      "(<open file 'data/abalone.data', mode 'r' at 0x1058444a0>, '...')\n",
      "[('0', 27723), ('1', 1634), ('m', 1528), ('i', 1342), ('f', 1307)]\n"
     ]
    }
   ],
   "source": [
    "f = myfile('data/abalone.data', 'r')\n",
    "print (f, '...')\n",
    "print (f.mostCommonWord(num = 5)) "
   ]
  },
  {
   "cell_type": "code",
   "execution_count": 107,
   "metadata": {
    "collapsed": false
   },
   "outputs": [
    {
     "name": "stdout",
     "output_type": "stream",
     "text": [
      "(<open file 'data/abalone.data', mode 'r' at 0x104ce04a0>, '...')\n",
      "[('0', 27723), ('1', 1634), ('M', 1528), ('I', 1342), ('F', 1307)]\n"
     ]
    }
   ],
   "source": [
    "f=myfile('data/abalone.data', 'r')\n",
    "print (f, '...')\n",
    "print (f.mostCommonWord(num = 5, ignoreCase=False))"
   ]
  },
  {
   "cell_type": "code",
   "execution_count": 108,
   "metadata": {
    "collapsed": false
   },
   "outputs": [
    {
     "name": "stdout",
     "output_type": "stream",
     "text": [
      "(<open file 'data/abalone.data', mode 'r' at 0x1058444a0>, '...')\n",
      "[('7845', 1), ('6795', 1), ('9255', 1), ('94', 1), ('8835', 1)]\n"
     ]
    }
   ],
   "source": [
    "f=myfile('data/abalone.data', 'r')\n",
    "print (f, '...')\n",
    "print (f.mostCommonWord(num = 5, ignoreCase=False, descend=False) )"
   ]
  },
  {
   "cell_type": "code",
   "execution_count": 117,
   "metadata": {
    "collapsed": false
   },
   "outputs": [],
   "source": [
    "!echo \"print ('1 + 1 = %s' %(1+1))\" > script/script1.py"
   ]
  },
  {
   "cell_type": "code",
   "execution_count": 118,
   "metadata": {
    "collapsed": false
   },
   "outputs": [
    {
     "name": "stdout",
     "output_type": "stream",
     "text": [
      "print ('1 + 1 = %s' %(1+1))\r\n"
     ]
    }
   ],
   "source": [
    "!cat script/script1.py"
   ]
  },
  {
   "cell_type": "code",
   "execution_count": 119,
   "metadata": {
    "collapsed": false
   },
   "outputs": [
    {
     "name": "stdout",
     "output_type": "stream",
     "text": [
      "1 + 1 = 2\r\n"
     ]
    }
   ],
   "source": [
    "!python script/script1.py"
   ]
  },
  {
   "cell_type": "code",
   "execution_count": 120,
   "metadata": {
    "collapsed": false
   },
   "outputs": [
    {
     "name": "stdout",
     "output_type": "stream",
     "text": [
      "how old are you?\n",
      "20\n"
     ]
    }
   ],
   "source": [
    "age = input('how old are you?\\n')"
   ]
  },
  {
   "cell_type": "code",
   "execution_count": 121,
   "metadata": {
    "collapsed": true
   },
   "outputs": [],
   "source": [
    "script2 = open('script/script2.py', 'w')\n",
    "script2.write('name = raw_input(\"What is your name?\\\\n\")\\n')\n",
    "script2.write('age = input(\"How old are you?\\\\n\")\\n')\n",
    "script2.write('print \"You are %s, %s years old.\"%(name, age)\\n')\n",
    "script2.close()"
   ]
  },
  {
   "cell_type": "code",
   "execution_count": 122,
   "metadata": {
    "collapsed": false
   },
   "outputs": [],
   "source": [
    "open('script/script3.py', 'w').write('''from sys import argv\n",
    "script, name, age = argv\n",
    "print \"The script is called:\", script\n",
    "print \"My name is %s.\" %name\n",
    "print \"Im %s years old.\" %age''')"
   ]
  },
  {
   "cell_type": "code",
   "execution_count": 123,
   "metadata": {
    "collapsed": false
   },
   "outputs": [
    {
     "name": "stdout",
     "output_type": "stream",
     "text": [
      "(1, ':', 'from sys import argv\\n')\n",
      "(2, ':', 'script, name, age = argv\\n')\n",
      "(3, ':', 'print \"The script is called:\", script\\n')\n",
      "(4, ':', 'print \"My name is %s.\" %name\\n')\n",
      "(5, ':', 'print \"Im %s years old.\" %age')\n"
     ]
    }
   ],
   "source": [
    "f=open('script/script3.py', 'r') \n",
    "num = 1\n",
    "for i in f:\n",
    "    print (num, ':', i)\n",
    "    num += 1\n",
    "# you can also use the shell command\n",
    "# !cat script/script3.py"
   ]
  },
  {
   "cell_type": "code",
   "execution_count": 124,
   "metadata": {
    "collapsed": false
   },
   "outputs": [
    {
     "name": "stdout",
     "output_type": "stream",
     "text": [
      "from sys import argv\r\n",
      "script, name, age = argv\r\n",
      "print \"The script is called:\", script\r\n",
      "print \"My name is %s.\" %name\r\n",
      "print \"Im %s years old.\" %age"
     ]
    }
   ],
   "source": [
    "!cat script/script3.py"
   ]
  },
  {
   "cell_type": "code",
   "execution_count": 126,
   "metadata": {
    "collapsed": false
   },
   "outputs": [
    {
     "name": "stdout",
     "output_type": "stream",
     "text": [
      "The script is called: script/script3.py\r\n",
      "My name is jack.\r\n",
      "Im 18 years old.\r\n"
     ]
    }
   ],
   "source": [
    "!python2.7 script/script3.py jack 18"
   ]
  },
  {
   "cell_type": "code",
   "execution_count": 128,
   "metadata": {
    "collapsed": false
   },
   "outputs": [
    {
     "name": "stdout",
     "output_type": "stream",
     "text": [
      "The script is called: script/script3.py\r\n",
      "My name is Lucy.\r\n",
      "Im 20 years old.\r\n"
     ]
    }
   ],
   "source": [
    "!python2.7 script/script3.py Lucy 20"
   ]
  },
  {
   "cell_type": "code",
   "execution_count": 129,
   "metadata": {
    "collapsed": false
   },
   "outputs": [
    {
     "name": "stdout",
     "output_type": "stream",
     "text": [
      "\u001b[34mdata\u001b[m\u001b[m                          lec2.html\r\n",
      "fooz.txt                      lec2.ipynb\r\n",
      "lec1-exercise1-solution.ipynb \u001b[34mlec2_files\u001b[m\u001b[m\r\n",
      "lec1-exercise1.ipynb          \u001b[34mpic\u001b[m\u001b[m\r\n",
      "lec1-exercise2.pdf            \u001b[34mscript\u001b[m\u001b[m\r\n",
      "lec2-exercise.ipynb\r\n"
     ]
    }
   ],
   "source": [
    "!ls"
   ]
  },
  {
   "cell_type": "code",
   "execution_count": 131,
   "metadata": {
    "collapsed": false
   },
   "outputs": [
    {
     "name": "stdout",
     "output_type": "stream",
     "text": [
      "        Word:Frequency\r\n",
      "-----------------------\r\n",
      "      result:      16\r\n",
      "        self:      11\r\n",
      "         raw:      10\r\n",
      "      string:      10\r\n",
      " punctuation:      10\r\n"
     ]
    }
   ],
   "source": [
    "!python2.7 wordcounter.py wordcounter.py 5"
   ]
  },
  {
   "cell_type": "code",
   "execution_count": 132,
   "metadata": {
    "collapsed": false
   },
   "outputs": [
    {
     "name": "stdout",
     "output_type": "stream",
     "text": [
      "I'm Jack.\n",
      "Jack says \"My name is Jack\".\n",
      "Jack says \"Hi, I'm  Jack\"\n",
      "Jack says \"Hi, I'm  Jack\"\n",
      "Jack says \"Hi, I'm  Jack\"\n",
      "Jack says 'Hi, I'm  Jack'\n",
      "Jack says:\n",
      "    \"Hi, I'm  Jack\"\n",
      "Hi, I do not want a \n",
      "ew line.\n",
      "Hi, I do not want a \\n new line.\n"
     ]
    }
   ],
   "source": [
    "print (\"I'm Jack.\")\n",
    "print ('Jack says \"My name is Jack\".')\n",
    "print (\"Jack says \\\"Hi, I'm  Jack\\\"\")\n",
    "print ('Jack says \"Hi, I\\'m  Jack\"')\n",
    "print ('''Jack says \"Hi, I'm  Jack\"''')\n",
    "print (\"\"\"Jack says 'Hi, I'm  Jack'\"\"\")\n",
    "print ('''Jack says:\n",
    "    \"Hi, I'm  Jack\"''')\n",
    "print ('Hi, I do not want a \\new line.')\n",
    "print (r'Hi, I do not want a \\n new line.')"
   ]
  },
  {
   "cell_type": "code",
   "execution_count": 133,
   "metadata": {
    "collapsed": false
   },
   "outputs": [
    {
     "data": {
      "text/plain": [
       "4"
      ]
     },
     "execution_count": 133,
     "metadata": {},
     "output_type": "execute_result"
    }
   ],
   "source": [
    "len('abcd')"
   ]
  },
  {
   "cell_type": "code",
   "execution_count": 134,
   "metadata": {
    "collapsed": false
   },
   "outputs": [
    {
     "data": {
      "text/plain": [
       "'a'"
      ]
     },
     "execution_count": 134,
     "metadata": {},
     "output_type": "execute_result"
    }
   ],
   "source": [
    "'abcd'[0] # the first element"
   ]
  },
  {
   "cell_type": "code",
   "execution_count": 135,
   "metadata": {
    "collapsed": false
   },
   "outputs": [
    {
     "data": {
      "text/plain": [
       "'ab'"
      ]
     },
     "execution_count": 135,
     "metadata": {},
     "output_type": "execute_result"
    }
   ],
   "source": [
    "'abcd'[0:2] # the first element"
   ]
  },
  {
   "cell_type": "code",
   "execution_count": 136,
   "metadata": {
    "collapsed": false
   },
   "outputs": [
    {
     "name": "stdout",
     "output_type": "stream",
     "text": [
      "g\n",
      "f\n"
     ]
    }
   ],
   "source": [
    "s = 'abcdefg'\n",
    "print (s[-1]) # -1 means the first character from the right side\n",
    "print (s[-2]) # -2 means the second character from the right side"
   ]
  },
  {
   "cell_type": "code",
   "execution_count": 145,
   "metadata": {
    "collapsed": false
   },
   "outputs": [
    {
     "name": "stdout",
     "output_type": "stream",
     "text": [
      " a  b  c  d  e  f  g \n",
      "\n",
      " 0  1  2  3  4  5  6 \n",
      "\n",
      "-7 -6 -5 -4 -3 -2 -1\n"
     ]
    }
   ],
   "source": [
    "for i in s:\n",
    "    print ('%2s'%i), \n",
    "print ('\\n')\n",
    "for i in range(len(s)):\n",
    "    print ('%2s'%i),\n",
    "print ('\\n')\n",
    "for i in range(len(s)):\n",
    "    print (i-len(s)), "
   ]
  },
  {
   "cell_type": "code",
   "execution_count": 146,
   "metadata": {
    "collapsed": false
   },
   "outputs": [
    {
     "ename": "IndexError",
     "evalue": "string index out of range",
     "output_type": "error",
     "traceback": [
      "\u001b[0;31m---------------------------------------------------------------------------\u001b[0m",
      "\u001b[0;31mIndexError\u001b[0m                                Traceback (most recent call last)",
      "\u001b[0;32m<ipython-input-146-698fe4b1252c>\u001b[0m in \u001b[0;36m<module>\u001b[0;34m()\u001b[0m\n\u001b[1;32m      1\u001b[0m \u001b[0;31m#s\u001b[0m\u001b[0;34m\u001b[0m\u001b[0;34m\u001b[0m\u001b[0m\n\u001b[0;32m----> 2\u001b[0;31m \u001b[0;32mprint\u001b[0m \u001b[0;34m(\u001b[0m\u001b[0ms\u001b[0m\u001b[0;34m[\u001b[0m\u001b[0;36m7\u001b[0m\u001b[0;34m]\u001b[0m\u001b[0;34m)\u001b[0m\u001b[0;34m\u001b[0m\u001b[0m\n\u001b[0m",
      "\u001b[0;31mIndexError\u001b[0m: string index out of range"
     ]
    }
   ],
   "source": [
    "#s\n",
    "print (s[7])"
   ]
  },
  {
   "cell_type": "code",
   "execution_count": 147,
   "metadata": {
    "collapsed": false
   },
   "outputs": [
    {
     "ename": "IndexError",
     "evalue": "string index out of range",
     "output_type": "error",
     "traceback": [
      "\u001b[0;31m---------------------------------------------------------------------------\u001b[0m",
      "\u001b[0;31mIndexError\u001b[0m                                Traceback (most recent call last)",
      "\u001b[0;32m<ipython-input-147-05c3a1ab8146>\u001b[0m in \u001b[0;36m<module>\u001b[0;34m()\u001b[0m\n\u001b[0;32m----> 1\u001b[0;31m \u001b[0;32mprint\u001b[0m \u001b[0ms\u001b[0m\u001b[0;34m[\u001b[0m\u001b[0;34m-\u001b[0m\u001b[0;36m8\u001b[0m\u001b[0;34m]\u001b[0m\u001b[0;34m\u001b[0m\u001b[0m\n\u001b[0m",
      "\u001b[0;31mIndexError\u001b[0m: string index out of range"
     ]
    }
   ],
   "source": [
    "print s[-8]"
   ]
  },
  {
   "cell_type": "code",
   "execution_count": 148,
   "metadata": {
    "collapsed": false
   },
   "outputs": [
    {
     "data": {
      "text/plain": [
       "'abcd'"
      ]
     },
     "execution_count": 148,
     "metadata": {},
     "output_type": "execute_result"
    }
   ],
   "source": [
    "'ABcd'.lower()"
   ]
  },
  {
   "cell_type": "code",
   "execution_count": 149,
   "metadata": {
    "collapsed": false
   },
   "outputs": [
    {
     "data": {
      "text/plain": [
       "'ABCD'"
      ]
     },
     "execution_count": 149,
     "metadata": {},
     "output_type": "execute_result"
    }
   ],
   "source": [
    "'ABcd'.upper() # convert to upper case"
   ]
  },
  {
   "cell_type": "code",
   "execution_count": 150,
   "metadata": {
    "collapsed": false
   },
   "outputs": [
    {
     "data": {
      "text/plain": [
       "'abCD'"
      ]
     },
     "execution_count": 150,
     "metadata": {},
     "output_type": "execute_result"
    }
   ],
   "source": [
    "'ABcd'.swapcase() # swap case(lower -> upper, upper -> lower)"
   ]
  },
  {
   "cell_type": "code",
   "execution_count": 151,
   "metadata": {
    "collapsed": false
   },
   "outputs": [
    {
     "data": {
      "text/plain": [
       "'Acd Acd'"
      ]
     },
     "execution_count": 151,
     "metadata": {},
     "output_type": "execute_result"
    }
   ],
   "source": [
    "'acd acd'.title()"
   ]
  },
  {
   "cell_type": "code",
   "execution_count": 152,
   "metadata": {
    "collapsed": false
   },
   "outputs": [
    {
     "data": {
      "text/plain": [
       "['a', 'b', 'c', 'd']"
      ]
     },
     "execution_count": 152,
     "metadata": {},
     "output_type": "execute_result"
    }
   ],
   "source": [
    "'a b c d'.split(' ') # split by ' '"
   ]
  },
  {
   "cell_type": "code",
   "execution_count": 153,
   "metadata": {
    "collapsed": false
   },
   "outputs": [
    {
     "data": {
      "text/plain": [
       "['a', 'b', 'c', 'd']"
      ]
     },
     "execution_count": 153,
     "metadata": {},
     "output_type": "execute_result"
    }
   ],
   "source": [
    "'a b c d'.split() # split by ' ' default"
   ]
  },
  {
   "cell_type": "code",
   "execution_count": 154,
   "metadata": {
    "collapsed": false
   },
   "outputs": [
    {
     "data": {
      "text/plain": [
       "'a>b>c>d'"
      ]
     },
     "execution_count": 154,
     "metadata": {},
     "output_type": "execute_result"
    }
   ],
   "source": [
    "'a b c d'.replace(' ', '>') # replace ' ' with '>'"
   ]
  },
  {
   "cell_type": "code",
   "execution_count": 155,
   "metadata": {
    "collapsed": false
   },
   "outputs": [
    {
     "data": {
      "text/plain": [
       "3"
      ]
     },
     "execution_count": 155,
     "metadata": {},
     "output_type": "execute_result"
    }
   ],
   "source": [
    "'a b c d'.count(' ') # count the number of ' ' appears"
   ]
  },
  {
   "cell_type": "code",
   "execution_count": 156,
   "metadata": {
    "collapsed": false
   },
   "outputs": [
    {
     "data": {
      "text/plain": [
       "'a b c'"
      ]
     },
     "execution_count": 156,
     "metadata": {},
     "output_type": "execute_result"
    }
   ],
   "source": [
    "' '.join(['a', 'b', 'c'])"
   ]
  },
  {
   "cell_type": "code",
   "execution_count": 157,
   "metadata": {
    "collapsed": false
   },
   "outputs": [
    {
     "data": {
      "text/plain": [
       "'abc'"
      ]
     },
     "execution_count": 157,
     "metadata": {},
     "output_type": "execute_result"
    }
   ],
   "source": [
    "''.join(['a', 'b', 'c'])"
   ]
  },
  {
   "cell_type": "code",
   "execution_count": 158,
   "metadata": {
    "collapsed": false
   },
   "outputs": [
    {
     "data": {
      "text/plain": [
       "'a/b/c'"
      ]
     },
     "execution_count": 158,
     "metadata": {},
     "output_type": "execute_result"
    }
   ],
   "source": [
    "'/'.join(['a', 'b', 'c'])"
   ]
  },
  {
   "cell_type": "code",
   "execution_count": null,
   "metadata": {
    "collapsed": false
   },
   "outputs": [],
   "source": [
    "help(str.join)"
   ]
  },
  {
   "cell_type": "markdown",
   "metadata": {},
   "source": [
    "<code>\n",
    "Identifiers:\n",
    "\n",
    "\\d = any number\n",
    "\\D = anything but a number\n",
    "\\s = space\n",
    "\\S = anything but a space\n",
    "\\w = any letter\n",
    "\\W = anything but a letter\n",
    ". = any character, except for a new line\n",
    "\\b = space around whole words\n",
    "\\. = period. must use backslash, because . normally means any character.\n",
    "\n",
    "Modifiers:\n",
    "\n",
    "{1,3} = for digits, u expect 1-3 counts of digits, or \"places\"\n",
    "\\+ = match 1 or more\n",
    "? = match 0 or 1 repetitions.\n",
    "\\* = match 0 or MORE repetitions\n",
    "$ = matches at the end of string\n",
    "^ = matches start of a string\n",
    "| = matches either/or. Example x|y = will match either x or y\n",
    "[] = range, or \"variance\"\n",
    "{x} = expect to see this amount of the preceding .\n",
    "{x,y} = expect to see this x-y amounts of the precedng \n",
    "\n",
    "White Space Charts:\n",
    "\n",
    "\\n = new line\n",
    "\\s = space\n",
    "\\t = tab\n",
    "\\e = escape\n",
    "\\f = form feed\n",
    "\\r = carriage return\n",
    "\n",
    "Characters to REMEMBER TO ESCAPE IF USED!\n",
    "\n",
    ". + * ? [ ] $ ^ ( ) { } | \\\n",
    "\n",
    "Brackets:\n",
    "\n",
    "[] = quant[ia]tative = will find either quantitative, or quantatative.\n",
    "[a-z] = return any lowercase letter a-z\n",
    "[1-5a-qA-Z] = return all numbers 1-5, lowercase letters a-q and uppercase A-Z\n",
    "</code>"
   ]
  },
  {
   "cell_type": "code",
   "execution_count": 159,
   "metadata": {
    "collapsed": true
   },
   "outputs": [],
   "source": [
    "import re"
   ]
  },
  {
   "cell_type": "code",
   "execution_count": null,
   "metadata": {
    "collapsed": false
   },
   "outputs": [],
   "source": [
    "help(re.search)"
   ]
  },
  {
   "cell_type": "code",
   "execution_count": 160,
   "metadata": {
    "collapsed": false
   },
   "outputs": [
    {
     "name": "stdout",
     "output_type": "stream",
     "text": [
      "<_sre.SRE_Match object at 0x1059b9168>\n"
     ]
    }
   ],
   "source": [
    "raw_string = 'Hi, how are you today?'\n",
    "print (re.search('Hi', raw_string))"
   ]
  },
  {
   "cell_type": "code",
   "execution_count": 161,
   "metadata": {
    "collapsed": false
   },
   "outputs": [
    {
     "name": "stdout",
     "output_type": "stream",
     "text": [
      "None\n"
     ]
    }
   ],
   "source": [
    "print (re.search('Hello', raw_string))"
   ]
  },
  {
   "cell_type": "code",
   "execution_count": 162,
   "metadata": {
    "collapsed": false
   },
   "outputs": [
    {
     "data": {
      "text/plain": [
       "<_sre.SRE_Match at 0x1059b92a0>"
      ]
     },
     "execution_count": 162,
     "metadata": {},
     "output_type": "execute_result"
    }
   ],
   "source": [
    "s = re.search('Hi', raw_string)\n",
    "s"
   ]
  },
  {
   "cell_type": "code",
   "execution_count": 163,
   "metadata": {
    "collapsed": false
   },
   "outputs": [
    {
     "name": "stdout",
     "output_type": "stream",
     "text": [
      "0\n",
      "2\n",
      "(0, 2)\n"
     ]
    }
   ],
   "source": [
    "print (s.start()) # the starting position of of the matched string\n",
    "print (s.end())   # the ending position index of the matched string\n",
    "print (s.span())  # a tuple containing the (start, end) positions of the matched string"
   ]
  },
  {
   "cell_type": "code",
   "execution_count": 164,
   "metadata": {
    "collapsed": false
   },
   "outputs": [
    {
     "name": "stdout",
     "output_type": "stream",
     "text": [
      "Hi\n",
      "Hi\n"
     ]
    }
   ],
   "source": [
    "print( s.group() )# the matched string\n",
    "print( raw_string[s.start():s.end()] )# same"
   ]
  },
  {
   "cell_type": "code",
   "execution_count": 168,
   "metadata": {
    "collapsed": false
   },
   "outputs": [
    {
     "name": "stdout",
     "output_type": "stream",
     "text": [
      "True\n",
      "True\n",
      "True\n",
      "True\n",
      "False\n",
      "False\n"
     ]
    }
   ],
   "source": [
    "#     . = any character, except for a new line\n",
    "\n",
    "print (re.search('a.', 'aa') != None)\n",
    "print (re.search('a.', 'ab') != None)\n",
    "print (re.search('a.', 'a1') != None)\n",
    "print (re.search('a.', 'a#') != None)\n",
    "print (re.search('a.', 'a') != None)\n",
    "print (re.search('a.', 'a\\n') != None)"
   ]
  },
  {
   "cell_type": "code",
   "execution_count": 170,
   "metadata": {
    "collapsed": false
   },
   "outputs": [
    {
     "name": "stdout",
     "output_type": "stream",
     "text": [
      "True\n",
      "True\n",
      "False\n",
      "True\n"
     ]
    }
   ],
   "source": [
    "#      ? = match 0 or 1 repetitions.\n",
    "\n",
    "print (re.search('ba?b', 'bb') != None )   # match\n",
    "print (re.search('ba?b', 'bab') != None )  # match\n",
    "print (re.search('ba?b', 'baab') != None ) # does not match\n",
    "print (re.search('ba?b', 'abab') != None )"
   ]
  },
  {
   "cell_type": "code",
   "execution_count": 171,
   "metadata": {
    "collapsed": false
   },
   "outputs": [
    {
     "name": "stdout",
     "output_type": "stream",
     "text": [
      "False\n",
      "True\n",
      "True\n",
      "True\n",
      "True\n"
     ]
    }
   ],
   "source": [
    "#     + = match 1 or more\n",
    "\n",
    "print( re.search('ba+b', 'bb') != None  )  # does not match\n",
    "print( re.search('ba+b', 'bab') != None   )# match\n",
    "print( re.search('ba+b', 'baab') != None  )# match\n",
    "print( re.search('ba+b', 'baaaab') != None  )# match\n",
    "print( re.search('ba+b', 'baaaaaab') != None ) # match"
   ]
  },
  {
   "cell_type": "code",
   "execution_count": 175,
   "metadata": {
    "collapsed": false
   },
   "outputs": [
    {
     "name": "stdout",
     "output_type": "stream",
     "text": [
      "True\n",
      "True\n",
      "True\n",
      "False\n"
     ]
    }
   ],
   "source": [
    "#.       * = match 0 or MORE repetitions\n",
    "\n",
    "print (re.search('ba*b', 'bb') != None )   # match\n",
    "print (re.search('ba*b', 'bab') != None )  # match\n",
    "print (re.search('ba*b', 'baaaaaab') != None ) # match\n",
    "print (re.search('ba*b', 'baaagb') != None )"
   ]
  },
  {
   "cell_type": "code",
   "execution_count": 176,
   "metadata": {
    "collapsed": false
   },
   "outputs": [
    {
     "name": "stdout",
     "output_type": "stream",
     "text": [
      "True\n",
      "True\n",
      "True\n",
      "False\n",
      "False\n"
     ]
    }
   ],
   "source": [
    "print( re.search('ba{1,3}b', 'bab') != None    )# match\n",
    "print( re.search('ba{1,3}b', 'baab') != None  ) # match\n",
    "print( re.search('ba{1,3}b', 'baaab') != None)  # match\n",
    "print( re.search('ba{1,3}b', 'bb') != None     )# does not match\n",
    "print( re.search('ba{1,3}b', 'baaaab') != None) # does not match\n"
   ]
  },
  {
   "cell_type": "code",
   "execution_count": 177,
   "metadata": {
    "collapsed": false
   },
   "outputs": [
    {
     "name": "stdout",
     "output_type": "stream",
     "text": [
      "True\n",
      "True\n",
      "False\n"
     ]
    }
   ],
   "source": [
    "#      ^ = matches start of a string\n",
    "\n",
    "print( re.search('^a', 'abc') != None )   # match\n",
    "print( re.search('^a', 'abcde') != None)  # match\n",
    "print( re.search('^a', ' abcde') != None) # does not match"
   ]
  },
  {
   "cell_type": "code",
   "execution_count": 178,
   "metadata": {
    "collapsed": false
   },
   "outputs": [
    {
     "name": "stdout",
     "output_type": "stream",
     "text": [
      "True\n",
      "True\n",
      "False\n"
     ]
    }
   ],
   "source": [
    "#.      $ = matches at the end of string\n",
    "\n",
    "print (re.search('a$', 'aba') != None )   # match\n",
    "print (re.search('a$', 'abcba') != None)  # match\n",
    "print (re.search('a$', ' aba ') != None ) # does not match"
   ]
  },
  {
   "cell_type": "code",
   "execution_count": 183,
   "metadata": {
    "collapsed": false
   },
   "outputs": [
    {
     "name": "stdout",
     "output_type": "stream",
     "text": [
      "True\n",
      "True\n",
      "True\n",
      "False\n",
      "False\n",
      "True\n",
      "False\n",
      "True\n"
     ]
    }
   ],
   "source": [
    "print (re.search('^a.a$', 'aba') != None )   # match\n",
    "print (re.search('^a.a$', 'a a') != None  )  # match\n",
    "print (re.search('^a.a$', 'a.a') != None   ) # match\n",
    "\n",
    "print (re.search('^a.a$', 'bba') != None  )  # does not match\n",
    "print (re.search('^a.a$', 'abba') != None  ) \n",
    "print (re.search('^a.*a$', 'abba') != None  )\n",
    "print (re.search('^a.?a$', 'abba') != None  )\n",
    "print (re.search('^a.{1,3}a$', 'abba') != None  )# does not match"
   ]
  },
  {
   "cell_type": "code",
   "execution_count": 180,
   "metadata": {
    "collapsed": false
   },
   "outputs": [
    {
     "name": "stdout",
     "output_type": "stream",
     "text": [
      "False\n",
      "True\n",
      "True\n",
      "True\n",
      "True\n"
     ]
    }
   ],
   "source": [
    "print (re.search('[123abc]', 'defg')  != None)   # does not match\n",
    "print (re.search('[123abc]', '1defg') != None )  # match\n",
    "print (re.search('[1-3a-c]', '2defg') != None  ) # match\n",
    "print (re.search('[123abc]', 'adefg') != None )  # match\n",
    "print (re.search('[1-3a-c]', 'bdefg') != None )  # match"
   ]
  },
  {
   "cell_type": "code",
   "execution_count": 186,
   "metadata": {
    "collapsed": false
   },
   "outputs": [
    {
     "name": "stdout",
     "output_type": "stream",
     "text": [
      "False\n",
      "True\n",
      "True\n"
     ]
    }
   ],
   "source": [
    "print (re.search('(abc){2,3}', 'abc')  != None  )       # does not match\n",
    "print (re.search('(abc){2,3}', 'abcabc')  != None)      # match\n",
    "print (re.search('(abc){2,3}', 'abcabcabc')  != None )  # match"
   ]
  },
  {
   "cell_type": "code",
   "execution_count": 187,
   "metadata": {
    "collapsed": false
   },
   "outputs": [
    {
     "data": {
      "text/plain": [
       "True"
      ]
     },
     "execution_count": 187,
     "metadata": {},
     "output_type": "execute_result"
    }
   ],
   "source": [
    "re.search('(abc){2,3}', 4*'abc')  != None"
   ]
  },
  {
   "cell_type": "code",
   "execution_count": 188,
   "metadata": {
    "collapsed": false
   },
   "outputs": [
    {
     "data": {
      "text/plain": [
       "False"
      ]
     },
     "execution_count": 188,
     "metadata": {},
     "output_type": "execute_result"
    }
   ],
   "source": [
    "re.search('^(abc){2,3}$', 4*'abc')  != None"
   ]
  },
  {
   "cell_type": "code",
   "execution_count": 189,
   "metadata": {
    "collapsed": false
   },
   "outputs": [
    {
     "name": "stdout",
     "output_type": "stream",
     "text": [
      "True\n",
      "True\n",
      "False\n"
     ]
    }
   ],
   "source": [
    "print(re.search('[ab]', 'a') != None)   # match\n",
    "print(re.search('[ab]', 'b') != None)   # match\n",
    "print(re.search('[ab]', 'c') != None)  # does not match"
   ]
  },
  {
   "cell_type": "code",
   "execution_count": 190,
   "metadata": {
    "collapsed": false
   },
   "outputs": [
    {
     "name": "stdout",
     "output_type": "stream",
     "text": [
      "False\n",
      "False\n",
      "True\n",
      "True\n"
     ]
    }
   ],
   "source": [
    "print (re.search('abc|123', 'a') != None)   # does not match\n",
    "print (re.search('abc|123', '1') != None )  # does not match\n",
    "print (re.search('abc|123', '123') != None) # match\n",
    "print (re.search('abc|123', 'abc') != None) # match"
   ]
  },
  {
   "cell_type": "code",
   "execution_count": 191,
   "metadata": {
    "collapsed": false
   },
   "outputs": [
    {
     "name": "stdout",
     "output_type": "stream",
     "text": [
      "True\n"
     ]
    }
   ],
   "source": [
    "print (re.search('\\?', 'Hi, how are you today?') != None)"
   ]
  },
  {
   "cell_type": "code",
   "execution_count": 192,
   "metadata": {
    "collapsed": false
   },
   "outputs": [
    {
     "ename": "error",
     "evalue": "nothing to repeat",
     "output_type": "error",
     "traceback": [
      "\u001b[0;31m---------------------------------------------------------------------------\u001b[0m",
      "\u001b[0;31merror\u001b[0m                                     Traceback (most recent call last)",
      "\u001b[0;32m<ipython-input-192-ed1729cec66a>\u001b[0m in \u001b[0;36m<module>\u001b[0;34m()\u001b[0m\n\u001b[0;32m----> 1\u001b[0;31m \u001b[0;32mprint\u001b[0m \u001b[0;34m(\u001b[0m\u001b[0mre\u001b[0m\u001b[0;34m.\u001b[0m\u001b[0msearch\u001b[0m\u001b[0;34m(\u001b[0m\u001b[0;34m'?'\u001b[0m\u001b[0;34m,\u001b[0m \u001b[0;34m'Hi, how are you today?'\u001b[0m\u001b[0;34m)\u001b[0m \u001b[0;34m!=\u001b[0m \u001b[0mNone\u001b[0m\u001b[0;34m)\u001b[0m\u001b[0;34m\u001b[0m\u001b[0m\n\u001b[0m",
      "\u001b[0;32m//anaconda/envs/py2/lib/python2.7/re.pyc\u001b[0m in \u001b[0;36msearch\u001b[0;34m(pattern, string, flags)\u001b[0m\n\u001b[1;32m    144\u001b[0m     \"\"\"Scan through string looking for a match to the pattern, returning\n\u001b[1;32m    145\u001b[0m     a match object, or None if no match was found.\"\"\"\n\u001b[0;32m--> 146\u001b[0;31m     \u001b[0;32mreturn\u001b[0m \u001b[0m_compile\u001b[0m\u001b[0;34m(\u001b[0m\u001b[0mpattern\u001b[0m\u001b[0;34m,\u001b[0m \u001b[0mflags\u001b[0m\u001b[0;34m)\u001b[0m\u001b[0;34m.\u001b[0m\u001b[0msearch\u001b[0m\u001b[0;34m(\u001b[0m\u001b[0mstring\u001b[0m\u001b[0;34m)\u001b[0m\u001b[0;34m\u001b[0m\u001b[0m\n\u001b[0m\u001b[1;32m    147\u001b[0m \u001b[0;34m\u001b[0m\u001b[0m\n\u001b[1;32m    148\u001b[0m \u001b[0;32mdef\u001b[0m \u001b[0msub\u001b[0m\u001b[0;34m(\u001b[0m\u001b[0mpattern\u001b[0m\u001b[0;34m,\u001b[0m \u001b[0mrepl\u001b[0m\u001b[0;34m,\u001b[0m \u001b[0mstring\u001b[0m\u001b[0;34m,\u001b[0m \u001b[0mcount\u001b[0m\u001b[0;34m=\u001b[0m\u001b[0;36m0\u001b[0m\u001b[0;34m,\u001b[0m \u001b[0mflags\u001b[0m\u001b[0;34m=\u001b[0m\u001b[0;36m0\u001b[0m\u001b[0;34m)\u001b[0m\u001b[0;34m:\u001b[0m\u001b[0;34m\u001b[0m\u001b[0m\n",
      "\u001b[0;32m//anaconda/envs/py2/lib/python2.7/re.pyc\u001b[0m in \u001b[0;36m_compile\u001b[0;34m(*key)\u001b[0m\n\u001b[1;32m    249\u001b[0m         \u001b[0mp\u001b[0m \u001b[0;34m=\u001b[0m \u001b[0msre_compile\u001b[0m\u001b[0;34m.\u001b[0m\u001b[0mcompile\u001b[0m\u001b[0;34m(\u001b[0m\u001b[0mpattern\u001b[0m\u001b[0;34m,\u001b[0m \u001b[0mflags\u001b[0m\u001b[0;34m)\u001b[0m\u001b[0;34m\u001b[0m\u001b[0m\n\u001b[1;32m    250\u001b[0m     \u001b[0;32mexcept\u001b[0m \u001b[0merror\u001b[0m\u001b[0;34m,\u001b[0m \u001b[0mv\u001b[0m\u001b[0;34m:\u001b[0m\u001b[0;34m\u001b[0m\u001b[0m\n\u001b[0;32m--> 251\u001b[0;31m         \u001b[0;32mraise\u001b[0m \u001b[0merror\u001b[0m\u001b[0;34m,\u001b[0m \u001b[0mv\u001b[0m \u001b[0;31m# invalid expression\u001b[0m\u001b[0;34m\u001b[0m\u001b[0m\n\u001b[0m\u001b[1;32m    252\u001b[0m     \u001b[0;32mif\u001b[0m \u001b[0;32mnot\u001b[0m \u001b[0mbypass_cache\u001b[0m\u001b[0;34m:\u001b[0m\u001b[0;34m\u001b[0m\u001b[0m\n\u001b[1;32m    253\u001b[0m         \u001b[0;32mif\u001b[0m \u001b[0mlen\u001b[0m\u001b[0;34m(\u001b[0m\u001b[0m_cache\u001b[0m\u001b[0;34m)\u001b[0m \u001b[0;34m>=\u001b[0m \u001b[0m_MAXCACHE\u001b[0m\u001b[0;34m:\u001b[0m\u001b[0;34m\u001b[0m\u001b[0m\n",
      "\u001b[0;31merror\u001b[0m: nothing to repeat"
     ]
    }
   ],
   "source": [
    "print (re.search('?', 'Hi, how are you today?') != None)"
   ]
  },
  {
   "cell_type": "code",
   "execution_count": 193,
   "metadata": {
    "collapsed": true
   },
   "outputs": [],
   "source": [
    "s = '''The re module was added in Python 1.5, \n",
    "and provides Perl-style regular expression patterns. \n",
    "Earlier versions of Python came with the regex module, \n",
    "which provided Emacs-style patterns. \n",
    "The regex module was removed completely in Python 2.5.'''"
   ]
  },
  {
   "cell_type": "code",
   "execution_count": 195,
   "metadata": {
    "collapsed": false
   },
   "outputs": [
    {
     "data": {
      "text/plain": [
       "'The re module was added in Python 1.5, \\nand provides Perl-style regular expression patterns. \\nEarlier versions of Python came with the regex module, \\nwhich provided Emacs-style patterns. \\nThe regex module was removed completely in Python 2.5.'"
      ]
     },
     "execution_count": 195,
     "metadata": {},
     "output_type": "execute_result"
    }
   ],
   "source": [
    "s"
   ]
  },
  {
   "cell_type": "code",
   "execution_count": 196,
   "metadata": {
    "collapsed": false
   },
   "outputs": [
    {
     "data": {
      "text/plain": [
       "['The',\n",
       " 're',\n",
       " 'module',\n",
       " 'was',\n",
       " 'added',\n",
       " 'in',\n",
       " 'Python',\n",
       " '1',\n",
       " '5',\n",
       " '',\n",
       " '',\n",
       " 'and',\n",
       " 'provides',\n",
       " 'Perl',\n",
       " 'style',\n",
       " 'regular',\n",
       " 'expression',\n",
       " 'patterns',\n",
       " '',\n",
       " '',\n",
       " 'Earlier',\n",
       " 'versions',\n",
       " 'of',\n",
       " 'Python',\n",
       " 'came',\n",
       " 'with',\n",
       " 'the',\n",
       " 'regex',\n",
       " 'module',\n",
       " '',\n",
       " '',\n",
       " 'which',\n",
       " 'provided',\n",
       " 'Emacs',\n",
       " 'style',\n",
       " 'patterns',\n",
       " '',\n",
       " '',\n",
       " 'The',\n",
       " 'regex',\n",
       " 'module',\n",
       " 'was',\n",
       " 'removed',\n",
       " 'completely',\n",
       " 'in',\n",
       " 'Python',\n",
       " '2',\n",
       " '5',\n",
       " '']"
      ]
     },
     "execution_count": 196,
     "metadata": {},
     "output_type": "execute_result"
    }
   ],
   "source": [
    "s2 = s\n",
    "for i in [',', '.', '-', '\\n']:\n",
    "    s2 = s2.replace(i, ' ')\n",
    "s2.split(' ')"
   ]
  },
  {
   "cell_type": "code",
   "execution_count": 198,
   "metadata": {
    "collapsed": false
   },
   "outputs": [
    {
     "name": "stdout",
     "output_type": "stream",
     "text": [
      "The re module was added in Python 1 5   and provides Perl style regular expression patterns   Earlier versions of Python came with the regex module   which provided Emacs style patterns   The regex module was removed completely in Python 2 5 \n"
     ]
    },
    {
     "data": {
      "text/plain": [
       "['The',\n",
       " 're',\n",
       " 'module',\n",
       " 'was',\n",
       " 'added',\n",
       " 'in',\n",
       " 'Python',\n",
       " '1',\n",
       " '5',\n",
       " 'and',\n",
       " 'provides',\n",
       " 'Perl',\n",
       " 'style',\n",
       " 'regular',\n",
       " 'expression',\n",
       " 'patterns',\n",
       " 'Earlier',\n",
       " 'versions',\n",
       " 'of',\n",
       " 'Python',\n",
       " 'came',\n",
       " 'with',\n",
       " 'the',\n",
       " 'regex',\n",
       " 'module',\n",
       " 'which',\n",
       " 'provided',\n",
       " 'Emacs',\n",
       " 'style',\n",
       " 'patterns',\n",
       " 'The',\n",
       " 'regex',\n",
       " 'module',\n",
       " 'was',\n",
       " 'removed',\n",
       " 'completely',\n",
       " 'in',\n",
       " 'Python',\n",
       " '2',\n",
       " '5',\n",
       " '']"
      ]
     },
     "execution_count": 198,
     "metadata": {},
     "output_type": "execute_result"
    }
   ],
   "source": [
    "s3 = s\n",
    "s3 = re.sub('[\\n,.-]', ' ', s3)\n",
    "print (s3)\n",
    "re.split(' +', s3) \n",
    "# since there are empty characters in the result,\n",
    "# \\ we split it by one or more blank space"
   ]
  },
  {
   "cell_type": "code",
   "execution_count": 199,
   "metadata": {
    "collapsed": false
   },
   "outputs": [
    {
     "data": {
      "text/plain": [
       "['The',\n",
       " 're',\n",
       " 'module',\n",
       " 'was',\n",
       " 'added',\n",
       " 'in',\n",
       " 'Python',\n",
       " '1',\n",
       " '5',\n",
       " 'and',\n",
       " 'provides',\n",
       " 'Perl',\n",
       " 'style',\n",
       " 'regular',\n",
       " 'expression',\n",
       " 'patterns',\n",
       " 'Earlier',\n",
       " 'versions',\n",
       " 'of',\n",
       " 'Python',\n",
       " 'came',\n",
       " 'with',\n",
       " 'the',\n",
       " 'regex',\n",
       " 'module',\n",
       " 'which',\n",
       " 'provided',\n",
       " 'Emacs',\n",
       " 'style',\n",
       " 'patterns',\n",
       " 'The',\n",
       " 'regex',\n",
       " 'module',\n",
       " 'was',\n",
       " 'removed',\n",
       " 'completely',\n",
       " 'in',\n",
       " 'Python',\n",
       " '2',\n",
       " '5',\n",
       " '']"
      ]
     },
     "execution_count": 199,
     "metadata": {},
     "output_type": "execute_result"
    }
   ],
   "source": [
    "re.split('[\\n ,\\.-]+', s)"
   ]
  },
  {
   "cell_type": "code",
   "execution_count": 202,
   "metadata": {
    "collapsed": false
   },
   "outputs": [
    {
     "data": {
      "text/plain": [
       "['The',\n",
       " 're',\n",
       " 'module',\n",
       " 'was',\n",
       " 'added',\n",
       " 'in',\n",
       " 'Python',\n",
       " 'and',\n",
       " 'provides',\n",
       " 'Perl',\n",
       " 'style',\n",
       " 'regular',\n",
       " 'expression',\n",
       " 'patterns',\n",
       " 'Earlier',\n",
       " 'versions',\n",
       " 'of',\n",
       " 'Python',\n",
       " 'came',\n",
       " 'with',\n",
       " 'the',\n",
       " 'regex',\n",
       " 'module',\n",
       " 'which',\n",
       " 'provided',\n",
       " 'Emacs',\n",
       " 'style',\n",
       " 'patterns',\n",
       " 'The',\n",
       " 'regex',\n",
       " 'module',\n",
       " 'was',\n",
       " 'removed',\n",
       " 'completely',\n",
       " 'in',\n",
       " 'Python']"
      ]
     },
     "execution_count": 202,
     "metadata": {},
     "output_type": "execute_result"
    }
   ],
   "source": [
    "re.findall('[a-zA-Z]+', s) # if you want number too, run re.findall('[a-zA-Z0-9]+', s)"
   ]
  },
  {
   "cell_type": "code",
   "execution_count": 203,
   "metadata": {
    "collapsed": false
   },
   "outputs": [
    {
     "data": {
      "text/plain": [
       "['The',\n",
       " 're',\n",
       " 'module',\n",
       " 'was',\n",
       " 'added',\n",
       " 'in',\n",
       " 'Python',\n",
       " '1',\n",
       " '5',\n",
       " 'and',\n",
       " 'provides',\n",
       " 'Perl',\n",
       " 'style',\n",
       " 'regular',\n",
       " 'expression',\n",
       " 'patterns',\n",
       " 'Earlier',\n",
       " 'versions',\n",
       " 'of',\n",
       " 'Python',\n",
       " 'came',\n",
       " 'with',\n",
       " 'the',\n",
       " 'regex',\n",
       " 'module',\n",
       " 'which',\n",
       " 'provided',\n",
       " 'Emacs',\n",
       " 'style',\n",
       " 'patterns',\n",
       " 'The',\n",
       " 'regex',\n",
       " 'module',\n",
       " 'was',\n",
       " 'removed',\n",
       " 'completely',\n",
       " 'in',\n",
       " 'Python',\n",
       " '2',\n",
       " '5']"
      ]
     },
     "execution_count": 203,
     "metadata": {},
     "output_type": "execute_result"
    }
   ],
   "source": [
    "re.findall('\\w+', s) # same as re.findall(`[a-zA-Z0-9_]+`, s)"
   ]
  },
  {
   "cell_type": "code",
   "execution_count": 205,
   "metadata": {
    "collapsed": false
   },
   "outputs": [
    {
     "data": {
      "text/plain": [
       "['re',\n",
       " 'module',\n",
       " 'was',\n",
       " 'added',\n",
       " 'in',\n",
       " 'and',\n",
       " 'provides',\n",
       " 'style',\n",
       " 'regular',\n",
       " 'expression',\n",
       " 'patterns',\n",
       " 'versions',\n",
       " 'of',\n",
       " 'came',\n",
       " 'with',\n",
       " 'the',\n",
       " 'regex',\n",
       " 'module',\n",
       " 'which',\n",
       " 'provided',\n",
       " 'style',\n",
       " 'patterns',\n",
       " 'regex',\n",
       " 'module',\n",
       " 'was',\n",
       " 'removed',\n",
       " 'completely',\n",
       " 'in']"
      ]
     },
     "execution_count": 205,
     "metadata": {},
     "output_type": "execute_result"
    }
   ],
   "source": [
    "re.findall(r'\\b[a-z]+', s)"
   ]
  },
  {
   "cell_type": "code",
   "execution_count": 206,
   "metadata": {
    "collapsed": true
   },
   "outputs": [],
   "source": [
    "import re\n",
    "def wordCount(x, number=False):\n",
    "    '''\n",
    "    x: string to count\n",
    "    number: whether to count the numbers\n",
    "    '''\n",
    "    ## tolower and find words\n",
    "    x = x.lower()\n",
    "    if number:\n",
    "        word_list = re.findall('\\w+', x)\n",
    "    else:\n",
    "        word_list = re.findall('[a-zA-Z]+', x)\n",
    "    ## count and return\n",
    "    result = {}\n",
    "    for word in word_list:\n",
    "        if word in result.keys():\n",
    "            result[word] += 1\n",
    "        else:\n",
    "            result[word] = 1\n",
    "    return result "
   ]
  },
  {
   "cell_type": "code",
   "execution_count": 207,
   "metadata": {
    "collapsed": false
   },
   "outputs": [
    {
     "data": {
      "text/plain": [
       "{'added': 1,\n",
       " 'and': 1,\n",
       " 'came': 1,\n",
       " 'completely': 1,\n",
       " 'earlier': 1,\n",
       " 'emacs': 1,\n",
       " 'expression': 1,\n",
       " 'in': 2,\n",
       " 'module': 3,\n",
       " 'of': 1,\n",
       " 'patterns': 2,\n",
       " 'perl': 1,\n",
       " 'provided': 1,\n",
       " 'provides': 1,\n",
       " 'python': 3,\n",
       " 're': 1,\n",
       " 'regex': 2,\n",
       " 'regular': 1,\n",
       " 'removed': 1,\n",
       " 'style': 2,\n",
       " 'the': 3,\n",
       " 'versions': 1,\n",
       " 'was': 2,\n",
       " 'which': 1,\n",
       " 'with': 1}"
      ]
     },
     "execution_count": 207,
     "metadata": {},
     "output_type": "execute_result"
    }
   ],
   "source": [
    "wordCount(s)"
   ]
  },
  {
   "cell_type": "code",
   "execution_count": 208,
   "metadata": {
    "collapsed": false
   },
   "outputs": [
    {
     "name": "stdout",
     "output_type": "stream",
     "text": [
      "Does not match!\n",
      "Does not match!\n",
      "Match!\n",
      "Match!\n",
      "Match!\n",
      "Match!\n",
      "Match!\n",
      "Match!\n",
      "Match!\n",
      "Match!\n"
     ]
    }
   ],
   "source": [
    "users = ['a','@#$%','somename9', 'some_name', 'contact', 'some.name', 'some.name', 'some_name', 'some.name.name', 'somme']\n",
    "for i in users:\n",
    "    if re.search('^[a-z0-9]+[_\\.]?[a-z0-9]+', i) != None:\n",
    "        print (\"Match!\")\n",
    "    else:\n",
    "        print (\"Does not match!\")"
   ]
  },
  {
   "cell_type": "code",
   "execution_count": 211,
   "metadata": {
    "collapsed": false
   },
   "outputs": [
    {
     "name": "stdout",
     "output_type": "stream",
     "text": [
      "Match!\n",
      "Match!\n",
      "Match!\n",
      "Match!\n",
      "Match!\n",
      "Match!\n"
     ]
    }
   ],
   "source": [
    "domain = ['gmail.com', 'yahoo.com', 'supstat.com.cn', 'an-email.com', 'an.email.com', 'om']\n",
    "for i in domain:\n",
    "    if re.search('[a-z0-9]+([-\\.]?[a-z]){1,3}$', i) != None:\n",
    "        print (\"Match!\")\n",
    "    else:\n",
    "        print (\"Does not match!\")"
   ]
  },
  {
   "cell_type": "code",
   "execution_count": 213,
   "metadata": {
    "collapsed": true
   },
   "outputs": [],
   "source": [
    "import re\n",
    "def isEmail(x):\n",
    "    x = x.lower() # case insensitive\n",
    "    emailPattern = '^[a-z0-9]+[_\\.]?[a-z0-9]+@[a-z0-9]+([-\\.]?[a-z]+){1,3}$'\n",
    "    result = re.search(emailPattern, x) != None\n",
    "    return result"
   ]
  },
  {
   "cell_type": "code",
   "execution_count": 214,
   "metadata": {
    "collapsed": false
   },
   "outputs": [
    {
     "name": "stdout",
     "output_type": "stream",
     "text": [
      "     some&name9@gmail.com is a valid e-mail address: False\n",
      "      some_name@yahoo.com is a valid e-mail address: True\n",
      "   contact@supstat.com.cn is a valid e-mail address: True\n",
      "  some.n@ame@an-email.com is a valid e-mail address: False\n",
      "   some.name@an.email.com is a valid e-mail address: True\n",
      "        some_name@163.com is a valid e-mail address: True\n"
     ]
    }
   ],
   "source": [
    "emails = ['some&name9@gmail.com', 'some_name@yahoo.com', 'contact@supstat.com.cn',\\\n",
    "          'some.n@ame@an-email.com', 'some.name@an.email.com', 'some_name@163.com']\n",
    "for i in emails:\n",
    "    print ('%25s is a valid e-mail address: %s'%(i, isEmail(i)))"
   ]
  },
  {
   "cell_type": "code",
   "execution_count": 215,
   "metadata": {
    "collapsed": true
   },
   "outputs": [],
   "source": [
    "domainPattern = '@(.*)'\n"
   ]
  },
  {
   "cell_type": "code",
   "execution_count": 216,
   "metadata": {
    "collapsed": false
   },
   "outputs": [
    {
     "data": {
      "text/plain": [
       "['gmail.com']"
      ]
     },
     "execution_count": 216,
     "metadata": {},
     "output_type": "execute_result"
    }
   ],
   "source": [
    "re.findall(domainPattern, 'somename9@gmail.com')"
   ]
  },
  {
   "cell_type": "code",
   "execution_count": 21,
   "metadata": {
    "collapsed": false
   },
   "outputs": [
    {
     "data": {
      "text/plain": [
       "['1', '2', '3']"
      ]
     },
     "execution_count": 21,
     "metadata": {},
     "output_type": "execute_result"
    }
   ],
   "source": [
    "re.findall('[0-9]', '1a2b3c')"
   ]
  },
  {
   "cell_type": "code",
   "execution_count": 218,
   "metadata": {
    "collapsed": false
   },
   "outputs": [
    {
     "data": {
      "text/plain": [
       "'123'"
      ]
     },
     "execution_count": 218,
     "metadata": {},
     "output_type": "execute_result"
    }
   ],
   "source": [
    "re.sub('[^0-9]', '', '1a2b3c')"
   ]
  },
  {
   "cell_type": "code",
   "execution_count": 220,
   "metadata": {
    "collapsed": true
   },
   "outputs": [],
   "source": [
    "import re\n",
    "def domainName(x):\n",
    "    '''\n",
    "    given a e-mail address, return its domain name.\n",
    "    '''\n",
    "    domainPattern = '@(.*)'\n",
    "    if isEmail(x):\n",
    "        return re.findall(domainPattern, x)\n",
    "    else:\n",
    "        raise Exception(\"This e-mail address is invalid!\")\n"
   ]
  },
  {
   "cell_type": "code",
   "execution_count": 221,
   "metadata": {
    "collapsed": false
   },
   "outputs": [
    {
     "name": "stdout",
     "output_type": "stream",
     "text": [
      "The domain name of somename9@gmail.com is: ['gmail.com']\n",
      "The domain name of some_name@yahoo.com is: ['yahoo.com']\n",
      "The domain name of contact@supstat.com.cn is: ['supstat.com.cn']\n",
      "The domain name of some.name@an-email.com is: ['an-email.com']\n",
      "The domain name of some.name@an.email.com is: ['an.email.com']\n",
      "The domain name of some_name@163.com is: ['163.com']\n"
     ]
    }
   ],
   "source": [
    "emails = ['somename9@gmail.com', 'some_name@yahoo.com', 'contact@supstat.com.cn',\\\n",
    "          'some.name@an-email.com', 'some.name@an.email.com', 'some_name@163.com']\n",
    "for i in emails:\n",
    "    print ('The domain name of %s is: %s'%(i, domainName(i)))\n"
   ]
  },
  {
   "cell_type": "code",
   "execution_count": 222,
   "metadata": {
    "collapsed": false
   },
   "outputs": [
    {
     "ename": "Exception",
     "evalue": "This e-mail address is invalid!",
     "output_type": "error",
     "traceback": [
      "\u001b[0;31m---------------------------------------------------------------------------\u001b[0m",
      "\u001b[0;31mException\u001b[0m                                 Traceback (most recent call last)",
      "\u001b[0;32m<ipython-input-222-381db251b053>\u001b[0m in \u001b[0;36m<module>\u001b[0;34m()\u001b[0m\n\u001b[0;32m----> 1\u001b[0;31m \u001b[0mdomainName\u001b[0m\u001b[0;34m(\u001b[0m\u001b[0;34m'notEmail_at.com'\u001b[0m\u001b[0;34m)\u001b[0m\u001b[0;34m\u001b[0m\u001b[0m\n\u001b[0m",
      "\u001b[0;32m<ipython-input-220-fa804ea76029>\u001b[0m in \u001b[0;36mdomainName\u001b[0;34m(x)\u001b[0m\n\u001b[1;32m      8\u001b[0m         \u001b[0;32mreturn\u001b[0m \u001b[0mre\u001b[0m\u001b[0;34m.\u001b[0m\u001b[0mfindall\u001b[0m\u001b[0;34m(\u001b[0m\u001b[0mdomainPattern\u001b[0m\u001b[0;34m,\u001b[0m \u001b[0mx\u001b[0m\u001b[0;34m)\u001b[0m\u001b[0;34m\u001b[0m\u001b[0m\n\u001b[1;32m      9\u001b[0m     \u001b[0;32melse\u001b[0m\u001b[0;34m:\u001b[0m\u001b[0;34m\u001b[0m\u001b[0m\n\u001b[0;32m---> 10\u001b[0;31m         \u001b[0;32mraise\u001b[0m \u001b[0mException\u001b[0m\u001b[0;34m(\u001b[0m\u001b[0;34m\"This e-mail address is invalid!\"\u001b[0m\u001b[0;34m)\u001b[0m\u001b[0;34m\u001b[0m\u001b[0m\n\u001b[0m",
      "\u001b[0;31mException\u001b[0m: This e-mail address is invalid!"
     ]
    }
   ],
   "source": [
    "domainName('notEmail_at.com')"
   ]
  },
  {
   "cell_type": "code",
   "execution_count": null,
   "metadata": {
    "collapsed": false
   },
   "outputs": [],
   "source": [
    "from IPython.core.display import HTML\n",
    "HTML('<iframe src=https://www.python.org/events/python-user-group/ width=800 height=600></iframe>')"
   ]
  },
  {
   "cell_type": "code",
   "execution_count": null,
   "metadata": {
    "collapsed": false
   },
   "outputs": [],
   "source": [
    "#in terminal \n",
    "\n",
    "# Get files\n",
    "curl -O http://ftp.gnu.org/gnu/wget/wget-1.13.4.tar.gz\n",
    "\n",
    "# Extract it\n",
    "tar -xzf wget-1.13.4.tar.gz\n",
    "\n",
    "# Configure wget and install \n",
    "cd wget-1.13.4\n",
    "./configure --with-ssl=openssl\n",
    "make\n",
    "sudo make install"
   ]
  },
  {
   "cell_type": "code",
   "execution_count": 223,
   "metadata": {
    "collapsed": false
   },
   "outputs": [
    {
     "name": "stdout",
     "output_type": "stream",
     "text": [
      "--2017-03-19 17:02:42--  https://www.python.org/events/python-user-group/\n",
      "Resolving www.python.org... 151.101.20.223, 2a04:4e42:5::223\n",
      "Connecting to www.python.org|151.101.20.223|:443... connected.\n",
      "HTTP request sent, awaiting response... 200 OK\n",
      "Length: 36155 (35K) [text/html]\n",
      "Saving to: ‘data/python-event.html’\n",
      "\n",
      "data/python-event.h 100%[===================>]  35.31K  --.-KB/s    in 0.007s  \n",
      "\n",
      "2017-03-19 17:02:42 (5.28 MB/s) - ‘data/python-event.html’ saved [36155/36155]\n",
      "\n"
     ]
    }
   ],
   "source": [
    "!wget https://www.python.org/events/python-user-group/ -O data/python-event.html"
   ]
  },
  {
   "cell_type": "code",
   "execution_count": 224,
   "metadata": {
    "collapsed": false
   },
   "outputs": [
    {
     "name": "stdout",
     "output_type": "stream",
     "text": [
      "<!doctype html>\r\n",
      "<!--[if lt IE 7]>   <html class=\"no-js ie6 lt-ie7 lt-ie8 lt-ie9\">   <![endif]-->\r\n",
      "<!--[if IE 7]>      <html class=\"no-js ie7 lt-ie8 lt-ie9\">          <![endif]-->\r\n",
      "<!--[if IE 8]>      <html class=\"no-js ie8 lt-ie9\">                 <![endif]-->\r\n",
      "<!--[if gt IE 8]><!--><html class=\"no-js\" lang=\"en\" dir=\"ltr\">  <!--<![endif]-->\r\n",
      "\r\n",
      "<head>\r\n",
      "    <meta charset=\"utf-8\">\r\n",
      "    <meta http-equiv=\"X-UA-Compatible\" content=\"IE=edge\">\r\n",
      "\r\n",
      "    <link rel=\"prefetch\" href=\"//ajax.googleapis.com/ajax/libs/jquery/1.8.2/jquery.min.js\">\r\n",
      "\r\n",
      "    <meta name=\"application-name\" content=\"Python.org\">\r\n",
      "    <meta name=\"msapplication-tooltip\" content=\"The official home of the Python Programming Language\">\r\n",
      "    <meta name=\"apple-mobile-web-app-title\" content=\"Python.org\">\r\n",
      "    <meta name=\"apple-mobile-web-app-capable\" content=\"yes\">\r\n",
      "    <meta name=\"apple-mobile-web-app-status-bar-style\" content=\"black\">\r\n",
      "\r\n",
      "    <meta name=\"viewport\" content=\"width=device-width, initial-scale=1.0\">\r\n",
      "    <meta name=\"HandheldFriendly\" content=\"True\">\r\n",
      "    <meta name=\"format-detection\" content=\"telephone=no\">\r\n",
      "    <meta http-equiv=\"cleartype\" content=\"on\">\r\n",
      "    <meta http-equiv=\"imagetoolbar\" content=\"false\">\r\n",
      "\r\n",
      "    <script src=\"/static/js/libs/modernizr.js\"></script>\r\n",
      "\r\n",
      "    <link href=\"/static/stylesheets/style.css\" rel=\"stylesheet\" type=\"text/css\" title=\"default\" />\r\n",
      "    <link href=\"/static/stylesheets/mq.css\" rel=\"stylesheet\" type=\"text/css\" media=\"not print, braille, embossed, speech, tty\" />\r\n",
      "    \r\n",
      "\r\n",
      "    <!--[if (lte IE 8)&(!IEMobile)]>\r\n",
      "    <link href=\"/static/stylesheets/no-mq.css\" rel=\"stylesheet\" type=\"text/css\" media=\"screen\" />\r\n",
      "    \r\n",
      "    \r\n",
      "    <![endif]-->\r\n",
      "\r\n",
      "    \r\n",
      "    <link rel=\"icon\" type=\"image/x-icon\" href=\"/static/favicon.ico\">\r\n",
      "    <link rel=\"apple-touch-icon-precomposed\" sizes=\"144x144\" href=\"/static/apple-touch-icon-144x144-precomposed.png\">\r\n",
      "    <link rel=\"apple-touch-icon-precomposed\" sizes=\"114x114\" href=\"/static/apple-touch-icon-114x114-precomposed.png\">\r\n",
      "    <link rel=\"apple-touch-icon-precomposed\" sizes=\"72x72\" href=\"/static/apple-touch-icon-72x72-precomposed.png\">\r\n",
      "    <link rel=\"apple-touch-icon-precomposed\" href=\"/static/apple-touch-icon-precomposed.png\">\r\n",
      "    <link rel=\"apple-touch-icon\" href=\"/static/apple-touch-icon-precomposed.png\">\r\n",
      "\r\n",
      "    \r\n",
      "    <meta name=\"msapplication-TileImage\" content=\"/static/metro-icon-144x144-precomposed.png\"><!-- white shape -->\r\n",
      "    <meta name=\"msapplication-TileColor\" content=\"#3673a5\"><!-- python blue -->\r\n",
      "    <meta name=\"msapplication-navbutton-color\" content=\"#3673a5\">\r\n",
      "\r\n",
      "    <title>Our Events | Python.org</title>\r\n",
      "\r\n",
      "    <meta name=\"description\" content=\"The official home of the Python Programming Language\">\r\n",
      "    <meta name=\"keywords\" content=\"Python programming language object oriented web free open source software license documentation download community\">\r\n",
      "\r\n",
      "    \r\n",
      "    <meta property=\"og:type\" content=\"website\">\r\n",
      "    <meta property=\"og:site_name\" content=\"Python.org\">\r\n",
      "    <meta property=\"og:title\" content=\"Our Events\">\r\n",
      "    <meta property=\"og:description\" content=\"The official home of the Python Programming Language\">\r\n",
      "    \r\n",
      "    <meta property=\"og:image\" content=\"https://www.python.org/static/opengraph-icon-200x200.png\">\r\n",
      "    <meta property=\"og:image:secure_url\" content=\"https://www.python.org/static/opengraph-icon-200x200.png\">\r\n",
      "    \r\n",
      "    <meta property=\"og:url\" content=\"https://www.python.org/events/python-user-group/\">\r\n",
      "\r\n",
      "    <link rel=\"author\" href=\"/static/humans.txt\">\r\n",
      "\r\n",
      "    \r\n",
      "\r\n",
      "    \r\n",
      "    <script type=\"application/ld+json\">\r\n",
      "     {\r\n",
      "       \"@context\": \"http://schema.org\",\r\n",
      "       \"@type\": \"WebSite\",\r\n",
      "       \"url\": \"https://www.python.org/\",\r\n",
      "       \"potentialAction\": {\r\n",
      "         \"@type\": \"SearchAction\",\r\n",
      "         \"target\": \"https://www.python.org/search/?q={search_term_string}\",\r\n",
      "         \"query-input\": \"required name=search_term_string\"\r\n",
      "       }\r\n",
      "     }\r\n",
      "    </script>\r\n",
      "\r\n",
      "    \r\n",
      "    <script type=\"text/javascript\">\r\n",
      "    var _gaq = _gaq || [];\r\n",
      "    _gaq.push(['_setAccount', 'UA-39055973-1']);\r\n",
      "    _gaq.push(['_trackPageview']);\r\n",
      "\r\n",
      "    (function() {\r\n",
      "        var ga = document.createElement('script'); ga.type = 'text/javascript'; ga.async = true;\r\n",
      "        ga.src = ('https:' == document.location.protocol ? 'https://ssl' : 'http://www') + '.google-analytics.com/ga.js';\r\n",
      "        var s = document.getElementsByTagName('script')[0]; s.parentNode.insertBefore(ga, s);\r\n",
      "    })();\r\n",
      "    </script>\r\n",
      "    \r\n",
      "</head>\r\n",
      "\r\n",
      "<body class=\"python events default-page\">\r\n",
      "\r\n",
      "    <div id=\"touchnav-wrapper\">\r\n",
      "\r\n",
      "        <div id=\"nojs\" class=\"do-not-print\">\r\n",
      "            <p><strong>Notice:</strong> While Javascript is not essential for this website, your interaction with the content will be limited. Please turn Javascript on for the full experience. </p>\r\n",
      "        </div>\r\n",
      "\r\n",
      "        <!--[if lt IE 8]>\r\n",
      "        <div id=\"oldie-warning\" class=\"do-not-print\">\r\n",
      "            <p><strong>Notice:</strong> Your browser is <em>ancient</em> and <a href=\"http://www.ie6countdown.com/\">Microsoft agrees</a>. <a href=\"http://browsehappy.com/\">Upgrade to a different browser</a> or <a href=\"http://www.google.com/chromeframe/?redirect=true\">install Google Chrome Frame</a> to experience a better web.</p>\r\n",
      "        </div>\r\n",
      "        <![endif]-->\r\n",
      "\r\n",
      "        <!-- Sister Site Links -->\r\n",
      "        <div id=\"top\" class=\"top-bar do-not-print\">\r\n",
      "\r\n",
      "            <nav class=\"meta-navigation container\" role=\"navigation\">\r\n",
      "\r\n",
      "                \r\n",
      "                <div class=\"skip-link screen-reader-text\">\r\n",
      "                    <a href=\"#content\" title=\"Skip to content\">Skip to content</a>\r\n",
      "                </div>\r\n",
      "\r\n",
      "                \r\n",
      "                <a id=\"close-python-network\" class=\"jump-link\" href=\"#python-network\" aria-hidden=\"true\">\r\n",
      "                    <span aria-hidden=\"true\" class=\"icon-arrow-down\"><span>&#9660;</span></span> Close\r\n",
      "                </a>\r\n",
      "\r\n",
      "                \r\n",
      "\r\n",
      "<ul class=\"menu\" role=\"tree\">\r\n",
      "    \r\n",
      "    <li class=\"python-meta current_branch selected\">\r\n",
      "        <a href=\"/\" title=\"The Python Programming Language\" class=\"current_branch selected\">Python</a>\r\n",
      "    </li>\r\n",
      "    \r\n",
      "    <li class=\"psf-meta \">\r\n",
      "        <a href=\"/psf-landing/\" title=\"The Python Software Foundation\" >PSF</a>\r\n",
      "    </li>\r\n",
      "    \r\n",
      "    <li class=\"docs-meta \">\r\n",
      "        <a href=\"https://docs.python.org\" title=\"Python Documentation\" >Docs</a>\r\n",
      "    </li>\r\n",
      "    \r\n",
      "    <li class=\"pypi-meta \">\r\n",
      "        <a href=\"https://pypi.python.org/\" title=\"Python Package Index\" >PyPI</a>\r\n",
      "    </li>\r\n",
      "    \r\n",
      "    <li class=\"jobs-meta \">\r\n",
      "        <a href=\"/jobs/\" title=\"Python Job Board\" >Jobs</a>\r\n",
      "    </li>\r\n",
      "    \r\n",
      "    <li class=\"shop-meta \">\r\n",
      "        <a href=\"/community/\" title=\"Python Community\" >Community</a>\r\n",
      "    </li>\r\n",
      "    \r\n",
      "</ul>\r\n",
      "\r\n",
      "\r\n",
      "                <a id=\"python-network\" class=\"jump-link\" href=\"#top\" aria-hidden=\"true\">\r\n",
      "                    <span aria-hidden=\"true\" class=\"icon-arrow-up\"><span>&#9650;</span></span> The Python Network\r\n",
      "                </a>\r\n",
      "\r\n",
      "            </nav>\r\n",
      "\r\n",
      "        </div>\r\n",
      "\r\n",
      "        <!-- Header elements -->\r\n",
      "        <header class=\"main-header\" role=\"banner\">\r\n",
      "            <div class=\"container\">\r\n",
      "\r\n",
      "                <h1 class=\"site-headline\">\r\n",
      "                    <a href=\"/\"><img class=\"python-logo\" src=\"/static/img/python-logo.png\" alt=\"python&trade;\"></a>\r\n",
      "                </h1>\r\n",
      "\r\n",
      "                <div class=\"options-bar do-not-print\">\r\n",
      "\r\n",
      "                    \r\n",
      "                    <a id=\"site-map-link\" class=\"jump-to-menu\" href=\"#site-map\"><span class=\"menu-icon\">&equiv;</span> Menu</a><form class=\"search-the-site\" action=\"/search/\" method=\"get\">\r\n",
      "                        <fieldset title=\"Search Python.org\">\r\n",
      "\r\n",
      "                            <span aria-hidden=\"true\" class=\"icon-search\"></span>\r\n",
      "\r\n",
      "                            <label class=\"screen-reader-text\" for=\"id-search-field\">Search This Site</label>\r\n",
      "                            <input id=\"id-search-field\" name=\"q\" type=\"search\" role=\"textbox\" class=\"search-field\" placeholder=\"Search\" value=\"\" tabindex=\"1\">\r\n",
      "\r\n",
      "                            <button type=\"submit\" name=\"submit\" id=\"submit\" class=\"search-button\" title=\"Submit this Search\" tabindex=\"3\">\r\n",
      "                                GO\r\n",
      "                            </button>\r\n",
      "\r\n",
      "                            \r\n",
      "                            <!--[if IE]><input type=\"text\" style=\"display: none;\" disabled=\"disabled\" size=\"1\" tabindex=\"4\"><![endif]-->\r\n",
      "\r\n",
      "                        </fieldset>\r\n",
      "                    </form><span class=\"breaker\"></span><div class=\"adjust-font-size\" aria-hidden=\"true\">\r\n",
      "                        <ul class=\"navigation menu\" aria-label=\"Adjust Text Size on Page\">\r\n",
      "                            <li class=\"tier-1 last\" aria-haspopup=\"true\">\r\n",
      "                                <a href=\"#\" class=\"action-trigger\"><strong><small>A</small> A</strong></a>\r\n",
      "                                <ul class=\"subnav menu\">\r\n",
      "                                    <li class=\"tier-2 element-1\" role=\"treeitem\"><a class=\"text-shrink\" title=\"Make Text Smaller\" href=\"javascript:;\">Smaller</a></li>\r\n",
      "                                    <li class=\"tier-2 element-2\" role=\"treeitem\"><a class=\"text-grow\" title=\"Make Text Larger\" href=\"javascript:;\">Larger</a></li>\r\n",
      "                                    <li class=\"tier-2 element-3\" role=\"treeitem\"><a class=\"text-reset\" title=\"Reset any font size changes I have made\" href=\"javascript:;\">Reset</a></li>\r\n",
      "                                </ul>\r\n",
      "                            </li>\r\n",
      "                        </ul>\r\n",
      "                    </div><div class=\"winkwink-nudgenudge\">\r\n",
      "                        <ul class=\"navigation menu\" aria-label=\"Social Media Navigation\">\r\n",
      "                            <li class=\"tier-1 last\" aria-haspopup=\"true\">\r\n",
      "                                <a href=\"#\" class=\"action-trigger\">Socialize</a>\r\n",
      "                                <ul class=\"subnav menu\">\r\n",
      "                                    <li class=\"tier-2 element-1\" role=\"treeitem\"><a href=\"http://plus.google.com/+Python\"><span aria-hidden=\"true\" class=\"icon-google-plus\"></span>Google+</a></li>\r\n",
      "                                    <li class=\"tier-2 element-2\" role=\"treeitem\"><a href=\"http://www.facebook.com/pythonlang?fref=ts\"><span aria-hidden=\"true\" class=\"icon-facebook\"></span>Facebook</a></li>\r\n",
      "                                    <li class=\"tier-2 element-3\" role=\"treeitem\"><a href=\"http://twitter.com/ThePSF\"><span aria-hidden=\"true\" class=\"icon-twitter\"></span>Twitter</a></li>\r\n",
      "                                    <li class=\"tier-2 element-4\" role=\"treeitem\"><a href=\"/community/irc/\"><span aria-hidden=\"true\" class=\"icon-freenode\"></span>Chat on IRC</a></li>\r\n",
      "                                </ul>\r\n",
      "                            </li>\r\n",
      "                        </ul>\r\n",
      "                    </div><div class=\"account-signin\">\r\n",
      "                        <ul class=\"navigation menu\" aria-label=\"Social Media Navigation\">\r\n",
      "                            <li class=\"tier-1 last\" aria-haspopup=\"true\">\r\n",
      "                                \r\n",
      "                                <a href=\"/accounts/login/\" title=\"Sign Up or Sign In to Python.org\">Sign In</a>\r\n",
      "                                <ul class=\"subnav menu\">\r\n",
      "                                    <li class=\"tier-2 element-1\" role=\"treeitem\"><a href=\"/accounts/signup/\">Sign Up / Register</a></li>\r\n",
      "                                    <li class=\"tier-2 element-2\" role=\"treeitem\"><a href=\"/accounts/login/\">Sign In</a></li>\r\n",
      "                                </ul>\r\n",
      "                                \r\n",
      "                            </li>\r\n",
      "                        </ul>\r\n",
      "                    </div>\r\n",
      "\r\n",
      "                </div><!-- end options-bar -->\r\n",
      "\r\n",
      "                <nav id=\"mainnav\" class=\"python-navigation main-navigation do-not-print\" role=\"navigation\">\r\n",
      "                    \r\n",
      "                        \r\n",
      "<ul class=\"navigation menu\" role=\"menubar\" aria-label=\"Main Navigation\">\r\n",
      "  \r\n",
      "    \r\n",
      "    \r\n",
      "    <li id=\"about\" class=\"tier-1 element-1  \" aria-haspopup=\"true\">\r\n",
      "        <a href=\"/about/\" title=\"\" class=\"\">About</a>\r\n",
      "        \r\n",
      "            \r\n",
      "\r\n",
      "<ul class=\"subnav menu\" role=\"menu\" aria-hidden=\"true\">\r\n",
      "    \r\n",
      "        <li class=\"tier-2 element-1\" role=\"treeitem\"><a href=\"/about/apps/\" title=\"\">Applications</a></li>\r\n",
      "    \r\n",
      "        <li class=\"tier-2 element-2\" role=\"treeitem\"><a href=\"/about/quotes/\" title=\"\">Quotes</a></li>\r\n",
      "    \r\n",
      "        <li class=\"tier-2 element-3\" role=\"treeitem\"><a href=\"/about/gettingstarted/\" title=\"\">Getting Started</a></li>\r\n",
      "    \r\n",
      "        <li class=\"tier-2 element-4\" role=\"treeitem\"><a href=\"/about/help/\" title=\"\">Help</a></li>\r\n",
      "    \r\n",
      "        <li class=\"tier-2 element-5\" role=\"treeitem\"><a href=\"http://brochure.getpython.info/\" title=\"\">Python Brochure</a></li>\r\n",
      "    \r\n",
      "</ul>\r\n",
      "\r\n",
      "        \r\n",
      "    </li>\r\n",
      "    \r\n",
      "    \r\n",
      "    \r\n",
      "    <li id=\"downloads\" class=\"tier-1 element-2  \" aria-haspopup=\"true\">\r\n",
      "        <a href=\"/downloads/\" title=\"\" class=\"\">Downloads</a>\r\n",
      "        \r\n",
      "            \r\n",
      "\r\n",
      "<ul class=\"subnav menu\" role=\"menu\" aria-hidden=\"true\">\r\n",
      "    \r\n",
      "        <li class=\"tier-2 element-1\" role=\"treeitem\"><a href=\"/downloads/\" title=\"\">All releases</a></li>\r\n",
      "    \r\n",
      "        <li class=\"tier-2 element-2\" role=\"treeitem\"><a href=\"/downloads/source/\" title=\"\">Source code</a></li>\r\n",
      "    \r\n",
      "        <li class=\"tier-2 element-3\" role=\"treeitem\"><a href=\"/downloads/windows/\" title=\"\">Windows</a></li>\r\n",
      "    \r\n",
      "        <li class=\"tier-2 element-4\" role=\"treeitem\"><a href=\"/downloads/mac-osx/\" title=\"\">Mac OS X</a></li>\r\n",
      "    \r\n",
      "        <li class=\"tier-2 element-5\" role=\"treeitem\"><a href=\"/download/other/\" title=\"\">Other Platforms</a></li>\r\n",
      "    \r\n",
      "        <li class=\"tier-2 element-6\" role=\"treeitem\"><a href=\"https://docs.python.org/3/license.html\" title=\"\">License</a></li>\r\n",
      "    \r\n",
      "        <li class=\"tier-2 element-7\" role=\"treeitem\"><a href=\"/download/alternatives\" title=\"\">Alternative Implementations</a></li>\r\n",
      "    \r\n",
      "</ul>\r\n",
      "\r\n",
      "        \r\n",
      "    </li>\r\n",
      "    \r\n",
      "    \r\n",
      "    \r\n",
      "    <li id=\"documentation\" class=\"tier-1 element-3  \" aria-haspopup=\"true\">\r\n",
      "        <a href=\"/doc/\" title=\"\" class=\"\">Documentation</a>\r\n",
      "        \r\n",
      "            \r\n",
      "\r\n",
      "<ul class=\"subnav menu\" role=\"menu\" aria-hidden=\"true\">\r\n",
      "    \r\n",
      "        <li class=\"tier-2 element-1\" role=\"treeitem\"><a href=\"/doc/\" title=\"\">Docs</a></li>\r\n",
      "    \r\n",
      "        <li class=\"tier-2 element-2\" role=\"treeitem\"><a href=\"/doc/av\" title=\"\">Audio/Visual Talks</a></li>\r\n",
      "    \r\n",
      "        <li class=\"tier-2 element-3\" role=\"treeitem\"><a href=\"https://wiki.python.org/moin/BeginnersGuide\" title=\"\">Beginner&#39;s Guide</a></li>\r\n",
      "    \r\n",
      "        <li class=\"tier-2 element-4\" role=\"treeitem\"><a href=\"https://docs.python.org/devguide/\" title=\"\">Developer&#39;s Guide</a></li>\r\n",
      "    \r\n",
      "        <li class=\"tier-2 element-5\" role=\"treeitem\"><a href=\"https://docs.python.org/faq/\" title=\"\">FAQ</a></li>\r\n",
      "    \r\n",
      "        <li class=\"tier-2 element-6\" role=\"treeitem\"><a href=\"http://wiki.python.org/moin/Languages\" title=\"\">Non-English Docs</a></li>\r\n",
      "    \r\n",
      "        <li class=\"tier-2 element-7\" role=\"treeitem\"><a href=\"http://python.org/dev/peps/\" title=\"\">PEP Index</a></li>\r\n",
      "    \r\n",
      "        <li class=\"tier-2 element-8\" role=\"treeitem\"><a href=\"https://wiki.python.org/moin/PythonBooks\" title=\"\">Python Books</a></li>\r\n",
      "    \r\n",
      "</ul>\r\n",
      "\r\n",
      "        \r\n",
      "    </li>\r\n",
      "    \r\n",
      "    \r\n",
      "    \r\n",
      "    <li id=\"community\" class=\"tier-1 element-4  \" aria-haspopup=\"true\">\r\n",
      "        <a href=\"/community/\" title=\"\" class=\"\">Community</a>\r\n",
      "        \r\n",
      "            \r\n",
      "\r\n",
      "<ul class=\"subnav menu\" role=\"menu\" aria-hidden=\"true\">\r\n",
      "    \r\n",
      "        <li class=\"tier-2 element-1\" role=\"treeitem\"><a href=\"/community/diversity/\" title=\"\">Diversity</a></li>\r\n",
      "    \r\n",
      "        <li class=\"tier-2 element-2\" role=\"treeitem\"><a href=\"/community/irc/\" title=\"\">IRC</a></li>\r\n",
      "    \r\n",
      "        <li class=\"tier-2 element-3\" role=\"treeitem\"><a href=\"/community/lists/\" title=\"\">Mailing Lists</a></li>\r\n",
      "    \r\n",
      "        <li class=\"tier-2 element-4\" role=\"treeitem\"><a href=\"/community/workshops/\" title=\"\">Python Conferences</a></li>\r\n",
      "    \r\n",
      "        <li class=\"tier-2 element-5\" role=\"treeitem\"><a href=\"/community/sigs/\" title=\"\">Special Interest Groups</a></li>\r\n",
      "    \r\n",
      "        <li class=\"tier-2 element-6\" role=\"treeitem\"><a href=\"https://wiki.python.org/moin/\" title=\"\">Python Wiki</a></li>\r\n",
      "    \r\n",
      "        <li class=\"tier-2 element-7\" role=\"treeitem\"><a href=\"/community/logos/\" title=\"\">Python Logo</a></li>\r\n",
      "    \r\n",
      "        <li class=\"tier-2 element-8\" role=\"treeitem\"><a href=\"/community/merchandise/\" title=\"\">Merchandise</a></li>\r\n",
      "    \r\n",
      "        <li class=\"tier-2 element-9\" role=\"treeitem\"><a href=\"/community/awards\" title=\"\">Community Awards</a></li>\r\n",
      "    \r\n",
      "</ul>\r\n",
      "\r\n",
      "        \r\n",
      "    </li>\r\n",
      "    \r\n",
      "    \r\n",
      "    \r\n",
      "    <li id=\"success-stories\" class=\"tier-1 element-5  \" aria-haspopup=\"true\">\r\n",
      "        <a href=\"/about/success/\" title=\"success-stories\" class=\"\">Success Stories</a>\r\n",
      "        \r\n",
      "            \r\n",
      "\r\n",
      "<ul class=\"subnav menu\" role=\"menu\" aria-hidden=\"true\">\r\n",
      "    \r\n",
      "        <li class=\"tier-2 element-1\" role=\"treeitem\"><a href=\"/about/success/#arts\" title=\"\">Arts</a></li>\r\n",
      "    \r\n",
      "        <li class=\"tier-2 element-2\" role=\"treeitem\"><a href=\"/about/success/#business\" title=\"\">Business</a></li>\r\n",
      "    \r\n",
      "        <li class=\"tier-2 element-3\" role=\"treeitem\"><a href=\"/about/success/#education\" title=\"\">Education</a></li>\r\n",
      "    \r\n",
      "        <li class=\"tier-2 element-4\" role=\"treeitem\"><a href=\"/about/success/#engineering\" title=\"\">Engineering</a></li>\r\n",
      "    \r\n",
      "        <li class=\"tier-2 element-5\" role=\"treeitem\"><a href=\"/about/success/#government\" title=\"\">Government</a></li>\r\n",
      "    \r\n",
      "        <li class=\"tier-2 element-6\" role=\"treeitem\"><a href=\"/about/success/#scientific\" title=\"\">Scientific</a></li>\r\n",
      "    \r\n",
      "        <li class=\"tier-2 element-7\" role=\"treeitem\"><a href=\"/about/success/#software-development\" title=\"\">Software Development</a></li>\r\n",
      "    \r\n",
      "</ul>\r\n",
      "\r\n",
      "        \r\n",
      "    </li>\r\n",
      "    \r\n",
      "    \r\n",
      "    \r\n",
      "    <li id=\"news\" class=\"tier-1 element-6  \" aria-haspopup=\"true\">\r\n",
      "        <a href=\"/blogs/\" title=\"News from around the Python world\" class=\"\">News</a>\r\n",
      "        \r\n",
      "            \r\n",
      "\r\n",
      "<ul class=\"subnav menu\" role=\"menu\" aria-hidden=\"true\">\r\n",
      "    \r\n",
      "        <li class=\"tier-2 element-1\" role=\"treeitem\"><a href=\"/blogs/\" title=\"Python Insider Blog Posts\">Python News</a></li>\r\n",
      "    \r\n",
      "        <li class=\"tier-2 element-2\" role=\"treeitem\"><a href=\"http://planetpython.org/\" title=\"Planet Python\">Community News</a></li>\r\n",
      "    \r\n",
      "        <li class=\"tier-2 element-3\" role=\"treeitem\"><a href=\"http://pyfound.blogspot.com/\" title=\"PSF Blog\">PSF News</a></li>\r\n",
      "    \r\n",
      "        <li class=\"tier-2 element-4\" role=\"treeitem\"><a href=\"http://pycon.blogspot.com/\" title=\"PyCon Blog\">PyCon News</a></li>\r\n",
      "    \r\n",
      "</ul>\r\n",
      "\r\n",
      "        \r\n",
      "    </li>\r\n",
      "    \r\n",
      "    \r\n",
      "    \r\n",
      "    <li id=\"events\" class=\"tier-1 element-7  \" aria-haspopup=\"true\">\r\n",
      "        <a href=\"/events/\" title=\"\" class=\" selected\">Events</a>\r\n",
      "        \r\n",
      "            \r\n",
      "\r\n",
      "<ul class=\"subnav menu\" role=\"menu\" aria-hidden=\"true\">\r\n",
      "    \r\n",
      "        <li class=\"tier-2 element-1\" role=\"treeitem\"><a href=\"/events/python-events\" title=\"\">Python Events</a></li>\r\n",
      "    \r\n",
      "        <li class=\"tier-2 element-2\" role=\"treeitem\"><a href=\"/events/python-user-group/\" title=\"\">User Group Events</a></li>\r\n",
      "    \r\n",
      "        <li class=\"tier-2 element-3\" role=\"treeitem\"><a href=\"/events/python-events/past/\" title=\"\">Python Events Archive</a></li>\r\n",
      "    \r\n",
      "        <li class=\"tier-2 element-4\" role=\"treeitem\"><a href=\"/events/python-user-group/past/\" title=\"\">User Group Events Archive</a></li>\r\n",
      "    \r\n",
      "        <li class=\"tier-2 element-5\" role=\"treeitem\"><a href=\"https://wiki.python.org/moin/PythonEventsCalendar#Submitting_an_Event\" title=\"\">Submit an Event</a></li>\r\n",
      "    \r\n",
      "</ul>\r\n",
      "\r\n",
      "        \r\n",
      "    </li>\r\n",
      "    \r\n",
      "    \r\n",
      "    \r\n",
      "    \r\n",
      "  \r\n",
      "</ul>\r\n",
      "\r\n",
      "                    \r\n",
      "                </nav>\r\n",
      "\r\n",
      "                <div class=\"header-banner \"> <!-- for optional \"do-not-print\" class -->\r\n",
      "                    \r\n",
      "    \r\n",
      "\r\n",
      "                </div>\r\n",
      "\r\n",
      "                \r\n",
      "                \r\n",
      "\r\n",
      "             </div><!-- end .container -->\r\n",
      "        </header>\r\n",
      "\r\n",
      "        <div id=\"content\" class=\"content-wrapper\">\r\n",
      "            <!-- Main Content Column -->\r\n",
      "            <div class=\"container\">\r\n",
      "\r\n",
      "                <section class=\"main-content with-right-sidebar\" role=\"main\">\r\n",
      "\r\n",
      "                    \r\n",
      "                    \r\n",
      "\r\n",
      "                    \r\n",
      "\r\n",
      "                    \r\n",
      "        \r\n",
      "        \r\n",
      "        <header class=\"article-header\">\r\n",
      "            <h3>from the Python User Group Calendar</h3>\r\n",
      "        </header>\r\n",
      "        \r\n",
      "        \r\n",
      "        <div class=\"most-recent-events\">\r\n",
      "            <div class=\"shrubbery\">\r\n",
      "                <h2 class=\"widget-title\"><span aria-hidden=\"true\" class=\"icon-calendar\"></span>Upcoming Events</h2>\r\n",
      "                \r\n",
      "                <ul class=\"list-recent-events menu\">\r\n",
      "                \r\n",
      "                    <li>\r\n",
      "                        <h3 class=\"event-title\"><a href=\"/events/python-user-group/508/\">Python Porto Meetup</a></h3>\r\n",
      "                        <p>\r\n",
      "                            \r\n",
      "                            \r\n",
      "<time datetime=\"2017-03-24T18:00:00+00:00\">24 March<span class=\"say-no-more\"> 2017</span></time>\r\n",
      "\r\n",
      "                            \r\n",
      "\r\n",
      "                            \r\n",
      "                            <span class=\"event-location\">Porto, Portugal</span>\r\n",
      "                            \r\n",
      "                        </p>\r\n",
      "                    </li>\r\n",
      "                \r\n",
      "                    <li>\r\n",
      "                        <h3 class=\"event-title\"><a href=\"/events/python-user-group/511/\">Django Girls Bucaramanga, Colombia</a></h3>\r\n",
      "                        <p>\r\n",
      "                            \r\n",
      "                            \r\n",
      "<time datetime=\"2017-04-08T00:00:00+00:00\">08 April &ndash; 09 April <span class=\"say-no-more\"> 2017</span></time>\r\n",
      "\r\n",
      "                            \r\n",
      "\r\n",
      "                            \r\n",
      "                            <span class=\"event-location\">Bucaramanga, Colombia</span>\r\n",
      "                            \r\n",
      "                        </p>\r\n",
      "                    </li>\r\n",
      "                \r\n",
      "                    <li>\r\n",
      "                        <h3 class=\"event-title\"><a href=\"/events/python-user-group/512/\">Django Girls São José dos Campos</a></h3>\r\n",
      "                        <p>\r\n",
      "                            \r\n",
      "                            \r\n",
      "<time datetime=\"2017-05-20T00:00:00+00:00\">20 May &ndash; 21 May <span class=\"say-no-more\"> 2017</span></time>\r\n",
      "\r\n",
      "                            \r\n",
      "\r\n",
      "                            \r\n",
      "                            <span class=\"event-location\">São José dos Campos, Brazil</span>\r\n",
      "                            \r\n",
      "                        </p>\r\n",
      "                    </li>\r\n",
      "                \r\n",
      "                    <li>\r\n",
      "                        <h3 class=\"event-title\"><a href=\"/events/python-user-group/515/\">Django Girls Accra</a></h3>\r\n",
      "                        <p>\r\n",
      "                            \r\n",
      "                            \r\n",
      "<time datetime=\"2017-06-16T00:00:00+00:00\">16 June &ndash; 18 June <span class=\"say-no-more\"> 2017</span></time>\r\n",
      "\r\n",
      "                            \r\n",
      "\r\n",
      "                            \r\n",
      "                            <span class=\"event-location\">Accra, Ghana</span>\r\n",
      "                            \r\n",
      "                        </p>\r\n",
      "                    </li>\r\n",
      "                \r\n",
      "                </ul>\r\n",
      "            </div>\r\n",
      "\r\n",
      "            \r\n",
      "            <h3 class=\"widget-title just-missed\">You just missed...</h3>\r\n",
      "            <ul class=\"list-recent-events menu\">\r\n",
      "                \r\n",
      "                <li>\r\n",
      "                    <h3 class=\"event-title\"><a href=\"/events/python-user-group/494/\">Chennaipy</a></h3>\r\n",
      "                    <p>\r\n",
      "                        \r\n",
      "                        \r\n",
      "<time datetime=\"2017-01-28T09:30:00+00:00\">28 Jan.<span class=\"say-no-more\"> 2017</span></time>\r\n",
      "\r\n",
      "                        \r\n",
      "                        \r\n",
      "                        \r\n",
      "                        <span class=\"event-location\">Chennai, Tamil Nadu, India</span>\r\n",
      "                        \r\n",
      "                    </p>\r\n",
      "                </li>\r\n",
      "                \r\n",
      "                <li>\r\n",
      "                    <h3 class=\"event-title\"><a href=\"/events/python-user-group/499/\">Burkina Faso&#39;s Python Users Group (FasoPy)&#39;s launch</a></h3>\r\n",
      "                    <p>\r\n",
      "                        \r\n",
      "                        \r\n",
      "<time datetime=\"2017-01-28T09:00:00+00:00\">28 Jan.<span class=\"say-no-more\"> 2017</span></time>\r\n",
      "\r\n",
      "                        \r\n",
      "                        \r\n",
      "                        \r\n",
      "                        <span class=\"event-location\">ISPP Siège, Ouagadougou, Burkina Faso</span>\r\n",
      "                        \r\n",
      "                    </p>\r\n",
      "                </li>\r\n",
      "                \r\n",
      "            </ul>\r\n",
      "            \r\n",
      "        </div>\r\n",
      "\r\n",
      "\r\n",
      "                </section>\r\n",
      "\r\n",
      "                \r\n",
      "                \r\n",
      "\r\n",
      "                \r\n",
      "    <aside class=\"right-sidebar\" role=\"secondary\">\r\n",
      "        <div class=\"sidebar-widget subscribe-widget\">\r\n",
      "            <h2 class=\"widget-title\">Python Event Subscriptions</h2>\r\n",
      "            <p>Subscribe to Python Event Calendars:</p>\r\n",
      "            <ul class=\"menu\">\r\n",
      "                \r\n",
      "                \r\n",
      "                <li><a href=\"https://www.google.com/calendar/ical/3haig2m9msslkpf2tn1h56nn9g@group.calendar.google.com/public/basic.ics\"><span aria-hidden=\"true\" class=\"icon-ical\"></span>Events in iCal format</a></li>\r\n",
      "                \r\n",
      "            </ul>\r\n",
      "            <h2 class=\"widget-title\">Python Events Calendars</h2>\r",
      "\r\n",
      "\r",
      "\r\n",
      "<br/>\r",
      "\r\n",
      "\r",
      "\r\n",
      "<p>For Python events near you, please have a look at the <a href=\"http://lmorillas.github.io/python_events/\"><b>Python events map</b></a>.</p>\r",
      "\r\n",
      "\r",
      "\r\n",
      "<p>The Python events calendars are maintained by the <a href=\"https://wiki.python.org/moin/PythonEventsCalendar#Python_Calendar_Team\">events calendar team</a>.</p>\r",
      "\r\n",
      "\r",
      "\r\n",
      "<p>Please see the <a href=\"https://wiki.python.org/moin/PythonEventsCalendar\">events calendar project page</a> for details on how to <a href=\"https://wiki.python.org/moin/PythonEventsCalendar#Submitting_an_Event\">submit events</a>, <a href=\"https://wiki.python.org/moin/PythonEventsCalendar#Available_Calendars\">subscribe to the calendars</a>, get <a href=\"https://twitter.com/PythonEvents\">Twitter feeds</a> or embed them.</p>\r",
      "\r\n",
      "\r",
      "\r\n",
      "<p>Thank you.</p>\r",
      "\r\n",
      "\r\n",
      "\r\n",
      "\t    </div>\r\n",
      "        \r\n",
      "        \r\n",
      "        \r\n",
      "        \r\n",
      "        \r\n",
      "    </aside>\r\n",
      "\r\n",
      "\r\n",
      "\r\n",
      "            </div><!-- end .container -->\r\n",
      "        </div><!-- end #content .content-wrapper -->\r\n",
      "\r\n",
      "        <!-- Footer and social media list -->\r\n",
      "        <footer id=\"site-map\" class=\"main-footer\" role=\"contentinfo\">\r\n",
      "            <div class=\"main-footer-links\">\r\n",
      "                <div class=\"container\">\r\n",
      "\r\n",
      "                    \r\n",
      "                    <a id=\"back-to-top-1\" class=\"jump-link\" href=\"#python-network\"><span aria-hidden=\"true\" class=\"icon-arrow-up\"><span>&#9650;</span></span> Back to Top</a>\r\n",
      "\r\n",
      "                    \r\n",
      "\r\n",
      "<ul class=\"sitemap navigation menu do-not-print\" role=\"tree\" id=\"container\">\r\n",
      "    \r\n",
      "    <li class=\"tier-1 element-1\">\r\n",
      "        <a href=\"/about/\" >About</a>\r\n",
      "        \r\n",
      "            \r\n",
      "\r\n",
      "<ul class=\"subnav menu\">\r\n",
      "    \r\n",
      "        <li class=\"tier-2 element-1\" role=\"treeitem\"><a href=\"/about/apps/\" title=\"\">Applications</a></li>\r\n",
      "    \r\n",
      "        <li class=\"tier-2 element-2\" role=\"treeitem\"><a href=\"/about/quotes/\" title=\"\">Quotes</a></li>\r\n",
      "    \r\n",
      "        <li class=\"tier-2 element-3\" role=\"treeitem\"><a href=\"/about/gettingstarted/\" title=\"\">Getting Started</a></li>\r\n",
      "    \r\n",
      "        <li class=\"tier-2 element-4\" role=\"treeitem\"><a href=\"/about/help/\" title=\"\">Help</a></li>\r\n",
      "    \r\n",
      "        <li class=\"tier-2 element-5\" role=\"treeitem\"><a href=\"http://brochure.getpython.info/\" title=\"\">Python Brochure</a></li>\r\n",
      "    \r\n",
      "</ul>\r\n",
      "\r\n",
      "        \r\n",
      "    </li>\r\n",
      "    \r\n",
      "    <li class=\"tier-1 element-2\">\r\n",
      "        <a href=\"/downloads/\" >Downloads</a>\r\n",
      "        \r\n",
      "            \r\n",
      "\r\n",
      "<ul class=\"subnav menu\">\r\n",
      "    \r\n",
      "        <li class=\"tier-2 element-1\" role=\"treeitem\"><a href=\"/downloads/\" title=\"\">All releases</a></li>\r\n",
      "    \r\n",
      "        <li class=\"tier-2 element-2\" role=\"treeitem\"><a href=\"/downloads/source/\" title=\"\">Source code</a></li>\r\n",
      "    \r\n",
      "        <li class=\"tier-2 element-3\" role=\"treeitem\"><a href=\"/downloads/windows/\" title=\"\">Windows</a></li>\r\n",
      "    \r\n",
      "        <li class=\"tier-2 element-4\" role=\"treeitem\"><a href=\"/downloads/mac-osx/\" title=\"\">Mac OS X</a></li>\r\n",
      "    \r\n",
      "        <li class=\"tier-2 element-5\" role=\"treeitem\"><a href=\"/download/other/\" title=\"\">Other Platforms</a></li>\r\n",
      "    \r\n",
      "        <li class=\"tier-2 element-6\" role=\"treeitem\"><a href=\"https://docs.python.org/3/license.html\" title=\"\">License</a></li>\r\n",
      "    \r\n",
      "        <li class=\"tier-2 element-7\" role=\"treeitem\"><a href=\"/download/alternatives\" title=\"\">Alternative Implementations</a></li>\r\n",
      "    \r\n",
      "</ul>\r\n",
      "\r\n",
      "        \r\n",
      "    </li>\r\n",
      "    \r\n",
      "    <li class=\"tier-1 element-3\">\r\n",
      "        <a href=\"/doc/\" >Documentation</a>\r\n",
      "        \r\n",
      "            \r\n",
      "\r\n",
      "<ul class=\"subnav menu\">\r\n",
      "    \r\n",
      "        <li class=\"tier-2 element-1\" role=\"treeitem\"><a href=\"/doc/\" title=\"\">Docs</a></li>\r\n",
      "    \r\n",
      "        <li class=\"tier-2 element-2\" role=\"treeitem\"><a href=\"/doc/av\" title=\"\">Audio/Visual Talks</a></li>\r\n",
      "    \r\n",
      "        <li class=\"tier-2 element-3\" role=\"treeitem\"><a href=\"https://wiki.python.org/moin/BeginnersGuide\" title=\"\">Beginner&#39;s Guide</a></li>\r\n",
      "    \r\n",
      "        <li class=\"tier-2 element-4\" role=\"treeitem\"><a href=\"https://docs.python.org/devguide/\" title=\"\">Developer&#39;s Guide</a></li>\r\n",
      "    \r\n",
      "        <li class=\"tier-2 element-5\" role=\"treeitem\"><a href=\"https://docs.python.org/faq/\" title=\"\">FAQ</a></li>\r\n",
      "    \r\n",
      "        <li class=\"tier-2 element-6\" role=\"treeitem\"><a href=\"http://wiki.python.org/moin/Languages\" title=\"\">Non-English Docs</a></li>\r\n",
      "    \r\n",
      "        <li class=\"tier-2 element-7\" role=\"treeitem\"><a href=\"http://python.org/dev/peps/\" title=\"\">PEP Index</a></li>\r\n",
      "    \r\n",
      "        <li class=\"tier-2 element-8\" role=\"treeitem\"><a href=\"https://wiki.python.org/moin/PythonBooks\" title=\"\">Python Books</a></li>\r\n",
      "    \r\n",
      "</ul>\r\n",
      "\r\n",
      "        \r\n",
      "    </li>\r\n",
      "    \r\n",
      "    <li class=\"tier-1 element-4\">\r\n",
      "        <a href=\"/community/\" >Community</a>\r\n",
      "        \r\n",
      "            \r\n",
      "\r\n",
      "<ul class=\"subnav menu\">\r\n",
      "    \r\n",
      "        <li class=\"tier-2 element-1\" role=\"treeitem\"><a href=\"/community/diversity/\" title=\"\">Diversity</a></li>\r\n",
      "    \r\n",
      "        <li class=\"tier-2 element-2\" role=\"treeitem\"><a href=\"/community/irc/\" title=\"\">IRC</a></li>\r\n",
      "    \r\n",
      "        <li class=\"tier-2 element-3\" role=\"treeitem\"><a href=\"/community/lists/\" title=\"\">Mailing Lists</a></li>\r\n",
      "    \r\n",
      "        <li class=\"tier-2 element-4\" role=\"treeitem\"><a href=\"/community/workshops/\" title=\"\">Python Conferences</a></li>\r\n",
      "    \r\n",
      "        <li class=\"tier-2 element-5\" role=\"treeitem\"><a href=\"/community/sigs/\" title=\"\">Special Interest Groups</a></li>\r\n",
      "    \r\n",
      "        <li class=\"tier-2 element-6\" role=\"treeitem\"><a href=\"https://wiki.python.org/moin/\" title=\"\">Python Wiki</a></li>\r\n",
      "    \r\n",
      "        <li class=\"tier-2 element-7\" role=\"treeitem\"><a href=\"/community/logos/\" title=\"\">Python Logo</a></li>\r\n",
      "    \r\n",
      "        <li class=\"tier-2 element-8\" role=\"treeitem\"><a href=\"/community/merchandise/\" title=\"\">Merchandise</a></li>\r\n",
      "    \r\n",
      "        <li class=\"tier-2 element-9\" role=\"treeitem\"><a href=\"/community/awards\" title=\"\">Community Awards</a></li>\r\n",
      "    \r\n",
      "</ul>\r\n",
      "\r\n",
      "        \r\n",
      "    </li>\r\n",
      "    \r\n",
      "    <li class=\"tier-1 element-5\">\r\n",
      "        <a href=\"/about/success/\" title=\"success-stories\">Success Stories</a>\r\n",
      "        \r\n",
      "            \r\n",
      "\r\n",
      "<ul class=\"subnav menu\">\r\n",
      "    \r\n",
      "        <li class=\"tier-2 element-1\" role=\"treeitem\"><a href=\"/about/success/#arts\" title=\"\">Arts</a></li>\r\n",
      "    \r\n",
      "        <li class=\"tier-2 element-2\" role=\"treeitem\"><a href=\"/about/success/#business\" title=\"\">Business</a></li>\r\n",
      "    \r\n",
      "        <li class=\"tier-2 element-3\" role=\"treeitem\"><a href=\"/about/success/#education\" title=\"\">Education</a></li>\r\n",
      "    \r\n",
      "        <li class=\"tier-2 element-4\" role=\"treeitem\"><a href=\"/about/success/#engineering\" title=\"\">Engineering</a></li>\r\n",
      "    \r\n",
      "        <li class=\"tier-2 element-5\" role=\"treeitem\"><a href=\"/about/success/#government\" title=\"\">Government</a></li>\r\n",
      "    \r\n",
      "        <li class=\"tier-2 element-6\" role=\"treeitem\"><a href=\"/about/success/#scientific\" title=\"\">Scientific</a></li>\r\n",
      "    \r\n",
      "        <li class=\"tier-2 element-7\" role=\"treeitem\"><a href=\"/about/success/#software-development\" title=\"\">Software Development</a></li>\r\n",
      "    \r\n",
      "</ul>\r\n",
      "\r\n",
      "        \r\n",
      "    </li>\r\n",
      "    \r\n",
      "    <li class=\"tier-1 element-6\">\r\n",
      "        <a href=\"/blogs/\" title=\"News from around the Python world\">News</a>\r\n",
      "        \r\n",
      "            \r\n",
      "\r\n",
      "<ul class=\"subnav menu\">\r\n",
      "    \r\n",
      "        <li class=\"tier-2 element-1\" role=\"treeitem\"><a href=\"/blogs/\" title=\"Python Insider Blog Posts\">Python News</a></li>\r\n",
      "    \r\n",
      "        <li class=\"tier-2 element-2\" role=\"treeitem\"><a href=\"http://planetpython.org/\" title=\"Planet Python\">Community News</a></li>\r\n",
      "    \r\n",
      "        <li class=\"tier-2 element-3\" role=\"treeitem\"><a href=\"http://pyfound.blogspot.com/\" title=\"PSF Blog\">PSF News</a></li>\r\n",
      "    \r\n",
      "        <li class=\"tier-2 element-4\" role=\"treeitem\"><a href=\"http://pycon.blogspot.com/\" title=\"PyCon Blog\">PyCon News</a></li>\r\n",
      "    \r\n",
      "</ul>\r\n",
      "\r\n",
      "        \r\n",
      "    </li>\r\n",
      "    \r\n",
      "    <li class=\"tier-1 element-7\">\r\n",
      "        <a href=\"/events/\" >Events</a>\r\n",
      "        \r\n",
      "            \r\n",
      "\r\n",
      "<ul class=\"subnav menu\">\r\n",
      "    \r\n",
      "        <li class=\"tier-2 element-1\" role=\"treeitem\"><a href=\"/events/python-events\" title=\"\">Python Events</a></li>\r\n",
      "    \r\n",
      "        <li class=\"tier-2 element-2\" role=\"treeitem\"><a href=\"/events/python-user-group/\" title=\"\">User Group Events</a></li>\r\n",
      "    \r\n",
      "        <li class=\"tier-2 element-3\" role=\"treeitem\"><a href=\"/events/python-events/past/\" title=\"\">Python Events Archive</a></li>\r\n",
      "    \r\n",
      "        <li class=\"tier-2 element-4\" role=\"treeitem\"><a href=\"/events/python-user-group/past/\" title=\"\">User Group Events Archive</a></li>\r\n",
      "    \r\n",
      "        <li class=\"tier-2 element-5\" role=\"treeitem\"><a href=\"https://wiki.python.org/moin/PythonEventsCalendar#Submitting_an_Event\" title=\"\">Submit an Event</a></li>\r\n",
      "    \r\n",
      "</ul>\r\n",
      "\r\n",
      "        \r\n",
      "    </li>\r\n",
      "    \r\n",
      "    <li class=\"tier-1 element-8\">\r\n",
      "        <a href=\"/dev/\" >Contributing</a>\r\n",
      "        \r\n",
      "            \r\n",
      "\r\n",
      "<ul class=\"subnav menu\">\r",
      "\r\n",
      "    \r\n",
      "        <li class=\"tier-2 element-1\" role=\"treeitem\"><a href=\"http://docs.python.org/devguide/\" title=\"\">Developer&#39;s Guide</a></li>\r\n",
      "    \r\n",
      "        <li class=\"tier-2 element-2\" role=\"treeitem\"><a href=\"http://bugs.python.org/\" title=\"\">Issue Tracker</a></li>\r\n",
      "    \r\n",
      "        <li class=\"tier-2 element-3\" role=\"treeitem\"><a href=\"https://mail.python.org/mailman/listinfo/python-dev\" title=\"\">python-dev list</a></li>\r\n",
      "    \r\n",
      "        <li class=\"tier-2 element-4\" role=\"treeitem\"><a href=\"/dev/core-mentorship/\" title=\"\">Core Mentorship</a></li>\r\n",
      "    \r\n",
      "</ul>\r\n",
      "\r\n",
      "        \r\n",
      "    </li>\r\n",
      "    \r\n",
      "</ul>\r\n",
      "\r\n",
      "\r\n",
      "                    <a id=\"back-to-top-2\" class=\"jump-link\" href=\"#python-network\"><span aria-hidden=\"true\" class=\"icon-arrow-up\"><span>&#9650;</span></span> Back to Top</a>\r\n",
      "                    \r\n",
      "\r\n",
      "                </div><!-- end .container -->\r\n",
      "            </div> <!-- end .main-footer-links -->\r\n",
      "\r\n",
      "            <div class=\"site-base\">\r\n",
      "                <div class=\"container\">\r\n",
      "                    \r\n",
      "                    <ul class=\"footer-links navigation menu do-not-print\" role=\"tree\">\r\n",
      "                        <li class=\"tier-1 element-1\"><a href=\"/about/help/\">Help &amp; <span class=\"say-no-more\">General</span> Contact</a></li>\r\n",
      "                        <li class=\"tier-1 element-2\"><a href=\"/community/diversity/\">Diversity <span class=\"say-no-more\">Initiatives</span></a></li>\r\n",
      "                        <li class=\"tier-1 element-3\"><a href=\"https://github.com/python/pythondotorg/issues\">Submit Website Bug</a></li>\r\n",
      "                        <li class=\"tier-1 element-4\">\r\n",
      "                            <a href=\"https://status.python.org/\">Status <span class=\"python-status-indicator-default\" id=\"python-status-indicator\"></span></a>\r\n",
      "                        </li>\r\n",
      "                    </ul>\r\n",
      "\r\n",
      "                    <div class=\"copyright\">\r\n",
      "                        <p><small>\r\n",
      "                            <span class=\"pre\">Copyright &copy;2001-2017.</span>\r\n",
      "                            &nbsp;<span class=\"pre\"><a href=\"/psf-landing/\">Python Software Foundation</a></span>\r\n",
      "                            &nbsp;<span class=\"pre\"><a href=\"/about/legal/\">Legal Statements</a></span>\r\n",
      "                            &nbsp;<span class=\"pre\"><a href=\"/privacy/\">Privacy Policy</a></span>\r\n",
      "                        </small></p>\r\n",
      "                    </div>\r\n",
      "\r\n",
      "                </div><!-- end .container -->\r\n",
      "            </div><!-- end .site-base -->\r\n",
      "\r\n",
      "        </footer>\r\n",
      "\r\n",
      "    </div><!-- end #touchnav-wrapper -->\r\n",
      "\r\n",
      "    \r\n",
      "    <script src=\"//ajax.googleapis.com/ajax/libs/jquery/1.8.2/jquery.min.js\"></script>\r\n",
      "    <script>window.jQuery || document.write('<script src=\"/static/js/libs/jquery-1.8.2.min.js\"><\\/script>')</script>\r\n",
      "\r\n",
      "    <script src=\"/static/js/libs/masonry.pkgd.min.js\"></script>\r\n",
      "\r\n",
      "    <script type=\"text/javascript\" src=\"/static/js/main-min.js\" charset=\"utf-8\"></script>\r\n",
      "    \r\n",
      "\r\n",
      "    <!--[if lte IE 7]>\r\n",
      "    <script type=\"text/javascript\" src=\"/static/js/plugins/IE8-min.js\" charset=\"utf-8\"></script>\r\n",
      "    \r\n",
      "    \r\n",
      "    <![endif]-->\r\n",
      "\r\n",
      "    <!--[if lte IE 8]>\r\n",
      "    <script type=\"text/javascript\" src=\"/static/js/plugins/getComputedStyle-min.js\" charset=\"utf-8\"></script>\r\n",
      "    \r\n",
      "    \r\n",
      "    <![endif]-->\r\n",
      "\r\n",
      "    \r\n",
      "\r\n",
      "    \r\n",
      "    \r\n",
      "\r\n",
      "</body>\r\n",
      "</html>\r\n"
     ]
    }
   ],
   "source": [
    "!cat data/python-event.html"
   ]
  },
  {
   "cell_type": "code",
   "execution_count": 225,
   "metadata": {
    "collapsed": false
   },
   "outputs": [
    {
     "name": "stdout",
     "output_type": "stream",
     "text": [
      "[('20 Jan.', ' 2015', ' 5pm UTC \\xe2\\x80\\x93 7pm UTC')]\n"
     ]
    }
   ],
   "source": [
    "import re \n",
    "timePattern = '<time datetime=\"[\\w:+-]+\">(.+)<span class=\"say-no-more\">([\\d ]+)</span>(.*)</time>'\n",
    "raw_time = '<time datetime=\"2015-01-20T17:00:00+00:00\">20 Jan.<span class=\"say-no-more\"> 2015</span> 5pm UTC – 7pm UTC</time>'\n",
    "time = re.findall(timePattern, raw_time)\n",
    "print (time)"
   ]
  },
  {
   "cell_type": "code",
   "execution_count": 226,
   "metadata": {
    "collapsed": false
   },
   "outputs": [
    {
     "name": "stdout",
     "output_type": "stream",
     "text": [
      "['B\\xc3\\xbcrgerhaus im Stadtteilzentrum Bilk, Raum 1, 2. OG, Bachstr. 145, 40217 D\\xc3\\xbcsseldorf, Germany']\n"
     ]
    }
   ],
   "source": [
    "raw_location = '<span class=\"event-location\">Bürgerhaus im Stadtteilzentrum Bilk, Raum 1, 2. OG, Bachstr. 145, 40217 Düsseldorf, Germany</span>'\n",
    "locationPattern = '<span class=\"event-location\">(.*)</span>'\n",
    "location = re.findall(locationPattern, raw_location)\n",
    "print (location)"
   ]
  },
  {
   "cell_type": "code",
   "execution_count": 227,
   "metadata": {
    "collapsed": false
   },
   "outputs": [
    {
     "name": "stdout",
     "output_type": "stream",
     "text": [
      "Bürgerhaus im Stadtteilzentrum Bilk, Raum 1, 2. OG, Bachstr. 145, 40217 Düsseldorf, Germany\n"
     ]
    }
   ],
   "source": [
    "print (location[0])"
   ]
  },
  {
   "cell_type": "code",
   "execution_count": 228,
   "metadata": {
    "collapsed": false
   },
   "outputs": [
    {
     "name": "stdout",
     "output_type": "stream",
     "text": [
      "['Cape Town Python User Group (CTPUG) Meeting']\n"
     ]
    }
   ],
   "source": [
    "raw_title = '<h3 class=\"event-title\"><a href=\"/events/python-user-group/264/\">Cape Town Python User Group (CTPUG) Meeting</a></h3>'\n",
    "titlePattern = '<h3 class=\"event-title\"><a href=\".+\">(.*)</a></h3>'\n",
    "title = re.findall(titlePattern, raw_title)\n",
    "print (title)"
   ]
  },
  {
   "cell_type": "code",
   "execution_count": 229,
   "metadata": {
    "collapsed": true
   },
   "outputs": [],
   "source": [
    "f= open('data/python-event.html')\n",
    "event = f.read()"
   ]
  },
  {
   "cell_type": "code",
   "execution_count": 230,
   "metadata": {
    "collapsed": false
   },
   "outputs": [
    {
     "name": "stdout",
     "output_type": "stream",
     "text": [
      "24 March 2017\n",
      "08 April &ndash; 09 April  2017\n",
      "20 May &ndash; 21 May  2017\n",
      "16 June &ndash; 18 June  2017\n",
      "28 Jan. 2017\n",
      "28 Jan. 2017\n"
     ]
    }
   ],
   "source": [
    "timePattern = '<time datetime=\"[\\w:+-]+\">(.+)<span class=\"say-no-more\">([\\d ]+)</span>(.*)</time>'\n",
    "time = re.findall(timePattern, event)\n",
    "for i in time:\n",
    "    print (''.join(i))"
   ]
  },
  {
   "cell_type": "code",
   "execution_count": 231,
   "metadata": {
    "collapsed": false
   },
   "outputs": [
    {
     "name": "stdout",
     "output_type": "stream",
     "text": [
      "Porto, Portugal\n",
      "Bucaramanga, Colombia\n",
      "São José dos Campos, Brazil\n",
      "Accra, Ghana\n",
      "Chennai, Tamil Nadu, India\n",
      "ISPP Siège, Ouagadougou, Burkina Faso\n"
     ]
    }
   ],
   "source": [
    "locationPattern = '<span class=\"event-location\">(.*)</span>'\n",
    "location = re.findall(locationPattern, event)\n",
    "for i in location:\n",
    "    print (i)"
   ]
  },
  {
   "cell_type": "code",
   "execution_count": 232,
   "metadata": {
    "collapsed": false
   },
   "outputs": [
    {
     "name": "stdout",
     "output_type": "stream",
     "text": [
      "Python Porto Meetup\n",
      "Django Girls Bucaramanga, Colombia\n",
      "Django Girls São José dos Campos\n",
      "Django Girls Accra\n",
      "Chennaipy\n",
      "Burkina Faso&#39;s Python Users Group (FasoPy)&#39;s launch\n"
     ]
    }
   ],
   "source": [
    "titlePattern = '<h3 class=\"event-title\"><a href=\".+\">(.*)</a></h3>'\n",
    "title = re.findall(titlePattern, event)\n",
    "for i in title:\n",
    "    print (i)"
   ]
  },
  {
   "cell_type": "code",
   "execution_count": 233,
   "metadata": {
    "collapsed": true
   },
   "outputs": [],
   "source": [
    "import datetime\n",
    "class event(object):\n",
    "    def __init__(self, title, time, location):\n",
    "        self.title = title\n",
    "        self.time = time\n",
    "        self.location = location\n",
    "    \n",
    "    def day(self):\n",
    "        try:\n",
    "            day = re.findall('\\w+', self.time)[:3]\n",
    "            day = ' '.join(day)\n",
    "            try: \n",
    "                return datetime.datetime.strptime(day, \"%d %b %Y\")\n",
    "            except ValueError:\n",
    "                return datetime.datetime.strptime(day, \"%d %B %Y\")\n",
    "        except ValueError:\n",
    "            return self.time\n",
    "    \n",
    "    def status(self):\n",
    "        if isinstance(self.day(), datetime.datetime):\n",
    "            now = datetime.datetime.now()\n",
    "            if now < self.day():\n",
    "                return 'Upcoming'\n",
    "            elif now - self.day() < datetime.timedelta(days=1):\n",
    "                return 'Today'\n",
    "            else:\n",
    "                return 'Missed'\n",
    "        else:\n",
    "            return 'Unknown'\n",
    "        \n",
    "    def __str__(self):\n",
    "        return self.status() + ' Event: %s' %self.title"
   ]
  },
  {
   "cell_type": "code",
   "execution_count": 234,
   "metadata": {
    "collapsed": false
   },
   "outputs": [
    {
     "name": "stdout",
     "output_type": "stream",
     "text": [
      "2015-01-20 00:00:00\n",
      "Missed Event: Python Meeting Düsseldorf\n"
     ]
    }
   ],
   "source": [
    "event1 = event('Python Meeting Düsseldorf', '20 Jan. 2015 5pm UTC – 7pm UTC', \\\n",
    "          'Bürgerhaus im Stadtteilzentrum Bilk, Raum 1, 2. OG, Bachstr. 145, 40217 Düsseldorf, Germany')\n",
    "print (event1.day())\n",
    "print (event1)"
   ]
  },
  {
   "cell_type": "code",
   "execution_count": 235,
   "metadata": {
    "collapsed": false
   },
   "outputs": [
    {
     "name": "stdout",
     "output_type": "stream",
     "text": [
      "['20', 'Jan', '2015', '5pm', 'UTC', '7pm', 'UTC']\n"
     ]
    }
   ],
   "source": [
    "raw_time = '20 Jan. 2015 5pm UTC – 7pm UTC'\n",
    "day = re.findall('\\w+', raw_time)\n",
    "print (day)"
   ]
  },
  {
   "cell_type": "code",
   "execution_count": 236,
   "metadata": {
    "collapsed": false
   },
   "outputs": [
    {
     "data": {
      "text/plain": [
       "'20 Jan 2015'"
      ]
     },
     "execution_count": 236,
     "metadata": {},
     "output_type": "execute_result"
    }
   ],
   "source": [
    "day = ' '.join(day[:3])\n",
    "day"
   ]
  },
  {
   "cell_type": "code",
   "execution_count": 237,
   "metadata": {
    "collapsed": false
   },
   "outputs": [
    {
     "name": "stdout",
     "output_type": "stream",
     "text": [
      "2015-01-20 00:00:00\n",
      "<type 'datetime.datetime'>\n"
     ]
    }
   ],
   "source": [
    "import datetime\n",
    "day= datetime.datetime.strptime(day, \"%d %b %Y\")\n",
    "print( day)\n",
    "print (type(day))"
   ]
  },
  {
   "cell_type": "code",
   "execution_count": 239,
   "metadata": {
    "collapsed": false
   },
   "outputs": [
    {
     "name": "stdout",
     "output_type": "stream",
     "text": [
      "2017-03-19 17:10:17.277307\n"
     ]
    }
   ],
   "source": [
    "print (datetime.datetime.now())"
   ]
  },
  {
   "cell_type": "code",
   "execution_count": 240,
   "metadata": {
    "collapsed": false
   },
   "outputs": [
    {
     "data": {
      "text/plain": [
       "u'<!doctype html>\\n<!--[if lt IE 7]>   <html class=\"no-js ie6 lt-ie7 lt-ie8 lt-ie9\">   <![endif]-->\\n<!--[if IE 7]>      <html class=\"no-js ie7 lt-ie8 lt-ie9\">          <![endif]-->\\n<!--[if IE 8]>      <html class=\"no-js ie8 lt-ie9\">                 <![endif]-->\\n<!--[if gt IE 8]><!--><html class=\"no-js\" lang=\"en\" dir=\"ltr\">  <!--<![endif]-->\\n\\n<head>\\n    <meta charset=\"utf-8\">\\n    <meta http-equiv=\"X-UA-Compatible\" content=\"IE=edge\">\\n\\n    <link rel=\"prefetch\" href=\"//ajax.googleapis.com/ajax/libs/jquery/1.8.2/jquery.min.js\">\\n\\n    <meta name=\"application-name\" content=\"Python.org\">\\n    <meta name=\"msapplication-tooltip\" content=\"The official home of the Python Programming Language\">\\n    <meta name=\"apple-mobile-web-app-title\" content=\"Python.org\">\\n    <meta name=\"apple-mobile-web-app-capable\" content=\"yes\">\\n    <meta name=\"apple-mobile-web-app-status-bar-style\" content=\"black\">\\n\\n    <meta name=\"viewport\" content=\"width=device-width, initial-scale=1.0\">\\n    <meta name=\"HandheldFriendly\" content=\"True\">\\n    <meta name=\"format-detection\" content=\"telephone=no\">\\n    <meta http-equiv=\"cleartype\" content=\"on\">\\n    <meta http-equiv=\"imagetoolbar\" content=\"false\">\\n\\n    <script src=\"/static/js/libs/modernizr.js\"></script>\\n\\n    <link href=\"/static/stylesheets/style.css\" rel=\"stylesheet\" type=\"text/css\" title=\"default\" />\\n    <link href=\"/static/stylesheets/mq.css\" rel=\"stylesheet\" type=\"text/css\" media=\"not print, braille, embossed, speech, tty\" />\\n    \\n\\n    <!--[if (lte IE 8)&(!IEMobile)]>\\n    <link href=\"/static/stylesheets/no-mq.css\" rel=\"stylesheet\" type=\"text/css\" media=\"screen\" />\\n    \\n    \\n    <![endif]-->\\n\\n    \\n    <link rel=\"icon\" type=\"image/x-icon\" href=\"/static/favicon.ico\">\\n    <link rel=\"apple-touch-icon-precomposed\" sizes=\"144x144\" href=\"/static/apple-touch-icon-144x144-precomposed.png\">\\n    <link rel=\"apple-touch-icon-precomposed\" sizes=\"114x114\" href=\"/static/apple-touch-icon-114x114-precomposed.png\">\\n    <link rel=\"apple-touch-icon-precomposed\" sizes=\"72x72\" href=\"/static/apple-touch-icon-72x72-precomposed.png\">\\n    <link rel=\"apple-touch-icon-precomposed\" href=\"/static/apple-touch-icon-precomposed.png\">\\n    <link rel=\"apple-touch-icon\" href=\"/static/apple-touch-icon-precomposed.png\">\\n\\n    \\n    <meta name=\"msapplication-TileImage\" content=\"/static/metro-icon-144x144-precomposed.png\"><!-- white shape -->\\n    <meta name=\"msapplication-TileColor\" content=\"#3673a5\"><!-- python blue -->\\n    <meta name=\"msapplication-navbutton-color\" content=\"#3673a5\">\\n\\n    <title>Our Events | Python.org</title>\\n\\n    <meta name=\"description\" content=\"The official home of the Python Programming Language\">\\n    <meta name=\"keywords\" content=\"Python programming language object oriented web free open source software license documentation download community\">\\n\\n    \\n    <meta property=\"og:type\" content=\"website\">\\n    <meta property=\"og:site_name\" content=\"Python.org\">\\n    <meta property=\"og:title\" content=\"Our Events\">\\n    <meta property=\"og:description\" content=\"The official home of the Python Programming Language\">\\n    \\n    <meta property=\"og:image\" content=\"https://www.python.org/static/opengraph-icon-200x200.png\">\\n    <meta property=\"og:image:secure_url\" content=\"https://www.python.org/static/opengraph-icon-200x200.png\">\\n    \\n    <meta property=\"og:url\" content=\"https://www.python.org/events/python-user-group/\">\\n\\n    <link rel=\"author\" href=\"/static/humans.txt\">\\n\\n    \\n\\n    \\n    <script type=\"application/ld+json\">\\n     {\\n       \"@context\": \"http://schema.org\",\\n       \"@type\": \"WebSite\",\\n       \"url\": \"https://www.python.org/\",\\n       \"potentialAction\": {\\n         \"@type\": \"SearchAction\",\\n         \"target\": \"https://www.python.org/search/?q={search_term_string}\",\\n         \"query-input\": \"required name=search_term_string\"\\n       }\\n     }\\n    </script>\\n\\n    \\n    <script type=\"text/javascript\">\\n    var _gaq = _gaq || [];\\n    _gaq.push([\\'_setAccount\\', \\'UA-39055973-1\\']);\\n    _gaq.push([\\'_trackPageview\\']);\\n\\n    (function() {\\n        var ga = document.createElement(\\'script\\'); ga.type = \\'text/javascript\\'; ga.async = true;\\n        ga.src = (\\'https:\\' == document.location.protocol ? \\'https://ssl\\' : \\'http://www\\') + \\'.google-analytics.com/ga.js\\';\\n        var s = document.getElementsByTagName(\\'script\\')[0]; s.parentNode.insertBefore(ga, s);\\n    })();\\n    </script>\\n    \\n</head>\\n\\n<body class=\"python events default-page\">\\n\\n    <div id=\"touchnav-wrapper\">\\n\\n        <div id=\"nojs\" class=\"do-not-print\">\\n            <p><strong>Notice:</strong> While Javascript is not essential for this website, your interaction with the content will be limited. Please turn Javascript on for the full experience. </p>\\n        </div>\\n\\n        <!--[if lt IE 8]>\\n        <div id=\"oldie-warning\" class=\"do-not-print\">\\n            <p><strong>Notice:</strong> Your browser is <em>ancient</em> and <a href=\"http://www.ie6countdown.com/\">Microsoft agrees</a>. <a href=\"http://browsehappy.com/\">Upgrade to a different browser</a> or <a href=\"http://www.google.com/chromeframe/?redirect=true\">install Google Chrome Frame</a> to experience a better web.</p>\\n        </div>\\n        <![endif]-->\\n\\n        <!-- Sister Site Links -->\\n        <div id=\"top\" class=\"top-bar do-not-print\">\\n\\n            <nav class=\"meta-navigation container\" role=\"navigation\">\\n\\n                \\n                <div class=\"skip-link screen-reader-text\">\\n                    <a href=\"#content\" title=\"Skip to content\">Skip to content</a>\\n                </div>\\n\\n                \\n                <a id=\"close-python-network\" class=\"jump-link\" href=\"#python-network\" aria-hidden=\"true\">\\n                    <span aria-hidden=\"true\" class=\"icon-arrow-down\"><span>&#9660;</span></span> Close\\n                </a>\\n\\n                \\n\\n<ul class=\"menu\" role=\"tree\">\\n    \\n    <li class=\"python-meta current_branch selected\">\\n        <a href=\"/\" title=\"The Python Programming Language\" class=\"current_branch selected\">Python</a>\\n    </li>\\n    \\n    <li class=\"psf-meta \">\\n        <a href=\"/psf-landing/\" title=\"The Python Software Foundation\" >PSF</a>\\n    </li>\\n    \\n    <li class=\"docs-meta \">\\n        <a href=\"https://docs.python.org\" title=\"Python Documentation\" >Docs</a>\\n    </li>\\n    \\n    <li class=\"pypi-meta \">\\n        <a href=\"https://pypi.python.org/\" title=\"Python Package Index\" >PyPI</a>\\n    </li>\\n    \\n    <li class=\"jobs-meta \">\\n        <a href=\"/jobs/\" title=\"Python Job Board\" >Jobs</a>\\n    </li>\\n    \\n    <li class=\"shop-meta \">\\n        <a href=\"/community/\" title=\"Python Community\" >Community</a>\\n    </li>\\n    \\n</ul>\\n\\n\\n                <a id=\"python-network\" class=\"jump-link\" href=\"#top\" aria-hidden=\"true\">\\n                    <span aria-hidden=\"true\" class=\"icon-arrow-up\"><span>&#9650;</span></span> The Python Network\\n                </a>\\n\\n            </nav>\\n\\n        </div>\\n\\n        <!-- Header elements -->\\n        <header class=\"main-header\" role=\"banner\">\\n            <div class=\"container\">\\n\\n                <h1 class=\"site-headline\">\\n                    <a href=\"/\"><img class=\"python-logo\" src=\"/static/img/python-logo.png\" alt=\"python&trade;\"></a>\\n                </h1>\\n\\n                <div class=\"options-bar do-not-print\">\\n\\n                    \\n                    <a id=\"site-map-link\" class=\"jump-to-menu\" href=\"#site-map\"><span class=\"menu-icon\">&equiv;</span> Menu</a><form class=\"search-the-site\" action=\"/search/\" method=\"get\">\\n                        <fieldset title=\"Search Python.org\">\\n\\n                            <span aria-hidden=\"true\" class=\"icon-search\"></span>\\n\\n                            <label class=\"screen-reader-text\" for=\"id-search-field\">Search This Site</label>\\n                            <input id=\"id-search-field\" name=\"q\" type=\"search\" role=\"textbox\" class=\"search-field\" placeholder=\"Search\" value=\"\" tabindex=\"1\">\\n\\n                            <button type=\"submit\" name=\"submit\" id=\"submit\" class=\"search-button\" title=\"Submit this Search\" tabindex=\"3\">\\n                                GO\\n                            </button>\\n\\n                            \\n                            <!--[if IE]><input type=\"text\" style=\"display: none;\" disabled=\"disabled\" size=\"1\" tabindex=\"4\"><![endif]-->\\n\\n                        </fieldset>\\n                    </form><span class=\"breaker\"></span><div class=\"adjust-font-size\" aria-hidden=\"true\">\\n                        <ul class=\"navigation menu\" aria-label=\"Adjust Text Size on Page\">\\n                            <li class=\"tier-1 last\" aria-haspopup=\"true\">\\n                                <a href=\"#\" class=\"action-trigger\"><strong><small>A</small> A</strong></a>\\n                                <ul class=\"subnav menu\">\\n                                    <li class=\"tier-2 element-1\" role=\"treeitem\"><a class=\"text-shrink\" title=\"Make Text Smaller\" href=\"javascript:;\">Smaller</a></li>\\n                                    <li class=\"tier-2 element-2\" role=\"treeitem\"><a class=\"text-grow\" title=\"Make Text Larger\" href=\"javascript:;\">Larger</a></li>\\n                                    <li class=\"tier-2 element-3\" role=\"treeitem\"><a class=\"text-reset\" title=\"Reset any font size changes I have made\" href=\"javascript:;\">Reset</a></li>\\n                                </ul>\\n                            </li>\\n                        </ul>\\n                    </div><div class=\"winkwink-nudgenudge\">\\n                        <ul class=\"navigation menu\" aria-label=\"Social Media Navigation\">\\n                            <li class=\"tier-1 last\" aria-haspopup=\"true\">\\n                                <a href=\"#\" class=\"action-trigger\">Socialize</a>\\n                                <ul class=\"subnav menu\">\\n                                    <li class=\"tier-2 element-1\" role=\"treeitem\"><a href=\"http://plus.google.com/+Python\"><span aria-hidden=\"true\" class=\"icon-google-plus\"></span>Google+</a></li>\\n                                    <li class=\"tier-2 element-2\" role=\"treeitem\"><a href=\"http://www.facebook.com/pythonlang?fref=ts\"><span aria-hidden=\"true\" class=\"icon-facebook\"></span>Facebook</a></li>\\n                                    <li class=\"tier-2 element-3\" role=\"treeitem\"><a href=\"http://twitter.com/ThePSF\"><span aria-hidden=\"true\" class=\"icon-twitter\"></span>Twitter</a></li>\\n                                    <li class=\"tier-2 element-4\" role=\"treeitem\"><a href=\"/community/irc/\"><span aria-hidden=\"true\" class=\"icon-freenode\"></span>Chat on IRC</a></li>\\n                                </ul>\\n                            </li>\\n                        </ul>\\n                    </div><div class=\"account-signin\">\\n                        <ul class=\"navigation menu\" aria-label=\"Social Media Navigation\">\\n                            <li class=\"tier-1 last\" aria-haspopup=\"true\">\\n                                \\n                                <a href=\"/accounts/login/\" title=\"Sign Up or Sign In to Python.org\">Sign In</a>\\n                                <ul class=\"subnav menu\">\\n                                    <li class=\"tier-2 element-1\" role=\"treeitem\"><a href=\"/accounts/signup/\">Sign Up / Register</a></li>\\n                                    <li class=\"tier-2 element-2\" role=\"treeitem\"><a href=\"/accounts/login/\">Sign In</a></li>\\n                                </ul>\\n                                \\n                            </li>\\n                        </ul>\\n                    </div>\\n\\n                </div><!-- end options-bar -->\\n\\n                <nav id=\"mainnav\" class=\"python-navigation main-navigation do-not-print\" role=\"navigation\">\\n                    \\n                        \\n<ul class=\"navigation menu\" role=\"menubar\" aria-label=\"Main Navigation\">\\n  \\n    \\n    \\n    <li id=\"about\" class=\"tier-1 element-1  \" aria-haspopup=\"true\">\\n        <a href=\"/about/\" title=\"\" class=\"\">About</a>\\n        \\n            \\n\\n<ul class=\"subnav menu\" role=\"menu\" aria-hidden=\"true\">\\n    \\n        <li class=\"tier-2 element-1\" role=\"treeitem\"><a href=\"/about/apps/\" title=\"\">Applications</a></li>\\n    \\n        <li class=\"tier-2 element-2\" role=\"treeitem\"><a href=\"/about/quotes/\" title=\"\">Quotes</a></li>\\n    \\n        <li class=\"tier-2 element-3\" role=\"treeitem\"><a href=\"/about/gettingstarted/\" title=\"\">Getting Started</a></li>\\n    \\n        <li class=\"tier-2 element-4\" role=\"treeitem\"><a href=\"/about/help/\" title=\"\">Help</a></li>\\n    \\n        <li class=\"tier-2 element-5\" role=\"treeitem\"><a href=\"http://brochure.getpython.info/\" title=\"\">Python Brochure</a></li>\\n    \\n</ul>\\n\\n        \\n    </li>\\n    \\n    \\n    \\n    <li id=\"downloads\" class=\"tier-1 element-2  \" aria-haspopup=\"true\">\\n        <a href=\"/downloads/\" title=\"\" class=\"\">Downloads</a>\\n        \\n            \\n\\n<ul class=\"subnav menu\" role=\"menu\" aria-hidden=\"true\">\\n    \\n        <li class=\"tier-2 element-1\" role=\"treeitem\"><a href=\"/downloads/\" title=\"\">All releases</a></li>\\n    \\n        <li class=\"tier-2 element-2\" role=\"treeitem\"><a href=\"/downloads/source/\" title=\"\">Source code</a></li>\\n    \\n        <li class=\"tier-2 element-3\" role=\"treeitem\"><a href=\"/downloads/windows/\" title=\"\">Windows</a></li>\\n    \\n        <li class=\"tier-2 element-4\" role=\"treeitem\"><a href=\"/downloads/mac-osx/\" title=\"\">Mac OS X</a></li>\\n    \\n        <li class=\"tier-2 element-5\" role=\"treeitem\"><a href=\"/download/other/\" title=\"\">Other Platforms</a></li>\\n    \\n        <li class=\"tier-2 element-6\" role=\"treeitem\"><a href=\"https://docs.python.org/3/license.html\" title=\"\">License</a></li>\\n    \\n        <li class=\"tier-2 element-7\" role=\"treeitem\"><a href=\"/download/alternatives\" title=\"\">Alternative Implementations</a></li>\\n    \\n</ul>\\n\\n        \\n    </li>\\n    \\n    \\n    \\n    <li id=\"documentation\" class=\"tier-1 element-3  \" aria-haspopup=\"true\">\\n        <a href=\"/doc/\" title=\"\" class=\"\">Documentation</a>\\n        \\n            \\n\\n<ul class=\"subnav menu\" role=\"menu\" aria-hidden=\"true\">\\n    \\n        <li class=\"tier-2 element-1\" role=\"treeitem\"><a href=\"/doc/\" title=\"\">Docs</a></li>\\n    \\n        <li class=\"tier-2 element-2\" role=\"treeitem\"><a href=\"/doc/av\" title=\"\">Audio/Visual Talks</a></li>\\n    \\n        <li class=\"tier-2 element-3\" role=\"treeitem\"><a href=\"https://wiki.python.org/moin/BeginnersGuide\" title=\"\">Beginner&#39;s Guide</a></li>\\n    \\n        <li class=\"tier-2 element-4\" role=\"treeitem\"><a href=\"https://docs.python.org/devguide/\" title=\"\">Developer&#39;s Guide</a></li>\\n    \\n        <li class=\"tier-2 element-5\" role=\"treeitem\"><a href=\"https://docs.python.org/faq/\" title=\"\">FAQ</a></li>\\n    \\n        <li class=\"tier-2 element-6\" role=\"treeitem\"><a href=\"http://wiki.python.org/moin/Languages\" title=\"\">Non-English Docs</a></li>\\n    \\n        <li class=\"tier-2 element-7\" role=\"treeitem\"><a href=\"http://python.org/dev/peps/\" title=\"\">PEP Index</a></li>\\n    \\n        <li class=\"tier-2 element-8\" role=\"treeitem\"><a href=\"https://wiki.python.org/moin/PythonBooks\" title=\"\">Python Books</a></li>\\n    \\n</ul>\\n\\n        \\n    </li>\\n    \\n    \\n    \\n    <li id=\"community\" class=\"tier-1 element-4  \" aria-haspopup=\"true\">\\n        <a href=\"/community/\" title=\"\" class=\"\">Community</a>\\n        \\n            \\n\\n<ul class=\"subnav menu\" role=\"menu\" aria-hidden=\"true\">\\n    \\n        <li class=\"tier-2 element-1\" role=\"treeitem\"><a href=\"/community/diversity/\" title=\"\">Diversity</a></li>\\n    \\n        <li class=\"tier-2 element-2\" role=\"treeitem\"><a href=\"/community/irc/\" title=\"\">IRC</a></li>\\n    \\n        <li class=\"tier-2 element-3\" role=\"treeitem\"><a href=\"/community/lists/\" title=\"\">Mailing Lists</a></li>\\n    \\n        <li class=\"tier-2 element-4\" role=\"treeitem\"><a href=\"/community/workshops/\" title=\"\">Python Conferences</a></li>\\n    \\n        <li class=\"tier-2 element-5\" role=\"treeitem\"><a href=\"/community/sigs/\" title=\"\">Special Interest Groups</a></li>\\n    \\n        <li class=\"tier-2 element-6\" role=\"treeitem\"><a href=\"https://wiki.python.org/moin/\" title=\"\">Python Wiki</a></li>\\n    \\n        <li class=\"tier-2 element-7\" role=\"treeitem\"><a href=\"/community/logos/\" title=\"\">Python Logo</a></li>\\n    \\n        <li class=\"tier-2 element-8\" role=\"treeitem\"><a href=\"/community/merchandise/\" title=\"\">Merchandise</a></li>\\n    \\n        <li class=\"tier-2 element-9\" role=\"treeitem\"><a href=\"/community/awards\" title=\"\">Community Awards</a></li>\\n    \\n</ul>\\n\\n        \\n    </li>\\n    \\n    \\n    \\n    <li id=\"success-stories\" class=\"tier-1 element-5  \" aria-haspopup=\"true\">\\n        <a href=\"/about/success/\" title=\"success-stories\" class=\"\">Success Stories</a>\\n        \\n            \\n\\n<ul class=\"subnav menu\" role=\"menu\" aria-hidden=\"true\">\\n    \\n        <li class=\"tier-2 element-1\" role=\"treeitem\"><a href=\"/about/success/#arts\" title=\"\">Arts</a></li>\\n    \\n        <li class=\"tier-2 element-2\" role=\"treeitem\"><a href=\"/about/success/#business\" title=\"\">Business</a></li>\\n    \\n        <li class=\"tier-2 element-3\" role=\"treeitem\"><a href=\"/about/success/#education\" title=\"\">Education</a></li>\\n    \\n        <li class=\"tier-2 element-4\" role=\"treeitem\"><a href=\"/about/success/#engineering\" title=\"\">Engineering</a></li>\\n    \\n        <li class=\"tier-2 element-5\" role=\"treeitem\"><a href=\"/about/success/#government\" title=\"\">Government</a></li>\\n    \\n        <li class=\"tier-2 element-6\" role=\"treeitem\"><a href=\"/about/success/#scientific\" title=\"\">Scientific</a></li>\\n    \\n        <li class=\"tier-2 element-7\" role=\"treeitem\"><a href=\"/about/success/#software-development\" title=\"\">Software Development</a></li>\\n    \\n</ul>\\n\\n        \\n    </li>\\n    \\n    \\n    \\n    <li id=\"news\" class=\"tier-1 element-6  \" aria-haspopup=\"true\">\\n        <a href=\"/blogs/\" title=\"News from around the Python world\" class=\"\">News</a>\\n        \\n            \\n\\n<ul class=\"subnav menu\" role=\"menu\" aria-hidden=\"true\">\\n    \\n        <li class=\"tier-2 element-1\" role=\"treeitem\"><a href=\"/blogs/\" title=\"Python Insider Blog Posts\">Python News</a></li>\\n    \\n        <li class=\"tier-2 element-2\" role=\"treeitem\"><a href=\"http://planetpython.org/\" title=\"Planet Python\">Community News</a></li>\\n    \\n        <li class=\"tier-2 element-3\" role=\"treeitem\"><a href=\"http://pyfound.blogspot.com/\" title=\"PSF Blog\">PSF News</a></li>\\n    \\n        <li class=\"tier-2 element-4\" role=\"treeitem\"><a href=\"http://pycon.blogspot.com/\" title=\"PyCon Blog\">PyCon News</a></li>\\n    \\n</ul>\\n\\n        \\n    </li>\\n    \\n    \\n    \\n    <li id=\"events\" class=\"tier-1 element-7  \" aria-haspopup=\"true\">\\n        <a href=\"/events/\" title=\"\" class=\" selected\">Events</a>\\n        \\n            \\n\\n<ul class=\"subnav menu\" role=\"menu\" aria-hidden=\"true\">\\n    \\n        <li class=\"tier-2 element-1\" role=\"treeitem\"><a href=\"/events/python-events\" title=\"\">Python Events</a></li>\\n    \\n        <li class=\"tier-2 element-2\" role=\"treeitem\"><a href=\"/events/python-user-group/\" title=\"\">User Group Events</a></li>\\n    \\n        <li class=\"tier-2 element-3\" role=\"treeitem\"><a href=\"/events/python-events/past/\" title=\"\">Python Events Archive</a></li>\\n    \\n        <li class=\"tier-2 element-4\" role=\"treeitem\"><a href=\"/events/python-user-group/past/\" title=\"\">User Group Events Archive</a></li>\\n    \\n        <li class=\"tier-2 element-5\" role=\"treeitem\"><a href=\"https://wiki.python.org/moin/PythonEventsCalendar#Submitting_an_Event\" title=\"\">Submit an Event</a></li>\\n    \\n</ul>\\n\\n        \\n    </li>\\n    \\n    \\n    \\n    \\n  \\n</ul>\\n\\n                    \\n                </nav>\\n\\n                <div class=\"header-banner \"> <!-- for optional \"do-not-print\" class -->\\n                    \\n    \\n\\n                </div>\\n\\n                \\n                \\n\\n             </div><!-- end .container -->\\n        </header>\\n\\n        <div id=\"content\" class=\"content-wrapper\">\\n            <!-- Main Content Column -->\\n            <div class=\"container\">\\n\\n                <section class=\"main-content with-right-sidebar\" role=\"main\">\\n\\n                    \\n                    \\n\\n                    \\n\\n                    \\n        \\n        \\n        <header class=\"article-header\">\\n            <h3>from the Python User Group Calendar</h3>\\n        </header>\\n        \\n        \\n        <div class=\"most-recent-events\">\\n            <div class=\"shrubbery\">\\n                <h2 class=\"widget-title\"><span aria-hidden=\"true\" class=\"icon-calendar\"></span>Upcoming Events</h2>\\n                \\n                <ul class=\"list-recent-events menu\">\\n                \\n                    <li>\\n                        <h3 class=\"event-title\"><a href=\"/events/python-user-group/508/\">Python Porto Meetup</a></h3>\\n                        <p>\\n                            \\n                            \\n<time datetime=\"2017-03-24T18:00:00+00:00\">24 March<span class=\"say-no-more\"> 2017</span></time>\\n\\n                            \\n\\n                            \\n                            <span class=\"event-location\">Porto, Portugal</span>\\n                            \\n                        </p>\\n                    </li>\\n                \\n                    <li>\\n                        <h3 class=\"event-title\"><a href=\"/events/python-user-group/511/\">Django Girls Bucaramanga, Colombia</a></h3>\\n                        <p>\\n                            \\n                            \\n<time datetime=\"2017-04-08T00:00:00+00:00\">08 April &ndash; 09 April <span class=\"say-no-more\"> 2017</span></time>\\n\\n                            \\n\\n                            \\n                            <span class=\"event-location\">Bucaramanga, Colombia</span>\\n                            \\n                        </p>\\n                    </li>\\n                \\n                    <li>\\n                        <h3 class=\"event-title\"><a href=\"/events/python-user-group/512/\">Django Girls S\\xe3o Jos\\xe9 dos Campos</a></h3>\\n                        <p>\\n                            \\n                            \\n<time datetime=\"2017-05-20T00:00:00+00:00\">20 May &ndash; 21 May <span class=\"say-no-more\"> 2017</span></time>\\n\\n                            \\n\\n                            \\n                            <span class=\"event-location\">S\\xe3o Jos\\xe9 dos Campos, Brazil</span>\\n                            \\n                        </p>\\n                    </li>\\n                \\n                    <li>\\n                        <h3 class=\"event-title\"><a href=\"/events/python-user-group/515/\">Django Girls Accra</a></h3>\\n                        <p>\\n                            \\n                            \\n<time datetime=\"2017-06-16T00:00:00+00:00\">16 June &ndash; 18 June <span class=\"say-no-more\"> 2017</span></time>\\n\\n                            \\n\\n                            \\n                            <span class=\"event-location\">Accra, Ghana</span>\\n                            \\n                        </p>\\n                    </li>\\n                \\n                </ul>\\n            </div>\\n\\n            \\n            <h3 class=\"widget-title just-missed\">You just missed...</h3>\\n            <ul class=\"list-recent-events menu\">\\n                \\n                <li>\\n                    <h3 class=\"event-title\"><a href=\"/events/python-user-group/494/\">Chennaipy</a></h3>\\n                    <p>\\n                        \\n                        \\n<time datetime=\"2017-01-28T09:30:00+00:00\">28 Jan.<span class=\"say-no-more\"> 2017</span></time>\\n\\n                        \\n                        \\n                        \\n                        <span class=\"event-location\">Chennai, Tamil Nadu, India</span>\\n                        \\n                    </p>\\n                </li>\\n                \\n                <li>\\n                    <h3 class=\"event-title\"><a href=\"/events/python-user-group/499/\">Burkina Faso&#39;s Python Users Group (FasoPy)&#39;s launch</a></h3>\\n                    <p>\\n                        \\n                        \\n<time datetime=\"2017-01-28T09:00:00+00:00\">28 Jan.<span class=\"say-no-more\"> 2017</span></time>\\n\\n                        \\n                        \\n                        \\n                        <span class=\"event-location\">ISPP Si\\xe8ge, Ouagadougou, Burkina Faso</span>\\n                        \\n                    </p>\\n                </li>\\n                \\n            </ul>\\n            \\n        </div>\\n\\n\\n                </section>\\n\\n                \\n                \\n\\n                \\n    <aside class=\"right-sidebar\" role=\"secondary\">\\n        <div class=\"sidebar-widget subscribe-widget\">\\n            <h2 class=\"widget-title\">Python Event Subscriptions</h2>\\n            <p>Subscribe to Python Event Calendars:</p>\\n            <ul class=\"menu\">\\n                \\n                \\n                <li><a href=\"https://www.google.com/calendar/ical/3haig2m9msslkpf2tn1h56nn9g@group.calendar.google.com/public/basic.ics\"><span aria-hidden=\"true\" class=\"icon-ical\"></span>Events in iCal format</a></li>\\n                \\n            </ul>\\n            <h2 class=\"widget-title\">Python Events Calendars</h2>\\r\\n\\r\\n<br/>\\r\\n\\r\\n<p>For Python events near you, please have a look at the <a href=\"http://lmorillas.github.io/python_events/\"><b>Python events map</b></a>.</p>\\r\\n\\r\\n<p>The Python events calendars are maintained by the <a href=\"https://wiki.python.org/moin/PythonEventsCalendar#Python_Calendar_Team\">events calendar team</a>.</p>\\r\\n\\r\\n<p>Please see the <a href=\"https://wiki.python.org/moin/PythonEventsCalendar\">events calendar project page</a> for details on how to <a href=\"https://wiki.python.org/moin/PythonEventsCalendar#Submitting_an_Event\">submit events</a>, <a href=\"https://wiki.python.org/moin/PythonEventsCalendar#Available_Calendars\">subscribe to the calendars</a>, get <a href=\"https://twitter.com/PythonEvents\">Twitter feeds</a> or embed them.</p>\\r\\n\\r\\n<p>Thank you.</p>\\r\\n\\n\\n\\t    </div>\\n        \\n        \\n        \\n        \\n        \\n    </aside>\\n\\n\\n\\n            </div><!-- end .container -->\\n        </div><!-- end #content .content-wrapper -->\\n\\n        <!-- Footer and social media list -->\\n        <footer id=\"site-map\" class=\"main-footer\" role=\"contentinfo\">\\n            <div class=\"main-footer-links\">\\n                <div class=\"container\">\\n\\n                    \\n                    <a id=\"back-to-top-1\" class=\"jump-link\" href=\"#python-network\"><span aria-hidden=\"true\" class=\"icon-arrow-up\"><span>&#9650;</span></span> Back to Top</a>\\n\\n                    \\n\\n<ul class=\"sitemap navigation menu do-not-print\" role=\"tree\" id=\"container\">\\n    \\n    <li class=\"tier-1 element-1\">\\n        <a href=\"/about/\" >About</a>\\n        \\n            \\n\\n<ul class=\"subnav menu\">\\n    \\n        <li class=\"tier-2 element-1\" role=\"treeitem\"><a href=\"/about/apps/\" title=\"\">Applications</a></li>\\n    \\n        <li class=\"tier-2 element-2\" role=\"treeitem\"><a href=\"/about/quotes/\" title=\"\">Quotes</a></li>\\n    \\n        <li class=\"tier-2 element-3\" role=\"treeitem\"><a href=\"/about/gettingstarted/\" title=\"\">Getting Started</a></li>\\n    \\n        <li class=\"tier-2 element-4\" role=\"treeitem\"><a href=\"/about/help/\" title=\"\">Help</a></li>\\n    \\n        <li class=\"tier-2 element-5\" role=\"treeitem\"><a href=\"http://brochure.getpython.info/\" title=\"\">Python Brochure</a></li>\\n    \\n</ul>\\n\\n        \\n    </li>\\n    \\n    <li class=\"tier-1 element-2\">\\n        <a href=\"/downloads/\" >Downloads</a>\\n        \\n            \\n\\n<ul class=\"subnav menu\">\\n    \\n        <li class=\"tier-2 element-1\" role=\"treeitem\"><a href=\"/downloads/\" title=\"\">All releases</a></li>\\n    \\n        <li class=\"tier-2 element-2\" role=\"treeitem\"><a href=\"/downloads/source/\" title=\"\">Source code</a></li>\\n    \\n        <li class=\"tier-2 element-3\" role=\"treeitem\"><a href=\"/downloads/windows/\" title=\"\">Windows</a></li>\\n    \\n        <li class=\"tier-2 element-4\" role=\"treeitem\"><a href=\"/downloads/mac-osx/\" title=\"\">Mac OS X</a></li>\\n    \\n        <li class=\"tier-2 element-5\" role=\"treeitem\"><a href=\"/download/other/\" title=\"\">Other Platforms</a></li>\\n    \\n        <li class=\"tier-2 element-6\" role=\"treeitem\"><a href=\"https://docs.python.org/3/license.html\" title=\"\">License</a></li>\\n    \\n        <li class=\"tier-2 element-7\" role=\"treeitem\"><a href=\"/download/alternatives\" title=\"\">Alternative Implementations</a></li>\\n    \\n</ul>\\n\\n        \\n    </li>\\n    \\n    <li class=\"tier-1 element-3\">\\n        <a href=\"/doc/\" >Documentation</a>\\n        \\n            \\n\\n<ul class=\"subnav menu\">\\n    \\n        <li class=\"tier-2 element-1\" role=\"treeitem\"><a href=\"/doc/\" title=\"\">Docs</a></li>\\n    \\n        <li class=\"tier-2 element-2\" role=\"treeitem\"><a href=\"/doc/av\" title=\"\">Audio/Visual Talks</a></li>\\n    \\n        <li class=\"tier-2 element-3\" role=\"treeitem\"><a href=\"https://wiki.python.org/moin/BeginnersGuide\" title=\"\">Beginner&#39;s Guide</a></li>\\n    \\n        <li class=\"tier-2 element-4\" role=\"treeitem\"><a href=\"https://docs.python.org/devguide/\" title=\"\">Developer&#39;s Guide</a></li>\\n    \\n        <li class=\"tier-2 element-5\" role=\"treeitem\"><a href=\"https://docs.python.org/faq/\" title=\"\">FAQ</a></li>\\n    \\n        <li class=\"tier-2 element-6\" role=\"treeitem\"><a href=\"http://wiki.python.org/moin/Languages\" title=\"\">Non-English Docs</a></li>\\n    \\n        <li class=\"tier-2 element-7\" role=\"treeitem\"><a href=\"http://python.org/dev/peps/\" title=\"\">PEP Index</a></li>\\n    \\n        <li class=\"tier-2 element-8\" role=\"treeitem\"><a href=\"https://wiki.python.org/moin/PythonBooks\" title=\"\">Python Books</a></li>\\n    \\n</ul>\\n\\n        \\n    </li>\\n    \\n    <li class=\"tier-1 element-4\">\\n        <a href=\"/community/\" >Community</a>\\n        \\n            \\n\\n<ul class=\"subnav menu\">\\n    \\n        <li class=\"tier-2 element-1\" role=\"treeitem\"><a href=\"/community/diversity/\" title=\"\">Diversity</a></li>\\n    \\n        <li class=\"tier-2 element-2\" role=\"treeitem\"><a href=\"/community/irc/\" title=\"\">IRC</a></li>\\n    \\n        <li class=\"tier-2 element-3\" role=\"treeitem\"><a href=\"/community/lists/\" title=\"\">Mailing Lists</a></li>\\n    \\n        <li class=\"tier-2 element-4\" role=\"treeitem\"><a href=\"/community/workshops/\" title=\"\">Python Conferences</a></li>\\n    \\n        <li class=\"tier-2 element-5\" role=\"treeitem\"><a href=\"/community/sigs/\" title=\"\">Special Interest Groups</a></li>\\n    \\n        <li class=\"tier-2 element-6\" role=\"treeitem\"><a href=\"https://wiki.python.org/moin/\" title=\"\">Python Wiki</a></li>\\n    \\n        <li class=\"tier-2 element-7\" role=\"treeitem\"><a href=\"/community/logos/\" title=\"\">Python Logo</a></li>\\n    \\n        <li class=\"tier-2 element-8\" role=\"treeitem\"><a href=\"/community/merchandise/\" title=\"\">Merchandise</a></li>\\n    \\n        <li class=\"tier-2 element-9\" role=\"treeitem\"><a href=\"/community/awards\" title=\"\">Community Awards</a></li>\\n    \\n</ul>\\n\\n        \\n    </li>\\n    \\n    <li class=\"tier-1 element-5\">\\n        <a href=\"/about/success/\" title=\"success-stories\">Success Stories</a>\\n        \\n            \\n\\n<ul class=\"subnav menu\">\\n    \\n        <li class=\"tier-2 element-1\" role=\"treeitem\"><a href=\"/about/success/#arts\" title=\"\">Arts</a></li>\\n    \\n        <li class=\"tier-2 element-2\" role=\"treeitem\"><a href=\"/about/success/#business\" title=\"\">Business</a></li>\\n    \\n        <li class=\"tier-2 element-3\" role=\"treeitem\"><a href=\"/about/success/#education\" title=\"\">Education</a></li>\\n    \\n        <li class=\"tier-2 element-4\" role=\"treeitem\"><a href=\"/about/success/#engineering\" title=\"\">Engineering</a></li>\\n    \\n        <li class=\"tier-2 element-5\" role=\"treeitem\"><a href=\"/about/success/#government\" title=\"\">Government</a></li>\\n    \\n        <li class=\"tier-2 element-6\" role=\"treeitem\"><a href=\"/about/success/#scientific\" title=\"\">Scientific</a></li>\\n    \\n        <li class=\"tier-2 element-7\" role=\"treeitem\"><a href=\"/about/success/#software-development\" title=\"\">Software Development</a></li>\\n    \\n</ul>\\n\\n        \\n    </li>\\n    \\n    <li class=\"tier-1 element-6\">\\n        <a href=\"/blogs/\" title=\"News from around the Python world\">News</a>\\n        \\n            \\n\\n<ul class=\"subnav menu\">\\n    \\n        <li class=\"tier-2 element-1\" role=\"treeitem\"><a href=\"/blogs/\" title=\"Python Insider Blog Posts\">Python News</a></li>\\n    \\n        <li class=\"tier-2 element-2\" role=\"treeitem\"><a href=\"http://planetpython.org/\" title=\"Planet Python\">Community News</a></li>\\n    \\n        <li class=\"tier-2 element-3\" role=\"treeitem\"><a href=\"http://pyfound.blogspot.com/\" title=\"PSF Blog\">PSF News</a></li>\\n    \\n        <li class=\"tier-2 element-4\" role=\"treeitem\"><a href=\"http://pycon.blogspot.com/\" title=\"PyCon Blog\">PyCon News</a></li>\\n    \\n</ul>\\n\\n        \\n    </li>\\n    \\n    <li class=\"tier-1 element-7\">\\n        <a href=\"/events/\" >Events</a>\\n        \\n            \\n\\n<ul class=\"subnav menu\">\\n    \\n        <li class=\"tier-2 element-1\" role=\"treeitem\"><a href=\"/events/python-events\" title=\"\">Python Events</a></li>\\n    \\n        <li class=\"tier-2 element-2\" role=\"treeitem\"><a href=\"/events/python-user-group/\" title=\"\">User Group Events</a></li>\\n    \\n        <li class=\"tier-2 element-3\" role=\"treeitem\"><a href=\"/events/python-events/past/\" title=\"\">Python Events Archive</a></li>\\n    \\n        <li class=\"tier-2 element-4\" role=\"treeitem\"><a href=\"/events/python-user-group/past/\" title=\"\">User Group Events Archive</a></li>\\n    \\n        <li class=\"tier-2 element-5\" role=\"treeitem\"><a href=\"https://wiki.python.org/moin/PythonEventsCalendar#Submitting_an_Event\" title=\"\">Submit an Event</a></li>\\n    \\n</ul>\\n\\n        \\n    </li>\\n    \\n    <li class=\"tier-1 element-8\">\\n        <a href=\"/dev/\" >Contributing</a>\\n        \\n            \\n\\n<ul class=\"subnav menu\">\\n    \\n        <li class=\"tier-2 element-1\" role=\"treeitem\"><a href=\"http://docs.python.org/devguide/\" title=\"\">Developer&#39;s Guide</a></li>\\n    \\n        <li class=\"tier-2 element-2\" role=\"treeitem\"><a href=\"http://bugs.python.org/\" title=\"\">Issue Tracker</a></li>\\n    \\n        <li class=\"tier-2 element-3\" role=\"treeitem\"><a href=\"https://mail.python.org/mailman/listinfo/python-dev\" title=\"\">python-dev list</a></li>\\n    \\n        <li class=\"tier-2 element-4\" role=\"treeitem\"><a href=\"/dev/core-mentorship/\" title=\"\">Core Mentorship</a></li>\\n    \\n</ul>\\n\\n        \\n    </li>\\n    \\n</ul>\\n\\n\\n                    <a id=\"back-to-top-2\" class=\"jump-link\" href=\"#python-network\"><span aria-hidden=\"true\" class=\"icon-arrow-up\"><span>&#9650;</span></span> Back to Top</a>\\n                    \\n\\n                </div><!-- end .container -->\\n            </div> <!-- end .main-footer-links -->\\n\\n            <div class=\"site-base\">\\n                <div class=\"container\">\\n                    \\n                    <ul class=\"footer-links navigation menu do-not-print\" role=\"tree\">\\n                        <li class=\"tier-1 element-1\"><a href=\"/about/help/\">Help &amp; <span class=\"say-no-more\">General</span> Contact</a></li>\\n                        <li class=\"tier-1 element-2\"><a href=\"/community/diversity/\">Diversity <span class=\"say-no-more\">Initiatives</span></a></li>\\n                        <li class=\"tier-1 element-3\"><a href=\"https://github.com/python/pythondotorg/issues\">Submit Website Bug</a></li>\\n                        <li class=\"tier-1 element-4\">\\n                            <a href=\"https://status.python.org/\">Status <span class=\"python-status-indicator-default\" id=\"python-status-indicator\"></span></a>\\n                        </li>\\n                    </ul>\\n\\n                    <div class=\"copyright\">\\n                        <p><small>\\n                            <span class=\"pre\">Copyright &copy;2001-2017.</span>\\n                            &nbsp;<span class=\"pre\"><a href=\"/psf-landing/\">Python Software Foundation</a></span>\\n                            &nbsp;<span class=\"pre\"><a href=\"/about/legal/\">Legal Statements</a></span>\\n                            &nbsp;<span class=\"pre\"><a href=\"/privacy/\">Privacy Policy</a></span>\\n                        </small></p>\\n                    </div>\\n\\n                </div><!-- end .container -->\\n            </div><!-- end .site-base -->\\n\\n        </footer>\\n\\n    </div><!-- end #touchnav-wrapper -->\\n\\n    \\n    <script src=\"//ajax.googleapis.com/ajax/libs/jquery/1.8.2/jquery.min.js\"></script>\\n    <script>window.jQuery || document.write(\\'<script src=\"/static/js/libs/jquery-1.8.2.min.js\"><\\\\/script>\\')</script>\\n\\n    <script src=\"/static/js/libs/masonry.pkgd.min.js\"></script>\\n\\n    <script type=\"text/javascript\" src=\"/static/js/main-min.js\" charset=\"utf-8\"></script>\\n    \\n\\n    <!--[if lte IE 7]>\\n    <script type=\"text/javascript\" src=\"/static/js/plugins/IE8-min.js\" charset=\"utf-8\"></script>\\n    \\n    \\n    <![endif]-->\\n\\n    <!--[if lte IE 8]>\\n    <script type=\"text/javascript\" src=\"/static/js/plugins/getComputedStyle-min.js\" charset=\"utf-8\"></script>\\n    \\n    \\n    <![endif]-->\\n\\n    \\n\\n    \\n    \\n\\n</body>\\n</html>\\n'"
      ]
     },
     "execution_count": 240,
     "metadata": {},
     "output_type": "execute_result"
    }
   ],
   "source": [
    "import requests\n",
    "text = requests.get('https://www.python.org/events/python-user-group/').text\n",
    "text\n"
   ]
  },
  {
   "cell_type": "code",
   "execution_count": 241,
   "metadata": {
    "collapsed": false
   },
   "outputs": [
    {
     "name": "stdout",
     "output_type": "stream",
     "text": [
      "------------------------------\n",
      "Upcoming Event: Python Porto Meetup\n",
      "    Time:  24 March 2017\n",
      "    Location: Porto, Portugal\n",
      "------------------------------\n",
      "Unknown Event: Django Girls Bucaramanga, Colombia\n",
      "    Time:  08 April &ndash; 09 April  2017\n",
      "    Location: Bucaramanga, Colombia\n",
      "------------------------------\n"
     ]
    },
    {
     "ename": "UnicodeEncodeError",
     "evalue": "'ascii' codec can't encode character u'\\xe3' in position 29: ordinal not in range(128)",
     "output_type": "error",
     "traceback": [
      "\u001b[0;31m---------------------------------------------------------------------------\u001b[0m",
      "\u001b[0;31mUnicodeEncodeError\u001b[0m                        Traceback (most recent call last)",
      "\u001b[0;32m<ipython-input-241-06b2704d08c5>\u001b[0m in \u001b[0;36m<module>\u001b[0;34m()\u001b[0m\n\u001b[1;32m     17\u001b[0m \u001b[0;32mfor\u001b[0m \u001b[0mi\u001b[0m \u001b[0;32min\u001b[0m \u001b[0mevents\u001b[0m\u001b[0;34m:\u001b[0m\u001b[0;34m\u001b[0m\u001b[0m\n\u001b[1;32m     18\u001b[0m     \u001b[0;32mprint\u001b[0m \u001b[0;34m(\u001b[0m\u001b[0;36m30\u001b[0m\u001b[0;34m*\u001b[0m\u001b[0;34m'-'\u001b[0m\u001b[0;34m)\u001b[0m\u001b[0;34m\u001b[0m\u001b[0m\n\u001b[0;32m---> 19\u001b[0;31m     \u001b[0;32mprint\u001b[0m \u001b[0;34m(\u001b[0m\u001b[0mi\u001b[0m\u001b[0;34m)\u001b[0m\u001b[0;34m\u001b[0m\u001b[0m\n\u001b[0m\u001b[1;32m     20\u001b[0m     \u001b[0;32mprint\u001b[0m \u001b[0;34m(\u001b[0m\u001b[0;34m'    Time:  %s'\u001b[0m \u001b[0;34m%\u001b[0m\u001b[0mi\u001b[0m\u001b[0;34m.\u001b[0m\u001b[0mtime\u001b[0m\u001b[0;34m)\u001b[0m\u001b[0;34m\u001b[0m\u001b[0m\n\u001b[1;32m     21\u001b[0m     \u001b[0;32mprint\u001b[0m \u001b[0;34m(\u001b[0m\u001b[0;34m'    Location: %s'\u001b[0m \u001b[0;34m%\u001b[0m\u001b[0mi\u001b[0m\u001b[0;34m.\u001b[0m\u001b[0mlocation\u001b[0m\u001b[0;34m)\u001b[0m\u001b[0;34m\u001b[0m\u001b[0m\n",
      "\u001b[0;31mUnicodeEncodeError\u001b[0m: 'ascii' codec can't encode character u'\\xe3' in position 29: ordinal not in range(128)"
     ]
    }
   ],
   "source": [
    "import requests\n",
    "import datetime\n",
    "import re\n",
    "\n",
    "text = requests.get('https://www.python.org/events/python-user-group/').text\n",
    "timePattern = '<time datetime=\"[\\w:+-]+\">(.+)<span class=\"say-no-more\">([\\d ]+)</span>(.*)</time>'\n",
    "locationPattern = '<span class=\"event-location\">(.*)</span>'\n",
    "titlePattern = '<h3 class=\"event-title\"><a href=\".+\">(.*)</a></h3>'\n",
    "\n",
    "time = re.findall(timePattern, text)\n",
    "time = [''.join(i) for i in time]\n",
    "location = re.findall(locationPattern, text)\n",
    "title = re.findall(titlePattern, text)\n",
    "\n",
    "events = [event(title[i], time[i], location[i]) for i in range(len(title))]\n",
    "\n",
    "for i in events:\n",
    "    print (30*'-')\n",
    "    print (i)\n",
    "    print ('    Time:  %s' %i.time)\n",
    "    print ('    Location: %s' %i.location)"
   ]
  },
  {
   "cell_type": "code",
   "execution_count": 242,
   "metadata": {
    "collapsed": false
   },
   "outputs": [
    {
     "name": "stdout",
     "output_type": "stream",
     "text": [
      "------------------------------\n",
      "Upcoming Event: Python Porto Meetup\n",
      "    Time    :  24 March 2017\n",
      "    Location: Porto, Portugal\n",
      "------------------------------\n",
      "Unknown Event: Django Girls Bucaramanga, Colombia\n",
      "    Time    :  08 April &ndash; 09 April  2017\n",
      "    Location: Bucaramanga, Colombia\n",
      "------------------------------\n"
     ]
    },
    {
     "ename": "UnicodeEncodeError",
     "evalue": "'ascii' codec can't encode character u'\\xe3' in position 29: ordinal not in range(128)",
     "output_type": "error",
     "traceback": [
      "\u001b[0;31m---------------------------------------------------------------------------\u001b[0m",
      "\u001b[0;31mUnicodeEncodeError\u001b[0m                        Traceback (most recent call last)",
      "\u001b[0;32m<ipython-input-242-dcf0ce410ba5>\u001b[0m in \u001b[0;36m<module>\u001b[0;34m()\u001b[0m\n\u001b[1;32m     55\u001b[0m \u001b[0;32mfor\u001b[0m \u001b[0mi\u001b[0m \u001b[0;32min\u001b[0m \u001b[0mevents\u001b[0m\u001b[0;34m:\u001b[0m\u001b[0;34m\u001b[0m\u001b[0m\n\u001b[1;32m     56\u001b[0m     \u001b[0;32mprint\u001b[0m \u001b[0;34m(\u001b[0m\u001b[0;36m30\u001b[0m\u001b[0;34m*\u001b[0m\u001b[0;34m'-'\u001b[0m\u001b[0;34m)\u001b[0m\u001b[0;34m\u001b[0m\u001b[0m\n\u001b[0;32m---> 57\u001b[0;31m     \u001b[0;32mprint\u001b[0m \u001b[0;34m(\u001b[0m\u001b[0mi\u001b[0m\u001b[0;34m)\u001b[0m\u001b[0;34m\u001b[0m\u001b[0m\n\u001b[0m\u001b[1;32m     58\u001b[0m     \u001b[0;32mprint\u001b[0m \u001b[0;34m(\u001b[0m\u001b[0;34m'    Time    :  %s'\u001b[0m \u001b[0;34m%\u001b[0m\u001b[0mi\u001b[0m\u001b[0;34m.\u001b[0m\u001b[0mtime\u001b[0m\u001b[0;34m)\u001b[0m\u001b[0;34m\u001b[0m\u001b[0m\n\u001b[1;32m     59\u001b[0m     \u001b[0;32mprint\u001b[0m \u001b[0;34m(\u001b[0m\u001b[0;34m'    Location: %s'\u001b[0m \u001b[0;34m%\u001b[0m\u001b[0mi\u001b[0m\u001b[0;34m.\u001b[0m\u001b[0mlocation\u001b[0m\u001b[0;34m)\u001b[0m\u001b[0;34m\u001b[0m\u001b[0m\n",
      "\u001b[0;31mUnicodeEncodeError\u001b[0m: 'ascii' codec can't encode character u'\\xe3' in position 29: ordinal not in range(128)"
     ]
    }
   ],
   "source": [
    "#!/usr/bin/env python\n",
    "# -*- coding: utf-8 -*-  \n",
    "# Author: NYC data science <http://nycdatascience.com/>\n",
    "\n",
    "import requests\n",
    "import datetime\n",
    "import re\n",
    "\n",
    "class event(object):\n",
    "    def __init__(self, title, time, location):\n",
    "        self.title = title\n",
    "        self.time = time\n",
    "        self.location = location\n",
    "    \n",
    "    def day(self):\n",
    "        try:\n",
    "            day = re.findall('\\w+', self.time)[:3]\n",
    "            day = ' '.join(day)\n",
    "            try: \n",
    "                return datetime.datetime.strptime(day, \"%d %b %Y\")\n",
    "            except ValueError:\n",
    "                return datetime.datetime.strptime(day, \"%d %B %Y\")\n",
    "        except ValueError:\n",
    "            return self.time\n",
    "    \n",
    "    def status(self):\n",
    "        if isinstance(self.day(), datetime.datetime):\n",
    "            now = datetime.datetime.now()\n",
    "            if now < self.day():\n",
    "                return 'Upcoming'\n",
    "            elif now - self.day() < datetime.timedelta(days=1):\n",
    "                return 'Today'\n",
    "            else:\n",
    "                return 'Missed'\n",
    "        else:\n",
    "            return 'Unknown'\n",
    "        \n",
    "    def __str__(self):\n",
    "        return self.status() + ' Event: %s' %self.title\n",
    "\n",
    "    \n",
    "\n",
    "text = requests.get('https://www.python.org/events/python-user-group/').text\n",
    "timePattern = '<time datetime=\"[\\w:+-]+\">(.+)<span class=\"say-no-more\">([\\d ]+)</span>(.*)</time>'\n",
    "locationPattern = '<span class=\"event-location\">(.*)</span>'\n",
    "titlePattern = '<h3 class=\"event-title\"><a href=\".+\">(.*)</a></h3>'\n",
    "\n",
    "time = re.findall(timePattern, text)\n",
    "time = [''.join(i) for i in time]\n",
    "location = re.findall(locationPattern, text)\n",
    "title = re.findall(titlePattern, text)\n",
    "\n",
    "events = [event(title[i], time[i], location[i]) for i in range(len(title))]\n",
    "\n",
    "for i in events:\n",
    "    print (30*'-')\n",
    "    print (i)\n",
    "    print ('    Time    :  %s' %i.time)\n",
    "    print ('    Location: %s' %i.location)\n"
   ]
  },
  {
   "cell_type": "code",
   "execution_count": 243,
   "metadata": {
    "collapsed": false
   },
   "outputs": [
    {
     "name": "stdout",
     "output_type": "stream",
     "text": [
      "python: can't open file 'script/event.py': [Errno 2] No such file or directory\r\n"
     ]
    }
   ],
   "source": [
    "!python script/event.py\n"
   ]
  },
  {
   "cell_type": "markdown",
   "metadata": {},
   "source": []
  },
  {
   "cell_type": "markdown",
   "metadata": {},
   "source": [
    "<code>\n",
    "Identifiers:\n",
    "\n",
    "\\d = any number\n",
    "\\D = anything but a number\n",
    "\\s = space\n",
    "\\S = anything but a space\n",
    "\\w = any letter\n",
    "\\W = anything but a letter\n",
    ". = any character, except for a new line\n",
    "\\b = space around whole words\n",
    "\\. = period. must use backslash, because . normally means any character.\n",
    "\n",
    "Modifiers:\n",
    "\n",
    "{1,3} = for digits, u expect 1-3 counts of digits, or \"places\"\n",
    "\\+ = match 1 or more\n",
    "? = match 0 or 1 repetitions.\n",
    "\\* = match 0 or MORE repetitions\n",
    "$ = matches at the end of string\n",
    "^ = matches start of a string\n",
    "| = matches either/or. Example x|y = will match either x or y\n",
    "[] = range, or \"variance\"\n",
    "{x} = expect to see this amount of the preceding .\n",
    "{x,y} = expect to see this x-y amounts of the precedng \n",
    "\n",
    "White Space Charts:\n",
    "\n",
    "\\n = new line\n",
    "\\s = space\n",
    "\\t = tab\n",
    "\\e = escape\n",
    "\\f = form feed\n",
    "\\r = carriage return\n",
    "\n",
    "Characters to REMEMBER TO ESCAPE IF USED!\n",
    "\n",
    ". + * ? [ ] $ ^ ( ) { } | \\\n",
    "\n",
    "Brackets:\n",
    "\n",
    "[] = quant[ia]tative = will find either quantitative, or quantatative.\n",
    "[a-z] = return any lowercase letter a-z\n",
    "[1-5a-qA-Z] = return all numbers 1-5, lowercase letters a-q and uppercase A-Z\n",
    "</code>"
   ]
  },
  {
   "cell_type": "markdown",
   "metadata": {},
   "source": [
    "The code:\n",
    "\n",
    "So, we have the string we intend to search. We see that we have ages that are integers 2-3 numbers in length. We could also expect digits that are just 1, under 10 years old. We probably wont be seeing any digits that are 4 in length, unless we're talking about biblical times or something.\n"
   ]
  },
  {
   "cell_type": "code",
   "execution_count": null,
   "metadata": {
    "collapsed": true
   },
   "outputs": [],
   "source": [
    "import re\n",
    "\n",
    "exampleString = ''' \n",
    "Jessica is 15 years old, and Daniel is 27 years old.\n",
    "Edward is 97 years old, and his grandfather, Oscar, is 102. \n",
    "'''"
   ]
  },
  {
   "cell_type": "markdown",
   "metadata": {},
   "source": [
    "Now we define the regular expression, using a simple findall method to find all examples of the pattern we specify as the first parameter within the string we specify as the second parameter.\n"
   ]
  },
  {
   "cell_type": "code",
   "execution_count": null,
   "metadata": {
    "collapsed": false
   },
   "outputs": [],
   "source": [
    "ages = re.findall(r'\\d{1,3}',exampleString)\n",
    "names = re.findall(r'[A-Z][a-z]*',exampleString)\n",
    "\n",
    "print(ages)\n",
    "print(names)"
   ]
  },
  {
   "cell_type": "code",
   "execution_count": null,
   "metadata": {
    "collapsed": false
   },
   "outputs": [],
   "source": [
    "words = re.findall(r'[a-z]',exampleString)\n",
    "print(words)"
   ]
  },
  {
   "cell_type": "code",
   "execution_count": null,
   "metadata": {
    "collapsed": false
   },
   "outputs": [],
   "source": [
    "words = re.findall(r'[a-z]*',exampleString)\n",
    "print(words)"
   ]
  },
  {
   "cell_type": "code",
   "execution_count": null,
   "metadata": {
    "collapsed": false
   },
   "outputs": [],
   "source": [
    "words = re.findall(r'[a-z]+',exampleString)\n",
    "print(words)"
   ]
  },
  {
   "cell_type": "code",
   "execution_count": null,
   "metadata": {
    "collapsed": false
   },
   "outputs": [],
   "source": [
    "words = re.findall(r'[a-z]?',exampleString)\n",
    "print(words)"
   ]
  },
  {
   "cell_type": "code",
   "execution_count": null,
   "metadata": {
    "collapsed": false
   },
   "outputs": [],
   "source": [
    "words = re.findall(r'[A-Z]+[a-z]+',exampleString)\n",
    "print(words)"
   ]
  },
  {
   "cell_type": "code",
   "execution_count": null,
   "metadata": {
    "collapsed": false
   },
   "outputs": [],
   "source": [
    "words = re.findall(r'[A-Z][a-z]+',exampleString)\n",
    "print(words)"
   ]
  },
  {
   "cell_type": "code",
   "execution_count": null,
   "metadata": {
    "collapsed": false
   },
   "outputs": [],
   "source": [
    "words = re.findall(r'[A-Z]?[a-z]+',exampleString)\n",
    "print(words)"
   ]
  },
  {
   "cell_type": "code",
   "execution_count": 26,
   "metadata": {
    "collapsed": true
   },
   "outputs": [],
   "source": [
    "import re\n",
    "\n",
    "exampleString = ''' AAA I think.\n",
    "Jessica is 15 years old, and Daniel is 27 years old.\n",
    "Edward is 97 years old, and his grandfather, Oscar, is 102. \n",
    "'''"
   ]
  },
  {
   "cell_type": "code",
   "execution_count": 27,
   "metadata": {
    "collapsed": false
   },
   "outputs": [
    {
     "name": "stdout",
     "output_type": "stream",
     "text": [
      "['think', 'Jessica', 'is', 'years', 'old', 'and', 'Daniel', 'is', 'years', 'old', 'Edward', 'is', 'years', 'old', 'and', 'his', 'grandfather', 'Oscar', 'is']\n"
     ]
    }
   ],
   "source": [
    "words = re.findall(r'[A-Z]?[a-z]+',exampleString)\n",
    "print(words)"
   ]
  },
  {
   "cell_type": "code",
   "execution_count": null,
   "metadata": {
    "collapsed": false
   },
   "outputs": [],
   "source": [
    "words = re.findall(r'[A-Z]{0,4}[a-z]*',exampleString)\n",
    "print(words)"
   ]
  },
  {
   "cell_type": "code",
   "execution_count": 28,
   "metadata": {
    "collapsed": false
   },
   "outputs": [
    {
     "name": "stdout",
     "output_type": "stream",
     "text": [
      "['AAA', 'I', 'think', 'Jessica', 'is', 'years', 'old', 'and', 'Daniel', 'is', 'years', 'old', 'Edward', 'is', 'years', 'old', 'and', 'his', 'grandfather', 'Oscar', 'is']\n"
     ]
    }
   ],
   "source": [
    "words = re.findall(r'[A-Za-z]+',exampleString)\n",
    "print(words)"
   ]
  },
  {
   "cell_type": "code",
   "execution_count": null,
   "metadata": {
    "collapsed": false
   },
   "outputs": [],
   "source": [
    "words = re.findall(r'\\w',exampleString)\n",
    "print(words)"
   ]
  },
  {
   "cell_type": "code",
   "execution_count": null,
   "metadata": {
    "collapsed": false
   },
   "outputs": [],
   "source": [
    "words = re.findall(r'\\w+',exampleString)\n",
    "print(words)"
   ]
  },
  {
   "cell_type": "code",
   "execution_count": null,
   "metadata": {
    "collapsed": false
   },
   "outputs": [],
   "source": [
    "words = re.findall(r'[A-Z]{3,3}',exampleString)\n",
    "print(words)"
   ]
  },
  {
   "cell_type": "code",
   "execution_count": null,
   "metadata": {
    "collapsed": false
   },
   "outputs": [],
   "source": [
    "words = re.findall(r'[A-Z]{1,3}',exampleString)\n",
    "print(words)"
   ]
  },
  {
   "cell_type": "code",
   "execution_count": null,
   "metadata": {
    "collapsed": false
   },
   "outputs": [],
   "source": [
    "words = re.findall(r'[A-Z]{1,3}[a-z]*',exampleString)\n",
    "print(words)"
   ]
  },
  {
   "cell_type": "code",
   "execution_count": null,
   "metadata": {
    "collapsed": false
   },
   "outputs": [],
   "source": [
    "words = re.findall(r'^[a-z]',exampleString)\n",
    "print(words)"
   ]
  },
  {
   "cell_type": "code",
   "execution_count": null,
   "metadata": {
    "collapsed": false
   },
   "outputs": [],
   "source": [
    "words = re.split(r'\\n',exampleString)\n",
    "print(words)"
   ]
  },
  {
   "cell_type": "code",
   "execution_count": null,
   "metadata": {
    "collapsed": false
   },
   "outputs": [],
   "source": [
    "words = re.split(r'\\.',exampleString)\n",
    "print(words)"
   ]
  },
  {
   "cell_type": "code",
   "execution_count": null,
   "metadata": {
    "collapsed": false
   },
   "outputs": [],
   "source": []
  },
  {
   "cell_type": "code",
   "execution_count": null,
   "metadata": {
    "collapsed": false
   },
   "outputs": [],
   "source": [
    "words = re.findall(r'\\b[a-z]+',exampleString)\n",
    "print(words)"
   ]
  },
  {
   "cell_type": "code",
   "execution_count": null,
   "metadata": {
    "collapsed": false
   },
   "outputs": [],
   "source": [
    "words = re.findall(r'\\w',exampleString)\n",
    "print(words)"
   ]
  },
  {
   "cell_type": "code",
   "execution_count": null,
   "metadata": {
    "collapsed": false
   },
   "outputs": [],
   "source": [
    "words = re.findall(r'\\b\\w',exampleString)\n",
    "print(words)"
   ]
  },
  {
   "cell_type": "code",
   "execution_count": null,
   "metadata": {
    "collapsed": false
   },
   "outputs": [],
   "source": [
    "words = re.findall(r'\\b\\w+',exampleString)\n",
    "print(words)"
   ]
  },
  {
   "cell_type": "code",
   "execution_count": null,
   "metadata": {
    "collapsed": false
   },
   "outputs": [],
   "source": [
    "exampleString2='ksjhfgjkshdfgjhksd <code> asFLKJASKLJFHKASJD</code> shjfjhsdGFJHKSd'\n",
    "\n",
    "words = re.findall(r'<code>.*</code>',exampleString2)\n",
    "print(words)"
   ]
  },
  {
   "cell_type": "code",
   "execution_count": null,
   "metadata": {
    "collapsed": false
   },
   "outputs": [],
   "source": [
    "words = re.findall(r'</code>',exampleString2)\n",
    "print(words)"
   ]
  },
  {
   "cell_type": "code",
   "execution_count": null,
   "metadata": {
    "collapsed": false
   },
   "outputs": [],
   "source": [
    "words = re.findall(r'(code>)',exampleString2)\n",
    "print(words)"
   ]
  },
  {
   "cell_type": "code",
   "execution_count": null,
   "metadata": {
    "collapsed": false
   },
   "outputs": [],
   "source": [
    "words = re.findall(r'(\\w*a)',exampleString,re.M)\n",
    "print(words)"
   ]
  },
  {
   "cell_type": "code",
   "execution_count": null,
   "metadata": {
    "collapsed": false
   },
   "outputs": [],
   "source": [
    "words = re.findall(r'(\\w*d\\b)',exampleString,re.M)\n",
    "print(words)"
   ]
  },
  {
   "cell_type": "code",
   "execution_count": null,
   "metadata": {
    "collapsed": false
   },
   "outputs": [],
   "source": [
    "words = re.findall(r'\\b[O|o]\\w*',exampleString,re.M)\n",
    "print(words)"
   ]
  },
  {
   "cell_type": "code",
   "execution_count": null,
   "metadata": {
    "collapsed": false
   },
   "outputs": [],
   "source": [
    "words = re.findall(r'\\b[A|a]\\w*',exampleString,re.M)\n",
    "print(words)"
   ]
  },
  {
   "cell_type": "code",
   "execution_count": null,
   "metadata": {
    "collapsed": false
   },
   "outputs": [],
   "source": [
    "\n",
    "words = re.findall(r'^J\\w+',exampleString,re.M)\n",
    "print(words)"
   ]
  },
  {
   "cell_type": "code",
   "execution_count": null,
   "metadata": {
    "collapsed": false
   },
   "outputs": [],
   "source": [
    "words = re.findall(r'\\w*[\\.|,]',exampleString,re.M)\n",
    "print(words)"
   ]
  },
  {
   "cell_type": "code",
   "execution_count": null,
   "metadata": {
    "collapsed": false
   },
   "outputs": [],
   "source": [
    "exampleString"
   ]
  },
  {
   "cell_type": "code",
   "execution_count": null,
   "metadata": {
    "collapsed": false
   },
   "outputs": [],
   "source": [
    "words = re.findall(r'^[J]\\w+',exampleString,re.M)\n",
    "print(words)"
   ]
  },
  {
   "cell_type": "code",
   "execution_count": null,
   "metadata": {
    "collapsed": false
   },
   "outputs": [],
   "source": [
    "words = re.findall(r'^[J|E]\\w+',exampleString,re.M)\n",
    "print(words)"
   ]
  },
  {
   "cell_type": "code",
   "execution_count": null,
   "metadata": {
    "collapsed": false
   },
   "outputs": [],
   "source": [
    "words = re.findall(r'^[J|D]\\w+',exampleString,re.M)\n",
    "\n",
    "print(words)"
   ]
  },
  {
   "cell_type": "markdown",
   "metadata": {},
   "source": [
    "<code>\n",
    "Pattern\tDescription\n",
    "^\tMatches beginning of line.\n",
    "$\tMatches end of line.\n",
    ".\tMatches any single character except newline. Using m option allows it to match newline as well.\n",
    "[...]\tMatches any single character in brackets.\n",
    "[^...]\tMatches any single character not in brackets\n",
    "re*\tMatches 0 or more occurrences of preceding expression.\n",
    "re+\tMatches 1 or more occurrence of preceding expression.\n",
    "re?\tMatches 0 or 1 occurrence of preceding expression.\n",
    "re{ n}\tMatches exactly n number of occurrences of preceding expression.\n",
    "re{ n,}\tMatches n or more occurrences of preceding expression.\n",
    "re{ n, m}\tMatches at least n and at most m occurrences of preceding expression.\n",
    "a| b\tMatches either a or b.\n",
    "(re)\tGroups regular expressions and remembers matched text.\n",
    "(?imx)\tTemporarily toggles on i, m, or x options within a regular expression. If in parentheses, only that area is affected.\n",
    "(?-imx)\tTemporarily toggles off i, m, or x options within a regular expression. If in parentheses, only that area is affected.\n",
    "(?: re)\tGroups regular expressions without remembering matched text.\n",
    "(?imx: re)\tTemporarily toggles on i, m, or x options within parentheses.\n",
    "(?-imx: re)\tTemporarily toggles off i, m, or x options within parentheses.\n",
    "(?#...)\tComment.\n",
    "(?= re)\tSpecifies position using a pattern. Doesn't have a range.\n",
    "(?! re)\tSpecifies position using pattern negation. Doesn't have a range.\n",
    "(?> re)\tMatches independent pattern without backtracking.\n",
    "\\w\tMatches word characters.\n",
    "\\W\tMatches nonword characters.\n",
    "\\s\tMatches whitespace. Equivalent to [\\t\\n\\r\\f].\n",
    "\\S\tMatches nonwhitespace.\n",
    "\\d\tMatches digits. Equivalent to [0-9].\n",
    "\\D\tMatches nondigits.\n",
    "\\A\tMatches beginning of string.\n",
    "\\Z\tMatches end of string. If a newline exists, it matches just before newline.\n",
    "\\z\tMatches end of string.\n",
    "\\G\tMatches point where last match finished.\n",
    "\\b\tMatches word boundaries when outside brackets. Matches backspace (0x08) when inside brackets.\n",
    "\\B\tMatches nonword boundaries.\n",
    "\\n, \\t, etc.\tMatches newlines, carriage returns, tabs, etc.\n",
    "\\1...\\9\tMatches nth grouped subexpression.\n",
    "\\10\tMatches nth grouped subexpression if it matched already. Otherwise refers to the octal representation of a character code.\n"
   ]
  },
  {
   "cell_type": "code",
   "execution_count": 25,
   "metadata": {
    "collapsed": false
   },
   "outputs": [
    {
     "ename": "NameError",
     "evalue": "name 'exampleString' is not defined",
     "output_type": "error",
     "traceback": [
      "\u001b[0;31m---------------------------------------------------------------------------\u001b[0m",
      "\u001b[0;31mNameError\u001b[0m                                 Traceback (most recent call last)",
      "\u001b[0;32m<ipython-input-25-069c0991182e>\u001b[0m in \u001b[0;36m<module>\u001b[0;34m()\u001b[0m\n\u001b[0;32m----> 1\u001b[0;31m \u001b[0mwords\u001b[0m \u001b[0;34m=\u001b[0m \u001b[0mre\u001b[0m\u001b[0;34m.\u001b[0m\u001b[0mfindall\u001b[0m\u001b[0;34m(\u001b[0m\u001b[0;34mr'\\b[J|D]\\w+'\u001b[0m\u001b[0;34m,\u001b[0m\u001b[0mexampleString\u001b[0m\u001b[0;34m,\u001b[0m\u001b[0mre\u001b[0m\u001b[0;34m.\u001b[0m\u001b[0mM\u001b[0m\u001b[0;34m)\u001b[0m\u001b[0;34m\u001b[0m\u001b[0m\n\u001b[0m\u001b[1;32m      2\u001b[0m \u001b[0;32mprint\u001b[0m\u001b[0;34m(\u001b[0m\u001b[0mwords\u001b[0m\u001b[0;34m)\u001b[0m\u001b[0;34m\u001b[0m\u001b[0m\n",
      "\u001b[0;31mNameError\u001b[0m: name 'exampleString' is not defined"
     ]
    }
   ],
   "source": [
    "words = re.findall(r'\\b[J|D]\\w+',exampleString,re.M)\n",
    "print(words)"
   ]
  },
  {
   "cell_type": "code",
   "execution_count": 29,
   "metadata": {
    "collapsed": false
   },
   "outputs": [],
   "source": [
    "exampleString3='''hi Grok\n",
    "date hey\n",
    "hello day\n",
    "ho ho ho holly'''"
   ]
  },
  {
   "cell_type": "code",
   "execution_count": 30,
   "metadata": {
    "collapsed": false
   },
   "outputs": [
    {
     "name": "stdout",
     "output_type": "stream",
     "text": [
      "['hi Grok', 'date hey', 'hello day', 'ho ho ho holly']\n"
     ]
    }
   ],
   "source": [
    "words = re.findall(r'^.*',exampleString3,re.M)\n",
    "print(words)"
   ]
  },
  {
   "cell_type": "code",
   "execution_count": 31,
   "metadata": {
    "collapsed": false
   },
   "outputs": [
    {
     "name": "stdout",
     "output_type": "stream",
     "text": [
      "['hi Grok']\n"
     ]
    }
   ],
   "source": [
    "words = re.findall(r'^.*',exampleString3)\n",
    "print(words)"
   ]
  },
  {
   "cell_type": "code",
   "execution_count": 32,
   "metadata": {
    "collapsed": false
   },
   "outputs": [
    {
     "name": "stdout",
     "output_type": "stream",
     "text": [
      "['y', 'y', 'y']\n"
     ]
    }
   ],
   "source": [
    "words = re.findall(r'y$',exampleString3,re.M)\n",
    "print(words)"
   ]
  },
  {
   "cell_type": "code",
   "execution_count": 33,
   "metadata": {
    "collapsed": false
   },
   "outputs": [
    {
     "name": "stdout",
     "output_type": "stream",
     "text": [
      "['hey', 'day', 'holly']\n"
     ]
    }
   ],
   "source": [
    "words = re.findall(r'\\w*y$',exampleString3,re.M)\n",
    "print(words)"
   ]
  },
  {
   "cell_type": "code",
   "execution_count": 34,
   "metadata": {
    "collapsed": false
   },
   "outputs": [
    {
     "name": "stdout",
     "output_type": "stream",
     "text": [
      "['hi Grok', 'hey', 'hello day', 'ho ho ho holly']\n"
     ]
    }
   ],
   "source": [
    "words = re.findall(r'\\bh.*',exampleString3,re.M)\n",
    "print(words)"
   ]
  },
  {
   "cell_type": "code",
   "execution_count": null,
   "metadata": {
    "collapsed": false
   },
   "outputs": [],
   "source": [
    "words = re.findall(r'\\w+',exampleString3,re.M)\n",
    "print(words)"
   ]
  },
  {
   "cell_type": "code",
   "execution_count": null,
   "metadata": {
    "collapsed": false
   },
   "outputs": [],
   "source": [
    "words = re.findall(r'\\w*[aeiou][y]\\b',exampleString3,re.M)\n",
    "print(words)"
   ]
  },
  {
   "cell_type": "code",
   "execution_count": null,
   "metadata": {
    "collapsed": true
   },
   "outputs": [],
   "source": []
  }
 ],
 "metadata": {
  "kernelspec": {
   "display_name": "Python 2",
   "language": "python",
   "name": "python2"
  },
  "language_info": {
   "codemirror_mode": {
    "name": "ipython",
    "version": 2
   },
   "file_extension": ".py",
   "mimetype": "text/x-python",
   "name": "python",
   "nbconvert_exporter": "python",
   "pygments_lexer": "ipython2",
   "version": "2.7.13"
  }
 },
 "nbformat": 4,
 "nbformat_minor": 0
}
